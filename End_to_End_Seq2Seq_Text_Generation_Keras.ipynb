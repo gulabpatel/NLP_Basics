{
  "nbformat": 4,
  "nbformat_minor": 0,
  "metadata": {
    "accelerator": "TPU",
    "colab": {
      "name": "End_to_End_Seq2Seq_Text_Generation_Keras.ipynb",
      "provenance": [],
      "collapsed_sections": []
    },
    "kernelspec": {
      "display_name": "Python 3",
      "language": "python",
      "name": "python3"
    },
    "language_info": {
      "codemirror_mode": {
        "name": "ipython",
        "version": 3
      },
      "file_extension": ".py",
      "mimetype": "text/x-python",
      "name": "python",
      "nbconvert_exporter": "python",
      "pygments_lexer": "ipython3",
      "version": "3.6.8"
    }
  },
  "cells": [
    {
      "cell_type": "markdown",
      "metadata": {
        "id": "fv51nGNYdo5X"
      },
      "source": [
        "#<font color='red'>  Seq2Seq Model for Text Generation</font>"
      ]
    },
    {
      "cell_type": "markdown",
      "metadata": {
        "id": "aiAqGuQwA6S8"
      },
      "source": [
        "## 1. Import a. Keras model - Sequential, b. Keras layers - Dense and SimpleRNN."
      ]
    },
    {
      "cell_type": "code",
      "metadata": {
        "id": "MVPMJ1IW-_-M"
      },
      "source": [
        "from numpy import array\n",
        "from pickle import dump \n",
        "from keras.utils import to_categorical\n",
        "from keras.utils.vis_utils import plot_model\n",
        "from keras.preprocessing.sequence import pad_sequences     \n",
        "from keras.models import Sequential\n",
        "from keras.layers import Dense\n",
        "from keras.layers import SimpleRNN, LSTM, GRU"
      ],
      "execution_count": 2,
      "outputs": []
    },
    {
      "cell_type": "markdown",
      "metadata": {
        "id": "yNY_dOWSA6TC"
      },
      "source": [
        "# 2. Load the document in the memory."
      ]
    },
    {
      "cell_type": "code",
      "metadata": {
        "colab": {
          "base_uri": "https://localhost:8080/"
        },
        "id": "Jl4iPCNyGBuN",
        "outputId": "a98389e3-1275-4425-cdb5-50db375a395a"
      },
      "source": [
        "from google.colab import drive\n",
        "drive.mount('/content/drive')"
      ],
      "execution_count": 1,
      "outputs": [
        {
          "output_type": "stream",
          "text": [
            "Mounted at /content/drive\n"
          ],
          "name": "stdout"
        }
      ]
    },
    {
      "cell_type": "code",
      "metadata": {
        "colab": {
          "base_uri": "https://localhost:8080/"
        },
        "id": "dftMaqJP-_-M",
        "outputId": "b97c8604-2594-40d8-a771-e8ea6768cd4a"
      },
      "source": [
        "# load doc into memory\n",
        "def load_doc(filename):\n",
        "    # open the file as read only\n",
        "    file = open(filename, 'r')\n",
        "    # read all text\n",
        "    text = file.read()\n",
        "    # close the file\n",
        "    file.close()\n",
        "    return text\n",
        "\n",
        "# load text\n",
        "### insert our code here -- call load_doc() function to load the contents of 'shakespeare.txt' into 'raw_text'\n",
        "raw_text = load_doc('/content/drive/MyDrive/IITR_CV/Day_3_seq2seq/input.txt')\n",
        "\n",
        "### insert our code here -- print 'raw_text'\n",
        "print(raw_text)"
      ],
      "execution_count": 3,
      "outputs": [
        {
          "output_type": "stream",
          "text": [
            "From fairest creatures we desire increase,\n",
            "That thereby beauty's rose might never die,\n",
            "But as the riper should by time decease,\n",
            "His tender heir might bear his memory:\n",
            "But thou contracted to thine own bright eyes,\n",
            "Feed'st thy light's flame with self-substantial fuel,\n",
            "Making a famine where abundance lies,\n",
            "Thy self thy foe, to thy sweet self too cruel:\n",
            "Thou that art now the world's fresh ornament,\n",
            "And only herald to the gaudy spring,\n",
            "Within thine own bud buriest thy content,\n",
            "And tender churl mak'st waste in niggarding:\n",
            "Pity the world, or else this glutton be,\n",
            "To eat the world's due, by the grave and thee.\n"
          ],
          "name": "stdout"
        }
      ]
    },
    {
      "cell_type": "markdown",
      "metadata": {
        "id": "mik8tjNwA6TD"
      },
      "source": [
        "# 3. Clean the tokens, print and observe them."
      ]
    },
    {
      "cell_type": "code",
      "metadata": {
        "colab": {
          "base_uri": "https://localhost:8080/"
        },
        "id": "9qhiu7-g-_-M",
        "outputId": "ddaab7c3-ab9f-4db8-bdb3-c594bc064383"
      },
      "source": [
        "# clean\n",
        "### insert our code here -- split the text and save tokens\n",
        "tokens = raw_text.split()\n",
        "print (tokens)"
      ],
      "execution_count": 4,
      "outputs": [
        {
          "output_type": "stream",
          "text": [
            "['From', 'fairest', 'creatures', 'we', 'desire', 'increase,', 'That', 'thereby', \"beauty's\", 'rose', 'might', 'never', 'die,', 'But', 'as', 'the', 'riper', 'should', 'by', 'time', 'decease,', 'His', 'tender', 'heir', 'might', 'bear', 'his', 'memory:', 'But', 'thou', 'contracted', 'to', 'thine', 'own', 'bright', 'eyes,', \"Feed'st\", 'thy', \"light's\", 'flame', 'with', 'self-substantial', 'fuel,', 'Making', 'a', 'famine', 'where', 'abundance', 'lies,', 'Thy', 'self', 'thy', 'foe,', 'to', 'thy', 'sweet', 'self', 'too', 'cruel:', 'Thou', 'that', 'art', 'now', 'the', \"world's\", 'fresh', 'ornament,', 'And', 'only', 'herald', 'to', 'the', 'gaudy', 'spring,', 'Within', 'thine', 'own', 'bud', 'buriest', 'thy', 'content,', 'And', 'tender', 'churl', \"mak'st\", 'waste', 'in', 'niggarding:', 'Pity', 'the', 'world,', 'or', 'else', 'this', 'glutton', 'be,', 'To', 'eat', 'the', \"world's\", 'due,', 'by', 'the', 'grave', 'and', 'thee.']\n"
          ],
          "name": "stdout"
        }
      ]
    },
    {
      "cell_type": "code",
      "metadata": {
        "colab": {
          "base_uri": "https://localhost:8080/"
        },
        "id": "GGKwBFm2Hu-b",
        "outputId": "08fb773d-ae89-47c2-e91f-a1e00b5833b8"
      },
      "source": [
        "### insert our code here -- print 'raw_text' after cleaning\r\n",
        "raw_text = ' '.join(tokens)\r\n",
        "print(raw_text)"
      ],
      "execution_count": 5,
      "outputs": [
        {
          "output_type": "stream",
          "text": [
            "From fairest creatures we desire increase, That thereby beauty's rose might never die, But as the riper should by time decease, His tender heir might bear his memory: But thou contracted to thine own bright eyes, Feed'st thy light's flame with self-substantial fuel, Making a famine where abundance lies, Thy self thy foe, to thy sweet self too cruel: Thou that art now the world's fresh ornament, And only herald to the gaudy spring, Within thine own bud buriest thy content, And tender churl mak'st waste in niggarding: Pity the world, or else this glutton be, To eat the world's due, by the grave and thee.\n"
          ],
          "name": "stdout"
        }
      ]
    },
    {
      "cell_type": "markdown",
      "metadata": {
        "id": "UIbHphWQA6TF"
      },
      "source": [
        "# 4. Print and save the character sequences into a .txt file."
      ]
    },
    {
      "cell_type": "code",
      "metadata": {
        "colab": {
          "base_uri": "https://localhost:8080/"
        },
        "id": "HkHgfHj2-_-M",
        "outputId": "eee0ae41-0365-4411-b221-16043bc74692"
      },
      "source": [
        "#organize into sequences of characters\n",
        "length = 20\n",
        "sequences = list()\n",
        "\n",
        "for i in range(length, len(raw_text)):\n",
        "    # select sequence of tokens\n",
        "    seq = raw_text[i-length:i]\n",
        "    # store\n",
        "    sequences.append(seq)\n",
        "\n",
        "print('Total Sequences: %d' % len(sequences)) \n",
        "#Total Sequences: 589\n",
        "\n",
        "### insert our code here -- print sequences\n",
        "print(sequences)   \n",
        "\n",
        "# save tokens to file, one dialog per line\n",
        "def save_doc(lines, filename):\n",
        "    data = '\\n'.join(lines)\n",
        "    file = open(filename, 'w')\n",
        "    file.write(data)\n",
        "    file.close()    \n",
        "\n",
        "# save sequences to file\n",
        "out_filename = 'char_sequences.txt'  \n",
        "\n",
        "### insert our code here -- save the contents of handle 'param1' into the file named 'param2' using save_doc(param1, param2) function\n",
        "save_doc(sequences, out_filename)\n",
        "\n",
        "###Open and check the file."
      ],
      "execution_count": 6,
      "outputs": [
        {
          "output_type": "stream",
          "text": [
            "Total Sequences: 589\n",
            "['From fairest creatur', 'rom fairest creature', 'om fairest creatures', 'm fairest creatures ', ' fairest creatures w', 'fairest creatures we', 'airest creatures we ', 'irest creatures we d', 'rest creatures we de', 'est creatures we des', 'st creatures we desi', 't creatures we desir', ' creatures we desire', 'creatures we desire ', 'reatures we desire i', 'eatures we desire in', 'atures we desire inc', 'tures we desire incr', 'ures we desire incre', 'res we desire increa', 'es we desire increas', 's we desire increase', ' we desire increase,', 'we desire increase, ', 'e desire increase, T', ' desire increase, Th', 'desire increase, Tha', 'esire increase, That', 'sire increase, That ', 'ire increase, That t', 're increase, That th', 'e increase, That the', ' increase, That ther', 'increase, That there', 'ncrease, That thereb', 'crease, That thereby', 'rease, That thereby ', 'ease, That thereby b', 'ase, That thereby be', 'se, That thereby bea', 'e, That thereby beau', ', That thereby beaut', ' That thereby beauty', \"That thereby beauty'\", \"hat thereby beauty's\", \"at thereby beauty's \", \"t thereby beauty's r\", \" thereby beauty's ro\", \"thereby beauty's ros\", \"hereby beauty's rose\", \"ereby beauty's rose \", \"reby beauty's rose m\", \"eby beauty's rose mi\", \"by beauty's rose mig\", \"y beauty's rose migh\", \" beauty's rose might\", \"beauty's rose might \", \"eauty's rose might n\", \"auty's rose might ne\", \"uty's rose might nev\", \"ty's rose might neve\", \"y's rose might never\", \"'s rose might never \", 's rose might never d', ' rose might never di', 'rose might never die', 'ose might never die,', 'se might never die, ', 'e might never die, B', ' might never die, Bu', 'might never die, But', 'ight never die, But ', 'ght never die, But a', 'ht never die, But as', 't never die, But as ', ' never die, But as t', 'never die, But as th', 'ever die, But as the', 'ver die, But as the ', 'er die, But as the r', 'r die, But as the ri', ' die, But as the rip', 'die, But as the ripe', 'ie, But as the riper', 'e, But as the riper ', ', But as the riper s', ' But as the riper sh', 'But as the riper sho', 'ut as the riper shou', 't as the riper shoul', ' as the riper should', 'as the riper should ', 's the riper should b', ' the riper should by', 'the riper should by ', 'he riper should by t', 'e riper should by ti', ' riper should by tim', 'riper should by time', 'iper should by time ', 'per should by time d', 'er should by time de', 'r should by time dec', ' should by time dece', 'should by time decea', 'hould by time deceas', 'ould by time decease', 'uld by time decease,', 'ld by time decease, ', 'd by time decease, H', ' by time decease, Hi', 'by time decease, His', 'y time decease, His ', ' time decease, His t', 'time decease, His te', 'ime decease, His ten', 'me decease, His tend', 'e decease, His tende', ' decease, His tender', 'decease, His tender ', 'ecease, His tender h', 'cease, His tender he', 'ease, His tender hei', 'ase, His tender heir', 'se, His tender heir ', 'e, His tender heir m', ', His tender heir mi', ' His tender heir mig', 'His tender heir migh', 'is tender heir might', 's tender heir might ', ' tender heir might b', 'tender heir might be', 'ender heir might bea', 'nder heir might bear', 'der heir might bear ', 'er heir might bear h', 'r heir might bear hi', ' heir might bear his', 'heir might bear his ', 'eir might bear his m', 'ir might bear his me', 'r might bear his mem', ' might bear his memo', 'might bear his memor', 'ight bear his memory', 'ght bear his memory:', 'ht bear his memory: ', 't bear his memory: B', ' bear his memory: Bu', 'bear his memory: But', 'ear his memory: But ', 'ar his memory: But t', 'r his memory: But th', ' his memory: But tho', 'his memory: But thou', 'is memory: But thou ', 's memory: But thou c', ' memory: But thou co', 'memory: But thou con', 'emory: But thou cont', 'mory: But thou contr', 'ory: But thou contra', 'ry: But thou contrac', 'y: But thou contract', ': But thou contracte', ' But thou contracted', 'But thou contracted ', 'ut thou contracted t', 't thou contracted to', ' thou contracted to ', 'thou contracted to t', 'hou contracted to th', 'ou contracted to thi', 'u contracted to thin', ' contracted to thine', 'contracted to thine ', 'ontracted to thine o', 'ntracted to thine ow', 'tracted to thine own', 'racted to thine own ', 'acted to thine own b', 'cted to thine own br', 'ted to thine own bri', 'ed to thine own brig', 'd to thine own brigh', ' to thine own bright', 'to thine own bright ', 'o thine own bright e', ' thine own bright ey', 'thine own bright eye', 'hine own bright eyes', 'ine own bright eyes,', 'ne own bright eyes, ', 'e own bright eyes, F', ' own bright eyes, Fe', 'own bright eyes, Fee', 'wn bright eyes, Feed', \"n bright eyes, Feed'\", \" bright eyes, Feed's\", \"bright eyes, Feed'st\", \"right eyes, Feed'st \", \"ight eyes, Feed'st t\", \"ght eyes, Feed'st th\", \"ht eyes, Feed'st thy\", \"t eyes, Feed'st thy \", \" eyes, Feed'st thy l\", \"eyes, Feed'st thy li\", \"yes, Feed'st thy lig\", \"es, Feed'st thy ligh\", \"s, Feed'st thy light\", \", Feed'st thy light'\", \" Feed'st thy light's\", \"Feed'st thy light's \", \"eed'st thy light's f\", \"ed'st thy light's fl\", \"d'st thy light's fla\", \"'st thy light's flam\", \"st thy light's flame\", \"t thy light's flame \", \" thy light's flame w\", \"thy light's flame wi\", \"hy light's flame wit\", \"y light's flame with\", \" light's flame with \", \"light's flame with s\", \"ight's flame with se\", \"ght's flame with sel\", \"ht's flame with self\", \"t's flame with self-\", \"'s flame with self-s\", 's flame with self-su', ' flame with self-sub', 'flame with self-subs', 'lame with self-subst', 'ame with self-substa', 'me with self-substan', 'e with self-substant', ' with self-substanti', 'with self-substantia', 'ith self-substantial', 'th self-substantial ', 'h self-substantial f', ' self-substantial fu', 'self-substantial fue', 'elf-substantial fuel', 'lf-substantial fuel,', 'f-substantial fuel, ', '-substantial fuel, M', 'substantial fuel, Ma', 'ubstantial fuel, Mak', 'bstantial fuel, Maki', 'stantial fuel, Makin', 'tantial fuel, Making', 'antial fuel, Making ', 'ntial fuel, Making a', 'tial fuel, Making a ', 'ial fuel, Making a f', 'al fuel, Making a fa', 'l fuel, Making a fam', ' fuel, Making a fami', 'fuel, Making a famin', 'uel, Making a famine', 'el, Making a famine ', 'l, Making a famine w', ', Making a famine wh', ' Making a famine whe', 'Making a famine wher', 'aking a famine where', 'king a famine where ', 'ing a famine where a', 'ng a famine where ab', 'g a famine where abu', ' a famine where abun', 'a famine where abund', ' famine where abunda', 'famine where abundan', 'amine where abundanc', 'mine where abundance', 'ine where abundance ', 'ne where abundance l', 'e where abundance li', ' where abundance lie', 'where abundance lies', 'here abundance lies,', 'ere abundance lies, ', 're abundance lies, T', 'e abundance lies, Th', ' abundance lies, Thy', 'abundance lies, Thy ', 'bundance lies, Thy s', 'undance lies, Thy se', 'ndance lies, Thy sel', 'dance lies, Thy self', 'ance lies, Thy self ', 'nce lies, Thy self t', 'ce lies, Thy self th', 'e lies, Thy self thy', ' lies, Thy self thy ', 'lies, Thy self thy f', 'ies, Thy self thy fo', 'es, Thy self thy foe', 's, Thy self thy foe,', ', Thy self thy foe, ', ' Thy self thy foe, t', 'Thy self thy foe, to', 'hy self thy foe, to ', 'y self thy foe, to t', ' self thy foe, to th', 'self thy foe, to thy', 'elf thy foe, to thy ', 'lf thy foe, to thy s', 'f thy foe, to thy sw', ' thy foe, to thy swe', 'thy foe, to thy swee', 'hy foe, to thy sweet', 'y foe, to thy sweet ', ' foe, to thy sweet s', 'foe, to thy sweet se', 'oe, to thy sweet sel', 'e, to thy sweet self', ', to thy sweet self ', ' to thy sweet self t', 'to thy sweet self to', 'o thy sweet self too', ' thy sweet self too ', 'thy sweet self too c', 'hy sweet self too cr', 'y sweet self too cru', ' sweet self too crue', 'sweet self too cruel', 'weet self too cruel:', 'eet self too cruel: ', 'et self too cruel: T', 't self too cruel: Th', ' self too cruel: Tho', 'self too cruel: Thou', 'elf too cruel: Thou ', 'lf too cruel: Thou t', 'f too cruel: Thou th', ' too cruel: Thou tha', 'too cruel: Thou that', 'oo cruel: Thou that ', 'o cruel: Thou that a', ' cruel: Thou that ar', 'cruel: Thou that art', 'ruel: Thou that art ', 'uel: Thou that art n', 'el: Thou that art no', 'l: Thou that art now', ': Thou that art now ', ' Thou that art now t', 'Thou that art now th', 'hou that art now the', 'ou that art now the ', 'u that art now the w', ' that art now the wo', 'that art now the wor', 'hat art now the worl', 'at art now the world', \"t art now the world'\", \" art now the world's\", \"art now the world's \", \"rt now the world's f\", \"t now the world's fr\", \" now the world's fre\", \"now the world's fres\", \"ow the world's fresh\", \"w the world's fresh \", \" the world's fresh o\", \"the world's fresh or\", \"he world's fresh orn\", \"e world's fresh orna\", \" world's fresh ornam\", \"world's fresh orname\", \"orld's fresh ornamen\", \"rld's fresh ornament\", \"ld's fresh ornament,\", \"d's fresh ornament, \", \"'s fresh ornament, A\", 's fresh ornament, An', ' fresh ornament, And', 'fresh ornament, And ', 'resh ornament, And o', 'esh ornament, And on', 'sh ornament, And onl', 'h ornament, And only', ' ornament, And only ', 'ornament, And only h', 'rnament, And only he', 'nament, And only her', 'ament, And only hera', 'ment, And only heral', 'ent, And only herald', 'nt, And only herald ', 't, And only herald t', ', And only herald to', ' And only herald to ', 'And only herald to t', 'nd only herald to th', 'd only herald to the', ' only herald to the ', 'only herald to the g', 'nly herald to the ga', 'ly herald to the gau', 'y herald to the gaud', ' herald to the gaudy', 'herald to the gaudy ', 'erald to the gaudy s', 'rald to the gaudy sp', 'ald to the gaudy spr', 'ld to the gaudy spri', 'd to the gaudy sprin', ' to the gaudy spring', 'to the gaudy spring,', 'o the gaudy spring, ', ' the gaudy spring, W', 'the gaudy spring, Wi', 'he gaudy spring, Wit', 'e gaudy spring, With', ' gaudy spring, Withi', 'gaudy spring, Within', 'audy spring, Within ', 'udy spring, Within t', 'dy spring, Within th', 'y spring, Within thi', ' spring, Within thin', 'spring, Within thine', 'pring, Within thine ', 'ring, Within thine o', 'ing, Within thine ow', 'ng, Within thine own', 'g, Within thine own ', ', Within thine own b', ' Within thine own bu', 'Within thine own bud', 'ithin thine own bud ', 'thin thine own bud b', 'hin thine own bud bu', 'in thine own bud bur', 'n thine own bud buri', ' thine own bud burie', 'thine own bud buries', 'hine own bud buriest', 'ine own bud buriest ', 'ne own bud buriest t', 'e own bud buriest th', ' own bud buriest thy', 'own bud buriest thy ', 'wn bud buriest thy c', 'n bud buriest thy co', ' bud buriest thy con', 'bud buriest thy cont', 'ud buriest thy conte', 'd buriest thy conten', ' buriest thy content', 'buriest thy content,', 'uriest thy content, ', 'riest thy content, A', 'iest thy content, An', 'est thy content, And', 'st thy content, And ', 't thy content, And t', ' thy content, And te', 'thy content, And ten', 'hy content, And tend', 'y content, And tende', ' content, And tender', 'content, And tender ', 'ontent, And tender c', 'ntent, And tender ch', 'tent, And tender chu', 'ent, And tender chur', 'nt, And tender churl', 't, And tender churl ', ', And tender churl m', ' And tender churl ma', 'And tender churl mak', \"nd tender churl mak'\", \"d tender churl mak's\", \" tender churl mak'st\", \"tender churl mak'st \", \"ender churl mak'st w\", \"nder churl mak'st wa\", \"der churl mak'st was\", \"er churl mak'st wast\", \"r churl mak'st waste\", \" churl mak'st waste \", \"churl mak'st waste i\", \"hurl mak'st waste in\", \"url mak'st waste in \", \"rl mak'st waste in n\", \"l mak'st waste in ni\", \" mak'st waste in nig\", \"mak'st waste in nigg\", \"ak'st waste in nigga\", \"k'st waste in niggar\", \"'st waste in niggard\", 'st waste in niggardi', 't waste in niggardin', ' waste in niggarding', 'waste in niggarding:', 'aste in niggarding: ', 'ste in niggarding: P', 'te in niggarding: Pi', 'e in niggarding: Pit', ' in niggarding: Pity', 'in niggarding: Pity ', 'n niggarding: Pity t', ' niggarding: Pity th', 'niggarding: Pity the', 'iggarding: Pity the ', 'ggarding: Pity the w', 'garding: Pity the wo', 'arding: Pity the wor', 'rding: Pity the worl', 'ding: Pity the world', 'ing: Pity the world,', 'ng: Pity the world, ', 'g: Pity the world, o', ': Pity the world, or', ' Pity the world, or ', 'Pity the world, or e', 'ity the world, or el', 'ty the world, or els', 'y the world, or else', ' the world, or else ', 'the world, or else t', 'he world, or else th', 'e world, or else thi', ' world, or else this', 'world, or else this ', 'orld, or else this g', 'rld, or else this gl', 'ld, or else this glu', 'd, or else this glut', ', or else this glutt', ' or else this glutto', 'or else this glutton', 'r else this glutton ', ' else this glutton b', 'else this glutton be', 'lse this glutton be,', 'se this glutton be, ', 'e this glutton be, T', ' this glutton be, To', 'this glutton be, To ', 'his glutton be, To e', 'is glutton be, To ea', 's glutton be, To eat', ' glutton be, To eat ', 'glutton be, To eat t', 'lutton be, To eat th', 'utton be, To eat the', 'tton be, To eat the ', 'ton be, To eat the w', 'on be, To eat the wo', 'n be, To eat the wor', ' be, To eat the worl', 'be, To eat the world', \"e, To eat the world'\", \", To eat the world's\", \" To eat the world's \", \"To eat the world's d\", \"o eat the world's du\", \" eat the world's due\", \"eat the world's due,\", \"at the world's due, \", \"t the world's due, b\", \" the world's due, by\", \"the world's due, by \", \"he world's due, by t\", \"e world's due, by th\", \" world's due, by the\", \"world's due, by the \", \"orld's due, by the g\", \"rld's due, by the gr\", \"ld's due, by the gra\", \"d's due, by the grav\", \"'s due, by the grave\", 's due, by the grave ', ' due, by the grave a', 'due, by the grave an', 'ue, by the grave and', 'e, by the grave and ', ', by the grave and t', ' by the grave and th', 'by the grave and the', 'y the grave and thee']\n"
          ],
          "name": "stdout"
        }
      ]
    },
    {
      "cell_type": "markdown",
      "metadata": {
        "id": "CyjM8b1cA6TG"
      },
      "source": [
        "# 5. Load the contents of the .txt file. Sort and print the contents line-wise, character-wise and their mapping."
      ]
    },
    {
      "cell_type": "code",
      "metadata": {
        "colab": {
          "base_uri": "https://localhost:8080/"
        },
        "id": "8uAuvqwF-_-M",
        "outputId": "4d61ee89-7122-4025-b385-6fbe8286c10f"
      },
      "source": [
        "#load\n",
        "in_filename = 'char_sequences.txt'\n",
        "### insert your code here -- load the contents of the .txt file into 'raw_text' using load_doc(param1)\n",
        "raw_text = load_doc(in_filename)\n",
        "\n",
        "lines = raw_text.split('\\n')\n",
        "chars = sorted(list(set(raw_text)))\n",
        "mapping = dict((c, i) for i, c in enumerate(chars))\n",
        "\n",
        "### insert our code here -- print 'lines'\n",
        "### insert our code here -- print 'chars'\n",
        "### insert our code here --  print 'mapping'\n",
        "print(lines)\n",
        "print(chars)\n",
        "print(mapping)"
      ],
      "execution_count": 7,
      "outputs": [
        {
          "output_type": "stream",
          "text": [
            "['From fairest creatur', 'rom fairest creature', 'om fairest creatures', 'm fairest creatures ', ' fairest creatures w', 'fairest creatures we', 'airest creatures we ', 'irest creatures we d', 'rest creatures we de', 'est creatures we des', 'st creatures we desi', 't creatures we desir', ' creatures we desire', 'creatures we desire ', 'reatures we desire i', 'eatures we desire in', 'atures we desire inc', 'tures we desire incr', 'ures we desire incre', 'res we desire increa', 'es we desire increas', 's we desire increase', ' we desire increase,', 'we desire increase, ', 'e desire increase, T', ' desire increase, Th', 'desire increase, Tha', 'esire increase, That', 'sire increase, That ', 'ire increase, That t', 're increase, That th', 'e increase, That the', ' increase, That ther', 'increase, That there', 'ncrease, That thereb', 'crease, That thereby', 'rease, That thereby ', 'ease, That thereby b', 'ase, That thereby be', 'se, That thereby bea', 'e, That thereby beau', ', That thereby beaut', ' That thereby beauty', \"That thereby beauty'\", \"hat thereby beauty's\", \"at thereby beauty's \", \"t thereby beauty's r\", \" thereby beauty's ro\", \"thereby beauty's ros\", \"hereby beauty's rose\", \"ereby beauty's rose \", \"reby beauty's rose m\", \"eby beauty's rose mi\", \"by beauty's rose mig\", \"y beauty's rose migh\", \" beauty's rose might\", \"beauty's rose might \", \"eauty's rose might n\", \"auty's rose might ne\", \"uty's rose might nev\", \"ty's rose might neve\", \"y's rose might never\", \"'s rose might never \", 's rose might never d', ' rose might never di', 'rose might never die', 'ose might never die,', 'se might never die, ', 'e might never die, B', ' might never die, Bu', 'might never die, But', 'ight never die, But ', 'ght never die, But a', 'ht never die, But as', 't never die, But as ', ' never die, But as t', 'never die, But as th', 'ever die, But as the', 'ver die, But as the ', 'er die, But as the r', 'r die, But as the ri', ' die, But as the rip', 'die, But as the ripe', 'ie, But as the riper', 'e, But as the riper ', ', But as the riper s', ' But as the riper sh', 'But as the riper sho', 'ut as the riper shou', 't as the riper shoul', ' as the riper should', 'as the riper should ', 's the riper should b', ' the riper should by', 'the riper should by ', 'he riper should by t', 'e riper should by ti', ' riper should by tim', 'riper should by time', 'iper should by time ', 'per should by time d', 'er should by time de', 'r should by time dec', ' should by time dece', 'should by time decea', 'hould by time deceas', 'ould by time decease', 'uld by time decease,', 'ld by time decease, ', 'd by time decease, H', ' by time decease, Hi', 'by time decease, His', 'y time decease, His ', ' time decease, His t', 'time decease, His te', 'ime decease, His ten', 'me decease, His tend', 'e decease, His tende', ' decease, His tender', 'decease, His tender ', 'ecease, His tender h', 'cease, His tender he', 'ease, His tender hei', 'ase, His tender heir', 'se, His tender heir ', 'e, His tender heir m', ', His tender heir mi', ' His tender heir mig', 'His tender heir migh', 'is tender heir might', 's tender heir might ', ' tender heir might b', 'tender heir might be', 'ender heir might bea', 'nder heir might bear', 'der heir might bear ', 'er heir might bear h', 'r heir might bear hi', ' heir might bear his', 'heir might bear his ', 'eir might bear his m', 'ir might bear his me', 'r might bear his mem', ' might bear his memo', 'might bear his memor', 'ight bear his memory', 'ght bear his memory:', 'ht bear his memory: ', 't bear his memory: B', ' bear his memory: Bu', 'bear his memory: But', 'ear his memory: But ', 'ar his memory: But t', 'r his memory: But th', ' his memory: But tho', 'his memory: But thou', 'is memory: But thou ', 's memory: But thou c', ' memory: But thou co', 'memory: But thou con', 'emory: But thou cont', 'mory: But thou contr', 'ory: But thou contra', 'ry: But thou contrac', 'y: But thou contract', ': But thou contracte', ' But thou contracted', 'But thou contracted ', 'ut thou contracted t', 't thou contracted to', ' thou contracted to ', 'thou contracted to t', 'hou contracted to th', 'ou contracted to thi', 'u contracted to thin', ' contracted to thine', 'contracted to thine ', 'ontracted to thine o', 'ntracted to thine ow', 'tracted to thine own', 'racted to thine own ', 'acted to thine own b', 'cted to thine own br', 'ted to thine own bri', 'ed to thine own brig', 'd to thine own brigh', ' to thine own bright', 'to thine own bright ', 'o thine own bright e', ' thine own bright ey', 'thine own bright eye', 'hine own bright eyes', 'ine own bright eyes,', 'ne own bright eyes, ', 'e own bright eyes, F', ' own bright eyes, Fe', 'own bright eyes, Fee', 'wn bright eyes, Feed', \"n bright eyes, Feed'\", \" bright eyes, Feed's\", \"bright eyes, Feed'st\", \"right eyes, Feed'st \", \"ight eyes, Feed'st t\", \"ght eyes, Feed'st th\", \"ht eyes, Feed'st thy\", \"t eyes, Feed'st thy \", \" eyes, Feed'st thy l\", \"eyes, Feed'st thy li\", \"yes, Feed'st thy lig\", \"es, Feed'st thy ligh\", \"s, Feed'st thy light\", \", Feed'st thy light'\", \" Feed'st thy light's\", \"Feed'st thy light's \", \"eed'st thy light's f\", \"ed'st thy light's fl\", \"d'st thy light's fla\", \"'st thy light's flam\", \"st thy light's flame\", \"t thy light's flame \", \" thy light's flame w\", \"thy light's flame wi\", \"hy light's flame wit\", \"y light's flame with\", \" light's flame with \", \"light's flame with s\", \"ight's flame with se\", \"ght's flame with sel\", \"ht's flame with self\", \"t's flame with self-\", \"'s flame with self-s\", 's flame with self-su', ' flame with self-sub', 'flame with self-subs', 'lame with self-subst', 'ame with self-substa', 'me with self-substan', 'e with self-substant', ' with self-substanti', 'with self-substantia', 'ith self-substantial', 'th self-substantial ', 'h self-substantial f', ' self-substantial fu', 'self-substantial fue', 'elf-substantial fuel', 'lf-substantial fuel,', 'f-substantial fuel, ', '-substantial fuel, M', 'substantial fuel, Ma', 'ubstantial fuel, Mak', 'bstantial fuel, Maki', 'stantial fuel, Makin', 'tantial fuel, Making', 'antial fuel, Making ', 'ntial fuel, Making a', 'tial fuel, Making a ', 'ial fuel, Making a f', 'al fuel, Making a fa', 'l fuel, Making a fam', ' fuel, Making a fami', 'fuel, Making a famin', 'uel, Making a famine', 'el, Making a famine ', 'l, Making a famine w', ', Making a famine wh', ' Making a famine whe', 'Making a famine wher', 'aking a famine where', 'king a famine where ', 'ing a famine where a', 'ng a famine where ab', 'g a famine where abu', ' a famine where abun', 'a famine where abund', ' famine where abunda', 'famine where abundan', 'amine where abundanc', 'mine where abundance', 'ine where abundance ', 'ne where abundance l', 'e where abundance li', ' where abundance lie', 'where abundance lies', 'here abundance lies,', 'ere abundance lies, ', 're abundance lies, T', 'e abundance lies, Th', ' abundance lies, Thy', 'abundance lies, Thy ', 'bundance lies, Thy s', 'undance lies, Thy se', 'ndance lies, Thy sel', 'dance lies, Thy self', 'ance lies, Thy self ', 'nce lies, Thy self t', 'ce lies, Thy self th', 'e lies, Thy self thy', ' lies, Thy self thy ', 'lies, Thy self thy f', 'ies, Thy self thy fo', 'es, Thy self thy foe', 's, Thy self thy foe,', ', Thy self thy foe, ', ' Thy self thy foe, t', 'Thy self thy foe, to', 'hy self thy foe, to ', 'y self thy foe, to t', ' self thy foe, to th', 'self thy foe, to thy', 'elf thy foe, to thy ', 'lf thy foe, to thy s', 'f thy foe, to thy sw', ' thy foe, to thy swe', 'thy foe, to thy swee', 'hy foe, to thy sweet', 'y foe, to thy sweet ', ' foe, to thy sweet s', 'foe, to thy sweet se', 'oe, to thy sweet sel', 'e, to thy sweet self', ', to thy sweet self ', ' to thy sweet self t', 'to thy sweet self to', 'o thy sweet self too', ' thy sweet self too ', 'thy sweet self too c', 'hy sweet self too cr', 'y sweet self too cru', ' sweet self too crue', 'sweet self too cruel', 'weet self too cruel:', 'eet self too cruel: ', 'et self too cruel: T', 't self too cruel: Th', ' self too cruel: Tho', 'self too cruel: Thou', 'elf too cruel: Thou ', 'lf too cruel: Thou t', 'f too cruel: Thou th', ' too cruel: Thou tha', 'too cruel: Thou that', 'oo cruel: Thou that ', 'o cruel: Thou that a', ' cruel: Thou that ar', 'cruel: Thou that art', 'ruel: Thou that art ', 'uel: Thou that art n', 'el: Thou that art no', 'l: Thou that art now', ': Thou that art now ', ' Thou that art now t', 'Thou that art now th', 'hou that art now the', 'ou that art now the ', 'u that art now the w', ' that art now the wo', 'that art now the wor', 'hat art now the worl', 'at art now the world', \"t art now the world'\", \" art now the world's\", \"art now the world's \", \"rt now the world's f\", \"t now the world's fr\", \" now the world's fre\", \"now the world's fres\", \"ow the world's fresh\", \"w the world's fresh \", \" the world's fresh o\", \"the world's fresh or\", \"he world's fresh orn\", \"e world's fresh orna\", \" world's fresh ornam\", \"world's fresh orname\", \"orld's fresh ornamen\", \"rld's fresh ornament\", \"ld's fresh ornament,\", \"d's fresh ornament, \", \"'s fresh ornament, A\", 's fresh ornament, An', ' fresh ornament, And', 'fresh ornament, And ', 'resh ornament, And o', 'esh ornament, And on', 'sh ornament, And onl', 'h ornament, And only', ' ornament, And only ', 'ornament, And only h', 'rnament, And only he', 'nament, And only her', 'ament, And only hera', 'ment, And only heral', 'ent, And only herald', 'nt, And only herald ', 't, And only herald t', ', And only herald to', ' And only herald to ', 'And only herald to t', 'nd only herald to th', 'd only herald to the', ' only herald to the ', 'only herald to the g', 'nly herald to the ga', 'ly herald to the gau', 'y herald to the gaud', ' herald to the gaudy', 'herald to the gaudy ', 'erald to the gaudy s', 'rald to the gaudy sp', 'ald to the gaudy spr', 'ld to the gaudy spri', 'd to the gaudy sprin', ' to the gaudy spring', 'to the gaudy spring,', 'o the gaudy spring, ', ' the gaudy spring, W', 'the gaudy spring, Wi', 'he gaudy spring, Wit', 'e gaudy spring, With', ' gaudy spring, Withi', 'gaudy spring, Within', 'audy spring, Within ', 'udy spring, Within t', 'dy spring, Within th', 'y spring, Within thi', ' spring, Within thin', 'spring, Within thine', 'pring, Within thine ', 'ring, Within thine o', 'ing, Within thine ow', 'ng, Within thine own', 'g, Within thine own ', ', Within thine own b', ' Within thine own bu', 'Within thine own bud', 'ithin thine own bud ', 'thin thine own bud b', 'hin thine own bud bu', 'in thine own bud bur', 'n thine own bud buri', ' thine own bud burie', 'thine own bud buries', 'hine own bud buriest', 'ine own bud buriest ', 'ne own bud buriest t', 'e own bud buriest th', ' own bud buriest thy', 'own bud buriest thy ', 'wn bud buriest thy c', 'n bud buriest thy co', ' bud buriest thy con', 'bud buriest thy cont', 'ud buriest thy conte', 'd buriest thy conten', ' buriest thy content', 'buriest thy content,', 'uriest thy content, ', 'riest thy content, A', 'iest thy content, An', 'est thy content, And', 'st thy content, And ', 't thy content, And t', ' thy content, And te', 'thy content, And ten', 'hy content, And tend', 'y content, And tende', ' content, And tender', 'content, And tender ', 'ontent, And tender c', 'ntent, And tender ch', 'tent, And tender chu', 'ent, And tender chur', 'nt, And tender churl', 't, And tender churl ', ', And tender churl m', ' And tender churl ma', 'And tender churl mak', \"nd tender churl mak'\", \"d tender churl mak's\", \" tender churl mak'st\", \"tender churl mak'st \", \"ender churl mak'st w\", \"nder churl mak'st wa\", \"der churl mak'st was\", \"er churl mak'st wast\", \"r churl mak'st waste\", \" churl mak'st waste \", \"churl mak'st waste i\", \"hurl mak'st waste in\", \"url mak'st waste in \", \"rl mak'st waste in n\", \"l mak'st waste in ni\", \" mak'st waste in nig\", \"mak'st waste in nigg\", \"ak'st waste in nigga\", \"k'st waste in niggar\", \"'st waste in niggard\", 'st waste in niggardi', 't waste in niggardin', ' waste in niggarding', 'waste in niggarding:', 'aste in niggarding: ', 'ste in niggarding: P', 'te in niggarding: Pi', 'e in niggarding: Pit', ' in niggarding: Pity', 'in niggarding: Pity ', 'n niggarding: Pity t', ' niggarding: Pity th', 'niggarding: Pity the', 'iggarding: Pity the ', 'ggarding: Pity the w', 'garding: Pity the wo', 'arding: Pity the wor', 'rding: Pity the worl', 'ding: Pity the world', 'ing: Pity the world,', 'ng: Pity the world, ', 'g: Pity the world, o', ': Pity the world, or', ' Pity the world, or ', 'Pity the world, or e', 'ity the world, or el', 'ty the world, or els', 'y the world, or else', ' the world, or else ', 'the world, or else t', 'he world, or else th', 'e world, or else thi', ' world, or else this', 'world, or else this ', 'orld, or else this g', 'rld, or else this gl', 'ld, or else this glu', 'd, or else this glut', ', or else this glutt', ' or else this glutto', 'or else this glutton', 'r else this glutton ', ' else this glutton b', 'else this glutton be', 'lse this glutton be,', 'se this glutton be, ', 'e this glutton be, T', ' this glutton be, To', 'this glutton be, To ', 'his glutton be, To e', 'is glutton be, To ea', 's glutton be, To eat', ' glutton be, To eat ', 'glutton be, To eat t', 'lutton be, To eat th', 'utton be, To eat the', 'tton be, To eat the ', 'ton be, To eat the w', 'on be, To eat the wo', 'n be, To eat the wor', ' be, To eat the worl', 'be, To eat the world', \"e, To eat the world'\", \", To eat the world's\", \" To eat the world's \", \"To eat the world's d\", \"o eat the world's du\", \" eat the world's due\", \"eat the world's due,\", \"at the world's due, \", \"t the world's due, b\", \" the world's due, by\", \"the world's due, by \", \"he world's due, by t\", \"e world's due, by th\", \" world's due, by the\", \"world's due, by the \", \"orld's due, by the g\", \"rld's due, by the gr\", \"ld's due, by the gra\", \"d's due, by the grav\", \"'s due, by the grave\", 's due, by the grave ', ' due, by the grave a', 'due, by the grave an', 'ue, by the grave and', 'e, by the grave and ', ', by the grave and t', ' by the grave and th', 'by the grave and the', 'y the grave and thee']\n",
            "['\\n', ' ', \"'\", ',', '-', ':', 'A', 'B', 'F', 'H', 'M', 'P', 'T', 'W', 'a', 'b', 'c', 'd', 'e', 'f', 'g', 'h', 'i', 'k', 'l', 'm', 'n', 'o', 'p', 'r', 's', 't', 'u', 'v', 'w', 'y']\n",
            "{'\\n': 0, ' ': 1, \"'\": 2, ',': 3, '-': 4, ':': 5, 'A': 6, 'B': 7, 'F': 8, 'H': 9, 'M': 10, 'P': 11, 'T': 12, 'W': 13, 'a': 14, 'b': 15, 'c': 16, 'd': 17, 'e': 18, 'f': 19, 'g': 20, 'h': 21, 'i': 22, 'k': 23, 'l': 24, 'm': 25, 'n': 26, 'o': 27, 'p': 28, 'r': 29, 's': 30, 't': 31, 'u': 32, 'v': 33, 'w': 34, 'y': 35}\n"
          ],
          "name": "stdout"
        }
      ]
    },
    {
      "cell_type": "markdown",
      "metadata": {
        "id": "jlNmFdPnA6TG"
      },
      "source": [
        "# 6. Print and observe the Encoded Sequence."
      ]
    },
    {
      "cell_type": "code",
      "metadata": {
        "colab": {
          "base_uri": "https://localhost:8080/",
          "height": 35
        },
        "id": "VqFTCS6K-ALn",
        "outputId": "2891935a-afe6-430d-ead3-44ef75a21c0d"
      },
      "source": [
        "lines[0]"
      ],
      "execution_count": 9,
      "outputs": [
        {
          "output_type": "execute_result",
          "data": {
            "application/vnd.google.colaboratory.intrinsic+json": {
              "type": "string"
            },
            "text/plain": [
              "'From fairest creatur'"
            ]
          },
          "metadata": {
            "tags": []
          },
          "execution_count": 9
        }
      ]
    },
    {
      "cell_type": "code",
      "metadata": {
        "colab": {
          "base_uri": "https://localhost:8080/"
        },
        "id": "pa1xu8gj96Oi",
        "outputId": "d04a4e07-5128-48cd-f598-7e903cdff2dc"
      },
      "source": [
        "[mapping[char] for char in line[0]]  "
      ],
      "execution_count": 10,
      "outputs": [
        {
          "output_type": "execute_result",
          "data": {
            "text/plain": [
              "[35]"
            ]
          },
          "metadata": {
            "tags": []
          },
          "execution_count": 10
        }
      ]
    },
    {
      "cell_type": "code",
      "metadata": {
        "colab": {
          "base_uri": "https://localhost:8080/"
        },
        "id": "KZx8wPbx-_-M",
        "outputId": "8313672b-0535-435f-d1b8-b4061dd97b7b"
      },
      "source": [
        "sequences = list()\n",
        "for line in lines:\n",
        "    #integer encode line\n",
        "    encoded_seq = [mapping[char] for char in line]\n",
        "    #store\n",
        "    sequences.append(encoded_seq)\n",
        "    print(line,' : ',encoded_seq)\n",
        "\n",
        "### insert our code here -- print(sequences) \n",
        "print(sequences) \n",
        "\n",
        "#vocabulary size\n",
        "vocab_size = len(mapping)\n",
        "print('Vocabulary Size: %d' % vocab_size)"
      ],
      "execution_count": 8,
      "outputs": [
        {
          "output_type": "stream",
          "text": [
            "From fairest creatur  :  [8, 29, 27, 25, 1, 19, 14, 22, 29, 18, 30, 31, 1, 16, 29, 18, 14, 31, 32, 29]\n",
            "rom fairest creature  :  [29, 27, 25, 1, 19, 14, 22, 29, 18, 30, 31, 1, 16, 29, 18, 14, 31, 32, 29, 18]\n",
            "om fairest creatures  :  [27, 25, 1, 19, 14, 22, 29, 18, 30, 31, 1, 16, 29, 18, 14, 31, 32, 29, 18, 30]\n",
            "m fairest creatures   :  [25, 1, 19, 14, 22, 29, 18, 30, 31, 1, 16, 29, 18, 14, 31, 32, 29, 18, 30, 1]\n",
            " fairest creatures w  :  [1, 19, 14, 22, 29, 18, 30, 31, 1, 16, 29, 18, 14, 31, 32, 29, 18, 30, 1, 34]\n",
            "fairest creatures we  :  [19, 14, 22, 29, 18, 30, 31, 1, 16, 29, 18, 14, 31, 32, 29, 18, 30, 1, 34, 18]\n",
            "airest creatures we   :  [14, 22, 29, 18, 30, 31, 1, 16, 29, 18, 14, 31, 32, 29, 18, 30, 1, 34, 18, 1]\n",
            "irest creatures we d  :  [22, 29, 18, 30, 31, 1, 16, 29, 18, 14, 31, 32, 29, 18, 30, 1, 34, 18, 1, 17]\n",
            "rest creatures we de  :  [29, 18, 30, 31, 1, 16, 29, 18, 14, 31, 32, 29, 18, 30, 1, 34, 18, 1, 17, 18]\n",
            "est creatures we des  :  [18, 30, 31, 1, 16, 29, 18, 14, 31, 32, 29, 18, 30, 1, 34, 18, 1, 17, 18, 30]\n",
            "st creatures we desi  :  [30, 31, 1, 16, 29, 18, 14, 31, 32, 29, 18, 30, 1, 34, 18, 1, 17, 18, 30, 22]\n",
            "t creatures we desir  :  [31, 1, 16, 29, 18, 14, 31, 32, 29, 18, 30, 1, 34, 18, 1, 17, 18, 30, 22, 29]\n",
            " creatures we desire  :  [1, 16, 29, 18, 14, 31, 32, 29, 18, 30, 1, 34, 18, 1, 17, 18, 30, 22, 29, 18]\n",
            "creatures we desire   :  [16, 29, 18, 14, 31, 32, 29, 18, 30, 1, 34, 18, 1, 17, 18, 30, 22, 29, 18, 1]\n",
            "reatures we desire i  :  [29, 18, 14, 31, 32, 29, 18, 30, 1, 34, 18, 1, 17, 18, 30, 22, 29, 18, 1, 22]\n",
            "eatures we desire in  :  [18, 14, 31, 32, 29, 18, 30, 1, 34, 18, 1, 17, 18, 30, 22, 29, 18, 1, 22, 26]\n",
            "atures we desire inc  :  [14, 31, 32, 29, 18, 30, 1, 34, 18, 1, 17, 18, 30, 22, 29, 18, 1, 22, 26, 16]\n",
            "tures we desire incr  :  [31, 32, 29, 18, 30, 1, 34, 18, 1, 17, 18, 30, 22, 29, 18, 1, 22, 26, 16, 29]\n",
            "ures we desire incre  :  [32, 29, 18, 30, 1, 34, 18, 1, 17, 18, 30, 22, 29, 18, 1, 22, 26, 16, 29, 18]\n",
            "res we desire increa  :  [29, 18, 30, 1, 34, 18, 1, 17, 18, 30, 22, 29, 18, 1, 22, 26, 16, 29, 18, 14]\n",
            "es we desire increas  :  [18, 30, 1, 34, 18, 1, 17, 18, 30, 22, 29, 18, 1, 22, 26, 16, 29, 18, 14, 30]\n",
            "s we desire increase  :  [30, 1, 34, 18, 1, 17, 18, 30, 22, 29, 18, 1, 22, 26, 16, 29, 18, 14, 30, 18]\n",
            " we desire increase,  :  [1, 34, 18, 1, 17, 18, 30, 22, 29, 18, 1, 22, 26, 16, 29, 18, 14, 30, 18, 3]\n",
            "we desire increase,   :  [34, 18, 1, 17, 18, 30, 22, 29, 18, 1, 22, 26, 16, 29, 18, 14, 30, 18, 3, 1]\n",
            "e desire increase, T  :  [18, 1, 17, 18, 30, 22, 29, 18, 1, 22, 26, 16, 29, 18, 14, 30, 18, 3, 1, 12]\n",
            " desire increase, Th  :  [1, 17, 18, 30, 22, 29, 18, 1, 22, 26, 16, 29, 18, 14, 30, 18, 3, 1, 12, 21]\n",
            "desire increase, Tha  :  [17, 18, 30, 22, 29, 18, 1, 22, 26, 16, 29, 18, 14, 30, 18, 3, 1, 12, 21, 14]\n",
            "esire increase, That  :  [18, 30, 22, 29, 18, 1, 22, 26, 16, 29, 18, 14, 30, 18, 3, 1, 12, 21, 14, 31]\n",
            "sire increase, That   :  [30, 22, 29, 18, 1, 22, 26, 16, 29, 18, 14, 30, 18, 3, 1, 12, 21, 14, 31, 1]\n",
            "ire increase, That t  :  [22, 29, 18, 1, 22, 26, 16, 29, 18, 14, 30, 18, 3, 1, 12, 21, 14, 31, 1, 31]\n",
            "re increase, That th  :  [29, 18, 1, 22, 26, 16, 29, 18, 14, 30, 18, 3, 1, 12, 21, 14, 31, 1, 31, 21]\n",
            "e increase, That the  :  [18, 1, 22, 26, 16, 29, 18, 14, 30, 18, 3, 1, 12, 21, 14, 31, 1, 31, 21, 18]\n",
            " increase, That ther  :  [1, 22, 26, 16, 29, 18, 14, 30, 18, 3, 1, 12, 21, 14, 31, 1, 31, 21, 18, 29]\n",
            "increase, That there  :  [22, 26, 16, 29, 18, 14, 30, 18, 3, 1, 12, 21, 14, 31, 1, 31, 21, 18, 29, 18]\n",
            "ncrease, That thereb  :  [26, 16, 29, 18, 14, 30, 18, 3, 1, 12, 21, 14, 31, 1, 31, 21, 18, 29, 18, 15]\n",
            "crease, That thereby  :  [16, 29, 18, 14, 30, 18, 3, 1, 12, 21, 14, 31, 1, 31, 21, 18, 29, 18, 15, 35]\n",
            "rease, That thereby   :  [29, 18, 14, 30, 18, 3, 1, 12, 21, 14, 31, 1, 31, 21, 18, 29, 18, 15, 35, 1]\n",
            "ease, That thereby b  :  [18, 14, 30, 18, 3, 1, 12, 21, 14, 31, 1, 31, 21, 18, 29, 18, 15, 35, 1, 15]\n",
            "ase, That thereby be  :  [14, 30, 18, 3, 1, 12, 21, 14, 31, 1, 31, 21, 18, 29, 18, 15, 35, 1, 15, 18]\n",
            "se, That thereby bea  :  [30, 18, 3, 1, 12, 21, 14, 31, 1, 31, 21, 18, 29, 18, 15, 35, 1, 15, 18, 14]\n",
            "e, That thereby beau  :  [18, 3, 1, 12, 21, 14, 31, 1, 31, 21, 18, 29, 18, 15, 35, 1, 15, 18, 14, 32]\n",
            ", That thereby beaut  :  [3, 1, 12, 21, 14, 31, 1, 31, 21, 18, 29, 18, 15, 35, 1, 15, 18, 14, 32, 31]\n",
            " That thereby beauty  :  [1, 12, 21, 14, 31, 1, 31, 21, 18, 29, 18, 15, 35, 1, 15, 18, 14, 32, 31, 35]\n",
            "That thereby beauty'  :  [12, 21, 14, 31, 1, 31, 21, 18, 29, 18, 15, 35, 1, 15, 18, 14, 32, 31, 35, 2]\n",
            "hat thereby beauty's  :  [21, 14, 31, 1, 31, 21, 18, 29, 18, 15, 35, 1, 15, 18, 14, 32, 31, 35, 2, 30]\n",
            "at thereby beauty's   :  [14, 31, 1, 31, 21, 18, 29, 18, 15, 35, 1, 15, 18, 14, 32, 31, 35, 2, 30, 1]\n",
            "t thereby beauty's r  :  [31, 1, 31, 21, 18, 29, 18, 15, 35, 1, 15, 18, 14, 32, 31, 35, 2, 30, 1, 29]\n",
            " thereby beauty's ro  :  [1, 31, 21, 18, 29, 18, 15, 35, 1, 15, 18, 14, 32, 31, 35, 2, 30, 1, 29, 27]\n",
            "thereby beauty's ros  :  [31, 21, 18, 29, 18, 15, 35, 1, 15, 18, 14, 32, 31, 35, 2, 30, 1, 29, 27, 30]\n",
            "hereby beauty's rose  :  [21, 18, 29, 18, 15, 35, 1, 15, 18, 14, 32, 31, 35, 2, 30, 1, 29, 27, 30, 18]\n",
            "ereby beauty's rose   :  [18, 29, 18, 15, 35, 1, 15, 18, 14, 32, 31, 35, 2, 30, 1, 29, 27, 30, 18, 1]\n",
            "reby beauty's rose m  :  [29, 18, 15, 35, 1, 15, 18, 14, 32, 31, 35, 2, 30, 1, 29, 27, 30, 18, 1, 25]\n",
            "eby beauty's rose mi  :  [18, 15, 35, 1, 15, 18, 14, 32, 31, 35, 2, 30, 1, 29, 27, 30, 18, 1, 25, 22]\n",
            "by beauty's rose mig  :  [15, 35, 1, 15, 18, 14, 32, 31, 35, 2, 30, 1, 29, 27, 30, 18, 1, 25, 22, 20]\n",
            "y beauty's rose migh  :  [35, 1, 15, 18, 14, 32, 31, 35, 2, 30, 1, 29, 27, 30, 18, 1, 25, 22, 20, 21]\n",
            " beauty's rose might  :  [1, 15, 18, 14, 32, 31, 35, 2, 30, 1, 29, 27, 30, 18, 1, 25, 22, 20, 21, 31]\n",
            "beauty's rose might   :  [15, 18, 14, 32, 31, 35, 2, 30, 1, 29, 27, 30, 18, 1, 25, 22, 20, 21, 31, 1]\n",
            "eauty's rose might n  :  [18, 14, 32, 31, 35, 2, 30, 1, 29, 27, 30, 18, 1, 25, 22, 20, 21, 31, 1, 26]\n",
            "auty's rose might ne  :  [14, 32, 31, 35, 2, 30, 1, 29, 27, 30, 18, 1, 25, 22, 20, 21, 31, 1, 26, 18]\n",
            "uty's rose might nev  :  [32, 31, 35, 2, 30, 1, 29, 27, 30, 18, 1, 25, 22, 20, 21, 31, 1, 26, 18, 33]\n",
            "ty's rose might neve  :  [31, 35, 2, 30, 1, 29, 27, 30, 18, 1, 25, 22, 20, 21, 31, 1, 26, 18, 33, 18]\n",
            "y's rose might never  :  [35, 2, 30, 1, 29, 27, 30, 18, 1, 25, 22, 20, 21, 31, 1, 26, 18, 33, 18, 29]\n",
            "'s rose might never   :  [2, 30, 1, 29, 27, 30, 18, 1, 25, 22, 20, 21, 31, 1, 26, 18, 33, 18, 29, 1]\n",
            "s rose might never d  :  [30, 1, 29, 27, 30, 18, 1, 25, 22, 20, 21, 31, 1, 26, 18, 33, 18, 29, 1, 17]\n",
            " rose might never di  :  [1, 29, 27, 30, 18, 1, 25, 22, 20, 21, 31, 1, 26, 18, 33, 18, 29, 1, 17, 22]\n",
            "rose might never die  :  [29, 27, 30, 18, 1, 25, 22, 20, 21, 31, 1, 26, 18, 33, 18, 29, 1, 17, 22, 18]\n",
            "ose might never die,  :  [27, 30, 18, 1, 25, 22, 20, 21, 31, 1, 26, 18, 33, 18, 29, 1, 17, 22, 18, 3]\n",
            "se might never die,   :  [30, 18, 1, 25, 22, 20, 21, 31, 1, 26, 18, 33, 18, 29, 1, 17, 22, 18, 3, 1]\n",
            "e might never die, B  :  [18, 1, 25, 22, 20, 21, 31, 1, 26, 18, 33, 18, 29, 1, 17, 22, 18, 3, 1, 7]\n",
            " might never die, Bu  :  [1, 25, 22, 20, 21, 31, 1, 26, 18, 33, 18, 29, 1, 17, 22, 18, 3, 1, 7, 32]\n",
            "might never die, But  :  [25, 22, 20, 21, 31, 1, 26, 18, 33, 18, 29, 1, 17, 22, 18, 3, 1, 7, 32, 31]\n",
            "ight never die, But   :  [22, 20, 21, 31, 1, 26, 18, 33, 18, 29, 1, 17, 22, 18, 3, 1, 7, 32, 31, 1]\n",
            "ght never die, But a  :  [20, 21, 31, 1, 26, 18, 33, 18, 29, 1, 17, 22, 18, 3, 1, 7, 32, 31, 1, 14]\n",
            "ht never die, But as  :  [21, 31, 1, 26, 18, 33, 18, 29, 1, 17, 22, 18, 3, 1, 7, 32, 31, 1, 14, 30]\n",
            "t never die, But as   :  [31, 1, 26, 18, 33, 18, 29, 1, 17, 22, 18, 3, 1, 7, 32, 31, 1, 14, 30, 1]\n",
            " never die, But as t  :  [1, 26, 18, 33, 18, 29, 1, 17, 22, 18, 3, 1, 7, 32, 31, 1, 14, 30, 1, 31]\n",
            "never die, But as th  :  [26, 18, 33, 18, 29, 1, 17, 22, 18, 3, 1, 7, 32, 31, 1, 14, 30, 1, 31, 21]\n",
            "ever die, But as the  :  [18, 33, 18, 29, 1, 17, 22, 18, 3, 1, 7, 32, 31, 1, 14, 30, 1, 31, 21, 18]\n",
            "ver die, But as the   :  [33, 18, 29, 1, 17, 22, 18, 3, 1, 7, 32, 31, 1, 14, 30, 1, 31, 21, 18, 1]\n",
            "er die, But as the r  :  [18, 29, 1, 17, 22, 18, 3, 1, 7, 32, 31, 1, 14, 30, 1, 31, 21, 18, 1, 29]\n",
            "r die, But as the ri  :  [29, 1, 17, 22, 18, 3, 1, 7, 32, 31, 1, 14, 30, 1, 31, 21, 18, 1, 29, 22]\n",
            " die, But as the rip  :  [1, 17, 22, 18, 3, 1, 7, 32, 31, 1, 14, 30, 1, 31, 21, 18, 1, 29, 22, 28]\n",
            "die, But as the ripe  :  [17, 22, 18, 3, 1, 7, 32, 31, 1, 14, 30, 1, 31, 21, 18, 1, 29, 22, 28, 18]\n",
            "ie, But as the riper  :  [22, 18, 3, 1, 7, 32, 31, 1, 14, 30, 1, 31, 21, 18, 1, 29, 22, 28, 18, 29]\n",
            "e, But as the riper   :  [18, 3, 1, 7, 32, 31, 1, 14, 30, 1, 31, 21, 18, 1, 29, 22, 28, 18, 29, 1]\n",
            ", But as the riper s  :  [3, 1, 7, 32, 31, 1, 14, 30, 1, 31, 21, 18, 1, 29, 22, 28, 18, 29, 1, 30]\n",
            " But as the riper sh  :  [1, 7, 32, 31, 1, 14, 30, 1, 31, 21, 18, 1, 29, 22, 28, 18, 29, 1, 30, 21]\n",
            "But as the riper sho  :  [7, 32, 31, 1, 14, 30, 1, 31, 21, 18, 1, 29, 22, 28, 18, 29, 1, 30, 21, 27]\n",
            "ut as the riper shou  :  [32, 31, 1, 14, 30, 1, 31, 21, 18, 1, 29, 22, 28, 18, 29, 1, 30, 21, 27, 32]\n",
            "t as the riper shoul  :  [31, 1, 14, 30, 1, 31, 21, 18, 1, 29, 22, 28, 18, 29, 1, 30, 21, 27, 32, 24]\n",
            " as the riper should  :  [1, 14, 30, 1, 31, 21, 18, 1, 29, 22, 28, 18, 29, 1, 30, 21, 27, 32, 24, 17]\n",
            "as the riper should   :  [14, 30, 1, 31, 21, 18, 1, 29, 22, 28, 18, 29, 1, 30, 21, 27, 32, 24, 17, 1]\n",
            "s the riper should b  :  [30, 1, 31, 21, 18, 1, 29, 22, 28, 18, 29, 1, 30, 21, 27, 32, 24, 17, 1, 15]\n",
            " the riper should by  :  [1, 31, 21, 18, 1, 29, 22, 28, 18, 29, 1, 30, 21, 27, 32, 24, 17, 1, 15, 35]\n",
            "the riper should by   :  [31, 21, 18, 1, 29, 22, 28, 18, 29, 1, 30, 21, 27, 32, 24, 17, 1, 15, 35, 1]\n",
            "he riper should by t  :  [21, 18, 1, 29, 22, 28, 18, 29, 1, 30, 21, 27, 32, 24, 17, 1, 15, 35, 1, 31]\n",
            "e riper should by ti  :  [18, 1, 29, 22, 28, 18, 29, 1, 30, 21, 27, 32, 24, 17, 1, 15, 35, 1, 31, 22]\n",
            " riper should by tim  :  [1, 29, 22, 28, 18, 29, 1, 30, 21, 27, 32, 24, 17, 1, 15, 35, 1, 31, 22, 25]\n",
            "riper should by time  :  [29, 22, 28, 18, 29, 1, 30, 21, 27, 32, 24, 17, 1, 15, 35, 1, 31, 22, 25, 18]\n",
            "iper should by time   :  [22, 28, 18, 29, 1, 30, 21, 27, 32, 24, 17, 1, 15, 35, 1, 31, 22, 25, 18, 1]\n",
            "per should by time d  :  [28, 18, 29, 1, 30, 21, 27, 32, 24, 17, 1, 15, 35, 1, 31, 22, 25, 18, 1, 17]\n",
            "er should by time de  :  [18, 29, 1, 30, 21, 27, 32, 24, 17, 1, 15, 35, 1, 31, 22, 25, 18, 1, 17, 18]\n",
            "r should by time dec  :  [29, 1, 30, 21, 27, 32, 24, 17, 1, 15, 35, 1, 31, 22, 25, 18, 1, 17, 18, 16]\n",
            " should by time dece  :  [1, 30, 21, 27, 32, 24, 17, 1, 15, 35, 1, 31, 22, 25, 18, 1, 17, 18, 16, 18]\n",
            "should by time decea  :  [30, 21, 27, 32, 24, 17, 1, 15, 35, 1, 31, 22, 25, 18, 1, 17, 18, 16, 18, 14]\n",
            "hould by time deceas  :  [21, 27, 32, 24, 17, 1, 15, 35, 1, 31, 22, 25, 18, 1, 17, 18, 16, 18, 14, 30]\n",
            "ould by time decease  :  [27, 32, 24, 17, 1, 15, 35, 1, 31, 22, 25, 18, 1, 17, 18, 16, 18, 14, 30, 18]\n",
            "uld by time decease,  :  [32, 24, 17, 1, 15, 35, 1, 31, 22, 25, 18, 1, 17, 18, 16, 18, 14, 30, 18, 3]\n",
            "ld by time decease,   :  [24, 17, 1, 15, 35, 1, 31, 22, 25, 18, 1, 17, 18, 16, 18, 14, 30, 18, 3, 1]\n",
            "d by time decease, H  :  [17, 1, 15, 35, 1, 31, 22, 25, 18, 1, 17, 18, 16, 18, 14, 30, 18, 3, 1, 9]\n",
            " by time decease, Hi  :  [1, 15, 35, 1, 31, 22, 25, 18, 1, 17, 18, 16, 18, 14, 30, 18, 3, 1, 9, 22]\n",
            "by time decease, His  :  [15, 35, 1, 31, 22, 25, 18, 1, 17, 18, 16, 18, 14, 30, 18, 3, 1, 9, 22, 30]\n",
            "y time decease, His   :  [35, 1, 31, 22, 25, 18, 1, 17, 18, 16, 18, 14, 30, 18, 3, 1, 9, 22, 30, 1]\n",
            " time decease, His t  :  [1, 31, 22, 25, 18, 1, 17, 18, 16, 18, 14, 30, 18, 3, 1, 9, 22, 30, 1, 31]\n",
            "time decease, His te  :  [31, 22, 25, 18, 1, 17, 18, 16, 18, 14, 30, 18, 3, 1, 9, 22, 30, 1, 31, 18]\n",
            "ime decease, His ten  :  [22, 25, 18, 1, 17, 18, 16, 18, 14, 30, 18, 3, 1, 9, 22, 30, 1, 31, 18, 26]\n",
            "me decease, His tend  :  [25, 18, 1, 17, 18, 16, 18, 14, 30, 18, 3, 1, 9, 22, 30, 1, 31, 18, 26, 17]\n",
            "e decease, His tende  :  [18, 1, 17, 18, 16, 18, 14, 30, 18, 3, 1, 9, 22, 30, 1, 31, 18, 26, 17, 18]\n",
            " decease, His tender  :  [1, 17, 18, 16, 18, 14, 30, 18, 3, 1, 9, 22, 30, 1, 31, 18, 26, 17, 18, 29]\n",
            "decease, His tender   :  [17, 18, 16, 18, 14, 30, 18, 3, 1, 9, 22, 30, 1, 31, 18, 26, 17, 18, 29, 1]\n",
            "ecease, His tender h  :  [18, 16, 18, 14, 30, 18, 3, 1, 9, 22, 30, 1, 31, 18, 26, 17, 18, 29, 1, 21]\n",
            "cease, His tender he  :  [16, 18, 14, 30, 18, 3, 1, 9, 22, 30, 1, 31, 18, 26, 17, 18, 29, 1, 21, 18]\n",
            "ease, His tender hei  :  [18, 14, 30, 18, 3, 1, 9, 22, 30, 1, 31, 18, 26, 17, 18, 29, 1, 21, 18, 22]\n",
            "ase, His tender heir  :  [14, 30, 18, 3, 1, 9, 22, 30, 1, 31, 18, 26, 17, 18, 29, 1, 21, 18, 22, 29]\n",
            "se, His tender heir   :  [30, 18, 3, 1, 9, 22, 30, 1, 31, 18, 26, 17, 18, 29, 1, 21, 18, 22, 29, 1]\n",
            "e, His tender heir m  :  [18, 3, 1, 9, 22, 30, 1, 31, 18, 26, 17, 18, 29, 1, 21, 18, 22, 29, 1, 25]\n",
            ", His tender heir mi  :  [3, 1, 9, 22, 30, 1, 31, 18, 26, 17, 18, 29, 1, 21, 18, 22, 29, 1, 25, 22]\n",
            " His tender heir mig  :  [1, 9, 22, 30, 1, 31, 18, 26, 17, 18, 29, 1, 21, 18, 22, 29, 1, 25, 22, 20]\n",
            "His tender heir migh  :  [9, 22, 30, 1, 31, 18, 26, 17, 18, 29, 1, 21, 18, 22, 29, 1, 25, 22, 20, 21]\n",
            "is tender heir might  :  [22, 30, 1, 31, 18, 26, 17, 18, 29, 1, 21, 18, 22, 29, 1, 25, 22, 20, 21, 31]\n",
            "s tender heir might   :  [30, 1, 31, 18, 26, 17, 18, 29, 1, 21, 18, 22, 29, 1, 25, 22, 20, 21, 31, 1]\n",
            " tender heir might b  :  [1, 31, 18, 26, 17, 18, 29, 1, 21, 18, 22, 29, 1, 25, 22, 20, 21, 31, 1, 15]\n",
            "tender heir might be  :  [31, 18, 26, 17, 18, 29, 1, 21, 18, 22, 29, 1, 25, 22, 20, 21, 31, 1, 15, 18]\n",
            "ender heir might bea  :  [18, 26, 17, 18, 29, 1, 21, 18, 22, 29, 1, 25, 22, 20, 21, 31, 1, 15, 18, 14]\n",
            "nder heir might bear  :  [26, 17, 18, 29, 1, 21, 18, 22, 29, 1, 25, 22, 20, 21, 31, 1, 15, 18, 14, 29]\n",
            "der heir might bear   :  [17, 18, 29, 1, 21, 18, 22, 29, 1, 25, 22, 20, 21, 31, 1, 15, 18, 14, 29, 1]\n",
            "er heir might bear h  :  [18, 29, 1, 21, 18, 22, 29, 1, 25, 22, 20, 21, 31, 1, 15, 18, 14, 29, 1, 21]\n",
            "r heir might bear hi  :  [29, 1, 21, 18, 22, 29, 1, 25, 22, 20, 21, 31, 1, 15, 18, 14, 29, 1, 21, 22]\n",
            " heir might bear his  :  [1, 21, 18, 22, 29, 1, 25, 22, 20, 21, 31, 1, 15, 18, 14, 29, 1, 21, 22, 30]\n",
            "heir might bear his   :  [21, 18, 22, 29, 1, 25, 22, 20, 21, 31, 1, 15, 18, 14, 29, 1, 21, 22, 30, 1]\n",
            "eir might bear his m  :  [18, 22, 29, 1, 25, 22, 20, 21, 31, 1, 15, 18, 14, 29, 1, 21, 22, 30, 1, 25]\n",
            "ir might bear his me  :  [22, 29, 1, 25, 22, 20, 21, 31, 1, 15, 18, 14, 29, 1, 21, 22, 30, 1, 25, 18]\n",
            "r might bear his mem  :  [29, 1, 25, 22, 20, 21, 31, 1, 15, 18, 14, 29, 1, 21, 22, 30, 1, 25, 18, 25]\n",
            " might bear his memo  :  [1, 25, 22, 20, 21, 31, 1, 15, 18, 14, 29, 1, 21, 22, 30, 1, 25, 18, 25, 27]\n",
            "might bear his memor  :  [25, 22, 20, 21, 31, 1, 15, 18, 14, 29, 1, 21, 22, 30, 1, 25, 18, 25, 27, 29]\n",
            "ight bear his memory  :  [22, 20, 21, 31, 1, 15, 18, 14, 29, 1, 21, 22, 30, 1, 25, 18, 25, 27, 29, 35]\n",
            "ght bear his memory:  :  [20, 21, 31, 1, 15, 18, 14, 29, 1, 21, 22, 30, 1, 25, 18, 25, 27, 29, 35, 5]\n",
            "ht bear his memory:   :  [21, 31, 1, 15, 18, 14, 29, 1, 21, 22, 30, 1, 25, 18, 25, 27, 29, 35, 5, 1]\n",
            "t bear his memory: B  :  [31, 1, 15, 18, 14, 29, 1, 21, 22, 30, 1, 25, 18, 25, 27, 29, 35, 5, 1, 7]\n",
            " bear his memory: Bu  :  [1, 15, 18, 14, 29, 1, 21, 22, 30, 1, 25, 18, 25, 27, 29, 35, 5, 1, 7, 32]\n",
            "bear his memory: But  :  [15, 18, 14, 29, 1, 21, 22, 30, 1, 25, 18, 25, 27, 29, 35, 5, 1, 7, 32, 31]\n",
            "ear his memory: But   :  [18, 14, 29, 1, 21, 22, 30, 1, 25, 18, 25, 27, 29, 35, 5, 1, 7, 32, 31, 1]\n",
            "ar his memory: But t  :  [14, 29, 1, 21, 22, 30, 1, 25, 18, 25, 27, 29, 35, 5, 1, 7, 32, 31, 1, 31]\n",
            "r his memory: But th  :  [29, 1, 21, 22, 30, 1, 25, 18, 25, 27, 29, 35, 5, 1, 7, 32, 31, 1, 31, 21]\n",
            " his memory: But tho  :  [1, 21, 22, 30, 1, 25, 18, 25, 27, 29, 35, 5, 1, 7, 32, 31, 1, 31, 21, 27]\n",
            "his memory: But thou  :  [21, 22, 30, 1, 25, 18, 25, 27, 29, 35, 5, 1, 7, 32, 31, 1, 31, 21, 27, 32]\n",
            "is memory: But thou   :  [22, 30, 1, 25, 18, 25, 27, 29, 35, 5, 1, 7, 32, 31, 1, 31, 21, 27, 32, 1]\n",
            "s memory: But thou c  :  [30, 1, 25, 18, 25, 27, 29, 35, 5, 1, 7, 32, 31, 1, 31, 21, 27, 32, 1, 16]\n",
            " memory: But thou co  :  [1, 25, 18, 25, 27, 29, 35, 5, 1, 7, 32, 31, 1, 31, 21, 27, 32, 1, 16, 27]\n",
            "memory: But thou con  :  [25, 18, 25, 27, 29, 35, 5, 1, 7, 32, 31, 1, 31, 21, 27, 32, 1, 16, 27, 26]\n",
            "emory: But thou cont  :  [18, 25, 27, 29, 35, 5, 1, 7, 32, 31, 1, 31, 21, 27, 32, 1, 16, 27, 26, 31]\n",
            "mory: But thou contr  :  [25, 27, 29, 35, 5, 1, 7, 32, 31, 1, 31, 21, 27, 32, 1, 16, 27, 26, 31, 29]\n",
            "ory: But thou contra  :  [27, 29, 35, 5, 1, 7, 32, 31, 1, 31, 21, 27, 32, 1, 16, 27, 26, 31, 29, 14]\n",
            "ry: But thou contrac  :  [29, 35, 5, 1, 7, 32, 31, 1, 31, 21, 27, 32, 1, 16, 27, 26, 31, 29, 14, 16]\n",
            "y: But thou contract  :  [35, 5, 1, 7, 32, 31, 1, 31, 21, 27, 32, 1, 16, 27, 26, 31, 29, 14, 16, 31]\n",
            ": But thou contracte  :  [5, 1, 7, 32, 31, 1, 31, 21, 27, 32, 1, 16, 27, 26, 31, 29, 14, 16, 31, 18]\n",
            " But thou contracted  :  [1, 7, 32, 31, 1, 31, 21, 27, 32, 1, 16, 27, 26, 31, 29, 14, 16, 31, 18, 17]\n",
            "But thou contracted   :  [7, 32, 31, 1, 31, 21, 27, 32, 1, 16, 27, 26, 31, 29, 14, 16, 31, 18, 17, 1]\n",
            "ut thou contracted t  :  [32, 31, 1, 31, 21, 27, 32, 1, 16, 27, 26, 31, 29, 14, 16, 31, 18, 17, 1, 31]\n",
            "t thou contracted to  :  [31, 1, 31, 21, 27, 32, 1, 16, 27, 26, 31, 29, 14, 16, 31, 18, 17, 1, 31, 27]\n",
            " thou contracted to   :  [1, 31, 21, 27, 32, 1, 16, 27, 26, 31, 29, 14, 16, 31, 18, 17, 1, 31, 27, 1]\n",
            "thou contracted to t  :  [31, 21, 27, 32, 1, 16, 27, 26, 31, 29, 14, 16, 31, 18, 17, 1, 31, 27, 1, 31]\n",
            "hou contracted to th  :  [21, 27, 32, 1, 16, 27, 26, 31, 29, 14, 16, 31, 18, 17, 1, 31, 27, 1, 31, 21]\n",
            "ou contracted to thi  :  [27, 32, 1, 16, 27, 26, 31, 29, 14, 16, 31, 18, 17, 1, 31, 27, 1, 31, 21, 22]\n",
            "u contracted to thin  :  [32, 1, 16, 27, 26, 31, 29, 14, 16, 31, 18, 17, 1, 31, 27, 1, 31, 21, 22, 26]\n",
            " contracted to thine  :  [1, 16, 27, 26, 31, 29, 14, 16, 31, 18, 17, 1, 31, 27, 1, 31, 21, 22, 26, 18]\n",
            "contracted to thine   :  [16, 27, 26, 31, 29, 14, 16, 31, 18, 17, 1, 31, 27, 1, 31, 21, 22, 26, 18, 1]\n",
            "ontracted to thine o  :  [27, 26, 31, 29, 14, 16, 31, 18, 17, 1, 31, 27, 1, 31, 21, 22, 26, 18, 1, 27]\n",
            "ntracted to thine ow  :  [26, 31, 29, 14, 16, 31, 18, 17, 1, 31, 27, 1, 31, 21, 22, 26, 18, 1, 27, 34]\n",
            "tracted to thine own  :  [31, 29, 14, 16, 31, 18, 17, 1, 31, 27, 1, 31, 21, 22, 26, 18, 1, 27, 34, 26]\n",
            "racted to thine own   :  [29, 14, 16, 31, 18, 17, 1, 31, 27, 1, 31, 21, 22, 26, 18, 1, 27, 34, 26, 1]\n",
            "acted to thine own b  :  [14, 16, 31, 18, 17, 1, 31, 27, 1, 31, 21, 22, 26, 18, 1, 27, 34, 26, 1, 15]\n",
            "cted to thine own br  :  [16, 31, 18, 17, 1, 31, 27, 1, 31, 21, 22, 26, 18, 1, 27, 34, 26, 1, 15, 29]\n",
            "ted to thine own bri  :  [31, 18, 17, 1, 31, 27, 1, 31, 21, 22, 26, 18, 1, 27, 34, 26, 1, 15, 29, 22]\n",
            "ed to thine own brig  :  [18, 17, 1, 31, 27, 1, 31, 21, 22, 26, 18, 1, 27, 34, 26, 1, 15, 29, 22, 20]\n",
            "d to thine own brigh  :  [17, 1, 31, 27, 1, 31, 21, 22, 26, 18, 1, 27, 34, 26, 1, 15, 29, 22, 20, 21]\n",
            " to thine own bright  :  [1, 31, 27, 1, 31, 21, 22, 26, 18, 1, 27, 34, 26, 1, 15, 29, 22, 20, 21, 31]\n",
            "to thine own bright   :  [31, 27, 1, 31, 21, 22, 26, 18, 1, 27, 34, 26, 1, 15, 29, 22, 20, 21, 31, 1]\n",
            "o thine own bright e  :  [27, 1, 31, 21, 22, 26, 18, 1, 27, 34, 26, 1, 15, 29, 22, 20, 21, 31, 1, 18]\n",
            " thine own bright ey  :  [1, 31, 21, 22, 26, 18, 1, 27, 34, 26, 1, 15, 29, 22, 20, 21, 31, 1, 18, 35]\n",
            "thine own bright eye  :  [31, 21, 22, 26, 18, 1, 27, 34, 26, 1, 15, 29, 22, 20, 21, 31, 1, 18, 35, 18]\n",
            "hine own bright eyes  :  [21, 22, 26, 18, 1, 27, 34, 26, 1, 15, 29, 22, 20, 21, 31, 1, 18, 35, 18, 30]\n",
            "ine own bright eyes,  :  [22, 26, 18, 1, 27, 34, 26, 1, 15, 29, 22, 20, 21, 31, 1, 18, 35, 18, 30, 3]\n",
            "ne own bright eyes,   :  [26, 18, 1, 27, 34, 26, 1, 15, 29, 22, 20, 21, 31, 1, 18, 35, 18, 30, 3, 1]\n",
            "e own bright eyes, F  :  [18, 1, 27, 34, 26, 1, 15, 29, 22, 20, 21, 31, 1, 18, 35, 18, 30, 3, 1, 8]\n",
            " own bright eyes, Fe  :  [1, 27, 34, 26, 1, 15, 29, 22, 20, 21, 31, 1, 18, 35, 18, 30, 3, 1, 8, 18]\n",
            "own bright eyes, Fee  :  [27, 34, 26, 1, 15, 29, 22, 20, 21, 31, 1, 18, 35, 18, 30, 3, 1, 8, 18, 18]\n",
            "wn bright eyes, Feed  :  [34, 26, 1, 15, 29, 22, 20, 21, 31, 1, 18, 35, 18, 30, 3, 1, 8, 18, 18, 17]\n",
            "n bright eyes, Feed'  :  [26, 1, 15, 29, 22, 20, 21, 31, 1, 18, 35, 18, 30, 3, 1, 8, 18, 18, 17, 2]\n",
            " bright eyes, Feed's  :  [1, 15, 29, 22, 20, 21, 31, 1, 18, 35, 18, 30, 3, 1, 8, 18, 18, 17, 2, 30]\n",
            "bright eyes, Feed'st  :  [15, 29, 22, 20, 21, 31, 1, 18, 35, 18, 30, 3, 1, 8, 18, 18, 17, 2, 30, 31]\n",
            "right eyes, Feed'st   :  [29, 22, 20, 21, 31, 1, 18, 35, 18, 30, 3, 1, 8, 18, 18, 17, 2, 30, 31, 1]\n",
            "ight eyes, Feed'st t  :  [22, 20, 21, 31, 1, 18, 35, 18, 30, 3, 1, 8, 18, 18, 17, 2, 30, 31, 1, 31]\n",
            "ght eyes, Feed'st th  :  [20, 21, 31, 1, 18, 35, 18, 30, 3, 1, 8, 18, 18, 17, 2, 30, 31, 1, 31, 21]\n",
            "ht eyes, Feed'st thy  :  [21, 31, 1, 18, 35, 18, 30, 3, 1, 8, 18, 18, 17, 2, 30, 31, 1, 31, 21, 35]\n",
            "t eyes, Feed'st thy   :  [31, 1, 18, 35, 18, 30, 3, 1, 8, 18, 18, 17, 2, 30, 31, 1, 31, 21, 35, 1]\n",
            " eyes, Feed'st thy l  :  [1, 18, 35, 18, 30, 3, 1, 8, 18, 18, 17, 2, 30, 31, 1, 31, 21, 35, 1, 24]\n",
            "eyes, Feed'st thy li  :  [18, 35, 18, 30, 3, 1, 8, 18, 18, 17, 2, 30, 31, 1, 31, 21, 35, 1, 24, 22]\n",
            "yes, Feed'st thy lig  :  [35, 18, 30, 3, 1, 8, 18, 18, 17, 2, 30, 31, 1, 31, 21, 35, 1, 24, 22, 20]\n",
            "es, Feed'st thy ligh  :  [18, 30, 3, 1, 8, 18, 18, 17, 2, 30, 31, 1, 31, 21, 35, 1, 24, 22, 20, 21]\n",
            "s, Feed'st thy light  :  [30, 3, 1, 8, 18, 18, 17, 2, 30, 31, 1, 31, 21, 35, 1, 24, 22, 20, 21, 31]\n",
            ", Feed'st thy light'  :  [3, 1, 8, 18, 18, 17, 2, 30, 31, 1, 31, 21, 35, 1, 24, 22, 20, 21, 31, 2]\n",
            " Feed'st thy light's  :  [1, 8, 18, 18, 17, 2, 30, 31, 1, 31, 21, 35, 1, 24, 22, 20, 21, 31, 2, 30]\n",
            "Feed'st thy light's   :  [8, 18, 18, 17, 2, 30, 31, 1, 31, 21, 35, 1, 24, 22, 20, 21, 31, 2, 30, 1]\n",
            "eed'st thy light's f  :  [18, 18, 17, 2, 30, 31, 1, 31, 21, 35, 1, 24, 22, 20, 21, 31, 2, 30, 1, 19]\n",
            "ed'st thy light's fl  :  [18, 17, 2, 30, 31, 1, 31, 21, 35, 1, 24, 22, 20, 21, 31, 2, 30, 1, 19, 24]\n",
            "d'st thy light's fla  :  [17, 2, 30, 31, 1, 31, 21, 35, 1, 24, 22, 20, 21, 31, 2, 30, 1, 19, 24, 14]\n",
            "'st thy light's flam  :  [2, 30, 31, 1, 31, 21, 35, 1, 24, 22, 20, 21, 31, 2, 30, 1, 19, 24, 14, 25]\n",
            "st thy light's flame  :  [30, 31, 1, 31, 21, 35, 1, 24, 22, 20, 21, 31, 2, 30, 1, 19, 24, 14, 25, 18]\n",
            "t thy light's flame   :  [31, 1, 31, 21, 35, 1, 24, 22, 20, 21, 31, 2, 30, 1, 19, 24, 14, 25, 18, 1]\n",
            " thy light's flame w  :  [1, 31, 21, 35, 1, 24, 22, 20, 21, 31, 2, 30, 1, 19, 24, 14, 25, 18, 1, 34]\n",
            "thy light's flame wi  :  [31, 21, 35, 1, 24, 22, 20, 21, 31, 2, 30, 1, 19, 24, 14, 25, 18, 1, 34, 22]\n",
            "hy light's flame wit  :  [21, 35, 1, 24, 22, 20, 21, 31, 2, 30, 1, 19, 24, 14, 25, 18, 1, 34, 22, 31]\n",
            "y light's flame with  :  [35, 1, 24, 22, 20, 21, 31, 2, 30, 1, 19, 24, 14, 25, 18, 1, 34, 22, 31, 21]\n",
            " light's flame with   :  [1, 24, 22, 20, 21, 31, 2, 30, 1, 19, 24, 14, 25, 18, 1, 34, 22, 31, 21, 1]\n",
            "light's flame with s  :  [24, 22, 20, 21, 31, 2, 30, 1, 19, 24, 14, 25, 18, 1, 34, 22, 31, 21, 1, 30]\n",
            "ight's flame with se  :  [22, 20, 21, 31, 2, 30, 1, 19, 24, 14, 25, 18, 1, 34, 22, 31, 21, 1, 30, 18]\n",
            "ght's flame with sel  :  [20, 21, 31, 2, 30, 1, 19, 24, 14, 25, 18, 1, 34, 22, 31, 21, 1, 30, 18, 24]\n",
            "ht's flame with self  :  [21, 31, 2, 30, 1, 19, 24, 14, 25, 18, 1, 34, 22, 31, 21, 1, 30, 18, 24, 19]\n",
            "t's flame with self-  :  [31, 2, 30, 1, 19, 24, 14, 25, 18, 1, 34, 22, 31, 21, 1, 30, 18, 24, 19, 4]\n",
            "'s flame with self-s  :  [2, 30, 1, 19, 24, 14, 25, 18, 1, 34, 22, 31, 21, 1, 30, 18, 24, 19, 4, 30]\n",
            "s flame with self-su  :  [30, 1, 19, 24, 14, 25, 18, 1, 34, 22, 31, 21, 1, 30, 18, 24, 19, 4, 30, 32]\n",
            " flame with self-sub  :  [1, 19, 24, 14, 25, 18, 1, 34, 22, 31, 21, 1, 30, 18, 24, 19, 4, 30, 32, 15]\n",
            "flame with self-subs  :  [19, 24, 14, 25, 18, 1, 34, 22, 31, 21, 1, 30, 18, 24, 19, 4, 30, 32, 15, 30]\n",
            "lame with self-subst  :  [24, 14, 25, 18, 1, 34, 22, 31, 21, 1, 30, 18, 24, 19, 4, 30, 32, 15, 30, 31]\n",
            "ame with self-substa  :  [14, 25, 18, 1, 34, 22, 31, 21, 1, 30, 18, 24, 19, 4, 30, 32, 15, 30, 31, 14]\n",
            "me with self-substan  :  [25, 18, 1, 34, 22, 31, 21, 1, 30, 18, 24, 19, 4, 30, 32, 15, 30, 31, 14, 26]\n",
            "e with self-substant  :  [18, 1, 34, 22, 31, 21, 1, 30, 18, 24, 19, 4, 30, 32, 15, 30, 31, 14, 26, 31]\n",
            " with self-substanti  :  [1, 34, 22, 31, 21, 1, 30, 18, 24, 19, 4, 30, 32, 15, 30, 31, 14, 26, 31, 22]\n",
            "with self-substantia  :  [34, 22, 31, 21, 1, 30, 18, 24, 19, 4, 30, 32, 15, 30, 31, 14, 26, 31, 22, 14]\n",
            "ith self-substantial  :  [22, 31, 21, 1, 30, 18, 24, 19, 4, 30, 32, 15, 30, 31, 14, 26, 31, 22, 14, 24]\n",
            "th self-substantial   :  [31, 21, 1, 30, 18, 24, 19, 4, 30, 32, 15, 30, 31, 14, 26, 31, 22, 14, 24, 1]\n",
            "h self-substantial f  :  [21, 1, 30, 18, 24, 19, 4, 30, 32, 15, 30, 31, 14, 26, 31, 22, 14, 24, 1, 19]\n",
            " self-substantial fu  :  [1, 30, 18, 24, 19, 4, 30, 32, 15, 30, 31, 14, 26, 31, 22, 14, 24, 1, 19, 32]\n",
            "self-substantial fue  :  [30, 18, 24, 19, 4, 30, 32, 15, 30, 31, 14, 26, 31, 22, 14, 24, 1, 19, 32, 18]\n",
            "elf-substantial fuel  :  [18, 24, 19, 4, 30, 32, 15, 30, 31, 14, 26, 31, 22, 14, 24, 1, 19, 32, 18, 24]\n",
            "lf-substantial fuel,  :  [24, 19, 4, 30, 32, 15, 30, 31, 14, 26, 31, 22, 14, 24, 1, 19, 32, 18, 24, 3]\n",
            "f-substantial fuel,   :  [19, 4, 30, 32, 15, 30, 31, 14, 26, 31, 22, 14, 24, 1, 19, 32, 18, 24, 3, 1]\n",
            "-substantial fuel, M  :  [4, 30, 32, 15, 30, 31, 14, 26, 31, 22, 14, 24, 1, 19, 32, 18, 24, 3, 1, 10]\n",
            "substantial fuel, Ma  :  [30, 32, 15, 30, 31, 14, 26, 31, 22, 14, 24, 1, 19, 32, 18, 24, 3, 1, 10, 14]\n",
            "ubstantial fuel, Mak  :  [32, 15, 30, 31, 14, 26, 31, 22, 14, 24, 1, 19, 32, 18, 24, 3, 1, 10, 14, 23]\n",
            "bstantial fuel, Maki  :  [15, 30, 31, 14, 26, 31, 22, 14, 24, 1, 19, 32, 18, 24, 3, 1, 10, 14, 23, 22]\n",
            "stantial fuel, Makin  :  [30, 31, 14, 26, 31, 22, 14, 24, 1, 19, 32, 18, 24, 3, 1, 10, 14, 23, 22, 26]\n",
            "tantial fuel, Making  :  [31, 14, 26, 31, 22, 14, 24, 1, 19, 32, 18, 24, 3, 1, 10, 14, 23, 22, 26, 20]\n",
            "antial fuel, Making   :  [14, 26, 31, 22, 14, 24, 1, 19, 32, 18, 24, 3, 1, 10, 14, 23, 22, 26, 20, 1]\n",
            "ntial fuel, Making a  :  [26, 31, 22, 14, 24, 1, 19, 32, 18, 24, 3, 1, 10, 14, 23, 22, 26, 20, 1, 14]\n",
            "tial fuel, Making a   :  [31, 22, 14, 24, 1, 19, 32, 18, 24, 3, 1, 10, 14, 23, 22, 26, 20, 1, 14, 1]\n",
            "ial fuel, Making a f  :  [22, 14, 24, 1, 19, 32, 18, 24, 3, 1, 10, 14, 23, 22, 26, 20, 1, 14, 1, 19]\n",
            "al fuel, Making a fa  :  [14, 24, 1, 19, 32, 18, 24, 3, 1, 10, 14, 23, 22, 26, 20, 1, 14, 1, 19, 14]\n",
            "l fuel, Making a fam  :  [24, 1, 19, 32, 18, 24, 3, 1, 10, 14, 23, 22, 26, 20, 1, 14, 1, 19, 14, 25]\n",
            " fuel, Making a fami  :  [1, 19, 32, 18, 24, 3, 1, 10, 14, 23, 22, 26, 20, 1, 14, 1, 19, 14, 25, 22]\n",
            "fuel, Making a famin  :  [19, 32, 18, 24, 3, 1, 10, 14, 23, 22, 26, 20, 1, 14, 1, 19, 14, 25, 22, 26]\n",
            "uel, Making a famine  :  [32, 18, 24, 3, 1, 10, 14, 23, 22, 26, 20, 1, 14, 1, 19, 14, 25, 22, 26, 18]\n",
            "el, Making a famine   :  [18, 24, 3, 1, 10, 14, 23, 22, 26, 20, 1, 14, 1, 19, 14, 25, 22, 26, 18, 1]\n",
            "l, Making a famine w  :  [24, 3, 1, 10, 14, 23, 22, 26, 20, 1, 14, 1, 19, 14, 25, 22, 26, 18, 1, 34]\n",
            ", Making a famine wh  :  [3, 1, 10, 14, 23, 22, 26, 20, 1, 14, 1, 19, 14, 25, 22, 26, 18, 1, 34, 21]\n",
            " Making a famine whe  :  [1, 10, 14, 23, 22, 26, 20, 1, 14, 1, 19, 14, 25, 22, 26, 18, 1, 34, 21, 18]\n",
            "Making a famine wher  :  [10, 14, 23, 22, 26, 20, 1, 14, 1, 19, 14, 25, 22, 26, 18, 1, 34, 21, 18, 29]\n",
            "aking a famine where  :  [14, 23, 22, 26, 20, 1, 14, 1, 19, 14, 25, 22, 26, 18, 1, 34, 21, 18, 29, 18]\n",
            "king a famine where   :  [23, 22, 26, 20, 1, 14, 1, 19, 14, 25, 22, 26, 18, 1, 34, 21, 18, 29, 18, 1]\n",
            "ing a famine where a  :  [22, 26, 20, 1, 14, 1, 19, 14, 25, 22, 26, 18, 1, 34, 21, 18, 29, 18, 1, 14]\n",
            "ng a famine where ab  :  [26, 20, 1, 14, 1, 19, 14, 25, 22, 26, 18, 1, 34, 21, 18, 29, 18, 1, 14, 15]\n",
            "g a famine where abu  :  [20, 1, 14, 1, 19, 14, 25, 22, 26, 18, 1, 34, 21, 18, 29, 18, 1, 14, 15, 32]\n",
            " a famine where abun  :  [1, 14, 1, 19, 14, 25, 22, 26, 18, 1, 34, 21, 18, 29, 18, 1, 14, 15, 32, 26]\n",
            "a famine where abund  :  [14, 1, 19, 14, 25, 22, 26, 18, 1, 34, 21, 18, 29, 18, 1, 14, 15, 32, 26, 17]\n",
            " famine where abunda  :  [1, 19, 14, 25, 22, 26, 18, 1, 34, 21, 18, 29, 18, 1, 14, 15, 32, 26, 17, 14]\n",
            "famine where abundan  :  [19, 14, 25, 22, 26, 18, 1, 34, 21, 18, 29, 18, 1, 14, 15, 32, 26, 17, 14, 26]\n",
            "amine where abundanc  :  [14, 25, 22, 26, 18, 1, 34, 21, 18, 29, 18, 1, 14, 15, 32, 26, 17, 14, 26, 16]\n",
            "mine where abundance  :  [25, 22, 26, 18, 1, 34, 21, 18, 29, 18, 1, 14, 15, 32, 26, 17, 14, 26, 16, 18]\n",
            "ine where abundance   :  [22, 26, 18, 1, 34, 21, 18, 29, 18, 1, 14, 15, 32, 26, 17, 14, 26, 16, 18, 1]\n",
            "ne where abundance l  :  [26, 18, 1, 34, 21, 18, 29, 18, 1, 14, 15, 32, 26, 17, 14, 26, 16, 18, 1, 24]\n",
            "e where abundance li  :  [18, 1, 34, 21, 18, 29, 18, 1, 14, 15, 32, 26, 17, 14, 26, 16, 18, 1, 24, 22]\n",
            " where abundance lie  :  [1, 34, 21, 18, 29, 18, 1, 14, 15, 32, 26, 17, 14, 26, 16, 18, 1, 24, 22, 18]\n",
            "where abundance lies  :  [34, 21, 18, 29, 18, 1, 14, 15, 32, 26, 17, 14, 26, 16, 18, 1, 24, 22, 18, 30]\n",
            "here abundance lies,  :  [21, 18, 29, 18, 1, 14, 15, 32, 26, 17, 14, 26, 16, 18, 1, 24, 22, 18, 30, 3]\n",
            "ere abundance lies,   :  [18, 29, 18, 1, 14, 15, 32, 26, 17, 14, 26, 16, 18, 1, 24, 22, 18, 30, 3, 1]\n",
            "re abundance lies, T  :  [29, 18, 1, 14, 15, 32, 26, 17, 14, 26, 16, 18, 1, 24, 22, 18, 30, 3, 1, 12]\n",
            "e abundance lies, Th  :  [18, 1, 14, 15, 32, 26, 17, 14, 26, 16, 18, 1, 24, 22, 18, 30, 3, 1, 12, 21]\n",
            " abundance lies, Thy  :  [1, 14, 15, 32, 26, 17, 14, 26, 16, 18, 1, 24, 22, 18, 30, 3, 1, 12, 21, 35]\n",
            "abundance lies, Thy   :  [14, 15, 32, 26, 17, 14, 26, 16, 18, 1, 24, 22, 18, 30, 3, 1, 12, 21, 35, 1]\n",
            "bundance lies, Thy s  :  [15, 32, 26, 17, 14, 26, 16, 18, 1, 24, 22, 18, 30, 3, 1, 12, 21, 35, 1, 30]\n",
            "undance lies, Thy se  :  [32, 26, 17, 14, 26, 16, 18, 1, 24, 22, 18, 30, 3, 1, 12, 21, 35, 1, 30, 18]\n",
            "ndance lies, Thy sel  :  [26, 17, 14, 26, 16, 18, 1, 24, 22, 18, 30, 3, 1, 12, 21, 35, 1, 30, 18, 24]\n",
            "dance lies, Thy self  :  [17, 14, 26, 16, 18, 1, 24, 22, 18, 30, 3, 1, 12, 21, 35, 1, 30, 18, 24, 19]\n",
            "ance lies, Thy self   :  [14, 26, 16, 18, 1, 24, 22, 18, 30, 3, 1, 12, 21, 35, 1, 30, 18, 24, 19, 1]\n",
            "nce lies, Thy self t  :  [26, 16, 18, 1, 24, 22, 18, 30, 3, 1, 12, 21, 35, 1, 30, 18, 24, 19, 1, 31]\n",
            "ce lies, Thy self th  :  [16, 18, 1, 24, 22, 18, 30, 3, 1, 12, 21, 35, 1, 30, 18, 24, 19, 1, 31, 21]\n",
            "e lies, Thy self thy  :  [18, 1, 24, 22, 18, 30, 3, 1, 12, 21, 35, 1, 30, 18, 24, 19, 1, 31, 21, 35]\n",
            " lies, Thy self thy   :  [1, 24, 22, 18, 30, 3, 1, 12, 21, 35, 1, 30, 18, 24, 19, 1, 31, 21, 35, 1]\n",
            "lies, Thy self thy f  :  [24, 22, 18, 30, 3, 1, 12, 21, 35, 1, 30, 18, 24, 19, 1, 31, 21, 35, 1, 19]\n",
            "ies, Thy self thy fo  :  [22, 18, 30, 3, 1, 12, 21, 35, 1, 30, 18, 24, 19, 1, 31, 21, 35, 1, 19, 27]\n",
            "es, Thy self thy foe  :  [18, 30, 3, 1, 12, 21, 35, 1, 30, 18, 24, 19, 1, 31, 21, 35, 1, 19, 27, 18]\n",
            "s, Thy self thy foe,  :  [30, 3, 1, 12, 21, 35, 1, 30, 18, 24, 19, 1, 31, 21, 35, 1, 19, 27, 18, 3]\n",
            ", Thy self thy foe,   :  [3, 1, 12, 21, 35, 1, 30, 18, 24, 19, 1, 31, 21, 35, 1, 19, 27, 18, 3, 1]\n",
            " Thy self thy foe, t  :  [1, 12, 21, 35, 1, 30, 18, 24, 19, 1, 31, 21, 35, 1, 19, 27, 18, 3, 1, 31]\n",
            "Thy self thy foe, to  :  [12, 21, 35, 1, 30, 18, 24, 19, 1, 31, 21, 35, 1, 19, 27, 18, 3, 1, 31, 27]\n",
            "hy self thy foe, to   :  [21, 35, 1, 30, 18, 24, 19, 1, 31, 21, 35, 1, 19, 27, 18, 3, 1, 31, 27, 1]\n",
            "y self thy foe, to t  :  [35, 1, 30, 18, 24, 19, 1, 31, 21, 35, 1, 19, 27, 18, 3, 1, 31, 27, 1, 31]\n",
            " self thy foe, to th  :  [1, 30, 18, 24, 19, 1, 31, 21, 35, 1, 19, 27, 18, 3, 1, 31, 27, 1, 31, 21]\n",
            "self thy foe, to thy  :  [30, 18, 24, 19, 1, 31, 21, 35, 1, 19, 27, 18, 3, 1, 31, 27, 1, 31, 21, 35]\n",
            "elf thy foe, to thy   :  [18, 24, 19, 1, 31, 21, 35, 1, 19, 27, 18, 3, 1, 31, 27, 1, 31, 21, 35, 1]\n",
            "lf thy foe, to thy s  :  [24, 19, 1, 31, 21, 35, 1, 19, 27, 18, 3, 1, 31, 27, 1, 31, 21, 35, 1, 30]\n",
            "f thy foe, to thy sw  :  [19, 1, 31, 21, 35, 1, 19, 27, 18, 3, 1, 31, 27, 1, 31, 21, 35, 1, 30, 34]\n",
            " thy foe, to thy swe  :  [1, 31, 21, 35, 1, 19, 27, 18, 3, 1, 31, 27, 1, 31, 21, 35, 1, 30, 34, 18]\n",
            "thy foe, to thy swee  :  [31, 21, 35, 1, 19, 27, 18, 3, 1, 31, 27, 1, 31, 21, 35, 1, 30, 34, 18, 18]\n",
            "hy foe, to thy sweet  :  [21, 35, 1, 19, 27, 18, 3, 1, 31, 27, 1, 31, 21, 35, 1, 30, 34, 18, 18, 31]\n",
            "y foe, to thy sweet   :  [35, 1, 19, 27, 18, 3, 1, 31, 27, 1, 31, 21, 35, 1, 30, 34, 18, 18, 31, 1]\n",
            " foe, to thy sweet s  :  [1, 19, 27, 18, 3, 1, 31, 27, 1, 31, 21, 35, 1, 30, 34, 18, 18, 31, 1, 30]\n",
            "foe, to thy sweet se  :  [19, 27, 18, 3, 1, 31, 27, 1, 31, 21, 35, 1, 30, 34, 18, 18, 31, 1, 30, 18]\n",
            "oe, to thy sweet sel  :  [27, 18, 3, 1, 31, 27, 1, 31, 21, 35, 1, 30, 34, 18, 18, 31, 1, 30, 18, 24]\n",
            "e, to thy sweet self  :  [18, 3, 1, 31, 27, 1, 31, 21, 35, 1, 30, 34, 18, 18, 31, 1, 30, 18, 24, 19]\n",
            ", to thy sweet self   :  [3, 1, 31, 27, 1, 31, 21, 35, 1, 30, 34, 18, 18, 31, 1, 30, 18, 24, 19, 1]\n",
            " to thy sweet self t  :  [1, 31, 27, 1, 31, 21, 35, 1, 30, 34, 18, 18, 31, 1, 30, 18, 24, 19, 1, 31]\n",
            "to thy sweet self to  :  [31, 27, 1, 31, 21, 35, 1, 30, 34, 18, 18, 31, 1, 30, 18, 24, 19, 1, 31, 27]\n",
            "o thy sweet self too  :  [27, 1, 31, 21, 35, 1, 30, 34, 18, 18, 31, 1, 30, 18, 24, 19, 1, 31, 27, 27]\n",
            " thy sweet self too   :  [1, 31, 21, 35, 1, 30, 34, 18, 18, 31, 1, 30, 18, 24, 19, 1, 31, 27, 27, 1]\n",
            "thy sweet self too c  :  [31, 21, 35, 1, 30, 34, 18, 18, 31, 1, 30, 18, 24, 19, 1, 31, 27, 27, 1, 16]\n",
            "hy sweet self too cr  :  [21, 35, 1, 30, 34, 18, 18, 31, 1, 30, 18, 24, 19, 1, 31, 27, 27, 1, 16, 29]\n",
            "y sweet self too cru  :  [35, 1, 30, 34, 18, 18, 31, 1, 30, 18, 24, 19, 1, 31, 27, 27, 1, 16, 29, 32]\n",
            " sweet self too crue  :  [1, 30, 34, 18, 18, 31, 1, 30, 18, 24, 19, 1, 31, 27, 27, 1, 16, 29, 32, 18]\n",
            "sweet self too cruel  :  [30, 34, 18, 18, 31, 1, 30, 18, 24, 19, 1, 31, 27, 27, 1, 16, 29, 32, 18, 24]\n",
            "weet self too cruel:  :  [34, 18, 18, 31, 1, 30, 18, 24, 19, 1, 31, 27, 27, 1, 16, 29, 32, 18, 24, 5]\n",
            "eet self too cruel:   :  [18, 18, 31, 1, 30, 18, 24, 19, 1, 31, 27, 27, 1, 16, 29, 32, 18, 24, 5, 1]\n",
            "et self too cruel: T  :  [18, 31, 1, 30, 18, 24, 19, 1, 31, 27, 27, 1, 16, 29, 32, 18, 24, 5, 1, 12]\n",
            "t self too cruel: Th  :  [31, 1, 30, 18, 24, 19, 1, 31, 27, 27, 1, 16, 29, 32, 18, 24, 5, 1, 12, 21]\n",
            " self too cruel: Tho  :  [1, 30, 18, 24, 19, 1, 31, 27, 27, 1, 16, 29, 32, 18, 24, 5, 1, 12, 21, 27]\n",
            "self too cruel: Thou  :  [30, 18, 24, 19, 1, 31, 27, 27, 1, 16, 29, 32, 18, 24, 5, 1, 12, 21, 27, 32]\n",
            "elf too cruel: Thou   :  [18, 24, 19, 1, 31, 27, 27, 1, 16, 29, 32, 18, 24, 5, 1, 12, 21, 27, 32, 1]\n",
            "lf too cruel: Thou t  :  [24, 19, 1, 31, 27, 27, 1, 16, 29, 32, 18, 24, 5, 1, 12, 21, 27, 32, 1, 31]\n",
            "f too cruel: Thou th  :  [19, 1, 31, 27, 27, 1, 16, 29, 32, 18, 24, 5, 1, 12, 21, 27, 32, 1, 31, 21]\n",
            " too cruel: Thou tha  :  [1, 31, 27, 27, 1, 16, 29, 32, 18, 24, 5, 1, 12, 21, 27, 32, 1, 31, 21, 14]\n",
            "too cruel: Thou that  :  [31, 27, 27, 1, 16, 29, 32, 18, 24, 5, 1, 12, 21, 27, 32, 1, 31, 21, 14, 31]\n",
            "oo cruel: Thou that   :  [27, 27, 1, 16, 29, 32, 18, 24, 5, 1, 12, 21, 27, 32, 1, 31, 21, 14, 31, 1]\n",
            "o cruel: Thou that a  :  [27, 1, 16, 29, 32, 18, 24, 5, 1, 12, 21, 27, 32, 1, 31, 21, 14, 31, 1, 14]\n",
            " cruel: Thou that ar  :  [1, 16, 29, 32, 18, 24, 5, 1, 12, 21, 27, 32, 1, 31, 21, 14, 31, 1, 14, 29]\n",
            "cruel: Thou that art  :  [16, 29, 32, 18, 24, 5, 1, 12, 21, 27, 32, 1, 31, 21, 14, 31, 1, 14, 29, 31]\n",
            "ruel: Thou that art   :  [29, 32, 18, 24, 5, 1, 12, 21, 27, 32, 1, 31, 21, 14, 31, 1, 14, 29, 31, 1]\n",
            "uel: Thou that art n  :  [32, 18, 24, 5, 1, 12, 21, 27, 32, 1, 31, 21, 14, 31, 1, 14, 29, 31, 1, 26]\n",
            "el: Thou that art no  :  [18, 24, 5, 1, 12, 21, 27, 32, 1, 31, 21, 14, 31, 1, 14, 29, 31, 1, 26, 27]\n",
            "l: Thou that art now  :  [24, 5, 1, 12, 21, 27, 32, 1, 31, 21, 14, 31, 1, 14, 29, 31, 1, 26, 27, 34]\n",
            ": Thou that art now   :  [5, 1, 12, 21, 27, 32, 1, 31, 21, 14, 31, 1, 14, 29, 31, 1, 26, 27, 34, 1]\n",
            " Thou that art now t  :  [1, 12, 21, 27, 32, 1, 31, 21, 14, 31, 1, 14, 29, 31, 1, 26, 27, 34, 1, 31]\n",
            "Thou that art now th  :  [12, 21, 27, 32, 1, 31, 21, 14, 31, 1, 14, 29, 31, 1, 26, 27, 34, 1, 31, 21]\n",
            "hou that art now the  :  [21, 27, 32, 1, 31, 21, 14, 31, 1, 14, 29, 31, 1, 26, 27, 34, 1, 31, 21, 18]\n",
            "ou that art now the   :  [27, 32, 1, 31, 21, 14, 31, 1, 14, 29, 31, 1, 26, 27, 34, 1, 31, 21, 18, 1]\n",
            "u that art now the w  :  [32, 1, 31, 21, 14, 31, 1, 14, 29, 31, 1, 26, 27, 34, 1, 31, 21, 18, 1, 34]\n",
            " that art now the wo  :  [1, 31, 21, 14, 31, 1, 14, 29, 31, 1, 26, 27, 34, 1, 31, 21, 18, 1, 34, 27]\n",
            "that art now the wor  :  [31, 21, 14, 31, 1, 14, 29, 31, 1, 26, 27, 34, 1, 31, 21, 18, 1, 34, 27, 29]\n",
            "hat art now the worl  :  [21, 14, 31, 1, 14, 29, 31, 1, 26, 27, 34, 1, 31, 21, 18, 1, 34, 27, 29, 24]\n",
            "at art now the world  :  [14, 31, 1, 14, 29, 31, 1, 26, 27, 34, 1, 31, 21, 18, 1, 34, 27, 29, 24, 17]\n",
            "t art now the world'  :  [31, 1, 14, 29, 31, 1, 26, 27, 34, 1, 31, 21, 18, 1, 34, 27, 29, 24, 17, 2]\n",
            " art now the world's  :  [1, 14, 29, 31, 1, 26, 27, 34, 1, 31, 21, 18, 1, 34, 27, 29, 24, 17, 2, 30]\n",
            "art now the world's   :  [14, 29, 31, 1, 26, 27, 34, 1, 31, 21, 18, 1, 34, 27, 29, 24, 17, 2, 30, 1]\n",
            "rt now the world's f  :  [29, 31, 1, 26, 27, 34, 1, 31, 21, 18, 1, 34, 27, 29, 24, 17, 2, 30, 1, 19]\n",
            "t now the world's fr  :  [31, 1, 26, 27, 34, 1, 31, 21, 18, 1, 34, 27, 29, 24, 17, 2, 30, 1, 19, 29]\n",
            " now the world's fre  :  [1, 26, 27, 34, 1, 31, 21, 18, 1, 34, 27, 29, 24, 17, 2, 30, 1, 19, 29, 18]\n",
            "now the world's fres  :  [26, 27, 34, 1, 31, 21, 18, 1, 34, 27, 29, 24, 17, 2, 30, 1, 19, 29, 18, 30]\n",
            "ow the world's fresh  :  [27, 34, 1, 31, 21, 18, 1, 34, 27, 29, 24, 17, 2, 30, 1, 19, 29, 18, 30, 21]\n",
            "w the world's fresh   :  [34, 1, 31, 21, 18, 1, 34, 27, 29, 24, 17, 2, 30, 1, 19, 29, 18, 30, 21, 1]\n",
            " the world's fresh o  :  [1, 31, 21, 18, 1, 34, 27, 29, 24, 17, 2, 30, 1, 19, 29, 18, 30, 21, 1, 27]\n",
            "the world's fresh or  :  [31, 21, 18, 1, 34, 27, 29, 24, 17, 2, 30, 1, 19, 29, 18, 30, 21, 1, 27, 29]\n",
            "he world's fresh orn  :  [21, 18, 1, 34, 27, 29, 24, 17, 2, 30, 1, 19, 29, 18, 30, 21, 1, 27, 29, 26]\n",
            "e world's fresh orna  :  [18, 1, 34, 27, 29, 24, 17, 2, 30, 1, 19, 29, 18, 30, 21, 1, 27, 29, 26, 14]\n",
            " world's fresh ornam  :  [1, 34, 27, 29, 24, 17, 2, 30, 1, 19, 29, 18, 30, 21, 1, 27, 29, 26, 14, 25]\n",
            "world's fresh orname  :  [34, 27, 29, 24, 17, 2, 30, 1, 19, 29, 18, 30, 21, 1, 27, 29, 26, 14, 25, 18]\n",
            "orld's fresh ornamen  :  [27, 29, 24, 17, 2, 30, 1, 19, 29, 18, 30, 21, 1, 27, 29, 26, 14, 25, 18, 26]\n",
            "rld's fresh ornament  :  [29, 24, 17, 2, 30, 1, 19, 29, 18, 30, 21, 1, 27, 29, 26, 14, 25, 18, 26, 31]\n",
            "ld's fresh ornament,  :  [24, 17, 2, 30, 1, 19, 29, 18, 30, 21, 1, 27, 29, 26, 14, 25, 18, 26, 31, 3]\n",
            "d's fresh ornament,   :  [17, 2, 30, 1, 19, 29, 18, 30, 21, 1, 27, 29, 26, 14, 25, 18, 26, 31, 3, 1]\n",
            "'s fresh ornament, A  :  [2, 30, 1, 19, 29, 18, 30, 21, 1, 27, 29, 26, 14, 25, 18, 26, 31, 3, 1, 6]\n",
            "s fresh ornament, An  :  [30, 1, 19, 29, 18, 30, 21, 1, 27, 29, 26, 14, 25, 18, 26, 31, 3, 1, 6, 26]\n",
            " fresh ornament, And  :  [1, 19, 29, 18, 30, 21, 1, 27, 29, 26, 14, 25, 18, 26, 31, 3, 1, 6, 26, 17]\n",
            "fresh ornament, And   :  [19, 29, 18, 30, 21, 1, 27, 29, 26, 14, 25, 18, 26, 31, 3, 1, 6, 26, 17, 1]\n",
            "resh ornament, And o  :  [29, 18, 30, 21, 1, 27, 29, 26, 14, 25, 18, 26, 31, 3, 1, 6, 26, 17, 1, 27]\n",
            "esh ornament, And on  :  [18, 30, 21, 1, 27, 29, 26, 14, 25, 18, 26, 31, 3, 1, 6, 26, 17, 1, 27, 26]\n",
            "sh ornament, And onl  :  [30, 21, 1, 27, 29, 26, 14, 25, 18, 26, 31, 3, 1, 6, 26, 17, 1, 27, 26, 24]\n",
            "h ornament, And only  :  [21, 1, 27, 29, 26, 14, 25, 18, 26, 31, 3, 1, 6, 26, 17, 1, 27, 26, 24, 35]\n",
            " ornament, And only   :  [1, 27, 29, 26, 14, 25, 18, 26, 31, 3, 1, 6, 26, 17, 1, 27, 26, 24, 35, 1]\n",
            "ornament, And only h  :  [27, 29, 26, 14, 25, 18, 26, 31, 3, 1, 6, 26, 17, 1, 27, 26, 24, 35, 1, 21]\n",
            "rnament, And only he  :  [29, 26, 14, 25, 18, 26, 31, 3, 1, 6, 26, 17, 1, 27, 26, 24, 35, 1, 21, 18]\n",
            "nament, And only her  :  [26, 14, 25, 18, 26, 31, 3, 1, 6, 26, 17, 1, 27, 26, 24, 35, 1, 21, 18, 29]\n",
            "ament, And only hera  :  [14, 25, 18, 26, 31, 3, 1, 6, 26, 17, 1, 27, 26, 24, 35, 1, 21, 18, 29, 14]\n",
            "ment, And only heral  :  [25, 18, 26, 31, 3, 1, 6, 26, 17, 1, 27, 26, 24, 35, 1, 21, 18, 29, 14, 24]\n",
            "ent, And only herald  :  [18, 26, 31, 3, 1, 6, 26, 17, 1, 27, 26, 24, 35, 1, 21, 18, 29, 14, 24, 17]\n",
            "nt, And only herald   :  [26, 31, 3, 1, 6, 26, 17, 1, 27, 26, 24, 35, 1, 21, 18, 29, 14, 24, 17, 1]\n",
            "t, And only herald t  :  [31, 3, 1, 6, 26, 17, 1, 27, 26, 24, 35, 1, 21, 18, 29, 14, 24, 17, 1, 31]\n",
            ", And only herald to  :  [3, 1, 6, 26, 17, 1, 27, 26, 24, 35, 1, 21, 18, 29, 14, 24, 17, 1, 31, 27]\n",
            " And only herald to   :  [1, 6, 26, 17, 1, 27, 26, 24, 35, 1, 21, 18, 29, 14, 24, 17, 1, 31, 27, 1]\n",
            "And only herald to t  :  [6, 26, 17, 1, 27, 26, 24, 35, 1, 21, 18, 29, 14, 24, 17, 1, 31, 27, 1, 31]\n",
            "nd only herald to th  :  [26, 17, 1, 27, 26, 24, 35, 1, 21, 18, 29, 14, 24, 17, 1, 31, 27, 1, 31, 21]\n",
            "d only herald to the  :  [17, 1, 27, 26, 24, 35, 1, 21, 18, 29, 14, 24, 17, 1, 31, 27, 1, 31, 21, 18]\n",
            " only herald to the   :  [1, 27, 26, 24, 35, 1, 21, 18, 29, 14, 24, 17, 1, 31, 27, 1, 31, 21, 18, 1]\n",
            "only herald to the g  :  [27, 26, 24, 35, 1, 21, 18, 29, 14, 24, 17, 1, 31, 27, 1, 31, 21, 18, 1, 20]\n",
            "nly herald to the ga  :  [26, 24, 35, 1, 21, 18, 29, 14, 24, 17, 1, 31, 27, 1, 31, 21, 18, 1, 20, 14]\n",
            "ly herald to the gau  :  [24, 35, 1, 21, 18, 29, 14, 24, 17, 1, 31, 27, 1, 31, 21, 18, 1, 20, 14, 32]\n",
            "y herald to the gaud  :  [35, 1, 21, 18, 29, 14, 24, 17, 1, 31, 27, 1, 31, 21, 18, 1, 20, 14, 32, 17]\n",
            " herald to the gaudy  :  [1, 21, 18, 29, 14, 24, 17, 1, 31, 27, 1, 31, 21, 18, 1, 20, 14, 32, 17, 35]\n",
            "herald to the gaudy   :  [21, 18, 29, 14, 24, 17, 1, 31, 27, 1, 31, 21, 18, 1, 20, 14, 32, 17, 35, 1]\n",
            "erald to the gaudy s  :  [18, 29, 14, 24, 17, 1, 31, 27, 1, 31, 21, 18, 1, 20, 14, 32, 17, 35, 1, 30]\n",
            "rald to the gaudy sp  :  [29, 14, 24, 17, 1, 31, 27, 1, 31, 21, 18, 1, 20, 14, 32, 17, 35, 1, 30, 28]\n",
            "ald to the gaudy spr  :  [14, 24, 17, 1, 31, 27, 1, 31, 21, 18, 1, 20, 14, 32, 17, 35, 1, 30, 28, 29]\n",
            "ld to the gaudy spri  :  [24, 17, 1, 31, 27, 1, 31, 21, 18, 1, 20, 14, 32, 17, 35, 1, 30, 28, 29, 22]\n",
            "d to the gaudy sprin  :  [17, 1, 31, 27, 1, 31, 21, 18, 1, 20, 14, 32, 17, 35, 1, 30, 28, 29, 22, 26]\n",
            " to the gaudy spring  :  [1, 31, 27, 1, 31, 21, 18, 1, 20, 14, 32, 17, 35, 1, 30, 28, 29, 22, 26, 20]\n",
            "to the gaudy spring,  :  [31, 27, 1, 31, 21, 18, 1, 20, 14, 32, 17, 35, 1, 30, 28, 29, 22, 26, 20, 3]\n",
            "o the gaudy spring,   :  [27, 1, 31, 21, 18, 1, 20, 14, 32, 17, 35, 1, 30, 28, 29, 22, 26, 20, 3, 1]\n",
            " the gaudy spring, W  :  [1, 31, 21, 18, 1, 20, 14, 32, 17, 35, 1, 30, 28, 29, 22, 26, 20, 3, 1, 13]\n",
            "the gaudy spring, Wi  :  [31, 21, 18, 1, 20, 14, 32, 17, 35, 1, 30, 28, 29, 22, 26, 20, 3, 1, 13, 22]\n",
            "he gaudy spring, Wit  :  [21, 18, 1, 20, 14, 32, 17, 35, 1, 30, 28, 29, 22, 26, 20, 3, 1, 13, 22, 31]\n",
            "e gaudy spring, With  :  [18, 1, 20, 14, 32, 17, 35, 1, 30, 28, 29, 22, 26, 20, 3, 1, 13, 22, 31, 21]\n",
            " gaudy spring, Withi  :  [1, 20, 14, 32, 17, 35, 1, 30, 28, 29, 22, 26, 20, 3, 1, 13, 22, 31, 21, 22]\n",
            "gaudy spring, Within  :  [20, 14, 32, 17, 35, 1, 30, 28, 29, 22, 26, 20, 3, 1, 13, 22, 31, 21, 22, 26]\n",
            "audy spring, Within   :  [14, 32, 17, 35, 1, 30, 28, 29, 22, 26, 20, 3, 1, 13, 22, 31, 21, 22, 26, 1]\n",
            "udy spring, Within t  :  [32, 17, 35, 1, 30, 28, 29, 22, 26, 20, 3, 1, 13, 22, 31, 21, 22, 26, 1, 31]\n",
            "dy spring, Within th  :  [17, 35, 1, 30, 28, 29, 22, 26, 20, 3, 1, 13, 22, 31, 21, 22, 26, 1, 31, 21]\n",
            "y spring, Within thi  :  [35, 1, 30, 28, 29, 22, 26, 20, 3, 1, 13, 22, 31, 21, 22, 26, 1, 31, 21, 22]\n",
            " spring, Within thin  :  [1, 30, 28, 29, 22, 26, 20, 3, 1, 13, 22, 31, 21, 22, 26, 1, 31, 21, 22, 26]\n",
            "spring, Within thine  :  [30, 28, 29, 22, 26, 20, 3, 1, 13, 22, 31, 21, 22, 26, 1, 31, 21, 22, 26, 18]\n",
            "pring, Within thine   :  [28, 29, 22, 26, 20, 3, 1, 13, 22, 31, 21, 22, 26, 1, 31, 21, 22, 26, 18, 1]\n",
            "ring, Within thine o  :  [29, 22, 26, 20, 3, 1, 13, 22, 31, 21, 22, 26, 1, 31, 21, 22, 26, 18, 1, 27]\n",
            "ing, Within thine ow  :  [22, 26, 20, 3, 1, 13, 22, 31, 21, 22, 26, 1, 31, 21, 22, 26, 18, 1, 27, 34]\n",
            "ng, Within thine own  :  [26, 20, 3, 1, 13, 22, 31, 21, 22, 26, 1, 31, 21, 22, 26, 18, 1, 27, 34, 26]\n",
            "g, Within thine own   :  [20, 3, 1, 13, 22, 31, 21, 22, 26, 1, 31, 21, 22, 26, 18, 1, 27, 34, 26, 1]\n",
            ", Within thine own b  :  [3, 1, 13, 22, 31, 21, 22, 26, 1, 31, 21, 22, 26, 18, 1, 27, 34, 26, 1, 15]\n",
            " Within thine own bu  :  [1, 13, 22, 31, 21, 22, 26, 1, 31, 21, 22, 26, 18, 1, 27, 34, 26, 1, 15, 32]\n",
            "Within thine own bud  :  [13, 22, 31, 21, 22, 26, 1, 31, 21, 22, 26, 18, 1, 27, 34, 26, 1, 15, 32, 17]\n",
            "ithin thine own bud   :  [22, 31, 21, 22, 26, 1, 31, 21, 22, 26, 18, 1, 27, 34, 26, 1, 15, 32, 17, 1]\n",
            "thin thine own bud b  :  [31, 21, 22, 26, 1, 31, 21, 22, 26, 18, 1, 27, 34, 26, 1, 15, 32, 17, 1, 15]\n",
            "hin thine own bud bu  :  [21, 22, 26, 1, 31, 21, 22, 26, 18, 1, 27, 34, 26, 1, 15, 32, 17, 1, 15, 32]\n",
            "in thine own bud bur  :  [22, 26, 1, 31, 21, 22, 26, 18, 1, 27, 34, 26, 1, 15, 32, 17, 1, 15, 32, 29]\n",
            "n thine own bud buri  :  [26, 1, 31, 21, 22, 26, 18, 1, 27, 34, 26, 1, 15, 32, 17, 1, 15, 32, 29, 22]\n",
            " thine own bud burie  :  [1, 31, 21, 22, 26, 18, 1, 27, 34, 26, 1, 15, 32, 17, 1, 15, 32, 29, 22, 18]\n",
            "thine own bud buries  :  [31, 21, 22, 26, 18, 1, 27, 34, 26, 1, 15, 32, 17, 1, 15, 32, 29, 22, 18, 30]\n",
            "hine own bud buriest  :  [21, 22, 26, 18, 1, 27, 34, 26, 1, 15, 32, 17, 1, 15, 32, 29, 22, 18, 30, 31]\n",
            "ine own bud buriest   :  [22, 26, 18, 1, 27, 34, 26, 1, 15, 32, 17, 1, 15, 32, 29, 22, 18, 30, 31, 1]\n",
            "ne own bud buriest t  :  [26, 18, 1, 27, 34, 26, 1, 15, 32, 17, 1, 15, 32, 29, 22, 18, 30, 31, 1, 31]\n",
            "e own bud buriest th  :  [18, 1, 27, 34, 26, 1, 15, 32, 17, 1, 15, 32, 29, 22, 18, 30, 31, 1, 31, 21]\n",
            " own bud buriest thy  :  [1, 27, 34, 26, 1, 15, 32, 17, 1, 15, 32, 29, 22, 18, 30, 31, 1, 31, 21, 35]\n",
            "own bud buriest thy   :  [27, 34, 26, 1, 15, 32, 17, 1, 15, 32, 29, 22, 18, 30, 31, 1, 31, 21, 35, 1]\n",
            "wn bud buriest thy c  :  [34, 26, 1, 15, 32, 17, 1, 15, 32, 29, 22, 18, 30, 31, 1, 31, 21, 35, 1, 16]\n",
            "n bud buriest thy co  :  [26, 1, 15, 32, 17, 1, 15, 32, 29, 22, 18, 30, 31, 1, 31, 21, 35, 1, 16, 27]\n",
            " bud buriest thy con  :  [1, 15, 32, 17, 1, 15, 32, 29, 22, 18, 30, 31, 1, 31, 21, 35, 1, 16, 27, 26]\n",
            "bud buriest thy cont  :  [15, 32, 17, 1, 15, 32, 29, 22, 18, 30, 31, 1, 31, 21, 35, 1, 16, 27, 26, 31]\n",
            "ud buriest thy conte  :  [32, 17, 1, 15, 32, 29, 22, 18, 30, 31, 1, 31, 21, 35, 1, 16, 27, 26, 31, 18]\n",
            "d buriest thy conten  :  [17, 1, 15, 32, 29, 22, 18, 30, 31, 1, 31, 21, 35, 1, 16, 27, 26, 31, 18, 26]\n",
            " buriest thy content  :  [1, 15, 32, 29, 22, 18, 30, 31, 1, 31, 21, 35, 1, 16, 27, 26, 31, 18, 26, 31]\n",
            "buriest thy content,  :  [15, 32, 29, 22, 18, 30, 31, 1, 31, 21, 35, 1, 16, 27, 26, 31, 18, 26, 31, 3]\n",
            "uriest thy content,   :  [32, 29, 22, 18, 30, 31, 1, 31, 21, 35, 1, 16, 27, 26, 31, 18, 26, 31, 3, 1]\n",
            "riest thy content, A  :  [29, 22, 18, 30, 31, 1, 31, 21, 35, 1, 16, 27, 26, 31, 18, 26, 31, 3, 1, 6]\n",
            "iest thy content, An  :  [22, 18, 30, 31, 1, 31, 21, 35, 1, 16, 27, 26, 31, 18, 26, 31, 3, 1, 6, 26]\n",
            "est thy content, And  :  [18, 30, 31, 1, 31, 21, 35, 1, 16, 27, 26, 31, 18, 26, 31, 3, 1, 6, 26, 17]\n",
            "st thy content, And   :  [30, 31, 1, 31, 21, 35, 1, 16, 27, 26, 31, 18, 26, 31, 3, 1, 6, 26, 17, 1]\n",
            "t thy content, And t  :  [31, 1, 31, 21, 35, 1, 16, 27, 26, 31, 18, 26, 31, 3, 1, 6, 26, 17, 1, 31]\n",
            " thy content, And te  :  [1, 31, 21, 35, 1, 16, 27, 26, 31, 18, 26, 31, 3, 1, 6, 26, 17, 1, 31, 18]\n",
            "thy content, And ten  :  [31, 21, 35, 1, 16, 27, 26, 31, 18, 26, 31, 3, 1, 6, 26, 17, 1, 31, 18, 26]\n",
            "hy content, And tend  :  [21, 35, 1, 16, 27, 26, 31, 18, 26, 31, 3, 1, 6, 26, 17, 1, 31, 18, 26, 17]\n",
            "y content, And tende  :  [35, 1, 16, 27, 26, 31, 18, 26, 31, 3, 1, 6, 26, 17, 1, 31, 18, 26, 17, 18]\n",
            " content, And tender  :  [1, 16, 27, 26, 31, 18, 26, 31, 3, 1, 6, 26, 17, 1, 31, 18, 26, 17, 18, 29]\n",
            "content, And tender   :  [16, 27, 26, 31, 18, 26, 31, 3, 1, 6, 26, 17, 1, 31, 18, 26, 17, 18, 29, 1]\n",
            "ontent, And tender c  :  [27, 26, 31, 18, 26, 31, 3, 1, 6, 26, 17, 1, 31, 18, 26, 17, 18, 29, 1, 16]\n",
            "ntent, And tender ch  :  [26, 31, 18, 26, 31, 3, 1, 6, 26, 17, 1, 31, 18, 26, 17, 18, 29, 1, 16, 21]\n",
            "tent, And tender chu  :  [31, 18, 26, 31, 3, 1, 6, 26, 17, 1, 31, 18, 26, 17, 18, 29, 1, 16, 21, 32]\n",
            "ent, And tender chur  :  [18, 26, 31, 3, 1, 6, 26, 17, 1, 31, 18, 26, 17, 18, 29, 1, 16, 21, 32, 29]\n",
            "nt, And tender churl  :  [26, 31, 3, 1, 6, 26, 17, 1, 31, 18, 26, 17, 18, 29, 1, 16, 21, 32, 29, 24]\n",
            "t, And tender churl   :  [31, 3, 1, 6, 26, 17, 1, 31, 18, 26, 17, 18, 29, 1, 16, 21, 32, 29, 24, 1]\n",
            ", And tender churl m  :  [3, 1, 6, 26, 17, 1, 31, 18, 26, 17, 18, 29, 1, 16, 21, 32, 29, 24, 1, 25]\n",
            " And tender churl ma  :  [1, 6, 26, 17, 1, 31, 18, 26, 17, 18, 29, 1, 16, 21, 32, 29, 24, 1, 25, 14]\n",
            "And tender churl mak  :  [6, 26, 17, 1, 31, 18, 26, 17, 18, 29, 1, 16, 21, 32, 29, 24, 1, 25, 14, 23]\n",
            "nd tender churl mak'  :  [26, 17, 1, 31, 18, 26, 17, 18, 29, 1, 16, 21, 32, 29, 24, 1, 25, 14, 23, 2]\n",
            "d tender churl mak's  :  [17, 1, 31, 18, 26, 17, 18, 29, 1, 16, 21, 32, 29, 24, 1, 25, 14, 23, 2, 30]\n",
            " tender churl mak'st  :  [1, 31, 18, 26, 17, 18, 29, 1, 16, 21, 32, 29, 24, 1, 25, 14, 23, 2, 30, 31]\n",
            "tender churl mak'st   :  [31, 18, 26, 17, 18, 29, 1, 16, 21, 32, 29, 24, 1, 25, 14, 23, 2, 30, 31, 1]\n",
            "ender churl mak'st w  :  [18, 26, 17, 18, 29, 1, 16, 21, 32, 29, 24, 1, 25, 14, 23, 2, 30, 31, 1, 34]\n",
            "nder churl mak'st wa  :  [26, 17, 18, 29, 1, 16, 21, 32, 29, 24, 1, 25, 14, 23, 2, 30, 31, 1, 34, 14]\n",
            "der churl mak'st was  :  [17, 18, 29, 1, 16, 21, 32, 29, 24, 1, 25, 14, 23, 2, 30, 31, 1, 34, 14, 30]\n",
            "er churl mak'st wast  :  [18, 29, 1, 16, 21, 32, 29, 24, 1, 25, 14, 23, 2, 30, 31, 1, 34, 14, 30, 31]\n",
            "r churl mak'st waste  :  [29, 1, 16, 21, 32, 29, 24, 1, 25, 14, 23, 2, 30, 31, 1, 34, 14, 30, 31, 18]\n",
            " churl mak'st waste   :  [1, 16, 21, 32, 29, 24, 1, 25, 14, 23, 2, 30, 31, 1, 34, 14, 30, 31, 18, 1]\n",
            "churl mak'st waste i  :  [16, 21, 32, 29, 24, 1, 25, 14, 23, 2, 30, 31, 1, 34, 14, 30, 31, 18, 1, 22]\n",
            "hurl mak'st waste in  :  [21, 32, 29, 24, 1, 25, 14, 23, 2, 30, 31, 1, 34, 14, 30, 31, 18, 1, 22, 26]\n",
            "url mak'st waste in   :  [32, 29, 24, 1, 25, 14, 23, 2, 30, 31, 1, 34, 14, 30, 31, 18, 1, 22, 26, 1]\n",
            "rl mak'st waste in n  :  [29, 24, 1, 25, 14, 23, 2, 30, 31, 1, 34, 14, 30, 31, 18, 1, 22, 26, 1, 26]\n",
            "l mak'st waste in ni  :  [24, 1, 25, 14, 23, 2, 30, 31, 1, 34, 14, 30, 31, 18, 1, 22, 26, 1, 26, 22]\n",
            " mak'st waste in nig  :  [1, 25, 14, 23, 2, 30, 31, 1, 34, 14, 30, 31, 18, 1, 22, 26, 1, 26, 22, 20]\n",
            "mak'st waste in nigg  :  [25, 14, 23, 2, 30, 31, 1, 34, 14, 30, 31, 18, 1, 22, 26, 1, 26, 22, 20, 20]\n",
            "ak'st waste in nigga  :  [14, 23, 2, 30, 31, 1, 34, 14, 30, 31, 18, 1, 22, 26, 1, 26, 22, 20, 20, 14]\n",
            "k'st waste in niggar  :  [23, 2, 30, 31, 1, 34, 14, 30, 31, 18, 1, 22, 26, 1, 26, 22, 20, 20, 14, 29]\n",
            "'st waste in niggard  :  [2, 30, 31, 1, 34, 14, 30, 31, 18, 1, 22, 26, 1, 26, 22, 20, 20, 14, 29, 17]\n",
            "st waste in niggardi  :  [30, 31, 1, 34, 14, 30, 31, 18, 1, 22, 26, 1, 26, 22, 20, 20, 14, 29, 17, 22]\n",
            "t waste in niggardin  :  [31, 1, 34, 14, 30, 31, 18, 1, 22, 26, 1, 26, 22, 20, 20, 14, 29, 17, 22, 26]\n",
            " waste in niggarding  :  [1, 34, 14, 30, 31, 18, 1, 22, 26, 1, 26, 22, 20, 20, 14, 29, 17, 22, 26, 20]\n",
            "waste in niggarding:  :  [34, 14, 30, 31, 18, 1, 22, 26, 1, 26, 22, 20, 20, 14, 29, 17, 22, 26, 20, 5]\n",
            "aste in niggarding:   :  [14, 30, 31, 18, 1, 22, 26, 1, 26, 22, 20, 20, 14, 29, 17, 22, 26, 20, 5, 1]\n",
            "ste in niggarding: P  :  [30, 31, 18, 1, 22, 26, 1, 26, 22, 20, 20, 14, 29, 17, 22, 26, 20, 5, 1, 11]\n",
            "te in niggarding: Pi  :  [31, 18, 1, 22, 26, 1, 26, 22, 20, 20, 14, 29, 17, 22, 26, 20, 5, 1, 11, 22]\n",
            "e in niggarding: Pit  :  [18, 1, 22, 26, 1, 26, 22, 20, 20, 14, 29, 17, 22, 26, 20, 5, 1, 11, 22, 31]\n",
            " in niggarding: Pity  :  [1, 22, 26, 1, 26, 22, 20, 20, 14, 29, 17, 22, 26, 20, 5, 1, 11, 22, 31, 35]\n",
            "in niggarding: Pity   :  [22, 26, 1, 26, 22, 20, 20, 14, 29, 17, 22, 26, 20, 5, 1, 11, 22, 31, 35, 1]\n",
            "n niggarding: Pity t  :  [26, 1, 26, 22, 20, 20, 14, 29, 17, 22, 26, 20, 5, 1, 11, 22, 31, 35, 1, 31]\n",
            " niggarding: Pity th  :  [1, 26, 22, 20, 20, 14, 29, 17, 22, 26, 20, 5, 1, 11, 22, 31, 35, 1, 31, 21]\n",
            "niggarding: Pity the  :  [26, 22, 20, 20, 14, 29, 17, 22, 26, 20, 5, 1, 11, 22, 31, 35, 1, 31, 21, 18]\n",
            "iggarding: Pity the   :  [22, 20, 20, 14, 29, 17, 22, 26, 20, 5, 1, 11, 22, 31, 35, 1, 31, 21, 18, 1]\n",
            "ggarding: Pity the w  :  [20, 20, 14, 29, 17, 22, 26, 20, 5, 1, 11, 22, 31, 35, 1, 31, 21, 18, 1, 34]\n",
            "garding: Pity the wo  :  [20, 14, 29, 17, 22, 26, 20, 5, 1, 11, 22, 31, 35, 1, 31, 21, 18, 1, 34, 27]\n",
            "arding: Pity the wor  :  [14, 29, 17, 22, 26, 20, 5, 1, 11, 22, 31, 35, 1, 31, 21, 18, 1, 34, 27, 29]\n",
            "rding: Pity the worl  :  [29, 17, 22, 26, 20, 5, 1, 11, 22, 31, 35, 1, 31, 21, 18, 1, 34, 27, 29, 24]\n",
            "ding: Pity the world  :  [17, 22, 26, 20, 5, 1, 11, 22, 31, 35, 1, 31, 21, 18, 1, 34, 27, 29, 24, 17]\n",
            "ing: Pity the world,  :  [22, 26, 20, 5, 1, 11, 22, 31, 35, 1, 31, 21, 18, 1, 34, 27, 29, 24, 17, 3]\n",
            "ng: Pity the world,   :  [26, 20, 5, 1, 11, 22, 31, 35, 1, 31, 21, 18, 1, 34, 27, 29, 24, 17, 3, 1]\n",
            "g: Pity the world, o  :  [20, 5, 1, 11, 22, 31, 35, 1, 31, 21, 18, 1, 34, 27, 29, 24, 17, 3, 1, 27]\n",
            ": Pity the world, or  :  [5, 1, 11, 22, 31, 35, 1, 31, 21, 18, 1, 34, 27, 29, 24, 17, 3, 1, 27, 29]\n",
            " Pity the world, or   :  [1, 11, 22, 31, 35, 1, 31, 21, 18, 1, 34, 27, 29, 24, 17, 3, 1, 27, 29, 1]\n",
            "Pity the world, or e  :  [11, 22, 31, 35, 1, 31, 21, 18, 1, 34, 27, 29, 24, 17, 3, 1, 27, 29, 1, 18]\n",
            "ity the world, or el  :  [22, 31, 35, 1, 31, 21, 18, 1, 34, 27, 29, 24, 17, 3, 1, 27, 29, 1, 18, 24]\n",
            "ty the world, or els  :  [31, 35, 1, 31, 21, 18, 1, 34, 27, 29, 24, 17, 3, 1, 27, 29, 1, 18, 24, 30]\n",
            "y the world, or else  :  [35, 1, 31, 21, 18, 1, 34, 27, 29, 24, 17, 3, 1, 27, 29, 1, 18, 24, 30, 18]\n",
            " the world, or else   :  [1, 31, 21, 18, 1, 34, 27, 29, 24, 17, 3, 1, 27, 29, 1, 18, 24, 30, 18, 1]\n",
            "the world, or else t  :  [31, 21, 18, 1, 34, 27, 29, 24, 17, 3, 1, 27, 29, 1, 18, 24, 30, 18, 1, 31]\n",
            "he world, or else th  :  [21, 18, 1, 34, 27, 29, 24, 17, 3, 1, 27, 29, 1, 18, 24, 30, 18, 1, 31, 21]\n",
            "e world, or else thi  :  [18, 1, 34, 27, 29, 24, 17, 3, 1, 27, 29, 1, 18, 24, 30, 18, 1, 31, 21, 22]\n",
            " world, or else this  :  [1, 34, 27, 29, 24, 17, 3, 1, 27, 29, 1, 18, 24, 30, 18, 1, 31, 21, 22, 30]\n",
            "world, or else this   :  [34, 27, 29, 24, 17, 3, 1, 27, 29, 1, 18, 24, 30, 18, 1, 31, 21, 22, 30, 1]\n",
            "orld, or else this g  :  [27, 29, 24, 17, 3, 1, 27, 29, 1, 18, 24, 30, 18, 1, 31, 21, 22, 30, 1, 20]\n",
            "rld, or else this gl  :  [29, 24, 17, 3, 1, 27, 29, 1, 18, 24, 30, 18, 1, 31, 21, 22, 30, 1, 20, 24]\n",
            "ld, or else this glu  :  [24, 17, 3, 1, 27, 29, 1, 18, 24, 30, 18, 1, 31, 21, 22, 30, 1, 20, 24, 32]\n",
            "d, or else this glut  :  [17, 3, 1, 27, 29, 1, 18, 24, 30, 18, 1, 31, 21, 22, 30, 1, 20, 24, 32, 31]\n",
            ", or else this glutt  :  [3, 1, 27, 29, 1, 18, 24, 30, 18, 1, 31, 21, 22, 30, 1, 20, 24, 32, 31, 31]\n",
            " or else this glutto  :  [1, 27, 29, 1, 18, 24, 30, 18, 1, 31, 21, 22, 30, 1, 20, 24, 32, 31, 31, 27]\n",
            "or else this glutton  :  [27, 29, 1, 18, 24, 30, 18, 1, 31, 21, 22, 30, 1, 20, 24, 32, 31, 31, 27, 26]\n",
            "r else this glutton   :  [29, 1, 18, 24, 30, 18, 1, 31, 21, 22, 30, 1, 20, 24, 32, 31, 31, 27, 26, 1]\n",
            " else this glutton b  :  [1, 18, 24, 30, 18, 1, 31, 21, 22, 30, 1, 20, 24, 32, 31, 31, 27, 26, 1, 15]\n",
            "else this glutton be  :  [18, 24, 30, 18, 1, 31, 21, 22, 30, 1, 20, 24, 32, 31, 31, 27, 26, 1, 15, 18]\n",
            "lse this glutton be,  :  [24, 30, 18, 1, 31, 21, 22, 30, 1, 20, 24, 32, 31, 31, 27, 26, 1, 15, 18, 3]\n",
            "se this glutton be,   :  [30, 18, 1, 31, 21, 22, 30, 1, 20, 24, 32, 31, 31, 27, 26, 1, 15, 18, 3, 1]\n",
            "e this glutton be, T  :  [18, 1, 31, 21, 22, 30, 1, 20, 24, 32, 31, 31, 27, 26, 1, 15, 18, 3, 1, 12]\n",
            " this glutton be, To  :  [1, 31, 21, 22, 30, 1, 20, 24, 32, 31, 31, 27, 26, 1, 15, 18, 3, 1, 12, 27]\n",
            "this glutton be, To   :  [31, 21, 22, 30, 1, 20, 24, 32, 31, 31, 27, 26, 1, 15, 18, 3, 1, 12, 27, 1]\n",
            "his glutton be, To e  :  [21, 22, 30, 1, 20, 24, 32, 31, 31, 27, 26, 1, 15, 18, 3, 1, 12, 27, 1, 18]\n",
            "is glutton be, To ea  :  [22, 30, 1, 20, 24, 32, 31, 31, 27, 26, 1, 15, 18, 3, 1, 12, 27, 1, 18, 14]\n",
            "s glutton be, To eat  :  [30, 1, 20, 24, 32, 31, 31, 27, 26, 1, 15, 18, 3, 1, 12, 27, 1, 18, 14, 31]\n",
            " glutton be, To eat   :  [1, 20, 24, 32, 31, 31, 27, 26, 1, 15, 18, 3, 1, 12, 27, 1, 18, 14, 31, 1]\n",
            "glutton be, To eat t  :  [20, 24, 32, 31, 31, 27, 26, 1, 15, 18, 3, 1, 12, 27, 1, 18, 14, 31, 1, 31]\n",
            "lutton be, To eat th  :  [24, 32, 31, 31, 27, 26, 1, 15, 18, 3, 1, 12, 27, 1, 18, 14, 31, 1, 31, 21]\n",
            "utton be, To eat the  :  [32, 31, 31, 27, 26, 1, 15, 18, 3, 1, 12, 27, 1, 18, 14, 31, 1, 31, 21, 18]\n",
            "tton be, To eat the   :  [31, 31, 27, 26, 1, 15, 18, 3, 1, 12, 27, 1, 18, 14, 31, 1, 31, 21, 18, 1]\n",
            "ton be, To eat the w  :  [31, 27, 26, 1, 15, 18, 3, 1, 12, 27, 1, 18, 14, 31, 1, 31, 21, 18, 1, 34]\n",
            "on be, To eat the wo  :  [27, 26, 1, 15, 18, 3, 1, 12, 27, 1, 18, 14, 31, 1, 31, 21, 18, 1, 34, 27]\n",
            "n be, To eat the wor  :  [26, 1, 15, 18, 3, 1, 12, 27, 1, 18, 14, 31, 1, 31, 21, 18, 1, 34, 27, 29]\n",
            " be, To eat the worl  :  [1, 15, 18, 3, 1, 12, 27, 1, 18, 14, 31, 1, 31, 21, 18, 1, 34, 27, 29, 24]\n",
            "be, To eat the world  :  [15, 18, 3, 1, 12, 27, 1, 18, 14, 31, 1, 31, 21, 18, 1, 34, 27, 29, 24, 17]\n",
            "e, To eat the world'  :  [18, 3, 1, 12, 27, 1, 18, 14, 31, 1, 31, 21, 18, 1, 34, 27, 29, 24, 17, 2]\n",
            ", To eat the world's  :  [3, 1, 12, 27, 1, 18, 14, 31, 1, 31, 21, 18, 1, 34, 27, 29, 24, 17, 2, 30]\n",
            " To eat the world's   :  [1, 12, 27, 1, 18, 14, 31, 1, 31, 21, 18, 1, 34, 27, 29, 24, 17, 2, 30, 1]\n",
            "To eat the world's d  :  [12, 27, 1, 18, 14, 31, 1, 31, 21, 18, 1, 34, 27, 29, 24, 17, 2, 30, 1, 17]\n",
            "o eat the world's du  :  [27, 1, 18, 14, 31, 1, 31, 21, 18, 1, 34, 27, 29, 24, 17, 2, 30, 1, 17, 32]\n",
            " eat the world's due  :  [1, 18, 14, 31, 1, 31, 21, 18, 1, 34, 27, 29, 24, 17, 2, 30, 1, 17, 32, 18]\n",
            "eat the world's due,  :  [18, 14, 31, 1, 31, 21, 18, 1, 34, 27, 29, 24, 17, 2, 30, 1, 17, 32, 18, 3]\n",
            "at the world's due,   :  [14, 31, 1, 31, 21, 18, 1, 34, 27, 29, 24, 17, 2, 30, 1, 17, 32, 18, 3, 1]\n",
            "t the world's due, b  :  [31, 1, 31, 21, 18, 1, 34, 27, 29, 24, 17, 2, 30, 1, 17, 32, 18, 3, 1, 15]\n",
            " the world's due, by  :  [1, 31, 21, 18, 1, 34, 27, 29, 24, 17, 2, 30, 1, 17, 32, 18, 3, 1, 15, 35]\n",
            "the world's due, by   :  [31, 21, 18, 1, 34, 27, 29, 24, 17, 2, 30, 1, 17, 32, 18, 3, 1, 15, 35, 1]\n",
            "he world's due, by t  :  [21, 18, 1, 34, 27, 29, 24, 17, 2, 30, 1, 17, 32, 18, 3, 1, 15, 35, 1, 31]\n",
            "e world's due, by th  :  [18, 1, 34, 27, 29, 24, 17, 2, 30, 1, 17, 32, 18, 3, 1, 15, 35, 1, 31, 21]\n",
            " world's due, by the  :  [1, 34, 27, 29, 24, 17, 2, 30, 1, 17, 32, 18, 3, 1, 15, 35, 1, 31, 21, 18]\n",
            "world's due, by the   :  [34, 27, 29, 24, 17, 2, 30, 1, 17, 32, 18, 3, 1, 15, 35, 1, 31, 21, 18, 1]\n",
            "orld's due, by the g  :  [27, 29, 24, 17, 2, 30, 1, 17, 32, 18, 3, 1, 15, 35, 1, 31, 21, 18, 1, 20]\n",
            "rld's due, by the gr  :  [29, 24, 17, 2, 30, 1, 17, 32, 18, 3, 1, 15, 35, 1, 31, 21, 18, 1, 20, 29]\n",
            "ld's due, by the gra  :  [24, 17, 2, 30, 1, 17, 32, 18, 3, 1, 15, 35, 1, 31, 21, 18, 1, 20, 29, 14]\n",
            "d's due, by the grav  :  [17, 2, 30, 1, 17, 32, 18, 3, 1, 15, 35, 1, 31, 21, 18, 1, 20, 29, 14, 33]\n",
            "'s due, by the grave  :  [2, 30, 1, 17, 32, 18, 3, 1, 15, 35, 1, 31, 21, 18, 1, 20, 29, 14, 33, 18]\n",
            "s due, by the grave   :  [30, 1, 17, 32, 18, 3, 1, 15, 35, 1, 31, 21, 18, 1, 20, 29, 14, 33, 18, 1]\n",
            " due, by the grave a  :  [1, 17, 32, 18, 3, 1, 15, 35, 1, 31, 21, 18, 1, 20, 29, 14, 33, 18, 1, 14]\n",
            "due, by the grave an  :  [17, 32, 18, 3, 1, 15, 35, 1, 31, 21, 18, 1, 20, 29, 14, 33, 18, 1, 14, 26]\n",
            "ue, by the grave and  :  [32, 18, 3, 1, 15, 35, 1, 31, 21, 18, 1, 20, 29, 14, 33, 18, 1, 14, 26, 17]\n",
            "e, by the grave and   :  [18, 3, 1, 15, 35, 1, 31, 21, 18, 1, 20, 29, 14, 33, 18, 1, 14, 26, 17, 1]\n",
            ", by the grave and t  :  [3, 1, 15, 35, 1, 31, 21, 18, 1, 20, 29, 14, 33, 18, 1, 14, 26, 17, 1, 31]\n",
            " by the grave and th  :  [1, 15, 35, 1, 31, 21, 18, 1, 20, 29, 14, 33, 18, 1, 14, 26, 17, 1, 31, 21]\n",
            "by the grave and the  :  [15, 35, 1, 31, 21, 18, 1, 20, 29, 14, 33, 18, 1, 14, 26, 17, 1, 31, 21, 18]\n",
            "y the grave and thee  :  [35, 1, 31, 21, 18, 1, 20, 29, 14, 33, 18, 1, 14, 26, 17, 1, 31, 21, 18, 18]\n",
            "[[8, 29, 27, 25, 1, 19, 14, 22, 29, 18, 30, 31, 1, 16, 29, 18, 14, 31, 32, 29], [29, 27, 25, 1, 19, 14, 22, 29, 18, 30, 31, 1, 16, 29, 18, 14, 31, 32, 29, 18], [27, 25, 1, 19, 14, 22, 29, 18, 30, 31, 1, 16, 29, 18, 14, 31, 32, 29, 18, 30], [25, 1, 19, 14, 22, 29, 18, 30, 31, 1, 16, 29, 18, 14, 31, 32, 29, 18, 30, 1], [1, 19, 14, 22, 29, 18, 30, 31, 1, 16, 29, 18, 14, 31, 32, 29, 18, 30, 1, 34], [19, 14, 22, 29, 18, 30, 31, 1, 16, 29, 18, 14, 31, 32, 29, 18, 30, 1, 34, 18], [14, 22, 29, 18, 30, 31, 1, 16, 29, 18, 14, 31, 32, 29, 18, 30, 1, 34, 18, 1], [22, 29, 18, 30, 31, 1, 16, 29, 18, 14, 31, 32, 29, 18, 30, 1, 34, 18, 1, 17], [29, 18, 30, 31, 1, 16, 29, 18, 14, 31, 32, 29, 18, 30, 1, 34, 18, 1, 17, 18], [18, 30, 31, 1, 16, 29, 18, 14, 31, 32, 29, 18, 30, 1, 34, 18, 1, 17, 18, 30], [30, 31, 1, 16, 29, 18, 14, 31, 32, 29, 18, 30, 1, 34, 18, 1, 17, 18, 30, 22], [31, 1, 16, 29, 18, 14, 31, 32, 29, 18, 30, 1, 34, 18, 1, 17, 18, 30, 22, 29], [1, 16, 29, 18, 14, 31, 32, 29, 18, 30, 1, 34, 18, 1, 17, 18, 30, 22, 29, 18], [16, 29, 18, 14, 31, 32, 29, 18, 30, 1, 34, 18, 1, 17, 18, 30, 22, 29, 18, 1], [29, 18, 14, 31, 32, 29, 18, 30, 1, 34, 18, 1, 17, 18, 30, 22, 29, 18, 1, 22], [18, 14, 31, 32, 29, 18, 30, 1, 34, 18, 1, 17, 18, 30, 22, 29, 18, 1, 22, 26], [14, 31, 32, 29, 18, 30, 1, 34, 18, 1, 17, 18, 30, 22, 29, 18, 1, 22, 26, 16], [31, 32, 29, 18, 30, 1, 34, 18, 1, 17, 18, 30, 22, 29, 18, 1, 22, 26, 16, 29], [32, 29, 18, 30, 1, 34, 18, 1, 17, 18, 30, 22, 29, 18, 1, 22, 26, 16, 29, 18], [29, 18, 30, 1, 34, 18, 1, 17, 18, 30, 22, 29, 18, 1, 22, 26, 16, 29, 18, 14], [18, 30, 1, 34, 18, 1, 17, 18, 30, 22, 29, 18, 1, 22, 26, 16, 29, 18, 14, 30], [30, 1, 34, 18, 1, 17, 18, 30, 22, 29, 18, 1, 22, 26, 16, 29, 18, 14, 30, 18], [1, 34, 18, 1, 17, 18, 30, 22, 29, 18, 1, 22, 26, 16, 29, 18, 14, 30, 18, 3], [34, 18, 1, 17, 18, 30, 22, 29, 18, 1, 22, 26, 16, 29, 18, 14, 30, 18, 3, 1], [18, 1, 17, 18, 30, 22, 29, 18, 1, 22, 26, 16, 29, 18, 14, 30, 18, 3, 1, 12], [1, 17, 18, 30, 22, 29, 18, 1, 22, 26, 16, 29, 18, 14, 30, 18, 3, 1, 12, 21], [17, 18, 30, 22, 29, 18, 1, 22, 26, 16, 29, 18, 14, 30, 18, 3, 1, 12, 21, 14], [18, 30, 22, 29, 18, 1, 22, 26, 16, 29, 18, 14, 30, 18, 3, 1, 12, 21, 14, 31], [30, 22, 29, 18, 1, 22, 26, 16, 29, 18, 14, 30, 18, 3, 1, 12, 21, 14, 31, 1], [22, 29, 18, 1, 22, 26, 16, 29, 18, 14, 30, 18, 3, 1, 12, 21, 14, 31, 1, 31], [29, 18, 1, 22, 26, 16, 29, 18, 14, 30, 18, 3, 1, 12, 21, 14, 31, 1, 31, 21], [18, 1, 22, 26, 16, 29, 18, 14, 30, 18, 3, 1, 12, 21, 14, 31, 1, 31, 21, 18], [1, 22, 26, 16, 29, 18, 14, 30, 18, 3, 1, 12, 21, 14, 31, 1, 31, 21, 18, 29], [22, 26, 16, 29, 18, 14, 30, 18, 3, 1, 12, 21, 14, 31, 1, 31, 21, 18, 29, 18], [26, 16, 29, 18, 14, 30, 18, 3, 1, 12, 21, 14, 31, 1, 31, 21, 18, 29, 18, 15], [16, 29, 18, 14, 30, 18, 3, 1, 12, 21, 14, 31, 1, 31, 21, 18, 29, 18, 15, 35], [29, 18, 14, 30, 18, 3, 1, 12, 21, 14, 31, 1, 31, 21, 18, 29, 18, 15, 35, 1], [18, 14, 30, 18, 3, 1, 12, 21, 14, 31, 1, 31, 21, 18, 29, 18, 15, 35, 1, 15], [14, 30, 18, 3, 1, 12, 21, 14, 31, 1, 31, 21, 18, 29, 18, 15, 35, 1, 15, 18], [30, 18, 3, 1, 12, 21, 14, 31, 1, 31, 21, 18, 29, 18, 15, 35, 1, 15, 18, 14], [18, 3, 1, 12, 21, 14, 31, 1, 31, 21, 18, 29, 18, 15, 35, 1, 15, 18, 14, 32], [3, 1, 12, 21, 14, 31, 1, 31, 21, 18, 29, 18, 15, 35, 1, 15, 18, 14, 32, 31], [1, 12, 21, 14, 31, 1, 31, 21, 18, 29, 18, 15, 35, 1, 15, 18, 14, 32, 31, 35], [12, 21, 14, 31, 1, 31, 21, 18, 29, 18, 15, 35, 1, 15, 18, 14, 32, 31, 35, 2], [21, 14, 31, 1, 31, 21, 18, 29, 18, 15, 35, 1, 15, 18, 14, 32, 31, 35, 2, 30], [14, 31, 1, 31, 21, 18, 29, 18, 15, 35, 1, 15, 18, 14, 32, 31, 35, 2, 30, 1], [31, 1, 31, 21, 18, 29, 18, 15, 35, 1, 15, 18, 14, 32, 31, 35, 2, 30, 1, 29], [1, 31, 21, 18, 29, 18, 15, 35, 1, 15, 18, 14, 32, 31, 35, 2, 30, 1, 29, 27], [31, 21, 18, 29, 18, 15, 35, 1, 15, 18, 14, 32, 31, 35, 2, 30, 1, 29, 27, 30], [21, 18, 29, 18, 15, 35, 1, 15, 18, 14, 32, 31, 35, 2, 30, 1, 29, 27, 30, 18], [18, 29, 18, 15, 35, 1, 15, 18, 14, 32, 31, 35, 2, 30, 1, 29, 27, 30, 18, 1], [29, 18, 15, 35, 1, 15, 18, 14, 32, 31, 35, 2, 30, 1, 29, 27, 30, 18, 1, 25], [18, 15, 35, 1, 15, 18, 14, 32, 31, 35, 2, 30, 1, 29, 27, 30, 18, 1, 25, 22], [15, 35, 1, 15, 18, 14, 32, 31, 35, 2, 30, 1, 29, 27, 30, 18, 1, 25, 22, 20], [35, 1, 15, 18, 14, 32, 31, 35, 2, 30, 1, 29, 27, 30, 18, 1, 25, 22, 20, 21], [1, 15, 18, 14, 32, 31, 35, 2, 30, 1, 29, 27, 30, 18, 1, 25, 22, 20, 21, 31], [15, 18, 14, 32, 31, 35, 2, 30, 1, 29, 27, 30, 18, 1, 25, 22, 20, 21, 31, 1], [18, 14, 32, 31, 35, 2, 30, 1, 29, 27, 30, 18, 1, 25, 22, 20, 21, 31, 1, 26], [14, 32, 31, 35, 2, 30, 1, 29, 27, 30, 18, 1, 25, 22, 20, 21, 31, 1, 26, 18], [32, 31, 35, 2, 30, 1, 29, 27, 30, 18, 1, 25, 22, 20, 21, 31, 1, 26, 18, 33], [31, 35, 2, 30, 1, 29, 27, 30, 18, 1, 25, 22, 20, 21, 31, 1, 26, 18, 33, 18], [35, 2, 30, 1, 29, 27, 30, 18, 1, 25, 22, 20, 21, 31, 1, 26, 18, 33, 18, 29], [2, 30, 1, 29, 27, 30, 18, 1, 25, 22, 20, 21, 31, 1, 26, 18, 33, 18, 29, 1], [30, 1, 29, 27, 30, 18, 1, 25, 22, 20, 21, 31, 1, 26, 18, 33, 18, 29, 1, 17], [1, 29, 27, 30, 18, 1, 25, 22, 20, 21, 31, 1, 26, 18, 33, 18, 29, 1, 17, 22], [29, 27, 30, 18, 1, 25, 22, 20, 21, 31, 1, 26, 18, 33, 18, 29, 1, 17, 22, 18], [27, 30, 18, 1, 25, 22, 20, 21, 31, 1, 26, 18, 33, 18, 29, 1, 17, 22, 18, 3], [30, 18, 1, 25, 22, 20, 21, 31, 1, 26, 18, 33, 18, 29, 1, 17, 22, 18, 3, 1], [18, 1, 25, 22, 20, 21, 31, 1, 26, 18, 33, 18, 29, 1, 17, 22, 18, 3, 1, 7], [1, 25, 22, 20, 21, 31, 1, 26, 18, 33, 18, 29, 1, 17, 22, 18, 3, 1, 7, 32], [25, 22, 20, 21, 31, 1, 26, 18, 33, 18, 29, 1, 17, 22, 18, 3, 1, 7, 32, 31], [22, 20, 21, 31, 1, 26, 18, 33, 18, 29, 1, 17, 22, 18, 3, 1, 7, 32, 31, 1], [20, 21, 31, 1, 26, 18, 33, 18, 29, 1, 17, 22, 18, 3, 1, 7, 32, 31, 1, 14], [21, 31, 1, 26, 18, 33, 18, 29, 1, 17, 22, 18, 3, 1, 7, 32, 31, 1, 14, 30], [31, 1, 26, 18, 33, 18, 29, 1, 17, 22, 18, 3, 1, 7, 32, 31, 1, 14, 30, 1], [1, 26, 18, 33, 18, 29, 1, 17, 22, 18, 3, 1, 7, 32, 31, 1, 14, 30, 1, 31], [26, 18, 33, 18, 29, 1, 17, 22, 18, 3, 1, 7, 32, 31, 1, 14, 30, 1, 31, 21], [18, 33, 18, 29, 1, 17, 22, 18, 3, 1, 7, 32, 31, 1, 14, 30, 1, 31, 21, 18], [33, 18, 29, 1, 17, 22, 18, 3, 1, 7, 32, 31, 1, 14, 30, 1, 31, 21, 18, 1], [18, 29, 1, 17, 22, 18, 3, 1, 7, 32, 31, 1, 14, 30, 1, 31, 21, 18, 1, 29], [29, 1, 17, 22, 18, 3, 1, 7, 32, 31, 1, 14, 30, 1, 31, 21, 18, 1, 29, 22], [1, 17, 22, 18, 3, 1, 7, 32, 31, 1, 14, 30, 1, 31, 21, 18, 1, 29, 22, 28], [17, 22, 18, 3, 1, 7, 32, 31, 1, 14, 30, 1, 31, 21, 18, 1, 29, 22, 28, 18], [22, 18, 3, 1, 7, 32, 31, 1, 14, 30, 1, 31, 21, 18, 1, 29, 22, 28, 18, 29], [18, 3, 1, 7, 32, 31, 1, 14, 30, 1, 31, 21, 18, 1, 29, 22, 28, 18, 29, 1], [3, 1, 7, 32, 31, 1, 14, 30, 1, 31, 21, 18, 1, 29, 22, 28, 18, 29, 1, 30], [1, 7, 32, 31, 1, 14, 30, 1, 31, 21, 18, 1, 29, 22, 28, 18, 29, 1, 30, 21], [7, 32, 31, 1, 14, 30, 1, 31, 21, 18, 1, 29, 22, 28, 18, 29, 1, 30, 21, 27], [32, 31, 1, 14, 30, 1, 31, 21, 18, 1, 29, 22, 28, 18, 29, 1, 30, 21, 27, 32], [31, 1, 14, 30, 1, 31, 21, 18, 1, 29, 22, 28, 18, 29, 1, 30, 21, 27, 32, 24], [1, 14, 30, 1, 31, 21, 18, 1, 29, 22, 28, 18, 29, 1, 30, 21, 27, 32, 24, 17], [14, 30, 1, 31, 21, 18, 1, 29, 22, 28, 18, 29, 1, 30, 21, 27, 32, 24, 17, 1], [30, 1, 31, 21, 18, 1, 29, 22, 28, 18, 29, 1, 30, 21, 27, 32, 24, 17, 1, 15], [1, 31, 21, 18, 1, 29, 22, 28, 18, 29, 1, 30, 21, 27, 32, 24, 17, 1, 15, 35], [31, 21, 18, 1, 29, 22, 28, 18, 29, 1, 30, 21, 27, 32, 24, 17, 1, 15, 35, 1], [21, 18, 1, 29, 22, 28, 18, 29, 1, 30, 21, 27, 32, 24, 17, 1, 15, 35, 1, 31], [18, 1, 29, 22, 28, 18, 29, 1, 30, 21, 27, 32, 24, 17, 1, 15, 35, 1, 31, 22], [1, 29, 22, 28, 18, 29, 1, 30, 21, 27, 32, 24, 17, 1, 15, 35, 1, 31, 22, 25], [29, 22, 28, 18, 29, 1, 30, 21, 27, 32, 24, 17, 1, 15, 35, 1, 31, 22, 25, 18], [22, 28, 18, 29, 1, 30, 21, 27, 32, 24, 17, 1, 15, 35, 1, 31, 22, 25, 18, 1], [28, 18, 29, 1, 30, 21, 27, 32, 24, 17, 1, 15, 35, 1, 31, 22, 25, 18, 1, 17], [18, 29, 1, 30, 21, 27, 32, 24, 17, 1, 15, 35, 1, 31, 22, 25, 18, 1, 17, 18], [29, 1, 30, 21, 27, 32, 24, 17, 1, 15, 35, 1, 31, 22, 25, 18, 1, 17, 18, 16], [1, 30, 21, 27, 32, 24, 17, 1, 15, 35, 1, 31, 22, 25, 18, 1, 17, 18, 16, 18], [30, 21, 27, 32, 24, 17, 1, 15, 35, 1, 31, 22, 25, 18, 1, 17, 18, 16, 18, 14], [21, 27, 32, 24, 17, 1, 15, 35, 1, 31, 22, 25, 18, 1, 17, 18, 16, 18, 14, 30], [27, 32, 24, 17, 1, 15, 35, 1, 31, 22, 25, 18, 1, 17, 18, 16, 18, 14, 30, 18], [32, 24, 17, 1, 15, 35, 1, 31, 22, 25, 18, 1, 17, 18, 16, 18, 14, 30, 18, 3], [24, 17, 1, 15, 35, 1, 31, 22, 25, 18, 1, 17, 18, 16, 18, 14, 30, 18, 3, 1], [17, 1, 15, 35, 1, 31, 22, 25, 18, 1, 17, 18, 16, 18, 14, 30, 18, 3, 1, 9], [1, 15, 35, 1, 31, 22, 25, 18, 1, 17, 18, 16, 18, 14, 30, 18, 3, 1, 9, 22], [15, 35, 1, 31, 22, 25, 18, 1, 17, 18, 16, 18, 14, 30, 18, 3, 1, 9, 22, 30], [35, 1, 31, 22, 25, 18, 1, 17, 18, 16, 18, 14, 30, 18, 3, 1, 9, 22, 30, 1], [1, 31, 22, 25, 18, 1, 17, 18, 16, 18, 14, 30, 18, 3, 1, 9, 22, 30, 1, 31], [31, 22, 25, 18, 1, 17, 18, 16, 18, 14, 30, 18, 3, 1, 9, 22, 30, 1, 31, 18], [22, 25, 18, 1, 17, 18, 16, 18, 14, 30, 18, 3, 1, 9, 22, 30, 1, 31, 18, 26], [25, 18, 1, 17, 18, 16, 18, 14, 30, 18, 3, 1, 9, 22, 30, 1, 31, 18, 26, 17], [18, 1, 17, 18, 16, 18, 14, 30, 18, 3, 1, 9, 22, 30, 1, 31, 18, 26, 17, 18], [1, 17, 18, 16, 18, 14, 30, 18, 3, 1, 9, 22, 30, 1, 31, 18, 26, 17, 18, 29], [17, 18, 16, 18, 14, 30, 18, 3, 1, 9, 22, 30, 1, 31, 18, 26, 17, 18, 29, 1], [18, 16, 18, 14, 30, 18, 3, 1, 9, 22, 30, 1, 31, 18, 26, 17, 18, 29, 1, 21], [16, 18, 14, 30, 18, 3, 1, 9, 22, 30, 1, 31, 18, 26, 17, 18, 29, 1, 21, 18], [18, 14, 30, 18, 3, 1, 9, 22, 30, 1, 31, 18, 26, 17, 18, 29, 1, 21, 18, 22], [14, 30, 18, 3, 1, 9, 22, 30, 1, 31, 18, 26, 17, 18, 29, 1, 21, 18, 22, 29], [30, 18, 3, 1, 9, 22, 30, 1, 31, 18, 26, 17, 18, 29, 1, 21, 18, 22, 29, 1], [18, 3, 1, 9, 22, 30, 1, 31, 18, 26, 17, 18, 29, 1, 21, 18, 22, 29, 1, 25], [3, 1, 9, 22, 30, 1, 31, 18, 26, 17, 18, 29, 1, 21, 18, 22, 29, 1, 25, 22], [1, 9, 22, 30, 1, 31, 18, 26, 17, 18, 29, 1, 21, 18, 22, 29, 1, 25, 22, 20], [9, 22, 30, 1, 31, 18, 26, 17, 18, 29, 1, 21, 18, 22, 29, 1, 25, 22, 20, 21], [22, 30, 1, 31, 18, 26, 17, 18, 29, 1, 21, 18, 22, 29, 1, 25, 22, 20, 21, 31], [30, 1, 31, 18, 26, 17, 18, 29, 1, 21, 18, 22, 29, 1, 25, 22, 20, 21, 31, 1], [1, 31, 18, 26, 17, 18, 29, 1, 21, 18, 22, 29, 1, 25, 22, 20, 21, 31, 1, 15], [31, 18, 26, 17, 18, 29, 1, 21, 18, 22, 29, 1, 25, 22, 20, 21, 31, 1, 15, 18], [18, 26, 17, 18, 29, 1, 21, 18, 22, 29, 1, 25, 22, 20, 21, 31, 1, 15, 18, 14], [26, 17, 18, 29, 1, 21, 18, 22, 29, 1, 25, 22, 20, 21, 31, 1, 15, 18, 14, 29], [17, 18, 29, 1, 21, 18, 22, 29, 1, 25, 22, 20, 21, 31, 1, 15, 18, 14, 29, 1], [18, 29, 1, 21, 18, 22, 29, 1, 25, 22, 20, 21, 31, 1, 15, 18, 14, 29, 1, 21], [29, 1, 21, 18, 22, 29, 1, 25, 22, 20, 21, 31, 1, 15, 18, 14, 29, 1, 21, 22], [1, 21, 18, 22, 29, 1, 25, 22, 20, 21, 31, 1, 15, 18, 14, 29, 1, 21, 22, 30], [21, 18, 22, 29, 1, 25, 22, 20, 21, 31, 1, 15, 18, 14, 29, 1, 21, 22, 30, 1], [18, 22, 29, 1, 25, 22, 20, 21, 31, 1, 15, 18, 14, 29, 1, 21, 22, 30, 1, 25], [22, 29, 1, 25, 22, 20, 21, 31, 1, 15, 18, 14, 29, 1, 21, 22, 30, 1, 25, 18], [29, 1, 25, 22, 20, 21, 31, 1, 15, 18, 14, 29, 1, 21, 22, 30, 1, 25, 18, 25], [1, 25, 22, 20, 21, 31, 1, 15, 18, 14, 29, 1, 21, 22, 30, 1, 25, 18, 25, 27], [25, 22, 20, 21, 31, 1, 15, 18, 14, 29, 1, 21, 22, 30, 1, 25, 18, 25, 27, 29], [22, 20, 21, 31, 1, 15, 18, 14, 29, 1, 21, 22, 30, 1, 25, 18, 25, 27, 29, 35], [20, 21, 31, 1, 15, 18, 14, 29, 1, 21, 22, 30, 1, 25, 18, 25, 27, 29, 35, 5], [21, 31, 1, 15, 18, 14, 29, 1, 21, 22, 30, 1, 25, 18, 25, 27, 29, 35, 5, 1], [31, 1, 15, 18, 14, 29, 1, 21, 22, 30, 1, 25, 18, 25, 27, 29, 35, 5, 1, 7], [1, 15, 18, 14, 29, 1, 21, 22, 30, 1, 25, 18, 25, 27, 29, 35, 5, 1, 7, 32], [15, 18, 14, 29, 1, 21, 22, 30, 1, 25, 18, 25, 27, 29, 35, 5, 1, 7, 32, 31], [18, 14, 29, 1, 21, 22, 30, 1, 25, 18, 25, 27, 29, 35, 5, 1, 7, 32, 31, 1], [14, 29, 1, 21, 22, 30, 1, 25, 18, 25, 27, 29, 35, 5, 1, 7, 32, 31, 1, 31], [29, 1, 21, 22, 30, 1, 25, 18, 25, 27, 29, 35, 5, 1, 7, 32, 31, 1, 31, 21], [1, 21, 22, 30, 1, 25, 18, 25, 27, 29, 35, 5, 1, 7, 32, 31, 1, 31, 21, 27], [21, 22, 30, 1, 25, 18, 25, 27, 29, 35, 5, 1, 7, 32, 31, 1, 31, 21, 27, 32], [22, 30, 1, 25, 18, 25, 27, 29, 35, 5, 1, 7, 32, 31, 1, 31, 21, 27, 32, 1], [30, 1, 25, 18, 25, 27, 29, 35, 5, 1, 7, 32, 31, 1, 31, 21, 27, 32, 1, 16], [1, 25, 18, 25, 27, 29, 35, 5, 1, 7, 32, 31, 1, 31, 21, 27, 32, 1, 16, 27], [25, 18, 25, 27, 29, 35, 5, 1, 7, 32, 31, 1, 31, 21, 27, 32, 1, 16, 27, 26], [18, 25, 27, 29, 35, 5, 1, 7, 32, 31, 1, 31, 21, 27, 32, 1, 16, 27, 26, 31], [25, 27, 29, 35, 5, 1, 7, 32, 31, 1, 31, 21, 27, 32, 1, 16, 27, 26, 31, 29], [27, 29, 35, 5, 1, 7, 32, 31, 1, 31, 21, 27, 32, 1, 16, 27, 26, 31, 29, 14], [29, 35, 5, 1, 7, 32, 31, 1, 31, 21, 27, 32, 1, 16, 27, 26, 31, 29, 14, 16], [35, 5, 1, 7, 32, 31, 1, 31, 21, 27, 32, 1, 16, 27, 26, 31, 29, 14, 16, 31], [5, 1, 7, 32, 31, 1, 31, 21, 27, 32, 1, 16, 27, 26, 31, 29, 14, 16, 31, 18], [1, 7, 32, 31, 1, 31, 21, 27, 32, 1, 16, 27, 26, 31, 29, 14, 16, 31, 18, 17], [7, 32, 31, 1, 31, 21, 27, 32, 1, 16, 27, 26, 31, 29, 14, 16, 31, 18, 17, 1], [32, 31, 1, 31, 21, 27, 32, 1, 16, 27, 26, 31, 29, 14, 16, 31, 18, 17, 1, 31], [31, 1, 31, 21, 27, 32, 1, 16, 27, 26, 31, 29, 14, 16, 31, 18, 17, 1, 31, 27], [1, 31, 21, 27, 32, 1, 16, 27, 26, 31, 29, 14, 16, 31, 18, 17, 1, 31, 27, 1], [31, 21, 27, 32, 1, 16, 27, 26, 31, 29, 14, 16, 31, 18, 17, 1, 31, 27, 1, 31], [21, 27, 32, 1, 16, 27, 26, 31, 29, 14, 16, 31, 18, 17, 1, 31, 27, 1, 31, 21], [27, 32, 1, 16, 27, 26, 31, 29, 14, 16, 31, 18, 17, 1, 31, 27, 1, 31, 21, 22], [32, 1, 16, 27, 26, 31, 29, 14, 16, 31, 18, 17, 1, 31, 27, 1, 31, 21, 22, 26], [1, 16, 27, 26, 31, 29, 14, 16, 31, 18, 17, 1, 31, 27, 1, 31, 21, 22, 26, 18], [16, 27, 26, 31, 29, 14, 16, 31, 18, 17, 1, 31, 27, 1, 31, 21, 22, 26, 18, 1], [27, 26, 31, 29, 14, 16, 31, 18, 17, 1, 31, 27, 1, 31, 21, 22, 26, 18, 1, 27], [26, 31, 29, 14, 16, 31, 18, 17, 1, 31, 27, 1, 31, 21, 22, 26, 18, 1, 27, 34], [31, 29, 14, 16, 31, 18, 17, 1, 31, 27, 1, 31, 21, 22, 26, 18, 1, 27, 34, 26], [29, 14, 16, 31, 18, 17, 1, 31, 27, 1, 31, 21, 22, 26, 18, 1, 27, 34, 26, 1], [14, 16, 31, 18, 17, 1, 31, 27, 1, 31, 21, 22, 26, 18, 1, 27, 34, 26, 1, 15], [16, 31, 18, 17, 1, 31, 27, 1, 31, 21, 22, 26, 18, 1, 27, 34, 26, 1, 15, 29], [31, 18, 17, 1, 31, 27, 1, 31, 21, 22, 26, 18, 1, 27, 34, 26, 1, 15, 29, 22], [18, 17, 1, 31, 27, 1, 31, 21, 22, 26, 18, 1, 27, 34, 26, 1, 15, 29, 22, 20], [17, 1, 31, 27, 1, 31, 21, 22, 26, 18, 1, 27, 34, 26, 1, 15, 29, 22, 20, 21], [1, 31, 27, 1, 31, 21, 22, 26, 18, 1, 27, 34, 26, 1, 15, 29, 22, 20, 21, 31], [31, 27, 1, 31, 21, 22, 26, 18, 1, 27, 34, 26, 1, 15, 29, 22, 20, 21, 31, 1], [27, 1, 31, 21, 22, 26, 18, 1, 27, 34, 26, 1, 15, 29, 22, 20, 21, 31, 1, 18], [1, 31, 21, 22, 26, 18, 1, 27, 34, 26, 1, 15, 29, 22, 20, 21, 31, 1, 18, 35], [31, 21, 22, 26, 18, 1, 27, 34, 26, 1, 15, 29, 22, 20, 21, 31, 1, 18, 35, 18], [21, 22, 26, 18, 1, 27, 34, 26, 1, 15, 29, 22, 20, 21, 31, 1, 18, 35, 18, 30], [22, 26, 18, 1, 27, 34, 26, 1, 15, 29, 22, 20, 21, 31, 1, 18, 35, 18, 30, 3], [26, 18, 1, 27, 34, 26, 1, 15, 29, 22, 20, 21, 31, 1, 18, 35, 18, 30, 3, 1], [18, 1, 27, 34, 26, 1, 15, 29, 22, 20, 21, 31, 1, 18, 35, 18, 30, 3, 1, 8], [1, 27, 34, 26, 1, 15, 29, 22, 20, 21, 31, 1, 18, 35, 18, 30, 3, 1, 8, 18], [27, 34, 26, 1, 15, 29, 22, 20, 21, 31, 1, 18, 35, 18, 30, 3, 1, 8, 18, 18], [34, 26, 1, 15, 29, 22, 20, 21, 31, 1, 18, 35, 18, 30, 3, 1, 8, 18, 18, 17], [26, 1, 15, 29, 22, 20, 21, 31, 1, 18, 35, 18, 30, 3, 1, 8, 18, 18, 17, 2], [1, 15, 29, 22, 20, 21, 31, 1, 18, 35, 18, 30, 3, 1, 8, 18, 18, 17, 2, 30], [15, 29, 22, 20, 21, 31, 1, 18, 35, 18, 30, 3, 1, 8, 18, 18, 17, 2, 30, 31], [29, 22, 20, 21, 31, 1, 18, 35, 18, 30, 3, 1, 8, 18, 18, 17, 2, 30, 31, 1], [22, 20, 21, 31, 1, 18, 35, 18, 30, 3, 1, 8, 18, 18, 17, 2, 30, 31, 1, 31], [20, 21, 31, 1, 18, 35, 18, 30, 3, 1, 8, 18, 18, 17, 2, 30, 31, 1, 31, 21], [21, 31, 1, 18, 35, 18, 30, 3, 1, 8, 18, 18, 17, 2, 30, 31, 1, 31, 21, 35], [31, 1, 18, 35, 18, 30, 3, 1, 8, 18, 18, 17, 2, 30, 31, 1, 31, 21, 35, 1], [1, 18, 35, 18, 30, 3, 1, 8, 18, 18, 17, 2, 30, 31, 1, 31, 21, 35, 1, 24], [18, 35, 18, 30, 3, 1, 8, 18, 18, 17, 2, 30, 31, 1, 31, 21, 35, 1, 24, 22], [35, 18, 30, 3, 1, 8, 18, 18, 17, 2, 30, 31, 1, 31, 21, 35, 1, 24, 22, 20], [18, 30, 3, 1, 8, 18, 18, 17, 2, 30, 31, 1, 31, 21, 35, 1, 24, 22, 20, 21], [30, 3, 1, 8, 18, 18, 17, 2, 30, 31, 1, 31, 21, 35, 1, 24, 22, 20, 21, 31], [3, 1, 8, 18, 18, 17, 2, 30, 31, 1, 31, 21, 35, 1, 24, 22, 20, 21, 31, 2], [1, 8, 18, 18, 17, 2, 30, 31, 1, 31, 21, 35, 1, 24, 22, 20, 21, 31, 2, 30], [8, 18, 18, 17, 2, 30, 31, 1, 31, 21, 35, 1, 24, 22, 20, 21, 31, 2, 30, 1], [18, 18, 17, 2, 30, 31, 1, 31, 21, 35, 1, 24, 22, 20, 21, 31, 2, 30, 1, 19], [18, 17, 2, 30, 31, 1, 31, 21, 35, 1, 24, 22, 20, 21, 31, 2, 30, 1, 19, 24], [17, 2, 30, 31, 1, 31, 21, 35, 1, 24, 22, 20, 21, 31, 2, 30, 1, 19, 24, 14], [2, 30, 31, 1, 31, 21, 35, 1, 24, 22, 20, 21, 31, 2, 30, 1, 19, 24, 14, 25], [30, 31, 1, 31, 21, 35, 1, 24, 22, 20, 21, 31, 2, 30, 1, 19, 24, 14, 25, 18], [31, 1, 31, 21, 35, 1, 24, 22, 20, 21, 31, 2, 30, 1, 19, 24, 14, 25, 18, 1], [1, 31, 21, 35, 1, 24, 22, 20, 21, 31, 2, 30, 1, 19, 24, 14, 25, 18, 1, 34], [31, 21, 35, 1, 24, 22, 20, 21, 31, 2, 30, 1, 19, 24, 14, 25, 18, 1, 34, 22], [21, 35, 1, 24, 22, 20, 21, 31, 2, 30, 1, 19, 24, 14, 25, 18, 1, 34, 22, 31], [35, 1, 24, 22, 20, 21, 31, 2, 30, 1, 19, 24, 14, 25, 18, 1, 34, 22, 31, 21], [1, 24, 22, 20, 21, 31, 2, 30, 1, 19, 24, 14, 25, 18, 1, 34, 22, 31, 21, 1], [24, 22, 20, 21, 31, 2, 30, 1, 19, 24, 14, 25, 18, 1, 34, 22, 31, 21, 1, 30], [22, 20, 21, 31, 2, 30, 1, 19, 24, 14, 25, 18, 1, 34, 22, 31, 21, 1, 30, 18], [20, 21, 31, 2, 30, 1, 19, 24, 14, 25, 18, 1, 34, 22, 31, 21, 1, 30, 18, 24], [21, 31, 2, 30, 1, 19, 24, 14, 25, 18, 1, 34, 22, 31, 21, 1, 30, 18, 24, 19], [31, 2, 30, 1, 19, 24, 14, 25, 18, 1, 34, 22, 31, 21, 1, 30, 18, 24, 19, 4], [2, 30, 1, 19, 24, 14, 25, 18, 1, 34, 22, 31, 21, 1, 30, 18, 24, 19, 4, 30], [30, 1, 19, 24, 14, 25, 18, 1, 34, 22, 31, 21, 1, 30, 18, 24, 19, 4, 30, 32], [1, 19, 24, 14, 25, 18, 1, 34, 22, 31, 21, 1, 30, 18, 24, 19, 4, 30, 32, 15], [19, 24, 14, 25, 18, 1, 34, 22, 31, 21, 1, 30, 18, 24, 19, 4, 30, 32, 15, 30], [24, 14, 25, 18, 1, 34, 22, 31, 21, 1, 30, 18, 24, 19, 4, 30, 32, 15, 30, 31], [14, 25, 18, 1, 34, 22, 31, 21, 1, 30, 18, 24, 19, 4, 30, 32, 15, 30, 31, 14], [25, 18, 1, 34, 22, 31, 21, 1, 30, 18, 24, 19, 4, 30, 32, 15, 30, 31, 14, 26], [18, 1, 34, 22, 31, 21, 1, 30, 18, 24, 19, 4, 30, 32, 15, 30, 31, 14, 26, 31], [1, 34, 22, 31, 21, 1, 30, 18, 24, 19, 4, 30, 32, 15, 30, 31, 14, 26, 31, 22], [34, 22, 31, 21, 1, 30, 18, 24, 19, 4, 30, 32, 15, 30, 31, 14, 26, 31, 22, 14], [22, 31, 21, 1, 30, 18, 24, 19, 4, 30, 32, 15, 30, 31, 14, 26, 31, 22, 14, 24], [31, 21, 1, 30, 18, 24, 19, 4, 30, 32, 15, 30, 31, 14, 26, 31, 22, 14, 24, 1], [21, 1, 30, 18, 24, 19, 4, 30, 32, 15, 30, 31, 14, 26, 31, 22, 14, 24, 1, 19], [1, 30, 18, 24, 19, 4, 30, 32, 15, 30, 31, 14, 26, 31, 22, 14, 24, 1, 19, 32], [30, 18, 24, 19, 4, 30, 32, 15, 30, 31, 14, 26, 31, 22, 14, 24, 1, 19, 32, 18], [18, 24, 19, 4, 30, 32, 15, 30, 31, 14, 26, 31, 22, 14, 24, 1, 19, 32, 18, 24], [24, 19, 4, 30, 32, 15, 30, 31, 14, 26, 31, 22, 14, 24, 1, 19, 32, 18, 24, 3], [19, 4, 30, 32, 15, 30, 31, 14, 26, 31, 22, 14, 24, 1, 19, 32, 18, 24, 3, 1], [4, 30, 32, 15, 30, 31, 14, 26, 31, 22, 14, 24, 1, 19, 32, 18, 24, 3, 1, 10], [30, 32, 15, 30, 31, 14, 26, 31, 22, 14, 24, 1, 19, 32, 18, 24, 3, 1, 10, 14], [32, 15, 30, 31, 14, 26, 31, 22, 14, 24, 1, 19, 32, 18, 24, 3, 1, 10, 14, 23], [15, 30, 31, 14, 26, 31, 22, 14, 24, 1, 19, 32, 18, 24, 3, 1, 10, 14, 23, 22], [30, 31, 14, 26, 31, 22, 14, 24, 1, 19, 32, 18, 24, 3, 1, 10, 14, 23, 22, 26], [31, 14, 26, 31, 22, 14, 24, 1, 19, 32, 18, 24, 3, 1, 10, 14, 23, 22, 26, 20], [14, 26, 31, 22, 14, 24, 1, 19, 32, 18, 24, 3, 1, 10, 14, 23, 22, 26, 20, 1], [26, 31, 22, 14, 24, 1, 19, 32, 18, 24, 3, 1, 10, 14, 23, 22, 26, 20, 1, 14], [31, 22, 14, 24, 1, 19, 32, 18, 24, 3, 1, 10, 14, 23, 22, 26, 20, 1, 14, 1], [22, 14, 24, 1, 19, 32, 18, 24, 3, 1, 10, 14, 23, 22, 26, 20, 1, 14, 1, 19], [14, 24, 1, 19, 32, 18, 24, 3, 1, 10, 14, 23, 22, 26, 20, 1, 14, 1, 19, 14], [24, 1, 19, 32, 18, 24, 3, 1, 10, 14, 23, 22, 26, 20, 1, 14, 1, 19, 14, 25], [1, 19, 32, 18, 24, 3, 1, 10, 14, 23, 22, 26, 20, 1, 14, 1, 19, 14, 25, 22], [19, 32, 18, 24, 3, 1, 10, 14, 23, 22, 26, 20, 1, 14, 1, 19, 14, 25, 22, 26], [32, 18, 24, 3, 1, 10, 14, 23, 22, 26, 20, 1, 14, 1, 19, 14, 25, 22, 26, 18], [18, 24, 3, 1, 10, 14, 23, 22, 26, 20, 1, 14, 1, 19, 14, 25, 22, 26, 18, 1], [24, 3, 1, 10, 14, 23, 22, 26, 20, 1, 14, 1, 19, 14, 25, 22, 26, 18, 1, 34], [3, 1, 10, 14, 23, 22, 26, 20, 1, 14, 1, 19, 14, 25, 22, 26, 18, 1, 34, 21], [1, 10, 14, 23, 22, 26, 20, 1, 14, 1, 19, 14, 25, 22, 26, 18, 1, 34, 21, 18], [10, 14, 23, 22, 26, 20, 1, 14, 1, 19, 14, 25, 22, 26, 18, 1, 34, 21, 18, 29], [14, 23, 22, 26, 20, 1, 14, 1, 19, 14, 25, 22, 26, 18, 1, 34, 21, 18, 29, 18], [23, 22, 26, 20, 1, 14, 1, 19, 14, 25, 22, 26, 18, 1, 34, 21, 18, 29, 18, 1], [22, 26, 20, 1, 14, 1, 19, 14, 25, 22, 26, 18, 1, 34, 21, 18, 29, 18, 1, 14], [26, 20, 1, 14, 1, 19, 14, 25, 22, 26, 18, 1, 34, 21, 18, 29, 18, 1, 14, 15], [20, 1, 14, 1, 19, 14, 25, 22, 26, 18, 1, 34, 21, 18, 29, 18, 1, 14, 15, 32], [1, 14, 1, 19, 14, 25, 22, 26, 18, 1, 34, 21, 18, 29, 18, 1, 14, 15, 32, 26], [14, 1, 19, 14, 25, 22, 26, 18, 1, 34, 21, 18, 29, 18, 1, 14, 15, 32, 26, 17], [1, 19, 14, 25, 22, 26, 18, 1, 34, 21, 18, 29, 18, 1, 14, 15, 32, 26, 17, 14], [19, 14, 25, 22, 26, 18, 1, 34, 21, 18, 29, 18, 1, 14, 15, 32, 26, 17, 14, 26], [14, 25, 22, 26, 18, 1, 34, 21, 18, 29, 18, 1, 14, 15, 32, 26, 17, 14, 26, 16], [25, 22, 26, 18, 1, 34, 21, 18, 29, 18, 1, 14, 15, 32, 26, 17, 14, 26, 16, 18], [22, 26, 18, 1, 34, 21, 18, 29, 18, 1, 14, 15, 32, 26, 17, 14, 26, 16, 18, 1], [26, 18, 1, 34, 21, 18, 29, 18, 1, 14, 15, 32, 26, 17, 14, 26, 16, 18, 1, 24], [18, 1, 34, 21, 18, 29, 18, 1, 14, 15, 32, 26, 17, 14, 26, 16, 18, 1, 24, 22], [1, 34, 21, 18, 29, 18, 1, 14, 15, 32, 26, 17, 14, 26, 16, 18, 1, 24, 22, 18], [34, 21, 18, 29, 18, 1, 14, 15, 32, 26, 17, 14, 26, 16, 18, 1, 24, 22, 18, 30], [21, 18, 29, 18, 1, 14, 15, 32, 26, 17, 14, 26, 16, 18, 1, 24, 22, 18, 30, 3], [18, 29, 18, 1, 14, 15, 32, 26, 17, 14, 26, 16, 18, 1, 24, 22, 18, 30, 3, 1], [29, 18, 1, 14, 15, 32, 26, 17, 14, 26, 16, 18, 1, 24, 22, 18, 30, 3, 1, 12], [18, 1, 14, 15, 32, 26, 17, 14, 26, 16, 18, 1, 24, 22, 18, 30, 3, 1, 12, 21], [1, 14, 15, 32, 26, 17, 14, 26, 16, 18, 1, 24, 22, 18, 30, 3, 1, 12, 21, 35], [14, 15, 32, 26, 17, 14, 26, 16, 18, 1, 24, 22, 18, 30, 3, 1, 12, 21, 35, 1], [15, 32, 26, 17, 14, 26, 16, 18, 1, 24, 22, 18, 30, 3, 1, 12, 21, 35, 1, 30], [32, 26, 17, 14, 26, 16, 18, 1, 24, 22, 18, 30, 3, 1, 12, 21, 35, 1, 30, 18], [26, 17, 14, 26, 16, 18, 1, 24, 22, 18, 30, 3, 1, 12, 21, 35, 1, 30, 18, 24], [17, 14, 26, 16, 18, 1, 24, 22, 18, 30, 3, 1, 12, 21, 35, 1, 30, 18, 24, 19], [14, 26, 16, 18, 1, 24, 22, 18, 30, 3, 1, 12, 21, 35, 1, 30, 18, 24, 19, 1], [26, 16, 18, 1, 24, 22, 18, 30, 3, 1, 12, 21, 35, 1, 30, 18, 24, 19, 1, 31], [16, 18, 1, 24, 22, 18, 30, 3, 1, 12, 21, 35, 1, 30, 18, 24, 19, 1, 31, 21], [18, 1, 24, 22, 18, 30, 3, 1, 12, 21, 35, 1, 30, 18, 24, 19, 1, 31, 21, 35], [1, 24, 22, 18, 30, 3, 1, 12, 21, 35, 1, 30, 18, 24, 19, 1, 31, 21, 35, 1], [24, 22, 18, 30, 3, 1, 12, 21, 35, 1, 30, 18, 24, 19, 1, 31, 21, 35, 1, 19], [22, 18, 30, 3, 1, 12, 21, 35, 1, 30, 18, 24, 19, 1, 31, 21, 35, 1, 19, 27], [18, 30, 3, 1, 12, 21, 35, 1, 30, 18, 24, 19, 1, 31, 21, 35, 1, 19, 27, 18], [30, 3, 1, 12, 21, 35, 1, 30, 18, 24, 19, 1, 31, 21, 35, 1, 19, 27, 18, 3], [3, 1, 12, 21, 35, 1, 30, 18, 24, 19, 1, 31, 21, 35, 1, 19, 27, 18, 3, 1], [1, 12, 21, 35, 1, 30, 18, 24, 19, 1, 31, 21, 35, 1, 19, 27, 18, 3, 1, 31], [12, 21, 35, 1, 30, 18, 24, 19, 1, 31, 21, 35, 1, 19, 27, 18, 3, 1, 31, 27], [21, 35, 1, 30, 18, 24, 19, 1, 31, 21, 35, 1, 19, 27, 18, 3, 1, 31, 27, 1], [35, 1, 30, 18, 24, 19, 1, 31, 21, 35, 1, 19, 27, 18, 3, 1, 31, 27, 1, 31], [1, 30, 18, 24, 19, 1, 31, 21, 35, 1, 19, 27, 18, 3, 1, 31, 27, 1, 31, 21], [30, 18, 24, 19, 1, 31, 21, 35, 1, 19, 27, 18, 3, 1, 31, 27, 1, 31, 21, 35], [18, 24, 19, 1, 31, 21, 35, 1, 19, 27, 18, 3, 1, 31, 27, 1, 31, 21, 35, 1], [24, 19, 1, 31, 21, 35, 1, 19, 27, 18, 3, 1, 31, 27, 1, 31, 21, 35, 1, 30], [19, 1, 31, 21, 35, 1, 19, 27, 18, 3, 1, 31, 27, 1, 31, 21, 35, 1, 30, 34], [1, 31, 21, 35, 1, 19, 27, 18, 3, 1, 31, 27, 1, 31, 21, 35, 1, 30, 34, 18], [31, 21, 35, 1, 19, 27, 18, 3, 1, 31, 27, 1, 31, 21, 35, 1, 30, 34, 18, 18], [21, 35, 1, 19, 27, 18, 3, 1, 31, 27, 1, 31, 21, 35, 1, 30, 34, 18, 18, 31], [35, 1, 19, 27, 18, 3, 1, 31, 27, 1, 31, 21, 35, 1, 30, 34, 18, 18, 31, 1], [1, 19, 27, 18, 3, 1, 31, 27, 1, 31, 21, 35, 1, 30, 34, 18, 18, 31, 1, 30], [19, 27, 18, 3, 1, 31, 27, 1, 31, 21, 35, 1, 30, 34, 18, 18, 31, 1, 30, 18], [27, 18, 3, 1, 31, 27, 1, 31, 21, 35, 1, 30, 34, 18, 18, 31, 1, 30, 18, 24], [18, 3, 1, 31, 27, 1, 31, 21, 35, 1, 30, 34, 18, 18, 31, 1, 30, 18, 24, 19], [3, 1, 31, 27, 1, 31, 21, 35, 1, 30, 34, 18, 18, 31, 1, 30, 18, 24, 19, 1], [1, 31, 27, 1, 31, 21, 35, 1, 30, 34, 18, 18, 31, 1, 30, 18, 24, 19, 1, 31], [31, 27, 1, 31, 21, 35, 1, 30, 34, 18, 18, 31, 1, 30, 18, 24, 19, 1, 31, 27], [27, 1, 31, 21, 35, 1, 30, 34, 18, 18, 31, 1, 30, 18, 24, 19, 1, 31, 27, 27], [1, 31, 21, 35, 1, 30, 34, 18, 18, 31, 1, 30, 18, 24, 19, 1, 31, 27, 27, 1], [31, 21, 35, 1, 30, 34, 18, 18, 31, 1, 30, 18, 24, 19, 1, 31, 27, 27, 1, 16], [21, 35, 1, 30, 34, 18, 18, 31, 1, 30, 18, 24, 19, 1, 31, 27, 27, 1, 16, 29], [35, 1, 30, 34, 18, 18, 31, 1, 30, 18, 24, 19, 1, 31, 27, 27, 1, 16, 29, 32], [1, 30, 34, 18, 18, 31, 1, 30, 18, 24, 19, 1, 31, 27, 27, 1, 16, 29, 32, 18], [30, 34, 18, 18, 31, 1, 30, 18, 24, 19, 1, 31, 27, 27, 1, 16, 29, 32, 18, 24], [34, 18, 18, 31, 1, 30, 18, 24, 19, 1, 31, 27, 27, 1, 16, 29, 32, 18, 24, 5], [18, 18, 31, 1, 30, 18, 24, 19, 1, 31, 27, 27, 1, 16, 29, 32, 18, 24, 5, 1], [18, 31, 1, 30, 18, 24, 19, 1, 31, 27, 27, 1, 16, 29, 32, 18, 24, 5, 1, 12], [31, 1, 30, 18, 24, 19, 1, 31, 27, 27, 1, 16, 29, 32, 18, 24, 5, 1, 12, 21], [1, 30, 18, 24, 19, 1, 31, 27, 27, 1, 16, 29, 32, 18, 24, 5, 1, 12, 21, 27], [30, 18, 24, 19, 1, 31, 27, 27, 1, 16, 29, 32, 18, 24, 5, 1, 12, 21, 27, 32], [18, 24, 19, 1, 31, 27, 27, 1, 16, 29, 32, 18, 24, 5, 1, 12, 21, 27, 32, 1], [24, 19, 1, 31, 27, 27, 1, 16, 29, 32, 18, 24, 5, 1, 12, 21, 27, 32, 1, 31], [19, 1, 31, 27, 27, 1, 16, 29, 32, 18, 24, 5, 1, 12, 21, 27, 32, 1, 31, 21], [1, 31, 27, 27, 1, 16, 29, 32, 18, 24, 5, 1, 12, 21, 27, 32, 1, 31, 21, 14], [31, 27, 27, 1, 16, 29, 32, 18, 24, 5, 1, 12, 21, 27, 32, 1, 31, 21, 14, 31], [27, 27, 1, 16, 29, 32, 18, 24, 5, 1, 12, 21, 27, 32, 1, 31, 21, 14, 31, 1], [27, 1, 16, 29, 32, 18, 24, 5, 1, 12, 21, 27, 32, 1, 31, 21, 14, 31, 1, 14], [1, 16, 29, 32, 18, 24, 5, 1, 12, 21, 27, 32, 1, 31, 21, 14, 31, 1, 14, 29], [16, 29, 32, 18, 24, 5, 1, 12, 21, 27, 32, 1, 31, 21, 14, 31, 1, 14, 29, 31], [29, 32, 18, 24, 5, 1, 12, 21, 27, 32, 1, 31, 21, 14, 31, 1, 14, 29, 31, 1], [32, 18, 24, 5, 1, 12, 21, 27, 32, 1, 31, 21, 14, 31, 1, 14, 29, 31, 1, 26], [18, 24, 5, 1, 12, 21, 27, 32, 1, 31, 21, 14, 31, 1, 14, 29, 31, 1, 26, 27], [24, 5, 1, 12, 21, 27, 32, 1, 31, 21, 14, 31, 1, 14, 29, 31, 1, 26, 27, 34], [5, 1, 12, 21, 27, 32, 1, 31, 21, 14, 31, 1, 14, 29, 31, 1, 26, 27, 34, 1], [1, 12, 21, 27, 32, 1, 31, 21, 14, 31, 1, 14, 29, 31, 1, 26, 27, 34, 1, 31], [12, 21, 27, 32, 1, 31, 21, 14, 31, 1, 14, 29, 31, 1, 26, 27, 34, 1, 31, 21], [21, 27, 32, 1, 31, 21, 14, 31, 1, 14, 29, 31, 1, 26, 27, 34, 1, 31, 21, 18], [27, 32, 1, 31, 21, 14, 31, 1, 14, 29, 31, 1, 26, 27, 34, 1, 31, 21, 18, 1], [32, 1, 31, 21, 14, 31, 1, 14, 29, 31, 1, 26, 27, 34, 1, 31, 21, 18, 1, 34], [1, 31, 21, 14, 31, 1, 14, 29, 31, 1, 26, 27, 34, 1, 31, 21, 18, 1, 34, 27], [31, 21, 14, 31, 1, 14, 29, 31, 1, 26, 27, 34, 1, 31, 21, 18, 1, 34, 27, 29], [21, 14, 31, 1, 14, 29, 31, 1, 26, 27, 34, 1, 31, 21, 18, 1, 34, 27, 29, 24], [14, 31, 1, 14, 29, 31, 1, 26, 27, 34, 1, 31, 21, 18, 1, 34, 27, 29, 24, 17], [31, 1, 14, 29, 31, 1, 26, 27, 34, 1, 31, 21, 18, 1, 34, 27, 29, 24, 17, 2], [1, 14, 29, 31, 1, 26, 27, 34, 1, 31, 21, 18, 1, 34, 27, 29, 24, 17, 2, 30], [14, 29, 31, 1, 26, 27, 34, 1, 31, 21, 18, 1, 34, 27, 29, 24, 17, 2, 30, 1], [29, 31, 1, 26, 27, 34, 1, 31, 21, 18, 1, 34, 27, 29, 24, 17, 2, 30, 1, 19], [31, 1, 26, 27, 34, 1, 31, 21, 18, 1, 34, 27, 29, 24, 17, 2, 30, 1, 19, 29], [1, 26, 27, 34, 1, 31, 21, 18, 1, 34, 27, 29, 24, 17, 2, 30, 1, 19, 29, 18], [26, 27, 34, 1, 31, 21, 18, 1, 34, 27, 29, 24, 17, 2, 30, 1, 19, 29, 18, 30], [27, 34, 1, 31, 21, 18, 1, 34, 27, 29, 24, 17, 2, 30, 1, 19, 29, 18, 30, 21], [34, 1, 31, 21, 18, 1, 34, 27, 29, 24, 17, 2, 30, 1, 19, 29, 18, 30, 21, 1], [1, 31, 21, 18, 1, 34, 27, 29, 24, 17, 2, 30, 1, 19, 29, 18, 30, 21, 1, 27], [31, 21, 18, 1, 34, 27, 29, 24, 17, 2, 30, 1, 19, 29, 18, 30, 21, 1, 27, 29], [21, 18, 1, 34, 27, 29, 24, 17, 2, 30, 1, 19, 29, 18, 30, 21, 1, 27, 29, 26], [18, 1, 34, 27, 29, 24, 17, 2, 30, 1, 19, 29, 18, 30, 21, 1, 27, 29, 26, 14], [1, 34, 27, 29, 24, 17, 2, 30, 1, 19, 29, 18, 30, 21, 1, 27, 29, 26, 14, 25], [34, 27, 29, 24, 17, 2, 30, 1, 19, 29, 18, 30, 21, 1, 27, 29, 26, 14, 25, 18], [27, 29, 24, 17, 2, 30, 1, 19, 29, 18, 30, 21, 1, 27, 29, 26, 14, 25, 18, 26], [29, 24, 17, 2, 30, 1, 19, 29, 18, 30, 21, 1, 27, 29, 26, 14, 25, 18, 26, 31], [24, 17, 2, 30, 1, 19, 29, 18, 30, 21, 1, 27, 29, 26, 14, 25, 18, 26, 31, 3], [17, 2, 30, 1, 19, 29, 18, 30, 21, 1, 27, 29, 26, 14, 25, 18, 26, 31, 3, 1], [2, 30, 1, 19, 29, 18, 30, 21, 1, 27, 29, 26, 14, 25, 18, 26, 31, 3, 1, 6], [30, 1, 19, 29, 18, 30, 21, 1, 27, 29, 26, 14, 25, 18, 26, 31, 3, 1, 6, 26], [1, 19, 29, 18, 30, 21, 1, 27, 29, 26, 14, 25, 18, 26, 31, 3, 1, 6, 26, 17], [19, 29, 18, 30, 21, 1, 27, 29, 26, 14, 25, 18, 26, 31, 3, 1, 6, 26, 17, 1], [29, 18, 30, 21, 1, 27, 29, 26, 14, 25, 18, 26, 31, 3, 1, 6, 26, 17, 1, 27], [18, 30, 21, 1, 27, 29, 26, 14, 25, 18, 26, 31, 3, 1, 6, 26, 17, 1, 27, 26], [30, 21, 1, 27, 29, 26, 14, 25, 18, 26, 31, 3, 1, 6, 26, 17, 1, 27, 26, 24], [21, 1, 27, 29, 26, 14, 25, 18, 26, 31, 3, 1, 6, 26, 17, 1, 27, 26, 24, 35], [1, 27, 29, 26, 14, 25, 18, 26, 31, 3, 1, 6, 26, 17, 1, 27, 26, 24, 35, 1], [27, 29, 26, 14, 25, 18, 26, 31, 3, 1, 6, 26, 17, 1, 27, 26, 24, 35, 1, 21], [29, 26, 14, 25, 18, 26, 31, 3, 1, 6, 26, 17, 1, 27, 26, 24, 35, 1, 21, 18], [26, 14, 25, 18, 26, 31, 3, 1, 6, 26, 17, 1, 27, 26, 24, 35, 1, 21, 18, 29], [14, 25, 18, 26, 31, 3, 1, 6, 26, 17, 1, 27, 26, 24, 35, 1, 21, 18, 29, 14], [25, 18, 26, 31, 3, 1, 6, 26, 17, 1, 27, 26, 24, 35, 1, 21, 18, 29, 14, 24], [18, 26, 31, 3, 1, 6, 26, 17, 1, 27, 26, 24, 35, 1, 21, 18, 29, 14, 24, 17], [26, 31, 3, 1, 6, 26, 17, 1, 27, 26, 24, 35, 1, 21, 18, 29, 14, 24, 17, 1], [31, 3, 1, 6, 26, 17, 1, 27, 26, 24, 35, 1, 21, 18, 29, 14, 24, 17, 1, 31], [3, 1, 6, 26, 17, 1, 27, 26, 24, 35, 1, 21, 18, 29, 14, 24, 17, 1, 31, 27], [1, 6, 26, 17, 1, 27, 26, 24, 35, 1, 21, 18, 29, 14, 24, 17, 1, 31, 27, 1], [6, 26, 17, 1, 27, 26, 24, 35, 1, 21, 18, 29, 14, 24, 17, 1, 31, 27, 1, 31], [26, 17, 1, 27, 26, 24, 35, 1, 21, 18, 29, 14, 24, 17, 1, 31, 27, 1, 31, 21], [17, 1, 27, 26, 24, 35, 1, 21, 18, 29, 14, 24, 17, 1, 31, 27, 1, 31, 21, 18], [1, 27, 26, 24, 35, 1, 21, 18, 29, 14, 24, 17, 1, 31, 27, 1, 31, 21, 18, 1], [27, 26, 24, 35, 1, 21, 18, 29, 14, 24, 17, 1, 31, 27, 1, 31, 21, 18, 1, 20], [26, 24, 35, 1, 21, 18, 29, 14, 24, 17, 1, 31, 27, 1, 31, 21, 18, 1, 20, 14], [24, 35, 1, 21, 18, 29, 14, 24, 17, 1, 31, 27, 1, 31, 21, 18, 1, 20, 14, 32], [35, 1, 21, 18, 29, 14, 24, 17, 1, 31, 27, 1, 31, 21, 18, 1, 20, 14, 32, 17], [1, 21, 18, 29, 14, 24, 17, 1, 31, 27, 1, 31, 21, 18, 1, 20, 14, 32, 17, 35], [21, 18, 29, 14, 24, 17, 1, 31, 27, 1, 31, 21, 18, 1, 20, 14, 32, 17, 35, 1], [18, 29, 14, 24, 17, 1, 31, 27, 1, 31, 21, 18, 1, 20, 14, 32, 17, 35, 1, 30], [29, 14, 24, 17, 1, 31, 27, 1, 31, 21, 18, 1, 20, 14, 32, 17, 35, 1, 30, 28], [14, 24, 17, 1, 31, 27, 1, 31, 21, 18, 1, 20, 14, 32, 17, 35, 1, 30, 28, 29], [24, 17, 1, 31, 27, 1, 31, 21, 18, 1, 20, 14, 32, 17, 35, 1, 30, 28, 29, 22], [17, 1, 31, 27, 1, 31, 21, 18, 1, 20, 14, 32, 17, 35, 1, 30, 28, 29, 22, 26], [1, 31, 27, 1, 31, 21, 18, 1, 20, 14, 32, 17, 35, 1, 30, 28, 29, 22, 26, 20], [31, 27, 1, 31, 21, 18, 1, 20, 14, 32, 17, 35, 1, 30, 28, 29, 22, 26, 20, 3], [27, 1, 31, 21, 18, 1, 20, 14, 32, 17, 35, 1, 30, 28, 29, 22, 26, 20, 3, 1], [1, 31, 21, 18, 1, 20, 14, 32, 17, 35, 1, 30, 28, 29, 22, 26, 20, 3, 1, 13], [31, 21, 18, 1, 20, 14, 32, 17, 35, 1, 30, 28, 29, 22, 26, 20, 3, 1, 13, 22], [21, 18, 1, 20, 14, 32, 17, 35, 1, 30, 28, 29, 22, 26, 20, 3, 1, 13, 22, 31], [18, 1, 20, 14, 32, 17, 35, 1, 30, 28, 29, 22, 26, 20, 3, 1, 13, 22, 31, 21], [1, 20, 14, 32, 17, 35, 1, 30, 28, 29, 22, 26, 20, 3, 1, 13, 22, 31, 21, 22], [20, 14, 32, 17, 35, 1, 30, 28, 29, 22, 26, 20, 3, 1, 13, 22, 31, 21, 22, 26], [14, 32, 17, 35, 1, 30, 28, 29, 22, 26, 20, 3, 1, 13, 22, 31, 21, 22, 26, 1], [32, 17, 35, 1, 30, 28, 29, 22, 26, 20, 3, 1, 13, 22, 31, 21, 22, 26, 1, 31], [17, 35, 1, 30, 28, 29, 22, 26, 20, 3, 1, 13, 22, 31, 21, 22, 26, 1, 31, 21], [35, 1, 30, 28, 29, 22, 26, 20, 3, 1, 13, 22, 31, 21, 22, 26, 1, 31, 21, 22], [1, 30, 28, 29, 22, 26, 20, 3, 1, 13, 22, 31, 21, 22, 26, 1, 31, 21, 22, 26], [30, 28, 29, 22, 26, 20, 3, 1, 13, 22, 31, 21, 22, 26, 1, 31, 21, 22, 26, 18], [28, 29, 22, 26, 20, 3, 1, 13, 22, 31, 21, 22, 26, 1, 31, 21, 22, 26, 18, 1], [29, 22, 26, 20, 3, 1, 13, 22, 31, 21, 22, 26, 1, 31, 21, 22, 26, 18, 1, 27], [22, 26, 20, 3, 1, 13, 22, 31, 21, 22, 26, 1, 31, 21, 22, 26, 18, 1, 27, 34], [26, 20, 3, 1, 13, 22, 31, 21, 22, 26, 1, 31, 21, 22, 26, 18, 1, 27, 34, 26], [20, 3, 1, 13, 22, 31, 21, 22, 26, 1, 31, 21, 22, 26, 18, 1, 27, 34, 26, 1], [3, 1, 13, 22, 31, 21, 22, 26, 1, 31, 21, 22, 26, 18, 1, 27, 34, 26, 1, 15], [1, 13, 22, 31, 21, 22, 26, 1, 31, 21, 22, 26, 18, 1, 27, 34, 26, 1, 15, 32], [13, 22, 31, 21, 22, 26, 1, 31, 21, 22, 26, 18, 1, 27, 34, 26, 1, 15, 32, 17], [22, 31, 21, 22, 26, 1, 31, 21, 22, 26, 18, 1, 27, 34, 26, 1, 15, 32, 17, 1], [31, 21, 22, 26, 1, 31, 21, 22, 26, 18, 1, 27, 34, 26, 1, 15, 32, 17, 1, 15], [21, 22, 26, 1, 31, 21, 22, 26, 18, 1, 27, 34, 26, 1, 15, 32, 17, 1, 15, 32], [22, 26, 1, 31, 21, 22, 26, 18, 1, 27, 34, 26, 1, 15, 32, 17, 1, 15, 32, 29], [26, 1, 31, 21, 22, 26, 18, 1, 27, 34, 26, 1, 15, 32, 17, 1, 15, 32, 29, 22], [1, 31, 21, 22, 26, 18, 1, 27, 34, 26, 1, 15, 32, 17, 1, 15, 32, 29, 22, 18], [31, 21, 22, 26, 18, 1, 27, 34, 26, 1, 15, 32, 17, 1, 15, 32, 29, 22, 18, 30], [21, 22, 26, 18, 1, 27, 34, 26, 1, 15, 32, 17, 1, 15, 32, 29, 22, 18, 30, 31], [22, 26, 18, 1, 27, 34, 26, 1, 15, 32, 17, 1, 15, 32, 29, 22, 18, 30, 31, 1], [26, 18, 1, 27, 34, 26, 1, 15, 32, 17, 1, 15, 32, 29, 22, 18, 30, 31, 1, 31], [18, 1, 27, 34, 26, 1, 15, 32, 17, 1, 15, 32, 29, 22, 18, 30, 31, 1, 31, 21], [1, 27, 34, 26, 1, 15, 32, 17, 1, 15, 32, 29, 22, 18, 30, 31, 1, 31, 21, 35], [27, 34, 26, 1, 15, 32, 17, 1, 15, 32, 29, 22, 18, 30, 31, 1, 31, 21, 35, 1], [34, 26, 1, 15, 32, 17, 1, 15, 32, 29, 22, 18, 30, 31, 1, 31, 21, 35, 1, 16], [26, 1, 15, 32, 17, 1, 15, 32, 29, 22, 18, 30, 31, 1, 31, 21, 35, 1, 16, 27], [1, 15, 32, 17, 1, 15, 32, 29, 22, 18, 30, 31, 1, 31, 21, 35, 1, 16, 27, 26], [15, 32, 17, 1, 15, 32, 29, 22, 18, 30, 31, 1, 31, 21, 35, 1, 16, 27, 26, 31], [32, 17, 1, 15, 32, 29, 22, 18, 30, 31, 1, 31, 21, 35, 1, 16, 27, 26, 31, 18], [17, 1, 15, 32, 29, 22, 18, 30, 31, 1, 31, 21, 35, 1, 16, 27, 26, 31, 18, 26], [1, 15, 32, 29, 22, 18, 30, 31, 1, 31, 21, 35, 1, 16, 27, 26, 31, 18, 26, 31], [15, 32, 29, 22, 18, 30, 31, 1, 31, 21, 35, 1, 16, 27, 26, 31, 18, 26, 31, 3], [32, 29, 22, 18, 30, 31, 1, 31, 21, 35, 1, 16, 27, 26, 31, 18, 26, 31, 3, 1], [29, 22, 18, 30, 31, 1, 31, 21, 35, 1, 16, 27, 26, 31, 18, 26, 31, 3, 1, 6], [22, 18, 30, 31, 1, 31, 21, 35, 1, 16, 27, 26, 31, 18, 26, 31, 3, 1, 6, 26], [18, 30, 31, 1, 31, 21, 35, 1, 16, 27, 26, 31, 18, 26, 31, 3, 1, 6, 26, 17], [30, 31, 1, 31, 21, 35, 1, 16, 27, 26, 31, 18, 26, 31, 3, 1, 6, 26, 17, 1], [31, 1, 31, 21, 35, 1, 16, 27, 26, 31, 18, 26, 31, 3, 1, 6, 26, 17, 1, 31], [1, 31, 21, 35, 1, 16, 27, 26, 31, 18, 26, 31, 3, 1, 6, 26, 17, 1, 31, 18], [31, 21, 35, 1, 16, 27, 26, 31, 18, 26, 31, 3, 1, 6, 26, 17, 1, 31, 18, 26], [21, 35, 1, 16, 27, 26, 31, 18, 26, 31, 3, 1, 6, 26, 17, 1, 31, 18, 26, 17], [35, 1, 16, 27, 26, 31, 18, 26, 31, 3, 1, 6, 26, 17, 1, 31, 18, 26, 17, 18], [1, 16, 27, 26, 31, 18, 26, 31, 3, 1, 6, 26, 17, 1, 31, 18, 26, 17, 18, 29], [16, 27, 26, 31, 18, 26, 31, 3, 1, 6, 26, 17, 1, 31, 18, 26, 17, 18, 29, 1], [27, 26, 31, 18, 26, 31, 3, 1, 6, 26, 17, 1, 31, 18, 26, 17, 18, 29, 1, 16], [26, 31, 18, 26, 31, 3, 1, 6, 26, 17, 1, 31, 18, 26, 17, 18, 29, 1, 16, 21], [31, 18, 26, 31, 3, 1, 6, 26, 17, 1, 31, 18, 26, 17, 18, 29, 1, 16, 21, 32], [18, 26, 31, 3, 1, 6, 26, 17, 1, 31, 18, 26, 17, 18, 29, 1, 16, 21, 32, 29], [26, 31, 3, 1, 6, 26, 17, 1, 31, 18, 26, 17, 18, 29, 1, 16, 21, 32, 29, 24], [31, 3, 1, 6, 26, 17, 1, 31, 18, 26, 17, 18, 29, 1, 16, 21, 32, 29, 24, 1], [3, 1, 6, 26, 17, 1, 31, 18, 26, 17, 18, 29, 1, 16, 21, 32, 29, 24, 1, 25], [1, 6, 26, 17, 1, 31, 18, 26, 17, 18, 29, 1, 16, 21, 32, 29, 24, 1, 25, 14], [6, 26, 17, 1, 31, 18, 26, 17, 18, 29, 1, 16, 21, 32, 29, 24, 1, 25, 14, 23], [26, 17, 1, 31, 18, 26, 17, 18, 29, 1, 16, 21, 32, 29, 24, 1, 25, 14, 23, 2], [17, 1, 31, 18, 26, 17, 18, 29, 1, 16, 21, 32, 29, 24, 1, 25, 14, 23, 2, 30], [1, 31, 18, 26, 17, 18, 29, 1, 16, 21, 32, 29, 24, 1, 25, 14, 23, 2, 30, 31], [31, 18, 26, 17, 18, 29, 1, 16, 21, 32, 29, 24, 1, 25, 14, 23, 2, 30, 31, 1], [18, 26, 17, 18, 29, 1, 16, 21, 32, 29, 24, 1, 25, 14, 23, 2, 30, 31, 1, 34], [26, 17, 18, 29, 1, 16, 21, 32, 29, 24, 1, 25, 14, 23, 2, 30, 31, 1, 34, 14], [17, 18, 29, 1, 16, 21, 32, 29, 24, 1, 25, 14, 23, 2, 30, 31, 1, 34, 14, 30], [18, 29, 1, 16, 21, 32, 29, 24, 1, 25, 14, 23, 2, 30, 31, 1, 34, 14, 30, 31], [29, 1, 16, 21, 32, 29, 24, 1, 25, 14, 23, 2, 30, 31, 1, 34, 14, 30, 31, 18], [1, 16, 21, 32, 29, 24, 1, 25, 14, 23, 2, 30, 31, 1, 34, 14, 30, 31, 18, 1], [16, 21, 32, 29, 24, 1, 25, 14, 23, 2, 30, 31, 1, 34, 14, 30, 31, 18, 1, 22], [21, 32, 29, 24, 1, 25, 14, 23, 2, 30, 31, 1, 34, 14, 30, 31, 18, 1, 22, 26], [32, 29, 24, 1, 25, 14, 23, 2, 30, 31, 1, 34, 14, 30, 31, 18, 1, 22, 26, 1], [29, 24, 1, 25, 14, 23, 2, 30, 31, 1, 34, 14, 30, 31, 18, 1, 22, 26, 1, 26], [24, 1, 25, 14, 23, 2, 30, 31, 1, 34, 14, 30, 31, 18, 1, 22, 26, 1, 26, 22], [1, 25, 14, 23, 2, 30, 31, 1, 34, 14, 30, 31, 18, 1, 22, 26, 1, 26, 22, 20], [25, 14, 23, 2, 30, 31, 1, 34, 14, 30, 31, 18, 1, 22, 26, 1, 26, 22, 20, 20], [14, 23, 2, 30, 31, 1, 34, 14, 30, 31, 18, 1, 22, 26, 1, 26, 22, 20, 20, 14], [23, 2, 30, 31, 1, 34, 14, 30, 31, 18, 1, 22, 26, 1, 26, 22, 20, 20, 14, 29], [2, 30, 31, 1, 34, 14, 30, 31, 18, 1, 22, 26, 1, 26, 22, 20, 20, 14, 29, 17], [30, 31, 1, 34, 14, 30, 31, 18, 1, 22, 26, 1, 26, 22, 20, 20, 14, 29, 17, 22], [31, 1, 34, 14, 30, 31, 18, 1, 22, 26, 1, 26, 22, 20, 20, 14, 29, 17, 22, 26], [1, 34, 14, 30, 31, 18, 1, 22, 26, 1, 26, 22, 20, 20, 14, 29, 17, 22, 26, 20], [34, 14, 30, 31, 18, 1, 22, 26, 1, 26, 22, 20, 20, 14, 29, 17, 22, 26, 20, 5], [14, 30, 31, 18, 1, 22, 26, 1, 26, 22, 20, 20, 14, 29, 17, 22, 26, 20, 5, 1], [30, 31, 18, 1, 22, 26, 1, 26, 22, 20, 20, 14, 29, 17, 22, 26, 20, 5, 1, 11], [31, 18, 1, 22, 26, 1, 26, 22, 20, 20, 14, 29, 17, 22, 26, 20, 5, 1, 11, 22], [18, 1, 22, 26, 1, 26, 22, 20, 20, 14, 29, 17, 22, 26, 20, 5, 1, 11, 22, 31], [1, 22, 26, 1, 26, 22, 20, 20, 14, 29, 17, 22, 26, 20, 5, 1, 11, 22, 31, 35], [22, 26, 1, 26, 22, 20, 20, 14, 29, 17, 22, 26, 20, 5, 1, 11, 22, 31, 35, 1], [26, 1, 26, 22, 20, 20, 14, 29, 17, 22, 26, 20, 5, 1, 11, 22, 31, 35, 1, 31], [1, 26, 22, 20, 20, 14, 29, 17, 22, 26, 20, 5, 1, 11, 22, 31, 35, 1, 31, 21], [26, 22, 20, 20, 14, 29, 17, 22, 26, 20, 5, 1, 11, 22, 31, 35, 1, 31, 21, 18], [22, 20, 20, 14, 29, 17, 22, 26, 20, 5, 1, 11, 22, 31, 35, 1, 31, 21, 18, 1], [20, 20, 14, 29, 17, 22, 26, 20, 5, 1, 11, 22, 31, 35, 1, 31, 21, 18, 1, 34], [20, 14, 29, 17, 22, 26, 20, 5, 1, 11, 22, 31, 35, 1, 31, 21, 18, 1, 34, 27], [14, 29, 17, 22, 26, 20, 5, 1, 11, 22, 31, 35, 1, 31, 21, 18, 1, 34, 27, 29], [29, 17, 22, 26, 20, 5, 1, 11, 22, 31, 35, 1, 31, 21, 18, 1, 34, 27, 29, 24], [17, 22, 26, 20, 5, 1, 11, 22, 31, 35, 1, 31, 21, 18, 1, 34, 27, 29, 24, 17], [22, 26, 20, 5, 1, 11, 22, 31, 35, 1, 31, 21, 18, 1, 34, 27, 29, 24, 17, 3], [26, 20, 5, 1, 11, 22, 31, 35, 1, 31, 21, 18, 1, 34, 27, 29, 24, 17, 3, 1], [20, 5, 1, 11, 22, 31, 35, 1, 31, 21, 18, 1, 34, 27, 29, 24, 17, 3, 1, 27], [5, 1, 11, 22, 31, 35, 1, 31, 21, 18, 1, 34, 27, 29, 24, 17, 3, 1, 27, 29], [1, 11, 22, 31, 35, 1, 31, 21, 18, 1, 34, 27, 29, 24, 17, 3, 1, 27, 29, 1], [11, 22, 31, 35, 1, 31, 21, 18, 1, 34, 27, 29, 24, 17, 3, 1, 27, 29, 1, 18], [22, 31, 35, 1, 31, 21, 18, 1, 34, 27, 29, 24, 17, 3, 1, 27, 29, 1, 18, 24], [31, 35, 1, 31, 21, 18, 1, 34, 27, 29, 24, 17, 3, 1, 27, 29, 1, 18, 24, 30], [35, 1, 31, 21, 18, 1, 34, 27, 29, 24, 17, 3, 1, 27, 29, 1, 18, 24, 30, 18], [1, 31, 21, 18, 1, 34, 27, 29, 24, 17, 3, 1, 27, 29, 1, 18, 24, 30, 18, 1], [31, 21, 18, 1, 34, 27, 29, 24, 17, 3, 1, 27, 29, 1, 18, 24, 30, 18, 1, 31], [21, 18, 1, 34, 27, 29, 24, 17, 3, 1, 27, 29, 1, 18, 24, 30, 18, 1, 31, 21], [18, 1, 34, 27, 29, 24, 17, 3, 1, 27, 29, 1, 18, 24, 30, 18, 1, 31, 21, 22], [1, 34, 27, 29, 24, 17, 3, 1, 27, 29, 1, 18, 24, 30, 18, 1, 31, 21, 22, 30], [34, 27, 29, 24, 17, 3, 1, 27, 29, 1, 18, 24, 30, 18, 1, 31, 21, 22, 30, 1], [27, 29, 24, 17, 3, 1, 27, 29, 1, 18, 24, 30, 18, 1, 31, 21, 22, 30, 1, 20], [29, 24, 17, 3, 1, 27, 29, 1, 18, 24, 30, 18, 1, 31, 21, 22, 30, 1, 20, 24], [24, 17, 3, 1, 27, 29, 1, 18, 24, 30, 18, 1, 31, 21, 22, 30, 1, 20, 24, 32], [17, 3, 1, 27, 29, 1, 18, 24, 30, 18, 1, 31, 21, 22, 30, 1, 20, 24, 32, 31], [3, 1, 27, 29, 1, 18, 24, 30, 18, 1, 31, 21, 22, 30, 1, 20, 24, 32, 31, 31], [1, 27, 29, 1, 18, 24, 30, 18, 1, 31, 21, 22, 30, 1, 20, 24, 32, 31, 31, 27], [27, 29, 1, 18, 24, 30, 18, 1, 31, 21, 22, 30, 1, 20, 24, 32, 31, 31, 27, 26], [29, 1, 18, 24, 30, 18, 1, 31, 21, 22, 30, 1, 20, 24, 32, 31, 31, 27, 26, 1], [1, 18, 24, 30, 18, 1, 31, 21, 22, 30, 1, 20, 24, 32, 31, 31, 27, 26, 1, 15], [18, 24, 30, 18, 1, 31, 21, 22, 30, 1, 20, 24, 32, 31, 31, 27, 26, 1, 15, 18], [24, 30, 18, 1, 31, 21, 22, 30, 1, 20, 24, 32, 31, 31, 27, 26, 1, 15, 18, 3], [30, 18, 1, 31, 21, 22, 30, 1, 20, 24, 32, 31, 31, 27, 26, 1, 15, 18, 3, 1], [18, 1, 31, 21, 22, 30, 1, 20, 24, 32, 31, 31, 27, 26, 1, 15, 18, 3, 1, 12], [1, 31, 21, 22, 30, 1, 20, 24, 32, 31, 31, 27, 26, 1, 15, 18, 3, 1, 12, 27], [31, 21, 22, 30, 1, 20, 24, 32, 31, 31, 27, 26, 1, 15, 18, 3, 1, 12, 27, 1], [21, 22, 30, 1, 20, 24, 32, 31, 31, 27, 26, 1, 15, 18, 3, 1, 12, 27, 1, 18], [22, 30, 1, 20, 24, 32, 31, 31, 27, 26, 1, 15, 18, 3, 1, 12, 27, 1, 18, 14], [30, 1, 20, 24, 32, 31, 31, 27, 26, 1, 15, 18, 3, 1, 12, 27, 1, 18, 14, 31], [1, 20, 24, 32, 31, 31, 27, 26, 1, 15, 18, 3, 1, 12, 27, 1, 18, 14, 31, 1], [20, 24, 32, 31, 31, 27, 26, 1, 15, 18, 3, 1, 12, 27, 1, 18, 14, 31, 1, 31], [24, 32, 31, 31, 27, 26, 1, 15, 18, 3, 1, 12, 27, 1, 18, 14, 31, 1, 31, 21], [32, 31, 31, 27, 26, 1, 15, 18, 3, 1, 12, 27, 1, 18, 14, 31, 1, 31, 21, 18], [31, 31, 27, 26, 1, 15, 18, 3, 1, 12, 27, 1, 18, 14, 31, 1, 31, 21, 18, 1], [31, 27, 26, 1, 15, 18, 3, 1, 12, 27, 1, 18, 14, 31, 1, 31, 21, 18, 1, 34], [27, 26, 1, 15, 18, 3, 1, 12, 27, 1, 18, 14, 31, 1, 31, 21, 18, 1, 34, 27], [26, 1, 15, 18, 3, 1, 12, 27, 1, 18, 14, 31, 1, 31, 21, 18, 1, 34, 27, 29], [1, 15, 18, 3, 1, 12, 27, 1, 18, 14, 31, 1, 31, 21, 18, 1, 34, 27, 29, 24], [15, 18, 3, 1, 12, 27, 1, 18, 14, 31, 1, 31, 21, 18, 1, 34, 27, 29, 24, 17], [18, 3, 1, 12, 27, 1, 18, 14, 31, 1, 31, 21, 18, 1, 34, 27, 29, 24, 17, 2], [3, 1, 12, 27, 1, 18, 14, 31, 1, 31, 21, 18, 1, 34, 27, 29, 24, 17, 2, 30], [1, 12, 27, 1, 18, 14, 31, 1, 31, 21, 18, 1, 34, 27, 29, 24, 17, 2, 30, 1], [12, 27, 1, 18, 14, 31, 1, 31, 21, 18, 1, 34, 27, 29, 24, 17, 2, 30, 1, 17], [27, 1, 18, 14, 31, 1, 31, 21, 18, 1, 34, 27, 29, 24, 17, 2, 30, 1, 17, 32], [1, 18, 14, 31, 1, 31, 21, 18, 1, 34, 27, 29, 24, 17, 2, 30, 1, 17, 32, 18], [18, 14, 31, 1, 31, 21, 18, 1, 34, 27, 29, 24, 17, 2, 30, 1, 17, 32, 18, 3], [14, 31, 1, 31, 21, 18, 1, 34, 27, 29, 24, 17, 2, 30, 1, 17, 32, 18, 3, 1], [31, 1, 31, 21, 18, 1, 34, 27, 29, 24, 17, 2, 30, 1, 17, 32, 18, 3, 1, 15], [1, 31, 21, 18, 1, 34, 27, 29, 24, 17, 2, 30, 1, 17, 32, 18, 3, 1, 15, 35], [31, 21, 18, 1, 34, 27, 29, 24, 17, 2, 30, 1, 17, 32, 18, 3, 1, 15, 35, 1], [21, 18, 1, 34, 27, 29, 24, 17, 2, 30, 1, 17, 32, 18, 3, 1, 15, 35, 1, 31], [18, 1, 34, 27, 29, 24, 17, 2, 30, 1, 17, 32, 18, 3, 1, 15, 35, 1, 31, 21], [1, 34, 27, 29, 24, 17, 2, 30, 1, 17, 32, 18, 3, 1, 15, 35, 1, 31, 21, 18], [34, 27, 29, 24, 17, 2, 30, 1, 17, 32, 18, 3, 1, 15, 35, 1, 31, 21, 18, 1], [27, 29, 24, 17, 2, 30, 1, 17, 32, 18, 3, 1, 15, 35, 1, 31, 21, 18, 1, 20], [29, 24, 17, 2, 30, 1, 17, 32, 18, 3, 1, 15, 35, 1, 31, 21, 18, 1, 20, 29], [24, 17, 2, 30, 1, 17, 32, 18, 3, 1, 15, 35, 1, 31, 21, 18, 1, 20, 29, 14], [17, 2, 30, 1, 17, 32, 18, 3, 1, 15, 35, 1, 31, 21, 18, 1, 20, 29, 14, 33], [2, 30, 1, 17, 32, 18, 3, 1, 15, 35, 1, 31, 21, 18, 1, 20, 29, 14, 33, 18], [30, 1, 17, 32, 18, 3, 1, 15, 35, 1, 31, 21, 18, 1, 20, 29, 14, 33, 18, 1], [1, 17, 32, 18, 3, 1, 15, 35, 1, 31, 21, 18, 1, 20, 29, 14, 33, 18, 1, 14], [17, 32, 18, 3, 1, 15, 35, 1, 31, 21, 18, 1, 20, 29, 14, 33, 18, 1, 14, 26], [32, 18, 3, 1, 15, 35, 1, 31, 21, 18, 1, 20, 29, 14, 33, 18, 1, 14, 26, 17], [18, 3, 1, 15, 35, 1, 31, 21, 18, 1, 20, 29, 14, 33, 18, 1, 14, 26, 17, 1], [3, 1, 15, 35, 1, 31, 21, 18, 1, 20, 29, 14, 33, 18, 1, 14, 26, 17, 1, 31], [1, 15, 35, 1, 31, 21, 18, 1, 20, 29, 14, 33, 18, 1, 14, 26, 17, 1, 31, 21], [15, 35, 1, 31, 21, 18, 1, 20, 29, 14, 33, 18, 1, 14, 26, 17, 1, 31, 21, 18], [35, 1, 31, 21, 18, 1, 20, 29, 14, 33, 18, 1, 14, 26, 17, 1, 31, 21, 18, 18]]\n",
            "Vocabulary Size: 36\n"
          ],
          "name": "stdout"
        }
      ]
    },
    {
      "cell_type": "markdown",
      "metadata": {
        "id": "lXtzxUWPA6TH"
      },
      "source": [
        "# 7. Print and observe the shape of the X & y."
      ]
    },
    {
      "cell_type": "code",
      "metadata": {
        "colab": {
          "base_uri": "https://localhost:8080/"
        },
        "id": "vuBkyytDRQmJ",
        "outputId": "900c0f52-9e4c-4e2a-b4ce-535525895b2c"
      },
      "source": [
        "sequences = array(sequences)\r\n",
        "print('Sequences:\\n',sequences)\r\n",
        "print('X:\\n',sequences[:,:-1])\r\n",
        "print('y:\\n',sequences[:,-1])"
      ],
      "execution_count": 11,
      "outputs": [
        {
          "output_type": "stream",
          "text": [
            "Sequences:\n",
            " [[ 8 29 27 ... 31 32 29]\n",
            " [29 27 25 ... 32 29 18]\n",
            " [27 25  1 ... 29 18 30]\n",
            " ...\n",
            " [ 1 15 35 ...  1 31 21]\n",
            " [15 35  1 ... 31 21 18]\n",
            " [35  1 31 ... 21 18 18]]\n",
            "X:\n",
            " [[ 8 29 27 ... 14 31 32]\n",
            " [29 27 25 ... 31 32 29]\n",
            " [27 25  1 ... 32 29 18]\n",
            " ...\n",
            " [ 1 15 35 ... 17  1 31]\n",
            " [15 35  1 ...  1 31 21]\n",
            " [35  1 31 ... 31 21 18]]\n",
            "y:\n",
            " [29 18 30  1 34 18  1 17 18 30 22 29 18  1 22 26 16 29 18 14 30 18  3  1\n",
            " 12 21 14 31  1 31 21 18 29 18 15 35  1 15 18 14 32 31 35  2 30  1 29 27\n",
            " 30 18  1 25 22 20 21 31  1 26 18 33 18 29  1 17 22 18  3  1  7 32 31  1\n",
            " 14 30  1 31 21 18  1 29 22 28 18 29  1 30 21 27 32 24 17  1 15 35  1 31\n",
            " 22 25 18  1 17 18 16 18 14 30 18  3  1  9 22 30  1 31 18 26 17 18 29  1\n",
            " 21 18 22 29  1 25 22 20 21 31  1 15 18 14 29  1 21 22 30  1 25 18 25 27\n",
            " 29 35  5  1  7 32 31  1 31 21 27 32  1 16 27 26 31 29 14 16 31 18 17  1\n",
            " 31 27  1 31 21 22 26 18  1 27 34 26  1 15 29 22 20 21 31  1 18 35 18 30\n",
            "  3  1  8 18 18 17  2 30 31  1 31 21 35  1 24 22 20 21 31  2 30  1 19 24\n",
            " 14 25 18  1 34 22 31 21  1 30 18 24 19  4 30 32 15 30 31 14 26 31 22 14\n",
            " 24  1 19 32 18 24  3  1 10 14 23 22 26 20  1 14  1 19 14 25 22 26 18  1\n",
            " 34 21 18 29 18  1 14 15 32 26 17 14 26 16 18  1 24 22 18 30  3  1 12 21\n",
            " 35  1 30 18 24 19  1 31 21 35  1 19 27 18  3  1 31 27  1 31 21 35  1 30\n",
            " 34 18 18 31  1 30 18 24 19  1 31 27 27  1 16 29 32 18 24  5  1 12 21 27\n",
            " 32  1 31 21 14 31  1 14 29 31  1 26 27 34  1 31 21 18  1 34 27 29 24 17\n",
            "  2 30  1 19 29 18 30 21  1 27 29 26 14 25 18 26 31  3  1  6 26 17  1 27\n",
            " 26 24 35  1 21 18 29 14 24 17  1 31 27  1 31 21 18  1 20 14 32 17 35  1\n",
            " 30 28 29 22 26 20  3  1 13 22 31 21 22 26  1 31 21 22 26 18  1 27 34 26\n",
            "  1 15 32 17  1 15 32 29 22 18 30 31  1 31 21 35  1 16 27 26 31 18 26 31\n",
            "  3  1  6 26 17  1 31 18 26 17 18 29  1 16 21 32 29 24  1 25 14 23  2 30\n",
            " 31  1 34 14 30 31 18  1 22 26  1 26 22 20 20 14 29 17 22 26 20  5  1 11\n",
            " 22 31 35  1 31 21 18  1 34 27 29 24 17  3  1 27 29  1 18 24 30 18  1 31\n",
            " 21 22 30  1 20 24 32 31 31 27 26  1 15 18  3  1 12 27  1 18 14 31  1 31\n",
            " 21 18  1 34 27 29 24 17  2 30  1 17 32 18  3  1 15 35  1 31 21 18  1 20\n",
            " 29 14 33 18  1 14 26 17  1 31 21 18 18]\n"
          ],
          "name": "stdout"
        }
      ]
    },
    {
      "cell_type": "code",
      "metadata": {
        "colab": {
          "base_uri": "https://localhost:8080/"
        },
        "id": "mgyEIrZe-_-M",
        "outputId": "3b1c4e7b-796c-4115-8e6b-c9d7fcfc03ee"
      },
      "source": [
        "sequences = array(sequences)\n",
        "X, y = sequences[:,:-1], sequences[:,-1]\n",
        "\n",
        "### insert our code here -- print, sequences, X and Y\n",
        "#print('Sequences:\\n',sequences)\n",
        "#print('X:\\n',X)\n",
        "#print('y:\\n',y)\n",
        "\n",
        "seq_x = [to_categorical(x, num_classes=vocab_size) for x in X]\n",
        "X = array(seq_x)\n",
        "y = to_categorical(y, num_classes=vocab_size)\n",
        "\n",
        "print('X:\\n',X)\n",
        "print('y:\\n',y)\n",
        "\n",
        "### insert our code here -- print shape of X\n",
        "print('\\nShape of X', X.shape)\n",
        "print('\\nShape of y', y.shape)"
      ],
      "execution_count": 13,
      "outputs": [
        {
          "output_type": "stream",
          "text": [
            "X:\n",
            " [[[0. 0. 0. ... 0. 0. 0.]\n",
            "  [0. 0. 0. ... 0. 0. 0.]\n",
            "  [0. 0. 0. ... 0. 0. 0.]\n",
            "  ...\n",
            "  [0. 0. 0. ... 0. 0. 0.]\n",
            "  [0. 0. 0. ... 0. 0. 0.]\n",
            "  [0. 0. 0. ... 0. 0. 0.]]\n",
            "\n",
            " [[0. 0. 0. ... 0. 0. 0.]\n",
            "  [0. 0. 0. ... 0. 0. 0.]\n",
            "  [0. 0. 0. ... 0. 0. 0.]\n",
            "  ...\n",
            "  [0. 0. 0. ... 0. 0. 0.]\n",
            "  [0. 0. 0. ... 0. 0. 0.]\n",
            "  [0. 0. 0. ... 0. 0. 0.]]\n",
            "\n",
            " [[0. 0. 0. ... 0. 0. 0.]\n",
            "  [0. 0. 0. ... 0. 0. 0.]\n",
            "  [0. 1. 0. ... 0. 0. 0.]\n",
            "  ...\n",
            "  [0. 0. 0. ... 0. 0. 0.]\n",
            "  [0. 0. 0. ... 0. 0. 0.]\n",
            "  [0. 0. 0. ... 0. 0. 0.]]\n",
            "\n",
            " ...\n",
            "\n",
            " [[0. 1. 0. ... 0. 0. 0.]\n",
            "  [0. 0. 0. ... 0. 0. 0.]\n",
            "  [0. 0. 0. ... 0. 0. 1.]\n",
            "  ...\n",
            "  [0. 0. 0. ... 0. 0. 0.]\n",
            "  [0. 1. 0. ... 0. 0. 0.]\n",
            "  [0. 0. 0. ... 0. 0. 0.]]\n",
            "\n",
            " [[0. 0. 0. ... 0. 0. 0.]\n",
            "  [0. 0. 0. ... 0. 0. 1.]\n",
            "  [0. 1. 0. ... 0. 0. 0.]\n",
            "  ...\n",
            "  [0. 1. 0. ... 0. 0. 0.]\n",
            "  [0. 0. 0. ... 0. 0. 0.]\n",
            "  [0. 0. 0. ... 0. 0. 0.]]\n",
            "\n",
            " [[0. 0. 0. ... 0. 0. 1.]\n",
            "  [0. 1. 0. ... 0. 0. 0.]\n",
            "  [0. 0. 0. ... 0. 0. 0.]\n",
            "  ...\n",
            "  [0. 0. 0. ... 0. 0. 0.]\n",
            "  [0. 0. 0. ... 0. 0. 0.]\n",
            "  [0. 0. 0. ... 0. 0. 0.]]]\n",
            "y:\n",
            " [[0. 0. 0. ... 0. 0. 0.]\n",
            " [0. 0. 0. ... 0. 0. 0.]\n",
            " [0. 0. 0. ... 0. 0. 0.]\n",
            " ...\n",
            " [0. 0. 0. ... 0. 0. 0.]\n",
            " [0. 0. 0. ... 0. 0. 0.]\n",
            " [0. 0. 0. ... 0. 0. 0.]]\n",
            "\n",
            "Shape of X (589, 19, 36)\n",
            "\n",
            "Shape of y (589, 36)\n"
          ],
          "name": "stdout"
        }
      ]
    },
    {
      "cell_type": "markdown",
      "metadata": {
        "id": "agvwWRVlA6TI"
      },
      "source": [
        "# 8. Call model define function. Observe the training process."
      ]
    },
    {
      "cell_type": "code",
      "metadata": {
        "id": "IkHCwDQY-_-M"
      },
      "source": [
        "#Function to define and compile the model.\n",
        "# define the model\n",
        "def define_model(X):\n",
        "    model = Sequential()\n",
        "    model.add(SimpleRNN(units=75, input_shape=(X.shape[1], X.shape[2]), return_sequences=True))\n",
        "    model.add(LSTM(units=75, input_shape=(X.shape[1], X.shape[2])))\n",
        "    #model.add(GRU(units=75, input_shape=(X.shape[1], X.shape[2])))\n",
        "    model.add(Dense(vocab_size, activation='softmax'))\n",
        "\n",
        "    # compile model\n",
        "    model.compile(loss='categorical_crossentropy', optimizer='adam', metrics=['accuracy'])\n",
        "    \n",
        "    # summarize defined model\n",
        "    model.summary()\n",
        "    # plot_model(model, to_file='model.png', show_shapes=True)\n",
        "    return model"
      ],
      "execution_count": 14,
      "outputs": []
    },
    {
      "cell_type": "code",
      "metadata": {
        "colab": {
          "base_uri": "https://localhost:8080/"
        },
        "id": "6pDr42Id-_-M",
        "outputId": "de37f754-2014-4c53-f409-d70b73b34860"
      },
      "source": [
        "# define model\n",
        "#model = define_model(X)\n",
        "model = Sequential()\n",
        "model.add(SimpleRNN(units=75, input_shape=(X.shape[1], X.shape[2]), return_sequences=True))\n",
        "model.add(SimpleRNN(units=75, input_shape=(X.shape[1], X.shape[2]), return_sequences=True))\n",
        "model.add(SimpleRNN(units=75, input_shape=(X.shape[1], X.shape[2]), return_sequences=True))\n",
        "model.add(LSTM(units=75, input_shape=(X.shape[1], X.shape[2])))\n",
        "#model.add(GRU(units=75, input_shape=(X.shape[1], X.shape[2])))\n",
        "model.add(Dense(vocab_size, activation='softmax'))\n",
        "\n",
        "# compile model\n",
        "model.compile(loss='categorical_crossentropy', optimizer='adam', metrics=['accuracy'])\n",
        "\n",
        "# summarize defined model\n",
        "model.summary()"
      ],
      "execution_count": 15,
      "outputs": [
        {
          "output_type": "stream",
          "text": [
            "Model: \"sequential\"\n",
            "_________________________________________________________________\n",
            "Layer (type)                 Output Shape              Param #   \n",
            "=================================================================\n",
            "simple_rnn (SimpleRNN)       (None, 19, 75)            8400      \n",
            "_________________________________________________________________\n",
            "simple_rnn_1 (SimpleRNN)     (None, 19, 75)            11325     \n",
            "_________________________________________________________________\n",
            "simple_rnn_2 (SimpleRNN)     (None, 19, 75)            11325     \n",
            "_________________________________________________________________\n",
            "lstm (LSTM)                  (None, 75)                45300     \n",
            "_________________________________________________________________\n",
            "dense (Dense)                (None, 36)                2736      \n",
            "=================================================================\n",
            "Total params: 79,086\n",
            "Trainable params: 79,086\n",
            "Non-trainable params: 0\n",
            "_________________________________________________________________\n"
          ],
          "name": "stdout"
        }
      ]
    },
    {
      "cell_type": "code",
      "metadata": {
        "colab": {
          "base_uri": "https://localhost:8080/"
        },
        "id": "xcuQhY65avdJ",
        "outputId": "874aa2b5-093e-496d-c35e-f4bbace1b5e6"
      },
      "source": [
        "# fit model\r\n",
        "### insert your code here -- call fit() function on model with parameters (X, y, epochs=100, verbose=2)\r\n",
        "model.fit(X, y, epochs=100, verbose=2)"
      ],
      "execution_count": 16,
      "outputs": [
        {
          "output_type": "stream",
          "text": [
            "Epoch 1/100\n",
            "19/19 - 0s - loss: 3.2854 - accuracy: 0.1426\n",
            "Epoch 2/100\n",
            "19/19 - 0s - loss: 3.0165 - accuracy: 0.1647\n",
            "Epoch 3/100\n",
            "19/19 - 0s - loss: 2.9856 - accuracy: 0.1749\n",
            "Epoch 4/100\n",
            "19/19 - 0s - loss: 2.9721 - accuracy: 0.1749\n",
            "Epoch 5/100\n",
            "19/19 - 0s - loss: 2.9516 - accuracy: 0.1749\n",
            "Epoch 6/100\n",
            "19/19 - 0s - loss: 2.9412 - accuracy: 0.1885\n",
            "Epoch 7/100\n",
            "19/19 - 0s - loss: 2.8858 - accuracy: 0.1834\n",
            "Epoch 8/100\n",
            "19/19 - 0s - loss: 2.7974 - accuracy: 0.2190\n",
            "Epoch 9/100\n",
            "19/19 - 0s - loss: 2.6825 - accuracy: 0.2343\n",
            "Epoch 10/100\n",
            "19/19 - 0s - loss: 2.5273 - accuracy: 0.2818\n",
            "Epoch 11/100\n",
            "19/19 - 0s - loss: 2.4115 - accuracy: 0.3328\n",
            "Epoch 12/100\n",
            "19/19 - 0s - loss: 2.2241 - accuracy: 0.3939\n",
            "Epoch 13/100\n",
            "19/19 - 0s - loss: 2.0539 - accuracy: 0.4261\n",
            "Epoch 14/100\n",
            "19/19 - 0s - loss: 1.9029 - accuracy: 0.4720\n",
            "Epoch 15/100\n",
            "19/19 - 0s - loss: 1.7334 - accuracy: 0.5178\n",
            "Epoch 16/100\n",
            "19/19 - 0s - loss: 1.6122 - accuracy: 0.5722\n",
            "Epoch 17/100\n",
            "19/19 - 0s - loss: 1.4850 - accuracy: 0.6248\n",
            "Epoch 18/100\n",
            "19/19 - 0s - loss: 1.3747 - accuracy: 0.6587\n",
            "Epoch 19/100\n",
            "19/19 - 0s - loss: 1.2644 - accuracy: 0.6944\n",
            "Epoch 20/100\n",
            "19/19 - 0s - loss: 1.1550 - accuracy: 0.7317\n",
            "Epoch 21/100\n",
            "19/19 - 0s - loss: 1.0496 - accuracy: 0.7776\n",
            "Epoch 22/100\n",
            "19/19 - 0s - loss: 0.9246 - accuracy: 0.8285\n",
            "Epoch 23/100\n",
            "19/19 - 0s - loss: 0.8178 - accuracy: 0.8659\n",
            "Epoch 24/100\n",
            "19/19 - 0s - loss: 0.7388 - accuracy: 0.8693\n",
            "Epoch 25/100\n",
            "19/19 - 0s - loss: 0.6485 - accuracy: 0.9083\n",
            "Epoch 26/100\n",
            "19/19 - 0s - loss: 0.6032 - accuracy: 0.9066\n",
            "Epoch 27/100\n",
            "19/19 - 0s - loss: 0.5214 - accuracy: 0.9304\n",
            "Epoch 28/100\n",
            "19/19 - 0s - loss: 0.4650 - accuracy: 0.9338\n",
            "Epoch 29/100\n",
            "19/19 - 0s - loss: 0.4003 - accuracy: 0.9559\n",
            "Epoch 30/100\n",
            "19/19 - 0s - loss: 0.3564 - accuracy: 0.9643\n",
            "Epoch 31/100\n",
            "19/19 - 0s - loss: 0.3163 - accuracy: 0.9728\n",
            "Epoch 32/100\n",
            "19/19 - 0s - loss: 0.2757 - accuracy: 0.9796\n",
            "Epoch 33/100\n",
            "19/19 - 0s - loss: 0.2328 - accuracy: 0.9881\n",
            "Epoch 34/100\n",
            "19/19 - 0s - loss: 0.2021 - accuracy: 0.9932\n",
            "Epoch 35/100\n",
            "19/19 - 0s - loss: 0.1813 - accuracy: 0.9966\n",
            "Epoch 36/100\n",
            "19/19 - 0s - loss: 0.1614 - accuracy: 0.9983\n",
            "Epoch 37/100\n",
            "19/19 - 0s - loss: 0.1418 - accuracy: 1.0000\n",
            "Epoch 38/100\n",
            "19/19 - 0s - loss: 0.1273 - accuracy: 1.0000\n",
            "Epoch 39/100\n",
            "19/19 - 0s - loss: 0.1159 - accuracy: 1.0000\n",
            "Epoch 40/100\n",
            "19/19 - 0s - loss: 0.1040 - accuracy: 1.0000\n",
            "Epoch 41/100\n",
            "19/19 - 0s - loss: 0.0942 - accuracy: 1.0000\n",
            "Epoch 42/100\n",
            "19/19 - 0s - loss: 0.0856 - accuracy: 1.0000\n",
            "Epoch 43/100\n",
            "19/19 - 0s - loss: 0.0783 - accuracy: 1.0000\n",
            "Epoch 44/100\n",
            "19/19 - 0s - loss: 0.0719 - accuracy: 1.0000\n",
            "Epoch 45/100\n",
            "19/19 - 0s - loss: 0.0667 - accuracy: 1.0000\n",
            "Epoch 46/100\n",
            "19/19 - 0s - loss: 0.0616 - accuracy: 1.0000\n",
            "Epoch 47/100\n",
            "19/19 - 0s - loss: 0.0573 - accuracy: 1.0000\n",
            "Epoch 48/100\n",
            "19/19 - 0s - loss: 0.0534 - accuracy: 1.0000\n",
            "Epoch 49/100\n",
            "19/19 - 0s - loss: 0.0496 - accuracy: 1.0000\n",
            "Epoch 50/100\n",
            "19/19 - 0s - loss: 0.0464 - accuracy: 1.0000\n",
            "Epoch 51/100\n",
            "19/19 - 0s - loss: 0.0437 - accuracy: 1.0000\n",
            "Epoch 52/100\n",
            "19/19 - 0s - loss: 0.0409 - accuracy: 1.0000\n",
            "Epoch 53/100\n",
            "19/19 - 0s - loss: 0.0387 - accuracy: 1.0000\n",
            "Epoch 54/100\n",
            "19/19 - 0s - loss: 0.0366 - accuracy: 1.0000\n",
            "Epoch 55/100\n",
            "19/19 - 0s - loss: 0.0346 - accuracy: 1.0000\n",
            "Epoch 56/100\n",
            "19/19 - 0s - loss: 0.0327 - accuracy: 1.0000\n",
            "Epoch 57/100\n",
            "19/19 - 0s - loss: 0.0311 - accuracy: 1.0000\n",
            "Epoch 58/100\n",
            "19/19 - 0s - loss: 0.0294 - accuracy: 1.0000\n",
            "Epoch 59/100\n",
            "19/19 - 0s - loss: 0.0281 - accuracy: 1.0000\n",
            "Epoch 60/100\n",
            "19/19 - 0s - loss: 0.0268 - accuracy: 1.0000\n",
            "Epoch 61/100\n",
            "19/19 - 0s - loss: 0.0255 - accuracy: 1.0000\n",
            "Epoch 62/100\n",
            "19/19 - 0s - loss: 0.0244 - accuracy: 1.0000\n",
            "Epoch 63/100\n",
            "19/19 - 0s - loss: 0.0233 - accuracy: 1.0000\n",
            "Epoch 64/100\n",
            "19/19 - 0s - loss: 0.0224 - accuracy: 1.0000\n",
            "Epoch 65/100\n",
            "19/19 - 0s - loss: 0.0215 - accuracy: 1.0000\n",
            "Epoch 66/100\n",
            "19/19 - 0s - loss: 0.0206 - accuracy: 1.0000\n",
            "Epoch 67/100\n",
            "19/19 - 0s - loss: 0.0197 - accuracy: 1.0000\n",
            "Epoch 68/100\n",
            "19/19 - 0s - loss: 0.0190 - accuracy: 1.0000\n",
            "Epoch 69/100\n",
            "19/19 - 0s - loss: 0.0182 - accuracy: 1.0000\n",
            "Epoch 70/100\n",
            "19/19 - 0s - loss: 0.0176 - accuracy: 1.0000\n",
            "Epoch 71/100\n",
            "19/19 - 0s - loss: 0.0169 - accuracy: 1.0000\n",
            "Epoch 72/100\n",
            "19/19 - 0s - loss: 0.0163 - accuracy: 1.0000\n",
            "Epoch 73/100\n",
            "19/19 - 0s - loss: 0.0158 - accuracy: 1.0000\n",
            "Epoch 74/100\n",
            "19/19 - 0s - loss: 0.0152 - accuracy: 1.0000\n",
            "Epoch 75/100\n",
            "19/19 - 0s - loss: 0.0146 - accuracy: 1.0000\n",
            "Epoch 76/100\n",
            "19/19 - 0s - loss: 0.0141 - accuracy: 1.0000\n",
            "Epoch 77/100\n",
            "19/19 - 0s - loss: 0.0136 - accuracy: 1.0000\n",
            "Epoch 78/100\n",
            "19/19 - 0s - loss: 0.0132 - accuracy: 1.0000\n",
            "Epoch 79/100\n",
            "19/19 - 0s - loss: 0.0128 - accuracy: 1.0000\n",
            "Epoch 80/100\n",
            "19/19 - 0s - loss: 0.0124 - accuracy: 1.0000\n",
            "Epoch 81/100\n",
            "19/19 - 0s - loss: 0.0120 - accuracy: 1.0000\n",
            "Epoch 82/100\n",
            "19/19 - 0s - loss: 0.0117 - accuracy: 1.0000\n",
            "Epoch 83/100\n",
            "19/19 - 0s - loss: 0.0113 - accuracy: 1.0000\n",
            "Epoch 84/100\n",
            "19/19 - 0s - loss: 0.0109 - accuracy: 1.0000\n",
            "Epoch 85/100\n",
            "19/19 - 0s - loss: 0.0106 - accuracy: 1.0000\n",
            "Epoch 86/100\n",
            "19/19 - 0s - loss: 0.0103 - accuracy: 1.0000\n",
            "Epoch 87/100\n",
            "19/19 - 0s - loss: 0.0100 - accuracy: 1.0000\n",
            "Epoch 88/100\n",
            "19/19 - 0s - loss: 0.0097 - accuracy: 1.0000\n",
            "Epoch 89/100\n",
            "19/19 - 0s - loss: 0.0094 - accuracy: 1.0000\n",
            "Epoch 90/100\n",
            "19/19 - 0s - loss: 0.0092 - accuracy: 1.0000\n",
            "Epoch 91/100\n",
            "19/19 - 0s - loss: 0.0089 - accuracy: 1.0000\n",
            "Epoch 92/100\n",
            "19/19 - 0s - loss: 0.0087 - accuracy: 1.0000\n",
            "Epoch 93/100\n",
            "19/19 - 0s - loss: 0.0085 - accuracy: 1.0000\n",
            "Epoch 94/100\n",
            "19/19 - 0s - loss: 0.0082 - accuracy: 1.0000\n",
            "Epoch 95/100\n",
            "19/19 - 0s - loss: 0.0080 - accuracy: 1.0000\n",
            "Epoch 96/100\n",
            "19/19 - 0s - loss: 0.0078 - accuracy: 1.0000\n",
            "Epoch 97/100\n",
            "19/19 - 0s - loss: 0.0076 - accuracy: 1.0000\n",
            "Epoch 98/100\n",
            "19/19 - 0s - loss: 0.0074 - accuracy: 1.0000\n",
            "Epoch 99/100\n",
            "19/19 - 0s - loss: 0.0073 - accuracy: 1.0000\n",
            "Epoch 100/100\n",
            "19/19 - 0s - loss: 0.0071 - accuracy: 1.0000\n"
          ],
          "name": "stdout"
        },
        {
          "output_type": "execute_result",
          "data": {
            "text/plain": [
              "<tensorflow.python.keras.callbacks.History at 0x7f751d839fd0>"
            ]
          },
          "metadata": {
            "tags": []
          },
          "execution_count": 16
        }
      ]
    },
    {
      "cell_type": "markdown",
      "metadata": {
        "id": "LU7XOecbA6TJ"
      },
      "source": [
        "# 9. Save the model."
      ]
    },
    {
      "cell_type": "code",
      "metadata": {
        "id": "b7X9k2Cl-_-M"
      },
      "source": [
        "# save the model to file\n",
        "### insert your code -- call model.save() function with parameter = 'model.h5'\n",
        "model.save('model.h5')\n",
        "\n",
        "# save the mapping\n",
        "dump(mapping, open('mapping.pkl', 'wb'))"
      ],
      "execution_count": 17,
      "outputs": []
    },
    {
      "cell_type": "markdown",
      "metadata": {
        "id": "ibPVkAxzA6TJ"
      },
      "source": [
        "# 10. Load the saved model."
      ]
    },
    {
      "cell_type": "code",
      "metadata": {
        "id": "_FkgurRS-_-M"
      },
      "source": [
        "from pickle import load\n",
        "from keras.models import load_model\n",
        "\n",
        "# load the model\n",
        "### insert your code here -- call load_model() function with parameter = 'model.h5'\n",
        "load_model('model.h5')\n",
        "\n",
        "# load the mapping\n",
        "mapping = load(open('mapping.pkl', 'rb'))"
      ],
      "execution_count": 18,
      "outputs": []
    },
    {
      "cell_type": "markdown",
      "metadata": {
        "id": "XUAogqRoA6TK"
      },
      "source": [
        "# 11. Generate the character sequences."
      ]
    },
    {
      "cell_type": "code",
      "metadata": {
        "id": "LIVeKHy9-_-M"
      },
      "source": [
        "# Function to generate and print the character sequences.\n",
        "# generate a sequence of characters with a language model\n",
        "def generate_seq(model, mapping, seq_length, seed_text, n_chars):\n",
        "    in_text = seed_text\n",
        "    len(in_text)\n",
        "    # generate a fixed number of characters\n",
        "    for _ in range(n_chars):\n",
        "        # encode the characters as integers\n",
        "        encoded = [mapping[char] for char in in_text]\n",
        "        # truncate sequences to a fixed length\n",
        "        encoded = pad_sequences([encoded], maxlen=seq_length, truncating='pre')\n",
        "        # one hot encode\n",
        "        encoded = to_categorical(encoded, num_classes=len(mapping))\n",
        "        encoded.shape\n",
        "        #encoded = encoded.reshape(1,encoded.shape[0], encoded.shape[1])\n",
        "        # predict character\n",
        "        yhat = model.predict_classes(encoded, verbose=0)\n",
        "        # reverse map integer to character\n",
        "        out_char = ''\n",
        "        for char, index in mapping.items():\n",
        "            if index == yhat:\n",
        "                out_char = char\n",
        "                break\n",
        "            # append to input\n",
        "        in_text += out_char\n",
        "    return in_text"
      ],
      "execution_count": 19,
      "outputs": []
    },
    {
      "cell_type": "markdown",
      "metadata": {
        "id": "j7rHPLzxc-CA"
      },
      "source": [
        "# 12. Test the model"
      ]
    },
    {
      "cell_type": "code",
      "metadata": {
        "colab": {
          "base_uri": "https://localhost:8080/"
        },
        "id": "Bs5ZqmYn-_-M",
        "outputId": "124a8419-19f0-4e99-d192-1b81cd1b6af8"
      },
      "source": [
        "print('\\n*******************\\n')\n",
        "# test start of rhyme\n",
        "print(generate_seq(model, mapping, 12, 'From fairest', 70))\n",
        "# test mid-line\n",
        "print(generate_seq(model, mapping, 12, 'Making a famine', 70))\n",
        "\n",
        "### insert our code here -- test the phrases that are not in the original test-data e.g. 'hello world'\n",
        "print(generate_seq(model, mapping, 12, 'Hello world', 70))"
      ],
      "execution_count": 20,
      "outputs": [
        {
          "output_type": "stream",
          "text": [
            "\n",
            "*******************\n",
            "\n",
            "WARNING:tensorflow:From <ipython-input-19-8a918588affa>:17: Sequential.predict_classes (from tensorflow.python.keras.engine.sequential) is deprecated and will be removed after 2021-01-01.\n",
            "Instructions for updating:\n",
            "Please use instead:* `np.argmax(model.predict(x), axis=-1)`,   if your model does multi-class classification   (e.g. if it uses a `softmax` last-layer activation).* `(model.predict(x) > 0.5).astype(\"int32\")`,   if your model does binary classification   (e.g. if it uses a `sigmoid` last-layer activation).\n",
            "WARNING:tensorflow:Model was constructed with shape (None, 19, 36) for input Tensor(\"simple_rnn_input:0\", shape=(None, 19, 36), dtype=float32), but it was called on an input with incompatible shape (None, 12, 36).\n",
            "From faireste  ceaere d s d see  he hhe ded ded he ges dese eee,, Bes  eetee ie  r\n",
            "Making a famine  e cere , s e see  he doe des te tee we ee  oe seesw sen , ee ,ee ,hh\n",
            "Hello worldu wn e ee te,,ew wees hees s ee w ee s eees ee s s eee,  e d ser sse  \n"
          ],
          "name": "stdout"
        }
      ]
    },
    {
      "cell_type": "markdown",
      "metadata": {
        "id": "kbN2n1bcLH7M"
      },
      "source": [
        "-----------------"
      ]
    }
  ]
}