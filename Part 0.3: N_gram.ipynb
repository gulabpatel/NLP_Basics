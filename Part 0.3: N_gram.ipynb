{
  "nbformat": 4,
  "nbformat_minor": 0,
  "metadata": {
    "colab": {
      "provenance": [],
      "collapsed_sections": [],
      "include_colab_link": true
    },
    "kernelspec": {
      "name": "python3",
      "display_name": "Python 3"
    },
    "language_info": {
      "name": "python"
    }
  },
  "cells": [
    {
      "cell_type": "markdown",
      "metadata": {
        "id": "view-in-github",
        "colab_type": "text"
      },
      "source": [
        "<a href=\"https://colab.research.google.com/github/gulabpatel/NLP_Basics/blob/main/Part%200.3%3A%20N_gram.ipynb\" target=\"_parent\"><img src=\"https://colab.research.google.com/assets/colab-badge.svg\" alt=\"Open In Colab\"/></a>"
      ]
    },
    {
      "cell_type": "markdown",
      "metadata": {
        "id": "dVqPtVMBOlJL"
      },
      "source": [
        "# **N-gram and its Applications**"
      ]
    },
    {
      "cell_type": "code",
      "metadata": {
        "colab": {
          "base_uri": "https://localhost:8080/",
          "height": 577
        },
        "id": "7fNUsA3rqiuI",
        "outputId": "a01491ce-357a-48e9-ec56-2e71323583b8"
      },
      "source": [
        "import pandas as pd\n",
        "\n",
        "# Dataset will be stored in a Pandas Dataframe\n",
        "url= 'https://raw.githubusercontent.com/DataScience-in-Tourism/Chapter-15-Introduction-Natural-Language-Processing/main/tourism_tweets_cleaned.csv'\n",
        "df = pd.read_csv(url)\n",
        "\n",
        "# Check first five columns of the dataset\n",
        "df.head(5)"
      ],
      "execution_count": 1,
      "outputs": [
        {
          "output_type": "execute_result",
          "data": {
            "text/plain": [
              "   Unnamed: 0  id1                                                url  \\\n",
              "0           0    1  https://twitter.com/_LoveCaribbean/statuses/12...   \n",
              "1           1    2  https://twitter.com/carolcruising/statuses/125...   \n",
              "2           3    4  https://twitter.com/clairesturz/statuses/12529...   \n",
              "3           4    5  https://twitter.com/grenadaexplorer/statuses/1...   \n",
              "4           5    6  https://twitter.com/ikefuller/statuses/1252922...   \n",
              "\n",
              "                                                url2                 date  \\\n",
              "0  https://twitter.com/_LoveCaribbean/statuses/12...  2020-04-22 07:47:13   \n",
              "1  https://twitter.com/carolcruising/statuses/125...  2020-04-22 07:44:47   \n",
              "2  https://twitter.com/clairesturz/statuses/12529...  2020-04-22 07:32:39   \n",
              "3  https://twitter.com/grenadaexplorer/statuses/1...  2020-04-22 07:32:02   \n",
              "4  https://twitter.com/ikefuller/statuses/1252922...  2020-04-22 07:30:12   \n",
              "\n",
              "          username                                              quote  \\\n",
              "0   _LoveCaribbean  RT @grenadaexplorer: A tropical treasure to ch...   \n",
              "1    carolcruising  RT @clairesturz: Backpacking in #Cuba on a Bud...   \n",
              "2      clairesturz  Experience Buenos Aires like a local #travelso...   \n",
              "3  grenadaexplorer  Who can\\'t wait for Grenada Sailing Festival 2...   \n",
              "4        ikefuller  RT @clairesturz: The Best Hostel in Barcelona ...   \n",
              "\n",
              "                                               tweet                as1  \\\n",
              "0  tropical treasure cherish forever exclusive  t...    Twitter Web App   \n",
              "1  backpack  cuba budget  travelsomeday  armchair...    Twitter Web App   \n",
              "2  experience burns air like local  travelsomeday...  Revive Social App   \n",
              "3  cant wait grenade sail festival 2021   exclusi...             Buffer   \n",
              "4  best hostel barcelona  fabrizzio  s petit revi...    Twitter Web App   \n",
              "\n",
              "          as2  ... lang  coords  Unnamed: 18  punctuation hastags stopwords  \\\n",
              "0  1356684936  ...  NaN     NaN          NaN           21       0         4   \n",
              "1   319114596  ...  NaN     NaN          NaN            9       0         3   \n",
              "2   874023301  ...  NaN     NaN          NaN            9       0         1   \n",
              "3    17083471  ...  NaN     NaN          NaN           25       0         3   \n",
              "4   283127000  ...  NaN     NaN          NaN            8       0         2   \n",
              "\n",
              "  lng lng_score char_count  avg_word  \n",
              "0  en  0.999996        232      10.6  \n",
              "1  en  0.999996         67       9.5  \n",
              "2  en  0.999997         88       8.3  \n",
              "3  en  0.996475        227      10.3  \n",
              "4  en  0.857140         94       7.9  \n",
              "\n",
              "[5 rows x 46 columns]"
            ],
            "text/html": [
              "\n",
              "  <div id=\"df-13f6a255-1dc6-4e04-801e-b0bda9340f69\">\n",
              "    <div class=\"colab-df-container\">\n",
              "      <div>\n",
              "<style scoped>\n",
              "    .dataframe tbody tr th:only-of-type {\n",
              "        vertical-align: middle;\n",
              "    }\n",
              "\n",
              "    .dataframe tbody tr th {\n",
              "        vertical-align: top;\n",
              "    }\n",
              "\n",
              "    .dataframe thead th {\n",
              "        text-align: right;\n",
              "    }\n",
              "</style>\n",
              "<table border=\"1\" class=\"dataframe\">\n",
              "  <thead>\n",
              "    <tr style=\"text-align: right;\">\n",
              "      <th></th>\n",
              "      <th>Unnamed: 0</th>\n",
              "      <th>id1</th>\n",
              "      <th>url</th>\n",
              "      <th>url2</th>\n",
              "      <th>date</th>\n",
              "      <th>username</th>\n",
              "      <th>quote</th>\n",
              "      <th>tweet</th>\n",
              "      <th>as1</th>\n",
              "      <th>as2</th>\n",
              "      <th>...</th>\n",
              "      <th>lang</th>\n",
              "      <th>coords</th>\n",
              "      <th>Unnamed: 18</th>\n",
              "      <th>punctuation</th>\n",
              "      <th>hastags</th>\n",
              "      <th>stopwords</th>\n",
              "      <th>lng</th>\n",
              "      <th>lng_score</th>\n",
              "      <th>char_count</th>\n",
              "      <th>avg_word</th>\n",
              "    </tr>\n",
              "  </thead>\n",
              "  <tbody>\n",
              "    <tr>\n",
              "      <th>0</th>\n",
              "      <td>0</td>\n",
              "      <td>1</td>\n",
              "      <td>https://twitter.com/_LoveCaribbean/statuses/12...</td>\n",
              "      <td>https://twitter.com/_LoveCaribbean/statuses/12...</td>\n",
              "      <td>2020-04-22 07:47:13</td>\n",
              "      <td>_LoveCaribbean</td>\n",
              "      <td>RT @grenadaexplorer: A tropical treasure to ch...</td>\n",
              "      <td>tropical treasure cherish forever exclusive  t...</td>\n",
              "      <td>Twitter Web App</td>\n",
              "      <td>1356684936</td>\n",
              "      <td>...</td>\n",
              "      <td>NaN</td>\n",
              "      <td>NaN</td>\n",
              "      <td>NaN</td>\n",
              "      <td>21</td>\n",
              "      <td>0</td>\n",
              "      <td>4</td>\n",
              "      <td>en</td>\n",
              "      <td>0.999996</td>\n",
              "      <td>232</td>\n",
              "      <td>10.6</td>\n",
              "    </tr>\n",
              "    <tr>\n",
              "      <th>1</th>\n",
              "      <td>1</td>\n",
              "      <td>2</td>\n",
              "      <td>https://twitter.com/carolcruising/statuses/125...</td>\n",
              "      <td>https://twitter.com/carolcruising/statuses/125...</td>\n",
              "      <td>2020-04-22 07:44:47</td>\n",
              "      <td>carolcruising</td>\n",
              "      <td>RT @clairesturz: Backpacking in #Cuba on a Bud...</td>\n",
              "      <td>backpack  cuba budget  travelsomeday  armchair...</td>\n",
              "      <td>Twitter Web App</td>\n",
              "      <td>319114596</td>\n",
              "      <td>...</td>\n",
              "      <td>NaN</td>\n",
              "      <td>NaN</td>\n",
              "      <td>NaN</td>\n",
              "      <td>9</td>\n",
              "      <td>0</td>\n",
              "      <td>3</td>\n",
              "      <td>en</td>\n",
              "      <td>0.999996</td>\n",
              "      <td>67</td>\n",
              "      <td>9.5</td>\n",
              "    </tr>\n",
              "    <tr>\n",
              "      <th>2</th>\n",
              "      <td>3</td>\n",
              "      <td>4</td>\n",
              "      <td>https://twitter.com/clairesturz/statuses/12529...</td>\n",
              "      <td>https://twitter.com/clairesturz/statuses/12529...</td>\n",
              "      <td>2020-04-22 07:32:39</td>\n",
              "      <td>clairesturz</td>\n",
              "      <td>Experience Buenos Aires like a local #travelso...</td>\n",
              "      <td>experience burns air like local  travelsomeday...</td>\n",
              "      <td>Revive Social App</td>\n",
              "      <td>874023301</td>\n",
              "      <td>...</td>\n",
              "      <td>NaN</td>\n",
              "      <td>NaN</td>\n",
              "      <td>NaN</td>\n",
              "      <td>9</td>\n",
              "      <td>0</td>\n",
              "      <td>1</td>\n",
              "      <td>en</td>\n",
              "      <td>0.999997</td>\n",
              "      <td>88</td>\n",
              "      <td>8.3</td>\n",
              "    </tr>\n",
              "    <tr>\n",
              "      <th>3</th>\n",
              "      <td>4</td>\n",
              "      <td>5</td>\n",
              "      <td>https://twitter.com/grenadaexplorer/statuses/1...</td>\n",
              "      <td>https://twitter.com/grenadaexplorer/statuses/1...</td>\n",
              "      <td>2020-04-22 07:32:02</td>\n",
              "      <td>grenadaexplorer</td>\n",
              "      <td>Who can\\'t wait for Grenada Sailing Festival 2...</td>\n",
              "      <td>cant wait grenade sail festival 2021   exclusi...</td>\n",
              "      <td>Buffer</td>\n",
              "      <td>17083471</td>\n",
              "      <td>...</td>\n",
              "      <td>NaN</td>\n",
              "      <td>NaN</td>\n",
              "      <td>NaN</td>\n",
              "      <td>25</td>\n",
              "      <td>0</td>\n",
              "      <td>3</td>\n",
              "      <td>en</td>\n",
              "      <td>0.996475</td>\n",
              "      <td>227</td>\n",
              "      <td>10.3</td>\n",
              "    </tr>\n",
              "    <tr>\n",
              "      <th>4</th>\n",
              "      <td>5</td>\n",
              "      <td>6</td>\n",
              "      <td>https://twitter.com/ikefuller/statuses/1252922...</td>\n",
              "      <td>https://twitter.com/ikefuller/statuses/1252922...</td>\n",
              "      <td>2020-04-22 07:30:12</td>\n",
              "      <td>ikefuller</td>\n",
              "      <td>RT @clairesturz: The Best Hostel in Barcelona ...</td>\n",
              "      <td>best hostel barcelona  fabrizzio  s petit revi...</td>\n",
              "      <td>Twitter Web App</td>\n",
              "      <td>283127000</td>\n",
              "      <td>...</td>\n",
              "      <td>NaN</td>\n",
              "      <td>NaN</td>\n",
              "      <td>NaN</td>\n",
              "      <td>8</td>\n",
              "      <td>0</td>\n",
              "      <td>2</td>\n",
              "      <td>en</td>\n",
              "      <td>0.857140</td>\n",
              "      <td>94</td>\n",
              "      <td>7.9</td>\n",
              "    </tr>\n",
              "  </tbody>\n",
              "</table>\n",
              "<p>5 rows × 46 columns</p>\n",
              "</div>\n",
              "      <button class=\"colab-df-convert\" onclick=\"convertToInteractive('df-13f6a255-1dc6-4e04-801e-b0bda9340f69')\"\n",
              "              title=\"Convert this dataframe to an interactive table.\"\n",
              "              style=\"display:none;\">\n",
              "        \n",
              "  <svg xmlns=\"http://www.w3.org/2000/svg\" height=\"24px\"viewBox=\"0 0 24 24\"\n",
              "       width=\"24px\">\n",
              "    <path d=\"M0 0h24v24H0V0z\" fill=\"none\"/>\n",
              "    <path d=\"M18.56 5.44l.94 2.06.94-2.06 2.06-.94-2.06-.94-.94-2.06-.94 2.06-2.06.94zm-11 1L8.5 8.5l.94-2.06 2.06-.94-2.06-.94L8.5 2.5l-.94 2.06-2.06.94zm10 10l.94 2.06.94-2.06 2.06-.94-2.06-.94-.94-2.06-.94 2.06-2.06.94z\"/><path d=\"M17.41 7.96l-1.37-1.37c-.4-.4-.92-.59-1.43-.59-.52 0-1.04.2-1.43.59L10.3 9.45l-7.72 7.72c-.78.78-.78 2.05 0 2.83L4 21.41c.39.39.9.59 1.41.59.51 0 1.02-.2 1.41-.59l7.78-7.78 2.81-2.81c.8-.78.8-2.07 0-2.86zM5.41 20L4 18.59l7.72-7.72 1.47 1.35L5.41 20z\"/>\n",
              "  </svg>\n",
              "      </button>\n",
              "      \n",
              "  <style>\n",
              "    .colab-df-container {\n",
              "      display:flex;\n",
              "      flex-wrap:wrap;\n",
              "      gap: 12px;\n",
              "    }\n",
              "\n",
              "    .colab-df-convert {\n",
              "      background-color: #E8F0FE;\n",
              "      border: none;\n",
              "      border-radius: 50%;\n",
              "      cursor: pointer;\n",
              "      display: none;\n",
              "      fill: #1967D2;\n",
              "      height: 32px;\n",
              "      padding: 0 0 0 0;\n",
              "      width: 32px;\n",
              "    }\n",
              "\n",
              "    .colab-df-convert:hover {\n",
              "      background-color: #E2EBFA;\n",
              "      box-shadow: 0px 1px 2px rgba(60, 64, 67, 0.3), 0px 1px 3px 1px rgba(60, 64, 67, 0.15);\n",
              "      fill: #174EA6;\n",
              "    }\n",
              "\n",
              "    [theme=dark] .colab-df-convert {\n",
              "      background-color: #3B4455;\n",
              "      fill: #D2E3FC;\n",
              "    }\n",
              "\n",
              "    [theme=dark] .colab-df-convert:hover {\n",
              "      background-color: #434B5C;\n",
              "      box-shadow: 0px 1px 3px 1px rgba(0, 0, 0, 0.15);\n",
              "      filter: drop-shadow(0px 1px 2px rgba(0, 0, 0, 0.3));\n",
              "      fill: #FFFFFF;\n",
              "    }\n",
              "  </style>\n",
              "\n",
              "      <script>\n",
              "        const buttonEl =\n",
              "          document.querySelector('#df-13f6a255-1dc6-4e04-801e-b0bda9340f69 button.colab-df-convert');\n",
              "        buttonEl.style.display =\n",
              "          google.colab.kernel.accessAllowed ? 'block' : 'none';\n",
              "\n",
              "        async function convertToInteractive(key) {\n",
              "          const element = document.querySelector('#df-13f6a255-1dc6-4e04-801e-b0bda9340f69');\n",
              "          const dataTable =\n",
              "            await google.colab.kernel.invokeFunction('convertToInteractive',\n",
              "                                                     [key], {});\n",
              "          if (!dataTable) return;\n",
              "\n",
              "          const docLinkHtml = 'Like what you see? Visit the ' +\n",
              "            '<a target=\"_blank\" href=https://colab.research.google.com/notebooks/data_table.ipynb>data table notebook</a>'\n",
              "            + ' to learn more about interactive tables.';\n",
              "          element.innerHTML = '';\n",
              "          dataTable['output_type'] = 'display_data';\n",
              "          await google.colab.output.renderOutput(dataTable, element);\n",
              "          const docLink = document.createElement('div');\n",
              "          docLink.innerHTML = docLinkHtml;\n",
              "          element.appendChild(docLink);\n",
              "        }\n",
              "      </script>\n",
              "    </div>\n",
              "  </div>\n",
              "  "
            ]
          },
          "metadata": {},
          "execution_count": 1
        }
      ]
    },
    {
      "cell_type": "code",
      "metadata": {
        "id": "JivDz-pjrPCV"
      },
      "source": [
        "#Let's only use tweet column as data\n",
        "# Redefine df\n",
        "df= df.tweet"
      ],
      "execution_count": 2,
      "outputs": []
    },
    {
      "cell_type": "code",
      "metadata": {
        "colab": {
          "base_uri": "https://localhost:8080/"
        },
        "id": "_b5lvg6ZrfNV",
        "outputId": "e9932284-0075-4659-b31c-5f9e5aa1816a"
      },
      "source": [
        "# Check first six reviews\n",
        "df.head()"
      ],
      "execution_count": 3,
      "outputs": [
        {
          "output_type": "execute_result",
          "data": {
            "text/plain": [
              "0    tropical treasure cherish forever exclusive  t...\n",
              "1    backpack  cuba budget  travelsomeday  armchair...\n",
              "2    experience burns air like local  travelsomeday...\n",
              "3    cant wait grenade sail festival 2021   exclusi...\n",
              "4    best hostel barcelona  fabrizzio  s petit revi...\n",
              "Name: tweet, dtype: object"
            ]
          },
          "metadata": {},
          "execution_count": 3
        }
      ]
    },
    {
      "cell_type": "code",
      "metadata": {
        "colab": {
          "base_uri": "https://localhost:8080/"
        },
        "id": "GnVAfQTNUZY2",
        "outputId": "2b59a484-f9ac-4262-e0ce-23f0611e99a4"
      },
      "source": [
        "# Make sure the reviews are in string format.\n",
        "df = str(df)\n",
        "\n",
        "# Check the type of the reviews. If it's str, we are in the correct path\n",
        "type(df)"
      ],
      "execution_count": 4,
      "outputs": [
        {
          "output_type": "execute_result",
          "data": {
            "text/plain": [
              "str"
            ]
          },
          "metadata": {},
          "execution_count": 4
        }
      ]
    },
    {
      "cell_type": "markdown",
      "metadata": {
        "id": "eQAzslSOQjn_"
      },
      "source": [
        "Basic data cleaning"
      ]
    },
    {
      "cell_type": "code",
      "metadata": {
        "id": "2LfUyEwKUHLT"
      },
      "source": [
        "# Make a small data cleaning just in case we have uncleaned data\n",
        "# Get rid of chararacters that can't be read\n",
        "import re\n",
        "df = re.sub(r'[^a-zA-Z0-9\\s]', ' ', df)\n",
        "pattern = r'[0-9]'\n",
        "\n",
        "# Match all digits in the string and replace them by empty string\n",
        "df  = re.sub(pattern, '', df)"
      ],
      "execution_count": 5,
      "outputs": []
    },
    {
      "cell_type": "code",
      "metadata": {
        "id": "rjcarVVMfg8B"
      },
      "source": [
        "# In the dataset, we make have '\\r' and '\\n' strings\n",
        "# Let's remove them by replacing with an empty string\n",
        "df = df.replace('\\r', '').replace('\\n', '')"
      ],
      "execution_count": 6,
      "outputs": []
    },
    {
      "cell_type": "markdown",
      "metadata": {
        "id": "_rpv2ZU-QpVH"
      },
      "source": [
        "Tokenization"
      ]
    },
    {
      "cell_type": "code",
      "metadata": {
        "colab": {
          "base_uri": "https://localhost:8080/"
        },
        "id": "78elZexUriCR",
        "outputId": "44f7d23c-dd79-40c3-e704-fa190654b8a7"
      },
      "source": [
        "# Import required libraries for n-gram\n",
        "import nltk\n",
        "from nltk.util import ngrams\n",
        "import re\n",
        "\n",
        "# Tokenize the reviews in the dataset\n",
        "tokens = [token for token in df.split(\" \") if token != \"\" ]\n",
        "\n",
        "#Let's check tokens for the first column\n",
        "tokens[:20]"
      ],
      "execution_count": 7,
      "outputs": [
        {
          "output_type": "execute_result",
          "data": {
            "text/plain": [
              "['tropical',\n",
              " 'treasure',\n",
              " 'cherish',\n",
              " 'forever',\n",
              " 'exclusive',\n",
              " 't',\n",
              " 'backpack',\n",
              " 'cuba',\n",
              " 'budget',\n",
              " 'travelsomeday',\n",
              " 'armchair',\n",
              " 'experience',\n",
              " 'burns',\n",
              " 'air',\n",
              " 'like',\n",
              " 'local',\n",
              " 'travelsomeday',\n",
              " 'cant',\n",
              " 'wait',\n",
              " 'grenade']"
            ]
          },
          "metadata": {},
          "execution_count": 7
        }
      ]
    },
    {
      "cell_type": "code",
      "metadata": {
        "colab": {
          "base_uri": "https://localhost:8080/"
        },
        "id": "hZaEe83GDRFV",
        "outputId": "dc524ffb-5bf3-43f7-e960-75ffc771a4da"
      },
      "source": [
        "list(ngrams(tokens, 5))"
      ],
      "execution_count": 8,
      "outputs": [
        {
          "output_type": "execute_result",
          "data": {
            "text/plain": [
              "[('tropical', 'treasure', 'cherish', 'forever', 'exclusive'),\n",
              " ('treasure', 'cherish', 'forever', 'exclusive', 't'),\n",
              " ('cherish', 'forever', 'exclusive', 't', 'backpack'),\n",
              " ('forever', 'exclusive', 't', 'backpack', 'cuba'),\n",
              " ('exclusive', 't', 'backpack', 'cuba', 'budget'),\n",
              " ('t', 'backpack', 'cuba', 'budget', 'travelsomeday'),\n",
              " ('backpack', 'cuba', 'budget', 'travelsomeday', 'armchair'),\n",
              " ('cuba', 'budget', 'travelsomeday', 'armchair', 'experience'),\n",
              " ('budget', 'travelsomeday', 'armchair', 'experience', 'burns'),\n",
              " ('travelsomeday', 'armchair', 'experience', 'burns', 'air'),\n",
              " ('armchair', 'experience', 'burns', 'air', 'like'),\n",
              " ('experience', 'burns', 'air', 'like', 'local'),\n",
              " ('burns', 'air', 'like', 'local', 'travelsomeday'),\n",
              " ('air', 'like', 'local', 'travelsomeday', 'cant'),\n",
              " ('like', 'local', 'travelsomeday', 'cant', 'wait'),\n",
              " ('local', 'travelsomeday', 'cant', 'wait', 'grenade'),\n",
              " ('travelsomeday', 'cant', 'wait', 'grenade', 'sail'),\n",
              " ('cant', 'wait', 'grenade', 'sail', 'festival'),\n",
              " ('wait', 'grenade', 'sail', 'festival', 'exclusi'),\n",
              " ('grenade', 'sail', 'festival', 'exclusi', 'best'),\n",
              " ('sail', 'festival', 'exclusi', 'best', 'hostel'),\n",
              " ('festival', 'exclusi', 'best', 'hostel', 'barcelona'),\n",
              " ('exclusi', 'best', 'hostel', 'barcelona', 'fabrizzio'),\n",
              " ('best', 'hostel', 'barcelona', 'fabrizzio', 's'),\n",
              " ('hostel', 'barcelona', 'fabrizzio', 's', 'petit'),\n",
              " ('barcelona', 'fabrizzio', 's', 'petit', 'revi'),\n",
              " ('fabrizzio', 's', 'petit', 'revi', 'lip'),\n",
              " ('s', 'petit', 'revi', 'lip', 'dinner'),\n",
              " ('petit', 'revi', 'lip', 'dinner', 'berlin'),\n",
              " ('revi', 'lip', 'dinner', 'berlin', 'to'),\n",
              " ('lip', 'dinner', 'berlin', 'to', 'tower'),\n",
              " ('dinner', 'berlin', 'to', 'tower', 'restaurant'),\n",
              " ('berlin', 'to', 'tower', 'restaurant', 'travel'),\n",
              " ('to', 'tower', 'restaurant', 'travel', 'plan'),\n",
              " ('tower', 'restaurant', 'travel', 'plan', 'overseas'),\n",
              " ('restaurant', 'travel', 'plan', 'overseas', 'trip'),\n",
              " ('travel', 'plan', 'overseas', 'trip', 'sign'),\n",
              " ('plan', 'overseas', 'trip', 'sign', 'access'),\n",
              " ('overseas', 'trip', 'sign', 'access', 'travel'),\n",
              " ('trip', 'sign', 'access', 'travel', 'resou'),\n",
              " ('sign', 'access', 'travel', 'resou', 'colombia'),\n",
              " ('access', 'travel', 'resou', 'colombia', 'solo'),\n",
              " ('travel', 'resou', 'colombia', 'solo', 'travel'),\n",
              " ('resou', 'colombia', 'solo', 'travel', 'travel'),\n",
              " ('colombia', 'solo', 'travel', 'travel', 'colombia'),\n",
              " ('solo', 'travel', 'travel', 'colombia', 'alone'),\n",
              " ('travel', 'travel', 'colombia', 'alone', 're'),\n",
              " ('travel', 'colombia', 'alone', 're', 'camp'),\n",
              " ('colombia', 'alone', 're', 'camp', 'alone'),\n",
              " ('alone', 're', 'camp', 'alone', 'safely'),\n",
              " ('re', 'camp', 'alone', 'safely', 'solo'),\n",
              " ('camp', 'alone', 'safely', 'solo', 'camp'),\n",
              " ('alone', 'safely', 'solo', 'camp', 'tip'),\n",
              " ('safely', 'solo', 'camp', 'tip', 'travelsom'),\n",
              " ('solo', 'camp', 'tip', 'travelsom', 'find'),\n",
              " ('camp', 'tip', 'travelsom', 'find', 'best'),\n",
              " ('tip', 'travelsom', 'find', 'best', 'flight'),\n",
              " ('travelsom', 'find', 'best', 'flight', 'deal'),\n",
              " ('find', 'best', 'flight', 'deal', 'black'),\n",
              " ('best', 'flight', 'deal', 'black', 'friday'),\n",
              " ('flight', 'deal', 'black', 'friday', 'year'),\n",
              " ('deal', 'black', 'friday', 'year', 'tr'),\n",
              " ('black', 'friday', 'year', 'tr', 'Name'),\n",
              " ('friday', 'year', 'tr', 'Name', 'tweet'),\n",
              " ('year', 'tr', 'Name', 'tweet', 'Length'),\n",
              " ('tr', 'Name', 'tweet', 'Length', 'dtype'),\n",
              " ('Name', 'tweet', 'Length', 'dtype', 'object')]"
            ]
          },
          "metadata": {},
          "execution_count": 8
        }
      ]
    },
    {
      "cell_type": "markdown",
      "metadata": {
        "id": "E8ACaSs_QsiO"
      },
      "source": [
        "###  **Creating n-gram models with different numbers of n**"
      ]
    },
    {
      "cell_type": "code",
      "metadata": {
        "colab": {
          "base_uri": "https://localhost:8080/"
        },
        "id": "7PD9f_WDs877",
        "outputId": "6062a552-0d7a-4d55-8d7d-21a05311073e"
      },
      "source": [
        "# Ngram with n=3\n",
        "list(ngrams(tokens, 3))"
      ],
      "execution_count": 9,
      "outputs": [
        {
          "output_type": "execute_result",
          "data": {
            "text/plain": [
              "[('tropical', 'treasure', 'cherish'),\n",
              " ('treasure', 'cherish', 'forever'),\n",
              " ('cherish', 'forever', 'exclusive'),\n",
              " ('forever', 'exclusive', 't'),\n",
              " ('exclusive', 't', 'backpack'),\n",
              " ('t', 'backpack', 'cuba'),\n",
              " ('backpack', 'cuba', 'budget'),\n",
              " ('cuba', 'budget', 'travelsomeday'),\n",
              " ('budget', 'travelsomeday', 'armchair'),\n",
              " ('travelsomeday', 'armchair', 'experience'),\n",
              " ('armchair', 'experience', 'burns'),\n",
              " ('experience', 'burns', 'air'),\n",
              " ('burns', 'air', 'like'),\n",
              " ('air', 'like', 'local'),\n",
              " ('like', 'local', 'travelsomeday'),\n",
              " ('local', 'travelsomeday', 'cant'),\n",
              " ('travelsomeday', 'cant', 'wait'),\n",
              " ('cant', 'wait', 'grenade'),\n",
              " ('wait', 'grenade', 'sail'),\n",
              " ('grenade', 'sail', 'festival'),\n",
              " ('sail', 'festival', 'exclusi'),\n",
              " ('festival', 'exclusi', 'best'),\n",
              " ('exclusi', 'best', 'hostel'),\n",
              " ('best', 'hostel', 'barcelona'),\n",
              " ('hostel', 'barcelona', 'fabrizzio'),\n",
              " ('barcelona', 'fabrizzio', 's'),\n",
              " ('fabrizzio', 's', 'petit'),\n",
              " ('s', 'petit', 'revi'),\n",
              " ('petit', 'revi', 'lip'),\n",
              " ('revi', 'lip', 'dinner'),\n",
              " ('lip', 'dinner', 'berlin'),\n",
              " ('dinner', 'berlin', 'to'),\n",
              " ('berlin', 'to', 'tower'),\n",
              " ('to', 'tower', 'restaurant'),\n",
              " ('tower', 'restaurant', 'travel'),\n",
              " ('restaurant', 'travel', 'plan'),\n",
              " ('travel', 'plan', 'overseas'),\n",
              " ('plan', 'overseas', 'trip'),\n",
              " ('overseas', 'trip', 'sign'),\n",
              " ('trip', 'sign', 'access'),\n",
              " ('sign', 'access', 'travel'),\n",
              " ('access', 'travel', 'resou'),\n",
              " ('travel', 'resou', 'colombia'),\n",
              " ('resou', 'colombia', 'solo'),\n",
              " ('colombia', 'solo', 'travel'),\n",
              " ('solo', 'travel', 'travel'),\n",
              " ('travel', 'travel', 'colombia'),\n",
              " ('travel', 'colombia', 'alone'),\n",
              " ('colombia', 'alone', 're'),\n",
              " ('alone', 're', 'camp'),\n",
              " ('re', 'camp', 'alone'),\n",
              " ('camp', 'alone', 'safely'),\n",
              " ('alone', 'safely', 'solo'),\n",
              " ('safely', 'solo', 'camp'),\n",
              " ('solo', 'camp', 'tip'),\n",
              " ('camp', 'tip', 'travelsom'),\n",
              " ('tip', 'travelsom', 'find'),\n",
              " ('travelsom', 'find', 'best'),\n",
              " ('find', 'best', 'flight'),\n",
              " ('best', 'flight', 'deal'),\n",
              " ('flight', 'deal', 'black'),\n",
              " ('deal', 'black', 'friday'),\n",
              " ('black', 'friday', 'year'),\n",
              " ('friday', 'year', 'tr'),\n",
              " ('year', 'tr', 'Name'),\n",
              " ('tr', 'Name', 'tweet'),\n",
              " ('Name', 'tweet', 'Length'),\n",
              " ('tweet', 'Length', 'dtype'),\n",
              " ('Length', 'dtype', 'object')]"
            ]
          },
          "metadata": {},
          "execution_count": 9
        }
      ]
    },
    {
      "cell_type": "code",
      "metadata": {
        "colab": {
          "base_uri": "https://localhost:8080/"
        },
        "id": "_q7wcCaOtK1o",
        "outputId": "bb79ced9-8ded-4b49-f945-4734233332dd"
      },
      "source": [
        "# Ngram with n=4\n",
        "list(ngrams(tokens, 4))[:4]"
      ],
      "execution_count": 10,
      "outputs": [
        {
          "output_type": "execute_result",
          "data": {
            "text/plain": [
              "[('tropical', 'treasure', 'cherish', 'forever'),\n",
              " ('treasure', 'cherish', 'forever', 'exclusive'),\n",
              " ('cherish', 'forever', 'exclusive', 't'),\n",
              " ('forever', 'exclusive', 't', 'backpack')]"
            ]
          },
          "metadata": {},
          "execution_count": 10
        }
      ]
    },
    {
      "cell_type": "code",
      "metadata": {
        "colab": {
          "base_uri": "https://localhost:8080/",
          "height": 363
        },
        "id": "nDZNAGobue5_",
        "outputId": "2bbebb57-5041-4c8b-b050-6eb11bfd836e"
      },
      "source": [
        "# Checking the n-grams with n=3 with random 10 samples\n",
        "pd.DataFrame(ngrams(tokens, 3)).sample(10)"
      ],
      "execution_count": 11,
      "outputs": [
        {
          "output_type": "execute_result",
          "data": {
            "text/plain": [
              "                0          1           2\n",
              "27              s      petit        revi\n",
              "39           trip       sign      access\n",
              "3         forever  exclusive           t\n",
              "56            tip  travelsom        find\n",
              "9   travelsomeday   armchair  experience\n",
              "53         safely       solo        camp\n",
              "60         flight       deal       black\n",
              "61           deal      black      friday\n",
              "66           Name      tweet      Length\n",
              "11     experience      burns         air"
            ],
            "text/html": [
              "\n",
              "  <div id=\"df-a82c4de3-7508-4940-8cae-340a267be61f\">\n",
              "    <div class=\"colab-df-container\">\n",
              "      <div>\n",
              "<style scoped>\n",
              "    .dataframe tbody tr th:only-of-type {\n",
              "        vertical-align: middle;\n",
              "    }\n",
              "\n",
              "    .dataframe tbody tr th {\n",
              "        vertical-align: top;\n",
              "    }\n",
              "\n",
              "    .dataframe thead th {\n",
              "        text-align: right;\n",
              "    }\n",
              "</style>\n",
              "<table border=\"1\" class=\"dataframe\">\n",
              "  <thead>\n",
              "    <tr style=\"text-align: right;\">\n",
              "      <th></th>\n",
              "      <th>0</th>\n",
              "      <th>1</th>\n",
              "      <th>2</th>\n",
              "    </tr>\n",
              "  </thead>\n",
              "  <tbody>\n",
              "    <tr>\n",
              "      <th>27</th>\n",
              "      <td>s</td>\n",
              "      <td>petit</td>\n",
              "      <td>revi</td>\n",
              "    </tr>\n",
              "    <tr>\n",
              "      <th>39</th>\n",
              "      <td>trip</td>\n",
              "      <td>sign</td>\n",
              "      <td>access</td>\n",
              "    </tr>\n",
              "    <tr>\n",
              "      <th>3</th>\n",
              "      <td>forever</td>\n",
              "      <td>exclusive</td>\n",
              "      <td>t</td>\n",
              "    </tr>\n",
              "    <tr>\n",
              "      <th>56</th>\n",
              "      <td>tip</td>\n",
              "      <td>travelsom</td>\n",
              "      <td>find</td>\n",
              "    </tr>\n",
              "    <tr>\n",
              "      <th>9</th>\n",
              "      <td>travelsomeday</td>\n",
              "      <td>armchair</td>\n",
              "      <td>experience</td>\n",
              "    </tr>\n",
              "    <tr>\n",
              "      <th>53</th>\n",
              "      <td>safely</td>\n",
              "      <td>solo</td>\n",
              "      <td>camp</td>\n",
              "    </tr>\n",
              "    <tr>\n",
              "      <th>60</th>\n",
              "      <td>flight</td>\n",
              "      <td>deal</td>\n",
              "      <td>black</td>\n",
              "    </tr>\n",
              "    <tr>\n",
              "      <th>61</th>\n",
              "      <td>deal</td>\n",
              "      <td>black</td>\n",
              "      <td>friday</td>\n",
              "    </tr>\n",
              "    <tr>\n",
              "      <th>66</th>\n",
              "      <td>Name</td>\n",
              "      <td>tweet</td>\n",
              "      <td>Length</td>\n",
              "    </tr>\n",
              "    <tr>\n",
              "      <th>11</th>\n",
              "      <td>experience</td>\n",
              "      <td>burns</td>\n",
              "      <td>air</td>\n",
              "    </tr>\n",
              "  </tbody>\n",
              "</table>\n",
              "</div>\n",
              "      <button class=\"colab-df-convert\" onclick=\"convertToInteractive('df-a82c4de3-7508-4940-8cae-340a267be61f')\"\n",
              "              title=\"Convert this dataframe to an interactive table.\"\n",
              "              style=\"display:none;\">\n",
              "        \n",
              "  <svg xmlns=\"http://www.w3.org/2000/svg\" height=\"24px\"viewBox=\"0 0 24 24\"\n",
              "       width=\"24px\">\n",
              "    <path d=\"M0 0h24v24H0V0z\" fill=\"none\"/>\n",
              "    <path d=\"M18.56 5.44l.94 2.06.94-2.06 2.06-.94-2.06-.94-.94-2.06-.94 2.06-2.06.94zm-11 1L8.5 8.5l.94-2.06 2.06-.94-2.06-.94L8.5 2.5l-.94 2.06-2.06.94zm10 10l.94 2.06.94-2.06 2.06-.94-2.06-.94-.94-2.06-.94 2.06-2.06.94z\"/><path d=\"M17.41 7.96l-1.37-1.37c-.4-.4-.92-.59-1.43-.59-.52 0-1.04.2-1.43.59L10.3 9.45l-7.72 7.72c-.78.78-.78 2.05 0 2.83L4 21.41c.39.39.9.59 1.41.59.51 0 1.02-.2 1.41-.59l7.78-7.78 2.81-2.81c.8-.78.8-2.07 0-2.86zM5.41 20L4 18.59l7.72-7.72 1.47 1.35L5.41 20z\"/>\n",
              "  </svg>\n",
              "      </button>\n",
              "      \n",
              "  <style>\n",
              "    .colab-df-container {\n",
              "      display:flex;\n",
              "      flex-wrap:wrap;\n",
              "      gap: 12px;\n",
              "    }\n",
              "\n",
              "    .colab-df-convert {\n",
              "      background-color: #E8F0FE;\n",
              "      border: none;\n",
              "      border-radius: 50%;\n",
              "      cursor: pointer;\n",
              "      display: none;\n",
              "      fill: #1967D2;\n",
              "      height: 32px;\n",
              "      padding: 0 0 0 0;\n",
              "      width: 32px;\n",
              "    }\n",
              "\n",
              "    .colab-df-convert:hover {\n",
              "      background-color: #E2EBFA;\n",
              "      box-shadow: 0px 1px 2px rgba(60, 64, 67, 0.3), 0px 1px 3px 1px rgba(60, 64, 67, 0.15);\n",
              "      fill: #174EA6;\n",
              "    }\n",
              "\n",
              "    [theme=dark] .colab-df-convert {\n",
              "      background-color: #3B4455;\n",
              "      fill: #D2E3FC;\n",
              "    }\n",
              "\n",
              "    [theme=dark] .colab-df-convert:hover {\n",
              "      background-color: #434B5C;\n",
              "      box-shadow: 0px 1px 3px 1px rgba(0, 0, 0, 0.15);\n",
              "      filter: drop-shadow(0px 1px 2px rgba(0, 0, 0, 0.3));\n",
              "      fill: #FFFFFF;\n",
              "    }\n",
              "  </style>\n",
              "\n",
              "      <script>\n",
              "        const buttonEl =\n",
              "          document.querySelector('#df-a82c4de3-7508-4940-8cae-340a267be61f button.colab-df-convert');\n",
              "        buttonEl.style.display =\n",
              "          google.colab.kernel.accessAllowed ? 'block' : 'none';\n",
              "\n",
              "        async function convertToInteractive(key) {\n",
              "          const element = document.querySelector('#df-a82c4de3-7508-4940-8cae-340a267be61f');\n",
              "          const dataTable =\n",
              "            await google.colab.kernel.invokeFunction('convertToInteractive',\n",
              "                                                     [key], {});\n",
              "          if (!dataTable) return;\n",
              "\n",
              "          const docLinkHtml = 'Like what you see? Visit the ' +\n",
              "            '<a target=\"_blank\" href=https://colab.research.google.com/notebooks/data_table.ipynb>data table notebook</a>'\n",
              "            + ' to learn more about interactive tables.';\n",
              "          element.innerHTML = '';\n",
              "          dataTable['output_type'] = 'display_data';\n",
              "          await google.colab.output.renderOutput(dataTable, element);\n",
              "          const docLink = document.createElement('div');\n",
              "          docLink.innerHTML = docLinkHtml;\n",
              "          element.appendChild(docLink);\n",
              "        }\n",
              "      </script>\n",
              "    </div>\n",
              "  </div>\n",
              "  "
            ]
          },
          "metadata": {},
          "execution_count": 11
        }
      ]
    },
    {
      "cell_type": "code",
      "metadata": {
        "colab": {
          "base_uri": "https://localhost:8080/"
        },
        "id": "X62cMjGZcH4l",
        "outputId": "d5ed5f88-9ae3-4875-9dfe-1154f6d03e43"
      },
      "source": [
        "(pd.Series(nltk.ngrams(tokens, 2)).value_counts())[:10]"
      ],
      "execution_count": 12,
      "outputs": [
        {
          "output_type": "execute_result",
          "data": {
            "text/plain": [
              "(tropical, treasure)    1\n",
              "(colombia, solo)        1\n",
              "(re, camp)              1\n",
              "(alone, re)             1\n",
              "(colombia, alone)       1\n",
              "(travel, colombia)      1\n",
              "(travel, travel)        1\n",
              "(solo, travel)          1\n",
              "(resou, colombia)       1\n",
              "(alone, safely)         1\n",
              "dtype: int64"
            ]
          },
          "metadata": {},
          "execution_count": 12
        }
      ]
    },
    {
      "cell_type": "code",
      "metadata": {
        "colab": {
          "base_uri": "https://localhost:8080/"
        },
        "id": "j8ppYxftppjP",
        "outputId": "5df55dcf-aea6-452d-c287-59ee64d7f47b"
      },
      "source": [
        "import collections\n",
        "bigram_counts = collections.Counter(pd.Series(nltk.ngrams(tokens, 2)))\n",
        "bigram_counts.most_common(20)"
      ],
      "execution_count": 13,
      "outputs": [
        {
          "output_type": "execute_result",
          "data": {
            "text/plain": [
              "[(('tropical', 'treasure'), 1),\n",
              " (('treasure', 'cherish'), 1),\n",
              " (('cherish', 'forever'), 1),\n",
              " (('forever', 'exclusive'), 1),\n",
              " (('exclusive', 't'), 1),\n",
              " (('t', 'backpack'), 1),\n",
              " (('backpack', 'cuba'), 1),\n",
              " (('cuba', 'budget'), 1),\n",
              " (('budget', 'travelsomeday'), 1),\n",
              " (('travelsomeday', 'armchair'), 1),\n",
              " (('armchair', 'experience'), 1),\n",
              " (('experience', 'burns'), 1),\n",
              " (('burns', 'air'), 1),\n",
              " (('air', 'like'), 1),\n",
              " (('like', 'local'), 1),\n",
              " (('local', 'travelsomeday'), 1),\n",
              " (('travelsomeday', 'cant'), 1),\n",
              " (('cant', 'wait'), 1),\n",
              " (('wait', 'grenade'), 1),\n",
              " (('grenade', 'sail'), 1)]"
            ]
          },
          "metadata": {},
          "execution_count": 13
        }
      ]
    },
    {
      "cell_type": "markdown",
      "metadata": {
        "id": "jApK6JCgRLHG"
      },
      "source": [
        "### **Check the number of tokens in bigram model**"
      ]
    },
    {
      "cell_type": "code",
      "metadata": {
        "colab": {
          "base_uri": "https://localhost:8080/",
          "height": 677
        },
        "id": "rcC2biYplY2B",
        "outputId": "003ff881-43ff-45f5-a980-e1d3a2fb5627"
      },
      "source": [
        "bigram_df = pd.DataFrame(bigram_counts.most_common(20),\n",
        "                             columns=['bigram', 'count'])\n",
        "\n",
        "bigram_df"
      ],
      "execution_count": 14,
      "outputs": [
        {
          "output_type": "execute_result",
          "data": {
            "text/plain": [
              "                       bigram  count\n",
              "0        (tropical, treasure)      1\n",
              "1         (treasure, cherish)      1\n",
              "2          (cherish, forever)      1\n",
              "3        (forever, exclusive)      1\n",
              "4              (exclusive, t)      1\n",
              "5               (t, backpack)      1\n",
              "6            (backpack, cuba)      1\n",
              "7              (cuba, budget)      1\n",
              "8     (budget, travelsomeday)      1\n",
              "9   (travelsomeday, armchair)      1\n",
              "10     (armchair, experience)      1\n",
              "11        (experience, burns)      1\n",
              "12               (burns, air)      1\n",
              "13                (air, like)      1\n",
              "14              (like, local)      1\n",
              "15     (local, travelsomeday)      1\n",
              "16      (travelsomeday, cant)      1\n",
              "17               (cant, wait)      1\n",
              "18            (wait, grenade)      1\n",
              "19            (grenade, sail)      1"
            ],
            "text/html": [
              "\n",
              "  <div id=\"df-e28354c3-888d-42f4-8cae-e0869b80ce23\">\n",
              "    <div class=\"colab-df-container\">\n",
              "      <div>\n",
              "<style scoped>\n",
              "    .dataframe tbody tr th:only-of-type {\n",
              "        vertical-align: middle;\n",
              "    }\n",
              "\n",
              "    .dataframe tbody tr th {\n",
              "        vertical-align: top;\n",
              "    }\n",
              "\n",
              "    .dataframe thead th {\n",
              "        text-align: right;\n",
              "    }\n",
              "</style>\n",
              "<table border=\"1\" class=\"dataframe\">\n",
              "  <thead>\n",
              "    <tr style=\"text-align: right;\">\n",
              "      <th></th>\n",
              "      <th>bigram</th>\n",
              "      <th>count</th>\n",
              "    </tr>\n",
              "  </thead>\n",
              "  <tbody>\n",
              "    <tr>\n",
              "      <th>0</th>\n",
              "      <td>(tropical, treasure)</td>\n",
              "      <td>1</td>\n",
              "    </tr>\n",
              "    <tr>\n",
              "      <th>1</th>\n",
              "      <td>(treasure, cherish)</td>\n",
              "      <td>1</td>\n",
              "    </tr>\n",
              "    <tr>\n",
              "      <th>2</th>\n",
              "      <td>(cherish, forever)</td>\n",
              "      <td>1</td>\n",
              "    </tr>\n",
              "    <tr>\n",
              "      <th>3</th>\n",
              "      <td>(forever, exclusive)</td>\n",
              "      <td>1</td>\n",
              "    </tr>\n",
              "    <tr>\n",
              "      <th>4</th>\n",
              "      <td>(exclusive, t)</td>\n",
              "      <td>1</td>\n",
              "    </tr>\n",
              "    <tr>\n",
              "      <th>5</th>\n",
              "      <td>(t, backpack)</td>\n",
              "      <td>1</td>\n",
              "    </tr>\n",
              "    <tr>\n",
              "      <th>6</th>\n",
              "      <td>(backpack, cuba)</td>\n",
              "      <td>1</td>\n",
              "    </tr>\n",
              "    <tr>\n",
              "      <th>7</th>\n",
              "      <td>(cuba, budget)</td>\n",
              "      <td>1</td>\n",
              "    </tr>\n",
              "    <tr>\n",
              "      <th>8</th>\n",
              "      <td>(budget, travelsomeday)</td>\n",
              "      <td>1</td>\n",
              "    </tr>\n",
              "    <tr>\n",
              "      <th>9</th>\n",
              "      <td>(travelsomeday, armchair)</td>\n",
              "      <td>1</td>\n",
              "    </tr>\n",
              "    <tr>\n",
              "      <th>10</th>\n",
              "      <td>(armchair, experience)</td>\n",
              "      <td>1</td>\n",
              "    </tr>\n",
              "    <tr>\n",
              "      <th>11</th>\n",
              "      <td>(experience, burns)</td>\n",
              "      <td>1</td>\n",
              "    </tr>\n",
              "    <tr>\n",
              "      <th>12</th>\n",
              "      <td>(burns, air)</td>\n",
              "      <td>1</td>\n",
              "    </tr>\n",
              "    <tr>\n",
              "      <th>13</th>\n",
              "      <td>(air, like)</td>\n",
              "      <td>1</td>\n",
              "    </tr>\n",
              "    <tr>\n",
              "      <th>14</th>\n",
              "      <td>(like, local)</td>\n",
              "      <td>1</td>\n",
              "    </tr>\n",
              "    <tr>\n",
              "      <th>15</th>\n",
              "      <td>(local, travelsomeday)</td>\n",
              "      <td>1</td>\n",
              "    </tr>\n",
              "    <tr>\n",
              "      <th>16</th>\n",
              "      <td>(travelsomeday, cant)</td>\n",
              "      <td>1</td>\n",
              "    </tr>\n",
              "    <tr>\n",
              "      <th>17</th>\n",
              "      <td>(cant, wait)</td>\n",
              "      <td>1</td>\n",
              "    </tr>\n",
              "    <tr>\n",
              "      <th>18</th>\n",
              "      <td>(wait, grenade)</td>\n",
              "      <td>1</td>\n",
              "    </tr>\n",
              "    <tr>\n",
              "      <th>19</th>\n",
              "      <td>(grenade, sail)</td>\n",
              "      <td>1</td>\n",
              "    </tr>\n",
              "  </tbody>\n",
              "</table>\n",
              "</div>\n",
              "      <button class=\"colab-df-convert\" onclick=\"convertToInteractive('df-e28354c3-888d-42f4-8cae-e0869b80ce23')\"\n",
              "              title=\"Convert this dataframe to an interactive table.\"\n",
              "              style=\"display:none;\">\n",
              "        \n",
              "  <svg xmlns=\"http://www.w3.org/2000/svg\" height=\"24px\"viewBox=\"0 0 24 24\"\n",
              "       width=\"24px\">\n",
              "    <path d=\"M0 0h24v24H0V0z\" fill=\"none\"/>\n",
              "    <path d=\"M18.56 5.44l.94 2.06.94-2.06 2.06-.94-2.06-.94-.94-2.06-.94 2.06-2.06.94zm-11 1L8.5 8.5l.94-2.06 2.06-.94-2.06-.94L8.5 2.5l-.94 2.06-2.06.94zm10 10l.94 2.06.94-2.06 2.06-.94-2.06-.94-.94-2.06-.94 2.06-2.06.94z\"/><path d=\"M17.41 7.96l-1.37-1.37c-.4-.4-.92-.59-1.43-.59-.52 0-1.04.2-1.43.59L10.3 9.45l-7.72 7.72c-.78.78-.78 2.05 0 2.83L4 21.41c.39.39.9.59 1.41.59.51 0 1.02-.2 1.41-.59l7.78-7.78 2.81-2.81c.8-.78.8-2.07 0-2.86zM5.41 20L4 18.59l7.72-7.72 1.47 1.35L5.41 20z\"/>\n",
              "  </svg>\n",
              "      </button>\n",
              "      \n",
              "  <style>\n",
              "    .colab-df-container {\n",
              "      display:flex;\n",
              "      flex-wrap:wrap;\n",
              "      gap: 12px;\n",
              "    }\n",
              "\n",
              "    .colab-df-convert {\n",
              "      background-color: #E8F0FE;\n",
              "      border: none;\n",
              "      border-radius: 50%;\n",
              "      cursor: pointer;\n",
              "      display: none;\n",
              "      fill: #1967D2;\n",
              "      height: 32px;\n",
              "      padding: 0 0 0 0;\n",
              "      width: 32px;\n",
              "    }\n",
              "\n",
              "    .colab-df-convert:hover {\n",
              "      background-color: #E2EBFA;\n",
              "      box-shadow: 0px 1px 2px rgba(60, 64, 67, 0.3), 0px 1px 3px 1px rgba(60, 64, 67, 0.15);\n",
              "      fill: #174EA6;\n",
              "    }\n",
              "\n",
              "    [theme=dark] .colab-df-convert {\n",
              "      background-color: #3B4455;\n",
              "      fill: #D2E3FC;\n",
              "    }\n",
              "\n",
              "    [theme=dark] .colab-df-convert:hover {\n",
              "      background-color: #434B5C;\n",
              "      box-shadow: 0px 1px 3px 1px rgba(0, 0, 0, 0.15);\n",
              "      filter: drop-shadow(0px 1px 2px rgba(0, 0, 0, 0.3));\n",
              "      fill: #FFFFFF;\n",
              "    }\n",
              "  </style>\n",
              "\n",
              "      <script>\n",
              "        const buttonEl =\n",
              "          document.querySelector('#df-e28354c3-888d-42f4-8cae-e0869b80ce23 button.colab-df-convert');\n",
              "        buttonEl.style.display =\n",
              "          google.colab.kernel.accessAllowed ? 'block' : 'none';\n",
              "\n",
              "        async function convertToInteractive(key) {\n",
              "          const element = document.querySelector('#df-e28354c3-888d-42f4-8cae-e0869b80ce23');\n",
              "          const dataTable =\n",
              "            await google.colab.kernel.invokeFunction('convertToInteractive',\n",
              "                                                     [key], {});\n",
              "          if (!dataTable) return;\n",
              "\n",
              "          const docLinkHtml = 'Like what you see? Visit the ' +\n",
              "            '<a target=\"_blank\" href=https://colab.research.google.com/notebooks/data_table.ipynb>data table notebook</a>'\n",
              "            + ' to learn more about interactive tables.';\n",
              "          element.innerHTML = '';\n",
              "          dataTable['output_type'] = 'display_data';\n",
              "          await google.colab.output.renderOutput(dataTable, element);\n",
              "          const docLink = document.createElement('div');\n",
              "          docLink.innerHTML = docLinkHtml;\n",
              "          element.appendChild(docLink);\n",
              "        }\n",
              "      </script>\n",
              "    </div>\n",
              "  </div>\n",
              "  "
            ]
          },
          "metadata": {},
          "execution_count": 14
        }
      ]
    },
    {
      "cell_type": "code",
      "metadata": {
        "colab": {
          "base_uri": "https://localhost:8080/"
        },
        "id": "-pS57AnVoniO",
        "outputId": "443038d6-9bdf-4ad6-9012-1f8d1ca4b42d"
      },
      "source": [
        "pd.Series(nltk.ngrams(tokens, 2)).value_counts()"
      ],
      "execution_count": 15,
      "outputs": [
        {
          "output_type": "execute_result",
          "data": {
            "text/plain": [
              "(tropical, treasure)    1\n",
              "(colombia, solo)        1\n",
              "(re, camp)              1\n",
              "(alone, re)             1\n",
              "(colombia, alone)       1\n",
              "                       ..\n",
              "(revi, lip)             1\n",
              "(lip, dinner)           1\n",
              "(dinner, berlin)        1\n",
              "(berlin, to)            1\n",
              "(dtype, object)         1\n",
              "Length: 70, dtype: int64"
            ]
          },
          "metadata": {},
          "execution_count": 15
        }
      ]
    },
    {
      "cell_type": "markdown",
      "metadata": {
        "id": "Pqce9siRq2da"
      },
      "source": [
        "Data Visualization for Bigram Networks"
      ]
    },
    {
      "cell_type": "code",
      "metadata": {
        "id": "msn0y7g-pMWf"
      },
      "source": [
        "# Create dictionary of bigrams and their counts\n",
        "\n",
        "import matplotlib.pyplot as plt\n",
        "import seaborn as sns\n",
        "import networkx as nx\n",
        "\n",
        "sns.set(font_scale=1.5)\n",
        "sns.set_style(\"whitegrid\")\n",
        "\n",
        "d = bigram_df.set_index('bigram').T.to_dict('records')"
      ],
      "execution_count": 16,
      "outputs": []
    },
    {
      "cell_type": "code",
      "metadata": {
        "id": "YbO6UWuzqQkp"
      },
      "source": [
        "# Create network plot \n",
        "G = nx.Graph()\n",
        "\n",
        "# Create connections between nodes\n",
        "for k, v in d[0].items():\n",
        "    G.add_edge(k[0], k[1], weight=(v * 10))\n",
        "\n",
        "G.add_node(\"china\", weight=100)"
      ],
      "execution_count": 17,
      "outputs": []
    },
    {
      "cell_type": "code",
      "metadata": {
        "colab": {
          "base_uri": "https://localhost:8080/",
          "height": 466
        },
        "id": "3h4FkedEqsJv",
        "outputId": "b594311a-5c55-4362-9f44-dc2d5d122275"
      },
      "source": [
        "sns.set_style(\"darkgrid\")\n",
        "fig, ax = plt.subplots(figsize=(9, 8))\n",
        "\n",
        "pos = nx.spring_layout(G, k=2)\n",
        "\n",
        "# Plot networks\n",
        "nx.draw_networkx(G, pos,\n",
        "                 font_size=16,\n",
        "                 width=3,\n",
        "                 edge_color='lightsalmon',\n",
        "                 node_color='lightblue',\n",
        "                 with_labels = False,\n",
        "                 ax=ax)\n",
        "\n",
        "# Create offset labels\n",
        "for key, value in pos.items():\n",
        "    x, y = value[0]+.135, value[1]+.045\n",
        "    ax.text(x, y,\n",
        "            s=key,\n",
        "            bbox=dict(facecolor='indigo', alpha=0.25),\n",
        "            horizontalalignment='center', fontsize=13)\n",
        "    \n",
        "plt.show()"
      ],
      "execution_count": 18,
      "outputs": [
        {
          "output_type": "display_data",
          "data": {
            "text/plain": [
              "<Figure size 648x576 with 1 Axes>"
            ],
            "image/png": "[encoded data removed]"
          },
          "metadata": {}
        }
      ]
    }
  ]
}