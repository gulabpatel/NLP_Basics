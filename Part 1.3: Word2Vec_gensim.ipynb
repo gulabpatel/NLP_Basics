{
  "nbformat": 4,
  "nbformat_minor": 0,
  "metadata": {
    "colab": {
      "name": "Part 02: Word2Vec.ipynb",
      "provenance": [],
      "authorship_tag": "ABX9TyONBXFQaHPzZ76KQT1Dw1hL"
    },
    "kernelspec": {
      "name": "python3",
      "display_name": "Python 3"
    }
  },
  "cells": [
    {
      "cell_type": "markdown",
      "metadata": {
        "id": "CatlxQrG4Qru"
      },
      "source": [
        "#Import Library"
      ]
    },
    {
      "cell_type": "code",
      "metadata": {
        "id": "nfFf5rcG3nFf"
      },
      "source": [
        "import nltk"
      ],
      "execution_count": 1,
      "outputs": []
    },
    {
      "cell_type": "code",
      "metadata": {
        "id": "vi9GuW1233FW"
      },
      "source": [
        "from gensim.models import Word2Vec\r\n",
        "from nltk.corpus import stopwords\r\n",
        "import re"
      ],
      "execution_count": 2,
      "outputs": []
    },
    {
      "cell_type": "code",
      "metadata": {
        "id": "OHVf0FAn4BAd"
      },
      "source": [
        "paragraph = \"\"\"I have three visions for India. In 3000 years of our history, people from all over \r\n",
        "               the world have come and invaded us, captured our lands, conquered our minds. \r\n",
        "               From Alexander onwards, the Greeks, the Turks, the Moguls, the Portuguese, the British,\r\n",
        "               the French, the Dutch, all of them came and looted us, took over what was ours. \r\n",
        "               Yet we have not done this to any other nation. We have not conquered anyone. \r\n",
        "               We have not grabbed their land, their culture, \r\n",
        "               their history and tried to enforce our way of life on them. \r\n",
        "               Why? Because we respect the freedom of others.That is why my \r\n",
        "               first vision is that of freedom. I believe that India got its first vision of \r\n",
        "               this in 1857, when we started the War of Independence. It is this freedom that\r\n",
        "               we must protect and nurture and build on. If we are not free, no one will respect us.\r\n",
        "               My second vision for India’s development. For fifty years we have been a developing nation.\r\n",
        "               It is time we see ourselves as a developed nation. We are among the top 5 nations of the world\r\n",
        "               in terms of GDP. We have a 10 percent growth rate in most areas. Our poverty levels are falling.\r\n",
        "               Our achievements are being globally recognised today. Yet we lack the self-confidence to\r\n",
        "               see ourselves as a developed nation, self-reliant and self-assured. Isn’t this incorrect?\r\n",
        "               I have a third vision. India must stand up to the world. Because I believe that unless India \r\n",
        "               stands up to the world, no one will respect us. Only strength respects strength. We must be \r\n",
        "               strong not only as a military power but also as an economic power. Both must go hand-in-hand. \r\n",
        "               My good fortune was to have worked with three great minds. Dr. Vikram Sarabhai of the Dept. of \r\n",
        "               space, Professor Satish Dhawan, who succeeded him and Dr. Brahm Prakash, father of nuclear material.\r\n",
        "               I was lucky to have worked with all three of them closely and consider this the great opportunity of my life. \r\n",
        "               I see four milestones in my career\"\"\""
      ],
      "execution_count": 3,
      "outputs": []
    },
    {
      "cell_type": "markdown",
      "metadata": {
        "id": "OcXqFc1o4PGQ"
      },
      "source": [
        "# Preprocessing the data\r\n",
        "\r\n",
        "For more details visit \"https://www.machinelearningplus.com/python/python-regex-tutorial-examples/\",\r\n",
        "https://www.tutorialspoint.com/python/python_reg_expressions.htm"
      ]
    },
    {
      "cell_type": "code",
      "metadata": {
        "colab": {
          "base_uri": "https://localhost:8080/",
          "height": 222
        },
        "id": "_Yf-oqhQ4a67",
        "outputId": "53e59548-2a42-49e7-d2c4-7694a5e7dee3"
      },
      "source": [
        "paragraph"
      ],
      "execution_count": 4,
      "outputs": [
        {
          "output_type": "execute_result",
          "data": {
            "application/vnd.google.colaboratory.intrinsic+json": {
              "type": "string"
            },
            "text/plain": [
              "'I have three visions for India. In 3000 years of our history, people from all over \\n               the world have come and invaded us, captured our lands, conquered our minds. \\n               From Alexander onwards, the Greeks, the Turks, the Moguls, the Portuguese, the British,\\n               the French, the Dutch, all of them came and looted us, took over what was ours. \\n               Yet we have not done this to any other nation. We have not conquered anyone. \\n               We have not grabbed their land, their culture, \\n               their history and tried to enforce our way of life on them. \\n               Why? Because we respect the freedom of others.That is why my \\n               first vision is that of freedom. I believe that India got its first vision of \\n               this in 1857, when we started the War of Independence. It is this freedom that\\n               we must protect and nurture and build on. If we are not free, no one will respect us.\\n               My second vision for India’s development. For fifty years we have been a developing nation.\\n               It is time we see ourselves as a developed nation. We are among the top 5 nations of the world\\n               in terms of GDP. We have a 10 percent growth rate in most areas. Our poverty levels are falling.\\n               Our achievements are being globally recognised today. Yet we lack the self-confidence to\\n               see ourselves as a developed nation, self-reliant and self-assured. Isn’t this incorrect?\\n               I have a third vision. India must stand up to the world. Because I believe that unless India \\n               stands up to the world, no one will respect us. Only strength respects strength. We must be \\n               strong not only as a military power but also as an economic power. Both must go hand-in-hand. \\n               My good fortune was to have worked with three great minds. Dr. Vikram Sarabhai of the Dept. of \\n               space, Professor Satish Dhawan, who succeeded him and Dr. Brahm Prakash, father of nuclear material.\\n               I was lucky to have worked with all three of them closely and consider this the great opportunity of my life. \\n               I see four milestones in my career'"
            ]
          },
          "metadata": {
            "tags": []
          },
          "execution_count": 4
        }
      ]
    },
    {
      "cell_type": "code",
      "metadata": {
        "colab": {
          "base_uri": "https://localhost:8080/",
          "height": 222
        },
        "id": "kfgTGljx4J_X",
        "outputId": "55b33262-ad4f-48c9-d6c2-1910d314c990"
      },
      "source": [
        "#text = re.sub(r'\\[[0-9]*\\]', ' ', paragraph) #remove \r\n",
        "#text"
      ],
      "execution_count": 5,
      "outputs": [
        {
          "output_type": "execute_result",
          "data": {
            "application/vnd.google.colaboratory.intrinsic+json": {
              "type": "string"
            },
            "text/plain": [
              "'I have three visions for India. In 3000 years of our history, people from all over \\n               the world have come and invaded us, captured our lands, conquered our minds. \\n               From Alexander onwards, the Greeks, the Turks, the Moguls, the Portuguese, the British,\\n               the French, the Dutch, all of them came and looted us, took over what was ours. \\n               Yet we have not done this to any other nation. We have not conquered anyone. \\n               We have not grabbed their land, their culture, \\n               their history and tried to enforce our way of life on them. \\n               Why? Because we respect the freedom of others.That is why my \\n               first vision is that of freedom. I believe that India got its first vision of \\n               this in 1857, when we started the War of Independence. It is this freedom that\\n               we must protect and nurture and build on. If we are not free, no one will respect us.\\n               My second vision for India’s development. For fifty years we have been a developing nation.\\n               It is time we see ourselves as a developed nation. We are among the top 5 nations of the world\\n               in terms of GDP. We have a 10 percent growth rate in most areas. Our poverty levels are falling.\\n               Our achievements are being globally recognised today. Yet we lack the self-confidence to\\n               see ourselves as a developed nation, self-reliant and self-assured. Isn’t this incorrect?\\n               I have a third vision. India must stand up to the world. Because I believe that unless India \\n               stands up to the world, no one will respect us. Only strength respects strength. We must be \\n               strong not only as a military power but also as an economic power. Both must go hand-in-hand. \\n               My good fortune was to have worked with three great minds. Dr. Vikram Sarabhai of the Dept. of \\n               space, Professor Satish Dhawan, who succeeded him and Dr. Brahm Prakash, father of nuclear material.\\n               I was lucky to have worked with all three of them closely and consider this the great opportunity of my life. \\n               I see four milestones in my career'"
            ]
          },
          "metadata": {
            "tags": []
          },
          "execution_count": 5
        }
      ]
    },
    {
      "cell_type": "code",
      "metadata": {
        "colab": {
          "base_uri": "https://localhost:8080/",
          "height": 222
        },
        "id": "uP0bb4854nWh",
        "outputId": "6c1ccee6-93d1-43fd-f069-062821f42b6a"
      },
      "source": [
        "text = re.sub(r'\\s+',' ',text) #remove spaces\r\n",
        "text"
      ],
      "execution_count": 6,
      "outputs": [
        {
          "output_type": "execute_result",
          "data": {
            "application/vnd.google.colaboratory.intrinsic+json": {
              "type": "string"
            },
            "text/plain": [
              "'I have three visions for India. In 3000 years of our history, people from all over the world have come and invaded us, captured our lands, conquered our minds. From Alexander onwards, the Greeks, the Turks, the Moguls, the Portuguese, the British, the French, the Dutch, all of them came and looted us, took over what was ours. Yet we have not done this to any other nation. We have not conquered anyone. We have not grabbed their land, their culture, their history and tried to enforce our way of life on them. Why? Because we respect the freedom of others.That is why my first vision is that of freedom. I believe that India got its first vision of this in 1857, when we started the War of Independence. It is this freedom that we must protect and nurture and build on. If we are not free, no one will respect us. My second vision for India’s development. For fifty years we have been a developing nation. It is time we see ourselves as a developed nation. We are among the top 5 nations of the world in terms of GDP. We have a 10 percent growth rate in most areas. Our poverty levels are falling. Our achievements are being globally recognised today. Yet we lack the self-confidence to see ourselves as a developed nation, self-reliant and self-assured. Isn’t this incorrect? I have a third vision. India must stand up to the world. Because I believe that unless India stands up to the world, no one will respect us. Only strength respects strength. We must be strong not only as a military power but also as an economic power. Both must go hand-in-hand. My good fortune was to have worked with three great minds. Dr. Vikram Sarabhai of the Dept. of space, Professor Satish Dhawan, who succeeded him and Dr. Brahm Prakash, father of nuclear material. I was lucky to have worked with all three of them closely and consider this the great opportunity of my life. I see four milestones in my career'"
            ]
          },
          "metadata": {
            "tags": []
          },
          "execution_count": 6
        }
      ]
    },
    {
      "cell_type": "code",
      "metadata": {
        "colab": {
          "base_uri": "https://localhost:8080/",
          "height": 222
        },
        "id": "ApnSiZoq47zy",
        "outputId": "2cb6e9d0-2b1c-47c5-c449-7988769a17fa"
      },
      "source": [
        "text = text.lower() #lowecase \r\n",
        "text "
      ],
      "execution_count": 8,
      "outputs": [
        {
          "output_type": "execute_result",
          "data": {
            "application/vnd.google.colaboratory.intrinsic+json": {
              "type": "string"
            },
            "text/plain": [
              "'i have three visions for india. in 3000 years of our history, people from all over the world have come and invaded us, captured our lands, conquered our minds. from alexander onwards, the greeks, the turks, the moguls, the portuguese, the british, the french, the dutch, all of them came and looted us, took over what was ours. yet we have not done this to any other nation. we have not conquered anyone. we have not grabbed their land, their culture, their history and tried to enforce our way of life on them. why? because we respect the freedom of others.that is why my first vision is that of freedom. i believe that india got its first vision of this in 1857, when we started the war of independence. it is this freedom that we must protect and nurture and build on. if we are not free, no one will respect us. my second vision for india’s development. for fifty years we have been a developing nation. it is time we see ourselves as a developed nation. we are among the top 5 nations of the world in terms of gdp. we have a 10 percent growth rate in most areas. our poverty levels are falling. our achievements are being globally recognised today. yet we lack the self-confidence to see ourselves as a developed nation, self-reliant and self-assured. isn’t this incorrect? i have a third vision. india must stand up to the world. because i believe that unless india stands up to the world, no one will respect us. only strength respects strength. we must be strong not only as a military power but also as an economic power. both must go hand-in-hand. my good fortune was to have worked with three great minds. dr. vikram sarabhai of the dept. of space, professor satish dhawan, who succeeded him and dr. brahm prakash, father of nuclear material. i was lucky to have worked with all three of them closely and consider this the great opportunity of my life. i see four milestones in my career'"
            ]
          },
          "metadata": {
            "tags": []
          },
          "execution_count": 8
        }
      ]
    },
    {
      "cell_type": "code",
      "metadata": {
        "colab": {
          "base_uri": "https://localhost:8080/",
          "height": 222
        },
        "id": "stHp6djE4-V7",
        "outputId": "97047737-a892-49b2-e951-5bcc0134680e"
      },
      "source": [
        "text = re.sub(r'\\d',' ',text)  #Remove integers\r\n",
        "text"
      ],
      "execution_count": 9,
      "outputs": [
        {
          "output_type": "execute_result",
          "data": {
            "application/vnd.google.colaboratory.intrinsic+json": {
              "type": "string"
            },
            "text/plain": [
              "'i have three visions for india. in      years of our history, people from all over the world have come and invaded us, captured our lands, conquered our minds. from alexander onwards, the greeks, the turks, the moguls, the portuguese, the british, the french, the dutch, all of them came and looted us, took over what was ours. yet we have not done this to any other nation. we have not conquered anyone. we have not grabbed their land, their culture, their history and tried to enforce our way of life on them. why? because we respect the freedom of others.that is why my first vision is that of freedom. i believe that india got its first vision of this in     , when we started the war of independence. it is this freedom that we must protect and nurture and build on. if we are not free, no one will respect us. my second vision for india’s development. for fifty years we have been a developing nation. it is time we see ourselves as a developed nation. we are among the top   nations of the world in terms of gdp. we have a    percent growth rate in most areas. our poverty levels are falling. our achievements are being globally recognised today. yet we lack the self-confidence to see ourselves as a developed nation, self-reliant and self-assured. isn’t this incorrect? i have a third vision. india must stand up to the world. because i believe that unless india stands up to the world, no one will respect us. only strength respects strength. we must be strong not only as a military power but also as an economic power. both must go hand-in-hand. my good fortune was to have worked with three great minds. dr. vikram sarabhai of the dept. of space, professor satish dhawan, who succeeded him and dr. brahm prakash, father of nuclear material. i was lucky to have worked with all three of them closely and consider this the great opportunity of my life. i see four milestones in my career'"
            ]
          },
          "metadata": {
            "tags": []
          },
          "execution_count": 9
        }
      ]
    },
    {
      "cell_type": "code",
      "metadata": {
        "colab": {
          "base_uri": "https://localhost:8080/",
          "height": 222
        },
        "id": "1YDjILdj6E5E",
        "outputId": "fd5e1f14-ba68-4a50-eca5-c857af995840"
      },
      "source": [
        "text = re.sub(r'\\s+',' ',text) #remove extra spaces\r\n",
        "text"
      ],
      "execution_count": 10,
      "outputs": [
        {
          "output_type": "execute_result",
          "data": {
            "application/vnd.google.colaboratory.intrinsic+json": {
              "type": "string"
            },
            "text/plain": [
              "'i have three visions for india. in years of our history, people from all over the world have come and invaded us, captured our lands, conquered our minds. from alexander onwards, the greeks, the turks, the moguls, the portuguese, the british, the french, the dutch, all of them came and looted us, took over what was ours. yet we have not done this to any other nation. we have not conquered anyone. we have not grabbed their land, their culture, their history and tried to enforce our way of life on them. why? because we respect the freedom of others.that is why my first vision is that of freedom. i believe that india got its first vision of this in , when we started the war of independence. it is this freedom that we must protect and nurture and build on. if we are not free, no one will respect us. my second vision for india’s development. for fifty years we have been a developing nation. it is time we see ourselves as a developed nation. we are among the top nations of the world in terms of gdp. we have a percent growth rate in most areas. our poverty levels are falling. our achievements are being globally recognised today. yet we lack the self-confidence to see ourselves as a developed nation, self-reliant and self-assured. isn’t this incorrect? i have a third vision. india must stand up to the world. because i believe that unless india stands up to the world, no one will respect us. only strength respects strength. we must be strong not only as a military power but also as an economic power. both must go hand-in-hand. my good fortune was to have worked with three great minds. dr. vikram sarabhai of the dept. of space, professor satish dhawan, who succeeded him and dr. brahm prakash, father of nuclear material. i was lucky to have worked with all three of them closely and consider this the great opportunity of my life. i see four milestones in my career'"
            ]
          },
          "metadata": {
            "tags": []
          },
          "execution_count": 10
        }
      ]
    },
    {
      "cell_type": "markdown",
      "metadata": {
        "id": "WoYsDIPW7SL3"
      },
      "source": [
        "# Preparing the dataset"
      ]
    },
    {
      "cell_type": "code",
      "metadata": {
        "colab": {
          "base_uri": "https://localhost:8080/"
        },
        "id": "SevxYdXf7ffz",
        "outputId": "554c24b8-bb0c-4859-de57-b4c9e570f0d4"
      },
      "source": [
        "nltk.download('punkt')"
      ],
      "execution_count": 12,
      "outputs": [
        {
          "output_type": "stream",
          "text": [
            "[nltk_data] Downloading package punkt to /root/nltk_data...\n",
            "[nltk_data]   Unzipping tokenizers/punkt.zip.\n"
          ],
          "name": "stdout"
        },
        {
          "output_type": "execute_result",
          "data": {
            "text/plain": [
              "True"
            ]
          },
          "metadata": {
            "tags": []
          },
          "execution_count": 12
        }
      ]
    },
    {
      "cell_type": "markdown",
      "metadata": {
        "id": "CkUyeb3P8ztR"
      },
      "source": [
        "#Sentence Tokenization"
      ]
    },
    {
      "cell_type": "code",
      "metadata": {
        "colab": {
          "base_uri": "https://localhost:8080/"
        },
        "id": "xTtixm8D6Qaf",
        "outputId": "9215d7fb-d889-425c-a61e-1cf3b7d6dc3d"
      },
      "source": [
        "sentences = nltk.sent_tokenize(text)\r\n",
        "sentences"
      ],
      "execution_count": 14,
      "outputs": [
        {
          "output_type": "execute_result",
          "data": {
            "text/plain": [
              "['i have three visions for india.',\n",
              " 'in years of our history, people from all over the world have come and invaded us, captured our lands, conquered our minds.',\n",
              " 'from alexander onwards, the greeks, the turks, the moguls, the portuguese, the british, the french, the dutch, all of them came and looted us, took over what was ours.',\n",
              " 'yet we have not done this to any other nation.',\n",
              " 'we have not conquered anyone.',\n",
              " 'we have not grabbed their land, their culture, their history and tried to enforce our way of life on them.',\n",
              " 'why?',\n",
              " 'because we respect the freedom of others.that is why my first vision is that of freedom.',\n",
              " 'i believe that india got its first vision of this in , when we started the war of independence.',\n",
              " 'it is this freedom that we must protect and nurture and build on.',\n",
              " 'if we are not free, no one will respect us.',\n",
              " 'my second vision for india’s development.',\n",
              " 'for fifty years we have been a developing nation.',\n",
              " 'it is time we see ourselves as a developed nation.',\n",
              " 'we are among the top nations of the world in terms of gdp.',\n",
              " 'we have a percent growth rate in most areas.',\n",
              " 'our poverty levels are falling.',\n",
              " 'our achievements are being globally recognised today.',\n",
              " 'yet we lack the self-confidence to see ourselves as a developed nation, self-reliant and self-assured.',\n",
              " 'isn’t this incorrect?',\n",
              " 'i have a third vision.',\n",
              " 'india must stand up to the world.',\n",
              " 'because i believe that unless india stands up to the world, no one will respect us.',\n",
              " 'only strength respects strength.',\n",
              " 'we must be strong not only as a military power but also as an economic power.',\n",
              " 'both must go hand-in-hand.',\n",
              " 'my good fortune was to have worked with three great minds.',\n",
              " 'dr. vikram sarabhai of the dept.',\n",
              " 'of space, professor satish dhawan, who succeeded him and dr. brahm prakash, father of nuclear material.',\n",
              " 'i was lucky to have worked with all three of them closely and consider this the great opportunity of my life.',\n",
              " 'i see four milestones in my career']"
            ]
          },
          "metadata": {
            "tags": []
          },
          "execution_count": 14
        }
      ]
    },
    {
      "cell_type": "markdown",
      "metadata": {
        "id": "N4xjS4hj8wHR"
      },
      "source": [
        "#Word Tokenization"
      ]
    },
    {
      "cell_type": "code",
      "metadata": {
        "colab": {
          "base_uri": "https://localhost:8080/"
        },
        "id": "pC8IAzi37UpC",
        "outputId": "c18de118-ed54-4098-eafd-263325345b59"
      },
      "source": [
        "sentences = [nltk.word_tokenize(sentence) for sentence in sentences]\r\n",
        "sentences"
      ],
      "execution_count": 15,
      "outputs": [
        {
          "output_type": "execute_result",
          "data": {
            "text/plain": [
              "[['i', 'have', 'three', 'visions', 'for', 'india', '.'],\n",
              " ['in',\n",
              "  'years',\n",
              "  'of',\n",
              "  'our',\n",
              "  'history',\n",
              "  ',',\n",
              "  'people',\n",
              "  'from',\n",
              "  'all',\n",
              "  'over',\n",
              "  'the',\n",
              "  'world',\n",
              "  'have',\n",
              "  'come',\n",
              "  'and',\n",
              "  'invaded',\n",
              "  'us',\n",
              "  ',',\n",
              "  'captured',\n",
              "  'our',\n",
              "  'lands',\n",
              "  ',',\n",
              "  'conquered',\n",
              "  'our',\n",
              "  'minds',\n",
              "  '.'],\n",
              " ['from',\n",
              "  'alexander',\n",
              "  'onwards',\n",
              "  ',',\n",
              "  'the',\n",
              "  'greeks',\n",
              "  ',',\n",
              "  'the',\n",
              "  'turks',\n",
              "  ',',\n",
              "  'the',\n",
              "  'moguls',\n",
              "  ',',\n",
              "  'the',\n",
              "  'portuguese',\n",
              "  ',',\n",
              "  'the',\n",
              "  'british',\n",
              "  ',',\n",
              "  'the',\n",
              "  'french',\n",
              "  ',',\n",
              "  'the',\n",
              "  'dutch',\n",
              "  ',',\n",
              "  'all',\n",
              "  'of',\n",
              "  'them',\n",
              "  'came',\n",
              "  'and',\n",
              "  'looted',\n",
              "  'us',\n",
              "  ',',\n",
              "  'took',\n",
              "  'over',\n",
              "  'what',\n",
              "  'was',\n",
              "  'ours',\n",
              "  '.'],\n",
              " ['yet',\n",
              "  'we',\n",
              "  'have',\n",
              "  'not',\n",
              "  'done',\n",
              "  'this',\n",
              "  'to',\n",
              "  'any',\n",
              "  'other',\n",
              "  'nation',\n",
              "  '.'],\n",
              " ['we', 'have', 'not', 'conquered', 'anyone', '.'],\n",
              " ['we',\n",
              "  'have',\n",
              "  'not',\n",
              "  'grabbed',\n",
              "  'their',\n",
              "  'land',\n",
              "  ',',\n",
              "  'their',\n",
              "  'culture',\n",
              "  ',',\n",
              "  'their',\n",
              "  'history',\n",
              "  'and',\n",
              "  'tried',\n",
              "  'to',\n",
              "  'enforce',\n",
              "  'our',\n",
              "  'way',\n",
              "  'of',\n",
              "  'life',\n",
              "  'on',\n",
              "  'them',\n",
              "  '.'],\n",
              " ['why', '?'],\n",
              " ['because',\n",
              "  'we',\n",
              "  'respect',\n",
              "  'the',\n",
              "  'freedom',\n",
              "  'of',\n",
              "  'others.that',\n",
              "  'is',\n",
              "  'why',\n",
              "  'my',\n",
              "  'first',\n",
              "  'vision',\n",
              "  'is',\n",
              "  'that',\n",
              "  'of',\n",
              "  'freedom',\n",
              "  '.'],\n",
              " ['i',\n",
              "  'believe',\n",
              "  'that',\n",
              "  'india',\n",
              "  'got',\n",
              "  'its',\n",
              "  'first',\n",
              "  'vision',\n",
              "  'of',\n",
              "  'this',\n",
              "  'in',\n",
              "  ',',\n",
              "  'when',\n",
              "  'we',\n",
              "  'started',\n",
              "  'the',\n",
              "  'war',\n",
              "  'of',\n",
              "  'independence',\n",
              "  '.'],\n",
              " ['it',\n",
              "  'is',\n",
              "  'this',\n",
              "  'freedom',\n",
              "  'that',\n",
              "  'we',\n",
              "  'must',\n",
              "  'protect',\n",
              "  'and',\n",
              "  'nurture',\n",
              "  'and',\n",
              "  'build',\n",
              "  'on',\n",
              "  '.'],\n",
              " ['if',\n",
              "  'we',\n",
              "  'are',\n",
              "  'not',\n",
              "  'free',\n",
              "  ',',\n",
              "  'no',\n",
              "  'one',\n",
              "  'will',\n",
              "  'respect',\n",
              "  'us',\n",
              "  '.'],\n",
              " ['my', 'second', 'vision', 'for', 'india', '’', 's', 'development', '.'],\n",
              " ['for',\n",
              "  'fifty',\n",
              "  'years',\n",
              "  'we',\n",
              "  'have',\n",
              "  'been',\n",
              "  'a',\n",
              "  'developing',\n",
              "  'nation',\n",
              "  '.'],\n",
              " ['it',\n",
              "  'is',\n",
              "  'time',\n",
              "  'we',\n",
              "  'see',\n",
              "  'ourselves',\n",
              "  'as',\n",
              "  'a',\n",
              "  'developed',\n",
              "  'nation',\n",
              "  '.'],\n",
              " ['we',\n",
              "  'are',\n",
              "  'among',\n",
              "  'the',\n",
              "  'top',\n",
              "  'nations',\n",
              "  'of',\n",
              "  'the',\n",
              "  'world',\n",
              "  'in',\n",
              "  'terms',\n",
              "  'of',\n",
              "  'gdp',\n",
              "  '.'],\n",
              " ['we', 'have', 'a', 'percent', 'growth', 'rate', 'in', 'most', 'areas', '.'],\n",
              " ['our', 'poverty', 'levels', 'are', 'falling', '.'],\n",
              " ['our',\n",
              "  'achievements',\n",
              "  'are',\n",
              "  'being',\n",
              "  'globally',\n",
              "  'recognised',\n",
              "  'today',\n",
              "  '.'],\n",
              " ['yet',\n",
              "  'we',\n",
              "  'lack',\n",
              "  'the',\n",
              "  'self-confidence',\n",
              "  'to',\n",
              "  'see',\n",
              "  'ourselves',\n",
              "  'as',\n",
              "  'a',\n",
              "  'developed',\n",
              "  'nation',\n",
              "  ',',\n",
              "  'self-reliant',\n",
              "  'and',\n",
              "  'self-assured',\n",
              "  '.'],\n",
              " ['isn', '’', 't', 'this', 'incorrect', '?'],\n",
              " ['i', 'have', 'a', 'third', 'vision', '.'],\n",
              " ['india', 'must', 'stand', 'up', 'to', 'the', 'world', '.'],\n",
              " ['because',\n",
              "  'i',\n",
              "  'believe',\n",
              "  'that',\n",
              "  'unless',\n",
              "  'india',\n",
              "  'stands',\n",
              "  'up',\n",
              "  'to',\n",
              "  'the',\n",
              "  'world',\n",
              "  ',',\n",
              "  'no',\n",
              "  'one',\n",
              "  'will',\n",
              "  'respect',\n",
              "  'us',\n",
              "  '.'],\n",
              " ['only', 'strength', 'respects', 'strength', '.'],\n",
              " ['we',\n",
              "  'must',\n",
              "  'be',\n",
              "  'strong',\n",
              "  'not',\n",
              "  'only',\n",
              "  'as',\n",
              "  'a',\n",
              "  'military',\n",
              "  'power',\n",
              "  'but',\n",
              "  'also',\n",
              "  'as',\n",
              "  'an',\n",
              "  'economic',\n",
              "  'power',\n",
              "  '.'],\n",
              " ['both', 'must', 'go', 'hand-in-hand', '.'],\n",
              " ['my',\n",
              "  'good',\n",
              "  'fortune',\n",
              "  'was',\n",
              "  'to',\n",
              "  'have',\n",
              "  'worked',\n",
              "  'with',\n",
              "  'three',\n",
              "  'great',\n",
              "  'minds',\n",
              "  '.'],\n",
              " ['dr.', 'vikram', 'sarabhai', 'of', 'the', 'dept', '.'],\n",
              " ['of',\n",
              "  'space',\n",
              "  ',',\n",
              "  'professor',\n",
              "  'satish',\n",
              "  'dhawan',\n",
              "  ',',\n",
              "  'who',\n",
              "  'succeeded',\n",
              "  'him',\n",
              "  'and',\n",
              "  'dr.',\n",
              "  'brahm',\n",
              "  'prakash',\n",
              "  ',',\n",
              "  'father',\n",
              "  'of',\n",
              "  'nuclear',\n",
              "  'material',\n",
              "  '.'],\n",
              " ['i',\n",
              "  'was',\n",
              "  'lucky',\n",
              "  'to',\n",
              "  'have',\n",
              "  'worked',\n",
              "  'with',\n",
              "  'all',\n",
              "  'three',\n",
              "  'of',\n",
              "  'them',\n",
              "  'closely',\n",
              "  'and',\n",
              "  'consider',\n",
              "  'this',\n",
              "  'the',\n",
              "  'great',\n",
              "  'opportunity',\n",
              "  'of',\n",
              "  'my',\n",
              "  'life',\n",
              "  '.'],\n",
              " ['i', 'see', 'four', 'milestones', 'in', 'my', 'career']]"
            ]
          },
          "metadata": {
            "tags": []
          },
          "execution_count": 15
        }
      ]
    },
    {
      "cell_type": "markdown",
      "metadata": {
        "id": "AIFbTXMq8ac6"
      },
      "source": [
        "#Remove stopwords"
      ]
    },
    {
      "cell_type": "code",
      "metadata": {
        "colab": {
          "base_uri": "https://localhost:8080/"
        },
        "id": "3RLh8PCx8gxA",
        "outputId": "5ca2fb43-e1ae-4160-d6b0-a729337ac300"
      },
      "source": [
        "nltk.download('stopwords')"
      ],
      "execution_count": 17,
      "outputs": [
        {
          "output_type": "stream",
          "text": [
            "[nltk_data] Downloading package stopwords to /root/nltk_data...\n",
            "[nltk_data]   Unzipping corpora/stopwords.zip.\n"
          ],
          "name": "stdout"
        },
        {
          "output_type": "execute_result",
          "data": {
            "text/plain": [
              "True"
            ]
          },
          "metadata": {
            "tags": []
          },
          "execution_count": 17
        }
      ]
    },
    {
      "cell_type": "code",
      "metadata": {
        "id": "EyWOa-Mt8HXH"
      },
      "source": [
        "for i in range(len(sentences)):\r\n",
        "    sentences[i] = [word for word in sentences[i] if word not in stopwords.words('english')]"
      ],
      "execution_count": 18,
      "outputs": []
    },
    {
      "cell_type": "markdown",
      "metadata": {
        "id": "My0v1Hsd8kuh"
      },
      "source": [
        "## Training the Word2Vec model"
      ]
    },
    {
      "cell_type": "code",
      "metadata": {
        "id": "FQpbzpbr8c1k"
      },
      "source": [
        "model = Word2Vec(sentences, min_count=1) #min_count means word is present at least once"
      ],
      "execution_count": 19,
      "outputs": []
    },
    {
      "cell_type": "code",
      "metadata": {
        "colab": {
          "base_uri": "https://localhost:8080/"
        },
        "id": "aRw3q3z88oB-",
        "outputId": "080cb297-8d02-4352-d3d6-f93ade946ee3"
      },
      "source": [
        "words = model.wv.vocab #It will find vocabulary, unique words in our text\r\n",
        "words"
      ],
      "execution_count": 23,
      "outputs": [
        {
          "output_type": "execute_result",
          "data": {
            "text/plain": [
              "{',': <gensim.models.keyedvectors.Vocab at 0x7f93a3ce9358>,\n",
              " '.': <gensim.models.keyedvectors.Vocab at 0x7f93a3ce92e8>,\n",
              " '?': <gensim.models.keyedvectors.Vocab at 0x7f93a3cec128>,\n",
              " 'achievements': <gensim.models.keyedvectors.Vocab at 0x7f93a3ce8be0>,\n",
              " 'alexander': <gensim.models.keyedvectors.Vocab at 0x7f93a3cee518>,\n",
              " 'also': <gensim.models.keyedvectors.Vocab at 0x7f93a3ce8128>,\n",
              " 'among': <gensim.models.keyedvectors.Vocab at 0x7f93a3cec8d0>,\n",
              " 'anyone': <gensim.models.keyedvectors.Vocab at 0x7f93a3cec780>,\n",
              " 'areas': <gensim.models.keyedvectors.Vocab at 0x7f93a3ce8fd0>,\n",
              " 'believe': <gensim.models.keyedvectors.Vocab at 0x7f93a3cec080>,\n",
              " 'brahm': <gensim.models.keyedvectors.Vocab at 0x7f93a3ce8e48>,\n",
              " 'british': <gensim.models.keyedvectors.Vocab at 0x7f93a3cee198>,\n",
              " 'build': <gensim.models.keyedvectors.Vocab at 0x7f93a3cecb38>,\n",
              " 'came': <gensim.models.keyedvectors.Vocab at 0x7f93a3cee160>,\n",
              " 'captured': <gensim.models.keyedvectors.Vocab at 0x7f93a3cee390>,\n",
              " 'career': <gensim.models.keyedvectors.Vocab at 0x7f93a42f6358>,\n",
              " 'closely': <gensim.models.keyedvectors.Vocab at 0x7f93a42f6d68>,\n",
              " 'come': <gensim.models.keyedvectors.Vocab at 0x7f93a3cee780>,\n",
              " 'conquered': <gensim.models.keyedvectors.Vocab at 0x7f93a3cee470>,\n",
              " 'consider': <gensim.models.keyedvectors.Vocab at 0x7f93a42f6d30>,\n",
              " 'culture': <gensim.models.keyedvectors.Vocab at 0x7f93a3cec668>,\n",
              " 'dept': <gensim.models.keyedvectors.Vocab at 0x7f93a3ce85f8>,\n",
              " 'developed': <gensim.models.keyedvectors.Vocab at 0x7f93a3cec978>,\n",
              " 'developing': <gensim.models.keyedvectors.Vocab at 0x7f93a3cec9b0>,\n",
              " 'development': <gensim.models.keyedvectors.Vocab at 0x7f93a3ceccf8>,\n",
              " 'dhawan': <gensim.models.keyedvectors.Vocab at 0x7f93a3ce8a90>,\n",
              " 'done': <gensim.models.keyedvectors.Vocab at 0x7f93a3cce9b0>,\n",
              " 'dr.': <gensim.models.keyedvectors.Vocab at 0x7f93a3ce84a8>,\n",
              " 'dutch': <gensim.models.keyedvectors.Vocab at 0x7f93a3cee048>,\n",
              " 'economic': <gensim.models.keyedvectors.Vocab at 0x7f93a3ce8160>,\n",
              " 'enforce': <gensim.models.keyedvectors.Vocab at 0x7f93a3cec278>,\n",
              " 'falling': <gensim.models.keyedvectors.Vocab at 0x7f93a3ce89e8>,\n",
              " 'father': <gensim.models.keyedvectors.Vocab at 0x7f93a42f62e8>,\n",
              " 'fifty': <gensim.models.keyedvectors.Vocab at 0x7f93a3cecda0>,\n",
              " 'first': <gensim.models.keyedvectors.Vocab at 0x7f93a3cec2b0>,\n",
              " 'fortune': <gensim.models.keyedvectors.Vocab at 0x7f93a3ce8400>,\n",
              " 'four': <gensim.models.keyedvectors.Vocab at 0x7f93a42f6f98>,\n",
              " 'free': <gensim.models.keyedvectors.Vocab at 0x7f93a3cec940>,\n",
              " 'freedom': <gensim.models.keyedvectors.Vocab at 0x7f93a3cec0f0>,\n",
              " 'french': <gensim.models.keyedvectors.Vocab at 0x7f93a3cee0f0>,\n",
              " 'gdp': <gensim.models.keyedvectors.Vocab at 0x7f93a3ce8ef0>,\n",
              " 'globally': <gensim.models.keyedvectors.Vocab at 0x7f93a3ce8c18>,\n",
              " 'go': <gensim.models.keyedvectors.Vocab at 0x7f93a3ce8208>,\n",
              " 'good': <gensim.models.keyedvectors.Vocab at 0x7f93a3ce8438>,\n",
              " 'got': <gensim.models.keyedvectors.Vocab at 0x7f93a3cec208>,\n",
              " 'grabbed': <gensim.models.keyedvectors.Vocab at 0x7f93a3cecac8>,\n",
              " 'great': <gensim.models.keyedvectors.Vocab at 0x7f93a3ce81d0>,\n",
              " 'greeks': <gensim.models.keyedvectors.Vocab at 0x7f93a3cee5c0>,\n",
              " 'growth': <gensim.models.keyedvectors.Vocab at 0x7f93a3ce8cc0>,\n",
              " 'hand-in-hand': <gensim.models.keyedvectors.Vocab at 0x7f93a3ce82b0>,\n",
              " 'history': <gensim.models.keyedvectors.Vocab at 0x7f93a3ce9160>,\n",
              " 'incorrect': <gensim.models.keyedvectors.Vocab at 0x7f93a3ce8898>,\n",
              " 'independence': <gensim.models.keyedvectors.Vocab at 0x7f93a3cec630>,\n",
              " 'india': <gensim.models.keyedvectors.Vocab at 0x7f93a3ce90b8>,\n",
              " 'invaded': <gensim.models.keyedvectors.Vocab at 0x7f93a3cee7b8>,\n",
              " 'lack': <gensim.models.keyedvectors.Vocab at 0x7f93a3ce84e0>,\n",
              " 'land': <gensim.models.keyedvectors.Vocab at 0x7f93a3ceca90>,\n",
              " 'lands': <gensim.models.keyedvectors.Vocab at 0x7f93a3cee3c8>,\n",
              " 'levels': <gensim.models.keyedvectors.Vocab at 0x7f93a3ce8940>,\n",
              " 'life': <gensim.models.keyedvectors.Vocab at 0x7f93a3cec470>,\n",
              " 'looted': <gensim.models.keyedvectors.Vocab at 0x7f93a3cee2b0>,\n",
              " 'lucky': <gensim.models.keyedvectors.Vocab at 0x7f93a42f6f28>,\n",
              " 'material': <gensim.models.keyedvectors.Vocab at 0x7f93a42f6240>,\n",
              " 'milestones': <gensim.models.keyedvectors.Vocab at 0x7f93a42f6fd0>,\n",
              " 'military': <gensim.models.keyedvectors.Vocab at 0x7f93a3ce80b8>,\n",
              " 'minds': <gensim.models.keyedvectors.Vocab at 0x7f93a3cee4e0>,\n",
              " 'moguls': <gensim.models.keyedvectors.Vocab at 0x7f93a3cee668>,\n",
              " 'must': <gensim.models.keyedvectors.Vocab at 0x7f93a3cec6a0>,\n",
              " 'nation': <gensim.models.keyedvectors.Vocab at 0x7f93a3cceac8>,\n",
              " 'nations': <gensim.models.keyedvectors.Vocab at 0x7f93a4391c18>,\n",
              " 'nuclear': <gensim.models.keyedvectors.Vocab at 0x7f93a42f6278>,\n",
              " 'nurture': <gensim.models.keyedvectors.Vocab at 0x7f93a3cec860>,\n",
              " 'one': <gensim.models.keyedvectors.Vocab at 0x7f93a3cecbe0>,\n",
              " 'onwards': <gensim.models.keyedvectors.Vocab at 0x7f93a3cee588>,\n",
              " 'opportunity': <gensim.models.keyedvectors.Vocab at 0x7f93a42f6f60>,\n",
              " 'others.that': <gensim.models.keyedvectors.Vocab at 0x7f93a3cec240>,\n",
              " 'people': <gensim.models.keyedvectors.Vocab at 0x7f93a3ce9438>,\n",
              " 'percent': <gensim.models.keyedvectors.Vocab at 0x7f93a3ce8eb8>,\n",
              " 'portuguese': <gensim.models.keyedvectors.Vocab at 0x7f93a3cee6a0>,\n",
              " 'poverty': <gensim.models.keyedvectors.Vocab at 0x7f93a3ce8ba8>,\n",
              " 'power': <gensim.models.keyedvectors.Vocab at 0x7f93a3ce80f0>,\n",
              " 'prakash': <gensim.models.keyedvectors.Vocab at 0x7f93a3ce8e80>,\n",
              " 'professor': <gensim.models.keyedvectors.Vocab at 0x7f93a3ce8908>,\n",
              " 'protect': <gensim.models.keyedvectors.Vocab at 0x7f93a3cec710>,\n",
              " 'rate': <gensim.models.keyedvectors.Vocab at 0x7f93a3ce8f60>,\n",
              " 'recognised': <gensim.models.keyedvectors.Vocab at 0x7f93a3ce86d8>,\n",
              " 'respect': <gensim.models.keyedvectors.Vocab at 0x7f93a3cec198>,\n",
              " 'respects': <gensim.models.keyedvectors.Vocab at 0x7f93a3ce8320>,\n",
              " 'sarabhai': <gensim.models.keyedvectors.Vocab at 0x7f93a3ce8518>,\n",
              " 'satish': <gensim.models.keyedvectors.Vocab at 0x7f93a3ce8a58>,\n",
              " 'second': <gensim.models.keyedvectors.Vocab at 0x7f93a3cecef0>,\n",
              " 'see': <gensim.models.keyedvectors.Vocab at 0x7f93a3cecf60>,\n",
              " 'self-assured': <gensim.models.keyedvectors.Vocab at 0x7f93a3ce8828>,\n",
              " 'self-confidence': <gensim.models.keyedvectors.Vocab at 0x7f93a3ce8748>,\n",
              " 'self-reliant': <gensim.models.keyedvectors.Vocab at 0x7f93a3ce87b8>,\n",
              " 'space': <gensim.models.keyedvectors.Vocab at 0x7f93a3ce8668>,\n",
              " 'stand': <gensim.models.keyedvectors.Vocab at 0x7f93a3ce8240>,\n",
              " 'stands': <gensim.models.keyedvectors.Vocab at 0x7f93a3ce8e10>,\n",
              " 'started': <gensim.models.keyedvectors.Vocab at 0x7f93a3cec4e0>,\n",
              " 'strength': <gensim.models.keyedvectors.Vocab at 0x7f93a3ce8d68>,\n",
              " 'strong': <gensim.models.keyedvectors.Vocab at 0x7f93a3ce8358>,\n",
              " 'succeeded': <gensim.models.keyedvectors.Vocab at 0x7f93a3ce8ac8>,\n",
              " 'terms': <gensim.models.keyedvectors.Vocab at 0x7f93a3ce8b00>,\n",
              " 'third': <gensim.models.keyedvectors.Vocab at 0x7f93a3ce88d0>,\n",
              " 'three': <gensim.models.keyedvectors.Vocab at 0x7f93c6347358>,\n",
              " 'time': <gensim.models.keyedvectors.Vocab at 0x7f93a3cecd30>,\n",
              " 'today': <gensim.models.keyedvectors.Vocab at 0x7f93a3ce8588>,\n",
              " 'took': <gensim.models.keyedvectors.Vocab at 0x7f93a3cee320>,\n",
              " 'top': <gensim.models.keyedvectors.Vocab at 0x7f93a3ceca20>,\n",
              " 'tried': <gensim.models.keyedvectors.Vocab at 0x7f93a3cec550>,\n",
              " 'turks': <gensim.models.keyedvectors.Vocab at 0x7f93a3cee5f8>,\n",
              " 'unless': <gensim.models.keyedvectors.Vocab at 0x7f93a3ce82e8>,\n",
              " 'us': <gensim.models.keyedvectors.Vocab at 0x7f93a3cee438>,\n",
              " 'vikram': <gensim.models.keyedvectors.Vocab at 0x7f93a3ce89b0>,\n",
              " 'vision': <gensim.models.keyedvectors.Vocab at 0x7f93a3cec400>,\n",
              " 'visions': <gensim.models.keyedvectors.Vocab at 0x7f93c63473c8>,\n",
              " 'war': <gensim.models.keyedvectors.Vocab at 0x7f93a3cec828>,\n",
              " 'way': <gensim.models.keyedvectors.Vocab at 0x7f93a3cec438>,\n",
              " 'worked': <gensim.models.keyedvectors.Vocab at 0x7f93a3ce83c8>,\n",
              " 'world': <gensim.models.keyedvectors.Vocab at 0x7f93a3ce9550>,\n",
              " 'years': <gensim.models.keyedvectors.Vocab at 0x7f93a3ce9080>,\n",
              " 'yet': <gensim.models.keyedvectors.Vocab at 0x7f93a3ccee80>,\n",
              " '’': <gensim.models.keyedvectors.Vocab at 0x7f93a3ceccc0>}"
            ]
          },
          "metadata": {
            "tags": []
          },
          "execution_count": 23
        }
      ]
    },
    {
      "cell_type": "markdown",
      "metadata": {
        "id": "RAG_Nc5r853B"
      },
      "source": [
        "# Finding Word Vectors"
      ]
    },
    {
      "cell_type": "code",
      "metadata": {
        "colab": {
          "base_uri": "https://localhost:8080/"
        },
        "id": "DvNQCX1G8pwY",
        "outputId": "d8df867c-69f1-468f-c0c8-c708be465e1a"
      },
      "source": [
        "vector = model.wv['war']\r\n",
        "vector"
      ],
      "execution_count": 21,
      "outputs": [
        {
          "output_type": "execute_result",
          "data": {
            "text/plain": [
              "array([-4.2318022e-03, -4.5986227e-03,  2.3105091e-03,  3.1381461e-04,\n",
              "       -1.0745978e-03,  1.4798393e-03,  2.6014147e-04, -4.7516171e-03,\n",
              "       -4.5942487e-03, -3.0870696e-03, -3.6473386e-03,  3.7505347e-03,\n",
              "        4.2296462e-03,  3.5176829e-03,  2.0496680e-03,  9.2964340e-04,\n",
              "       -1.2719213e-03,  2.3278804e-03,  7.9612597e-04, -4.4654422e-03,\n",
              "        2.4664443e-05, -1.1324647e-03, -4.8698406e-03,  2.0090283e-03,\n",
              "       -1.5754756e-03, -1.6903357e-03,  1.3026745e-03,  1.0226964e-03,\n",
              "        1.0542535e-03, -1.2396155e-03,  4.0200795e-03, -3.4900641e-03,\n",
              "        1.6816538e-03,  4.7029028e-04, -4.7015236e-03, -3.2438578e-03,\n",
              "       -3.6106277e-03, -6.0027478e-06, -1.5678910e-04, -2.8243728e-03,\n",
              "       -7.6159748e-04, -4.6551139e-03, -4.3968209e-03, -3.2189481e-03,\n",
              "        3.5605058e-03, -3.4707172e-03, -1.2498461e-03,  3.4410467e-03,\n",
              "        2.0567260e-03,  2.2532854e-03, -3.4918953e-03, -4.5047449e-03,\n",
              "       -2.9616388e-03, -2.2163175e-03, -2.4619570e-04,  2.9060757e-03,\n",
              "       -4.6041183e-04,  7.3113583e-04,  4.1747373e-03, -3.4973256e-03,\n",
              "        4.4355965e-03,  3.5160249e-03,  6.0670933e-04, -3.6959450e-03,\n",
              "       -4.7176485e-03,  3.6395320e-03,  3.5280837e-03, -3.1756533e-03,\n",
              "       -4.2744270e-03,  3.2081087e-03, -1.6402175e-03, -3.0750351e-03,\n",
              "        3.4977261e-03,  3.8698846e-03,  1.1523967e-05, -7.9817424e-04,\n",
              "       -9.8081178e-04, -6.5941754e-04,  3.6857531e-03,  1.8007723e-03,\n",
              "       -3.5935326e-03,  8.7241642e-04,  2.1519305e-03,  7.8647648e-04,\n",
              "        2.5885284e-03, -3.3315565e-03,  2.1760042e-03,  1.0614576e-04,\n",
              "        3.7149698e-03, -4.3622749e-03, -1.9445238e-03,  3.4517688e-03,\n",
              "       -6.8894285e-04,  3.2183151e-03,  3.1203970e-03,  4.1580694e-03,\n",
              "        4.4305287e-03,  7.1565842e-04,  1.2416289e-03, -6.2982825e-04],\n",
              "      dtype=float32)"
            ]
          },
          "metadata": {
            "tags": []
          },
          "execution_count": 21
        }
      ]
    },
    {
      "cell_type": "markdown",
      "metadata": {
        "id": "conqAPUY9DL1"
      },
      "source": [
        "# Most similar words"
      ]
    },
    {
      "cell_type": "code",
      "metadata": {
        "colab": {
          "base_uri": "https://localhost:8080/"
        },
        "id": "B2xW86hM8-JL",
        "outputId": "53091aae-416a-459c-cba1-a59cd4eaf915"
      },
      "source": [
        "similar = model.wv.most_similar('vikram')\r\n",
        "similar"
      ],
      "execution_count": 22,
      "outputs": [
        {
          "output_type": "stream",
          "text": [
            "/usr/local/lib/python3.6/dist-packages/gensim/matutils.py:737: FutureWarning: Conversion of the second argument of issubdtype from `int` to `np.signedinteger` is deprecated. In future, it will be treated as `np.int64 == np.dtype(int).type`.\n",
            "  if np.issubdtype(vec.dtype, np.int):\n"
          ],
          "name": "stderr"
        },
        {
          "output_type": "execute_result",
          "data": {
            "text/plain": [
              "[('milestones', 0.2210623174905777),\n",
              " ('way', 0.20617623627185822),\n",
              " ('protect', 0.19461646676063538),\n",
              " ('.', 0.18216466903686523),\n",
              " ('lucky', 0.1538759469985962),\n",
              " ('good', 0.143328458070755),\n",
              " ('strong', 0.1431763470172882),\n",
              " ('developing', 0.13624800741672516),\n",
              " ('third', 0.13506855070590973),\n",
              " ('strength', 0.13346357643604279)]"
            ]
          },
          "metadata": {
            "tags": []
          },
          "execution_count": 22
        }
      ]
    },
    {
      "cell_type": "code",
      "metadata": {
        "colab": {
          "base_uri": "https://localhost:8080/"
        },
        "id": "vdyJ4JOt9Hmi",
        "outputId": "4fe80998-920a-41a8-d1bb-324e6fd5eef3"
      },
      "source": [
        "similar = model.wv.most_similar('war')\r\n",
        "similar"
      ],
      "execution_count": 24,
      "outputs": [
        {
          "output_type": "stream",
          "text": [
            "/usr/local/lib/python3.6/dist-packages/gensim/matutils.py:737: FutureWarning: Conversion of the second argument of issubdtype from `int` to `np.signedinteger` is deprecated. In future, it will be treated as `np.int64 == np.dtype(int).type`.\n",
            "  if np.issubdtype(vec.dtype, np.int):\n"
          ],
          "name": "stderr"
        },
        {
          "output_type": "execute_result",
          "data": {
            "text/plain": [
              "[('go', 0.25432199239730835),\n",
              " ('worked', 0.22789427638053894),\n",
              " ('must', 0.21268701553344727),\n",
              " ('land', 0.20810772478580475),\n",
              " ('today', 0.1945050209760666),\n",
              " ('believe', 0.171492800116539),\n",
              " ('closely', 0.16809727251529694),\n",
              " ('hand-in-hand', 0.1613934338092804),\n",
              " ('dept', 0.1609729677438736),\n",
              " ('invaded', 0.15668895840644836)]"
            ]
          },
          "metadata": {
            "tags": []
          },
          "execution_count": 24
        }
      ]
    },
    {
      "cell_type": "markdown",
      "metadata": {
        "id": "au5Be6eq-bAQ"
      },
      "source": [
        "--"
      ]
    }
  ]
}
