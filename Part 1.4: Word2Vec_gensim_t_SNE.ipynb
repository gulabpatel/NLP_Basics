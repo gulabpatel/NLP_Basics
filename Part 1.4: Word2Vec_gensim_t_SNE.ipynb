{
  "nbformat": 4,
  "nbformat_minor": 0,
  "metadata": {
    "kernelspec": {
      "display_name": "Python 3",
      "language": "python",
      "name": "python3"
    },
    "language_info": {
      "codemirror_mode": {
        "name": "ipython",
        "version": 3
      },
      "file_extension": ".py",
      "mimetype": "text/x-python",
      "name": "python",
      "nbconvert_exporter": "python",
      "pygments_lexer": "ipython3",
      "version": "3.6.10"
    },
    "colab": {
      "name": "Part 1.4: Word2Vec_gensim_t-SNE.ipynb",
      "provenance": [],
      "include_colab_link": true
    }
  },
  "cells": [
    {
      "cell_type": "markdown",
      "metadata": {
        "id": "view-in-github",
        "colab_type": "text"
      },
      "source": [
        "<a href=\"https://colab.research.google.com/github/gulabpatel/NLP_Basics/blob/main/Part%201.4%3A%20Word2Vec_gensim_t_SNE.ipynb\" target=\"_parent\"><img src=\"https://colab.research.google.com/assets/colab-badge.svg\" alt=\"Open In Colab\"/></a>"
      ]
    },
    {
      "cell_type": "markdown",
      "metadata": {
        "id": "zfwRFJoX8KS7"
      },
      "source": [
        "Arxiv : https://arxiv.org/pdf/1301.3781.pdf\n",
        "\n",
        "Paper : https://papers.nips.cc/paper/2013/file/9aa42b31882ec039965f3c4923ce901b-Paper.pdf\n",
        "\n",
        "Code walkthrough video : https://www.youtube.com/watch?v=MtM9QrCjuK4\n"
      ]
    },
    {
      "cell_type": "code",
      "metadata": {
        "id": "mvz21oZR7ckt",
        "colab": {
          "base_uri": "https://localhost:8080/"
        },
        "outputId": "ba1e4f44-9bf7-4688-e727-bfc868a0278e"
      },
      "source": [
        "import gensim.downloader as api\n",
        "wv = api.load('word2vec-google-news-300')"
      ],
      "execution_count": 1,
      "outputs": [
        {
          "output_type": "stream",
          "text": [
            "[==================================================] 100.0% 1662.8/1662.8MB downloaded\n"
          ],
          "name": "stdout"
        }
      ]
    },
    {
      "cell_type": "code",
      "metadata": {
        "id": "SJJXcYY17ckv",
        "colab": {
          "base_uri": "https://localhost:8080/"
        },
        "outputId": "543a3328-44f1-4723-ed8b-0955f8acbcca"
      },
      "source": [
        "for i, word in enumerate(wv.vocab):\n",
        "    if i == 10:\n",
        "        break\n",
        "    print(word)"
      ],
      "execution_count": 2,
      "outputs": [
        {
          "output_type": "stream",
          "text": [
            "</s>\n",
            "in\n",
            "for\n",
            "that\n",
            "is\n",
            "on\n",
            "##\n",
            "The\n",
            "with\n",
            "said\n"
          ],
          "name": "stdout"
        }
      ]
    },
    {
      "cell_type": "code",
      "metadata": {
        "id": "NMSoCIYl7ckw",
        "colab": {
          "base_uri": "https://localhost:8080/"
        },
        "outputId": "d83b0918-4e8a-4886-add4-7d7125d756b5"
      },
      "source": [
        "vec_king = wv['king']\n",
        "print(vec_king)"
      ],
      "execution_count": 3,
      "outputs": [
        {
          "output_type": "stream",
          "text": [
            "[ 1.25976562e-01  2.97851562e-02  8.60595703e-03  1.39648438e-01\n",
            " -2.56347656e-02 -3.61328125e-02  1.11816406e-01 -1.98242188e-01\n",
            "  5.12695312e-02  3.63281250e-01 -2.42187500e-01 -3.02734375e-01\n",
            " -1.77734375e-01 -2.49023438e-02 -1.67968750e-01 -1.69921875e-01\n",
            "  3.46679688e-02  5.21850586e-03  4.63867188e-02  1.28906250e-01\n",
            "  1.36718750e-01  1.12792969e-01  5.95703125e-02  1.36718750e-01\n",
            "  1.01074219e-01 -1.76757812e-01 -2.51953125e-01  5.98144531e-02\n",
            "  3.41796875e-01 -3.11279297e-02  1.04492188e-01  6.17675781e-02\n",
            "  1.24511719e-01  4.00390625e-01 -3.22265625e-01  8.39843750e-02\n",
            "  3.90625000e-02  5.85937500e-03  7.03125000e-02  1.72851562e-01\n",
            "  1.38671875e-01 -2.31445312e-01  2.83203125e-01  1.42578125e-01\n",
            "  3.41796875e-01 -2.39257812e-02 -1.09863281e-01  3.32031250e-02\n",
            " -5.46875000e-02  1.53198242e-02 -1.62109375e-01  1.58203125e-01\n",
            " -2.59765625e-01  2.01416016e-02 -1.63085938e-01  1.35803223e-03\n",
            " -1.44531250e-01 -5.68847656e-02  4.29687500e-02 -2.46582031e-02\n",
            "  1.85546875e-01  4.47265625e-01  9.58251953e-03  1.31835938e-01\n",
            "  9.86328125e-02 -1.85546875e-01 -1.00097656e-01 -1.33789062e-01\n",
            " -1.25000000e-01  2.83203125e-01  1.23046875e-01  5.32226562e-02\n",
            " -1.77734375e-01  8.59375000e-02 -2.18505859e-02  2.05078125e-02\n",
            " -1.39648438e-01  2.51464844e-02  1.38671875e-01 -1.05468750e-01\n",
            "  1.38671875e-01  8.88671875e-02 -7.51953125e-02 -2.13623047e-02\n",
            "  1.72851562e-01  4.63867188e-02 -2.65625000e-01  8.91113281e-03\n",
            "  1.49414062e-01  3.78417969e-02  2.38281250e-01 -1.24511719e-01\n",
            " -2.17773438e-01 -1.81640625e-01  2.97851562e-02  5.71289062e-02\n",
            " -2.89306641e-02  1.24511719e-02  9.66796875e-02 -2.31445312e-01\n",
            "  5.81054688e-02  6.68945312e-02  7.08007812e-02 -3.08593750e-01\n",
            " -2.14843750e-01  1.45507812e-01 -4.27734375e-01 -9.39941406e-03\n",
            "  1.54296875e-01 -7.66601562e-02  2.89062500e-01  2.77343750e-01\n",
            " -4.86373901e-04 -1.36718750e-01  3.24218750e-01 -2.46093750e-01\n",
            " -3.03649902e-03 -2.11914062e-01  1.25000000e-01  2.69531250e-01\n",
            "  2.04101562e-01  8.25195312e-02 -2.01171875e-01 -1.60156250e-01\n",
            " -3.78417969e-02 -1.20117188e-01  1.15234375e-01 -4.10156250e-02\n",
            " -3.95507812e-02 -8.98437500e-02  6.34765625e-03  2.03125000e-01\n",
            "  1.86523438e-01  2.73437500e-01  6.29882812e-02  1.41601562e-01\n",
            " -9.81445312e-02  1.38671875e-01  1.82617188e-01  1.73828125e-01\n",
            "  1.73828125e-01 -2.37304688e-01  1.78710938e-01  6.34765625e-02\n",
            "  2.36328125e-01 -2.08984375e-01  8.74023438e-02 -1.66015625e-01\n",
            " -7.91015625e-02  2.43164062e-01 -8.88671875e-02  1.26953125e-01\n",
            " -2.16796875e-01 -1.73828125e-01 -3.59375000e-01 -8.25195312e-02\n",
            " -6.49414062e-02  5.07812500e-02  1.35742188e-01 -7.47070312e-02\n",
            " -1.64062500e-01  1.15356445e-02  4.45312500e-01 -2.15820312e-01\n",
            " -1.11328125e-01 -1.92382812e-01  1.70898438e-01 -1.25000000e-01\n",
            "  2.65502930e-03  1.92382812e-01 -1.74804688e-01  1.39648438e-01\n",
            "  2.92968750e-01  1.13281250e-01  5.95703125e-02 -6.39648438e-02\n",
            "  9.96093750e-02 -2.72216797e-02  1.96533203e-02  4.27246094e-02\n",
            " -2.46093750e-01  6.39648438e-02 -2.25585938e-01 -1.68945312e-01\n",
            "  2.89916992e-03  8.20312500e-02  3.41796875e-01  4.32128906e-02\n",
            "  1.32812500e-01  1.42578125e-01  7.61718750e-02  5.98144531e-02\n",
            " -1.19140625e-01  2.74658203e-03 -6.29882812e-02 -2.72216797e-02\n",
            " -4.82177734e-03 -8.20312500e-02 -2.49023438e-02 -4.00390625e-01\n",
            " -1.06933594e-01  4.24804688e-02  7.76367188e-02 -1.16699219e-01\n",
            "  7.37304688e-02 -9.22851562e-02  1.07910156e-01  1.58203125e-01\n",
            "  4.24804688e-02  1.26953125e-01  3.61328125e-02  2.67578125e-01\n",
            " -1.01074219e-01 -3.02734375e-01 -5.76171875e-02  5.05371094e-02\n",
            "  5.26428223e-04 -2.07031250e-01 -1.38671875e-01 -8.97216797e-03\n",
            " -2.78320312e-02 -1.41601562e-01  2.07031250e-01 -1.58203125e-01\n",
            "  1.27929688e-01  1.49414062e-01 -2.24609375e-02 -8.44726562e-02\n",
            "  1.22558594e-01  2.15820312e-01 -2.13867188e-01 -3.12500000e-01\n",
            " -3.73046875e-01  4.08935547e-03  1.07421875e-01  1.06933594e-01\n",
            "  7.32421875e-02  8.97216797e-03 -3.88183594e-02 -1.29882812e-01\n",
            "  1.49414062e-01 -2.14843750e-01 -1.83868408e-03  9.91210938e-02\n",
            "  1.57226562e-01 -1.14257812e-01 -2.05078125e-01  9.91210938e-02\n",
            "  3.69140625e-01 -1.97265625e-01  3.54003906e-02  1.09375000e-01\n",
            "  1.31835938e-01  1.66992188e-01  2.35351562e-01  1.04980469e-01\n",
            " -4.96093750e-01 -1.64062500e-01 -1.56250000e-01 -5.22460938e-02\n",
            "  1.03027344e-01  2.43164062e-01 -1.88476562e-01  5.07812500e-02\n",
            " -9.37500000e-02 -6.68945312e-02  2.27050781e-02  7.61718750e-02\n",
            "  2.89062500e-01  3.10546875e-01 -5.37109375e-02  2.28515625e-01\n",
            "  2.51464844e-02  6.78710938e-02 -1.21093750e-01 -2.15820312e-01\n",
            " -2.73437500e-01 -3.07617188e-02 -3.37890625e-01  1.53320312e-01\n",
            "  2.33398438e-01 -2.08007812e-01  3.73046875e-01  8.20312500e-02\n",
            "  2.51953125e-01 -7.61718750e-02 -4.66308594e-02 -2.23388672e-02\n",
            "  2.99072266e-02 -5.93261719e-02 -4.66918945e-03 -2.44140625e-01\n",
            " -2.09960938e-01 -2.87109375e-01 -4.54101562e-02 -1.77734375e-01\n",
            " -2.79296875e-01 -8.59375000e-02  9.13085938e-02  2.51953125e-01]\n"
          ],
          "name": "stdout"
        }
      ]
    },
    {
      "cell_type": "code",
      "metadata": {
        "id": "WBuJa04I7ckx",
        "colab": {
          "base_uri": "https://localhost:8080/"
        },
        "outputId": "51b9de4c-8846-46ad-db18-65191f9632b6"
      },
      "source": [
        "pairs = [\n",
        "    ('car', 'minivan'),   # a minivan is a kind of car\n",
        "    ('car', 'bicycle'),   # still a wheeled vehicle\n",
        "    ('car', 'airplane'),  # ok, no wheels, but still a vehicle\n",
        "    ('car', 'cereal'),    # ... and so on\n",
        "    ('car', 'communism'),\n",
        "]\n",
        "for w1, w2 in pairs:\n",
        "    print('%r\\t%r\\t%.2f' % (w1, w2, wv.similarity(w1, w2)))"
      ],
      "execution_count": 5,
      "outputs": [
        {
          "output_type": "stream",
          "text": [
            "'car'\t'minivan'\t0.69\n",
            "'car'\t'bicycle'\t0.54\n",
            "'car'\t'airplane'\t0.42\n",
            "'car'\t'cereal'\t0.14\n",
            "'car'\t'communism'\t0.06\n"
          ],
          "name": "stdout"
        }
      ]
    },
    {
      "cell_type": "code",
      "metadata": {
        "id": "R0b1qUso7cky",
        "colab": {
          "base_uri": "https://localhost:8080/"
        },
        "outputId": "0ccdeaef-764f-4464-f79c-8fb0722859ae"
      },
      "source": [
        "print(wv.most_similar(positive=['car', 'minivan'], topn=5))"
      ],
      "execution_count": 6,
      "outputs": [
        {
          "output_type": "stream",
          "text": [
            "[('SUV', 0.853219211101532), ('vehicle', 0.8175784349441528), ('pickup_truck', 0.7763689160346985), ('Jeep', 0.7567334175109863), ('Ford_Explorer', 0.756571888923645)]\n"
          ],
          "name": "stdout"
        }
      ]
    },
    {
      "cell_type": "code",
      "metadata": {
        "id": "zTcEA-9Z7ckz",
        "colab": {
          "base_uri": "https://localhost:8080/"
        },
        "outputId": "0ae77a30-3fa8-4e9d-b900-646af81cd7b8"
      },
      "source": [
        "print(wv.doesnt_match(['fire', 'water', 'land', 'sea', 'air', 'car']))"
      ],
      "execution_count": 7,
      "outputs": [
        {
          "output_type": "stream",
          "text": [
            "car\n"
          ],
          "name": "stdout"
        },
        {
          "output_type": "stream",
          "text": [
            "/usr/local/lib/python3.7/dist-packages/gensim/models/keyedvectors.py:895: FutureWarning: arrays to stack must be passed as a \"sequence\" type such as list or tuple. Support for non-sequence iterables such as generators is deprecated as of NumPy 1.16 and will raise an error in the future.\n",
            "  vectors = vstack(self.word_vec(word, use_norm=True) for word in used_words).astype(REAL)\n"
          ],
          "name": "stderr"
        }
      ]
    },
    {
      "cell_type": "code",
      "metadata": {
        "id": "R7jIcB2u7ck1"
      },
      "source": [
        "import json\n",
        "import pandas as pd\n",
        "import string\n",
        "import time\n",
        "from fastai import *\n",
        "from fastai.vision import *"
      ],
      "execution_count": 8,
      "outputs": []
    },
    {
      "cell_type": "code",
      "metadata": {
        "colab": {
          "base_uri": "https://localhost:8080/",
          "height": 708
        },
        "id": "t-PPmb6YCKMV",
        "outputId": "56db0cde-1822-470b-c5c8-e26a77cbf5db"
      },
      "source": [
        "data = pd.read_csv('https://raw.githubusercontent.com/gulabpatel/NLP_Basics/master/Dataset/Amazon_cell_phone_reviews.csv')\n",
        "data"
      ],
      "execution_count": 16,
      "outputs": [
        {
          "output_type": "execute_result",
          "data": {
            "text/html": [
              "<div>\n",
              "<style scoped>\n",
              "    .dataframe tbody tr th:only-of-type {\n",
              "        vertical-align: middle;\n",
              "    }\n",
              "\n",
              "    .dataframe tbody tr th {\n",
              "        vertical-align: top;\n",
              "    }\n",
              "\n",
              "    .dataframe thead th {\n",
              "        text-align: right;\n",
              "    }\n",
              "</style>\n",
              "<table border=\"1\" class=\"dataframe\">\n",
              "  <thead>\n",
              "    <tr style=\"text-align: right;\">\n",
              "      <th></th>\n",
              "      <th>asin</th>\n",
              "      <th>name</th>\n",
              "      <th>rating</th>\n",
              "      <th>date</th>\n",
              "      <th>verified</th>\n",
              "      <th>title</th>\n",
              "      <th>body</th>\n",
              "      <th>helpfulVotes</th>\n",
              "    </tr>\n",
              "  </thead>\n",
              "  <tbody>\n",
              "    <tr>\n",
              "      <th>0</th>\n",
              "      <td>B0000SX2UC</td>\n",
              "      <td>Janet</td>\n",
              "      <td>3</td>\n",
              "      <td>October 11, 2005</td>\n",
              "      <td>False</td>\n",
              "      <td>Def not best, but not worst</td>\n",
              "      <td>I had the Samsung A600 for awhile which is abs...</td>\n",
              "      <td>1.0</td>\n",
              "    </tr>\n",
              "    <tr>\n",
              "      <th>1</th>\n",
              "      <td>B0000SX2UC</td>\n",
              "      <td>Luke Wyatt</td>\n",
              "      <td>1</td>\n",
              "      <td>January 7, 2004</td>\n",
              "      <td>False</td>\n",
              "      <td>Text Messaging Doesn't Work</td>\n",
              "      <td>Due to a software issue between Nokia and Spri...</td>\n",
              "      <td>17.0</td>\n",
              "    </tr>\n",
              "    <tr>\n",
              "      <th>2</th>\n",
              "      <td>B0000SX2UC</td>\n",
              "      <td>Brooke</td>\n",
              "      <td>5</td>\n",
              "      <td>December 30, 2003</td>\n",
              "      <td>False</td>\n",
              "      <td>Love This Phone</td>\n",
              "      <td>This is a great, reliable phone. I also purcha...</td>\n",
              "      <td>5.0</td>\n",
              "    </tr>\n",
              "    <tr>\n",
              "      <th>3</th>\n",
              "      <td>B0000SX2UC</td>\n",
              "      <td>amy m. teague</td>\n",
              "      <td>3</td>\n",
              "      <td>March 18, 2004</td>\n",
              "      <td>False</td>\n",
              "      <td>Love the Phone, BUT...!</td>\n",
              "      <td>I love the phone and all, because I really did...</td>\n",
              "      <td>1.0</td>\n",
              "    </tr>\n",
              "    <tr>\n",
              "      <th>4</th>\n",
              "      <td>B0000SX2UC</td>\n",
              "      <td>tristazbimmer</td>\n",
              "      <td>4</td>\n",
              "      <td>August 28, 2005</td>\n",
              "      <td>False</td>\n",
              "      <td>Great phone service and options, lousy case!</td>\n",
              "      <td>The phone has been great for every purpose it ...</td>\n",
              "      <td>1.0</td>\n",
              "    </tr>\n",
              "    <tr>\n",
              "      <th>...</th>\n",
              "      <td>...</td>\n",
              "      <td>...</td>\n",
              "      <td>...</td>\n",
              "      <td>...</td>\n",
              "      <td>...</td>\n",
              "      <td>...</td>\n",
              "      <td>...</td>\n",
              "      <td>...</td>\n",
              "    </tr>\n",
              "    <tr>\n",
              "      <th>67981</th>\n",
              "      <td>B081H6STQQ</td>\n",
              "      <td>jande</td>\n",
              "      <td>5</td>\n",
              "      <td>August 16, 2019</td>\n",
              "      <td>False</td>\n",
              "      <td>Awesome Phone, but finger scanner is a big mis...</td>\n",
              "      <td>I love the camera on this phone. The screen is...</td>\n",
              "      <td>1.0</td>\n",
              "    </tr>\n",
              "    <tr>\n",
              "      <th>67982</th>\n",
              "      <td>B081H6STQQ</td>\n",
              "      <td>2cool4u</td>\n",
              "      <td>5</td>\n",
              "      <td>September 14, 2019</td>\n",
              "      <td>False</td>\n",
              "      <td>Simply Amazing!</td>\n",
              "      <td>I've been an Xperia user for several years and...</td>\n",
              "      <td>1.0</td>\n",
              "    </tr>\n",
              "    <tr>\n",
              "      <th>67983</th>\n",
              "      <td>B081H6STQQ</td>\n",
              "      <td>simon</td>\n",
              "      <td>5</td>\n",
              "      <td>July 14, 2019</td>\n",
              "      <td>False</td>\n",
              "      <td>great phon3, but many bugs need to fix. still ...</td>\n",
              "      <td>buy one more for my cousin</td>\n",
              "      <td>NaN</td>\n",
              "    </tr>\n",
              "    <tr>\n",
              "      <th>67984</th>\n",
              "      <td>B081TJFVCJ</td>\n",
              "      <td>Tobiasz Jedrysiak</td>\n",
              "      <td>5</td>\n",
              "      <td>December 24, 2019</td>\n",
              "      <td>True</td>\n",
              "      <td>Phone is like new</td>\n",
              "      <td>Product looks and works like new. Very much re...</td>\n",
              "      <td>NaN</td>\n",
              "    </tr>\n",
              "    <tr>\n",
              "      <th>67985</th>\n",
              "      <td>B0825BB7SG</td>\n",
              "      <td>Owen Gonzalez</td>\n",
              "      <td>5</td>\n",
              "      <td>December 11, 2019</td>\n",
              "      <td>False</td>\n",
              "      <td>Outstanding phone for the price</td>\n",
              "      <td>I love the size and style of this phone. It is...</td>\n",
              "      <td>NaN</td>\n",
              "    </tr>\n",
              "  </tbody>\n",
              "</table>\n",
              "<p>67986 rows × 8 columns</p>\n",
              "</div>"
            ],
            "text/plain": [
              "             asin  ... helpfulVotes\n",
              "0      B0000SX2UC  ...          1.0\n",
              "1      B0000SX2UC  ...         17.0\n",
              "2      B0000SX2UC  ...          5.0\n",
              "3      B0000SX2UC  ...          1.0\n",
              "4      B0000SX2UC  ...          1.0\n",
              "...           ...  ...          ...\n",
              "67981  B081H6STQQ  ...          1.0\n",
              "67982  B081H6STQQ  ...          1.0\n",
              "67983  B081H6STQQ  ...          NaN\n",
              "67984  B081TJFVCJ  ...          NaN\n",
              "67985  B0825BB7SG  ...          NaN\n",
              "\n",
              "[67986 rows x 8 columns]"
            ]
          },
          "metadata": {
            "tags": []
          },
          "execution_count": 16
        }
      ]
    },
    {
      "cell_type": "code",
      "metadata": {
        "id": "K3DhpzsV7ck4"
      },
      "source": [
        "df=data\n",
        "df = df.drop(columns=['name', 'helpfulVotes','date','title','verified'])\n",
        "df1 = df.rename(columns = {'body': 'reviewText', 'asin': 'productID'}, inplace = False)"
      ],
      "execution_count": 19,
      "outputs": []
    },
    {
      "cell_type": "code",
      "metadata": {
        "id": "380rtZGL7ck5",
        "colab": {
          "base_uri": "https://localhost:8080/",
          "height": 204
        },
        "outputId": "cf86145b-761a-4e41-90da-92150e8358f0"
      },
      "source": [
        "df1.dropna(axis = 0, how ='any',inplace=True) \n",
        "df1.drop_duplicates(subset=['rating','reviewText'],keep='first',inplace=True)\n",
        "df1.head()"
      ],
      "execution_count": 20,
      "outputs": [
        {
          "output_type": "execute_result",
          "data": {
            "text/html": [
              "<div>\n",
              "<style scoped>\n",
              "    .dataframe tbody tr th:only-of-type {\n",
              "        vertical-align: middle;\n",
              "    }\n",
              "\n",
              "    .dataframe tbody tr th {\n",
              "        vertical-align: top;\n",
              "    }\n",
              "\n",
              "    .dataframe thead th {\n",
              "        text-align: right;\n",
              "    }\n",
              "</style>\n",
              "<table border=\"1\" class=\"dataframe\">\n",
              "  <thead>\n",
              "    <tr style=\"text-align: right;\">\n",
              "      <th></th>\n",
              "      <th>productID</th>\n",
              "      <th>rating</th>\n",
              "      <th>reviewText</th>\n",
              "    </tr>\n",
              "  </thead>\n",
              "  <tbody>\n",
              "    <tr>\n",
              "      <th>0</th>\n",
              "      <td>B0000SX2UC</td>\n",
              "      <td>3</td>\n",
              "      <td>I had the Samsung A600 for awhile which is abs...</td>\n",
              "    </tr>\n",
              "    <tr>\n",
              "      <th>1</th>\n",
              "      <td>B0000SX2UC</td>\n",
              "      <td>1</td>\n",
              "      <td>Due to a software issue between Nokia and Spri...</td>\n",
              "    </tr>\n",
              "    <tr>\n",
              "      <th>2</th>\n",
              "      <td>B0000SX2UC</td>\n",
              "      <td>5</td>\n",
              "      <td>This is a great, reliable phone. I also purcha...</td>\n",
              "    </tr>\n",
              "    <tr>\n",
              "      <th>3</th>\n",
              "      <td>B0000SX2UC</td>\n",
              "      <td>3</td>\n",
              "      <td>I love the phone and all, because I really did...</td>\n",
              "    </tr>\n",
              "    <tr>\n",
              "      <th>4</th>\n",
              "      <td>B0000SX2UC</td>\n",
              "      <td>4</td>\n",
              "      <td>The phone has been great for every purpose it ...</td>\n",
              "    </tr>\n",
              "  </tbody>\n",
              "</table>\n",
              "</div>"
            ],
            "text/plain": [
              "    productID  rating                                         reviewText\n",
              "0  B0000SX2UC       3  I had the Samsung A600 for awhile which is abs...\n",
              "1  B0000SX2UC       1  Due to a software issue between Nokia and Spri...\n",
              "2  B0000SX2UC       5  This is a great, reliable phone. I also purcha...\n",
              "3  B0000SX2UC       3  I love the phone and all, because I really did...\n",
              "4  B0000SX2UC       4  The phone has been great for every purpose it ..."
            ]
          },
          "metadata": {
            "tags": []
          },
          "execution_count": 20
        }
      ]
    },
    {
      "cell_type": "code",
      "metadata": {
        "id": "-3IPtujk7ck6"
      },
      "source": [
        "def clean_text(text ): \n",
        "    delete_dict = {sp_character: ' ' for sp_character in string.punctuation} \n",
        "    delete_dict[' '] = ' ' \n",
        "    table = str.maketrans(delete_dict)\n",
        "    text1 = text.translate(table)\n",
        "    #print('cleaned:'+text1)\n",
        "    textArr= text1.split()\n",
        "    text2 = ' '.join([w for w in textArr if ( not w.isdigit() and  ( not w.isdigit() and len(w)>2))]) \n",
        "    \n",
        "    return text2.lower().split(' ')"
      ],
      "execution_count": 21,
      "outputs": []
    },
    {
      "cell_type": "code",
      "metadata": {
        "id": "9DnuD34r7ck7"
      },
      "source": [
        "df2 = df1.sample(n=20000)\n",
        "df2['reviewText']= df2['reviewText'].apply(clean_text)"
      ],
      "execution_count": 22,
      "outputs": []
    },
    {
      "cell_type": "code",
      "metadata": {
        "id": "j72ot4mV7ck7"
      },
      "source": [
        "sentences = df2['reviewText'].tolist()"
      ],
      "execution_count": 24,
      "outputs": []
    },
    {
      "cell_type": "code",
      "metadata": {
        "id": "CUuku1jf7ck8",
        "colab": {
          "base_uri": "https://localhost:8080/"
        },
        "outputId": "a5ecebe3-524a-4818-eacf-9db1268f7c4c"
      },
      "source": [
        "print(len(sentences))\n",
        "print(sentences[1])\n",
        "print(sentences[200])"
      ],
      "execution_count": 25,
      "outputs": [
        {
          "output_type": "stream",
          "text": [
            "20000\n",
            "['phone', 'works', 'well', 'but', 'was', 'very', 'very', 'disappointed', 'packing', 'and', 'low', 'quality', 'charger', 'phone', 'was', 'not', 'cleaned', 'properly', 'was', 'having', 'dust', 'near', 'home', 'button']\n",
            "['this', 'phone', 'will', 'not', 'work', 'with', 'sprint', 'boost', 'mobile', 'phone', 'and', 'will', 'not', 'work', 'with', 'sprint', 'post', 'paid', 'accounts', 'even', 'contacted', 'the', 'seller', 'about', 'the', 'phone', 'had', 'confused', 'the', 'type', 'phone', 'was', 'selling', 'very', 'disappointed', 'ordered', 'for', 'son', 'picked', 'saturday', 'from', 'his', 'apartment', 'comples', 'just', 'arrived', 'home', 'today', 'and', 'found', 'out', 'boost', 'mobile', 'phone', 'which', 'will', 'not', 'work', 'with', 'sorint', 'accounts', 'very', 'disappointed', 'much', 'for', 'the', 'marketplace']\n"
          ],
          "name": "stdout"
        }
      ]
    },
    {
      "cell_type": "code",
      "metadata": {
        "id": "RpdLfmb87ck8"
      },
      "source": [
        "import gensim"
      ],
      "execution_count": 26,
      "outputs": []
    },
    {
      "cell_type": "code",
      "metadata": {
        "id": "6BIyeGoH7ck9"
      },
      "source": [
        "from gensim.models.callbacks import CallbackAny2Vec\n",
        "from gensim.models import Word2Vec\n",
        "\n",
        "# init callback class\n",
        "class callback(CallbackAny2Vec):\n",
        "    \"\"\"\n",
        "    Callback to print loss after each epoch\n",
        "    \"\"\"\n",
        "    def __init__(self):\n",
        "        self.epoch = 0\n",
        "\n",
        "    def on_epoch_end(self, model):\n",
        "        loss = model.get_latest_training_loss()\n",
        "        \n",
        "        if self.epoch == 0:\n",
        "            print('Loss after epoch {}: {}'.format(self.epoch, loss))\n",
        "        elif self.epoch % 100 == 0:\n",
        "            print('Loss after epoch {}: {}'.format(self.epoch, loss- self.loss_previous_step))\n",
        "        \n",
        "        \n",
        "        self.epoch += 1\n",
        "        self.loss_previous_step = loss"
      ],
      "execution_count": 27,
      "outputs": []
    },
    {
      "cell_type": "code",
      "metadata": {
        "id": "jt3IyPDq7ck-"
      },
      "source": [
        "# init word2vec class\n",
        "w2v_model = Word2Vec(size = 300,\n",
        "                     window = 15,\n",
        "                     min_count = 2,\n",
        "                     workers = 20,\n",
        "                     sg = 1,\n",
        "                     negative = 5,\n",
        "                     sample = 1e-5)\n",
        "# build vovab\n",
        "\n",
        "\n",
        "w2v_model.build_vocab(sentences)\n",
        "\n",
        "  \n",
        "# train the w2v model\n",
        "start = time.time()\n",
        "w2v_model.train(sentences, \n",
        "                total_examples=w2v_model.corpus_count, \n",
        "                epochs=1001, \n",
        "                report_delay=1,\n",
        "                compute_loss = True, # set compute_loss = True\n",
        "                callbacks=[callback()]) # add the callback class\n",
        "end = time.time()\n",
        "\n",
        "\n",
        "print(\"elapsedtime in seconds :\"+ str(end - start))\n",
        "# save the word2vec model"
      ],
      "execution_count": null,
      "outputs": []
    },
    {
      "cell_type": "code",
      "metadata": {
        "id": "NFOhnETnW7Ew"
      },
      "source": [
        "w2v_model.save('word2vec.model')"
      ],
      "execution_count": 29,
      "outputs": []
    },
    {
      "cell_type": "markdown",
      "metadata": {
        "id": "6oy7ZXpL7clA"
      },
      "source": [
        "***\n",
        "Let us reload our word2vec model and perform operations using it\n",
        "***"
      ]
    },
    {
      "cell_type": "code",
      "metadata": {
        "id": "YSpP3NyA7clA",
        "colab": {
          "base_uri": "https://localhost:8080/"
        },
        "outputId": "b76578b2-cfc5-4f70-b288-c41f2bcd3355"
      },
      "source": [
        "reloaded_w2v_model = Word2Vec.load('/content/word2vec.model')\n",
        "words = list(reloaded_w2v_model.wv.vocab)\n",
        "print('Vocab size: '+str(len(words)))\n",
        "w1 = 'cancellation'\n",
        "print(\"Top 3 words similar to cancellation:\",\\\n",
        "      reloaded_w2v_model.wv.most_similar(positive = w1,topn =3))\n",
        "w1 = 'poor'\n",
        "print(\"Top 3 words similar to poor:\",\\\n",
        "      reloaded_w2v_model.wv.most_similar(positive = w1,topn =3))\n",
        "print(\"Similarity between earphones and headphones:\"+\\\n",
        "      str(reloaded_w2v_model.wv.similarity(w1=\"earphones\",w2=\"headphones\")))\n",
        "print(\"Similarity between charger and charge:\"+\\\n",
        "      str(reloaded_w2v_model.wv.similarity(w1=\"charger\",w2=\"charge\")))"
      ],
      "execution_count": 31,
      "outputs": [
        {
          "output_type": "stream",
          "text": [
            "Vocab size: 11145\n",
            "Top 3 words similar to cancellation: [('declared', 0.5914719700813293), ('enhancing', 0.5022028088569641), ('wlan', 0.47891634702682495)]\n",
            "Top 3 words similar to poor: [('orlando', 0.36951470375061035), ('antena', 0.36393311619758606), ('quality', 0.3365371823310852)]\n",
            "Similarity between earphones and headphones:0.16372164\n",
            "Similarity between charger and charge:0.6349773\n"
          ],
          "name": "stdout"
        }
      ]
    },
    {
      "cell_type": "markdown",
      "metadata": {
        "id": "VnRciuH-7clB"
      },
      "source": [
        "***\n",
        "Let us use TSNE to do reduce features\n",
        "Code from: https://radimrehurek.com/gensim/auto_examples/tutorials/run_word2vec.html\n",
        "***"
      ]
    },
    {
      "cell_type": "code",
      "metadata": {
        "id": "AYgN8Hyc7clD"
      },
      "source": [
        "from sklearn.manifold import TSNE                   # final reduction\n",
        "import numpy as np                                  # array handling\n",
        "\n",
        "\n",
        "def reduce_dimensions(model):\n",
        "    num_dimensions = 2  # final num dimensions (2D, 3D, etc)\n",
        "\n",
        "    vectors = [] # positions in vector space\n",
        "    labels = [] # keep track of words to label our data again later\n",
        "    for word in model.wv.vocab:\n",
        "        vectors.append(model.wv[word])\n",
        "        labels.append(word)\n",
        "\n",
        "    # convert both lists into numpy vectors for reduction\n",
        "    vectors = np.asarray(vectors)\n",
        "    #labels = np.asarray(labels)\n",
        "\n",
        "    # reduce using t-SNE\n",
        "    vectors = np.asarray(vectors)\n",
        "    tsne = TSNE(n_components=num_dimensions, random_state=0)\n",
        "    vectors = tsne.fit_transform(vectors)\n",
        "\n",
        "    x_vals = [v[0] for v in vectors]\n",
        "    y_vals = [v[1] for v in vectors]\n",
        "    return x_vals, y_vals, labels\n",
        "\n",
        "\n",
        "x_vals, y_vals, labels = reduce_dimensions(reloaded_w2v_model)"
      ],
      "execution_count": 32,
      "outputs": []
    },
    {
      "cell_type": "code",
      "metadata": {
        "id": "tqAxFjtz7clF",
        "colab": {
          "base_uri": "https://localhost:8080/",
          "height": 700
        },
        "outputId": "d0808244-ff24-4609-f279-92841cc69d96"
      },
      "source": [
        "def plot_with_matplotlib(x_vals, y_vals, labels):\n",
        "    import matplotlib.pyplot as plt\n",
        "    import random\n",
        "\n",
        "    random.seed(0)\n",
        "\n",
        "    plt.figure(figsize=(12, 12))\n",
        "    plt.scatter(x_vals, y_vals)\n",
        "\n",
        "    #\n",
        "    # Label randomly subsampled 25 data points\n",
        "    #\n",
        "    \n",
        "    \n",
        "    indices = list(range(len(labels)))\n",
        "    #selected_indices = random.sample(indices, 25)\n",
        "    selected_indices=[]\n",
        "    index = labels.index(\"cell\")\n",
        "    selected_indices.append(index)\n",
        "    index = labels.index(\"phone\")\n",
        "    selected_indices.append(index)\n",
        "    index = labels.index(\"noise\")\n",
        "    selected_indices.append(index)\n",
        "    index = labels.index(\"cancellation\")\n",
        "    selected_indices.append(index)\n",
        "    index = labels.index(\"charger\")\n",
        "    selected_indices.append(index)\n",
        "    index = labels.index(\"charge\")\n",
        "    selected_indices.append(index)\n",
        "    index = labels.index(\"poor\")\n",
        "    selected_indices.append(index)\n",
        "    index = labels.index(\"bad\")\n",
        "    selected_indices.append(index)\n",
        "    \n",
        "    \n",
        "    for i in selected_indices:\n",
        "        plt.annotate(labels[i], (x_vals[i], y_vals[i]))\n",
        "\n",
        "\n",
        "\n",
        "plot_function = plot_with_matplotlib\n",
        "\n",
        "\n",
        "plot_function(x_vals, y_vals, labels)"
      ],
      "execution_count": 33,
      "outputs": [
        {
          "output_type": "display_data",
          "data": {
            "image/png": "[encoded data removed]",
            "text/plain": [
              "<Figure size 864x864 with 1 Axes>"
            ]
          },
          "metadata": {
            "tags": [],
            "needs_background": "light"
          }
        }
      ]
    }
  ]
}