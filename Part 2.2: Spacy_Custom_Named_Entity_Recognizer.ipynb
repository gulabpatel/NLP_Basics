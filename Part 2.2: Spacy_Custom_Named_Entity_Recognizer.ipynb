{
  "nbformat": 4,
  "nbformat_minor": 0,
  "metadata": {
    "colab": {
      "name": "Part 2.2: Spacy_Custom_Named_Entity_Recognizer.ipynb",
      "provenance": [],
      "include_colab_link": true
    },
    "kernelspec": {
      "name": "python3",
      "display_name": "Python 3"
    }
  },
  "cells": [
    {
      "cell_type": "markdown",
      "metadata": {
        "id": "view-in-github",
        "colab_type": "text"
      },
      "source": [
        "<a href=\"https://colab.research.google.com/github/gulabpatel/NLP_Basics/blob/main/Part%202.2%3A%20Spacy_Custom_Named_Entity_Recognizer.ipynb\" target=\"_parent\"><img src=\"https://colab.research.google.com/assets/colab-badge.svg\" alt=\"Open In Colab\"/></a>"
      ]
    },
    {
      "cell_type": "code",
      "metadata": {
        "id": "y6WGOu6XECUX"
      },
      "source": [
        "import spacy"
      ],
      "execution_count": 1,
      "outputs": []
    },
    {
      "cell_type": "code",
      "metadata": {
        "id": "kZ0Q7Gb0ELMw",
        "colab": {
          "base_uri": "https://localhost:8080/"
        },
        "outputId": "c7160565-0845-4a6f-dd9c-b022b5b7ce92"
      },
      "source": [
        "nlp=spacy.load('en_core_web_sm')\n",
        "nlp.pipe_names"
      ],
      "execution_count": 2,
      "outputs": [
        {
          "output_type": "execute_result",
          "data": {
            "text/plain": [
              "['tagger', 'parser', 'ner']"
            ]
          },
          "metadata": {
            "tags": []
          },
          "execution_count": 2
        }
      ]
    },
    {
      "cell_type": "code",
      "metadata": {
        "id": "akHZfr1eEOyt"
      },
      "source": [
        "doc = nlp(\"Australia wants to force Facebook and Google to pay media companies for news\")"
      ],
      "execution_count": 3,
      "outputs": []
    },
    {
      "cell_type": "code",
      "metadata": {
        "id": "247QhVxBF9tP",
        "colab": {
          "base_uri": "https://localhost:8080/"
        },
        "outputId": "e7cbad2b-4d41-48da-db0b-0d398898bc52"
      },
      "source": [
        "for ent in doc.ents:\n",
        "    print(ent.text, ent.start_char, ent.end_char, ent.label_)"
      ],
      "execution_count": 4,
      "outputs": [
        {
          "output_type": "stream",
          "text": [
            "Australia 0 9 GPE\n",
            "Facebook and Google 25 44 ORG\n"
          ],
          "name": "stdout"
        }
      ]
    },
    {
      "cell_type": "code",
      "metadata": {
        "id": "cT3bu1v2GC9a"
      },
      "source": [
        "doc = nlp(\"I do not have money to pay my credit card account\")"
      ],
      "execution_count": 5,
      "outputs": []
    },
    {
      "cell_type": "code",
      "metadata": {
        "id": "EUWhQQ6dGgRh"
      },
      "source": [
        "for ent in doc.ents:\n",
        "    print(ent.text, ent.start_char, ent.end_char, ent.label_)"
      ],
      "execution_count": 6,
      "outputs": []
    },
    {
      "cell_type": "code",
      "metadata": {
        "id": "pgswH8YyGig1"
      },
      "source": [
        "doc = nlp(\"what is the process to open a new savings account\")"
      ],
      "execution_count": 7,
      "outputs": []
    },
    {
      "cell_type": "code",
      "metadata": {
        "id": "EF1BOeBaGo58"
      },
      "source": [
        "for ent in doc.ents:\n",
        "    print(ent.text, ent.start_char, ent.end_char, ent.label_)"
      ],
      "execution_count": 8,
      "outputs": []
    },
    {
      "cell_type": "code",
      "metadata": {
        "id": "tWIlhDnHGsFs"
      },
      "source": [
        "train = [\n",
        "         (\"Money transfer from my checking account is not working\", {\"entities\": [(6, 13, \"ACTIVITY\"), (23, 39, 'PRODUCT')]}),\n",
        "         (\"I want to check balance in my savings account\", {\"entities\": [(16, 23, \"ACTIVITY\"), (30, 45, 'PRODUCT')]}),\n",
        "         (\"I suspect a fraud in my credit card account\", {\"entities\": [(12, 17, \"ACTIVITY\"), (24, 35, 'PRODUCT')]}),\n",
        "         (\"I am here for opening a new savings account\", {\"entities\": [(14, 21, \"ACTIVITY\"), (28, 43, 'PRODUCT')]}),\n",
        "         (\"Your mortgage is in delinquent status\", {\"entities\": [(20, 30, \"ACTIVITY\"), (5, 13, 'PRODUCT')]}),\n",
        "         (\"Your credit card is in past due status\", {\"entities\": [(23, 31, \"ACTIVITY\"), (5, 16, 'PRODUCT')]}),\n",
        "         (\"My loan account is still not approved and funded\", {\"entities\": [(25, 37, \"ACTIVITY\"), (3, 15, 'PRODUCT'), (42, 48, \"ACTIVITY\")]}),\n",
        "         (\"How do I open a new loan account\", {\"entities\": [(9, 13, \"ACTIVITY\"), (20, 32, 'PRODUCT')]}),\n",
        "         (\"What are the charges on Investment account\", {\"entities\": [(13, 20, \"ACTIVITY\"), (24, 42, 'PRODUCT')]}),\n",
        "         (\"Can you explain late charges on my credit card\", {\"entities\": [(21, 28, \"ACTIVITY\"), (35, 46, 'PRODUCT')]}),\n",
        "         (\"I want to open a new loan account\", {\"entities\": [(10, 14, \"ACTIVITY\"), (21, 33, 'PRODUCT')]}),\n",
        "         (\"Can you help updating payment on my credit card\", {\"entities\": [(22, 29, \"ACTIVITY\"), (36, 47, 'PRODUCT')]}),\n",
        "         (\"When is the payment due date on my card\", {\"entities\": [(12, 19, \"ACTIVITY\"), (35, 39, 'PRODUCT')]})\n",
        "        ]"
      ],
      "execution_count": 9,
      "outputs": []
    },
    {
      "cell_type": "code",
      "metadata": {
        "id": "wv-ewhnMQHq9",
        "colab": {
          "base_uri": "https://localhost:8080/"
        },
        "outputId": "ac7e15c0-708e-4fcd-8513-3adad7b0cf6b"
      },
      "source": [
        "nlp.pipe_names"
      ],
      "execution_count": 10,
      "outputs": [
        {
          "output_type": "execute_result",
          "data": {
            "text/plain": [
              "['tagger', 'parser', 'ner']"
            ]
          },
          "metadata": {
            "tags": []
          },
          "execution_count": 10
        }
      ]
    },
    {
      "cell_type": "code",
      "metadata": {
        "id": "-Mh-FrBRp4kr"
      },
      "source": [
        "ner=nlp.get_pipe(\"ner\")"
      ],
      "execution_count": 11,
      "outputs": []
    },
    {
      "cell_type": "code",
      "metadata": {
        "id": "rrDAdCiop7F9"
      },
      "source": [
        "for _, annotations in train:\n",
        "  for ent in annotations.get(\"entities\"):\n",
        "      ner.add_label(ent[2])"
      ],
      "execution_count": 12,
      "outputs": []
    },
    {
      "cell_type": "code",
      "metadata": {
        "id": "1FtL16XBqk20"
      },
      "source": [
        "disable_pipes = [pipe for pipe in nlp.pipe_names if pipe != 'ner']"
      ],
      "execution_count": 13,
      "outputs": []
    },
    {
      "cell_type": "code",
      "metadata": {
        "id": "BHF4BAifrFTE"
      },
      "source": [
        "import random\n",
        "from spacy.util import minibatch, compounding\n",
        "from pathlib import Path\n",
        "\n",
        "with nlp.disable_pipes(*disable_pipes):\n",
        "  optimizer = nlp.resume_training()\n",
        "\n",
        "  for iteration in range(100):\n",
        "\n",
        "    random.shuffle(train)\n",
        "    losses = {}\n",
        "\n",
        "    batches = minibatch(train, size=compounding(1.0, 4.0, 1.001))\n",
        "    for batch in batches:\n",
        "        text, annotation = zip(*batch)\n",
        "        nlp.update(\n",
        "                    text,  \n",
        "                    annotation, \n",
        "                    drop=0.5, \n",
        "                    losses=losses,\n",
        "                    sgd=optimizer\n",
        "                )\n",
        "        print(\"Losses\", losses)"
      ],
      "execution_count": null,
      "outputs": []
    },
    {
      "cell_type": "code",
      "metadata": {
        "id": "EA6TgTfCAwHy",
        "colab": {
          "base_uri": "https://localhost:8080/"
        },
        "outputId": "bd0510eb-29df-4790-d16a-1ef604d5976d"
      },
      "source": [
        "for text, _ in train:\n",
        "    doc = nlp(text)\n",
        "    print('Entities', [(ent.text, ent.label_) for ent in doc.ents])"
      ],
      "execution_count": 15,
      "outputs": [
        {
          "output_type": "stream",
          "text": [
            "Entities [('charges', 'ACTIVITY'), ('Investment account', 'PRODUCT')]\n",
            "Entities [('mortgage', 'PRODUCT'), ('delinquent', 'ACTIVITY')]\n",
            "Entities [('charges', 'ACTIVITY'), ('credit card', 'PRODUCT')]\n",
            "Entities [('loan account', 'PRODUCT'), ('not approved', 'ACTIVITY'), ('funded', 'ACTIVITY')]\n",
            "Entities [('open', 'ACTIVITY'), ('loan account', 'PRODUCT')]\n",
            "Entities [('checking account', 'PRODUCT')]\n",
            "Entities [('balance', 'ACTIVITY'), ('savings account', 'PRODUCT')]\n",
            "Entities [('payment', 'ACTIVITY'), ('credit card', 'PRODUCT')]\n",
            "Entities [('payment', 'ACTIVITY'), ('card', 'PRODUCT')]\n",
            "Entities [('credit card', 'PRODUCT'), ('past', 'ACTIVITY')]\n",
            "Entities [('fraud', 'ACTIVITY'), ('credit card', 'PRODUCT')]\n",
            "Entities [('open', 'ACTIVITY'), ('loan account', 'PRODUCT')]\n",
            "Entities [('savings account', 'PRODUCT')]\n"
          ],
          "name": "stdout"
        }
      ]
    },
    {
      "cell_type": "code",
      "metadata": {
        "id": "nVhzGDSwsD65",
        "colab": {
          "base_uri": "https://localhost:8080/",
          "height": 86
        },
        "outputId": "0d48b9ee-0ebd-4804-f4ea-ca642df60201"
      },
      "source": [
        "from spacy import displacy\n",
        "\n",
        "doc = nlp(\"what is the process to open a new savings account\")\n",
        "for ent in doc.ents:\n",
        "    print(ent.text, ent.start_char, ent.end_char, ent.label_)\n",
        "displacy.render(nlp(doc.text),style='ent', jupyter=True)    "
      ],
      "execution_count": 16,
      "outputs": [
        {
          "output_type": "stream",
          "text": [
            "open 23 27 ACTIVITY\n",
            "savings account 34 49 PRODUCT\n"
          ],
          "name": "stdout"
        },
        {
          "output_type": "display_data",
          "data": {
            "text/html": [
              "<span class=\"tex2jax_ignore\"><div class=\"entities\" style=\"line-height: 2.5; direction: ltr\">what is the process to \n",
              "<mark class=\"entity\" style=\"background: #ddd; padding: 0.45em 0.6em; margin: 0 0.25em; line-height: 1; border-radius: 0.35em;\">\n",
              "    open\n",
              "    <span style=\"font-size: 0.8em; font-weight: bold; line-height: 1; border-radius: 0.35em; text-transform: uppercase; vertical-align: middle; margin-left: 0.5rem\">ACTIVITY</span>\n",
              "</mark>\n",
              " a new \n",
              "<mark class=\"entity\" style=\"background: #bfeeb7; padding: 0.45em 0.6em; margin: 0 0.25em; line-height: 1; border-radius: 0.35em;\">\n",
              "    savings account\n",
              "    <span style=\"font-size: 0.8em; font-weight: bold; line-height: 1; border-radius: 0.35em; text-transform: uppercase; vertical-align: middle; margin-left: 0.5rem\">PRODUCT</span>\n",
              "</mark>\n",
              "</div></span>"
            ],
            "text/plain": [
              "<IPython.core.display.HTML object>"
            ]
          },
          "metadata": {
            "tags": []
          }
        }
      ]
    },
    {
      "cell_type": "code",
      "metadata": {
        "id": "mBMyBLIB-VQ7",
        "colab": {
          "base_uri": "https://localhost:8080/"
        },
        "outputId": "10366d8f-ed97-4711-af40-d60a89948854"
      },
      "source": [
        "doc = nlp(\"My credit card payment will be delayed\")\n",
        "for ent in doc.ents:\n",
        "    print(ent.text, ent.start_char, ent.end_char, ent.label_)"
      ],
      "execution_count": 17,
      "outputs": [
        {
          "output_type": "stream",
          "text": [
            "credit card 3 14 PRODUCT\n",
            "payment 15 22 ACTIVITY\n"
          ],
          "name": "stdout"
        }
      ]
    },
    {
      "cell_type": "code",
      "metadata": {
        "id": "tSHMjsQlSU7H",
        "colab": {
          "base_uri": "https://localhost:8080/",
          "height": 103
        },
        "outputId": "6997f205-bd34-406d-f409-b60ce0661676"
      },
      "source": [
        "doc = nlp(\"what are the charges on credit card late payment in Bank of America\")\n",
        "for ent in doc.ents:\n",
        "    print(ent.text, ent.start_char, ent.end_char, ent.label_)\n",
        "displacy.render(nlp(doc.text),style='ent', jupyter=True)"
      ],
      "execution_count": 18,
      "outputs": [
        {
          "output_type": "stream",
          "text": [
            "charges 13 20 ACTIVITY\n",
            "credit card 24 35 PRODUCT\n",
            "payment 41 48 ACTIVITY\n"
          ],
          "name": "stdout"
        },
        {
          "output_type": "display_data",
          "data": {
            "text/html": [
              "<span class=\"tex2jax_ignore\"><div class=\"entities\" style=\"line-height: 2.5; direction: ltr\">what are the \n",
              "<mark class=\"entity\" style=\"background: #ddd; padding: 0.45em 0.6em; margin: 0 0.25em; line-height: 1; border-radius: 0.35em;\">\n",
              "    charges\n",
              "    <span style=\"font-size: 0.8em; font-weight: bold; line-height: 1; border-radius: 0.35em; text-transform: uppercase; vertical-align: middle; margin-left: 0.5rem\">ACTIVITY</span>\n",
              "</mark>\n",
              " on \n",
              "<mark class=\"entity\" style=\"background: #bfeeb7; padding: 0.45em 0.6em; margin: 0 0.25em; line-height: 1; border-radius: 0.35em;\">\n",
              "    credit card\n",
              "    <span style=\"font-size: 0.8em; font-weight: bold; line-height: 1; border-radius: 0.35em; text-transform: uppercase; vertical-align: middle; margin-left: 0.5rem\">PRODUCT</span>\n",
              "</mark>\n",
              " late \n",
              "<mark class=\"entity\" style=\"background: #ddd; padding: 0.45em 0.6em; margin: 0 0.25em; line-height: 1; border-radius: 0.35em;\">\n",
              "    payment\n",
              "    <span style=\"font-size: 0.8em; font-weight: bold; line-height: 1; border-radius: 0.35em; text-transform: uppercase; vertical-align: middle; margin-left: 0.5rem\">ACTIVITY</span>\n",
              "</mark>\n",
              " in Bank of America</div></span>"
            ],
            "text/plain": [
              "<IPython.core.display.HTML object>"
            ]
          },
          "metadata": {
            "tags": []
          }
        }
      ]
    },
    {
      "cell_type": "code",
      "metadata": {
        "id": "wpUXh5O4Czel",
        "colab": {
          "base_uri": "https://localhost:8080/",
          "height": 103
        },
        "outputId": "f7efa88a-3b3d-4787-9b19-79220bce3e98"
      },
      "source": [
        "doc = nlp(\"I lost my investment account password and cannot open my account now\")\n",
        "for ent in doc.ents:\n",
        "    print(ent.text, ent.start_char, ent.end_char, ent.label_)\n",
        "displacy.render(nlp(doc.text),style='ent', jupyter=True)"
      ],
      "execution_count": 19,
      "outputs": [
        {
          "output_type": "stream",
          "text": [
            "investment account 10 28 PRODUCT\n",
            "open 49 53 ACTIVITY\n",
            "account now 57 68 PRODUCT\n"
          ],
          "name": "stdout"
        },
        {
          "output_type": "display_data",
          "data": {
            "text/html": [
              "<span class=\"tex2jax_ignore\"><div class=\"entities\" style=\"line-height: 2.5; direction: ltr\">I lost my \n",
              "<mark class=\"entity\" style=\"background: #bfeeb7; padding: 0.45em 0.6em; margin: 0 0.25em; line-height: 1; border-radius: 0.35em;\">\n",
              "    investment account\n",
              "    <span style=\"font-size: 0.8em; font-weight: bold; line-height: 1; border-radius: 0.35em; text-transform: uppercase; vertical-align: middle; margin-left: 0.5rem\">PRODUCT</span>\n",
              "</mark>\n",
              " password and cannot \n",
              "<mark class=\"entity\" style=\"background: #ddd; padding: 0.45em 0.6em; margin: 0 0.25em; line-height: 1; border-radius: 0.35em;\">\n",
              "    open\n",
              "    <span style=\"font-size: 0.8em; font-weight: bold; line-height: 1; border-radius: 0.35em; text-transform: uppercase; vertical-align: middle; margin-left: 0.5rem\">ACTIVITY</span>\n",
              "</mark>\n",
              " my \n",
              "<mark class=\"entity\" style=\"background: #bfeeb7; padding: 0.45em 0.6em; margin: 0 0.25em; line-height: 1; border-radius: 0.35em;\">\n",
              "    account now\n",
              "    <span style=\"font-size: 0.8em; font-weight: bold; line-height: 1; border-radius: 0.35em; text-transform: uppercase; vertical-align: middle; margin-left: 0.5rem\">PRODUCT</span>\n",
              "</mark>\n",
              "</div></span>"
            ],
            "text/plain": [
              "<IPython.core.display.HTML object>"
            ]
          },
          "metadata": {
            "tags": []
          }
        }
      ]
    },
    {
      "cell_type": "code",
      "metadata": {
        "id": "fHDymKSM-WMT",
        "colab": {
          "base_uri": "https://localhost:8080/"
        },
        "outputId": "c1e31214-871c-4d1c-e88c-d31340afbdae"
      },
      "source": [
        "doc = nlp(\"what is the status of my loan account\")\n",
        "for ent in doc.ents:\n",
        "    print(ent.text, ent.start_char, ent.end_char, ent.label_)"
      ],
      "execution_count": 20,
      "outputs": [
        {
          "output_type": "stream",
          "text": [
            "loan account 25 37 PRODUCT\n"
          ],
          "name": "stdout"
        }
      ]
    },
    {
      "cell_type": "markdown",
      "metadata": {
        "id": "_ZwmoYM-oZQN"
      },
      "source": [
        "https://explosion.ai/blog/pseudo-rehearsal-catastrophic-forgetting"
      ]
    },
    {
      "cell_type": "code",
      "metadata": {
        "id": "3lx4MlM1oZ4v"
      },
      "source": [
        "doc = nlp(\"Australia wants to force Facebook and Google to pay media companies for news\")\n",
        "for ent in doc.ents:\n",
        "    print(ent.text, ent.start_char, ent.end_char, ent.label_)"
      ],
      "execution_count": 21,
      "outputs": []
    },
    {
      "cell_type": "markdown",
      "metadata": {
        "id": "lBbI3ww3f-X4"
      },
      "source": [
        "------------------------------------------------"
      ]
    }
  ]
}