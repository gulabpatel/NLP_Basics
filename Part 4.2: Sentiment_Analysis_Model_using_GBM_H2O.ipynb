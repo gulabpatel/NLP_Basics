{
  "nbformat": 4,
  "nbformat_minor": 0,
  "metadata": {
    "colab": {
      "name": "Part 4.1: Sentiment_Analysis_Model_using_GBM/H2O.ipynb",
      "provenance": [],
      "collapsed_sections": [],
      "include_colab_link": true
    },
    "kernelspec": {
      "name": "python3",
      "display_name": "Python 3"
    },
    "widgets": {
      "application/vnd.jupyter.widget-state+json": {
        "589f4c5782cf428694f5bb451dfea5ad": {
          "model_module": "@jupyter-widgets/controls",
          "model_name": "HBoxModel",
          "state": {
            "_view_name": "HBoxView",
            "_dom_classes": [],
            "_model_name": "HBoxModel",
            "_view_module": "@jupyter-widgets/controls",
            "_model_module_version": "1.5.0",
            "_view_count": null,
            "_view_module_version": "1.5.0",
            "box_style": "",
            "layout": "IPY_MODEL_e7c9281d8c93442f90418b3903128d1f",
            "_model_module": "@jupyter-widgets/controls",
            "children": [
              "IPY_MODEL_49583ce94bf044d1bc7a7ec7dd9fa74e",
              "IPY_MODEL_70e6455d2d5247308206e5b26020d7c0"
            ]
          }
        },
        "e7c9281d8c93442f90418b3903128d1f": {
          "model_module": "@jupyter-widgets/base",
          "model_name": "LayoutModel",
          "state": {
            "_view_name": "LayoutView",
            "grid_template_rows": null,
            "right": null,
            "justify_content": null,
            "_view_module": "@jupyter-widgets/base",
            "overflow": null,
            "_model_module_version": "1.2.0",
            "_view_count": null,
            "flex_flow": null,
            "width": null,
            "min_width": null,
            "border": null,
            "align_items": null,
            "bottom": null,
            "_model_module": "@jupyter-widgets/base",
            "top": null,
            "grid_column": null,
            "overflow_y": null,
            "overflow_x": null,
            "grid_auto_flow": null,
            "grid_area": null,
            "grid_template_columns": null,
            "flex": null,
            "_model_name": "LayoutModel",
            "justify_items": null,
            "grid_row": null,
            "max_height": null,
            "align_content": null,
            "visibility": null,
            "align_self": null,
            "height": null,
            "min_height": null,
            "padding": null,
            "grid_auto_rows": null,
            "grid_gap": null,
            "max_width": null,
            "order": null,
            "_view_module_version": "1.2.0",
            "grid_template_areas": null,
            "object_position": null,
            "object_fit": null,
            "grid_auto_columns": null,
            "margin": null,
            "display": null,
            "left": null
          }
        },
        "49583ce94bf044d1bc7a7ec7dd9fa74e": {
          "model_module": "@jupyter-widgets/controls",
          "model_name": "FloatProgressModel",
          "state": {
            "_view_name": "ProgressView",
            "style": "IPY_MODEL_fad784e1527d45498ef167433eb2d90f",
            "_dom_classes": [],
            "description": "Dl Completed...: 100%",
            "_model_name": "FloatProgressModel",
            "bar_style": "success",
            "max": 1,
            "_view_module": "@jupyter-widgets/controls",
            "_model_module_version": "1.5.0",
            "value": 1,
            "_view_count": null,
            "_view_module_version": "1.5.0",
            "orientation": "horizontal",
            "min": 0,
            "description_tooltip": null,
            "_model_module": "@jupyter-widgets/controls",
            "layout": "IPY_MODEL_5bb4ce8f3a6d493e8c389aae6f460486"
          }
        },
        "70e6455d2d5247308206e5b26020d7c0": {
          "model_module": "@jupyter-widgets/controls",
          "model_name": "HTMLModel",
          "state": {
            "_view_name": "HTMLView",
            "style": "IPY_MODEL_2903a872c50a4f9b95613ac576f963e7",
            "_dom_classes": [],
            "description": "",
            "_model_name": "HTMLModel",
            "placeholder": "​",
            "_view_module": "@jupyter-widgets/controls",
            "_model_module_version": "1.5.0",
            "value": " 1/1 [00:01&lt;00:00,  1.34s/ url]",
            "_view_count": null,
            "_view_module_version": "1.5.0",
            "description_tooltip": null,
            "_model_module": "@jupyter-widgets/controls",
            "layout": "IPY_MODEL_fc8f637288dc43f9baf3872e85336f2d"
          }
        },
        "fad784e1527d45498ef167433eb2d90f": {
          "model_module": "@jupyter-widgets/controls",
          "model_name": "ProgressStyleModel",
          "state": {
            "_view_name": "StyleView",
            "_model_name": "ProgressStyleModel",
            "description_width": "initial",
            "_view_module": "@jupyter-widgets/base",
            "_model_module_version": "1.5.0",
            "_view_count": null,
            "_view_module_version": "1.2.0",
            "bar_color": null,
            "_model_module": "@jupyter-widgets/controls"
          }
        },
        "5bb4ce8f3a6d493e8c389aae6f460486": {
          "model_module": "@jupyter-widgets/base",
          "model_name": "LayoutModel",
          "state": {
            "_view_name": "LayoutView",
            "grid_template_rows": null,
            "right": null,
            "justify_content": null,
            "_view_module": "@jupyter-widgets/base",
            "overflow": null,
            "_model_module_version": "1.2.0",
            "_view_count": null,
            "flex_flow": null,
            "width": null,
            "min_width": null,
            "border": null,
            "align_items": null,
            "bottom": null,
            "_model_module": "@jupyter-widgets/base",
            "top": null,
            "grid_column": null,
            "overflow_y": null,
            "overflow_x": null,
            "grid_auto_flow": null,
            "grid_area": null,
            "grid_template_columns": null,
            "flex": null,
            "_model_name": "LayoutModel",
            "justify_items": null,
            "grid_row": null,
            "max_height": null,
            "align_content": null,
            "visibility": null,
            "align_self": null,
            "height": null,
            "min_height": null,
            "padding": null,
            "grid_auto_rows": null,
            "grid_gap": null,
            "max_width": null,
            "order": null,
            "_view_module_version": "1.2.0",
            "grid_template_areas": null,
            "object_position": null,
            "object_fit": null,
            "grid_auto_columns": null,
            "margin": null,
            "display": null,
            "left": null
          }
        },
        "2903a872c50a4f9b95613ac576f963e7": {
          "model_module": "@jupyter-widgets/controls",
          "model_name": "DescriptionStyleModel",
          "state": {
            "_view_name": "StyleView",
            "_model_name": "DescriptionStyleModel",
            "description_width": "",
            "_view_module": "@jupyter-widgets/base",
            "_model_module_version": "1.5.0",
            "_view_count": null,
            "_view_module_version": "1.2.0",
            "_model_module": "@jupyter-widgets/controls"
          }
        },
        "fc8f637288dc43f9baf3872e85336f2d": {
          "model_module": "@jupyter-widgets/base",
          "model_name": "LayoutModel",
          "state": {
            "_view_name": "LayoutView",
            "grid_template_rows": null,
            "right": null,
            "justify_content": null,
            "_view_module": "@jupyter-widgets/base",
            "overflow": null,
            "_model_module_version": "1.2.0",
            "_view_count": null,
            "flex_flow": null,
            "width": null,
            "min_width": null,
            "border": null,
            "align_items": null,
            "bottom": null,
            "_model_module": "@jupyter-widgets/base",
            "top": null,
            "grid_column": null,
            "overflow_y": null,
            "overflow_x": null,
            "grid_auto_flow": null,
            "grid_area": null,
            "grid_template_columns": null,
            "flex": null,
            "_model_name": "LayoutModel",
            "justify_items": null,
            "grid_row": null,
            "max_height": null,
            "align_content": null,
            "visibility": null,
            "align_self": null,
            "height": null,
            "min_height": null,
            "padding": null,
            "grid_auto_rows": null,
            "grid_gap": null,
            "max_width": null,
            "order": null,
            "_view_module_version": "1.2.0",
            "grid_template_areas": null,
            "object_position": null,
            "object_fit": null,
            "grid_auto_columns": null,
            "margin": null,
            "display": null,
            "left": null
          }
        },
        "a237c6f0e5914966af01e94a4bef7974": {
          "model_module": "@jupyter-widgets/controls",
          "model_name": "HBoxModel",
          "state": {
            "_view_name": "HBoxView",
            "_dom_classes": [],
            "_model_name": "HBoxModel",
            "_view_module": "@jupyter-widgets/controls",
            "_model_module_version": "1.5.0",
            "_view_count": null,
            "_view_module_version": "1.5.0",
            "box_style": "",
            "layout": "IPY_MODEL_118ee06835cc4362b9900829530fba94",
            "_model_module": "@jupyter-widgets/controls",
            "children": [
              "IPY_MODEL_6130fba49b9c460e9bd6a450b8b0815b",
              "IPY_MODEL_ea9a3b9a6a2f401da70fa856072710d2"
            ]
          }
        },
        "118ee06835cc4362b9900829530fba94": {
          "model_module": "@jupyter-widgets/base",
          "model_name": "LayoutModel",
          "state": {
            "_view_name": "LayoutView",
            "grid_template_rows": null,
            "right": null,
            "justify_content": null,
            "_view_module": "@jupyter-widgets/base",
            "overflow": null,
            "_model_module_version": "1.2.0",
            "_view_count": null,
            "flex_flow": null,
            "width": null,
            "min_width": null,
            "border": null,
            "align_items": null,
            "bottom": null,
            "_model_module": "@jupyter-widgets/base",
            "top": null,
            "grid_column": null,
            "overflow_y": null,
            "overflow_x": null,
            "grid_auto_flow": null,
            "grid_area": null,
            "grid_template_columns": null,
            "flex": null,
            "_model_name": "LayoutModel",
            "justify_items": null,
            "grid_row": null,
            "max_height": null,
            "align_content": null,
            "visibility": null,
            "align_self": null,
            "height": null,
            "min_height": null,
            "padding": null,
            "grid_auto_rows": null,
            "grid_gap": null,
            "max_width": null,
            "order": null,
            "_view_module_version": "1.2.0",
            "grid_template_areas": null,
            "object_position": null,
            "object_fit": null,
            "grid_auto_columns": null,
            "margin": null,
            "display": null,
            "left": null
          }
        },
        "6130fba49b9c460e9bd6a450b8b0815b": {
          "model_module": "@jupyter-widgets/controls",
          "model_name": "FloatProgressModel",
          "state": {
            "_view_name": "ProgressView",
            "style": "IPY_MODEL_a3213e5802c54610829aa518a019b646",
            "_dom_classes": [],
            "description": "Dl Size...: 100%",
            "_model_name": "FloatProgressModel",
            "bar_style": "success",
            "max": 1,
            "_view_module": "@jupyter-widgets/controls",
            "_model_module_version": "1.5.0",
            "value": 1,
            "_view_count": null,
            "_view_module_version": "1.5.0",
            "orientation": "horizontal",
            "min": 0,
            "description_tooltip": null,
            "_model_module": "@jupyter-widgets/controls",
            "layout": "IPY_MODEL_227362953d984f139fcceb7b4e9b6996"
          }
        },
        "ea9a3b9a6a2f401da70fa856072710d2": {
          "model_module": "@jupyter-widgets/controls",
          "model_name": "HTMLModel",
          "state": {
            "_view_name": "HTMLView",
            "style": "IPY_MODEL_b0db399bc1894869a838ad40d699c02c",
            "_dom_classes": [],
            "description": "",
            "_model_name": "HTMLModel",
            "placeholder": "​",
            "_view_module": "@jupyter-widgets/controls",
            "_model_module_version": "1.5.0",
            "value": " 16/16 [00:01&lt;00:00, 12.37 MiB/s]",
            "_view_count": null,
            "_view_module_version": "1.5.0",
            "description_tooltip": null,
            "_model_module": "@jupyter-widgets/controls",
            "layout": "IPY_MODEL_145501c8d7bc4327ae1ed9569a684935"
          }
        },
        "a3213e5802c54610829aa518a019b646": {
          "model_module": "@jupyter-widgets/controls",
          "model_name": "ProgressStyleModel",
          "state": {
            "_view_name": "StyleView",
            "_model_name": "ProgressStyleModel",
            "description_width": "initial",
            "_view_module": "@jupyter-widgets/base",
            "_model_module_version": "1.5.0",
            "_view_count": null,
            "_view_module_version": "1.2.0",
            "bar_color": null,
            "_model_module": "@jupyter-widgets/controls"
          }
        },
        "227362953d984f139fcceb7b4e9b6996": {
          "model_module": "@jupyter-widgets/base",
          "model_name": "LayoutModel",
          "state": {
            "_view_name": "LayoutView",
            "grid_template_rows": null,
            "right": null,
            "justify_content": null,
            "_view_module": "@jupyter-widgets/base",
            "overflow": null,
            "_model_module_version": "1.2.0",
            "_view_count": null,
            "flex_flow": null,
            "width": null,
            "min_width": null,
            "border": null,
            "align_items": null,
            "bottom": null,
            "_model_module": "@jupyter-widgets/base",
            "top": null,
            "grid_column": null,
            "overflow_y": null,
            "overflow_x": null,
            "grid_auto_flow": null,
            "grid_area": null,
            "grid_template_columns": null,
            "flex": null,
            "_model_name": "LayoutModel",
            "justify_items": null,
            "grid_row": null,
            "max_height": null,
            "align_content": null,
            "visibility": null,
            "align_self": null,
            "height": null,
            "min_height": null,
            "padding": null,
            "grid_auto_rows": null,
            "grid_gap": null,
            "max_width": null,
            "order": null,
            "_view_module_version": "1.2.0",
            "grid_template_areas": null,
            "object_position": null,
            "object_fit": null,
            "grid_auto_columns": null,
            "margin": null,
            "display": null,
            "left": null
          }
        },
        "b0db399bc1894869a838ad40d699c02c": {
          "model_module": "@jupyter-widgets/controls",
          "model_name": "DescriptionStyleModel",
          "state": {
            "_view_name": "StyleView",
            "_model_name": "DescriptionStyleModel",
            "description_width": "",
            "_view_module": "@jupyter-widgets/base",
            "_model_module_version": "1.5.0",
            "_view_count": null,
            "_view_module_version": "1.2.0",
            "_model_module": "@jupyter-widgets/controls"
          }
        },
        "145501c8d7bc4327ae1ed9569a684935": {
          "model_module": "@jupyter-widgets/base",
          "model_name": "LayoutModel",
          "state": {
            "_view_name": "LayoutView",
            "grid_template_rows": null,
            "right": null,
            "justify_content": null,
            "_view_module": "@jupyter-widgets/base",
            "overflow": null,
            "_model_module_version": "1.2.0",
            "_view_count": null,
            "flex_flow": null,
            "width": null,
            "min_width": null,
            "border": null,
            "align_items": null,
            "bottom": null,
            "_model_module": "@jupyter-widgets/base",
            "top": null,
            "grid_column": null,
            "overflow_y": null,
            "overflow_x": null,
            "grid_auto_flow": null,
            "grid_area": null,
            "grid_template_columns": null,
            "flex": null,
            "_model_name": "LayoutModel",
            "justify_items": null,
            "grid_row": null,
            "max_height": null,
            "align_content": null,
            "visibility": null,
            "align_self": null,
            "height": null,
            "min_height": null,
            "padding": null,
            "grid_auto_rows": null,
            "grid_gap": null,
            "max_width": null,
            "order": null,
            "_view_module_version": "1.2.0",
            "grid_template_areas": null,
            "object_position": null,
            "object_fit": null,
            "grid_auto_columns": null,
            "margin": null,
            "display": null,
            "left": null
          }
        },
        "71d82c2734b2402bbc4fbe1c50fd0bdd": {
          "model_module": "@jupyter-widgets/controls",
          "model_name": "HBoxModel",
          "state": {
            "_view_name": "HBoxView",
            "_dom_classes": [],
            "_model_name": "HBoxModel",
            "_view_module": "@jupyter-widgets/controls",
            "_model_module_version": "1.5.0",
            "_view_count": null,
            "_view_module_version": "1.5.0",
            "box_style": "",
            "layout": "IPY_MODEL_0bf55cc115ff4fb184f5d7f8f29a0695",
            "_model_module": "@jupyter-widgets/controls",
            "children": [
              "IPY_MODEL_af939ee37a55439fb656feab0488b7e8",
              "IPY_MODEL_15af235be2614514acf1a0e7147427a4"
            ]
          }
        },
        "0bf55cc115ff4fb184f5d7f8f29a0695": {
          "model_module": "@jupyter-widgets/base",
          "model_name": "LayoutModel",
          "state": {
            "_view_name": "LayoutView",
            "grid_template_rows": null,
            "right": null,
            "justify_content": null,
            "_view_module": "@jupyter-widgets/base",
            "overflow": null,
            "_model_module_version": "1.2.0",
            "_view_count": null,
            "flex_flow": null,
            "width": null,
            "min_width": null,
            "border": null,
            "align_items": null,
            "bottom": null,
            "_model_module": "@jupyter-widgets/base",
            "top": null,
            "grid_column": null,
            "overflow_y": null,
            "overflow_x": null,
            "grid_auto_flow": null,
            "grid_area": null,
            "grid_template_columns": null,
            "flex": null,
            "_model_name": "LayoutModel",
            "justify_items": null,
            "grid_row": null,
            "max_height": null,
            "align_content": null,
            "visibility": null,
            "align_self": null,
            "height": null,
            "min_height": null,
            "padding": null,
            "grid_auto_rows": null,
            "grid_gap": null,
            "max_width": null,
            "order": null,
            "_view_module_version": "1.2.0",
            "grid_template_areas": null,
            "object_position": null,
            "object_fit": null,
            "grid_auto_columns": null,
            "margin": null,
            "display": null,
            "left": null
          }
        },
        "af939ee37a55439fb656feab0488b7e8": {
          "model_module": "@jupyter-widgets/controls",
          "model_name": "FloatProgressModel",
          "state": {
            "_view_name": "ProgressView",
            "style": "IPY_MODEL_8513d53978ab47bba8752a2308e43ef7",
            "_dom_classes": [],
            "description": "Extraction completed...: 100%",
            "_model_name": "FloatProgressModel",
            "bar_style": "success",
            "max": 1,
            "_view_module": "@jupyter-widgets/controls",
            "_model_module_version": "1.5.0",
            "value": 1,
            "_view_count": null,
            "_view_module_version": "1.5.0",
            "orientation": "horizontal",
            "min": 0,
            "description_tooltip": null,
            "_model_module": "@jupyter-widgets/controls",
            "layout": "IPY_MODEL_a24d7adecfbc4c4a9d1212d9f803477b"
          }
        },
        "15af235be2614514acf1a0e7147427a4": {
          "model_module": "@jupyter-widgets/controls",
          "model_name": "HTMLModel",
          "state": {
            "_view_name": "HTMLView",
            "style": "IPY_MODEL_b445ddc07f56457fb9cce17e40418a5b",
            "_dom_classes": [],
            "description": "",
            "_model_name": "HTMLModel",
            "placeholder": "​",
            "_view_module": "@jupyter-widgets/controls",
            "_model_module_version": "1.5.0",
            "value": " 1/1 [00:01&lt;00:00,  1.24s/ file]",
            "_view_count": null,
            "_view_module_version": "1.5.0",
            "description_tooltip": null,
            "_model_module": "@jupyter-widgets/controls",
            "layout": "IPY_MODEL_64b10671276c44aeaac378819a634046"
          }
        },
        "8513d53978ab47bba8752a2308e43ef7": {
          "model_module": "@jupyter-widgets/controls",
          "model_name": "ProgressStyleModel",
          "state": {
            "_view_name": "StyleView",
            "_model_name": "ProgressStyleModel",
            "description_width": "initial",
            "_view_module": "@jupyter-widgets/base",
            "_model_module_version": "1.5.0",
            "_view_count": null,
            "_view_module_version": "1.2.0",
            "bar_color": null,
            "_model_module": "@jupyter-widgets/controls"
          }
        },
        "a24d7adecfbc4c4a9d1212d9f803477b": {
          "model_module": "@jupyter-widgets/base",
          "model_name": "LayoutModel",
          "state": {
            "_view_name": "LayoutView",
            "grid_template_rows": null,
            "right": null,
            "justify_content": null,
            "_view_module": "@jupyter-widgets/base",
            "overflow": null,
            "_model_module_version": "1.2.0",
            "_view_count": null,
            "flex_flow": null,
            "width": null,
            "min_width": null,
            "border": null,
            "align_items": null,
            "bottom": null,
            "_model_module": "@jupyter-widgets/base",
            "top": null,
            "grid_column": null,
            "overflow_y": null,
            "overflow_x": null,
            "grid_auto_flow": null,
            "grid_area": null,
            "grid_template_columns": null,
            "flex": null,
            "_model_name": "LayoutModel",
            "justify_items": null,
            "grid_row": null,
            "max_height": null,
            "align_content": null,
            "visibility": null,
            "align_self": null,
            "height": null,
            "min_height": null,
            "padding": null,
            "grid_auto_rows": null,
            "grid_gap": null,
            "max_width": null,
            "order": null,
            "_view_module_version": "1.2.0",
            "grid_template_areas": null,
            "object_position": null,
            "object_fit": null,
            "grid_auto_columns": null,
            "margin": null,
            "display": null,
            "left": null
          }
        },
        "b445ddc07f56457fb9cce17e40418a5b": {
          "model_module": "@jupyter-widgets/controls",
          "model_name": "DescriptionStyleModel",
          "state": {
            "_view_name": "StyleView",
            "_model_name": "DescriptionStyleModel",
            "description_width": "",
            "_view_module": "@jupyter-widgets/base",
            "_model_module_version": "1.5.0",
            "_view_count": null,
            "_view_module_version": "1.2.0",
            "_model_module": "@jupyter-widgets/controls"
          }
        },
        "64b10671276c44aeaac378819a634046": {
          "model_module": "@jupyter-widgets/base",
          "model_name": "LayoutModel",
          "state": {
            "_view_name": "LayoutView",
            "grid_template_rows": null,
            "right": null,
            "justify_content": null,
            "_view_module": "@jupyter-widgets/base",
            "overflow": null,
            "_model_module_version": "1.2.0",
            "_view_count": null,
            "flex_flow": null,
            "width": null,
            "min_width": null,
            "border": null,
            "align_items": null,
            "bottom": null,
            "_model_module": "@jupyter-widgets/base",
            "top": null,
            "grid_column": null,
            "overflow_y": null,
            "overflow_x": null,
            "grid_auto_flow": null,
            "grid_area": null,
            "grid_template_columns": null,
            "flex": null,
            "_model_name": "LayoutModel",
            "justify_items": null,
            "grid_row": null,
            "max_height": null,
            "align_content": null,
            "visibility": null,
            "align_self": null,
            "height": null,
            "min_height": null,
            "padding": null,
            "grid_auto_rows": null,
            "grid_gap": null,
            "max_width": null,
            "order": null,
            "_view_module_version": "1.2.0",
            "grid_template_areas": null,
            "object_position": null,
            "object_fit": null,
            "grid_auto_columns": null,
            "margin": null,
            "display": null,
            "left": null
          }
        },
        "ad7dc9e5373f4711a11f7df5c6d5018c": {
          "model_module": "@jupyter-widgets/controls",
          "model_name": "HBoxModel",
          "state": {
            "_view_name": "HBoxView",
            "_dom_classes": [],
            "_model_name": "HBoxModel",
            "_view_module": "@jupyter-widgets/controls",
            "_model_module_version": "1.5.0",
            "_view_count": null,
            "_view_module_version": "1.5.0",
            "box_style": "",
            "layout": "IPY_MODEL_123d8febe1c04f36bdf15222d3e742ee",
            "_model_module": "@jupyter-widgets/controls",
            "children": [
              "IPY_MODEL_3eae09e065d5469198737fca2028cbb6",
              "IPY_MODEL_543c802641cd412db35c2267b42ac76d"
            ]
          }
        },
        "123d8febe1c04f36bdf15222d3e742ee": {
          "model_module": "@jupyter-widgets/base",
          "model_name": "LayoutModel",
          "state": {
            "_view_name": "LayoutView",
            "grid_template_rows": null,
            "right": null,
            "justify_content": null,
            "_view_module": "@jupyter-widgets/base",
            "overflow": null,
            "_model_module_version": "1.2.0",
            "_view_count": null,
            "flex_flow": null,
            "width": null,
            "min_width": null,
            "border": null,
            "align_items": null,
            "bottom": null,
            "_model_module": "@jupyter-widgets/base",
            "top": null,
            "grid_column": null,
            "overflow_y": null,
            "overflow_x": null,
            "grid_auto_flow": null,
            "grid_area": null,
            "grid_template_columns": null,
            "flex": null,
            "_model_name": "LayoutModel",
            "justify_items": null,
            "grid_row": null,
            "max_height": null,
            "align_content": null,
            "visibility": null,
            "align_self": null,
            "height": null,
            "min_height": null,
            "padding": null,
            "grid_auto_rows": null,
            "grid_gap": null,
            "max_width": null,
            "order": null,
            "_view_module_version": "1.2.0",
            "grid_template_areas": null,
            "object_position": null,
            "object_fit": null,
            "grid_auto_columns": null,
            "margin": null,
            "display": null,
            "left": null
          }
        },
        "3eae09e065d5469198737fca2028cbb6": {
          "model_module": "@jupyter-widgets/controls",
          "model_name": "FloatProgressModel",
          "state": {
            "_view_name": "ProgressView",
            "style": "IPY_MODEL_39b4fba04c4e47beb2908435e2eb3b12",
            "_dom_classes": [],
            "description": "",
            "_model_name": "FloatProgressModel",
            "bar_style": "info",
            "max": 1,
            "_view_module": "@jupyter-widgets/controls",
            "_model_module_version": "1.5.0",
            "value": 1,
            "_view_count": null,
            "_view_module_version": "1.5.0",
            "orientation": "horizontal",
            "min": 0,
            "description_tooltip": null,
            "_model_module": "@jupyter-widgets/controls",
            "layout": "IPY_MODEL_b167dd530b2e4122a324dba02e346343"
          }
        },
        "543c802641cd412db35c2267b42ac76d": {
          "model_module": "@jupyter-widgets/controls",
          "model_name": "HTMLModel",
          "state": {
            "_view_name": "HTMLView",
            "style": "IPY_MODEL_06c05449ad494bdb98e1f36577838ca1",
            "_dom_classes": [],
            "description": "",
            "_model_name": "HTMLModel",
            "placeholder": "​",
            "_view_module": "@jupyter-widgets/controls",
            "_model_module_version": "1.5.0",
            "value": " 85981/0 [01:23&lt;00:00, 1036.78 examples/s]",
            "_view_count": null,
            "_view_module_version": "1.5.0",
            "description_tooltip": null,
            "_model_module": "@jupyter-widgets/controls",
            "layout": "IPY_MODEL_12845164c011431486ea69a0935e047f"
          }
        },
        "39b4fba04c4e47beb2908435e2eb3b12": {
          "model_module": "@jupyter-widgets/controls",
          "model_name": "ProgressStyleModel",
          "state": {
            "_view_name": "StyleView",
            "_model_name": "ProgressStyleModel",
            "description_width": "initial",
            "_view_module": "@jupyter-widgets/base",
            "_model_module_version": "1.5.0",
            "_view_count": null,
            "_view_module_version": "1.2.0",
            "bar_color": null,
            "_model_module": "@jupyter-widgets/controls"
          }
        },
        "b167dd530b2e4122a324dba02e346343": {
          "model_module": "@jupyter-widgets/base",
          "model_name": "LayoutModel",
          "state": {
            "_view_name": "LayoutView",
            "grid_template_rows": null,
            "right": null,
            "justify_content": null,
            "_view_module": "@jupyter-widgets/base",
            "overflow": null,
            "_model_module_version": "1.2.0",
            "_view_count": null,
            "flex_flow": null,
            "width": null,
            "min_width": null,
            "border": null,
            "align_items": null,
            "bottom": null,
            "_model_module": "@jupyter-widgets/base",
            "top": null,
            "grid_column": null,
            "overflow_y": null,
            "overflow_x": null,
            "grid_auto_flow": null,
            "grid_area": null,
            "grid_template_columns": null,
            "flex": null,
            "_model_name": "LayoutModel",
            "justify_items": null,
            "grid_row": null,
            "max_height": null,
            "align_content": null,
            "visibility": null,
            "align_self": null,
            "height": null,
            "min_height": null,
            "padding": null,
            "grid_auto_rows": null,
            "grid_gap": null,
            "max_width": null,
            "order": null,
            "_view_module_version": "1.2.0",
            "grid_template_areas": null,
            "object_position": null,
            "object_fit": null,
            "grid_auto_columns": null,
            "margin": null,
            "display": null,
            "left": null
          }
        },
        "06c05449ad494bdb98e1f36577838ca1": {
          "model_module": "@jupyter-widgets/controls",
          "model_name": "DescriptionStyleModel",
          "state": {
            "_view_name": "StyleView",
            "_model_name": "DescriptionStyleModel",
            "description_width": "",
            "_view_module": "@jupyter-widgets/base",
            "_model_module_version": "1.5.0",
            "_view_count": null,
            "_view_module_version": "1.2.0",
            "_model_module": "@jupyter-widgets/controls"
          }
        },
        "12845164c011431486ea69a0935e047f": {
          "model_module": "@jupyter-widgets/base",
          "model_name": "LayoutModel",
          "state": {
            "_view_name": "LayoutView",
            "grid_template_rows": null,
            "right": null,
            "justify_content": null,
            "_view_module": "@jupyter-widgets/base",
            "overflow": null,
            "_model_module_version": "1.2.0",
            "_view_count": null,
            "flex_flow": null,
            "width": null,
            "min_width": null,
            "border": null,
            "align_items": null,
            "bottom": null,
            "_model_module": "@jupyter-widgets/base",
            "top": null,
            "grid_column": null,
            "overflow_y": null,
            "overflow_x": null,
            "grid_auto_flow": null,
            "grid_area": null,
            "grid_template_columns": null,
            "flex": null,
            "_model_name": "LayoutModel",
            "justify_items": null,
            "grid_row": null,
            "max_height": null,
            "align_content": null,
            "visibility": null,
            "align_self": null,
            "height": null,
            "min_height": null,
            "padding": null,
            "grid_auto_rows": null,
            "grid_gap": null,
            "max_width": null,
            "order": null,
            "_view_module_version": "1.2.0",
            "grid_template_areas": null,
            "object_position": null,
            "object_fit": null,
            "grid_auto_columns": null,
            "margin": null,
            "display": null,
            "left": null
          }
        },
        "69548b4c1bfb42da984684b2f2ed2e8a": {
          "model_module": "@jupyter-widgets/controls",
          "model_name": "HBoxModel",
          "state": {
            "_view_name": "HBoxView",
            "_dom_classes": [],
            "_model_name": "HBoxModel",
            "_view_module": "@jupyter-widgets/controls",
            "_model_module_version": "1.5.0",
            "_view_count": null,
            "_view_module_version": "1.5.0",
            "box_style": "",
            "layout": "IPY_MODEL_808dfcd399c84e15b268e6468b882ba0",
            "_model_module": "@jupyter-widgets/controls",
            "children": [
              "IPY_MODEL_6d099f3850da459890e143d1db53a89a",
              "IPY_MODEL_98ee349108614e94bed544f9d6eb01d2"
            ]
          }
        },
        "808dfcd399c84e15b268e6468b882ba0": {
          "model_module": "@jupyter-widgets/base",
          "model_name": "LayoutModel",
          "state": {
            "_view_name": "LayoutView",
            "grid_template_rows": null,
            "right": null,
            "justify_content": null,
            "_view_module": "@jupyter-widgets/base",
            "overflow": null,
            "_model_module_version": "1.2.0",
            "_view_count": null,
            "flex_flow": null,
            "width": null,
            "min_width": null,
            "border": null,
            "align_items": null,
            "bottom": null,
            "_model_module": "@jupyter-widgets/base",
            "top": null,
            "grid_column": null,
            "overflow_y": null,
            "overflow_x": null,
            "grid_auto_flow": null,
            "grid_area": null,
            "grid_template_columns": null,
            "flex": null,
            "_model_name": "LayoutModel",
            "justify_items": null,
            "grid_row": null,
            "max_height": null,
            "align_content": null,
            "visibility": null,
            "align_self": null,
            "height": null,
            "min_height": null,
            "padding": null,
            "grid_auto_rows": null,
            "grid_gap": null,
            "max_width": null,
            "order": null,
            "_view_module_version": "1.2.0",
            "grid_template_areas": null,
            "object_position": null,
            "object_fit": null,
            "grid_auto_columns": null,
            "margin": null,
            "display": null,
            "left": null
          }
        },
        "6d099f3850da459890e143d1db53a89a": {
          "model_module": "@jupyter-widgets/controls",
          "model_name": "FloatProgressModel",
          "state": {
            "_view_name": "ProgressView",
            "style": "IPY_MODEL_351bbafea4044de3bfc01c8c3e9a006f",
            "_dom_classes": [],
            "description": " 87%",
            "_model_name": "FloatProgressModel",
            "bar_style": "danger",
            "max": 85981,
            "_view_module": "@jupyter-widgets/controls",
            "_model_module_version": "1.5.0",
            "value": 75064,
            "_view_count": null,
            "_view_module_version": "1.5.0",
            "orientation": "horizontal",
            "min": 0,
            "description_tooltip": null,
            "_model_module": "@jupyter-widgets/controls",
            "layout": "IPY_MODEL_c9b069d7e0f043fd92e14c4f56fa4b89"
          }
        },
        "98ee349108614e94bed544f9d6eb01d2": {
          "model_module": "@jupyter-widgets/controls",
          "model_name": "HTMLModel",
          "state": {
            "_view_name": "HTMLView",
            "style": "IPY_MODEL_5642f0c9c58044d4b9fb4b7b9415e4e0",
            "_dom_classes": [],
            "description": "",
            "_model_name": "HTMLModel",
            "placeholder": "​",
            "_view_module": "@jupyter-widgets/controls",
            "_model_module_version": "1.5.0",
            "value": " 75064/85981 [00:00&lt;11:02, 16.47 examples/s]",
            "_view_count": null,
            "_view_module_version": "1.5.0",
            "description_tooltip": null,
            "_model_module": "@jupyter-widgets/controls",
            "layout": "IPY_MODEL_e007fe2e4d7c4767ae4ca34b4466ad14"
          }
        },
        "351bbafea4044de3bfc01c8c3e9a006f": {
          "model_module": "@jupyter-widgets/controls",
          "model_name": "ProgressStyleModel",
          "state": {
            "_view_name": "StyleView",
            "_model_name": "ProgressStyleModel",
            "description_width": "initial",
            "_view_module": "@jupyter-widgets/base",
            "_model_module_version": "1.5.0",
            "_view_count": null,
            "_view_module_version": "1.2.0",
            "bar_color": null,
            "_model_module": "@jupyter-widgets/controls"
          }
        },
        "c9b069d7e0f043fd92e14c4f56fa4b89": {
          "model_module": "@jupyter-widgets/base",
          "model_name": "LayoutModel",
          "state": {
            "_view_name": "LayoutView",
            "grid_template_rows": null,
            "right": null,
            "justify_content": null,
            "_view_module": "@jupyter-widgets/base",
            "overflow": null,
            "_model_module_version": "1.2.0",
            "_view_count": null,
            "flex_flow": null,
            "width": null,
            "min_width": null,
            "border": null,
            "align_items": null,
            "bottom": null,
            "_model_module": "@jupyter-widgets/base",
            "top": null,
            "grid_column": null,
            "overflow_y": null,
            "overflow_x": null,
            "grid_auto_flow": null,
            "grid_area": null,
            "grid_template_columns": null,
            "flex": null,
            "_model_name": "LayoutModel",
            "justify_items": null,
            "grid_row": null,
            "max_height": null,
            "align_content": null,
            "visibility": null,
            "align_self": null,
            "height": null,
            "min_height": null,
            "padding": null,
            "grid_auto_rows": null,
            "grid_gap": null,
            "max_width": null,
            "order": null,
            "_view_module_version": "1.2.0",
            "grid_template_areas": null,
            "object_position": null,
            "object_fit": null,
            "grid_auto_columns": null,
            "margin": null,
            "display": null,
            "left": null
          }
        },
        "5642f0c9c58044d4b9fb4b7b9415e4e0": {
          "model_module": "@jupyter-widgets/controls",
          "model_name": "DescriptionStyleModel",
          "state": {
            "_view_name": "StyleView",
            "_model_name": "DescriptionStyleModel",
            "description_width": "",
            "_view_module": "@jupyter-widgets/base",
            "_model_module_version": "1.5.0",
            "_view_count": null,
            "_view_module_version": "1.2.0",
            "_model_module": "@jupyter-widgets/controls"
          }
        },
        "e007fe2e4d7c4767ae4ca34b4466ad14": {
          "model_module": "@jupyter-widgets/base",
          "model_name": "LayoutModel",
          "state": {
            "_view_name": "LayoutView",
            "grid_template_rows": null,
            "right": null,
            "justify_content": null,
            "_view_module": "@jupyter-widgets/base",
            "overflow": null,
            "_model_module_version": "1.2.0",
            "_view_count": null,
            "flex_flow": null,
            "width": null,
            "min_width": null,
            "border": null,
            "align_items": null,
            "bottom": null,
            "_model_module": "@jupyter-widgets/base",
            "top": null,
            "grid_column": null,
            "overflow_y": null,
            "overflow_x": null,
            "grid_auto_flow": null,
            "grid_area": null,
            "grid_template_columns": null,
            "flex": null,
            "_model_name": "LayoutModel",
            "justify_items": null,
            "grid_row": null,
            "max_height": null,
            "align_content": null,
            "visibility": null,
            "align_self": null,
            "height": null,
            "min_height": null,
            "padding": null,
            "grid_auto_rows": null,
            "grid_gap": null,
            "max_width": null,
            "order": null,
            "_view_module_version": "1.2.0",
            "grid_template_areas": null,
            "object_position": null,
            "object_fit": null,
            "grid_auto_columns": null,
            "margin": null,
            "display": null,
            "left": null
          }
        }
      }
    }
  },
  "cells": [
    {
      "cell_type": "markdown",
      "metadata": {
        "id": "view-in-github",
        "colab_type": "text"
      },
      "source": [
        "<a href=\"https://colab.research.google.com/github/gulabpatel/NLP_Basics/blob/main/Part%204.1%3A%20Sentiment_Analysis_Model_using_GBM_H2O.ipynb\" target=\"_parent\"><img src=\"https://colab.research.google.com/assets/colab-badge.svg\" alt=\"Open In Colab\"/></a>"
      ]
    },
    {
      "cell_type": "markdown",
      "metadata": {
        "id": "rRhdCeyZYq8M"
      },
      "source": [
        "Link to the video for details on this code - https://www.youtube.com/watch?v=2vm6hNlsImo"
      ]
    },
    {
      "cell_type": "code",
      "metadata": {
        "id": "KqTyL2VUqv-M",
        "colab": {
          "base_uri": "https://localhost:8080/"
        },
        "outputId": "7b580b30-3568-4f76-dd61-6f2b9789e650"
      },
      "source": [
        "!apt-get install default-jre\n",
        "!java -version"
      ],
      "execution_count": null,
      "outputs": [
        {
          "output_type": "stream",
          "text": [
            "Reading package lists... Done\n",
            "Building dependency tree       \n",
            "Reading state information... Done\n",
            "default-jre is already the newest version (2:1.11-68ubuntu1~18.04.1).\n",
            "default-jre set to manually installed.\n",
            "0 upgraded, 0 newly installed, 0 to remove and 30 not upgraded.\n",
            "openjdk version \"11.0.10\" 2021-01-19\n",
            "OpenJDK Runtime Environment (build 11.0.10+9-Ubuntu-0ubuntu1.18.04)\n",
            "OpenJDK 64-Bit Server VM (build 11.0.10+9-Ubuntu-0ubuntu1.18.04, mixed mode, sharing)\n"
          ],
          "name": "stdout"
        }
      ]
    },
    {
      "cell_type": "code",
      "metadata": {
        "id": "KcdldMCPq1eC",
        "colab": {
          "base_uri": "https://localhost:8080/"
        },
        "outputId": "46eb6fed-8de2-46a5-c338-733ae92936d8"
      },
      "source": [
        "!pip install h2o==3.30.0.1"
      ],
      "execution_count": null,
      "outputs": [
        {
          "output_type": "stream",
          "text": [
            "Collecting h2o==3.30.0.1\n",
            "\u001b[?25l  Downloading https://files.pythonhosted.org/packages/96/b2/b6f5e8c7fd1efe0f6d2640b34164b10b0e28231b89cc06542a6b3a3903a0/h2o-3.30.0.1.tar.gz (129.5MB)\n",
            "\u001b[K     |████████████████████████████████| 129.5MB 82kB/s \n",
            "\u001b[?25hRequirement already satisfied: requests in /usr/local/lib/python3.7/dist-packages (from h2o==3.30.0.1) (2.23.0)\n",
            "Requirement already satisfied: tabulate in /usr/local/lib/python3.7/dist-packages (from h2o==3.30.0.1) (0.8.9)\n",
            "Requirement already satisfied: future in /usr/local/lib/python3.7/dist-packages (from h2o==3.30.0.1) (0.16.0)\n",
            "Collecting colorama>=0.3.8\n",
            "  Downloading https://files.pythonhosted.org/packages/44/98/5b86278fbbf250d239ae0ecb724f8572af1c91f4a11edf4d36a206189440/colorama-0.4.4-py2.py3-none-any.whl\n",
            "Requirement already satisfied: idna<3,>=2.5 in /usr/local/lib/python3.7/dist-packages (from requests->h2o==3.30.0.1) (2.10)\n",
            "Requirement already satisfied: chardet<4,>=3.0.2 in /usr/local/lib/python3.7/dist-packages (from requests->h2o==3.30.0.1) (3.0.4)\n",
            "Requirement already satisfied: certifi>=2017.4.17 in /usr/local/lib/python3.7/dist-packages (from requests->h2o==3.30.0.1) (2020.12.5)\n",
            "Requirement already satisfied: urllib3!=1.25.0,!=1.25.1,<1.26,>=1.21.1 in /usr/local/lib/python3.7/dist-packages (from requests->h2o==3.30.0.1) (1.24.3)\n",
            "Building wheels for collected packages: h2o\n",
            "  Building wheel for h2o (setup.py) ... \u001b[?25l\u001b[?25hdone\n",
            "  Created wheel for h2o: filename=h2o-3.30.0.1-py2.py3-none-any.whl size=129557718 sha256=356e256bbff8d013a0029c913c43e0b115ecb426d48ad10538fa36e706a48e37\n",
            "  Stored in directory: /root/.cache/pip/wheels/db/42/63/d118d7218432054da842f5d10bd4f99e978bde0931164e6c7a\n",
            "Successfully built h2o\n",
            "Installing collected packages: colorama, h2o\n",
            "Successfully installed colorama-0.4.4 h2o-3.30.0.1\n"
          ],
          "name": "stdout"
        }
      ]
    },
    {
      "cell_type": "code",
      "metadata": {
        "id": "fUbFvR7LDB3U"
      },
      "source": [
        "import tensorflow_datasets as tfds\n",
        "import h2o\n",
        "import numpy as np"
      ],
      "execution_count": null,
      "outputs": []
    },
    {
      "cell_type": "code",
      "metadata": {
        "id": "sLHRRkcdrAnX",
        "colab": {
          "base_uri": "https://localhost:8080/",
          "height": 562
        },
        "outputId": "ebd30aa5-480d-454f-dddb-a8ddf3481d2a"
      },
      "source": [
        "h2o.init()"
      ],
      "execution_count": null,
      "outputs": [
        {
          "output_type": "stream",
          "text": [
            "Checking whether there is an H2O instance running at http://localhost:54321 ..... not found.\n",
            "Attempting to start a local H2O server...\n",
            "  Java Version: openjdk version \"11.0.10\" 2021-01-19; OpenJDK Runtime Environment (build 11.0.10+9-Ubuntu-0ubuntu1.18.04); OpenJDK 64-Bit Server VM (build 11.0.10+9-Ubuntu-0ubuntu1.18.04, mixed mode, sharing)\n",
            "  Starting server from /usr/local/lib/python3.7/dist-packages/h2o/backend/bin/h2o.jar\n",
            "  Ice root: /tmp/tmpx6x1ddo0\n",
            "  JVM stdout: /tmp/tmpx6x1ddo0/h2o_unknownUser_started_from_python.out\n",
            "  JVM stderr: /tmp/tmpx6x1ddo0/h2o_unknownUser_started_from_python.err\n",
            "  Server is running at http://127.0.0.1:54321\n",
            "Connecting to H2O server at http://127.0.0.1:54321 ... successful.\n",
            "Warning: Your H2O cluster version is too old (1 year and 2 days)! Please download and install the latest version from http://h2o.ai/download/\n"
          ],
          "name": "stdout"
        },
        {
          "output_type": "display_data",
          "data": {
            "text/html": [
              "<div style=\"overflow:auto\"><table style=\"width:50%\"><tr><td>H2O_cluster_uptime:</td>\n",
              "<td>03 secs</td></tr>\n",
              "<tr><td>H2O_cluster_timezone:</td>\n",
              "<td>Etc/UTC</td></tr>\n",
              "<tr><td>H2O_data_parsing_timezone:</td>\n",
              "<td>UTC</td></tr>\n",
              "<tr><td>H2O_cluster_version:</td>\n",
              "<td>3.30.0.1</td></tr>\n",
              "<tr><td>H2O_cluster_version_age:</td>\n",
              "<td>1 year and 2 days !!!</td></tr>\n",
              "<tr><td>H2O_cluster_name:</td>\n",
              "<td>H2O_from_python_unknownUser_1jmq1t</td></tr>\n",
              "<tr><td>H2O_cluster_total_nodes:</td>\n",
              "<td>1</td></tr>\n",
              "<tr><td>H2O_cluster_free_memory:</td>\n",
              "<td>3.180 Gb</td></tr>\n",
              "<tr><td>H2O_cluster_total_cores:</td>\n",
              "<td>2</td></tr>\n",
              "<tr><td>H2O_cluster_allowed_cores:</td>\n",
              "<td>2</td></tr>\n",
              "<tr><td>H2O_cluster_status:</td>\n",
              "<td>accepting new members, healthy</td></tr>\n",
              "<tr><td>H2O_connection_url:</td>\n",
              "<td>http://127.0.0.1:54321</td></tr>\n",
              "<tr><td>H2O_connection_proxy:</td>\n",
              "<td>{\"http\": null, \"https\": null}</td></tr>\n",
              "<tr><td>H2O_internal_security:</td>\n",
              "<td>False</td></tr>\n",
              "<tr><td>H2O_API_Extensions:</td>\n",
              "<td>Amazon S3, XGBoost, Algos, AutoML, Core V3, TargetEncoder, Core V4</td></tr>\n",
              "<tr><td>Python_version:</td>\n",
              "<td>3.7.10 final</td></tr></table></div>"
            ],
            "text/plain": [
              "--------------------------  ------------------------------------------------------------------\n",
              "H2O_cluster_uptime:         03 secs\n",
              "H2O_cluster_timezone:       Etc/UTC\n",
              "H2O_data_parsing_timezone:  UTC\n",
              "H2O_cluster_version:        3.30.0.1\n",
              "H2O_cluster_version_age:    1 year and 2 days !!!\n",
              "H2O_cluster_name:           H2O_from_python_unknownUser_1jmq1t\n",
              "H2O_cluster_total_nodes:    1\n",
              "H2O_cluster_free_memory:    3.180 Gb\n",
              "H2O_cluster_total_cores:    2\n",
              "H2O_cluster_allowed_cores:  2\n",
              "H2O_cluster_status:         accepting new members, healthy\n",
              "H2O_connection_url:         http://127.0.0.1:54321\n",
              "H2O_connection_proxy:       {\"http\": null, \"https\": null}\n",
              "H2O_internal_security:      False\n",
              "H2O_API_Extensions:         Amazon S3, XGBoost, Algos, AutoML, Core V3, TargetEncoder, Core V4\n",
              "Python_version:             3.7.10 final\n",
              "--------------------------  ------------------------------------------------------------------"
            ]
          },
          "metadata": {
            "tags": []
          }
        }
      ]
    },
    {
      "cell_type": "code",
      "metadata": {
        "id": "QDH43tw-DN4y",
        "colab": {
          "base_uri": "https://localhost:8080/",
          "height": 318,
          "referenced_widgets": [
            "589f4c5782cf428694f5bb451dfea5ad",
            "e7c9281d8c93442f90418b3903128d1f",
            "49583ce94bf044d1bc7a7ec7dd9fa74e",
            "70e6455d2d5247308206e5b26020d7c0",
            "fad784e1527d45498ef167433eb2d90f",
            "5bb4ce8f3a6d493e8c389aae6f460486",
            "2903a872c50a4f9b95613ac576f963e7",
            "fc8f637288dc43f9baf3872e85336f2d",
            "a237c6f0e5914966af01e94a4bef7974",
            "118ee06835cc4362b9900829530fba94",
            "6130fba49b9c460e9bd6a450b8b0815b",
            "ea9a3b9a6a2f401da70fa856072710d2",
            "a3213e5802c54610829aa518a019b646",
            "227362953d984f139fcceb7b4e9b6996",
            "b0db399bc1894869a838ad40d699c02c",
            "145501c8d7bc4327ae1ed9569a684935",
            "71d82c2734b2402bbc4fbe1c50fd0bdd",
            "0bf55cc115ff4fb184f5d7f8f29a0695",
            "af939ee37a55439fb656feab0488b7e8",
            "15af235be2614514acf1a0e7147427a4",
            "8513d53978ab47bba8752a2308e43ef7",
            "a24d7adecfbc4c4a9d1212d9f803477b",
            "b445ddc07f56457fb9cce17e40418a5b",
            "64b10671276c44aeaac378819a634046",
            "ad7dc9e5373f4711a11f7df5c6d5018c",
            "123d8febe1c04f36bdf15222d3e742ee",
            "3eae09e065d5469198737fca2028cbb6",
            "543c802641cd412db35c2267b42ac76d",
            "39b4fba04c4e47beb2908435e2eb3b12",
            "b167dd530b2e4122a324dba02e346343",
            "06c05449ad494bdb98e1f36577838ca1",
            "12845164c011431486ea69a0935e047f",
            "69548b4c1bfb42da984684b2f2ed2e8a",
            "808dfcd399c84e15b268e6468b882ba0",
            "6d099f3850da459890e143d1db53a89a",
            "98ee349108614e94bed544f9d6eb01d2",
            "351bbafea4044de3bfc01c8c3e9a006f",
            "c9b069d7e0f043fd92e14c4f56fa4b89",
            "5642f0c9c58044d4b9fb4b7b9415e4e0",
            "e007fe2e4d7c4767ae4ca34b4466ad14"
          ]
        },
        "outputId": "9835abc7-cfdf-4d89-8deb-1eb5771a5289"
      },
      "source": [
        "dataset, info = tfds.load('amazon_us_reviews/Personal_Care_Appliances_v1_00', with_info=True, batch_size=-1)\n",
        "train_dataset = dataset['train']"
      ],
      "execution_count": null,
      "outputs": [
        {
          "output_type": "stream",
          "text": [
            "Downloading and preparing dataset amazon_us_reviews/Personal_Care_Appliances_v1_00/0.1.0 (download: 16.82 MiB, generated: Unknown size, total: 16.82 MiB) to /root/tensorflow_datasets/amazon_us_reviews/Personal_Care_Appliances_v1_00/0.1.0...\n"
          ],
          "name": "stdout"
        },
        {
          "output_type": "display_data",
          "data": {
            "application/vnd.jupyter.widget-view+json": {
              "model_id": "589f4c5782cf428694f5bb451dfea5ad",
              "version_minor": 0,
              "version_major": 2
            },
            "text/plain": [
              "HBox(children=(FloatProgress(value=1.0, bar_style='info', description='Dl Completed...', max=1.0, style=Progre…"
            ]
          },
          "metadata": {
            "tags": []
          }
        },
        {
          "output_type": "display_data",
          "data": {
            "application/vnd.jupyter.widget-view+json": {
              "model_id": "a237c6f0e5914966af01e94a4bef7974",
              "version_minor": 0,
              "version_major": 2
            },
            "text/plain": [
              "HBox(children=(FloatProgress(value=1.0, bar_style='info', description='Dl Size...', max=1.0, style=ProgressSty…"
            ]
          },
          "metadata": {
            "tags": []
          }
        },
        {
          "output_type": "display_data",
          "data": {
            "application/vnd.jupyter.widget-view+json": {
              "model_id": "71d82c2734b2402bbc4fbe1c50fd0bdd",
              "version_minor": 0,
              "version_major": 2
            },
            "text/plain": [
              "HBox(children=(FloatProgress(value=1.0, bar_style='info', description='Extraction completed...', max=1.0, styl…"
            ]
          },
          "metadata": {
            "tags": []
          }
        },
        {
          "output_type": "stream",
          "text": [
            "\n",
            "\n",
            "\n",
            "\n",
            "\n",
            "\n"
          ],
          "name": "stdout"
        },
        {
          "output_type": "display_data",
          "data": {
            "application/vnd.jupyter.widget-view+json": {
              "model_id": "ad7dc9e5373f4711a11f7df5c6d5018c",
              "version_minor": 0,
              "version_major": 2
            },
            "text/plain": [
              "HBox(children=(FloatProgress(value=1.0, bar_style='info', max=1.0), HTML(value='')))"
            ]
          },
          "metadata": {
            "tags": []
          }
        },
        {
          "output_type": "stream",
          "text": [
            "\rShuffling and writing examples to /root/tensorflow_datasets/amazon_us_reviews/Personal_Care_Appliances_v1_00/0.1.0.incomplete5A3KGB/amazon_us_reviews-train.tfrecord\n"
          ],
          "name": "stdout"
        },
        {
          "output_type": "display_data",
          "data": {
            "application/vnd.jupyter.widget-view+json": {
              "model_id": "69548b4c1bfb42da984684b2f2ed2e8a",
              "version_minor": 0,
              "version_major": 2
            },
            "text/plain": [
              "HBox(children=(FloatProgress(value=0.0, max=85981.0), HTML(value='')))"
            ]
          },
          "metadata": {
            "tags": []
          }
        },
        {
          "output_type": "stream",
          "text": [
            "Dataset amazon_us_reviews downloaded and prepared to /root/tensorflow_datasets/amazon_us_reviews/Personal_Care_Appliances_v1_00/0.1.0. Subsequent calls will reuse this data.\n"
          ],
          "name": "stdout"
        }
      ]
    },
    {
      "cell_type": "code",
      "metadata": {
        "id": "u1diITDtD9xD",
        "colab": {
          "base_uri": "https://localhost:8080/"
        },
        "outputId": "30a8d429-14b2-4819-f8d6-1985ff954d2d"
      },
      "source": [
        "info"
      ],
      "execution_count": null,
      "outputs": [
        {
          "output_type": "execute_result",
          "data": {
            "text/plain": [
              "tfds.core.DatasetInfo(\n",
              "    name='amazon_us_reviews',\n",
              "    version=0.1.0,\n",
              "    description='Amazon Customer Reviews (a.k.a. Product Reviews) is one of Amazons iconic products. In a period of over two decades since the first review in 1995, millions of Amazon customers have contributed over a hundred million reviews to express opinions and describe their experiences regarding products on the Amazon.com website. This makes Amazon Customer Reviews a rich source of information for academic researchers in the fields of Natural Language Processing (NLP), Information Retrieval (IR), and Machine Learning (ML), amongst others. Accordingly, we are releasing this data to further research in multiple disciplines related to understanding customer product experiences. Specifically, this dataset was constructed to represent a sample of customer evaluations and opinions, variation in the perception of a product across geographical regions, and promotional intent or bias in reviews.\n",
              "\n",
              "Over 130+ million customer reviews are available to researchers as part of this release. The data is available in TSV files in the amazon-reviews-pds S3 bucket in AWS US East Region. Each line in the data files corresponds to an individual review (tab delimited, with no quote and escape characters).\n",
              "\n",
              "Each Dataset contains the following columns : \n",
              "  marketplace       - 2 letter country code of the marketplace where the review was written.\n",
              "  customer_id       - Random identifier that can be used to aggregate reviews written by a single author.\n",
              "  review_id         - The unique ID of the review.\n",
              "  product_id        - The unique Product ID the review pertains to. In the multilingual dataset the reviews\n",
              "                      for the same product in different countries can be grouped by the same product_id.\n",
              "  product_parent    - Random identifier that can be used to aggregate reviews for the same product.\n",
              "  product_title     - Title of the product.\n",
              "  product_category  - Broad product category that can be used to group reviews \n",
              "                      (also used to group the dataset into coherent parts).\n",
              "  star_rating       - The 1-5 star rating of the review.\n",
              "  helpful_votes     - Number of helpful votes.\n",
              "  total_votes       - Number of total votes the review received.\n",
              "  vine              - Review was written as part of the Vine program.\n",
              "  verified_purchase - The review is on a verified purchase.\n",
              "  review_headline   - The title of the review.\n",
              "  review_body       - The review text.\n",
              "  review_date       - The date the review was written.',\n",
              "    homepage='https://s3.amazonaws.com/amazon-reviews-pds/readme.html',\n",
              "    features=FeaturesDict({\n",
              "        'data': FeaturesDict({\n",
              "            'customer_id': tf.string,\n",
              "            'helpful_votes': tf.int32,\n",
              "            'marketplace': tf.string,\n",
              "            'product_category': tf.string,\n",
              "            'product_id': tf.string,\n",
              "            'product_parent': tf.string,\n",
              "            'product_title': tf.string,\n",
              "            'review_body': tf.string,\n",
              "            'review_date': tf.string,\n",
              "            'review_headline': tf.string,\n",
              "            'review_id': tf.string,\n",
              "            'star_rating': tf.int32,\n",
              "            'total_votes': tf.int32,\n",
              "            'verified_purchase': ClassLabel(shape=(), dtype=tf.int64, num_classes=2),\n",
              "            'vine': ClassLabel(shape=(), dtype=tf.int64, num_classes=2),\n",
              "        }),\n",
              "    }),\n",
              "    total_num_examples=85981,\n",
              "    splits={\n",
              "        'train': 85981,\n",
              "    },\n",
              "    supervised_keys=None,\n",
              "    citation=\"\"\"\"\"\",\n",
              "    redistribution_info=,\n",
              ")"
            ]
          },
          "metadata": {
            "tags": []
          },
          "execution_count": 6
        }
      ]
    },
    {
      "cell_type": "code",
      "metadata": {
        "id": "FeuwcjT2oLWd"
      },
      "source": [
        "dataset=tfds.as_numpy(train_dataset)"
      ],
      "execution_count": null,
      "outputs": []
    },
    {
      "cell_type": "code",
      "metadata": {
        "id": "FCy_iKoLwZWH",
        "colab": {
          "base_uri": "https://localhost:8080/"
        },
        "outputId": "042cc5b5-a900-448b-f4f2-7d9925cd8455"
      },
      "source": [
        "dataset"
      ],
      "execution_count": null,
      "outputs": [
        {
          "output_type": "execute_result",
          "data": {
            "text/plain": [
              "{'data': {'customer_id': array([b'13986323', b'50574716', b'50593972', ..., b'40719682',\n",
              "         b'35596948', b'29430209'], dtype=object),\n",
              "  'helpful_votes': array([0, 3, 0, ..., 0, 0, 0], dtype=int32),\n",
              "  'marketplace': array([b'US', b'US', b'US', ..., b'US', b'US', b'US'], dtype=object),\n",
              "  'product_category': array([b'Personal_Care_Appliances', b'Personal_Care_Appliances',\n",
              "         b'Personal_Care_Appliances', ..., b'Personal_Care_Appliances',\n",
              "         b'Personal_Care_Appliances', b'Personal_Care_Appliances'],\n",
              "        dtype=object),\n",
              "  'product_id': array([b'B00847JQZ6', b'B00N5HD340', b'B0077L1X24', ..., b'B000UZ8X2W',\n",
              "         b'B000NURPPK', b'B001EY5GNW'], dtype=object),\n",
              "  'product_parent': array([b'997683625', b'955577225', b'120764066', ..., b'96066145',\n",
              "         b'58591097', b'986877728'], dtype=object),\n",
              "  'product_title': array([b'SE - Reading Glass - Spring Loaded Hinges, 4.0x - RTS62400',\n",
              "         b'Straight Razor',\n",
              "         b'Philips Sonicare Flexcare & Healthy White Plastic Travel Handle Case New Bulk Package',\n",
              "         ...,\n",
              "         b'Remington R-9200 Microflex Ultra TCT Shaver [Health and Beauty]',\n",
              "         b'SUNBEAM Cool Mist HUMIDIFIER with PermaFilter # 1120 \\xe2\\x80\\x93 1 Ea',\n",
              "         b'Andis Blade Set for T-Outliner Trimmer'], dtype=object),\n",
              "  'review_body': array([b\"These glasses are an excellent value.  The fit is good and they are very comfortable.  Because of my legal blindness, there aren't a lot of options to try to see better, but I believe these help with my other visual aids, and because they are reasonably priced I can have more than one pair available.\",\n",
              "         b\"Always wanted to try straight razor shaving (as a DE safety razor user), and this was a cheap way for me to determine I was not into it.<br /><br />Because the blades are disposable and always sharp, I could put a new one in and reasonably rely upon that fact that cuts were probably due to my technique and not the blade.<br /><br />It's very hard to do straight razor shaving on yourself because the ANGLE is difficult to control without switching hands. Being very right-handed, I really couldn't do that. I bet I could shave someone else's face with it though.<br /><br />An immediate upside? Using a DE safety razor (slant edged even) seems SUPER safe now! I'm increased my speed with the DE due to that confidence, and I'd been using it for years now.\",\n",
              "         b'I usually either throw my toothbrush in a plastic bag with spare head so this product is very convenient for keeping all the parts apart, dry and undamaged, and i now keep it in my travel bag all the time ready to go.',\n",
              "         ...,\n",
              "         b\"I have had a Remington before but needed a new one when the batteries died and the cutters were all but gone.  It was cheaper to buy a new one.  The new one has a nice charge level but the trimmer didn't work when I got it.\",\n",
              "         b\"I was surprised that it really didn't do much compared to the 1950s version that I'd inherited. Keeping a wet wash cloth next to my bed for when I start coughing in the middle of the night works better.\",\n",
              "         b'The blades were an excellent fit for my T-line trimmers.  Within five minutes I had my trimmers cleaned, the blades installed, and was putting them to use.  I saw the blades in several locations for almost twice the price I paid, so this worked out to be an awesome deal.'],\n",
              "        dtype=object),\n",
              "  'review_date': array([b'2015-01-04', b'2015-08-05', b'2012-11-17', ..., b'2008-02-08',\n",
              "         b'2007-09-07', b'2012-07-26'], dtype=object),\n",
              "  'review_headline': array([b'These glasses are an excellent value. The fit is good and they are ...',\n",
              "         b'A fantastic way to cheaply try straight razor shaving.',\n",
              "         b'Great for travel', ..., b'Trimmer Not Working',\n",
              "         b'Loud and ineffectual', b'Excellent product, awesomoe price'],\n",
              "        dtype=object),\n",
              "  'review_id': array([b'R3VEUFVA9QJY55', b'R2DTQV5SMJ0CK7', b'R3OJ06NK99WLNJ', ...,\n",
              "         b'R1ZQ0XZXOD9N18', b'R1FJ9OU429X00Y', b'RI28R1W94N1R6'],\n",
              "        dtype=object),\n",
              "  'star_rating': array([4, 5, 4, ..., 3, 2, 5], dtype=int32),\n",
              "  'total_votes': array([0, 3, 0, ..., 0, 0, 0], dtype=int32),\n",
              "  'verified_purchase': array([0, 0, 0, ..., 1, 0, 0]),\n",
              "  'vine': array([1, 1, 1, ..., 1, 1, 1])}}"
            ]
          },
          "metadata": {
            "tags": []
          },
          "execution_count": 8
        }
      ]
    },
    {
      "cell_type": "code",
      "metadata": {
        "id": "F1pGPYGcoLNz"
      },
      "source": [
        "helpful_votes=dataset['data']['helpful_votes']\n",
        "review_headline=dataset['data']['review_headline']\n",
        "review_body=dataset['data']['review_body']\n",
        "rating=dataset['data']['star_rating']"
      ],
      "execution_count": null,
      "outputs": []
    },
    {
      "cell_type": "code",
      "metadata": {
        "id": "DmS7qQuCoLGF",
        "colab": {
          "base_uri": "https://localhost:8080/"
        },
        "outputId": "ea1e5b88-e29d-4b52-88d9-1ccc09ef4c1d"
      },
      "source": [
        "h2o_df=h2o.H2OFrame(np.hstack((helpful_votes[:,None],review_headline[:,None],review_body[:,None],rating[:,None])),column_names=['votes','headline','reviews','rating'],column_types=['numeric','string','string','numeric'])"
      ],
      "execution_count": null,
      "outputs": [
        {
          "output_type": "stream",
          "text": [
            "Parse progress: |█████████████████████████████████████████████████████████| 100%\n"
          ],
          "name": "stdout"
        }
      ]
    },
    {
      "cell_type": "code",
      "metadata": {
        "id": "AsmO113-vaVY",
        "colab": {
          "base_uri": "https://localhost:8080/",
          "height": 1000
        },
        "outputId": "736fabfa-d9d5-4e15-f314-22cdf280183e"
      },
      "source": [
        "h2o_df"
      ],
      "execution_count": null,
      "outputs": [
        {
          "output_type": "display_data",
          "data": {
            "text/html": [
              "<table>\n",
              "<thead>\n",
              "<tr><th style=\"text-align: right;\">  votes</th><th>headline                                                                 </th><th>reviews                                                                                                                                                                                                                                                                                                                                                                                                                                                                                                                                                                                                                                                                                                                                                                                                                                                                                                                                                                                                                                                                                                                           </th><th style=\"text-align: right;\">  rating</th></tr>\n",
              "</thead>\n",
              "<tbody>\n",
              "<tr><td style=\"text-align: right;\">      0</td><td>b&#x27;These glasses are an excellent value. The fit is good and they are ...&#x27;</td><td>b&quot;These glasses are an excellent value.  The fit is good and they are very comfortable.  Because of my legal blindness, there aren&#x27;t a lot of options to try to see better, but I believe these help with my other visual aids, and because they are reasonably priced I can have more than one pair available.&quot;                                                                                                                                                                                                                                                                                                                                                                                                                                                                                                                                                                                                                                                                                                                                                                                                                  </td><td style=\"text-align: right;\">       4</td></tr>\n",
              "<tr><td style=\"text-align: right;\">      3</td><td>b&#x27;A fantastic way to cheaply try straight razor shaving.&#x27;                </td><td>b&quot;Always wanted to try straight razor shaving (as a DE safety razor user), and this was a cheap way for me to determine I was not into it.&lt;br /&gt;&lt;br /&gt;Because the blades are disposable and always sharp, I could put a new one in and reasonably rely upon that fact that cuts were probably due to my technique and not the blade.&lt;br /&gt;&lt;br /&gt;It&#x27;s very hard to do straight razor shaving on yourself because the ANGLE is difficult to control without switching hands. Being very right-handed, I really couldn&#x27;t do that. I bet I could shave someone else&#x27;s face with it though.&lt;br /&gt;&lt;br /&gt;An immediate upside? Using a DE safety razor (slant edged even) seems SUPER safe now! I&#x27;m increased my speed with the DE due to that confidence, and I&#x27;d been using it for years now.&quot;                                                                                                                                                                                                                                                                                                                                          </td><td style=\"text-align: right;\">       5</td></tr>\n",
              "<tr><td style=\"text-align: right;\">      0</td><td>b&#x27;Great for travel&#x27;                                                      </td><td>b&#x27;I usually either throw my toothbrush in a plastic bag with spare head so this product is very convenient for keeping all the parts apart, dry and undamaged, and i now keep it in my travel bag all the time ready to go.&#x27;                                                                                                                                                                                                                                                                                                                                                                                                                                                                                                                                                                                                                                                                                                                                                                                                                                                                                                      </td><td style=\"text-align: right;\">       4</td></tr>\n",
              "<tr><td style=\"text-align: right;\">      0</td><td>b&#x27;Five Stars&#x27;                                                            </td><td>b&#x27;Top quality.&#x27;                                                                                                                                                                                                                                                                                                                                                                                                                                                                                                                                                                                                                                                                                                                                                                                                                                                                                                                                                                                                                                                                                                                   </td><td style=\"text-align: right;\">       5</td></tr>\n",
              "<tr><td style=\"text-align: right;\">      1</td><td>b&#x27;*Product sent not as shown&#x27;                                            </td><td>b&#x27;Today I received  1 Fl. Oz, Natures Balance AlkaMAX alkaline booster liquid unflavored (formally TriMedica) a glass brown bottle with eye dropper.&lt;br /&gt;Supplement Facts; Serving Size: 10 Drops (Approx. 0.5 mL). Servings per Container: Approx. 60&lt;br /&gt;Amount Per Serving % Daily Value&lt;br /&gt;Magnesium (as Magnesium Chloride) 40 mg 10%&lt;br /&gt;Chloride (as Magnesium Chloride) 64 mg 2%&lt;br /&gt;Other Ingredients: Deionized water and trace mineral complex.&lt;br /&gt;Directions: Add 10 drops to 8 oz. of water or other beverage daily as needed or as directed by your health care practitioner. Store in a cool, dry place.&lt;br /&gt;&lt;br /&gt;I have not used product as of yet with changed ingredients of original/as shown in AlkaMax alkaline support white squeeze bottle.&lt;br /&gt;but had to rate to post...heck this new may be better for all I know.&#x27;                                                                                                                                                                                                                                                                          </td><td style=\"text-align: right;\">       3</td></tr>\n",
              "<tr><td style=\"text-align: right;\">      6</td><td>b&#x27;Seems to work well!&#x27;                                                   </td><td>b&#x27;I recently picked this unit up at Bed and Bath where it was $99.00. With a 20% coupon the price was $80 (so comparison shop!) It\\&#x27;s easy to use and seems to work well. I agree with other reviewers about the noise level (loud like a tea kettle boiling), but I use this unit in the living room area so sleeping is not an issue. Having the 2 separate water reservoirs to fill is much easier, weight-wise, as I previously had another humidifier which had one large water reservoir and it was very heavy when full. The unit comes apart quite easily for cleaning and since frequent cleaning is recommended (I usually do it 1x per week, not daily) this is a definite plus. Additionally, one only needs to use vinegar to clean the inside reservoir, which is a lot cheaper than having to buy some kind of \\\\\\\\&quot;special\\\\\\\\&quot; cleaning solution. My one complaint is that it doesn\\&#x27;t, but should, have an automatic shut off when both tanks are empty.I have to remember to turn the unit off when I leave the house. My previous humidifiers all had this auto turn off; seems like every humidifier should.&#x27;</td><td style=\"text-align: right;\">       4</td></tr>\n",
              "<tr><td style=\"text-align: right;\">      8</td><td>b&#x27;deep heat?????&#x27;                                                        </td><td>b&#x27;Not sure what previous reviewer was talking about. The product uses ULTRASOUND waves for pain relief NOT heat.  After repeated use, the pain in my knee and shoulder was feeling great. I think you should re-read the description and reconsider your opinion. Great product sold by a great company.&#x27;                                                                                                                                                                                                                                                                                                                                                                                                                                                                                                                                                                                                                                                                                                                                                                                                                         </td><td style=\"text-align: right;\">       5</td></tr>\n",
              "<tr><td style=\"text-align: right;\">      2</td><td>b&#x27;Thermometer for a toddler&#x27;                                             </td><td>b&quot;The shippers were great....willing to consider speedier shipping options, but in the end the standard shipping arrived quickly enough. The thermometer is fun and easy to use, but with an inquisitive toddler, it would be nice to have the plastic cap attached to the body so that it doesn&#x27;t disappear.  Would buy it again from these sellers.&quot;                                                                                                                                                                                                                                                                                                                                                                                                                                                                                                                                                                                                                                                                                                                                                                            </td><td style=\"text-align: right;\">       4</td></tr>\n",
              "<tr><td style=\"text-align: right;\">      2</td><td>b&#x27;Wow!&#x27;                                                                  </td><td>b&quot;Man, for all you who know what I&#x27;m talking about, this is the best thing I&#x27;ve ever had on my back.  I suffer from back pain constantly and find myself waking up in the middle of the night pushing parts of my back and neck on the edges of walls on the corners of doors and sometimes lying down on tennis or racket balls to get pressure on those dang trigger points.  I opted for the body sticks package not knowing what they would do and it was a good thing.  They are like have racket balls on the ends of sticks to beat your muscle spasms and to lie down on them rolling around on your back. It is worth the money.  They use a device similar to this in physical therapy so if you get your doctor to write you a script for it, insurance may very well pay for it like mine did.  Even so, paid or not, buy this sucker.  Buy two, I thought, just in case it breaks and they for some reason stop manufacturing this thing.  Good stuff.&quot;                                                                                                                                                              </td><td style=\"text-align: right;\">       5</td></tr>\n",
              "<tr><td style=\"text-align: right;\">      1</td><td>b&#x27;Great cane for people with hand and wrist issues&#x27;                      </td><td>b&quot;I purchased this cane to assist me when I have to walk long distances.  I have rheumatoid arthritis that has particularly affected my low back and hips, and it sometimes makes walking difficult.  The problem with using a cane when you have RA is that RA doesn&#x27;t just affect your lower extremities.  My hands, wrists, and shoulders are also affected.  When I tried a normal cane, it was agonizingly painful for my hand and wrist in particular.  That made it not worth using, even though it did help my hip and back.  A friend with similar issues recommended this one, and the difference was amazing.  It is still a bit hard on my hand after awhile, but not to the point that would make it not worth using.  There really is no perfect solution for this circumstance short of a wheelchair, and I&#x27;m nowhere near ready for that yet!  The forearm rest makes it bearable to use this cane, and it does really help me to walk longer distances when I need to!  It is a great product, and I&#x27;m happy that I purchased it!&quot;                                                                               </td><td style=\"text-align: right;\">       4</td></tr>\n",
              "</tbody>\n",
              "</table>"
            ]
          },
          "metadata": {
            "tags": []
          }
        },
        {
          "output_type": "execute_result",
          "data": {
            "text/plain": [
              ""
            ]
          },
          "metadata": {
            "tags": []
          },
          "execution_count": 11
        }
      ]
    },
    {
      "cell_type": "code",
      "metadata": {
        "id": "ydJ-TzNZvaHR"
      },
      "source": [
        "h2o_df[\"target\"] = (h2o_df[\"rating\"] >= 4).ifelse(\"1\", \"0\")"
      ],
      "execution_count": null,
      "outputs": []
    },
    {
      "cell_type": "code",
      "metadata": {
        "id": "nZOZarx4GGX3",
        "colab": {
          "base_uri": "https://localhost:8080/",
          "height": 1000
        },
        "outputId": "a8a30d7c-cce4-482f-99af-7000edb542ee"
      },
      "source": [
        "h2o_df"
      ],
      "execution_count": null,
      "outputs": [
        {
          "output_type": "display_data",
          "data": {
            "text/html": [
              "<table>\n",
              "<thead>\n",
              "<tr><th style=\"text-align: right;\">  votes</th><th>headline                                                                 </th><th>reviews                                                                                                                                                                                                                                                                                                                                                                                                                                                                                                                                                                                                                                                                                                                                                                                                                                                                                                                                                                                                                                                                                                                           </th><th style=\"text-align: right;\">  rating</th><th style=\"text-align: right;\">  target</th></tr>\n",
              "</thead>\n",
              "<tbody>\n",
              "<tr><td style=\"text-align: right;\">      0</td><td>b&#x27;These glasses are an excellent value. The fit is good and they are ...&#x27;</td><td>b&quot;These glasses are an excellent value.  The fit is good and they are very comfortable.  Because of my legal blindness, there aren&#x27;t a lot of options to try to see better, but I believe these help with my other visual aids, and because they are reasonably priced I can have more than one pair available.&quot;                                                                                                                                                                                                                                                                                                                                                                                                                                                                                                                                                                                                                                                                                                                                                                                                                  </td><td style=\"text-align: right;\">       4</td><td style=\"text-align: right;\">       1</td></tr>\n",
              "<tr><td style=\"text-align: right;\">      3</td><td>b&#x27;A fantastic way to cheaply try straight razor shaving.&#x27;                </td><td>b&quot;Always wanted to try straight razor shaving (as a DE safety razor user), and this was a cheap way for me to determine I was not into it.&lt;br /&gt;&lt;br /&gt;Because the blades are disposable and always sharp, I could put a new one in and reasonably rely upon that fact that cuts were probably due to my technique and not the blade.&lt;br /&gt;&lt;br /&gt;It&#x27;s very hard to do straight razor shaving on yourself because the ANGLE is difficult to control without switching hands. Being very right-handed, I really couldn&#x27;t do that. I bet I could shave someone else&#x27;s face with it though.&lt;br /&gt;&lt;br /&gt;An immediate upside? Using a DE safety razor (slant edged even) seems SUPER safe now! I&#x27;m increased my speed with the DE due to that confidence, and I&#x27;d been using it for years now.&quot;                                                                                                                                                                                                                                                                                                                                          </td><td style=\"text-align: right;\">       5</td><td style=\"text-align: right;\">       1</td></tr>\n",
              "<tr><td style=\"text-align: right;\">      0</td><td>b&#x27;Great for travel&#x27;                                                      </td><td>b&#x27;I usually either throw my toothbrush in a plastic bag with spare head so this product is very convenient for keeping all the parts apart, dry and undamaged, and i now keep it in my travel bag all the time ready to go.&#x27;                                                                                                                                                                                                                                                                                                                                                                                                                                                                                                                                                                                                                                                                                                                                                                                                                                                                                                      </td><td style=\"text-align: right;\">       4</td><td style=\"text-align: right;\">       1</td></tr>\n",
              "<tr><td style=\"text-align: right;\">      0</td><td>b&#x27;Five Stars&#x27;                                                            </td><td>b&#x27;Top quality.&#x27;                                                                                                                                                                                                                                                                                                                                                                                                                                                                                                                                                                                                                                                                                                                                                                                                                                                                                                                                                                                                                                                                                                                   </td><td style=\"text-align: right;\">       5</td><td style=\"text-align: right;\">       1</td></tr>\n",
              "<tr><td style=\"text-align: right;\">      1</td><td>b&#x27;*Product sent not as shown&#x27;                                            </td><td>b&#x27;Today I received  1 Fl. Oz, Natures Balance AlkaMAX alkaline booster liquid unflavored (formally TriMedica) a glass brown bottle with eye dropper.&lt;br /&gt;Supplement Facts; Serving Size: 10 Drops (Approx. 0.5 mL). Servings per Container: Approx. 60&lt;br /&gt;Amount Per Serving % Daily Value&lt;br /&gt;Magnesium (as Magnesium Chloride) 40 mg 10%&lt;br /&gt;Chloride (as Magnesium Chloride) 64 mg 2%&lt;br /&gt;Other Ingredients: Deionized water and trace mineral complex.&lt;br /&gt;Directions: Add 10 drops to 8 oz. of water or other beverage daily as needed or as directed by your health care practitioner. Store in a cool, dry place.&lt;br /&gt;&lt;br /&gt;I have not used product as of yet with changed ingredients of original/as shown in AlkaMax alkaline support white squeeze bottle.&lt;br /&gt;but had to rate to post...heck this new may be better for all I know.&#x27;                                                                                                                                                                                                                                                                          </td><td style=\"text-align: right;\">       3</td><td style=\"text-align: right;\">       0</td></tr>\n",
              "<tr><td style=\"text-align: right;\">      6</td><td>b&#x27;Seems to work well!&#x27;                                                   </td><td>b&#x27;I recently picked this unit up at Bed and Bath where it was $99.00. With a 20% coupon the price was $80 (so comparison shop!) It\\&#x27;s easy to use and seems to work well. I agree with other reviewers about the noise level (loud like a tea kettle boiling), but I use this unit in the living room area so sleeping is not an issue. Having the 2 separate water reservoirs to fill is much easier, weight-wise, as I previously had another humidifier which had one large water reservoir and it was very heavy when full. The unit comes apart quite easily for cleaning and since frequent cleaning is recommended (I usually do it 1x per week, not daily) this is a definite plus. Additionally, one only needs to use vinegar to clean the inside reservoir, which is a lot cheaper than having to buy some kind of \\\\\\\\&quot;special\\\\\\\\&quot; cleaning solution. My one complaint is that it doesn\\&#x27;t, but should, have an automatic shut off when both tanks are empty.I have to remember to turn the unit off when I leave the house. My previous humidifiers all had this auto turn off; seems like every humidifier should.&#x27;</td><td style=\"text-align: right;\">       4</td><td style=\"text-align: right;\">       1</td></tr>\n",
              "<tr><td style=\"text-align: right;\">      8</td><td>b&#x27;deep heat?????&#x27;                                                        </td><td>b&#x27;Not sure what previous reviewer was talking about. The product uses ULTRASOUND waves for pain relief NOT heat.  After repeated use, the pain in my knee and shoulder was feeling great. I think you should re-read the description and reconsider your opinion. Great product sold by a great company.&#x27;                                                                                                                                                                                                                                                                                                                                                                                                                                                                                                                                                                                                                                                                                                                                                                                                                         </td><td style=\"text-align: right;\">       5</td><td style=\"text-align: right;\">       1</td></tr>\n",
              "<tr><td style=\"text-align: right;\">      2</td><td>b&#x27;Thermometer for a toddler&#x27;                                             </td><td>b&quot;The shippers were great....willing to consider speedier shipping options, but in the end the standard shipping arrived quickly enough. The thermometer is fun and easy to use, but with an inquisitive toddler, it would be nice to have the plastic cap attached to the body so that it doesn&#x27;t disappear.  Would buy it again from these sellers.&quot;                                                                                                                                                                                                                                                                                                                                                                                                                                                                                                                                                                                                                                                                                                                                                                            </td><td style=\"text-align: right;\">       4</td><td style=\"text-align: right;\">       1</td></tr>\n",
              "<tr><td style=\"text-align: right;\">      2</td><td>b&#x27;Wow!&#x27;                                                                  </td><td>b&quot;Man, for all you who know what I&#x27;m talking about, this is the best thing I&#x27;ve ever had on my back.  I suffer from back pain constantly and find myself waking up in the middle of the night pushing parts of my back and neck on the edges of walls on the corners of doors and sometimes lying down on tennis or racket balls to get pressure on those dang trigger points.  I opted for the body sticks package not knowing what they would do and it was a good thing.  They are like have racket balls on the ends of sticks to beat your muscle spasms and to lie down on them rolling around on your back. It is worth the money.  They use a device similar to this in physical therapy so if you get your doctor to write you a script for it, insurance may very well pay for it like mine did.  Even so, paid or not, buy this sucker.  Buy two, I thought, just in case it breaks and they for some reason stop manufacturing this thing.  Good stuff.&quot;                                                                                                                                                              </td><td style=\"text-align: right;\">       5</td><td style=\"text-align: right;\">       1</td></tr>\n",
              "<tr><td style=\"text-align: right;\">      1</td><td>b&#x27;Great cane for people with hand and wrist issues&#x27;                      </td><td>b&quot;I purchased this cane to assist me when I have to walk long distances.  I have rheumatoid arthritis that has particularly affected my low back and hips, and it sometimes makes walking difficult.  The problem with using a cane when you have RA is that RA doesn&#x27;t just affect your lower extremities.  My hands, wrists, and shoulders are also affected.  When I tried a normal cane, it was agonizingly painful for my hand and wrist in particular.  That made it not worth using, even though it did help my hip and back.  A friend with similar issues recommended this one, and the difference was amazing.  It is still a bit hard on my hand after awhile, but not to the point that would make it not worth using.  There really is no perfect solution for this circumstance short of a wheelchair, and I&#x27;m nowhere near ready for that yet!  The forearm rest makes it bearable to use this cane, and it does really help me to walk longer distances when I need to!  It is a great product, and I&#x27;m happy that I purchased it!&quot;                                                                               </td><td style=\"text-align: right;\">       4</td><td style=\"text-align: right;\">       1</td></tr>\n",
              "</tbody>\n",
              "</table>"
            ]
          },
          "metadata": {
            "tags": []
          }
        },
        {
          "output_type": "execute_result",
          "data": {
            "text/plain": [
              ""
            ]
          },
          "metadata": {
            "tags": []
          },
          "execution_count": 13
        }
      ]
    },
    {
      "cell_type": "code",
      "metadata": {
        "id": "SbU4KHtEyJdM",
        "colab": {
          "base_uri": "https://localhost:8080/"
        },
        "outputId": "1767eae2-6808-49dc-ce45-1fea75c4fada"
      },
      "source": [
        "h2o_df.shape[0]"
      ],
      "execution_count": null,
      "outputs": [
        {
          "output_type": "execute_result",
          "data": {
            "text/plain": [
              "85981"
            ]
          },
          "metadata": {
            "tags": []
          },
          "execution_count": 14
        }
      ]
    },
    {
      "cell_type": "code",
      "metadata": {
        "id": "f1p0u2X8yJaX",
        "colab": {
          "base_uri": "https://localhost:8080/",
          "height": 82
        },
        "outputId": "bab2f1c9-2dce-4d36-9e8a-8d1f414479ee"
      },
      "source": [
        "h2o_df[\"target\"].table()"
      ],
      "execution_count": null,
      "outputs": [
        {
          "output_type": "display_data",
          "data": {
            "text/html": [
              "<table>\n",
              "<thead>\n",
              "<tr><th style=\"text-align: right;\">  target</th><th style=\"text-align: right;\">  Count</th></tr>\n",
              "</thead>\n",
              "<tbody>\n",
              "<tr><td style=\"text-align: right;\">       0</td><td style=\"text-align: right;\">  23427</td></tr>\n",
              "<tr><td style=\"text-align: right;\">       1</td><td style=\"text-align: right;\">  62554</td></tr>\n",
              "</tbody>\n",
              "</table>"
            ]
          },
          "metadata": {
            "tags": []
          }
        },
        {
          "output_type": "execute_result",
          "data": {
            "text/plain": [
              ""
            ]
          },
          "metadata": {
            "tags": []
          },
          "execution_count": 15
        }
      ]
    },
    {
      "cell_type": "code",
      "metadata": {
        "id": "1dSVG5FhZLI9",
        "colab": {
          "base_uri": "https://localhost:8080/",
          "height": 1000
        },
        "outputId": "71cef49f-ec81-4bd9-976a-d0cfffda5e8e"
      },
      "source": [
        "h2o_df.describe()"
      ],
      "execution_count": null,
      "outputs": [
        {
          "output_type": "stream",
          "text": [
            "Rows:85981\n",
            "Cols:5\n",
            "\n",
            "\n"
          ],
          "name": "stdout"
        },
        {
          "output_type": "display_data",
          "data": {
            "text/html": [
              "<table>\n",
              "<thead>\n",
              "<tr><th>       </th><th>votes             </th><th>headline                                                                 </th><th>reviews                                                                                                                                                                                                                                                                                                                                                                                                                                                                                                                                                                                                                                                                                                                                                                                                                                                                                                                                                                                                                                                                                                                           </th><th>rating           </th><th>target  </th></tr>\n",
              "</thead>\n",
              "<tbody>\n",
              "<tr><td>type   </td><td>int               </td><td>string                                                                   </td><td>string                                                                                                                                                                                                                                                                                                                                                                                                                                                                                                                                                                                                                                                                                                                                                                                                                                                                                                                                                                                                                                                                                                                            </td><td>int              </td><td>enum    </td></tr>\n",
              "<tr><td>mins   </td><td>0.0               </td><td>NaN                                                                      </td><td>NaN                                                                                                                                                                                                                                                                                                                                                                                                                                                                                                                                                                                                                                                                                                                                                                                                                                                                                                                                                                                                                                                                                                                               </td><td>1.0              </td><td>        </td></tr>\n",
              "<tr><td>mean   </td><td>3.3494841883672   </td><td>NaN                                                                      </td><td>NaN                                                                                                                                                                                                                                                                                                                                                                                                                                                                                                                                                                                                                                                                                                                                                                                                                                                                                                                                                                                                                                                                                                                               </td><td>3.977401984159291</td><td>        </td></tr>\n",
              "<tr><td>maxs   </td><td>2785.0            </td><td>NaN                                                                      </td><td>NaN                                                                                                                                                                                                                                                                                                                                                                                                                                                                                                                                                                                                                                                                                                                                                                                                                                                                                                                                                                                                                                                                                                                               </td><td>5.0              </td><td>        </td></tr>\n",
              "<tr><td>sigma  </td><td>19.483167220712946</td><td>NaN                                                                      </td><td>NaN                                                                                                                                                                                                                                                                                                                                                                                                                                                                                                                                                                                                                                                                                                                                                                                                                                                                                                                                                                                                                                                                                                                               </td><td>1.433130291971473</td><td>        </td></tr>\n",
              "<tr><td>zeros  </td><td>44555             </td><td>0                                                                        </td><td>0                                                                                                                                                                                                                                                                                                                                                                                                                                                                                                                                                                                                                                                                                                                                                                                                                                                                                                                                                                                                                                                                                                                                 </td><td>0                </td><td>        </td></tr>\n",
              "<tr><td>missing</td><td>0                 </td><td>0                                                                        </td><td>0                                                                                                                                                                                                                                                                                                                                                                                                                                                                                                                                                                                                                                                                                                                                                                                                                                                                                                                                                                                                                                                                                                                                 </td><td>0                </td><td>0       </td></tr>\n",
              "<tr><td>0      </td><td>0.0               </td><td>b&#x27;These glasses are an excellent value. The fit is good and they are ...&#x27;</td><td>b&quot;These glasses are an excellent value.  The fit is good and they are very comfortable.  Because of my legal blindness, there aren&#x27;t a lot of options to try to see better, but I believe these help with my other visual aids, and because they are reasonably priced I can have more than one pair available.&quot;                                                                                                                                                                                                                                                                                                                                                                                                                                                                                                                                                                                                                                                                                                                                                                                                                  </td><td>4.0              </td><td>1       </td></tr>\n",
              "<tr><td>1      </td><td>3.0               </td><td>b&#x27;A fantastic way to cheaply try straight razor shaving.&#x27;                </td><td>b&quot;Always wanted to try straight razor shaving (as a DE safety razor user), and this was a cheap way for me to determine I was not into it.&lt;br /&gt;&lt;br /&gt;Because the blades are disposable and always sharp, I could put a new one in and reasonably rely upon that fact that cuts were probably due to my technique and not the blade.&lt;br /&gt;&lt;br /&gt;It&#x27;s very hard to do straight razor shaving on yourself because the ANGLE is difficult to control without switching hands. Being very right-handed, I really couldn&#x27;t do that. I bet I could shave someone else&#x27;s face with it though.&lt;br /&gt;&lt;br /&gt;An immediate upside? Using a DE safety razor (slant edged even) seems SUPER safe now! I&#x27;m increased my speed with the DE due to that confidence, and I&#x27;d been using it for years now.&quot;                                                                                                                                                                                                                                                                                                                                          </td><td>5.0              </td><td>1       </td></tr>\n",
              "<tr><td>2      </td><td>0.0               </td><td>b&#x27;Great for travel&#x27;                                                      </td><td>b&#x27;I usually either throw my toothbrush in a plastic bag with spare head so this product is very convenient for keeping all the parts apart, dry and undamaged, and i now keep it in my travel bag all the time ready to go.&#x27;                                                                                                                                                                                                                                                                                                                                                                                                                                                                                                                                                                                                                                                                                                                                                                                                                                                                                                      </td><td>4.0              </td><td>1       </td></tr>\n",
              "<tr><td>3      </td><td>0.0               </td><td>b&#x27;Five Stars&#x27;                                                            </td><td>b&#x27;Top quality.&#x27;                                                                                                                                                                                                                                                                                                                                                                                                                                                                                                                                                                                                                                                                                                                                                                                                                                                                                                                                                                                                                                                                                                                   </td><td>5.0              </td><td>1       </td></tr>\n",
              "<tr><td>4      </td><td>1.0               </td><td>b&#x27;*Product sent not as shown&#x27;                                            </td><td>b&#x27;Today I received  1 Fl. Oz, Natures Balance AlkaMAX alkaline booster liquid unflavored (formally TriMedica) a glass brown bottle with eye dropper.&lt;br /&gt;Supplement Facts; Serving Size: 10 Drops (Approx. 0.5 mL). Servings per Container: Approx. 60&lt;br /&gt;Amount Per Serving % Daily Value&lt;br /&gt;Magnesium (as Magnesium Chloride) 40 mg 10%&lt;br /&gt;Chloride (as Magnesium Chloride) 64 mg 2%&lt;br /&gt;Other Ingredients: Deionized water and trace mineral complex.&lt;br /&gt;Directions: Add 10 drops to 8 oz. of water or other beverage daily as needed or as directed by your health care practitioner. Store in a cool, dry place.&lt;br /&gt;&lt;br /&gt;I have not used product as of yet with changed ingredients of original/as shown in AlkaMax alkaline support white squeeze bottle.&lt;br /&gt;but had to rate to post...heck this new may be better for all I know.&#x27;                                                                                                                                                                                                                                                                          </td><td>3.0              </td><td>0       </td></tr>\n",
              "<tr><td>5      </td><td>6.0               </td><td>b&#x27;Seems to work well!&#x27;                                                   </td><td>b&#x27;I recently picked this unit up at Bed and Bath where it was $99.00. With a 20% coupon the price was $80 (so comparison shop!) It\\&#x27;s easy to use and seems to work well. I agree with other reviewers about the noise level (loud like a tea kettle boiling), but I use this unit in the living room area so sleeping is not an issue. Having the 2 separate water reservoirs to fill is much easier, weight-wise, as I previously had another humidifier which had one large water reservoir and it was very heavy when full. The unit comes apart quite easily for cleaning and since frequent cleaning is recommended (I usually do it 1x per week, not daily) this is a definite plus. Additionally, one only needs to use vinegar to clean the inside reservoir, which is a lot cheaper than having to buy some kind of \\\\\\\\&quot;special\\\\\\\\&quot; cleaning solution. My one complaint is that it doesn\\&#x27;t, but should, have an automatic shut off when both tanks are empty.I have to remember to turn the unit off when I leave the house. My previous humidifiers all had this auto turn off; seems like every humidifier should.&#x27;</td><td>4.0              </td><td>1       </td></tr>\n",
              "<tr><td>6      </td><td>8.0               </td><td>b&#x27;deep heat?????&#x27;                                                        </td><td>b&#x27;Not sure what previous reviewer was talking about. The product uses ULTRASOUND waves for pain relief NOT heat.  After repeated use, the pain in my knee and shoulder was feeling great. I think you should re-read the description and reconsider your opinion. Great product sold by a great company.&#x27;                                                                                                                                                                                                                                                                                                                                                                                                                                                                                                                                                                                                                                                                                                                                                                                                                         </td><td>5.0              </td><td>1       </td></tr>\n",
              "<tr><td>7      </td><td>2.0               </td><td>b&#x27;Thermometer for a toddler&#x27;                                             </td><td>b&quot;The shippers were great....willing to consider speedier shipping options, but in the end the standard shipping arrived quickly enough. The thermometer is fun and easy to use, but with an inquisitive toddler, it would be nice to have the plastic cap attached to the body so that it doesn&#x27;t disappear.  Would buy it again from these sellers.&quot;                                                                                                                                                                                                                                                                                                                                                                                                                                                                                                                                                                                                                                                                                                                                                                            </td><td>4.0              </td><td>1       </td></tr>\n",
              "<tr><td>8      </td><td>2.0               </td><td>b&#x27;Wow!&#x27;                                                                  </td><td>b&quot;Man, for all you who know what I&#x27;m talking about, this is the best thing I&#x27;ve ever had on my back.  I suffer from back pain constantly and find myself waking up in the middle of the night pushing parts of my back and neck on the edges of walls on the corners of doors and sometimes lying down on tennis or racket balls to get pressure on those dang trigger points.  I opted for the body sticks package not knowing what they would do and it was a good thing.  They are like have racket balls on the ends of sticks to beat your muscle spasms and to lie down on them rolling around on your back. It is worth the money.  They use a device similar to this in physical therapy so if you get your doctor to write you a script for it, insurance may very well pay for it like mine did.  Even so, paid or not, buy this sucker.  Buy two, I thought, just in case it breaks and they for some reason stop manufacturing this thing.  Good stuff.&quot;                                                                                                                                                              </td><td>5.0              </td><td>1       </td></tr>\n",
              "<tr><td>9      </td><td>1.0               </td><td>b&#x27;Great cane for people with hand and wrist issues&#x27;                      </td><td>b&quot;I purchased this cane to assist me when I have to walk long distances.  I have rheumatoid arthritis that has particularly affected my low back and hips, and it sometimes makes walking difficult.  The problem with using a cane when you have RA is that RA doesn&#x27;t just affect your lower extremities.  My hands, wrists, and shoulders are also affected.  When I tried a normal cane, it was agonizingly painful for my hand and wrist in particular.  That made it not worth using, even though it did help my hip and back.  A friend with similar issues recommended this one, and the difference was amazing.  It is still a bit hard on my hand after awhile, but not to the point that would make it not worth using.  There really is no perfect solution for this circumstance short of a wheelchair, and I&#x27;m nowhere near ready for that yet!  The forearm rest makes it bearable to use this cane, and it does really help me to walk longer distances when I need to!  It is a great product, and I&#x27;m happy that I purchased it!&quot;                                                                               </td><td>4.0              </td><td>1       </td></tr>\n",
              "</tbody>\n",
              "</table>"
            ]
          },
          "metadata": {
            "tags": []
          }
        }
      ]
    },
    {
      "cell_type": "code",
      "metadata": {
        "id": "eqGNG1soyJVD",
        "colab": {
          "base_uri": "https://localhost:8080/"
        },
        "outputId": "3e9a4c4b-a579-4dce-f6e2-d4b1a0ff4745"
      },
      "source": [
        "import nltk\n",
        "from nltk.corpus import stopwords\n",
        "nltk.download('stopwords')\n",
        "stop_words = set(stopwords.words('english'))"
      ],
      "execution_count": null,
      "outputs": [
        {
          "output_type": "stream",
          "text": [
            "[nltk_data] Downloading package stopwords to /root/nltk_data...\n",
            "[nltk_data]   Unzipping corpora/stopwords.zip.\n"
          ],
          "name": "stdout"
        }
      ]
    },
    {
      "cell_type": "code",
      "metadata": {
        "id": "r4F49W-pyJI7"
      },
      "source": [
        "def tokenize(line):\n",
        "  tokenized = line.tokenize(\"\\\\W+\")\n",
        "  tokenized = tokenized.tolower()\n",
        "  tokenized = tokenized[(tokenized.nchar() >= 2) | (tokenized.isna()),:]\n",
        "  tokenized_filter = tokenized[(tokenized.isna()) | (~ tokenized.isin(stop_words)),:]\n",
        "  return tokenized_filter"
      ],
      "execution_count": null,
      "outputs": []
    },
    {
      "cell_type": "code",
      "metadata": {
        "id": "ZzZdLLdiG9j6"
      },
      "source": [
        "words_reviews = tokenize(h2o_df[\"reviews\"])"
      ],
      "execution_count": null,
      "outputs": []
    },
    {
      "cell_type": "code",
      "metadata": {
        "id": "bZA2YY0NWgb5"
      },
      "source": [
        "words_headline = tokenize(h2o_df[\"headline\"])"
      ],
      "execution_count": null,
      "outputs": []
    },
    {
      "cell_type": "code",
      "metadata": {
        "id": "iz_3SU51h2Et",
        "colab": {
          "base_uri": "https://localhost:8080/",
          "height": 250
        },
        "outputId": "5458145d-2d11-4768-d952-648237e879a6"
      },
      "source": [
        "words_reviews.head()"
      ],
      "execution_count": null,
      "outputs": [
        {
          "output_type": "display_data",
          "data": {
            "text/html": [
              "<table>\n",
              "<thead>\n",
              "<tr><th>C1         </th></tr>\n",
              "</thead>\n",
              "<tbody>\n",
              "<tr><td>glasses    </td></tr>\n",
              "<tr><td>excellent  </td></tr>\n",
              "<tr><td>value      </td></tr>\n",
              "<tr><td>fit        </td></tr>\n",
              "<tr><td>good       </td></tr>\n",
              "<tr><td>comfortable</td></tr>\n",
              "<tr><td>legal      </td></tr>\n",
              "<tr><td>blindness  </td></tr>\n",
              "<tr><td>lot        </td></tr>\n",
              "<tr><td>options    </td></tr>\n",
              "</tbody>\n",
              "</table>"
            ]
          },
          "metadata": {
            "tags": []
          }
        },
        {
          "output_type": "execute_result",
          "data": {
            "text/plain": [
              ""
            ]
          },
          "metadata": {
            "tags": []
          },
          "execution_count": 21
        }
      ]
    },
    {
      "cell_type": "code",
      "metadata": {
        "id": "0N2rKpvfWS7h",
        "colab": {
          "base_uri": "https://localhost:8080/",
          "height": 233
        },
        "outputId": "43492a8d-bd37-4a0b-bac4-979c108d80bb"
      },
      "source": [
        "words_headline.head()"
      ],
      "execution_count": null,
      "outputs": [
        {
          "output_type": "display_data",
          "data": {
            "text/html": [
              "<table>\n",
              "<thead>\n",
              "<tr><th>C1       </th></tr>\n",
              "</thead>\n",
              "<tbody>\n",
              "<tr><td>glasses  </td></tr>\n",
              "<tr><td>excellent</td></tr>\n",
              "<tr><td>value    </td></tr>\n",
              "<tr><td>fit      </td></tr>\n",
              "<tr><td>good     </td></tr>\n",
              "<tr><td>         </td></tr>\n",
              "<tr><td>fantastic</td></tr>\n",
              "<tr><td>way      </td></tr>\n",
              "<tr><td>cheaply  </td></tr>\n",
              "<tr><td>try      </td></tr>\n",
              "</tbody>\n",
              "</table>"
            ]
          },
          "metadata": {
            "tags": []
          }
        },
        {
          "output_type": "execute_result",
          "data": {
            "text/plain": [
              ""
            ]
          },
          "metadata": {
            "tags": []
          },
          "execution_count": 22
        }
      ]
    },
    {
      "cell_type": "code",
      "metadata": {
        "id": "kUhlPUyzZJjj",
        "colab": {
          "base_uri": "https://localhost:8080/"
        },
        "outputId": "bb94f58c-29b1-4437-f912-a025eeee59c1"
      },
      "source": [
        "words_reviews.shape"
      ],
      "execution_count": null,
      "outputs": [
        {
          "output_type": "execute_result",
          "data": {
            "text/plain": [
              "(2797601, 1)"
            ]
          },
          "metadata": {
            "tags": []
          },
          "execution_count": 23
        }
      ]
    },
    {
      "cell_type": "code",
      "metadata": {
        "id": "WR_X8k8JG5B-"
      },
      "source": [
        "from h2o.estimators.word2vec import H2OWord2vecEstimator\n",
        "from h2o.estimators import H2OGradientBoostingEstimator, H2OXGBoostEstimator"
      ],
      "execution_count": null,
      "outputs": []
    },
    {
      "cell_type": "code",
      "metadata": {
        "id": "g5K-IodmG4_T",
        "colab": {
          "base_uri": "https://localhost:8080/"
        },
        "outputId": "30968cdd-0d75-4c86-e63a-1110e7bf8865"
      },
      "source": [
        "vec_model = H2OWord2vecEstimator(vec_size = 100, model_id = \"w2v_amazon.model\")\n",
        "vec_model.train(training_frame=words_reviews)"
      ],
      "execution_count": null,
      "outputs": [
        {
          "output_type": "stream",
          "text": [
            "word2vec Model Build progress: |██████████████████████████████████████████| 100%\n"
          ],
          "name": "stdout"
        }
      ]
    },
    {
      "cell_type": "code",
      "metadata": {
        "id": "sG2A-UfXbfzD",
        "colab": {
          "base_uri": "https://localhost:8080/",
          "height": 35
        },
        "outputId": "e8fd6d4e-b932-498f-8c11-1a2f41510d5e"
      },
      "source": [
        "h2o.save_model(vec_model,path='./')"
      ],
      "execution_count": null,
      "outputs": [
        {
          "output_type": "execute_result",
          "data": {
            "application/vnd.google.colaboratory.intrinsic+json": {
              "type": "string"
            },
            "text/plain": [
              "'/content/w2v_amazon.model'"
            ]
          },
          "metadata": {
            "tags": []
          },
          "execution_count": 26
        }
      ]
    },
    {
      "cell_type": "code",
      "metadata": {
        "id": "AAgPN7hdZ3ME"
      },
      "source": [
        "vec_model=h2o.load_model(\"w2v_amazon.model\")"
      ],
      "execution_count": null,
      "outputs": []
    },
    {
      "cell_type": "code",
      "metadata": {
        "id": "sgZyEeLvG47p",
        "colab": {
          "base_uri": "https://localhost:8080/"
        },
        "outputId": "2e794b3b-6fe7-48a1-b998-3befdb8769c3"
      },
      "source": [
        "vec_model.find_synonyms(\"perfumes\", count = 5)"
      ],
      "execution_count": null,
      "outputs": [
        {
          "output_type": "execute_result",
          "data": {
            "text/plain": [
              "OrderedDict([('scents', 0.731712818145752),\n",
              "             ('fragrances', 0.7275827527046204),\n",
              "             ('ammonia', 0.7230103015899658),\n",
              "             ('perfumey', 0.7228897213935852),\n",
              "             ('patchouli', 0.7091456651687622)])"
            ]
          },
          "metadata": {
            "tags": []
          },
          "execution_count": 28
        }
      ]
    },
    {
      "cell_type": "code",
      "metadata": {
        "id": "3plvsgBfG44v",
        "colab": {
          "base_uri": "https://localhost:8080/"
        },
        "outputId": "e341b54e-ad64-4278-f7fe-9b9bd97a7cf5"
      },
      "source": [
        "vec_model.find_synonyms(\"toothpaste\", count = 5)"
      ],
      "execution_count": null,
      "outputs": [
        {
          "output_type": "execute_result",
          "data": {
            "text/plain": [
              "OrderedDict([('listerine', 0.7314082980155945),\n",
              "             ('mouthwash', 0.7106643915176392),\n",
              "             ('plax', 0.6831181049346924),\n",
              "             ('whitening', 0.6725975275039673),\n",
              "             ('mentadent', 0.6616833806037903)])"
            ]
          },
          "metadata": {
            "tags": []
          },
          "execution_count": 29
        }
      ]
    },
    {
      "cell_type": "code",
      "metadata": {
        "id": "PX2yFFJ1xzxo",
        "colab": {
          "base_uri": "https://localhost:8080/"
        },
        "outputId": "b86ee483-c69f-4977-ad72-e32e42dccf5a"
      },
      "source": [
        "vec_model.find_synonyms(\"glasses\", count = 5)"
      ],
      "execution_count": null,
      "outputs": [
        {
          "output_type": "execute_result",
          "data": {
            "text/plain": [
              "OrderedDict([('sunglasses', 0.905297040939331),\n",
              "             ('readers', 0.8506031036376953),\n",
              "             ('bifocal', 0.8018675446510315),\n",
              "             ('bifocals', 0.8004747033119202),\n",
              "             ('lenses', 0.774211585521698)])"
            ]
          },
          "metadata": {
            "tags": []
          },
          "execution_count": 30
        }
      ]
    },
    {
      "cell_type": "code",
      "metadata": {
        "id": "GYgnJp7BG40n"
      },
      "source": [
        "review_vecs = vec_model.transform(words_reviews, aggregate_method = \"AVERAGE\")"
      ],
      "execution_count": null,
      "outputs": []
    },
    {
      "cell_type": "code",
      "metadata": {
        "id": "t3mnSozFcM5e",
        "colab": {
          "base_uri": "https://localhost:8080/"
        },
        "outputId": "44f1286b-6237-421a-d253-7e3458b6280a"
      },
      "source": [
        "review_vecs.shape"
      ],
      "execution_count": null,
      "outputs": [
        {
          "output_type": "execute_result",
          "data": {
            "text/plain": [
              "(85981, 100)"
            ]
          },
          "metadata": {
            "tags": []
          },
          "execution_count": 32
        }
      ]
    },
    {
      "cell_type": "code",
      "metadata": {
        "id": "Ma2yfQe6OGFJ",
        "colab": {
          "base_uri": "https://localhost:8080/",
          "height": 270
        },
        "outputId": "6fb20c8d-c16a-4d25-99bd-a9ac31a6edb8"
      },
      "source": [
        "review_vecs.head()"
      ],
      "execution_count": null,
      "outputs": [
        {
          "output_type": "display_data",
          "data": {
            "text/html": [
              "<table>\n",
              "<thead>\n",
              "<tr><th style=\"text-align: right;\">         C1</th><th style=\"text-align: right;\">        C2</th><th style=\"text-align: right;\">         C3</th><th style=\"text-align: right;\">         C4</th><th style=\"text-align: right;\">        C5</th><th style=\"text-align: right;\">        C6</th><th style=\"text-align: right;\">          C7</th><th style=\"text-align: right;\">          C8</th><th style=\"text-align: right;\">         C9</th><th style=\"text-align: right;\">        C10</th><th style=\"text-align: right;\">       C11</th><th style=\"text-align: right;\">       C12</th><th style=\"text-align: right;\">       C13</th><th style=\"text-align: right;\">        C14</th><th style=\"text-align: right;\">        C15</th><th style=\"text-align: right;\">      C16</th><th style=\"text-align: right;\">      C17</th><th style=\"text-align: right;\">         C18</th><th style=\"text-align: right;\">       C19</th><th style=\"text-align: right;\">        C20</th><th style=\"text-align: right;\">         C21</th><th style=\"text-align: right;\">        C22</th><th style=\"text-align: right;\">      C23</th><th style=\"text-align: right;\">         C24</th><th style=\"text-align: right;\">       C25</th><th style=\"text-align: right;\">         C26</th><th style=\"text-align: right;\">         C27</th><th style=\"text-align: right;\">        C28</th><th style=\"text-align: right;\">        C29</th><th style=\"text-align: right;\">        C30</th><th style=\"text-align: right;\">        C31</th><th style=\"text-align: right;\">     C32</th><th style=\"text-align: right;\">      C33</th><th style=\"text-align: right;\">      C34</th><th style=\"text-align: right;\">        C35</th><th style=\"text-align: right;\">        C36</th><th style=\"text-align: right;\">       C37</th><th style=\"text-align: right;\">        C38</th><th style=\"text-align: right;\">       C39</th><th style=\"text-align: right;\">        C40</th><th style=\"text-align: right;\">       C41</th><th style=\"text-align: right;\">         C42</th><th style=\"text-align: right;\">        C43</th><th style=\"text-align: right;\">       C44</th><th style=\"text-align: right;\">        C45</th><th style=\"text-align: right;\">         C46</th><th style=\"text-align: right;\">       C47</th><th style=\"text-align: right;\">       C48</th><th style=\"text-align: right;\">       C49</th><th style=\"text-align: right;\">        C50</th><th style=\"text-align: right;\">       C51</th><th style=\"text-align: right;\">      C52</th><th style=\"text-align: right;\">         C53</th><th style=\"text-align: right;\">       C54</th><th style=\"text-align: right;\">       C55</th><th style=\"text-align: right;\">        C56</th><th style=\"text-align: right;\">      C57</th><th style=\"text-align: right;\">       C58</th><th style=\"text-align: right;\">        C59</th><th style=\"text-align: right;\">        C60</th><th style=\"text-align: right;\">        C61</th><th style=\"text-align: right;\">       C62</th><th style=\"text-align: right;\">        C63</th><th style=\"text-align: right;\">        C64</th><th style=\"text-align: right;\">        C65</th><th style=\"text-align: right;\">        C66</th><th style=\"text-align: right;\">        C67</th><th style=\"text-align: right;\">       C68</th><th style=\"text-align: right;\">       C69</th><th style=\"text-align: right;\">       C70</th><th style=\"text-align: right;\">        C71</th><th style=\"text-align: right;\">       C72</th><th style=\"text-align: right;\">        C73</th><th style=\"text-align: right;\">       C74</th><th style=\"text-align: right;\">       C75</th><th style=\"text-align: right;\">        C76</th><th style=\"text-align: right;\">        C77</th><th style=\"text-align: right;\">        C78</th><th style=\"text-align: right;\">      C79</th><th style=\"text-align: right;\">        C80</th><th style=\"text-align: right;\">       C81</th><th style=\"text-align: right;\">        C82</th><th style=\"text-align: right;\">       C83</th><th style=\"text-align: right;\">        C84</th><th style=\"text-align: right;\">        C85</th><th style=\"text-align: right;\">        C86</th><th style=\"text-align: right;\">        C87</th><th style=\"text-align: right;\">        C88</th><th style=\"text-align: right;\">        C89</th><th style=\"text-align: right;\">      C90</th><th style=\"text-align: right;\">        C91</th><th style=\"text-align: right;\">       C92</th><th style=\"text-align: right;\">        C93</th><th style=\"text-align: right;\">      C94</th><th style=\"text-align: right;\">         C95</th><th style=\"text-align: right;\">       C96</th><th style=\"text-align: right;\">       C97</th><th style=\"text-align: right;\">         C98</th><th style=\"text-align: right;\">        C99</th><th style=\"text-align: right;\">      C100</th></tr>\n",
              "</thead>\n",
              "<tbody>\n",
              "<tr><td style=\"text-align: right;\"> 0.00934097</td><td style=\"text-align: right;\">-0.0449695</td><td style=\"text-align: right;\"> 0.00968279</td><td style=\"text-align: right;\"> 0.047959  </td><td style=\"text-align: right;\"> 0.0100523</td><td style=\"text-align: right;\">-0.21977  </td><td style=\"text-align: right;\"> 0.100607   </td><td style=\"text-align: right;\">-0.0611635  </td><td style=\"text-align: right;\"> 0.0862981 </td><td style=\"text-align: right;\">-0.0448692 </td><td style=\"text-align: right;\"> 0.0312522</td><td style=\"text-align: right;\">-0.0454777</td><td style=\"text-align: right;\"> 0.0509306</td><td style=\"text-align: right;\">-0.092182  </td><td style=\"text-align: right;\"> 0.00505671</td><td style=\"text-align: right;\">0.10907  </td><td style=\"text-align: right;\">0.0647627</td><td style=\"text-align: right;\">-0.0894473  </td><td style=\"text-align: right;\">-0.159762 </td><td style=\"text-align: right;\">-0.0528736 </td><td style=\"text-align: right;\"> 0.0837388  </td><td style=\"text-align: right;\"> 0.0220571 </td><td style=\"text-align: right;\">0.0819381</td><td style=\"text-align: right;\">-0.0333095  </td><td style=\"text-align: right;\">-0.093628 </td><td style=\"text-align: right;\">-0.000713503</td><td style=\"text-align: right;\">-0.0769556  </td><td style=\"text-align: right;\">-0.196145  </td><td style=\"text-align: right;\"> 0.0918638 </td><td style=\"text-align: right;\">-0.165846  </td><td style=\"text-align: right;\">-0.0310038 </td><td style=\"text-align: right;\">0.131587</td><td style=\"text-align: right;\">-0.326407</td><td style=\"text-align: right;\">0.0684597</td><td style=\"text-align: right;\"> 0.117866  </td><td style=\"text-align: right;\"> 0.106205  </td><td style=\"text-align: right;\">-0.12432  </td><td style=\"text-align: right;\"> 0.118427  </td><td style=\"text-align: right;\"> 0.099242 </td><td style=\"text-align: right;\">-0.0587956 </td><td style=\"text-align: right;\">-0.0453913</td><td style=\"text-align: right;\"> 0.000794032</td><td style=\"text-align: right;\"> 0.0625963 </td><td style=\"text-align: right;\"> 0.0865316</td><td style=\"text-align: right;\">-0.126944  </td><td style=\"text-align: right;\">-0.0300864  </td><td style=\"text-align: right;\"> 0.13253  </td><td style=\"text-align: right;\"> 0.101773 </td><td style=\"text-align: right;\"> 0.150268 </td><td style=\"text-align: right;\">-0.0298987 </td><td style=\"text-align: right;\"> 0.0443763</td><td style=\"text-align: right;\">0.145583 </td><td style=\"text-align: right;\"> 0.083649   </td><td style=\"text-align: right;\">-0.118579 </td><td style=\"text-align: right;\"> 0.0192593</td><td style=\"text-align: right;\">-0.0606626 </td><td style=\"text-align: right;\">-0.130173</td><td style=\"text-align: right;\">-0.157818 </td><td style=\"text-align: right;\">-0.0242551 </td><td style=\"text-align: right;\">-0.00783122</td><td style=\"text-align: right;\">-0.00693656</td><td style=\"text-align: right;\">-0.219217 </td><td style=\"text-align: right;\"> 0.0541948 </td><td style=\"text-align: right;\">-0.0518407 </td><td style=\"text-align: right;\">-0.089331  </td><td style=\"text-align: right;\"> 0.0995324 </td><td style=\"text-align: right;\">-0.0714646 </td><td style=\"text-align: right;\"> 0.1406   </td><td style=\"text-align: right;\"> 0.0436389</td><td style=\"text-align: right;\"> 0.0649835</td><td style=\"text-align: right;\"> 0.0152287 </td><td style=\"text-align: right;\">-0.159729 </td><td style=\"text-align: right;\">-0.0241953 </td><td style=\"text-align: right;\"> 0.142265 </td><td style=\"text-align: right;\">-0.0722696</td><td style=\"text-align: right;\">-0.0167957 </td><td style=\"text-align: right;\"> 0.0227495 </td><td style=\"text-align: right;\"> 0.0028031 </td><td style=\"text-align: right;\">0.129604 </td><td style=\"text-align: right;\"> 0.0579878 </td><td style=\"text-align: right;\"> 0.0206792</td><td style=\"text-align: right;\"> 0.0232514 </td><td style=\"text-align: right;\">-0.0535433</td><td style=\"text-align: right;\">-0.00940141</td><td style=\"text-align: right;\"> 0.0254933 </td><td style=\"text-align: right;\"> 0.0378408 </td><td style=\"text-align: right;\">-0.0176913 </td><td style=\"text-align: right;\">-0.0396341 </td><td style=\"text-align: right;\"> 0.0709885 </td><td style=\"text-align: right;\">0.107319 </td><td style=\"text-align: right;\">-0.0906737 </td><td style=\"text-align: right;\"> 0.0193811</td><td style=\"text-align: right;\">-0.107289  </td><td style=\"text-align: right;\">0.182081 </td><td style=\"text-align: right;\"> 0.000275808</td><td style=\"text-align: right;\"> 0.0467986</td><td style=\"text-align: right;\">-0.0106147</td><td style=\"text-align: right;\"> 0.0751207  </td><td style=\"text-align: right;\">-0.0227641 </td><td style=\"text-align: right;\">-0.0655888</td></tr>\n",
              "<tr><td style=\"text-align: right;\">-0.117354  </td><td style=\"text-align: right;\"> 0.0564638</td><td style=\"text-align: right;\">-0.109472  </td><td style=\"text-align: right;\">-0.0224463 </td><td style=\"text-align: right;\">-0.181247 </td><td style=\"text-align: right;\">-0.0576652</td><td style=\"text-align: right;\"> 0.000504293</td><td style=\"text-align: right;\"> 0.0359361  </td><td style=\"text-align: right;\"> 0.00642332</td><td style=\"text-align: right;\">-0.112906  </td><td style=\"text-align: right;\">-0.041397 </td><td style=\"text-align: right;\">-0.0311216</td><td style=\"text-align: right;\"> 0.0204269</td><td style=\"text-align: right;\">-0.149265  </td><td style=\"text-align: right;\"> 0.0950877 </td><td style=\"text-align: right;\">0.121777 </td><td style=\"text-align: right;\">0.0638284</td><td style=\"text-align: right;\"> 0.00461012 </td><td style=\"text-align: right;\">-0.043578 </td><td style=\"text-align: right;\">-0.111816  </td><td style=\"text-align: right;\">-0.0725529  </td><td style=\"text-align: right;\">-0.0426635 </td><td style=\"text-align: right;\">0.0388389</td><td style=\"text-align: right;\">-0.00468327 </td><td style=\"text-align: right;\">-0.117516 </td><td style=\"text-align: right;\">-0.087487   </td><td style=\"text-align: right;\">-0.166078   </td><td style=\"text-align: right;\">-0.183386  </td><td style=\"text-align: right;\">-0.0168666 </td><td style=\"text-align: right;\">-0.0565724 </td><td style=\"text-align: right;\">-0.0723601 </td><td style=\"text-align: right;\">0.201763</td><td style=\"text-align: right;\">-0.248822</td><td style=\"text-align: right;\">0.132934 </td><td style=\"text-align: right;\"> 0.114929  </td><td style=\"text-align: right;\"> 0.0785554 </td><td style=\"text-align: right;\">-0.102231 </td><td style=\"text-align: right;\"> 0.00712108</td><td style=\"text-align: right;\"> 0.0312869</td><td style=\"text-align: right;\">-0.00278948</td><td style=\"text-align: right;\">-0.121597 </td><td style=\"text-align: right;\"> 0.0755067  </td><td style=\"text-align: right;\">-0.0185483 </td><td style=\"text-align: right;\"> 0.209131 </td><td style=\"text-align: right;\">-0.0358012 </td><td style=\"text-align: right;\">-0.0228111  </td><td style=\"text-align: right;\"> 0.143156 </td><td style=\"text-align: right;\">-0.179867 </td><td style=\"text-align: right;\"> 0.0428643</td><td style=\"text-align: right;\">-0.0394806 </td><td style=\"text-align: right;\">-0.0141673</td><td style=\"text-align: right;\">0.0875979</td><td style=\"text-align: right;\"> 0.0255198  </td><td style=\"text-align: right;\">-0.195457 </td><td style=\"text-align: right;\">-0.0125307</td><td style=\"text-align: right;\"> 0.13054   </td><td style=\"text-align: right;\">-0.144081</td><td style=\"text-align: right;\">-0.0108645</td><td style=\"text-align: right;\">-0.0496558 </td><td style=\"text-align: right;\">-0.043882  </td><td style=\"text-align: right;\">-0.00840334</td><td style=\"text-align: right;\">-0.155857 </td><td style=\"text-align: right;\"> 0.0455767 </td><td style=\"text-align: right;\"> 0.0528886 </td><td style=\"text-align: right;\">-0.0632871 </td><td style=\"text-align: right;\"> 0.162178  </td><td style=\"text-align: right;\">-0.0564496 </td><td style=\"text-align: right;\">-0.101205 </td><td style=\"text-align: right;\"> 0.0553778</td><td style=\"text-align: right;\"> 0.0399391</td><td style=\"text-align: right;\">-0.0635239 </td><td style=\"text-align: right;\">-0.0805165</td><td style=\"text-align: right;\">-0.0177849 </td><td style=\"text-align: right;\"> 0.0467629</td><td style=\"text-align: right;\">-0.019149 </td><td style=\"text-align: right;\">-0.123171  </td><td style=\"text-align: right;\">-0.096211  </td><td style=\"text-align: right;\">-0.0978426 </td><td style=\"text-align: right;\">0.0847528</td><td style=\"text-align: right;\"> 0.0713447 </td><td style=\"text-align: right;\">-0.0798808</td><td style=\"text-align: right;\">-0.0687511 </td><td style=\"text-align: right;\">-0.0816252</td><td style=\"text-align: right;\">-0.0409283 </td><td style=\"text-align: right;\">-0.00603324</td><td style=\"text-align: right;\"> 0.00491512</td><td style=\"text-align: right;\">-0.00934015</td><td style=\"text-align: right;\"> 0.0811935 </td><td style=\"text-align: right;\">-0.015165  </td><td style=\"text-align: right;\">0.149285 </td><td style=\"text-align: right;\">-0.174346  </td><td style=\"text-align: right;\"> 0.105827 </td><td style=\"text-align: right;\">-0.00424887</td><td style=\"text-align: right;\">0.0397456</td><td style=\"text-align: right;\"> 0.032648   </td><td style=\"text-align: right;\"> 0.0527358</td><td style=\"text-align: right;\"> 0.225143 </td><td style=\"text-align: right;\"> 0.0937514  </td><td style=\"text-align: right;\"> 0.0711753 </td><td style=\"text-align: right;\"> 0.0263166</td></tr>\n",
              "<tr><td style=\"text-align: right;\">-0.0182556 </td><td style=\"text-align: right;\"> 0.0521946</td><td style=\"text-align: right;\">-0.0756898 </td><td style=\"text-align: right;\"> 0.00753865</td><td style=\"text-align: right;\">-0.0936974</td><td style=\"text-align: right;\">-0.118675 </td><td style=\"text-align: right;\">-0.0285746  </td><td style=\"text-align: right;\">-0.000488953</td><td style=\"text-align: right;\"> 0.0138707 </td><td style=\"text-align: right;\">-0.171856  </td><td style=\"text-align: right;\">-0.0156041</td><td style=\"text-align: right;\"> 0.179744 </td><td style=\"text-align: right;\"> 0.0729884</td><td style=\"text-align: right;\">-0.0449804 </td><td style=\"text-align: right;\">-0.046097  </td><td style=\"text-align: right;\">0.17016  </td><td style=\"text-align: right;\">0.10675  </td><td style=\"text-align: right;\"> 0.00900092 </td><td style=\"text-align: right;\"> 0.0667099</td><td style=\"text-align: right;\">-0.0974423 </td><td style=\"text-align: right;\">-0.105858   </td><td style=\"text-align: right;\"> 0.0788659 </td><td style=\"text-align: right;\">0.0319993</td><td style=\"text-align: right;\">-0.0487696  </td><td style=\"text-align: right;\">-0.211413 </td><td style=\"text-align: right;\">-0.134492   </td><td style=\"text-align: right;\">-0.0247879  </td><td style=\"text-align: right;\">-0.0628126 </td><td style=\"text-align: right;\"> 0.0928638 </td><td style=\"text-align: right;\">-0.192666  </td><td style=\"text-align: right;\"> 0.0580135 </td><td style=\"text-align: right;\">0.226345</td><td style=\"text-align: right;\">-0.289489</td><td style=\"text-align: right;\">0.223702 </td><td style=\"text-align: right;\"> 0.160271  </td><td style=\"text-align: right;\">-0.079064  </td><td style=\"text-align: right;\">-0.0480549</td><td style=\"text-align: right;\"> 0.015106  </td><td style=\"text-align: right;\"> 0.0282529</td><td style=\"text-align: right;\">-0.0346619 </td><td style=\"text-align: right;\">-0.132731 </td><td style=\"text-align: right;\">-0.0841799  </td><td style=\"text-align: right;\">-0.0239787 </td><td style=\"text-align: right;\"> 0.0251711</td><td style=\"text-align: right;\">-0.110334  </td><td style=\"text-align: right;\">-0.0654465  </td><td style=\"text-align: right;\"> 0.0738367</td><td style=\"text-align: right;\">-0.0300657</td><td style=\"text-align: right;\">-0.0278956</td><td style=\"text-align: right;\">-0.0940067 </td><td style=\"text-align: right;\"> 0.122759 </td><td style=\"text-align: right;\">0.0178586</td><td style=\"text-align: right;\">-0.0152139  </td><td style=\"text-align: right;\">-0.0901849</td><td style=\"text-align: right;\">-0.0887555</td><td style=\"text-align: right;\">-0.0675663 </td><td style=\"text-align: right;\">-0.108957</td><td style=\"text-align: right;\">-0.143435 </td><td style=\"text-align: right;\"> 0.0140057 </td><td style=\"text-align: right;\">-0.194407  </td><td style=\"text-align: right;\">-0.123499  </td><td style=\"text-align: right;\">-0.0905096</td><td style=\"text-align: right;\"> 0.139666  </td><td style=\"text-align: right;\"> 0.0972187 </td><td style=\"text-align: right;\"> 0.0627782 </td><td style=\"text-align: right;\"> 0.0346531 </td><td style=\"text-align: right;\">-0.0956451 </td><td style=\"text-align: right;\"> 0.0950271</td><td style=\"text-align: right;\"> 0.0632692</td><td style=\"text-align: right;\">-0.0683168</td><td style=\"text-align: right;\"> 0.00566815</td><td style=\"text-align: right;\">-0.196671 </td><td style=\"text-align: right;\"> 0.0928125 </td><td style=\"text-align: right;\">-0.136539 </td><td style=\"text-align: right;\"> 0.0693378</td><td style=\"text-align: right;\">-0.0203891 </td><td style=\"text-align: right;\"> 0.0272258 </td><td style=\"text-align: right;\">-0.00616365</td><td style=\"text-align: right;\">0.134203 </td><td style=\"text-align: right;\"> 0.0407966 </td><td style=\"text-align: right;\"> 0.0274407</td><td style=\"text-align: right;\"> 0.0515739 </td><td style=\"text-align: right;\"> 0.0964604</td><td style=\"text-align: right;\">-0.029349  </td><td style=\"text-align: right;\">-0.0141364 </td><td style=\"text-align: right;\"> 0.0894616 </td><td style=\"text-align: right;\">-0.149698  </td><td style=\"text-align: right;\"> 0.147333  </td><td style=\"text-align: right;\"> 0.0581745 </td><td style=\"text-align: right;\">0.046402 </td><td style=\"text-align: right;\">-0.0249793 </td><td style=\"text-align: right;\"> 0.0695885</td><td style=\"text-align: right;\"> 0.03676   </td><td style=\"text-align: right;\">0.0439186</td><td style=\"text-align: right;\"> 0.0146307  </td><td style=\"text-align: right;\"> 0.015339 </td><td style=\"text-align: right;\"> 0.107277 </td><td style=\"text-align: right;\">-0.0126255  </td><td style=\"text-align: right;\">-0.0459635 </td><td style=\"text-align: right;\">-0.0515933</td></tr>\n",
              "<tr><td style=\"text-align: right;\">-0.32449   </td><td style=\"text-align: right;\">-0.176921 </td><td style=\"text-align: right;\">-0.134938  </td><td style=\"text-align: right;\"> 0.132256  </td><td style=\"text-align: right;\">-0.0574781</td><td style=\"text-align: right;\">-0.135921 </td><td style=\"text-align: right;\">-0.121762   </td><td style=\"text-align: right;\">-0.169756   </td><td style=\"text-align: right;\">-0.0661433 </td><td style=\"text-align: right;\">-0.213463  </td><td style=\"text-align: right;\">-0.251051 </td><td style=\"text-align: right;\"> 0.0952179</td><td style=\"text-align: right;\">-0.122979 </td><td style=\"text-align: right;\">-0.010924  </td><td style=\"text-align: right;\"> 0.00605402</td><td style=\"text-align: right;\">0.262869 </td><td style=\"text-align: right;\">0.204408 </td><td style=\"text-align: right;\">-0.257502   </td><td style=\"text-align: right;\"> 0.177804 </td><td style=\"text-align: right;\">-0.248132  </td><td style=\"text-align: right;\">-0.0990953  </td><td style=\"text-align: right;\"> 0.0421815 </td><td style=\"text-align: right;\">0.0795267</td><td style=\"text-align: right;\">-0.104444   </td><td style=\"text-align: right;\">-0.0955591</td><td style=\"text-align: right;\"> 0.0339498  </td><td style=\"text-align: right;\">-0.0450508  </td><td style=\"text-align: right;\">-0.00460741</td><td style=\"text-align: right;\"> 0.242771  </td><td style=\"text-align: right;\"> 0.00426207</td><td style=\"text-align: right;\">-0.291508  </td><td style=\"text-align: right;\">0.129689</td><td style=\"text-align: right;\">-0.269132</td><td style=\"text-align: right;\">0.213341 </td><td style=\"text-align: right;\">-0.0323853 </td><td style=\"text-align: right;\"> 0.22769   </td><td style=\"text-align: right;\">-0.0577053</td><td style=\"text-align: right;\"> 0.0524685 </td><td style=\"text-align: right;\">-0.0838064</td><td style=\"text-align: right;\"> 0.0271308 </td><td style=\"text-align: right;\">-0.075056 </td><td style=\"text-align: right;\"> 0.0129534  </td><td style=\"text-align: right;\"> 0.196141  </td><td style=\"text-align: right;\">-0.176919 </td><td style=\"text-align: right;\">-0.213397  </td><td style=\"text-align: right;\">-0.123516   </td><td style=\"text-align: right;\"> 0.0291268</td><td style=\"text-align: right;\">-0.134868 </td><td style=\"text-align: right;\"> 0.0961147</td><td style=\"text-align: right;\">-0.00917695</td><td style=\"text-align: right;\"> 0.0305647</td><td style=\"text-align: right;\">0.216978 </td><td style=\"text-align: right;\"> 0.0658743  </td><td style=\"text-align: right;\">-0.324029 </td><td style=\"text-align: right;\">-0.118757 </td><td style=\"text-align: right;\"> 0.0056975 </td><td style=\"text-align: right;\">-0.139536</td><td style=\"text-align: right;\">-0.12349  </td><td style=\"text-align: right;\">-0.0981698 </td><td style=\"text-align: right;\">-0.23227   </td><td style=\"text-align: right;\">-0.00954248</td><td style=\"text-align: right;\">-0.174279 </td><td style=\"text-align: right;\">-0.0139085 </td><td style=\"text-align: right;\"> 0.0321176 </td><td style=\"text-align: right;\">-0.0303458 </td><td style=\"text-align: right;\"> 0.128566  </td><td style=\"text-align: right;\"> 0.106215  </td><td style=\"text-align: right;\"> 0.154881 </td><td style=\"text-align: right;\"> 0.105432 </td><td style=\"text-align: right;\"> 0.131029 </td><td style=\"text-align: right;\">-0.0463209 </td><td style=\"text-align: right;\">-0.0607621</td><td style=\"text-align: right;\">-0.0823143 </td><td style=\"text-align: right;\">-0.0592846</td><td style=\"text-align: right;\">-0.0699865</td><td style=\"text-align: right;\"> 0.00373598</td><td style=\"text-align: right;\"> 0.136168  </td><td style=\"text-align: right;\"> 0.111787  </td><td style=\"text-align: right;\">0.0928797</td><td style=\"text-align: right;\"> 0.241021  </td><td style=\"text-align: right;\"> 0.149059 </td><td style=\"text-align: right;\"> 0.0639762 </td><td style=\"text-align: right;\">-0.1164   </td><td style=\"text-align: right;\"> 0.250833  </td><td style=\"text-align: right;\">-0.294328  </td><td style=\"text-align: right;\"> 0.11845   </td><td style=\"text-align: right;\"> 0.0667442 </td><td style=\"text-align: right;\">-0.0851794 </td><td style=\"text-align: right;\"> 0.0442021 </td><td style=\"text-align: right;\">0.070748 </td><td style=\"text-align: right;\">-0.0868778 </td><td style=\"text-align: right;\">-0.113216 </td><td style=\"text-align: right;\">-0.0426444 </td><td style=\"text-align: right;\">0.216376 </td><td style=\"text-align: right;\"> 0.0367554  </td><td style=\"text-align: right;\"> 0.0436818</td><td style=\"text-align: right;\"> 0.0500047</td><td style=\"text-align: right;\"> 0.000565454</td><td style=\"text-align: right;\">-0.0611891 </td><td style=\"text-align: right;\">-0.13503  </td></tr>\n",
              "<tr><td style=\"text-align: right;\"> 0.0199303 </td><td style=\"text-align: right;\">-0.133647 </td><td style=\"text-align: right;\">-0.0212157 </td><td style=\"text-align: right;\"> 0.0497898 </td><td style=\"text-align: right;\"> 0.0163117</td><td style=\"text-align: right;\">-0.19138  </td><td style=\"text-align: right;\"> 0.0127314  </td><td style=\"text-align: right;\"> 0.038853   </td><td style=\"text-align: right;\">-0.0272167 </td><td style=\"text-align: right;\">-0.0312699 </td><td style=\"text-align: right;\">-0.0337034</td><td style=\"text-align: right;\"> 0.0177065</td><td style=\"text-align: right;\">-0.105312 </td><td style=\"text-align: right;\">-0.107927  </td><td style=\"text-align: right;\">-0.0732297 </td><td style=\"text-align: right;\">0.0351647</td><td style=\"text-align: right;\">0.136687 </td><td style=\"text-align: right;\"> 0.0477885  </td><td style=\"text-align: right;\">-0.0259436</td><td style=\"text-align: right;\"> 0.0395091 </td><td style=\"text-align: right;\">-0.143302   </td><td style=\"text-align: right;\">-0.148483  </td><td style=\"text-align: right;\">0.0662262</td><td style=\"text-align: right;\">-0.0562442  </td><td style=\"text-align: right;\">-0.130291 </td><td style=\"text-align: right;\"> 0.087808   </td><td style=\"text-align: right;\">-0.203983   </td><td style=\"text-align: right;\">-0.0594044 </td><td style=\"text-align: right;\"> 0.00212838</td><td style=\"text-align: right;\">-0.140322  </td><td style=\"text-align: right;\"> 0.151905  </td><td style=\"text-align: right;\">0.273296</td><td style=\"text-align: right;\">-0.176831</td><td style=\"text-align: right;\">0.0907481</td><td style=\"text-align: right;\"> 0.0324158 </td><td style=\"text-align: right;\">-0.0275828 </td><td style=\"text-align: right;\">-0.0691135</td><td style=\"text-align: right;\">-0.123887  </td><td style=\"text-align: right;\">-0.0033758</td><td style=\"text-align: right;\">-0.176426  </td><td style=\"text-align: right;\">-0.095717 </td><td style=\"text-align: right;\"> 0.0546642  </td><td style=\"text-align: right;\"> 0.149565  </td><td style=\"text-align: right;\"> 0.0979925</td><td style=\"text-align: right;\">-0.116451  </td><td style=\"text-align: right;\">-0.122524   </td><td style=\"text-align: right;\">-0.0784492</td><td style=\"text-align: right;\"> 0.064307 </td><td style=\"text-align: right;\"> 0.103384 </td><td style=\"text-align: right;\">-0.00728571</td><td style=\"text-align: right;\">-0.0872399</td><td style=\"text-align: right;\">0.0936055</td><td style=\"text-align: right;\"> 0.000731335</td><td style=\"text-align: right;\">-0.0889475</td><td style=\"text-align: right;\">-0.0956513</td><td style=\"text-align: right;\"> 0.0277445 </td><td style=\"text-align: right;\">-0.123155</td><td style=\"text-align: right;\">-0.0626869</td><td style=\"text-align: right;\"> 0.00513014</td><td style=\"text-align: right;\">-0.0601326 </td><td style=\"text-align: right;\">-0.0537743 </td><td style=\"text-align: right;\">-0.0431413</td><td style=\"text-align: right;\"> 0.0797714 </td><td style=\"text-align: right;\">-0.170543  </td><td style=\"text-align: right;\">-0.130012  </td><td style=\"text-align: right;\">-0.0618475 </td><td style=\"text-align: right;\"> 0.144651  </td><td style=\"text-align: right;\"> 0.0767646</td><td style=\"text-align: right;\"> 0.116859 </td><td style=\"text-align: right;\">-0.048784 </td><td style=\"text-align: right;\">-0.23471   </td><td style=\"text-align: right;\">-0.174974 </td><td style=\"text-align: right;\"> 0.0959222 </td><td style=\"text-align: right;\">-0.0332347</td><td style=\"text-align: right;\"> 0.0917558</td><td style=\"text-align: right;\">-0.109391  </td><td style=\"text-align: right;\">-0.0892738 </td><td style=\"text-align: right;\"> 0.0156673 </td><td style=\"text-align: right;\">0.252065 </td><td style=\"text-align: right;\">-0.108122  </td><td style=\"text-align: right;\"> 0.161417 </td><td style=\"text-align: right;\"> 0.0597877 </td><td style=\"text-align: right;\"> 0.0586911</td><td style=\"text-align: right;\"> 0.0576192 </td><td style=\"text-align: right;\">-0.0232059 </td><td style=\"text-align: right;\"> 0.0646095 </td><td style=\"text-align: right;\"> 0.00373664</td><td style=\"text-align: right;\"> 0.0910097 </td><td style=\"text-align: right;\"> 0.058994  </td><td style=\"text-align: right;\">0.217485 </td><td style=\"text-align: right;\">-0.115068  </td><td style=\"text-align: right;\"> 0.0854497</td><td style=\"text-align: right;\">-0.0782515 </td><td style=\"text-align: right;\">0.0663879</td><td style=\"text-align: right;\"> 0.206612   </td><td style=\"text-align: right;\">-0.132117 </td><td style=\"text-align: right;\">-0.0865038</td><td style=\"text-align: right;\"> 0.1317     </td><td style=\"text-align: right;\">-0.0320866 </td><td style=\"text-align: right;\"> 0.0252101</td></tr>\n",
              "<tr><td style=\"text-align: right;\"> 0.044116  </td><td style=\"text-align: right;\"> 0.0543101</td><td style=\"text-align: right;\">-0.0544009 </td><td style=\"text-align: right;\"> 0.076699  </td><td style=\"text-align: right;\">-0.123881 </td><td style=\"text-align: right;\">-0.0905709</td><td style=\"text-align: right;\">-0.0352014  </td><td style=\"text-align: right;\">-0.0315325  </td><td style=\"text-align: right;\">-0.027536  </td><td style=\"text-align: right;\">-0.025981  </td><td style=\"text-align: right;\">-0.0401484</td><td style=\"text-align: right;\"> 0.0276453</td><td style=\"text-align: right;\">-0.0637177</td><td style=\"text-align: right;\"> 0.00967475</td><td style=\"text-align: right;\">-0.0521957 </td><td style=\"text-align: right;\">0.163038 </td><td style=\"text-align: right;\">0.0621355</td><td style=\"text-align: right;\">-0.0408319  </td><td style=\"text-align: right;\"> 0.0206892</td><td style=\"text-align: right;\">-0.0415252 </td><td style=\"text-align: right;\">-0.04051    </td><td style=\"text-align: right;\"> 0.0762698 </td><td style=\"text-align: right;\">0.0604373</td><td style=\"text-align: right;\">-0.0381887  </td><td style=\"text-align: right;\">-0.14991  </td><td style=\"text-align: right;\"> 0.0460534  </td><td style=\"text-align: right;\">-0.0834924  </td><td style=\"text-align: right;\">-0.131598  </td><td style=\"text-align: right;\"> 0.0557697 </td><td style=\"text-align: right;\">-0.193101  </td><td style=\"text-align: right;\"> 0.0278909 </td><td style=\"text-align: right;\">0.264475</td><td style=\"text-align: right;\">-0.186226</td><td style=\"text-align: right;\">0.129458 </td><td style=\"text-align: right;\"> 0.108131  </td><td style=\"text-align: right;\">-0.00751915</td><td style=\"text-align: right;\">-0.0384764</td><td style=\"text-align: right;\">-0.0810622 </td><td style=\"text-align: right;\">-0.0743446</td><td style=\"text-align: right;\">-0.0426215 </td><td style=\"text-align: right;\">-0.0383693</td><td style=\"text-align: right;\"> 0.00860647 </td><td style=\"text-align: right;\"> 0.0161774 </td><td style=\"text-align: right;\"> 0.0761123</td><td style=\"text-align: right;\">-0.120411  </td><td style=\"text-align: right;\">-0.0765421  </td><td style=\"text-align: right;\"> 0.0987999</td><td style=\"text-align: right;\">-0.046441 </td><td style=\"text-align: right;\"> 0.0444829</td><td style=\"text-align: right;\">-0.00948163</td><td style=\"text-align: right;\">-0.042136 </td><td style=\"text-align: right;\">0.125358 </td><td style=\"text-align: right;\"> 0.0619874  </td><td style=\"text-align: right;\">-0.175529 </td><td style=\"text-align: right;\">-0.0129518</td><td style=\"text-align: right;\"> 0.0238373 </td><td style=\"text-align: right;\">-0.194877</td><td style=\"text-align: right;\">-0.153718 </td><td style=\"text-align: right;\"> 0.0298306 </td><td style=\"text-align: right;\">-0.109089  </td><td style=\"text-align: right;\">-0.0570706 </td><td style=\"text-align: right;\">-0.045464 </td><td style=\"text-align: right;\"> 0.124903  </td><td style=\"text-align: right;\"> 0.00430953</td><td style=\"text-align: right;\">-0.0163661 </td><td style=\"text-align: right;\"> 0.132106  </td><td style=\"text-align: right;\"> 0.0339329 </td><td style=\"text-align: right;\"> 0.110116 </td><td style=\"text-align: right;\">-0.039671 </td><td style=\"text-align: right;\"> 0.0260071</td><td style=\"text-align: right;\">-0.146683  </td><td style=\"text-align: right;\">-0.109901 </td><td style=\"text-align: right;\"> 0.15149   </td><td style=\"text-align: right;\">-0.0830654</td><td style=\"text-align: right;\"> 0.0226155</td><td style=\"text-align: right;\">-0.0543527 </td><td style=\"text-align: right;\"> 0.0112293 </td><td style=\"text-align: right;\"> 0.0124822 </td><td style=\"text-align: right;\">0.16415  </td><td style=\"text-align: right;\">-0.0727834 </td><td style=\"text-align: right;\"> 0.0111258</td><td style=\"text-align: right;\">-0.00257705</td><td style=\"text-align: right;\"> 0.102705 </td><td style=\"text-align: right;\"> 0.00288406</td><td style=\"text-align: right;\">-0.0404096 </td><td style=\"text-align: right;\"> 0.00278223</td><td style=\"text-align: right;\"> 0.0259324 </td><td style=\"text-align: right;\"> 0.0351446 </td><td style=\"text-align: right;\">-0.0245482 </td><td style=\"text-align: right;\">0.132383 </td><td style=\"text-align: right;\">-0.0387    </td><td style=\"text-align: right;\"> 0.0870203</td><td style=\"text-align: right;\"> 0.00384889</td><td style=\"text-align: right;\">0.0701144</td><td style=\"text-align: right;\"> 0.0459565  </td><td style=\"text-align: right;\"> 0.0255071</td><td style=\"text-align: right;\">-0.0648421</td><td style=\"text-align: right;\"> 0.0441975  </td><td style=\"text-align: right;\"> 0.00864522</td><td style=\"text-align: right;\">-0.0103483</td></tr>\n",
              "<tr><td style=\"text-align: right;\"> 0.125515  </td><td style=\"text-align: right;\">-0.0372164</td><td style=\"text-align: right;\"> 0.0433377 </td><td style=\"text-align: right;\"> 0.0497465 </td><td style=\"text-align: right;\">-0.0809028</td><td style=\"text-align: right;\">-0.148119 </td><td style=\"text-align: right;\"> 0.117169   </td><td style=\"text-align: right;\">-0.0354926  </td><td style=\"text-align: right;\"> 0.0579689 </td><td style=\"text-align: right;\">-0.105565  </td><td style=\"text-align: right;\">-0.0680086</td><td style=\"text-align: right;\">-0.0238758</td><td style=\"text-align: right;\"> 0.0710591</td><td style=\"text-align: right;\">-0.0966039 </td><td style=\"text-align: right;\">-0.0427182 </td><td style=\"text-align: right;\">0.0741745</td><td style=\"text-align: right;\">0.0622633</td><td style=\"text-align: right;\">-0.133013   </td><td style=\"text-align: right;\">-0.0570313</td><td style=\"text-align: right;\">-0.0584615 </td><td style=\"text-align: right;\"> 6.85463e-05</td><td style=\"text-align: right;\"> 0.00596264</td><td style=\"text-align: right;\">0.164339 </td><td style=\"text-align: right;\">-0.0567968  </td><td style=\"text-align: right;\">-0.0311951</td><td style=\"text-align: right;\"> 0.0590976  </td><td style=\"text-align: right;\">-0.050178   </td><td style=\"text-align: right;\">-0.0974854 </td><td style=\"text-align: right;\">-0.0204846 </td><td style=\"text-align: right;\">-0.090795  </td><td style=\"text-align: right;\">-0.0534293 </td><td style=\"text-align: right;\">0.186082</td><td style=\"text-align: right;\">-0.228882</td><td style=\"text-align: right;\">0.0990801</td><td style=\"text-align: right;\"> 0.0938158 </td><td style=\"text-align: right;\"> 0.00260177</td><td style=\"text-align: right;\">-0.175534 </td><td style=\"text-align: right;\"> 0.0873834 </td><td style=\"text-align: right;\"> 0.0192179</td><td style=\"text-align: right;\">-0.113725  </td><td style=\"text-align: right;\">-0.0132994</td><td style=\"text-align: right;\"> 0.120357   </td><td style=\"text-align: right;\">-0.0913238 </td><td style=\"text-align: right;\"> 0.0847978</td><td style=\"text-align: right;\">-0.00107285</td><td style=\"text-align: right;\"> 0.020673   </td><td style=\"text-align: right;\"> 0.2219   </td><td style=\"text-align: right;\"> 0.0316562</td><td style=\"text-align: right;\">-0.0264019</td><td style=\"text-align: right;\">-0.0660144 </td><td style=\"text-align: right;\"> 0.033452 </td><td style=\"text-align: right;\">0.0991856</td><td style=\"text-align: right;\"> 0.00523565 </td><td style=\"text-align: right;\">-0.125608 </td><td style=\"text-align: right;\"> 0.0327131</td><td style=\"text-align: right;\">-0.0275921 </td><td style=\"text-align: right;\">-0.188355</td><td style=\"text-align: right;\">-0.152089 </td><td style=\"text-align: right;\"> 0.101985  </td><td style=\"text-align: right;\">-0.0607407 </td><td style=\"text-align: right;\"> 0.0335676 </td><td style=\"text-align: right;\"> 0.0369781</td><td style=\"text-align: right;\"> 0.045202  </td><td style=\"text-align: right;\"> 0.0537553 </td><td style=\"text-align: right;\">-0.160422  </td><td style=\"text-align: right;\"> 0.0278703 </td><td style=\"text-align: right;\"> 0.0186151 </td><td style=\"text-align: right;\"> 0.0496899</td><td style=\"text-align: right;\">-0.0693916</td><td style=\"text-align: right;\"> 0.0714363</td><td style=\"text-align: right;\">-0.0538031 </td><td style=\"text-align: right;\">-0.0595951</td><td style=\"text-align: right;\">-0.0255431 </td><td style=\"text-align: right;\">-0.0390394</td><td style=\"text-align: right;\"> 0.0834992</td><td style=\"text-align: right;\">-0.107336  </td><td style=\"text-align: right;\">-0.0179123 </td><td style=\"text-align: right;\">-0.0802223 </td><td style=\"text-align: right;\">0.10311  </td><td style=\"text-align: right;\">-0.0121213 </td><td style=\"text-align: right;\">-0.0161833</td><td style=\"text-align: right;\">-0.0154129 </td><td style=\"text-align: right;\"> 0.0451778</td><td style=\"text-align: right;\"> 0.0248903 </td><td style=\"text-align: right;\">-0.0545449 </td><td style=\"text-align: right;\"> 0.0811532 </td><td style=\"text-align: right;\"> 0.139241  </td><td style=\"text-align: right;\"> 0.0133462 </td><td style=\"text-align: right;\"> 0.0414515 </td><td style=\"text-align: right;\">0.175736 </td><td style=\"text-align: right;\"> 0.0367019 </td><td style=\"text-align: right;\"> 0.124842 </td><td style=\"text-align: right;\">-0.00142962</td><td style=\"text-align: right;\">0.122295 </td><td style=\"text-align: right;\"> 0.0985424  </td><td style=\"text-align: right;\"> 0.050632 </td><td style=\"text-align: right;\"> 0.0109759</td><td style=\"text-align: right;\"> 0.137788   </td><td style=\"text-align: right;\"> 0.0411053 </td><td style=\"text-align: right;\"> 0.11475  </td></tr>\n",
              "<tr><td style=\"text-align: right;\"> 0.00804639</td><td style=\"text-align: right;\"> 0.0403397</td><td style=\"text-align: right;\">-0.0629499 </td><td style=\"text-align: right;\"> 0.0421822 </td><td style=\"text-align: right;\">-0.071604 </td><td style=\"text-align: right;\">-0.178957 </td><td style=\"text-align: right;\"> 0.042846   </td><td style=\"text-align: right;\">-0.0747685  </td><td style=\"text-align: right;\"> 0.00280271</td><td style=\"text-align: right;\">-0.00248591</td><td style=\"text-align: right;\">-0.104187 </td><td style=\"text-align: right;\">-0.02604  </td><td style=\"text-align: right;\">-0.048736 </td><td style=\"text-align: right;\">-0.033406  </td><td style=\"text-align: right;\">-0.0601603 </td><td style=\"text-align: right;\">0.121568 </td><td style=\"text-align: right;\">0.169182 </td><td style=\"text-align: right;\">-0.0332875  </td><td style=\"text-align: right;\">-0.0163598</td><td style=\"text-align: right;\">-0.130872  </td><td style=\"text-align: right;\">-0.00123129 </td><td style=\"text-align: right;\">-0.0462929 </td><td style=\"text-align: right;\">0.206188 </td><td style=\"text-align: right;\">-0.0522248  </td><td style=\"text-align: right;\">-0.137248 </td><td style=\"text-align: right;\"> 0.0195611  </td><td style=\"text-align: right;\">-0.030325   </td><td style=\"text-align: right;\">-0.102041  </td><td style=\"text-align: right;\"> 0.0375494 </td><td style=\"text-align: right;\">-0.154614  </td><td style=\"text-align: right;\">-0.00586331</td><td style=\"text-align: right;\">0.150589</td><td style=\"text-align: right;\">-0.217254</td><td style=\"text-align: right;\">0.167439 </td><td style=\"text-align: right;\"> 0.109358  </td><td style=\"text-align: right;\"> 0.062024  </td><td style=\"text-align: right;\">-0.138908 </td><td style=\"text-align: right;\"> 0.0981156 </td><td style=\"text-align: right;\"> 0.0157005</td><td style=\"text-align: right;\">-0.0400367 </td><td style=\"text-align: right;\">-0.0746562</td><td style=\"text-align: right;\">-0.00183817 </td><td style=\"text-align: right;\"> 0.0614502 </td><td style=\"text-align: right;\"> 0.0272868</td><td style=\"text-align: right;\">-0.0952712 </td><td style=\"text-align: right;\"> 0.000386824</td><td style=\"text-align: right;\"> 0.112656 </td><td style=\"text-align: right;\"> 0.0146791</td><td style=\"text-align: right;\">-0.0548715</td><td style=\"text-align: right;\">-0.0646289 </td><td style=\"text-align: right;\"> 0.0564803</td><td style=\"text-align: right;\">0.0645857</td><td style=\"text-align: right;\">-0.0242403  </td><td style=\"text-align: right;\">-0.100334 </td><td style=\"text-align: right;\">-0.0511002</td><td style=\"text-align: right;\">-0.0130476 </td><td style=\"text-align: right;\">-0.14417 </td><td style=\"text-align: right;\">-0.129899 </td><td style=\"text-align: right;\"> 0.0345669 </td><td style=\"text-align: right;\">-0.172138  </td><td style=\"text-align: right;\">-0.0138585 </td><td style=\"text-align: right;\">-0.0641252</td><td style=\"text-align: right;\"> 0.0382068 </td><td style=\"text-align: right;\"> 0.0438958 </td><td style=\"text-align: right;\">-0.00755048</td><td style=\"text-align: right;\"> 0.00931051</td><td style=\"text-align: right;\">-0.0612775 </td><td style=\"text-align: right;\"> 0.0956404</td><td style=\"text-align: right;\"> 0.0211583</td><td style=\"text-align: right;\">-0.014621 </td><td style=\"text-align: right;\"> 0.023371  </td><td style=\"text-align: right;\">-0.102343 </td><td style=\"text-align: right;\"> 0.0117483 </td><td style=\"text-align: right;\"> 0.0252911</td><td style=\"text-align: right;\">-0.0214973</td><td style=\"text-align: right;\">-0.106327  </td><td style=\"text-align: right;\">-0.0499473 </td><td style=\"text-align: right;\">-0.0373264 </td><td style=\"text-align: right;\">0.147597 </td><td style=\"text-align: right;\">-0.00714636</td><td style=\"text-align: right;\"> 0.113529 </td><td style=\"text-align: right;\">-0.132459  </td><td style=\"text-align: right;\"> 0.0435406</td><td style=\"text-align: right;\"> 0.0782957 </td><td style=\"text-align: right;\"> 0.00181008</td><td style=\"text-align: right;\"> 0.103958  </td><td style=\"text-align: right;\">-0.14044   </td><td style=\"text-align: right;\">-0.00793276</td><td style=\"text-align: right;\"> 0.00579276</td><td style=\"text-align: right;\">0.108527 </td><td style=\"text-align: right;\">-0.0613135 </td><td style=\"text-align: right;\"> 0.0962802</td><td style=\"text-align: right;\"> 0.025995  </td><td style=\"text-align: right;\">0.112797 </td><td style=\"text-align: right;\">-0.0302332  </td><td style=\"text-align: right;\"> 0.0218878</td><td style=\"text-align: right;\"> 0.0897132</td><td style=\"text-align: right;\"> 0.16214    </td><td style=\"text-align: right;\"> 0.0255213 </td><td style=\"text-align: right;\">-0.0170985</td></tr>\n",
              "<tr><td style=\"text-align: right;\"> 0.0898327 </td><td style=\"text-align: right;\">-0.0496461</td><td style=\"text-align: right;\">-0.06342   </td><td style=\"text-align: right;\"> 0.0805485 </td><td style=\"text-align: right;\">-0.119314 </td><td style=\"text-align: right;\">-0.137724 </td><td style=\"text-align: right;\">-0.00789093 </td><td style=\"text-align: right;\">-0.0518545  </td><td style=\"text-align: right;\">-0.0308089 </td><td style=\"text-align: right;\">-0.129011  </td><td style=\"text-align: right;\">-0.0513702</td><td style=\"text-align: right;\">-0.0669681</td><td style=\"text-align: right;\"> 0.02984  </td><td style=\"text-align: right;\">-0.0924005 </td><td style=\"text-align: right;\">-0.102856  </td><td style=\"text-align: right;\">0.105288 </td><td style=\"text-align: right;\">0.038817 </td><td style=\"text-align: right;\">-0.000354174</td><td style=\"text-align: right;\">-0.0622775</td><td style=\"text-align: right;\"> 0.00513729</td><td style=\"text-align: right;\"> 0.0117348  </td><td style=\"text-align: right;\">-0.0152427 </td><td style=\"text-align: right;\">0.143508 </td><td style=\"text-align: right;\">-0.00856124 </td><td style=\"text-align: right;\">-0.037738 </td><td style=\"text-align: right;\">-0.0452687  </td><td style=\"text-align: right;\"> 0.000658669</td><td style=\"text-align: right;\">-0.167725  </td><td style=\"text-align: right;\"> 0.0432701 </td><td style=\"text-align: right;\">-0.104311  </td><td style=\"text-align: right;\">-0.0194483 </td><td style=\"text-align: right;\">0.155765</td><td style=\"text-align: right;\">-0.20293 </td><td style=\"text-align: right;\">0.14944  </td><td style=\"text-align: right;\">-0.0461796 </td><td style=\"text-align: right;\">-0.0454352 </td><td style=\"text-align: right;\">-0.176249 </td><td style=\"text-align: right;\"> 0.140967  </td><td style=\"text-align: right;\"> 0.0346065</td><td style=\"text-align: right;\">-0.127258  </td><td style=\"text-align: right;\">-0.149432 </td><td style=\"text-align: right;\"> 0.0421931  </td><td style=\"text-align: right;\">-0.00807594</td><td style=\"text-align: right;\"> 0.124801 </td><td style=\"text-align: right;\">-0.009147  </td><td style=\"text-align: right;\">-0.0458614  </td><td style=\"text-align: right;\"> 0.140991 </td><td style=\"text-align: right;\">-0.0606369</td><td style=\"text-align: right;\">-0.0166711</td><td style=\"text-align: right;\">-0.101835  </td><td style=\"text-align: right;\"> 0.0964696</td><td style=\"text-align: right;\">0.0150013</td><td style=\"text-align: right;\"> 0.00384646 </td><td style=\"text-align: right;\">-0.145637 </td><td style=\"text-align: right;\"> 0.0607627</td><td style=\"text-align: right;\"> 0.00496212</td><td style=\"text-align: right;\">-0.210186</td><td style=\"text-align: right;\">-0.142972 </td><td style=\"text-align: right;\"> 0.030753  </td><td style=\"text-align: right;\">-0.114573  </td><td style=\"text-align: right;\"> 0.00510836</td><td style=\"text-align: right;\"> 0.0211708</td><td style=\"text-align: right;\"> 0.102158  </td><td style=\"text-align: right;\"> 0.150769  </td><td style=\"text-align: right;\">-0.0152391 </td><td style=\"text-align: right;\"> 0.0435821 </td><td style=\"text-align: right;\">-0.0423067 </td><td style=\"text-align: right;\"> 0.0703363</td><td style=\"text-align: right;\"> 0.0252538</td><td style=\"text-align: right;\"> 0.0951218</td><td style=\"text-align: right;\">-0.0476486 </td><td style=\"text-align: right;\">-0.0358879</td><td style=\"text-align: right;\">-0.00097864</td><td style=\"text-align: right;\">-0.0845554</td><td style=\"text-align: right;\">-0.0204203</td><td style=\"text-align: right;\">-0.0739409 </td><td style=\"text-align: right;\">-0.00819789</td><td style=\"text-align: right;\"> 0.0218028 </td><td style=\"text-align: right;\">0.0992359</td><td style=\"text-align: right;\"> 0.0447437 </td><td style=\"text-align: right;\"> 0.0226661</td><td style=\"text-align: right;\">-0.0636523 </td><td style=\"text-align: right;\"> 0.0665445</td><td style=\"text-align: right;\"> 0.0233649 </td><td style=\"text-align: right;\">-0.0934235 </td><td style=\"text-align: right;\"> 0.0210235 </td><td style=\"text-align: right;\">-0.00550151</td><td style=\"text-align: right;\"> 0.0444316 </td><td style=\"text-align: right;\"> 0.0290425 </td><td style=\"text-align: right;\">0.135357 </td><td style=\"text-align: right;\"> 0.0178865 </td><td style=\"text-align: right;\"> 0.0112073</td><td style=\"text-align: right;\">-0.0251965 </td><td style=\"text-align: right;\">0.0375234</td><td style=\"text-align: right;\"> 0.110303   </td><td style=\"text-align: right;\"> 0.0227543</td><td style=\"text-align: right;\"> 0.0666258</td><td style=\"text-align: right;\"> 0.105742   </td><td style=\"text-align: right;\"> 0.0810312 </td><td style=\"text-align: right;\">-0.0395381</td></tr>\n",
              "<tr><td style=\"text-align: right;\"> 0.0388696 </td><td style=\"text-align: right;\"> 0.0525038</td><td style=\"text-align: right;\">-0.0180866 </td><td style=\"text-align: right;\"> 0.062794  </td><td style=\"text-align: right;\">-0.110988 </td><td style=\"text-align: right;\">-0.149235 </td><td style=\"text-align: right;\">-0.0189142  </td><td style=\"text-align: right;\"> 0.0256323  </td><td style=\"text-align: right;\">-0.0543082 </td><td style=\"text-align: right;\">-0.102106  </td><td style=\"text-align: right;\">-0.0990631</td><td style=\"text-align: right;\">-0.0896769</td><td style=\"text-align: right;\"> 0.0641685</td><td style=\"text-align: right;\">-0.0204607 </td><td style=\"text-align: right;\">-0.0832811 </td><td style=\"text-align: right;\">0.0269614</td><td style=\"text-align: right;\">0.0409519</td><td style=\"text-align: right;\">-0.0121123  </td><td style=\"text-align: right;\">-0.12978  </td><td style=\"text-align: right;\">-0.0487713 </td><td style=\"text-align: right;\">-0.00937817 </td><td style=\"text-align: right;\"> 0.0339916 </td><td style=\"text-align: right;\">0.198791 </td><td style=\"text-align: right;\">-0.000485039</td><td style=\"text-align: right;\">-0.0185557</td><td style=\"text-align: right;\">-0.0626509  </td><td style=\"text-align: right;\"> 0.0271716  </td><td style=\"text-align: right;\">-0.200482  </td><td style=\"text-align: right;\">-0.0269453 </td><td style=\"text-align: right;\">-0.0880577 </td><td style=\"text-align: right;\"> 0.00319469</td><td style=\"text-align: right;\">0.170553</td><td style=\"text-align: right;\">-0.242873</td><td style=\"text-align: right;\">0.10784  </td><td style=\"text-align: right;\"> 0.00178518</td><td style=\"text-align: right;\">-0.0613119 </td><td style=\"text-align: right;\">-0.199855 </td><td style=\"text-align: right;\"> 0.0449676 </td><td style=\"text-align: right;\"> 0.0291552</td><td style=\"text-align: right;\">-0.130191  </td><td style=\"text-align: right;\">-0.0663516</td><td style=\"text-align: right;\"> 0.116338   </td><td style=\"text-align: right;\">-0.0739186 </td><td style=\"text-align: right;\"> 0.102654 </td><td style=\"text-align: right;\">-0.0659848 </td><td style=\"text-align: right;\"> 0.0651033  </td><td style=\"text-align: right;\"> 0.10241  </td><td style=\"text-align: right;\"> 0.0434514</td><td style=\"text-align: right;\"> 0.0711468</td><td style=\"text-align: right;\">-0.109192  </td><td style=\"text-align: right;\"> 0.109988 </td><td style=\"text-align: right;\">0.0250144</td><td style=\"text-align: right;\"> 0.0848834  </td><td style=\"text-align: right;\">-0.111706 </td><td style=\"text-align: right;\">-0.0127913</td><td style=\"text-align: right;\">-0.0156561 </td><td style=\"text-align: right;\">-0.25322 </td><td style=\"text-align: right;\">-0.143553 </td><td style=\"text-align: right;\"> 0.00511276</td><td style=\"text-align: right;\">-0.0149867 </td><td style=\"text-align: right;\">-0.0238394 </td><td style=\"text-align: right;\">-0.0713499</td><td style=\"text-align: right;\"> 0.00586394</td><td style=\"text-align: right;\"> 0.103944  </td><td style=\"text-align: right;\">-0.0599289 </td><td style=\"text-align: right;\"> 0.0959684 </td><td style=\"text-align: right;\">-0.00614795</td><td style=\"text-align: right;\"> 0.0275764</td><td style=\"text-align: right;\">-0.024316 </td><td style=\"text-align: right;\"> 0.126942 </td><td style=\"text-align: right;\">-0.023565  </td><td style=\"text-align: right;\">-0.0791267</td><td style=\"text-align: right;\">-0.0458491 </td><td style=\"text-align: right;\">-0.0177893</td><td style=\"text-align: right;\">-0.0197261</td><td style=\"text-align: right;\">-0.0527483 </td><td style=\"text-align: right;\">-0.0693893 </td><td style=\"text-align: right;\"> 0.0458712 </td><td style=\"text-align: right;\">0.168414 </td><td style=\"text-align: right;\">-0.0242376 </td><td style=\"text-align: right;\">-0.0580911</td><td style=\"text-align: right;\"> 0.0718658 </td><td style=\"text-align: right;\"> 0.0457116</td><td style=\"text-align: right;\">-0.0226542 </td><td style=\"text-align: right;\"> 0.00252975</td><td style=\"text-align: right;\">-0.0100385 </td><td style=\"text-align: right;\"> 0.0667169 </td><td style=\"text-align: right;\">-0.0815536 </td><td style=\"text-align: right;\"> 0.0481775 </td><td style=\"text-align: right;\">0.0820567</td><td style=\"text-align: right;\">-0.00404072</td><td style=\"text-align: right;\"> 0.0512458</td><td style=\"text-align: right;\"> 0.0533124 </td><td style=\"text-align: right;\">0.0615417</td><td style=\"text-align: right;\"> 0.121297   </td><td style=\"text-align: right;\"> 0.0348335</td><td style=\"text-align: right;\"> 0.102219 </td><td style=\"text-align: right;\"> 0.106302   </td><td style=\"text-align: right;\"> 0.00054504</td><td style=\"text-align: right;\"> 0.0609603</td></tr>\n",
              "</tbody>\n",
              "</table>"
            ]
          },
          "metadata": {
            "tags": []
          }
        },
        {
          "output_type": "execute_result",
          "data": {
            "text/plain": [
              ""
            ]
          },
          "metadata": {
            "tags": []
          },
          "execution_count": 33
        }
      ]
    },
    {
      "cell_type": "code",
      "metadata": {
        "id": "zSVxptYSNmh_"
      },
      "source": [
        "h2o_df_ext=h2o_df.cbind(review_vecs)"
      ],
      "execution_count": null,
      "outputs": []
    },
    {
      "cell_type": "code",
      "metadata": {
        "id": "wSvT8UeXoLC9"
      },
      "source": [
        "h2o_train,h2o_valid = h2o_df_ext.split_frame(ratios=[.8])"
      ],
      "execution_count": null,
      "outputs": []
    },
    {
      "cell_type": "code",
      "metadata": {
        "id": "GdG1mtaEvDFA",
        "colab": {
          "base_uri": "https://localhost:8080/",
          "height": 82
        },
        "outputId": "feb695bd-3ab1-480d-be6f-b03145ace3f9"
      },
      "source": [
        "h2o_valid['target'].table()"
      ],
      "execution_count": null,
      "outputs": [
        {
          "output_type": "display_data",
          "data": {
            "text/html": [
              "<table>\n",
              "<thead>\n",
              "<tr><th style=\"text-align: right;\">  target</th><th style=\"text-align: right;\">  Count</th></tr>\n",
              "</thead>\n",
              "<tbody>\n",
              "<tr><td style=\"text-align: right;\">       0</td><td style=\"text-align: right;\">   4697</td></tr>\n",
              "<tr><td style=\"text-align: right;\">       1</td><td style=\"text-align: right;\">  12504</td></tr>\n",
              "</tbody>\n",
              "</table>"
            ]
          },
          "metadata": {
            "tags": []
          }
        },
        {
          "output_type": "execute_result",
          "data": {
            "text/plain": [
              ""
            ]
          },
          "metadata": {
            "tags": []
          },
          "execution_count": 36
        }
      ]
    },
    {
      "cell_type": "code",
      "metadata": {
        "id": "cGCshCp4Nmc5"
      },
      "source": [
        "gbm_baseline = H2OGradientBoostingEstimator(stopping_metric = \"AUC\", stopping_tolerance = 0.001,\n",
        "                                              stopping_rounds = 5, score_tree_interval = 10                                             \n",
        "                                             )"
      ],
      "execution_count": null,
      "outputs": []
    },
    {
      "cell_type": "code",
      "metadata": {
        "id": "wsu9NMoKNmYn",
        "colab": {
          "base_uri": "https://localhost:8080/"
        },
        "outputId": "2e33865b-dce6-48ee-e5b8-445ad3337890"
      },
      "source": [
        "gbm_baseline.train(x=review_vecs.names, y='target', training_frame = h2o_train, validation_frame=h2o_valid)"
      ],
      "execution_count": null,
      "outputs": [
        {
          "output_type": "stream",
          "text": [
            "gbm Model Build progress: |███████████████████████████████████████████████| 100%\n"
          ],
          "name": "stdout"
        }
      ]
    },
    {
      "cell_type": "code",
      "metadata": {
        "id": "7vQWDTMiNmVg",
        "colab": {
          "base_uri": "https://localhost:8080/"
        },
        "outputId": "c57ab18b-91b5-45f2-b774-57c335e55db6"
      },
      "source": [
        "print(\"Baseline AUC: \" + str(round(gbm_baseline.auc(valid = True), 3)))"
      ],
      "execution_count": null,
      "outputs": [
        {
          "output_type": "stream",
          "text": [
            "Baseline AUC: 0.876\n"
          ],
          "name": "stdout"
        }
      ]
    },
    {
      "cell_type": "code",
      "metadata": {
        "id": "tk6VxRzGNmLO",
        "colab": {
          "base_uri": "https://localhost:8080/",
          "height": 176
        },
        "outputId": "0128ebc7-21cd-4b56-d326-9c0e9183216f"
      },
      "source": [
        "gbm_baseline.confusion_matrix(valid=True)"
      ],
      "execution_count": null,
      "outputs": [
        {
          "output_type": "stream",
          "text": [
            "\n",
            "Confusion Matrix (Act/Pred) for max f1 @ threshold = 0.541768691770901: \n"
          ],
          "name": "stdout"
        },
        {
          "output_type": "display_data",
          "data": {
            "text/html": [
              "<div>\n",
              "<style scoped>\n",
              "    .dataframe tbody tr th:only-of-type {\n",
              "        vertical-align: middle;\n",
              "    }\n",
              "\n",
              "    .dataframe tbody tr th {\n",
              "        vertical-align: top;\n",
              "    }\n",
              "\n",
              "    .dataframe thead th {\n",
              "        text-align: right;\n",
              "    }\n",
              "</style>\n",
              "<table border=\"1\" class=\"dataframe\">\n",
              "  <thead>\n",
              "    <tr style=\"text-align: right;\">\n",
              "      <th></th>\n",
              "      <th></th>\n",
              "      <th>0</th>\n",
              "      <th>1</th>\n",
              "      <th>Error</th>\n",
              "      <th>Rate</th>\n",
              "    </tr>\n",
              "  </thead>\n",
              "  <tbody>\n",
              "    <tr>\n",
              "      <th>0</th>\n",
              "      <td>0</td>\n",
              "      <td>2624.0</td>\n",
              "      <td>2073.0</td>\n",
              "      <td>0.4413</td>\n",
              "      <td>(2073.0/4697.0)</td>\n",
              "    </tr>\n",
              "    <tr>\n",
              "      <th>1</th>\n",
              "      <td>1</td>\n",
              "      <td>796.0</td>\n",
              "      <td>11708.0</td>\n",
              "      <td>0.0637</td>\n",
              "      <td>(796.0/12504.0)</td>\n",
              "    </tr>\n",
              "    <tr>\n",
              "      <th>2</th>\n",
              "      <td>Total</td>\n",
              "      <td>3420.0</td>\n",
              "      <td>13781.0</td>\n",
              "      <td>0.1668</td>\n",
              "      <td>(2869.0/17201.0)</td>\n",
              "    </tr>\n",
              "  </tbody>\n",
              "</table>\n",
              "</div>"
            ],
            "text/plain": [
              "               0        1   Error               Rate\n",
              "0      0  2624.0   2073.0  0.4413    (2073.0/4697.0)\n",
              "1      1   796.0  11708.0  0.0637    (796.0/12504.0)\n",
              "2  Total  3420.0  13781.0  0.1668   (2869.0/17201.0)"
            ]
          },
          "metadata": {
            "tags": []
          }
        },
        {
          "output_type": "execute_result",
          "data": {
            "text/plain": [
              ""
            ]
          },
          "metadata": {
            "tags": []
          },
          "execution_count": 40
        }
      ]
    },
    {
      "cell_type": "code",
      "metadata": {
        "id": "XWOHb8OtNmIc"
      },
      "source": [
        "gbm_balanced = H2OGradientBoostingEstimator(stopping_metric = \"AUC\", stopping_tolerance = 0.001,\n",
        "                                              stopping_rounds = 5, score_tree_interval = 10,\n",
        "                                              balance_classes= True\n",
        "                                             )"
      ],
      "execution_count": null,
      "outputs": []
    },
    {
      "cell_type": "code",
      "metadata": {
        "id": "50gdKJ7RnZz5",
        "colab": {
          "base_uri": "https://localhost:8080/"
        },
        "outputId": "ead42207-754f-463a-b873-aad05172299b"
      },
      "source": [
        "gbm_balanced.train(x=review_vecs.names, y='target', training_frame = h2o_train, validation_frame=h2o_valid)"
      ],
      "execution_count": null,
      "outputs": [
        {
          "output_type": "stream",
          "text": [
            "gbm Model Build progress: |███████████████████████████████████████████████| 100%\n"
          ],
          "name": "stdout"
        }
      ]
    },
    {
      "cell_type": "code",
      "metadata": {
        "id": "izVsG-kvqc0O",
        "colab": {
          "base_uri": "https://localhost:8080/"
        },
        "outputId": "280aeb8e-022c-44d9-eb6d-449cfb4855c6"
      },
      "source": [
        "print(\" Balanced AUC: \" + str(round(gbm_balanced.auc(valid = True), 3)))"
      ],
      "execution_count": null,
      "outputs": [
        {
          "output_type": "stream",
          "text": [
            " Balanced AUC: 0.875\n"
          ],
          "name": "stdout"
        }
      ]
    },
    {
      "cell_type": "code",
      "metadata": {
        "id": "fuIu0VYenZfr",
        "colab": {
          "base_uri": "https://localhost:8080/",
          "height": 176
        },
        "outputId": "f6bb105f-5fb8-43b0-d26d-12af9a41df44"
      },
      "source": [
        "gbm_balanced.confusion_matrix(valid=True)"
      ],
      "execution_count": null,
      "outputs": [
        {
          "output_type": "stream",
          "text": [
            "\n",
            "Confusion Matrix (Act/Pred) for max f1 @ threshold = 0.5427531351727288: \n"
          ],
          "name": "stdout"
        },
        {
          "output_type": "display_data",
          "data": {
            "text/html": [
              "<div>\n",
              "<style scoped>\n",
              "    .dataframe tbody tr th:only-of-type {\n",
              "        vertical-align: middle;\n",
              "    }\n",
              "\n",
              "    .dataframe tbody tr th {\n",
              "        vertical-align: top;\n",
              "    }\n",
              "\n",
              "    .dataframe thead th {\n",
              "        text-align: right;\n",
              "    }\n",
              "</style>\n",
              "<table border=\"1\" class=\"dataframe\">\n",
              "  <thead>\n",
              "    <tr style=\"text-align: right;\">\n",
              "      <th></th>\n",
              "      <th></th>\n",
              "      <th>0</th>\n",
              "      <th>1</th>\n",
              "      <th>Error</th>\n",
              "      <th>Rate</th>\n",
              "    </tr>\n",
              "  </thead>\n",
              "  <tbody>\n",
              "    <tr>\n",
              "      <th>0</th>\n",
              "      <td>0</td>\n",
              "      <td>2541.0</td>\n",
              "      <td>2156.0</td>\n",
              "      <td>0.459</td>\n",
              "      <td>(2156.0/4697.0)</td>\n",
              "    </tr>\n",
              "    <tr>\n",
              "      <th>1</th>\n",
              "      <td>1</td>\n",
              "      <td>731.0</td>\n",
              "      <td>11773.0</td>\n",
              "      <td>0.0585</td>\n",
              "      <td>(731.0/12504.0)</td>\n",
              "    </tr>\n",
              "    <tr>\n",
              "      <th>2</th>\n",
              "      <td>Total</td>\n",
              "      <td>3272.0</td>\n",
              "      <td>13929.0</td>\n",
              "      <td>0.1678</td>\n",
              "      <td>(2887.0/17201.0)</td>\n",
              "    </tr>\n",
              "  </tbody>\n",
              "</table>\n",
              "</div>"
            ],
            "text/plain": [
              "               0        1   Error               Rate\n",
              "0      0  2541.0   2156.0   0.459    (2156.0/4697.0)\n",
              "1      1   731.0  11773.0  0.0585    (731.0/12504.0)\n",
              "2  Total  3272.0  13929.0  0.1678   (2887.0/17201.0)"
            ]
          },
          "metadata": {
            "tags": []
          }
        },
        {
          "output_type": "execute_result",
          "data": {
            "text/plain": [
              ""
            ]
          },
          "metadata": {
            "tags": []
          },
          "execution_count": 44
        }
      ]
    },
    {
      "cell_type": "code",
      "metadata": {
        "id": "akb8WhMKqmXK"
      },
      "source": [
        "gbm_add_cols = H2OGradientBoostingEstimator(stopping_metric = \"AUC\", stopping_tolerance = 0.001,\n",
        "                                              stopping_rounds = 5, score_tree_interval = 10\n",
        "                                             )"
      ],
      "execution_count": null,
      "outputs": []
    },
    {
      "cell_type": "code",
      "metadata": {
        "id": "OiGm-acpozkH",
        "colab": {
          "base_uri": "https://localhost:8080/"
        },
        "outputId": "1dc3cade-0995-46f3-de06-d35562b07cac"
      },
      "source": [
        "gbm_add_cols.train(x=['votes']+review_vecs.names, y='target', training_frame = h2o_train, validation_frame=h2o_valid)"
      ],
      "execution_count": null,
      "outputs": [
        {
          "output_type": "stream",
          "text": [
            "gbm Model Build progress: |███████████████████████████████████████████████| 100%\n"
          ],
          "name": "stdout"
        }
      ]
    },
    {
      "cell_type": "code",
      "metadata": {
        "id": "VKd7AvA2pBhO",
        "colab": {
          "base_uri": "https://localhost:8080/"
        },
        "outputId": "62ebc5a4-409b-4b39-fd52-2e49689c33cd"
      },
      "source": [
        "print(\" Add Columns AUC: \" + str(round(gbm_add_cols.auc(valid = True), 3)))"
      ],
      "execution_count": null,
      "outputs": [
        {
          "output_type": "stream",
          "text": [
            " Add Columns AUC: 0.876\n"
          ],
          "name": "stdout"
        }
      ]
    },
    {
      "cell_type": "code",
      "metadata": {
        "id": "8s_p4DC_poCk",
        "colab": {
          "base_uri": "https://localhost:8080/",
          "height": 176
        },
        "outputId": "41833459-a484-49bf-960f-73b12be1508a"
      },
      "source": [
        "gbm_add_cols.confusion_matrix(valid=True)"
      ],
      "execution_count": null,
      "outputs": [
        {
          "output_type": "stream",
          "text": [
            "\n",
            "Confusion Matrix (Act/Pred) for max f1 @ threshold = 0.5215039225527731: \n"
          ],
          "name": "stdout"
        },
        {
          "output_type": "display_data",
          "data": {
            "text/html": [
              "<div>\n",
              "<style scoped>\n",
              "    .dataframe tbody tr th:only-of-type {\n",
              "        vertical-align: middle;\n",
              "    }\n",
              "\n",
              "    .dataframe tbody tr th {\n",
              "        vertical-align: top;\n",
              "    }\n",
              "\n",
              "    .dataframe thead th {\n",
              "        text-align: right;\n",
              "    }\n",
              "</style>\n",
              "<table border=\"1\" class=\"dataframe\">\n",
              "  <thead>\n",
              "    <tr style=\"text-align: right;\">\n",
              "      <th></th>\n",
              "      <th></th>\n",
              "      <th>0</th>\n",
              "      <th>1</th>\n",
              "      <th>Error</th>\n",
              "      <th>Rate</th>\n",
              "    </tr>\n",
              "  </thead>\n",
              "  <tbody>\n",
              "    <tr>\n",
              "      <th>0</th>\n",
              "      <td>0</td>\n",
              "      <td>2517.0</td>\n",
              "      <td>2180.0</td>\n",
              "      <td>0.4641</td>\n",
              "      <td>(2180.0/4697.0)</td>\n",
              "    </tr>\n",
              "    <tr>\n",
              "      <th>1</th>\n",
              "      <td>1</td>\n",
              "      <td>713.0</td>\n",
              "      <td>11791.0</td>\n",
              "      <td>0.057</td>\n",
              "      <td>(713.0/12504.0)</td>\n",
              "    </tr>\n",
              "    <tr>\n",
              "      <th>2</th>\n",
              "      <td>Total</td>\n",
              "      <td>3230.0</td>\n",
              "      <td>13971.0</td>\n",
              "      <td>0.1682</td>\n",
              "      <td>(2893.0/17201.0)</td>\n",
              "    </tr>\n",
              "  </tbody>\n",
              "</table>\n",
              "</div>"
            ],
            "text/plain": [
              "               0        1   Error               Rate\n",
              "0      0  2517.0   2180.0  0.4641    (2180.0/4697.0)\n",
              "1      1   713.0  11791.0   0.057    (713.0/12504.0)\n",
              "2  Total  3230.0  13971.0  0.1682   (2893.0/17201.0)"
            ]
          },
          "metadata": {
            "tags": []
          }
        },
        {
          "output_type": "execute_result",
          "data": {
            "text/plain": [
              ""
            ]
          },
          "metadata": {
            "tags": []
          },
          "execution_count": 48
        }
      ]
    },
    {
      "cell_type": "code",
      "metadata": {
        "id": "W4QITqpZptTE"
      },
      "source": [
        "headline_vecs = vec_model.transform(words_headline, aggregate_method = \"AVERAGE\")\n",
        "headline_vecs.names = [\"headline_\" + s for s in headline_vecs.names]"
      ],
      "execution_count": null,
      "outputs": []
    },
    {
      "cell_type": "code",
      "metadata": {
        "id": "3Qf0qPDWrX1k",
        "colab": {
          "base_uri": "https://localhost:8080/",
          "height": 270
        },
        "outputId": "f248ca84-c32d-4007-936e-0beefc6ec4cf"
      },
      "source": [
        "headline_vecs.head()"
      ],
      "execution_count": null,
      "outputs": [
        {
          "output_type": "display_data",
          "data": {
            "text/html": [
              "<table>\n",
              "<thead>\n",
              "<tr><th style=\"text-align: right;\">  headline_C1</th><th style=\"text-align: right;\">  headline_C2</th><th style=\"text-align: right;\">  headline_C3</th><th style=\"text-align: right;\">  headline_C4</th><th style=\"text-align: right;\">  headline_C5</th><th style=\"text-align: right;\">  headline_C6</th><th style=\"text-align: right;\">  headline_C7</th><th style=\"text-align: right;\">  headline_C8</th><th style=\"text-align: right;\">  headline_C9</th><th style=\"text-align: right;\">  headline_C10</th><th style=\"text-align: right;\">  headline_C11</th><th style=\"text-align: right;\">  headline_C12</th><th style=\"text-align: right;\">  headline_C13</th><th style=\"text-align: right;\">  headline_C14</th><th style=\"text-align: right;\">  headline_C15</th><th style=\"text-align: right;\">  headline_C16</th><th style=\"text-align: right;\">  headline_C17</th><th style=\"text-align: right;\">  headline_C18</th><th style=\"text-align: right;\">  headline_C19</th><th style=\"text-align: right;\">  headline_C20</th><th style=\"text-align: right;\">  headline_C21</th><th style=\"text-align: right;\">  headline_C22</th><th style=\"text-align: right;\">  headline_C23</th><th style=\"text-align: right;\">  headline_C24</th><th style=\"text-align: right;\">  headline_C25</th><th style=\"text-align: right;\">  headline_C26</th><th style=\"text-align: right;\">  headline_C27</th><th style=\"text-align: right;\">  headline_C28</th><th style=\"text-align: right;\">  headline_C29</th><th style=\"text-align: right;\">  headline_C30</th><th style=\"text-align: right;\">  headline_C31</th><th style=\"text-align: right;\">  headline_C32</th><th style=\"text-align: right;\">  headline_C33</th><th style=\"text-align: right;\">  headline_C34</th><th style=\"text-align: right;\">  headline_C35</th><th style=\"text-align: right;\">  headline_C36</th><th style=\"text-align: right;\">  headline_C37</th><th style=\"text-align: right;\">  headline_C38</th><th style=\"text-align: right;\">  headline_C39</th><th style=\"text-align: right;\">  headline_C40</th><th style=\"text-align: right;\">  headline_C41</th><th style=\"text-align: right;\">  headline_C42</th><th style=\"text-align: right;\">  headline_C43</th><th style=\"text-align: right;\">  headline_C44</th><th style=\"text-align: right;\">  headline_C45</th><th style=\"text-align: right;\">  headline_C46</th><th style=\"text-align: right;\">  headline_C47</th><th style=\"text-align: right;\">  headline_C48</th><th style=\"text-align: right;\">  headline_C49</th><th style=\"text-align: right;\">  headline_C50</th><th style=\"text-align: right;\">  headline_C51</th><th style=\"text-align: right;\">  headline_C52</th><th style=\"text-align: right;\">  headline_C53</th><th style=\"text-align: right;\">  headline_C54</th><th style=\"text-align: right;\">  headline_C55</th><th style=\"text-align: right;\">  headline_C56</th><th style=\"text-align: right;\">  headline_C57</th><th style=\"text-align: right;\">  headline_C58</th><th style=\"text-align: right;\">  headline_C59</th><th style=\"text-align: right;\">  headline_C60</th><th style=\"text-align: right;\">  headline_C61</th><th style=\"text-align: right;\">  headline_C62</th><th style=\"text-align: right;\">  headline_C63</th><th style=\"text-align: right;\">  headline_C64</th><th style=\"text-align: right;\">  headline_C65</th><th style=\"text-align: right;\">  headline_C66</th><th style=\"text-align: right;\">  headline_C67</th><th style=\"text-align: right;\">  headline_C68</th><th style=\"text-align: right;\">  headline_C69</th><th style=\"text-align: right;\">  headline_C70</th><th style=\"text-align: right;\">  headline_C71</th><th style=\"text-align: right;\">  headline_C72</th><th style=\"text-align: right;\">  headline_C73</th><th style=\"text-align: right;\">  headline_C74</th><th style=\"text-align: right;\">  headline_C75</th><th style=\"text-align: right;\">  headline_C76</th><th style=\"text-align: right;\">  headline_C77</th><th style=\"text-align: right;\">  headline_C78</th><th style=\"text-align: right;\">  headline_C79</th><th style=\"text-align: right;\">  headline_C80</th><th style=\"text-align: right;\">  headline_C81</th><th style=\"text-align: right;\">  headline_C82</th><th style=\"text-align: right;\">  headline_C83</th><th style=\"text-align: right;\">  headline_C84</th><th style=\"text-align: right;\">  headline_C85</th><th style=\"text-align: right;\">  headline_C86</th><th style=\"text-align: right;\">  headline_C87</th><th style=\"text-align: right;\">  headline_C88</th><th style=\"text-align: right;\">  headline_C89</th><th style=\"text-align: right;\">  headline_C90</th><th style=\"text-align: right;\">  headline_C91</th><th style=\"text-align: right;\">  headline_C92</th><th style=\"text-align: right;\">  headline_C93</th><th style=\"text-align: right;\">  headline_C94</th><th style=\"text-align: right;\">  headline_C95</th><th style=\"text-align: right;\">  headline_C96</th><th style=\"text-align: right;\">  headline_C97</th><th style=\"text-align: right;\">  headline_C98</th><th style=\"text-align: right;\">  headline_C99</th><th style=\"text-align: right;\">  headline_C100</th></tr>\n",
              "</thead>\n",
              "<tbody>\n",
              "<tr><td style=\"text-align: right;\">   -0.180773 </td><td style=\"text-align: right;\">  -0.106511  </td><td style=\"text-align: right;\">  -0.101155  </td><td style=\"text-align: right;\">   -0.0508028</td><td style=\"text-align: right;\">    0.147426 </td><td style=\"text-align: right;\">   -0.269797 </td><td style=\"text-align: right;\">   0.0208694 </td><td style=\"text-align: right;\">  -0.0332761 </td><td style=\"text-align: right;\">    0.047679 </td><td style=\"text-align: right;\">     0.0830259</td><td style=\"text-align: right;\">   -0.0458191 </td><td style=\"text-align: right;\">    -0.0749702</td><td style=\"text-align: right;\">     0.148928 </td><td style=\"text-align: right;\">   -0.0054799 </td><td style=\"text-align: right;\">    -0.0614847</td><td style=\"text-align: right;\">     0.0814648</td><td style=\"text-align: right;\">    0.173166  </td><td style=\"text-align: right;\">   -0.194572  </td><td style=\"text-align: right;\">   -0.0826191 </td><td style=\"text-align: right;\">    -0.0329444</td><td style=\"text-align: right;\">    0.00606053</td><td style=\"text-align: right;\">    0.0430671 </td><td style=\"text-align: right;\">   0.0499118  </td><td style=\"text-align: right;\">  -0.101668   </td><td style=\"text-align: right;\">   -0.0623437 </td><td style=\"text-align: right;\">    -0.15291  </td><td style=\"text-align: right;\">   -0.167139  </td><td style=\"text-align: right;\">   -0.160488  </td><td style=\"text-align: right;\">     0.187946 </td><td style=\"text-align: right;\">   -0.217512  </td><td style=\"text-align: right;\">    -0.171176 </td><td style=\"text-align: right;\">    0.0616261 </td><td style=\"text-align: right;\">    -0.373287 </td><td style=\"text-align: right;\">    0.0178817 </td><td style=\"text-align: right;\">     0.136018 </td><td style=\"text-align: right;\">     0.222377 </td><td style=\"text-align: right;\">    -0.246727 </td><td style=\"text-align: right;\">   0.0466877  </td><td style=\"text-align: right;\">     0.112992 </td><td style=\"text-align: right;\">     0.0264849</td><td style=\"text-align: right;\">   -0.0838926 </td><td style=\"text-align: right;\">   -0.00452336</td><td style=\"text-align: right;\">    0.185659  </td><td style=\"text-align: right;\">    0.0107517 </td><td style=\"text-align: right;\">    -0.0693397</td><td style=\"text-align: right;\">     0.0209569</td><td style=\"text-align: right;\">     0.260688 </td><td style=\"text-align: right;\">     0.0676293</td><td style=\"text-align: right;\">    0.136901  </td><td style=\"text-align: right;\">    -0.125354 </td><td style=\"text-align: right;\">     0.0875074</td><td style=\"text-align: right;\">     0.0988457</td><td style=\"text-align: right;\">    0.0843139 </td><td style=\"text-align: right;\">    -0.0614192</td><td style=\"text-align: right;\">    -0.0232474</td><td style=\"text-align: right;\">    -0.0799371</td><td style=\"text-align: right;\">   -0.0430598 </td><td style=\"text-align: right;\">   -0.166184  </td><td style=\"text-align: right;\">   -0.105748  </td><td style=\"text-align: right;\">     0.0174891</td><td style=\"text-align: right;\">   -0.0975636 </td><td style=\"text-align: right;\">   -0.351012  </td><td style=\"text-align: right;\">     0.0315515</td><td style=\"text-align: right;\">   -0.0445949 </td><td style=\"text-align: right;\">    -0.0368978</td><td style=\"text-align: right;\">    0.0942056 </td><td style=\"text-align: right;\">   -0.223642  </td><td style=\"text-align: right;\">     0.254121 </td><td style=\"text-align: right;\">     0.151623 </td><td style=\"text-align: right;\">    -0.0178959</td><td style=\"text-align: right;\">   -0.0654112 </td><td style=\"text-align: right;\">    -0.146596 </td><td style=\"text-align: right;\">    -0.0290432</td><td style=\"text-align: right;\">   0.238179   </td><td style=\"text-align: right;\">    -0.15305  </td><td style=\"text-align: right;\">    0.0165465 </td><td style=\"text-align: right;\">     0.121921 </td><td style=\"text-align: right;\">    0.0788806 </td><td style=\"text-align: right;\">     0.240788 </td><td style=\"text-align: right;\">     0.216696 </td><td style=\"text-align: right;\">    0.0636974 </td><td style=\"text-align: right;\">     0.0370455</td><td style=\"text-align: right;\">    -0.0965164</td><td style=\"text-align: right;\">    0.101488  </td><td style=\"text-align: right;\">    0.0237171 </td><td style=\"text-align: right;\">    0.225424  </td><td style=\"text-align: right;\">    -0.0338199</td><td style=\"text-align: right;\">    -0.0488238</td><td style=\"text-align: right;\">     0.205996 </td><td style=\"text-align: right;\">     0.0765246</td><td style=\"text-align: right;\">    -0.162749 </td><td style=\"text-align: right;\">     0.151532 </td><td style=\"text-align: right;\">   -0.0895574 </td><td style=\"text-align: right;\">    0.217676  </td><td style=\"text-align: right;\">    0.0303813 </td><td style=\"text-align: right;\">    -0.0689103</td><td style=\"text-align: right;\">    0.0174538 </td><td style=\"text-align: right;\">   -0.0453116 </td><td style=\"text-align: right;\">    -0.181715 </td><td style=\"text-align: right;\">    -0.0446997 </td></tr>\n",
              "<tr><td style=\"text-align: right;\">   -0.085587 </td><td style=\"text-align: right;\">   0.00344101</td><td style=\"text-align: right;\">  -0.220304  </td><td style=\"text-align: right;\">    0.0260121</td><td style=\"text-align: right;\">   -0.192958 </td><td style=\"text-align: right;\">   -0.0464643</td><td style=\"text-align: right;\">   0.0302076 </td><td style=\"text-align: right;\">  -0.0383044 </td><td style=\"text-align: right;\">    0.054715 </td><td style=\"text-align: right;\">    -0.134223 </td><td style=\"text-align: right;\">    0.00921979</td><td style=\"text-align: right;\">     0.0993979</td><td style=\"text-align: right;\">     0.119473 </td><td style=\"text-align: right;\">   -0.172335  </td><td style=\"text-align: right;\">     0.126547 </td><td style=\"text-align: right;\">     0.140504 </td><td style=\"text-align: right;\">    0.0767433 </td><td style=\"text-align: right;\">   -0.0284609 </td><td style=\"text-align: right;\">    0.00724765</td><td style=\"text-align: right;\">    -0.170214 </td><td style=\"text-align: right;\">   -0.106149  </td><td style=\"text-align: right;\">    0.00931286</td><td style=\"text-align: right;\">   0.0978213  </td><td style=\"text-align: right;\">   0.000792633</td><td style=\"text-align: right;\">   -0.187683  </td><td style=\"text-align: right;\">    -0.13032  </td><td style=\"text-align: right;\">   -0.161538  </td><td style=\"text-align: right;\">   -0.0611731 </td><td style=\"text-align: right;\">    -0.010536 </td><td style=\"text-align: right;\">    0.0256579 </td><td style=\"text-align: right;\">    -0.0789321</td><td style=\"text-align: right;\">    0.151829  </td><td style=\"text-align: right;\">    -0.343804 </td><td style=\"text-align: right;\">    0.122396  </td><td style=\"text-align: right;\">     0.0148455</td><td style=\"text-align: right;\">     0.18624  </td><td style=\"text-align: right;\">     0.0605468</td><td style=\"text-align: right;\">   0.0834034  </td><td style=\"text-align: right;\">     0.099648 </td><td style=\"text-align: right;\">     0.0678194</td><td style=\"text-align: right;\">   -0.113436  </td><td style=\"text-align: right;\">    0.0786227 </td><td style=\"text-align: right;\">   -0.0410032 </td><td style=\"text-align: right;\">    0.257872  </td><td style=\"text-align: right;\">     0.0186144</td><td style=\"text-align: right;\">    -0.073965 </td><td style=\"text-align: right;\">     0.133503 </td><td style=\"text-align: right;\">    -0.284007 </td><td style=\"text-align: right;\">   -0.0124525 </td><td style=\"text-align: right;\">    -0.0450283</td><td style=\"text-align: right;\">    -0.0252409</td><td style=\"text-align: right;\">     0.050155 </td><td style=\"text-align: right;\">    0.008645  </td><td style=\"text-align: right;\">     0.0213198</td><td style=\"text-align: right;\">     0.0938129</td><td style=\"text-align: right;\">     0.113292 </td><td style=\"text-align: right;\">   -0.186417  </td><td style=\"text-align: right;\">   -0.0459439 </td><td style=\"text-align: right;\">   -0.00430476</td><td style=\"text-align: right;\">    -0.0608314</td><td style=\"text-align: right;\">   -0.0767438 </td><td style=\"text-align: right;\">   -0.215269  </td><td style=\"text-align: right;\">     0.158762 </td><td style=\"text-align: right;\">    0.0698853 </td><td style=\"text-align: right;\">    -0.0848907</td><td style=\"text-align: right;\">    0.187751  </td><td style=\"text-align: right;\">   -0.0697787 </td><td style=\"text-align: right;\">    -0.14297  </td><td style=\"text-align: right;\">     0.138619 </td><td style=\"text-align: right;\">    -0.0131821</td><td style=\"text-align: right;\">   -0.0117381 </td><td style=\"text-align: right;\">    -0.108665 </td><td style=\"text-align: right;\">    -0.0668991</td><td style=\"text-align: right;\">  -0.0273747  </td><td style=\"text-align: right;\">    -0.0304794</td><td style=\"text-align: right;\">   -0.174175  </td><td style=\"text-align: right;\">    -0.152041 </td><td style=\"text-align: right;\">   -0.0232969 </td><td style=\"text-align: right;\">     0.148255 </td><td style=\"text-align: right;\">     0.232816 </td><td style=\"text-align: right;\">   -0.0684429 </td><td style=\"text-align: right;\">    -0.168551 </td><td style=\"text-align: right;\">    -0.0881757</td><td style=\"text-align: right;\">   -0.0510512 </td><td style=\"text-align: right;\">   -0.135681  </td><td style=\"text-align: right;\">    0.0527883 </td><td style=\"text-align: right;\">    -0.0146266</td><td style=\"text-align: right;\">     0.0909364</td><td style=\"text-align: right;\">    -0.0597741</td><td style=\"text-align: right;\">     0.188926 </td><td style=\"text-align: right;\">    -0.260037 </td><td style=\"text-align: right;\">     0.121029 </td><td style=\"text-align: right;\">   -0.0763899 </td><td style=\"text-align: right;\">    0.0849022 </td><td style=\"text-align: right;\">    0.0688996 </td><td style=\"text-align: right;\">    -0.0167083</td><td style=\"text-align: right;\">    0.282976  </td><td style=\"text-align: right;\">    0.0743281 </td><td style=\"text-align: right;\">     0.0278522</td><td style=\"text-align: right;\">     0.0294429 </td></tr>\n",
              "<tr><td style=\"text-align: right;\">    0.0261405</td><td style=\"text-align: right;\">   0.270568  </td><td style=\"text-align: right;\">  -0.135792  </td><td style=\"text-align: right;\">   -0.061393 </td><td style=\"text-align: right;\">   -0.03524  </td><td style=\"text-align: right;\">   -0.182504 </td><td style=\"text-align: right;\">   0.0695811 </td><td style=\"text-align: right;\">   0.0869346 </td><td style=\"text-align: right;\">    0.0619137</td><td style=\"text-align: right;\">     0.0716876</td><td style=\"text-align: right;\">   -0.18009   </td><td style=\"text-align: right;\">     0.0557659</td><td style=\"text-align: right;\">     0.128422 </td><td style=\"text-align: right;\">   -0.0494127 </td><td style=\"text-align: right;\">    -0.229212 </td><td style=\"text-align: right;\">     0.198182 </td><td style=\"text-align: right;\">   -0.026872  </td><td style=\"text-align: right;\">    0.00662583</td><td style=\"text-align: right;\">    0.0400249 </td><td style=\"text-align: right;\">    -0.104278 </td><td style=\"text-align: right;\">   -0.155122  </td><td style=\"text-align: right;\">   -0.0245911 </td><td style=\"text-align: right;\">  -0.000120275</td><td style=\"text-align: right;\">  -0.0787818  </td><td style=\"text-align: right;\">   -0.00616066</td><td style=\"text-align: right;\">    -0.0660161</td><td style=\"text-align: right;\">   -0.12754   </td><td style=\"text-align: right;\">   -0.0320348 </td><td style=\"text-align: right;\">     0.191177 </td><td style=\"text-align: right;\">   -0.140279  </td><td style=\"text-align: right;\">    -0.0340572</td><td style=\"text-align: right;\">    0.132136  </td><td style=\"text-align: right;\">    -0.529037 </td><td style=\"text-align: right;\">    0.0518133 </td><td style=\"text-align: right;\">     0.436196 </td><td style=\"text-align: right;\">     0.0368184</td><td style=\"text-align: right;\">     0.035447 </td><td style=\"text-align: right;\">   0.127451   </td><td style=\"text-align: right;\">    -0.102422 </td><td style=\"text-align: right;\">     0.105104 </td><td style=\"text-align: right;\">   -0.156736  </td><td style=\"text-align: right;\">   -0.125844  </td><td style=\"text-align: right;\">   -0.184839  </td><td style=\"text-align: right;\">   -0.155031  </td><td style=\"text-align: right;\">    -0.318548 </td><td style=\"text-align: right;\">    -0.106692 </td><td style=\"text-align: right;\">     0.417467 </td><td style=\"text-align: right;\">     0.19897  </td><td style=\"text-align: right;\">    0.144697  </td><td style=\"text-align: right;\">    -0.0481619</td><td style=\"text-align: right;\">     0.252442 </td><td style=\"text-align: right;\">    -0.0347809</td><td style=\"text-align: right;\">    0.00701415</td><td style=\"text-align: right;\">    -0.0027368</td><td style=\"text-align: right;\">    -0.104294 </td><td style=\"text-align: right;\">    -0.201253 </td><td style=\"text-align: right;\">   -0.00516038</td><td style=\"text-align: right;\">   -0.151545  </td><td style=\"text-align: right;\">   -0.0191331 </td><td style=\"text-align: right;\">    -0.237809 </td><td style=\"text-align: right;\">    0.0190784 </td><td style=\"text-align: right;\">   -0.174605  </td><td style=\"text-align: right;\">     0.136155 </td><td style=\"text-align: right;\">    0.00156955</td><td style=\"text-align: right;\">    -0.0979933</td><td style=\"text-align: right;\">    0.0678415 </td><td style=\"text-align: right;\">   -0.315588  </td><td style=\"text-align: right;\">     0.0925676</td><td style=\"text-align: right;\">     0.151133 </td><td style=\"text-align: right;\">    -0.0887135</td><td style=\"text-align: right;\">   -0.231216  </td><td style=\"text-align: right;\">    -0.173804 </td><td style=\"text-align: right;\">     0.11872  </td><td style=\"text-align: right;\">  -0.217404   </td><td style=\"text-align: right;\">     0.142836 </td><td style=\"text-align: right;\">   -0.0902826 </td><td style=\"text-align: right;\">     0.122704 </td><td style=\"text-align: right;\">    0.0311406 </td><td style=\"text-align: right;\">     0.0786335</td><td style=\"text-align: right;\">     0.0977202</td><td style=\"text-align: right;\">   -0.00110845</td><td style=\"text-align: right;\">     0.111199 </td><td style=\"text-align: right;\">     0.212882 </td><td style=\"text-align: right;\">   -0.127625  </td><td style=\"text-align: right;\">   -0.0696272 </td><td style=\"text-align: right;\">    0.0660101 </td><td style=\"text-align: right;\">    -0.0741814</td><td style=\"text-align: right;\">     0.0765123</td><td style=\"text-align: right;\">    -0.0247272</td><td style=\"text-align: right;\">     0.123072 </td><td style=\"text-align: right;\">    -0.0266729</td><td style=\"text-align: right;\">     0.122855 </td><td style=\"text-align: right;\">   -0.00403694</td><td style=\"text-align: right;\">    0.0220334 </td><td style=\"text-align: right;\">    0.102312  </td><td style=\"text-align: right;\">    -0.0985894</td><td style=\"text-align: right;\">    0.0519082 </td><td style=\"text-align: right;\">   -0.0591683 </td><td style=\"text-align: right;\">    -0.220608 </td><td style=\"text-align: right;\">    -0.00479119</td></tr>\n",
              "<tr><td style=\"text-align: right;\">   -0.14011  </td><td style=\"text-align: right;\">   0.448485  </td><td style=\"text-align: right;\">   0.292824  </td><td style=\"text-align: right;\">   -0.0733376</td><td style=\"text-align: right;\">   -0.355945 </td><td style=\"text-align: right;\">   -0.32832  </td><td style=\"text-align: right;\">   0.275468  </td><td style=\"text-align: right;\">  -0.147734  </td><td style=\"text-align: right;\">    0.333213 </td><td style=\"text-align: right;\">    -0.314364 </td><td style=\"text-align: right;\">    0.367417  </td><td style=\"text-align: right;\">     0.354664 </td><td style=\"text-align: right;\">     0.141931 </td><td style=\"text-align: right;\">   -0.19844   </td><td style=\"text-align: right;\">     0.0450749</td><td style=\"text-align: right;\">     0.359527 </td><td style=\"text-align: right;\">    0.0632365 </td><td style=\"text-align: right;\">   -0.322205  </td><td style=\"text-align: right;\">   -0.278461  </td><td style=\"text-align: right;\">    -0.111484 </td><td style=\"text-align: right;\">   -0.0743843 </td><td style=\"text-align: right;\">    0.208635  </td><td style=\"text-align: right;\">  -0.0875036  </td><td style=\"text-align: right;\">  -0.61512    </td><td style=\"text-align: right;\">    0.0398223 </td><td style=\"text-align: right;\">     0.0250512</td><td style=\"text-align: right;\">   -0.231894  </td><td style=\"text-align: right;\">   -0.113738  </td><td style=\"text-align: right;\">    -0.26248  </td><td style=\"text-align: right;\">    0.142993  </td><td style=\"text-align: right;\">     0.163911 </td><td style=\"text-align: right;\">   -0.106047  </td><td style=\"text-align: right;\">     0.0144002</td><td style=\"text-align: right;\">   -0.00793833</td><td style=\"text-align: right;\">    -0.168864 </td><td style=\"text-align: right;\">    -0.191619 </td><td style=\"text-align: right;\">     0.0057476</td><td style=\"text-align: right;\">   0.174675   </td><td style=\"text-align: right;\">     0.146005 </td><td style=\"text-align: right;\">    -0.154189 </td><td style=\"text-align: right;\">   -0.113886  </td><td style=\"text-align: right;\">    0.200595  </td><td style=\"text-align: right;\">    0.188727  </td><td style=\"text-align: right;\">    0.203529  </td><td style=\"text-align: right;\">    -0.0381495</td><td style=\"text-align: right;\">    -0.327724 </td><td style=\"text-align: right;\">    -0.119226 </td><td style=\"text-align: right;\">     0.143108 </td><td style=\"text-align: right;\">   -0.132741  </td><td style=\"text-align: right;\">    -0.0111235</td><td style=\"text-align: right;\">    -0.0214581</td><td style=\"text-align: right;\">    -0.0580339</td><td style=\"text-align: right;\">   -0.257509  </td><td style=\"text-align: right;\">    -0.290433 </td><td style=\"text-align: right;\">     0.376886 </td><td style=\"text-align: right;\">    -0.0795972</td><td style=\"text-align: right;\">   -0.357609  </td><td style=\"text-align: right;\">   -0.444988  </td><td style=\"text-align: right;\">   -0.203474  </td><td style=\"text-align: right;\">    -0.400149 </td><td style=\"text-align: right;\">   -0.038542  </td><td style=\"text-align: right;\">   -0.18457   </td><td style=\"text-align: right;\">     0.097841 </td><td style=\"text-align: right;\">   -0.030199  </td><td style=\"text-align: right;\">     0.436201 </td><td style=\"text-align: right;\">   -0.0128769 </td><td style=\"text-align: right;\">    0.0212436 </td><td style=\"text-align: right;\">     0.0215634</td><td style=\"text-align: right;\">     0.0772286</td><td style=\"text-align: right;\">    -0.25251  </td><td style=\"text-align: right;\">   -0.44236   </td><td style=\"text-align: right;\">    -0.1301   </td><td style=\"text-align: right;\">     0.0550032</td><td style=\"text-align: right;\">   0.206104   </td><td style=\"text-align: right;\">    -0.0685405</td><td style=\"text-align: right;\">    0.0102851 </td><td style=\"text-align: right;\">     0.0116069</td><td style=\"text-align: right;\">   -0.0371415 </td><td style=\"text-align: right;\">    -0.0617297</td><td style=\"text-align: right;\">    -0.138889 </td><td style=\"text-align: right;\">    0.358541  </td><td style=\"text-align: right;\">    -0.0793656</td><td style=\"text-align: right;\">    -0.331031 </td><td style=\"text-align: right;\">    0.215209  </td><td style=\"text-align: right;\">   -0.034252  </td><td style=\"text-align: right;\">    0.26879   </td><td style=\"text-align: right;\">     0.167467 </td><td style=\"text-align: right;\">    -0.27566  </td><td style=\"text-align: right;\">    -0.145465 </td><td style=\"text-align: right;\">     0.352517 </td><td style=\"text-align: right;\">    -0.442477 </td><td style=\"text-align: right;\">     0.27792  </td><td style=\"text-align: right;\">    0.252751  </td><td style=\"text-align: right;\">    0.0281489 </td><td style=\"text-align: right;\">    0.198642  </td><td style=\"text-align: right;\">    -0.13663  </td><td style=\"text-align: right;\">   -0.0391845 </td><td style=\"text-align: right;\">    0.541134  </td><td style=\"text-align: right;\">    -0.258141 </td><td style=\"text-align: right;\">     0.247636  </td></tr>\n",
              "<tr><td style=\"text-align: right;\">    0.0438356</td><td style=\"text-align: right;\">  -0.0790671 </td><td style=\"text-align: right;\">   0.00118817</td><td style=\"text-align: right;\">    0.170762 </td><td style=\"text-align: right;\">    0.0182215</td><td style=\"text-align: right;\">   -0.0670744</td><td style=\"text-align: right;\">   0.15794   </td><td style=\"text-align: right;\">  -0.105448  </td><td style=\"text-align: right;\">   -0.0418135</td><td style=\"text-align: right;\">    -0.222535 </td><td style=\"text-align: right;\">   -0.0564887 </td><td style=\"text-align: right;\">    -0.0725978</td><td style=\"text-align: right;\">    -0.110252 </td><td style=\"text-align: right;\">   -0.167795  </td><td style=\"text-align: right;\">    -0.0015539</td><td style=\"text-align: right;\">    -0.0570739</td><td style=\"text-align: right;\">    0.175974  </td><td style=\"text-align: right;\">   -0.194915  </td><td style=\"text-align: right;\">    0.0304545 </td><td style=\"text-align: right;\">    -0.135065 </td><td style=\"text-align: right;\">   -0.0844564 </td><td style=\"text-align: right;\">   -0.00247548</td><td style=\"text-align: right;\">   0.234096   </td><td style=\"text-align: right;\">  -0.15091    </td><td style=\"text-align: right;\">   -0.183269  </td><td style=\"text-align: right;\">     0.0943253</td><td style=\"text-align: right;\">   -0.125786  </td><td style=\"text-align: right;\">   -0.128462  </td><td style=\"text-align: right;\">    -0.161004 </td><td style=\"text-align: right;\">   -0.060028  </td><td style=\"text-align: right;\">     0.111035 </td><td style=\"text-align: right;\">    0.00491518</td><td style=\"text-align: right;\">    -0.372516 </td><td style=\"text-align: right;\">   -0.101327  </td><td style=\"text-align: right;\">     0.0422651</td><td style=\"text-align: right;\">     0.0438924</td><td style=\"text-align: right;\">    -0.360764 </td><td style=\"text-align: right;\">   0.0890582  </td><td style=\"text-align: right;\">     0.245307 </td><td style=\"text-align: right;\">    -0.1823   </td><td style=\"text-align: right;\">    0.339941  </td><td style=\"text-align: right;\">   -0.046844  </td><td style=\"text-align: right;\">    0.261533  </td><td style=\"text-align: right;\">   -0.0946227 </td><td style=\"text-align: right;\">     0.14864  </td><td style=\"text-align: right;\">     0.048802 </td><td style=\"text-align: right;\">     0.179066 </td><td style=\"text-align: right;\">     0.105954 </td><td style=\"text-align: right;\">   -0.0142559 </td><td style=\"text-align: right;\">     0.0738492</td><td style=\"text-align: right;\">    -0.0572833</td><td style=\"text-align: right;\">     0.314278 </td><td style=\"text-align: right;\">   -0.0678033 </td><td style=\"text-align: right;\">    -0.0131978</td><td style=\"text-align: right;\">     0.023735 </td><td style=\"text-align: right;\">    -0.0828298</td><td style=\"text-align: right;\">   -0.251419  </td><td style=\"text-align: right;\">   -0.337184  </td><td style=\"text-align: right;\">    0.0217745 </td><td style=\"text-align: right;\">    -0.305772 </td><td style=\"text-align: right;\">   -0.0915029 </td><td style=\"text-align: right;\">   -0.0845572 </td><td style=\"text-align: right;\">     0.0360421</td><td style=\"text-align: right;\">    0.144123  </td><td style=\"text-align: right;\">    -0.0766388</td><td style=\"text-align: right;\">   -0.0740302 </td><td style=\"text-align: right;\">    0.0164627 </td><td style=\"text-align: right;\">     0.12768  </td><td style=\"text-align: right;\">     0.0561514</td><td style=\"text-align: right;\">    -0.0408346</td><td style=\"text-align: right;\">    0.152382  </td><td style=\"text-align: right;\">     0.0208141</td><td style=\"text-align: right;\">    -0.219099 </td><td style=\"text-align: right;\">   0.185547   </td><td style=\"text-align: right;\">     0.262061 </td><td style=\"text-align: right;\">   -0.154522  </td><td style=\"text-align: right;\">    -0.107981 </td><td style=\"text-align: right;\">   -0.0742588 </td><td style=\"text-align: right;\">     0.0320342</td><td style=\"text-align: right;\">     0.0224314</td><td style=\"text-align: right;\">    0.14178   </td><td style=\"text-align: right;\">    -0.0965556</td><td style=\"text-align: right;\">     0.156985 </td><td style=\"text-align: right;\">   -0.0674655 </td><td style=\"text-align: right;\">   -0.0445127 </td><td style=\"text-align: right;\">    0.140774  </td><td style=\"text-align: right;\">    -0.100109 </td><td style=\"text-align: right;\">     0.155991 </td><td style=\"text-align: right;\">     0.198957 </td><td style=\"text-align: right;\">     0.155267 </td><td style=\"text-align: right;\">    -0.0190845</td><td style=\"text-align: right;\">    -0.0411975</td><td style=\"text-align: right;\">    0.079286  </td><td style=\"text-align: right;\">    0.135515  </td><td style=\"text-align: right;\">   -0.0206828 </td><td style=\"text-align: right;\">    -0.0219092</td><td style=\"text-align: right;\">   -0.203675  </td><td style=\"text-align: right;\">    0.0475827 </td><td style=\"text-align: right;\">     0.130092 </td><td style=\"text-align: right;\">     0.187925  </td></tr>\n",
              "<tr><td style=\"text-align: right;\">   -0.104812 </td><td style=\"text-align: right;\">  -0.105819  </td><td style=\"text-align: right;\">  -0.0684354 </td><td style=\"text-align: right;\">    0.0765023</td><td style=\"text-align: right;\">   -0.0341308</td><td style=\"text-align: right;\">   -0.129116 </td><td style=\"text-align: right;\">   0.00141406</td><td style=\"text-align: right;\">  -0.00073729</td><td style=\"text-align: right;\">   -0.131498 </td><td style=\"text-align: right;\">    -0.0238878</td><td style=\"text-align: right;\">    0.0440726 </td><td style=\"text-align: right;\">    -0.0738791</td><td style=\"text-align: right;\">     0.0185046</td><td style=\"text-align: right;\">   -0.0917966 </td><td style=\"text-align: right;\">    -0.0365737</td><td style=\"text-align: right;\">     0.0870056</td><td style=\"text-align: right;\">   -0.00603375</td><td style=\"text-align: right;\">   -0.176596  </td><td style=\"text-align: right;\">   -0.0253995 </td><td style=\"text-align: right;\">     0.0828804</td><td style=\"text-align: right;\">   -0.0352035 </td><td style=\"text-align: right;\">   -0.0965599 </td><td style=\"text-align: right;\">   0.0272015  </td><td style=\"text-align: right;\">   0.0921124  </td><td style=\"text-align: right;\">   -0.0736378 </td><td style=\"text-align: right;\">    -0.0752856</td><td style=\"text-align: right;\">   -0.0296507 </td><td style=\"text-align: right;\">    0.00189999</td><td style=\"text-align: right;\">     0.0666376</td><td style=\"text-align: right;\">    0.035222  </td><td style=\"text-align: right;\">     0.102604 </td><td style=\"text-align: right;\">    0.158573  </td><td style=\"text-align: right;\">    -0.316463 </td><td style=\"text-align: right;\">    0.113797  </td><td style=\"text-align: right;\">     0.226613 </td><td style=\"text-align: right;\">     0.032323 </td><td style=\"text-align: right;\">    -0.18477  </td><td style=\"text-align: right;\">   0.221389   </td><td style=\"text-align: right;\">     0.0572924</td><td style=\"text-align: right;\">     0.0791979</td><td style=\"text-align: right;\">   -0.0402278 </td><td style=\"text-align: right;\">    0.0617149 </td><td style=\"text-align: right;\">   -0.00522484</td><td style=\"text-align: right;\">    0.0303891 </td><td style=\"text-align: right;\">    -0.070113 </td><td style=\"text-align: right;\">     0.0255711</td><td style=\"text-align: right;\">     0.0660664</td><td style=\"text-align: right;\">    -0.0729992</td><td style=\"text-align: right;\">    0.0707427 </td><td style=\"text-align: right;\">    -0.0146179</td><td style=\"text-align: right;\">     0.115184 </td><td style=\"text-align: right;\">     0.0980938</td><td style=\"text-align: right;\">    0.199596  </td><td style=\"text-align: right;\">    -0.124639 </td><td style=\"text-align: right;\">     0.212346 </td><td style=\"text-align: right;\">    -0.165411 </td><td style=\"text-align: right;\">   -0.207566  </td><td style=\"text-align: right;\">   -0.255842  </td><td style=\"text-align: right;\">    0.148274  </td><td style=\"text-align: right;\">    -0.0849469</td><td style=\"text-align: right;\">   -0.0474546 </td><td style=\"text-align: right;\">   -0.0964425 </td><td style=\"text-align: right;\">     0.221606 </td><td style=\"text-align: right;\">   -0.0287693 </td><td style=\"text-align: right;\">    -0.0905966</td><td style=\"text-align: right;\">    0.226999  </td><td style=\"text-align: right;\">   -0.0103675 </td><td style=\"text-align: right;\">     0.197291 </td><td style=\"text-align: right;\">     0.069108 </td><td style=\"text-align: right;\">     0.0709055</td><td style=\"text-align: right;\">    0.0196714 </td><td style=\"text-align: right;\">    -0.194099 </td><td style=\"text-align: right;\">     0.162837 </td><td style=\"text-align: right;\">   0.0738117  </td><td style=\"text-align: right;\">     0.0535633</td><td style=\"text-align: right;\">   -0.0168722 </td><td style=\"text-align: right;\">     0.0590347</td><td style=\"text-align: right;\">    0.0898306 </td><td style=\"text-align: right;\">     0.297502 </td><td style=\"text-align: right;\">     0.0640842</td><td style=\"text-align: right;\">    0.0521006 </td><td style=\"text-align: right;\">    -0.15637  </td><td style=\"text-align: right;\">     0.0699246</td><td style=\"text-align: right;\">    0.103394  </td><td style=\"text-align: right;\">    0.00233737</td><td style=\"text-align: right;\">    0.0659034 </td><td style=\"text-align: right;\">     0.191203 </td><td style=\"text-align: right;\">    -0.0407882</td><td style=\"text-align: right;\">     0.0376015</td><td style=\"text-align: right;\">     0.0385558</td><td style=\"text-align: right;\">    -0.0498948</td><td style=\"text-align: right;\">     0.0444969</td><td style=\"text-align: right;\">    0.0393308 </td><td style=\"text-align: right;\">    0.133495  </td><td style=\"text-align: right;\">    0.00896752</td><td style=\"text-align: right;\">    -0.0332536</td><td style=\"text-align: right;\">    0.033393  </td><td style=\"text-align: right;\">    0.00483165</td><td style=\"text-align: right;\">    -0.0207897</td><td style=\"text-align: right;\">     0.0420996 </td></tr>\n",
              "<tr><td style=\"text-align: right;\">    0.395201 </td><td style=\"text-align: right;\">   0.00524747</td><td style=\"text-align: right;\">  -0.196613  </td><td style=\"text-align: right;\">   -0.111243 </td><td style=\"text-align: right;\">   -0.0375404</td><td style=\"text-align: right;\">    0.121899 </td><td style=\"text-align: right;\">  -0.0619494 </td><td style=\"text-align: right;\">  -0.0734098 </td><td style=\"text-align: right;\">   -0.0761416</td><td style=\"text-align: right;\">    -0.0928313</td><td style=\"text-align: right;\">   -0.285586  </td><td style=\"text-align: right;\">    -0.0165689</td><td style=\"text-align: right;\">     0.126676 </td><td style=\"text-align: right;\">   -0.0837472 </td><td style=\"text-align: right;\">    -0.172176 </td><td style=\"text-align: right;\">     0.111726 </td><td style=\"text-align: right;\">    0.0793287 </td><td style=\"text-align: right;\">   -0.411716  </td><td style=\"text-align: right;\">   -0.176997  </td><td style=\"text-align: right;\">     0.16379  </td><td style=\"text-align: right;\">    0.132361  </td><td style=\"text-align: right;\">    0.0855424 </td><td style=\"text-align: right;\">   0.160167   </td><td style=\"text-align: right;\">  -0.173603   </td><td style=\"text-align: right;\">    0.0212186 </td><td style=\"text-align: right;\">     0.0212321</td><td style=\"text-align: right;\">   -0.156342  </td><td style=\"text-align: right;\">    0.0865786 </td><td style=\"text-align: right;\">     0.149293 </td><td style=\"text-align: right;\">   -0.23694   </td><td style=\"text-align: right;\">    -0.247433 </td><td style=\"text-align: right;\">    0.0464268 </td><td style=\"text-align: right;\">    -0.262938 </td><td style=\"text-align: right;\">    0.541644  </td><td style=\"text-align: right;\">    -0.288657 </td><td style=\"text-align: right;\">    -0.0883249</td><td style=\"text-align: right;\">    -0.171636 </td><td style=\"text-align: right;\">  -0.00265162 </td><td style=\"text-align: right;\">    -0.154378 </td><td style=\"text-align: right;\">    -0.0701124</td><td style=\"text-align: right;\">   -0.185418  </td><td style=\"text-align: right;\">    0.111811  </td><td style=\"text-align: right;\">   -0.258019  </td><td style=\"text-align: right;\">    0.00733878</td><td style=\"text-align: right;\">     0.124479 </td><td style=\"text-align: right;\">    -0.0306369</td><td style=\"text-align: right;\">     0.0713307</td><td style=\"text-align: right;\">     0.162057 </td><td style=\"text-align: right;\">   -0.181195  </td><td style=\"text-align: right;\">     0.0607254</td><td style=\"text-align: right;\">     0.250554 </td><td style=\"text-align: right;\">     0.0671483</td><td style=\"text-align: right;\">    0.0887598 </td><td style=\"text-align: right;\">    -0.456288 </td><td style=\"text-align: right;\">    -0.175761 </td><td style=\"text-align: right;\">     0.0914894</td><td style=\"text-align: right;\">   -0.261885  </td><td style=\"text-align: right;\">   -0.163301  </td><td style=\"text-align: right;\">    0.00379606</td><td style=\"text-align: right;\">    -0.155319 </td><td style=\"text-align: right;\">    0.153844  </td><td style=\"text-align: right;\">    0.376451  </td><td style=\"text-align: right;\">     0.0113555</td><td style=\"text-align: right;\">   -0.0491964 </td><td style=\"text-align: right;\">     0.183359 </td><td style=\"text-align: right;\">   -0.212977  </td><td style=\"text-align: right;\">   -0.176406  </td><td style=\"text-align: right;\">    -0.253141 </td><td style=\"text-align: right;\">     0.0974277</td><td style=\"text-align: right;\">     0.207734 </td><td style=\"text-align: right;\">   -0.102594  </td><td style=\"text-align: right;\">    -0.306928 </td><td style=\"text-align: right;\">     0.285375 </td><td style=\"text-align: right;\">  -0.000483681</td><td style=\"text-align: right;\">    -0.155369 </td><td style=\"text-align: right;\">    0.0924328 </td><td style=\"text-align: right;\">     0.127318 </td><td style=\"text-align: right;\">    0.0693321 </td><td style=\"text-align: right;\">     0.179517 </td><td style=\"text-align: right;\">    -0.304184 </td><td style=\"text-align: right;\">   -0.214567  </td><td style=\"text-align: right;\">    -0.0930529</td><td style=\"text-align: right;\">     0.0496653</td><td style=\"text-align: right;\">   -0.122936  </td><td style=\"text-align: right;\">   -0.152405  </td><td style=\"text-align: right;\">    0.352823  </td><td style=\"text-align: right;\">     0.363638 </td><td style=\"text-align: right;\">     0.221648 </td><td style=\"text-align: right;\">    -0.0608373</td><td style=\"text-align: right;\">     0.317749 </td><td style=\"text-align: right;\">     0.131958 </td><td style=\"text-align: right;\">     0.114721 </td><td style=\"text-align: right;\">   -0.311508  </td><td style=\"text-align: right;\">    0.402282  </td><td style=\"text-align: right;\">    0.168845  </td><td style=\"text-align: right;\">    -0.12323  </td><td style=\"text-align: right;\">   -0.042259  </td><td style=\"text-align: right;\">    0.310712  </td><td style=\"text-align: right;\">     0.143007 </td><td style=\"text-align: right;\">     0.178464  </td></tr>\n",
              "<tr><td style=\"text-align: right;\">    0.263743 </td><td style=\"text-align: right;\">   0.136389  </td><td style=\"text-align: right;\">  -0.123405  </td><td style=\"text-align: right;\">    0.0163029</td><td style=\"text-align: right;\">    0.0599411</td><td style=\"text-align: right;\">    0.131111 </td><td style=\"text-align: right;\">   0.156062  </td><td style=\"text-align: right;\">   0.296521  </td><td style=\"text-align: right;\">    0.101866 </td><td style=\"text-align: right;\">     0.443574 </td><td style=\"text-align: right;\">   -0.0893165 </td><td style=\"text-align: right;\">    -0.214844 </td><td style=\"text-align: right;\">     0.110008 </td><td style=\"text-align: right;\">   -0.178754  </td><td style=\"text-align: right;\">    -0.175788 </td><td style=\"text-align: right;\">     0.17788  </td><td style=\"text-align: right;\">    0.637089  </td><td style=\"text-align: right;\">    0.00429493</td><td style=\"text-align: right;\">   -0.128251  </td><td style=\"text-align: right;\">     0.180339 </td><td style=\"text-align: right;\">    0.381267  </td><td style=\"text-align: right;\">   -0.385214  </td><td style=\"text-align: right;\">   0.308752   </td><td style=\"text-align: right;\">   0.157332   </td><td style=\"text-align: right;\">   -0.581436  </td><td style=\"text-align: right;\">     0.170087 </td><td style=\"text-align: right;\">    0.00478444</td><td style=\"text-align: right;\">   -0.0210945 </td><td style=\"text-align: right;\">     0.328957 </td><td style=\"text-align: right;\">   -0.428162  </td><td style=\"text-align: right;\">     0.0532599</td><td style=\"text-align: right;\">    0.346731  </td><td style=\"text-align: right;\">    -0.0683698</td><td style=\"text-align: right;\">    0.152462  </td><td style=\"text-align: right;\">     0.0567637</td><td style=\"text-align: right;\">    -0.03589  </td><td style=\"text-align: right;\">    -0.111864 </td><td style=\"text-align: right;\">   0.167524   </td><td style=\"text-align: right;\">    -0.100953 </td><td style=\"text-align: right;\">     0.216543 </td><td style=\"text-align: right;\">   -0.23824   </td><td style=\"text-align: right;\">   -0.0707726 </td><td style=\"text-align: right;\">    0.311328  </td><td style=\"text-align: right;\">    0.336395  </td><td style=\"text-align: right;\">    -0.189877 </td><td style=\"text-align: right;\">    -0.381627 </td><td style=\"text-align: right;\">    -0.0271863</td><td style=\"text-align: right;\">     0.116602 </td><td style=\"text-align: right;\">   -0.337079  </td><td style=\"text-align: right;\">    -0.450568 </td><td style=\"text-align: right;\">     0.490321 </td><td style=\"text-align: right;\">     0.134266 </td><td style=\"text-align: right;\">   -0.432891  </td><td style=\"text-align: right;\">    -0.491643 </td><td style=\"text-align: right;\">    -0.297416 </td><td style=\"text-align: right;\">    -0.0779203</td><td style=\"text-align: right;\">   -0.029127  </td><td style=\"text-align: right;\">   -0.262681  </td><td style=\"text-align: right;\">    0.269776  </td><td style=\"text-align: right;\">     0.304979 </td><td style=\"text-align: right;\">    0.00963422</td><td style=\"text-align: right;\">   -0.0466304 </td><td style=\"text-align: right;\">     0.275421 </td><td style=\"text-align: right;\">    0.380649  </td><td style=\"text-align: right;\">     0.107516 </td><td style=\"text-align: right;\">   -0.120528  </td><td style=\"text-align: right;\">   -0.221618  </td><td style=\"text-align: right;\">    -0.189723 </td><td style=\"text-align: right;\">    -0.283563 </td><td style=\"text-align: right;\">    -0.0587264</td><td style=\"text-align: right;\">    0.0513456 </td><td style=\"text-align: right;\">     0.0223699</td><td style=\"text-align: right;\">     0.131204 </td><td style=\"text-align: right;\">   0.149777   </td><td style=\"text-align: right;\">     0.351229 </td><td style=\"text-align: right;\">   -0.557701  </td><td style=\"text-align: right;\">    -0.391331 </td><td style=\"text-align: right;\">   -0.00136615</td><td style=\"text-align: right;\">    -0.145821 </td><td style=\"text-align: right;\">    -0.186129 </td><td style=\"text-align: right;\">    0.143613  </td><td style=\"text-align: right;\">    -0.287131 </td><td style=\"text-align: right;\">     0.0178603</td><td style=\"text-align: right;\">   -0.00734784</td><td style=\"text-align: right;\">    0.0547928 </td><td style=\"text-align: right;\">    0.0236445 </td><td style=\"text-align: right;\">    -0.358554 </td><td style=\"text-align: right;\">    -0.507358 </td><td style=\"text-align: right;\">    -0.181521 </td><td style=\"text-align: right;\">    -0.0537298</td><td style=\"text-align: right;\">    -0.391252 </td><td style=\"text-align: right;\">     0.0624733</td><td style=\"text-align: right;\">    0.470682  </td><td style=\"text-align: right;\">    0.0823795 </td><td style=\"text-align: right;\">   -0.381603  </td><td style=\"text-align: right;\">     0.2413   </td><td style=\"text-align: right;\">    0.0647755 </td><td style=\"text-align: right;\">    0.104178  </td><td style=\"text-align: right;\">    -0.432758 </td><td style=\"text-align: right;\">     0.0975656 </td></tr>\n",
              "<tr><td style=\"text-align: right;\">    0.0300083</td><td style=\"text-align: right;\">  -0.322394  </td><td style=\"text-align: right;\">  -0.153092  </td><td style=\"text-align: right;\">    0.0450708</td><td style=\"text-align: right;\">   -0.191359 </td><td style=\"text-align: right;\">   -0.327552 </td><td style=\"text-align: right;\">  -0.0717658 </td><td style=\"text-align: right;\">  -0.141901  </td><td style=\"text-align: right;\">    0.0514609</td><td style=\"text-align: right;\">    -0.0361847</td><td style=\"text-align: right;\">   -0.0585546 </td><td style=\"text-align: right;\">    -0.322589 </td><td style=\"text-align: right;\">    -0.349103 </td><td style=\"text-align: right;\">    0.085772  </td><td style=\"text-align: right;\">    -0.15383  </td><td style=\"text-align: right;\">     0.0926327</td><td style=\"text-align: right;\">   -0.0176256 </td><td style=\"text-align: right;\">   -0.342995  </td><td style=\"text-align: right;\">   -0.347267  </td><td style=\"text-align: right;\">    -0.405504 </td><td style=\"text-align: right;\">   -0.0404975 </td><td style=\"text-align: right;\">   -0.371285  </td><td style=\"text-align: right;\">   0.117527   </td><td style=\"text-align: right;\">  -0.022524   </td><td style=\"text-align: right;\">   -0.208994  </td><td style=\"text-align: right;\">    -0.182191 </td><td style=\"text-align: right;\">    0.0753583 </td><td style=\"text-align: right;\">   -0.0312968 </td><td style=\"text-align: right;\">    -0.0801962</td><td style=\"text-align: right;\">    0.00476352</td><td style=\"text-align: right;\">    -0.18853  </td><td style=\"text-align: right;\">    0.105791  </td><td style=\"text-align: right;\">    -0.129669 </td><td style=\"text-align: right;\">    0.126526  </td><td style=\"text-align: right;\">     0.130899 </td><td style=\"text-align: right;\">    -0.0561514</td><td style=\"text-align: right;\">     0.219905 </td><td style=\"text-align: right;\">   0.375075   </td><td style=\"text-align: right;\">    -0.0774898</td><td style=\"text-align: right;\">     0.0268677</td><td style=\"text-align: right;\">   -0.389866  </td><td style=\"text-align: right;\">    0.234314  </td><td style=\"text-align: right;\">   -0.128164  </td><td style=\"text-align: right;\">   -0.018338  </td><td style=\"text-align: right;\">     0.0251874</td><td style=\"text-align: right;\">    -0.0516187</td><td style=\"text-align: right;\">     0.120989 </td><td style=\"text-align: right;\">    -0.0966801</td><td style=\"text-align: right;\">    0.0457959 </td><td style=\"text-align: right;\">     0.100363 </td><td style=\"text-align: right;\">    -0.064466 </td><td style=\"text-align: right;\">     0.209961 </td><td style=\"text-align: right;\">   -0.0450985 </td><td style=\"text-align: right;\">     0.28262  </td><td style=\"text-align: right;\">    -0.151634 </td><td style=\"text-align: right;\">     0.32835  </td><td style=\"text-align: right;\">   -0.183147  </td><td style=\"text-align: right;\">   -0.0883491 </td><td style=\"text-align: right;\">    0.156793  </td><td style=\"text-align: right;\">     0.133814 </td><td style=\"text-align: right;\">    0.220092  </td><td style=\"text-align: right;\">    0.00327923</td><td style=\"text-align: right;\">    -0.112924 </td><td style=\"text-align: right;\">    0.228485  </td><td style=\"text-align: right;\">     0.0209373</td><td style=\"text-align: right;\">   -0.00369241</td><td style=\"text-align: right;\">    0.163334  </td><td style=\"text-align: right;\">    -0.104875 </td><td style=\"text-align: right;\">    -0.169191 </td><td style=\"text-align: right;\">    -0.133716 </td><td style=\"text-align: right;\">    0.147394  </td><td style=\"text-align: right;\">    -0.0431057</td><td style=\"text-align: right;\">    -0.12944  </td><td style=\"text-align: right;\">  -0.0899982  </td><td style=\"text-align: right;\">     0.107025 </td><td style=\"text-align: right;\">   -0.0918474 </td><td style=\"text-align: right;\">    -0.233754 </td><td style=\"text-align: right;\">    0.111096  </td><td style=\"text-align: right;\">     0.0425544</td><td style=\"text-align: right;\">     0.136208 </td><td style=\"text-align: right;\">   -0.123903  </td><td style=\"text-align: right;\">    -0.211293 </td><td style=\"text-align: right;\">     0.224922 </td><td style=\"text-align: right;\">   -0.472426  </td><td style=\"text-align: right;\">   -0.191836  </td><td style=\"text-align: right;\">    0.0379776 </td><td style=\"text-align: right;\">    -0.0729535</td><td style=\"text-align: right;\">    -0.102829 </td><td style=\"text-align: right;\">     0.19598  </td><td style=\"text-align: right;\">     0.557922 </td><td style=\"text-align: right;\">    -0.321282 </td><td style=\"text-align: right;\">     0.0355152</td><td style=\"text-align: right;\">   -0.0591621 </td><td style=\"text-align: right;\">    0.181578  </td><td style=\"text-align: right;\">    0.130189  </td><td style=\"text-align: right;\">    -0.325367 </td><td style=\"text-align: right;\">   -0.00276772</td><td style=\"text-align: right;\">    0.256425  </td><td style=\"text-align: right;\">     0.154124 </td><td style=\"text-align: right;\">     0.0843031 </td></tr>\n",
              "<tr><td style=\"text-align: right;\">   -0.0449356</td><td style=\"text-align: right;\">   0.0314232 </td><td style=\"text-align: right;\">  -0.0566215 </td><td style=\"text-align: right;\">   -0.0279526</td><td style=\"text-align: right;\">   -0.132374 </td><td style=\"text-align: right;\">   -0.141959 </td><td style=\"text-align: right;\">  -0.0402467 </td><td style=\"text-align: right;\">   0.0433178 </td><td style=\"text-align: right;\">   -0.0294387</td><td style=\"text-align: right;\">    -0.0583896</td><td style=\"text-align: right;\">   -0.253416  </td><td style=\"text-align: right;\">    -0.0797781</td><td style=\"text-align: right;\">     0.0964653</td><td style=\"text-align: right;\">    0.00489036</td><td style=\"text-align: right;\">    -0.11765  </td><td style=\"text-align: right;\">    -0.0538112</td><td style=\"text-align: right;\">    0.0920895 </td><td style=\"text-align: right;\">   -0.12594   </td><td style=\"text-align: right;\">   -0.120697  </td><td style=\"text-align: right;\">    -0.0174441</td><td style=\"text-align: right;\">    0.131146  </td><td style=\"text-align: right;\">   -0.0123173 </td><td style=\"text-align: right;\">   0.227765   </td><td style=\"text-align: right;\">  -0.0591549  </td><td style=\"text-align: right;\">   -0.0805366 </td><td style=\"text-align: right;\">    -0.0617276</td><td style=\"text-align: right;\">    0.0369519 </td><td style=\"text-align: right;\">   -0.265992  </td><td style=\"text-align: right;\">    -0.049235 </td><td style=\"text-align: right;\">   -0.119169  </td><td style=\"text-align: right;\">    -0.0766291</td><td style=\"text-align: right;\">    0.0930348 </td><td style=\"text-align: right;\">    -0.366804 </td><td style=\"text-align: right;\">    0.0643549 </td><td style=\"text-align: right;\">     0.066959 </td><td style=\"text-align: right;\">    -0.112056 </td><td style=\"text-align: right;\">    -0.296801 </td><td style=\"text-align: right;\">  -0.000427937</td><td style=\"text-align: right;\">    -0.0218876</td><td style=\"text-align: right;\">    -0.10292  </td><td style=\"text-align: right;\">   -0.00658797</td><td style=\"text-align: right;\">    0.0593677 </td><td style=\"text-align: right;\">    0.0118853 </td><td style=\"text-align: right;\">    0.0352144 </td><td style=\"text-align: right;\">    -0.167315 </td><td style=\"text-align: right;\">    -0.0327834</td><td style=\"text-align: right;\">     0.152865 </td><td style=\"text-align: right;\">     0.0209526</td><td style=\"text-align: right;\">   -0.00589144</td><td style=\"text-align: right;\">    -0.236866 </td><td style=\"text-align: right;\">     0.213879 </td><td style=\"text-align: right;\">    -0.0135337</td><td style=\"text-align: right;\">    0.0456554 </td><td style=\"text-align: right;\">    -0.0470183</td><td style=\"text-align: right;\">     0.151076 </td><td style=\"text-align: right;\">    -0.0206288</td><td style=\"text-align: right;\">   -0.194398  </td><td style=\"text-align: right;\">    0.00865247</td><td style=\"text-align: right;\">    0.0189501 </td><td style=\"text-align: right;\">     0.0190928</td><td style=\"text-align: right;\">   -0.120865  </td><td style=\"text-align: right;\">   -0.043412  </td><td style=\"text-align: right;\">    -0.0286053</td><td style=\"text-align: right;\">    0.0251325 </td><td style=\"text-align: right;\">    -0.107097 </td><td style=\"text-align: right;\">    0.206762  </td><td style=\"text-align: right;\">    0.00739319</td><td style=\"text-align: right;\">     0.0463455</td><td style=\"text-align: right;\">    -0.0297982</td><td style=\"text-align: right;\">     0.202121 </td><td style=\"text-align: right;\">   -0.00120585</td><td style=\"text-align: right;\">    -0.0482566</td><td style=\"text-align: right;\">    -0.218769 </td><td style=\"text-align: right;\">  -0.0527176  </td><td style=\"text-align: right;\">     0.118833 </td><td style=\"text-align: right;\">    0.00199046</td><td style=\"text-align: right;\">    -0.0781286</td><td style=\"text-align: right;\">    0.0950735 </td><td style=\"text-align: right;\">     0.15935  </td><td style=\"text-align: right;\">    -0.0500707</td><td style=\"text-align: right;\">   -0.0978883 </td><td style=\"text-align: right;\">     0.0630979</td><td style=\"text-align: right;\">     0.111206 </td><td style=\"text-align: right;\">   -0.04228   </td><td style=\"text-align: right;\">    0.072779  </td><td style=\"text-align: right;\">    0.00885519</td><td style=\"text-align: right;\">     0.0550286</td><td style=\"text-align: right;\">    -0.21081  </td><td style=\"text-align: right;\">     0.0575702</td><td style=\"text-align: right;\">     0.14692  </td><td style=\"text-align: right;\">     0.0299107</td><td style=\"text-align: right;\">     0.143662 </td><td style=\"text-align: right;\">    0.0832577 </td><td style=\"text-align: right;\">    0.00743965</td><td style=\"text-align: right;\">    0.0783286 </td><td style=\"text-align: right;\">     0.0376367</td><td style=\"text-align: right;\">    0.226681  </td><td style=\"text-align: right;\">    0.205533  </td><td style=\"text-align: right;\">    -0.0726617</td><td style=\"text-align: right;\">     0.180326  </td></tr>\n",
              "</tbody>\n",
              "</table>"
            ]
          },
          "metadata": {
            "tags": []
          }
        },
        {
          "output_type": "execute_result",
          "data": {
            "text/plain": [
              ""
            ]
          },
          "metadata": {
            "tags": []
          },
          "execution_count": 50
        }
      ]
    },
    {
      "cell_type": "code",
      "metadata": {
        "id": "CEYL3LzTqeWm"
      },
      "source": [
        "h2o_df_ext = h2o_df_ext.cbind(headline_vecs)"
      ],
      "execution_count": null,
      "outputs": []
    },
    {
      "cell_type": "code",
      "metadata": {
        "id": "s1chNA1csdRR"
      },
      "source": [
        "h2o_train,h2o_valid = h2o_df_ext.split_frame(ratios=[.8])"
      ],
      "execution_count": null,
      "outputs": []
    },
    {
      "cell_type": "code",
      "metadata": {
        "id": "zueQle2jsG_D"
      },
      "source": [
        "gbm_all_cols = H2OGradientBoostingEstimator(stopping_metric = \"AUC\", stopping_tolerance = 0.001,\n",
        "                                              stopping_rounds = 5, score_tree_interval = 10\n",
        "                                             )"
      ],
      "execution_count": null,
      "outputs": []
    },
    {
      "cell_type": "code",
      "metadata": {
        "id": "NmekGFt_sG37",
        "colab": {
          "base_uri": "https://localhost:8080/"
        },
        "outputId": "0dd35d08-b468-4cec-ab2a-206b47a01cfc"
      },
      "source": [
        "gbm_all_cols.train(x=['votes']+headline_vecs.names+review_vecs.names, y='target', training_frame = h2o_train, validation_frame=h2o_valid)"
      ],
      "execution_count": null,
      "outputs": [
        {
          "output_type": "stream",
          "text": [
            "gbm Model Build progress: |███████████████████████████████████████████████| 100%\n"
          ],
          "name": "stdout"
        }
      ]
    },
    {
      "cell_type": "code",
      "metadata": {
        "id": "tgeJS3m_sGuV",
        "colab": {
          "base_uri": "https://localhost:8080/"
        },
        "outputId": "3bd4afeb-0430-4d97-a303-91475b3ff610"
      },
      "source": [
        "print(\" All Columns AUC: \" + str(round(gbm_all_cols.auc(valid = True), 3)))"
      ],
      "execution_count": null,
      "outputs": [
        {
          "output_type": "stream",
          "text": [
            " All Columns AUC: 0.925\n"
          ],
          "name": "stdout"
        }
      ]
    },
    {
      "cell_type": "code",
      "metadata": {
        "id": "A9uyUTt-s5hJ",
        "colab": {
          "base_uri": "https://localhost:8080/",
          "height": 176
        },
        "outputId": "c389e760-8a09-4d60-e498-eb9b82e359f6"
      },
      "source": [
        "gbm_all_cols.confusion_matrix(valid=True)"
      ],
      "execution_count": null,
      "outputs": [
        {
          "output_type": "stream",
          "text": [
            "\n",
            "Confusion Matrix (Act/Pred) for max f1 @ threshold = 0.5609794573948106: \n"
          ],
          "name": "stdout"
        },
        {
          "output_type": "display_data",
          "data": {
            "text/html": [
              "<div>\n",
              "<style scoped>\n",
              "    .dataframe tbody tr th:only-of-type {\n",
              "        vertical-align: middle;\n",
              "    }\n",
              "\n",
              "    .dataframe tbody tr th {\n",
              "        vertical-align: top;\n",
              "    }\n",
              "\n",
              "    .dataframe thead th {\n",
              "        text-align: right;\n",
              "    }\n",
              "</style>\n",
              "<table border=\"1\" class=\"dataframe\">\n",
              "  <thead>\n",
              "    <tr style=\"text-align: right;\">\n",
              "      <th></th>\n",
              "      <th></th>\n",
              "      <th>0</th>\n",
              "      <th>1</th>\n",
              "      <th>Error</th>\n",
              "      <th>Rate</th>\n",
              "    </tr>\n",
              "  </thead>\n",
              "  <tbody>\n",
              "    <tr>\n",
              "      <th>0</th>\n",
              "      <td>0</td>\n",
              "      <td>3264.0</td>\n",
              "      <td>1561.0</td>\n",
              "      <td>0.3235</td>\n",
              "      <td>(1561.0/4825.0)</td>\n",
              "    </tr>\n",
              "    <tr>\n",
              "      <th>1</th>\n",
              "      <td>1</td>\n",
              "      <td>689.0</td>\n",
              "      <td>11766.0</td>\n",
              "      <td>0.0553</td>\n",
              "      <td>(689.0/12455.0)</td>\n",
              "    </tr>\n",
              "    <tr>\n",
              "      <th>2</th>\n",
              "      <td>Total</td>\n",
              "      <td>3953.0</td>\n",
              "      <td>13327.0</td>\n",
              "      <td>0.1302</td>\n",
              "      <td>(2250.0/17280.0)</td>\n",
              "    </tr>\n",
              "  </tbody>\n",
              "</table>\n",
              "</div>"
            ],
            "text/plain": [
              "               0        1   Error               Rate\n",
              "0      0  3264.0   1561.0  0.3235    (1561.0/4825.0)\n",
              "1      1   689.0  11766.0  0.0553    (689.0/12455.0)\n",
              "2  Total  3953.0  13327.0  0.1302   (2250.0/17280.0)"
            ]
          },
          "metadata": {
            "tags": []
          }
        },
        {
          "output_type": "execute_result",
          "data": {
            "text/plain": [
              ""
            ]
          },
          "metadata": {
            "tags": []
          },
          "execution_count": 56
        }
      ]
    },
    {
      "cell_type": "code",
      "metadata": {
        "id": "z2utmWVrUqTl",
        "colab": {
          "base_uri": "https://localhost:8080/",
          "height": 459
        },
        "outputId": "334abe6d-945c-48b2-893e-d83d10f227e2"
      },
      "source": [
        "gbm_all_cols.score_history()"
      ],
      "execution_count": null,
      "outputs": [
        {
          "output_type": "execute_result",
          "data": {
            "text/html": [
              "<div>\n",
              "<style scoped>\n",
              "    .dataframe tbody tr th:only-of-type {\n",
              "        vertical-align: middle;\n",
              "    }\n",
              "\n",
              "    .dataframe tbody tr th {\n",
              "        vertical-align: top;\n",
              "    }\n",
              "\n",
              "    .dataframe thead th {\n",
              "        text-align: right;\n",
              "    }\n",
              "</style>\n",
              "<table border=\"1\" class=\"dataframe\">\n",
              "  <thead>\n",
              "    <tr style=\"text-align: right;\">\n",
              "      <th></th>\n",
              "      <th></th>\n",
              "      <th>timestamp</th>\n",
              "      <th>duration</th>\n",
              "      <th>number_of_trees</th>\n",
              "      <th>training_rmse</th>\n",
              "      <th>training_logloss</th>\n",
              "      <th>training_auc</th>\n",
              "      <th>training_pr_auc</th>\n",
              "      <th>training_lift</th>\n",
              "      <th>training_classification_error</th>\n",
              "      <th>validation_rmse</th>\n",
              "      <th>validation_logloss</th>\n",
              "      <th>validation_auc</th>\n",
              "      <th>validation_pr_auc</th>\n",
              "      <th>validation_lift</th>\n",
              "      <th>validation_classification_error</th>\n",
              "    </tr>\n",
              "  </thead>\n",
              "  <tbody>\n",
              "    <tr>\n",
              "      <th>0</th>\n",
              "      <td></td>\n",
              "      <td>2021-04-06 05:50:35</td>\n",
              "      <td>0.005 sec</td>\n",
              "      <td>0.0</td>\n",
              "      <td>0.444356</td>\n",
              "      <td>0.584021</td>\n",
              "      <td>0.500000</td>\n",
              "      <td>0.729232</td>\n",
              "      <td>1.000000</td>\n",
              "      <td>0.270768</td>\n",
              "      <td>0.448698</td>\n",
              "      <td>0.592399</td>\n",
              "      <td>0.500000</td>\n",
              "      <td>0.720775</td>\n",
              "      <td>1.000000</td>\n",
              "      <td>0.279225</td>\n",
              "    </tr>\n",
              "    <tr>\n",
              "      <th>1</th>\n",
              "      <td></td>\n",
              "      <td>2021-04-06 05:50:44</td>\n",
              "      <td>8.760 sec</td>\n",
              "      <td>10.0</td>\n",
              "      <td>0.367153</td>\n",
              "      <td>0.431237</td>\n",
              "      <td>0.894116</td>\n",
              "      <td>0.955185</td>\n",
              "      <td>1.369844</td>\n",
              "      <td>0.155238</td>\n",
              "      <td>0.373049</td>\n",
              "      <td>0.441037</td>\n",
              "      <td>0.888028</td>\n",
              "      <td>0.951023</td>\n",
              "      <td>1.387395</td>\n",
              "      <td>0.163715</td>\n",
              "    </tr>\n",
              "    <tr>\n",
              "      <th>2</th>\n",
              "      <td></td>\n",
              "      <td>2021-04-06 05:50:52</td>\n",
              "      <td>17.095 sec</td>\n",
              "      <td>20.0</td>\n",
              "      <td>0.335738</td>\n",
              "      <td>0.371086</td>\n",
              "      <td>0.915664</td>\n",
              "      <td>0.964590</td>\n",
              "      <td>1.369560</td>\n",
              "      <td>0.136257</td>\n",
              "      <td>0.343071</td>\n",
              "      <td>0.382630</td>\n",
              "      <td>0.909061</td>\n",
              "      <td>0.960861</td>\n",
              "      <td>1.387395</td>\n",
              "      <td>0.146875</td>\n",
              "    </tr>\n",
              "    <tr>\n",
              "      <th>3</th>\n",
              "      <td></td>\n",
              "      <td>2021-04-06 05:51:01</td>\n",
              "      <td>25.589 sec</td>\n",
              "      <td>30.0</td>\n",
              "      <td>0.318857</td>\n",
              "      <td>0.337866</td>\n",
              "      <td>0.925267</td>\n",
              "      <td>0.968741</td>\n",
              "      <td>1.369312</td>\n",
              "      <td>0.128193</td>\n",
              "      <td>0.327977</td>\n",
              "      <td>0.352021</td>\n",
              "      <td>0.916813</td>\n",
              "      <td>0.964327</td>\n",
              "      <td>1.387395</td>\n",
              "      <td>0.137442</td>\n",
              "    </tr>\n",
              "    <tr>\n",
              "      <th>4</th>\n",
              "      <td></td>\n",
              "      <td>2021-04-06 05:51:09</td>\n",
              "      <td>33.893 sec</td>\n",
              "      <td>40.0</td>\n",
              "      <td>0.307292</td>\n",
              "      <td>0.315117</td>\n",
              "      <td>0.932046</td>\n",
              "      <td>0.971689</td>\n",
              "      <td>1.371305</td>\n",
              "      <td>0.123550</td>\n",
              "      <td>0.318502</td>\n",
              "      <td>0.332306</td>\n",
              "      <td>0.921769</td>\n",
              "      <td>0.966561</td>\n",
              "      <td>1.387395</td>\n",
              "      <td>0.132465</td>\n",
              "    </tr>\n",
              "    <tr>\n",
              "      <th>5</th>\n",
              "      <td></td>\n",
              "      <td>2021-04-06 05:51:18</td>\n",
              "      <td>42.502 sec</td>\n",
              "      <td>50.0</td>\n",
              "      <td>0.298996</td>\n",
              "      <td>0.299149</td>\n",
              "      <td>0.937489</td>\n",
              "      <td>0.974007</td>\n",
              "      <td>1.369312</td>\n",
              "      <td>0.115384</td>\n",
              "      <td>0.312368</td>\n",
              "      <td>0.319490</td>\n",
              "      <td>0.925239</td>\n",
              "      <td>0.968103</td>\n",
              "      <td>1.387395</td>\n",
              "      <td>0.130208</td>\n",
              "    </tr>\n",
              "  </tbody>\n",
              "</table>\n",
              "</div>"
            ],
            "text/plain": [
              "               timestamp  ... validation_lift  validation_classification_error\n",
              "0    2021-04-06 05:50:35  ...        1.000000                         0.279225\n",
              "1    2021-04-06 05:50:44  ...        1.387395                         0.163715\n",
              "2    2021-04-06 05:50:52  ...        1.387395                         0.146875\n",
              "3    2021-04-06 05:51:01  ...        1.387395                         0.137442\n",
              "4    2021-04-06 05:51:09  ...        1.387395                         0.132465\n",
              "5    2021-04-06 05:51:18  ...        1.387395                         0.130208\n",
              "\n",
              "[6 rows x 16 columns]"
            ]
          },
          "metadata": {
            "tags": []
          },
          "execution_count": 57
        }
      ]
    },
    {
      "cell_type": "code",
      "metadata": {
        "id": "4wgwfE0e0hQO",
        "colab": {
          "base_uri": "https://localhost:8080/",
          "height": 612
        },
        "outputId": "e8fe9e5d-7ab1-40f0-b9b4-49f342949469"
      },
      "source": [
        "gbm_all_cols.varimp_plot()"
      ],
      "execution_count": null,
      "outputs": [
        {
          "output_type": "display_data",
          "data": {
            "image/png": "[encoded data removed]",
            "text/plain": [
              "<Figure size 1008x720 with 1 Axes>"
            ]
          },
          "metadata": {
            "tags": [],
            "needs_background": "light"
          }
        }
      ]
    },
    {
      "cell_type": "code",
      "metadata": {
        "id": "cObB3uHKvk5r"
      },
      "source": [
        ""
      ],
      "execution_count": null,
      "outputs": []
    },
    {
      "cell_type": "code",
      "metadata": {
        "id": "louvl3HBvkjQ"
      },
      "source": [
        ""
      ],
      "execution_count": null,
      "outputs": []
    },
    {
      "cell_type": "code",
      "metadata": {
        "id": "R_mPS6eHtACR"
      },
      "source": [
        "gbm_hyperparameters = H2OGradientBoostingEstimator(ntrees=100,\n",
        "                                              max_depth = 6,  learn_rate=0.1\n",
        "                                             )"
      ],
      "execution_count": null,
      "outputs": []
    },
    {
      "cell_type": "code",
      "metadata": {
        "id": "5bmAB8v0zs0F",
        "colab": {
          "base_uri": "https://localhost:8080/"
        },
        "outputId": "22f5f4a3-9a2f-464b-a581-cab38d31d59e"
      },
      "source": [
        "gbm_hyperparameters.train(x=headline_vecs.names+review_vecs.names, y='target', training_frame = h2o_train, validation_frame=h2o_valid)"
      ],
      "execution_count": null,
      "outputs": [
        {
          "output_type": "stream",
          "text": [
            "gbm Model Build progress: |███████████████████████████████████████████████| 100%\n"
          ],
          "name": "stdout"
        }
      ]
    },
    {
      "cell_type": "code",
      "metadata": {
        "id": "8Xy_Wf6z02WY",
        "colab": {
          "base_uri": "https://localhost:8080/"
        },
        "outputId": "74d7be59-4a64-41df-d938-566ac2ccafd6"
      },
      "source": [
        "print(\" Hyperparameter AUC: \" + str(round(gbm_hyperparameters.auc(valid = True), 3)))"
      ],
      "execution_count": null,
      "outputs": [
        {
          "output_type": "stream",
          "text": [
            " Hyperparameter AUC: 0.935\n"
          ],
          "name": "stdout"
        }
      ]
    },
    {
      "cell_type": "code",
      "metadata": {
        "id": "oB40XPVX1SyP",
        "colab": {
          "base_uri": "https://localhost:8080/",
          "height": 176
        },
        "outputId": "21482774-6a91-4b96-e54d-d703b15ef130"
      },
      "source": [
        "gbm_hyperparameters.confusion_matrix(valid=True)"
      ],
      "execution_count": null,
      "outputs": [
        {
          "output_type": "stream",
          "text": [
            "\n",
            "Confusion Matrix (Act/Pred) for max f1 @ threshold = 0.512180890545453: \n"
          ],
          "name": "stdout"
        },
        {
          "output_type": "display_data",
          "data": {
            "text/html": [
              "<div>\n",
              "<style scoped>\n",
              "    .dataframe tbody tr th:only-of-type {\n",
              "        vertical-align: middle;\n",
              "    }\n",
              "\n",
              "    .dataframe tbody tr th {\n",
              "        vertical-align: top;\n",
              "    }\n",
              "\n",
              "    .dataframe thead th {\n",
              "        text-align: right;\n",
              "    }\n",
              "</style>\n",
              "<table border=\"1\" class=\"dataframe\">\n",
              "  <thead>\n",
              "    <tr style=\"text-align: right;\">\n",
              "      <th></th>\n",
              "      <th></th>\n",
              "      <th>0</th>\n",
              "      <th>1</th>\n",
              "      <th>Error</th>\n",
              "      <th>Rate</th>\n",
              "    </tr>\n",
              "  </thead>\n",
              "  <tbody>\n",
              "    <tr>\n",
              "      <th>0</th>\n",
              "      <td>0</td>\n",
              "      <td>3375.0</td>\n",
              "      <td>1450.0</td>\n",
              "      <td>0.3005</td>\n",
              "      <td>(1450.0/4825.0)</td>\n",
              "    </tr>\n",
              "    <tr>\n",
              "      <th>1</th>\n",
              "      <td>1</td>\n",
              "      <td>624.0</td>\n",
              "      <td>11831.0</td>\n",
              "      <td>0.0501</td>\n",
              "      <td>(624.0/12455.0)</td>\n",
              "    </tr>\n",
              "    <tr>\n",
              "      <th>2</th>\n",
              "      <td>Total</td>\n",
              "      <td>3999.0</td>\n",
              "      <td>13281.0</td>\n",
              "      <td>0.12</td>\n",
              "      <td>(2074.0/17280.0)</td>\n",
              "    </tr>\n",
              "  </tbody>\n",
              "</table>\n",
              "</div>"
            ],
            "text/plain": [
              "               0        1   Error               Rate\n",
              "0      0  3375.0   1450.0  0.3005    (1450.0/4825.0)\n",
              "1      1   624.0  11831.0  0.0501    (624.0/12455.0)\n",
              "2  Total  3999.0  13281.0    0.12   (2074.0/17280.0)"
            ]
          },
          "metadata": {
            "tags": []
          }
        },
        {
          "output_type": "execute_result",
          "data": {
            "text/plain": [
              ""
            ]
          },
          "metadata": {
            "tags": []
          },
          "execution_count": 62
        }
      ]
    },
    {
      "cell_type": "code",
      "metadata": {
        "id": "u0IgWDjTVTnX",
        "colab": {
          "base_uri": "https://localhost:8080/",
          "height": 1000
        },
        "outputId": "151129c6-62aa-419d-8635-e4ccf29d9901"
      },
      "source": [
        "gbm_hyperparameters.score_history()"
      ],
      "execution_count": null,
      "outputs": [
        {
          "output_type": "execute_result",
          "data": {
            "text/html": [
              "<div>\n",
              "<style scoped>\n",
              "    .dataframe tbody tr th:only-of-type {\n",
              "        vertical-align: middle;\n",
              "    }\n",
              "\n",
              "    .dataframe tbody tr th {\n",
              "        vertical-align: top;\n",
              "    }\n",
              "\n",
              "    .dataframe thead th {\n",
              "        text-align: right;\n",
              "    }\n",
              "</style>\n",
              "<table border=\"1\" class=\"dataframe\">\n",
              "  <thead>\n",
              "    <tr style=\"text-align: right;\">\n",
              "      <th></th>\n",
              "      <th></th>\n",
              "      <th>timestamp</th>\n",
              "      <th>duration</th>\n",
              "      <th>number_of_trees</th>\n",
              "      <th>training_rmse</th>\n",
              "      <th>training_logloss</th>\n",
              "      <th>training_auc</th>\n",
              "      <th>training_pr_auc</th>\n",
              "      <th>training_lift</th>\n",
              "      <th>training_classification_error</th>\n",
              "      <th>validation_rmse</th>\n",
              "      <th>validation_logloss</th>\n",
              "      <th>validation_auc</th>\n",
              "      <th>validation_pr_auc</th>\n",
              "      <th>validation_lift</th>\n",
              "      <th>validation_classification_error</th>\n",
              "    </tr>\n",
              "  </thead>\n",
              "  <tbody>\n",
              "    <tr>\n",
              "      <th>0</th>\n",
              "      <td></td>\n",
              "      <td>2021-04-06 05:51:19</td>\n",
              "      <td>0.004 sec</td>\n",
              "      <td>0.0</td>\n",
              "      <td>0.444356</td>\n",
              "      <td>0.584021</td>\n",
              "      <td>0.500000</td>\n",
              "      <td>0.729232</td>\n",
              "      <td>1.000000</td>\n",
              "      <td>0.270768</td>\n",
              "      <td>0.448698</td>\n",
              "      <td>0.592399</td>\n",
              "      <td>0.500000</td>\n",
              "      <td>0.720775</td>\n",
              "      <td>1.000000</td>\n",
              "      <td>0.279225</td>\n",
              "    </tr>\n",
              "    <tr>\n",
              "      <th>1</th>\n",
              "      <td></td>\n",
              "      <td>2021-04-06 05:51:20</td>\n",
              "      <td>1.587 sec</td>\n",
              "      <td>1.0</td>\n",
              "      <td>0.430118</td>\n",
              "      <td>0.553497</td>\n",
              "      <td>0.837612</td>\n",
              "      <td>0.929511</td>\n",
              "      <td>1.362861</td>\n",
              "      <td>0.193825</td>\n",
              "      <td>0.434856</td>\n",
              "      <td>0.562423</td>\n",
              "      <td>0.829885</td>\n",
              "      <td>0.922319</td>\n",
              "      <td>1.377775</td>\n",
              "      <td>0.199074</td>\n",
              "    </tr>\n",
              "    <tr>\n",
              "      <th>2</th>\n",
              "      <td></td>\n",
              "      <td>2021-04-06 05:51:22</td>\n",
              "      <td>3.081 sec</td>\n",
              "      <td>2.0</td>\n",
              "      <td>0.417470</td>\n",
              "      <td>0.528039</td>\n",
              "      <td>0.867623</td>\n",
              "      <td>0.943190</td>\n",
              "      <td>1.366099</td>\n",
              "      <td>0.173797</td>\n",
              "      <td>0.422611</td>\n",
              "      <td>0.537479</td>\n",
              "      <td>0.859554</td>\n",
              "      <td>0.938367</td>\n",
              "      <td>1.384562</td>\n",
              "      <td>0.185127</td>\n",
              "    </tr>\n",
              "    <tr>\n",
              "      <th>3</th>\n",
              "      <td></td>\n",
              "      <td>2021-04-06 05:51:26</td>\n",
              "      <td>7.210 sec</td>\n",
              "      <td>6.0</td>\n",
              "      <td>0.381578</td>\n",
              "      <td>0.459614</td>\n",
              "      <td>0.893857</td>\n",
              "      <td>0.954755</td>\n",
              "      <td>1.368243</td>\n",
              "      <td>0.154670</td>\n",
              "      <td>0.388391</td>\n",
              "      <td>0.471228</td>\n",
              "      <td>0.882881</td>\n",
              "      <td>0.948922</td>\n",
              "      <td>1.385354</td>\n",
              "      <td>0.168519</td>\n",
              "    </tr>\n",
              "    <tr>\n",
              "      <th>4</th>\n",
              "      <td></td>\n",
              "      <td>2021-04-06 05:51:30</td>\n",
              "      <td>11.229 sec</td>\n",
              "      <td>10.0</td>\n",
              "      <td>0.358329</td>\n",
              "      <td>0.415702</td>\n",
              "      <td>0.905787</td>\n",
              "      <td>0.959794</td>\n",
              "      <td>1.368240</td>\n",
              "      <td>0.144539</td>\n",
              "      <td>0.366603</td>\n",
              "      <td>0.429306</td>\n",
              "      <td>0.893290</td>\n",
              "      <td>0.953068</td>\n",
              "      <td>1.385351</td>\n",
              "      <td>0.159317</td>\n",
              "    </tr>\n",
              "    <tr>\n",
              "      <th>5</th>\n",
              "      <td></td>\n",
              "      <td>2021-04-06 05:51:35</td>\n",
              "      <td>16.191 sec</td>\n",
              "      <td>15.0</td>\n",
              "      <td>0.338643</td>\n",
              "      <td>0.378444</td>\n",
              "      <td>0.918445</td>\n",
              "      <td>0.965629</td>\n",
              "      <td>1.368765</td>\n",
              "      <td>0.133492</td>\n",
              "      <td>0.349078</td>\n",
              "      <td>0.394994</td>\n",
              "      <td>0.905020</td>\n",
              "      <td>0.959067</td>\n",
              "      <td>1.387395</td>\n",
              "      <td>0.150926</td>\n",
              "    </tr>\n",
              "    <tr>\n",
              "      <th>6</th>\n",
              "      <td></td>\n",
              "      <td>2021-04-06 05:51:39</td>\n",
              "      <td>20.398 sec</td>\n",
              "      <td>19.0</td>\n",
              "      <td>0.326929</td>\n",
              "      <td>0.355963</td>\n",
              "      <td>0.924898</td>\n",
              "      <td>0.968466</td>\n",
              "      <td>1.366881</td>\n",
              "      <td>0.128659</td>\n",
              "      <td>0.338906</td>\n",
              "      <td>0.374769</td>\n",
              "      <td>0.910332</td>\n",
              "      <td>0.961406</td>\n",
              "      <td>1.387395</td>\n",
              "      <td>0.145660</td>\n",
              "    </tr>\n",
              "    <tr>\n",
              "      <th>7</th>\n",
              "      <td></td>\n",
              "      <td>2021-04-06 05:51:43</td>\n",
              "      <td>24.425 sec</td>\n",
              "      <td>23.0</td>\n",
              "      <td>0.318072</td>\n",
              "      <td>0.339041</td>\n",
              "      <td>0.930312</td>\n",
              "      <td>0.970872</td>\n",
              "      <td>1.367623</td>\n",
              "      <td>0.123288</td>\n",
              "      <td>0.331659</td>\n",
              "      <td>0.360211</td>\n",
              "      <td>0.914352</td>\n",
              "      <td>0.963214</td>\n",
              "      <td>1.387395</td>\n",
              "      <td>0.140856</td>\n",
              "    </tr>\n",
              "    <tr>\n",
              "      <th>8</th>\n",
              "      <td></td>\n",
              "      <td>2021-04-06 05:51:47</td>\n",
              "      <td>28.455 sec</td>\n",
              "      <td>27.0</td>\n",
              "      <td>0.310444</td>\n",
              "      <td>0.324468</td>\n",
              "      <td>0.934734</td>\n",
              "      <td>0.972731</td>\n",
              "      <td>1.367404</td>\n",
              "      <td>0.118848</td>\n",
              "      <td>0.325746</td>\n",
              "      <td>0.348190</td>\n",
              "      <td>0.917488</td>\n",
              "      <td>0.964604</td>\n",
              "      <td>1.387395</td>\n",
              "      <td>0.135995</td>\n",
              "    </tr>\n",
              "    <tr>\n",
              "      <th>9</th>\n",
              "      <td></td>\n",
              "      <td>2021-04-06 05:51:51</td>\n",
              "      <td>32.667 sec</td>\n",
              "      <td>31.0</td>\n",
              "      <td>0.304032</td>\n",
              "      <td>0.312193</td>\n",
              "      <td>0.938241</td>\n",
              "      <td>0.974247</td>\n",
              "      <td>1.369312</td>\n",
              "      <td>0.115369</td>\n",
              "      <td>0.320929</td>\n",
              "      <td>0.338110</td>\n",
              "      <td>0.920221</td>\n",
              "      <td>0.965821</td>\n",
              "      <td>1.387395</td>\n",
              "      <td>0.134144</td>\n",
              "    </tr>\n",
              "    <tr>\n",
              "      <th>10</th>\n",
              "      <td></td>\n",
              "      <td>2021-04-06 05:51:56</td>\n",
              "      <td>37.658 sec</td>\n",
              "      <td>36.0</td>\n",
              "      <td>0.297503</td>\n",
              "      <td>0.299819</td>\n",
              "      <td>0.941854</td>\n",
              "      <td>0.975801</td>\n",
              "      <td>1.367824</td>\n",
              "      <td>0.110959</td>\n",
              "      <td>0.317011</td>\n",
              "      <td>0.329472</td>\n",
              "      <td>0.922014</td>\n",
              "      <td>0.966681</td>\n",
              "      <td>1.387395</td>\n",
              "      <td>0.132928</td>\n",
              "    </tr>\n",
              "    <tr>\n",
              "      <th>11</th>\n",
              "      <td></td>\n",
              "      <td>2021-04-06 05:52:00</td>\n",
              "      <td>41.687 sec</td>\n",
              "      <td>40.0</td>\n",
              "      <td>0.292834</td>\n",
              "      <td>0.290940</td>\n",
              "      <td>0.944601</td>\n",
              "      <td>0.976958</td>\n",
              "      <td>1.367318</td>\n",
              "      <td>0.107466</td>\n",
              "      <td>0.314001</td>\n",
              "      <td>0.322943</td>\n",
              "      <td>0.923771</td>\n",
              "      <td>0.967492</td>\n",
              "      <td>1.387395</td>\n",
              "      <td>0.130382</td>\n",
              "    </tr>\n",
              "    <tr>\n",
              "      <th>12</th>\n",
              "      <td></td>\n",
              "      <td>2021-04-06 05:52:05</td>\n",
              "      <td>45.946 sec</td>\n",
              "      <td>44.0</td>\n",
              "      <td>0.288861</td>\n",
              "      <td>0.283629</td>\n",
              "      <td>0.946986</td>\n",
              "      <td>0.977968</td>\n",
              "      <td>1.367336</td>\n",
              "      <td>0.105501</td>\n",
              "      <td>0.311566</td>\n",
              "      <td>0.317938</td>\n",
              "      <td>0.925138</td>\n",
              "      <td>0.968041</td>\n",
              "      <td>1.387395</td>\n",
              "      <td>0.129572</td>\n",
              "    </tr>\n",
              "    <tr>\n",
              "      <th>13</th>\n",
              "      <td></td>\n",
              "      <td>2021-04-06 05:52:09</td>\n",
              "      <td>50.900 sec</td>\n",
              "      <td>49.0</td>\n",
              "      <td>0.284325</td>\n",
              "      <td>0.275224</td>\n",
              "      <td>0.949629</td>\n",
              "      <td>0.979235</td>\n",
              "      <td>1.369349</td>\n",
              "      <td>0.103128</td>\n",
              "      <td>0.308989</td>\n",
              "      <td>0.312381</td>\n",
              "      <td>0.926625</td>\n",
              "      <td>0.968670</td>\n",
              "      <td>1.387395</td>\n",
              "      <td>0.128588</td>\n",
              "    </tr>\n",
              "    <tr>\n",
              "      <th>14</th>\n",
              "      <td></td>\n",
              "      <td>2021-04-06 05:52:14</td>\n",
              "      <td>55.839 sec</td>\n",
              "      <td>54.0</td>\n",
              "      <td>0.280187</td>\n",
              "      <td>0.267880</td>\n",
              "      <td>0.952083</td>\n",
              "      <td>0.980254</td>\n",
              "      <td>1.369312</td>\n",
              "      <td>0.099984</td>\n",
              "      <td>0.306881</td>\n",
              "      <td>0.307880</td>\n",
              "      <td>0.927980</td>\n",
              "      <td>0.969280</td>\n",
              "      <td>1.387395</td>\n",
              "      <td>0.125926</td>\n",
              "    </tr>\n",
              "    <tr>\n",
              "      <th>15</th>\n",
              "      <td></td>\n",
              "      <td>2021-04-06 05:52:18</td>\n",
              "      <td>59.915 sec</td>\n",
              "      <td>58.0</td>\n",
              "      <td>0.276980</td>\n",
              "      <td>0.262269</td>\n",
              "      <td>0.954003</td>\n",
              "      <td>0.981085</td>\n",
              "      <td>1.369612</td>\n",
              "      <td>0.097480</td>\n",
              "      <td>0.305315</td>\n",
              "      <td>0.304617</td>\n",
              "      <td>0.928960</td>\n",
              "      <td>0.969676</td>\n",
              "      <td>1.387395</td>\n",
              "      <td>0.124306</td>\n",
              "    </tr>\n",
              "    <tr>\n",
              "      <th>16</th>\n",
              "      <td></td>\n",
              "      <td>2021-04-06 05:52:22</td>\n",
              "      <td>1 min  3.922 sec</td>\n",
              "      <td>62.0</td>\n",
              "      <td>0.273995</td>\n",
              "      <td>0.257186</td>\n",
              "      <td>0.955788</td>\n",
              "      <td>0.981841</td>\n",
              "      <td>1.371305</td>\n",
              "      <td>0.094875</td>\n",
              "      <td>0.304098</td>\n",
              "      <td>0.301929</td>\n",
              "      <td>0.929786</td>\n",
              "      <td>0.970053</td>\n",
              "      <td>1.387395</td>\n",
              "      <td>0.125058</td>\n",
              "    </tr>\n",
              "    <tr>\n",
              "      <th>17</th>\n",
              "      <td></td>\n",
              "      <td>2021-04-06 05:52:27</td>\n",
              "      <td>1 min  8.878 sec</td>\n",
              "      <td>67.0</td>\n",
              "      <td>0.270547</td>\n",
              "      <td>0.251201</td>\n",
              "      <td>0.957773</td>\n",
              "      <td>0.982724</td>\n",
              "      <td>1.371305</td>\n",
              "      <td>0.092371</td>\n",
              "      <td>0.302580</td>\n",
              "      <td>0.298638</td>\n",
              "      <td>0.930731</td>\n",
              "      <td>0.970456</td>\n",
              "      <td>1.387395</td>\n",
              "      <td>0.123322</td>\n",
              "    </tr>\n",
              "    <tr>\n",
              "      <th>18</th>\n",
              "      <td></td>\n",
              "      <td>2021-04-06 05:52:31</td>\n",
              "      <td>1 min 12.896 sec</td>\n",
              "      <td>71.0</td>\n",
              "      <td>0.267886</td>\n",
              "      <td>0.246715</td>\n",
              "      <td>0.959345</td>\n",
              "      <td>0.983399</td>\n",
              "      <td>1.371305</td>\n",
              "      <td>0.090872</td>\n",
              "      <td>0.301333</td>\n",
              "      <td>0.296191</td>\n",
              "      <td>0.931524</td>\n",
              "      <td>0.970760</td>\n",
              "      <td>1.387395</td>\n",
              "      <td>0.122801</td>\n",
              "    </tr>\n",
              "    <tr>\n",
              "      <th>19</th>\n",
              "      <td></td>\n",
              "      <td>2021-04-06 05:52:36</td>\n",
              "      <td>1 min 17.171 sec</td>\n",
              "      <td>75.0</td>\n",
              "      <td>0.265433</td>\n",
              "      <td>0.242684</td>\n",
              "      <td>0.960679</td>\n",
              "      <td>0.983965</td>\n",
              "      <td>1.371305</td>\n",
              "      <td>0.089067</td>\n",
              "      <td>0.300433</td>\n",
              "      <td>0.294292</td>\n",
              "      <td>0.932098</td>\n",
              "      <td>0.971023</td>\n",
              "      <td>1.387395</td>\n",
              "      <td>0.122569</td>\n",
              "    </tr>\n",
              "    <tr>\n",
              "      <th>20</th>\n",
              "      <td></td>\n",
              "      <td>2021-04-06 05:52:41</td>\n",
              "      <td>1 min 22.082 sec</td>\n",
              "      <td>80.0</td>\n",
              "      <td>0.262345</td>\n",
              "      <td>0.237746</td>\n",
              "      <td>0.962449</td>\n",
              "      <td>0.984693</td>\n",
              "      <td>1.371305</td>\n",
              "      <td>0.086840</td>\n",
              "      <td>0.299535</td>\n",
              "      <td>0.292239</td>\n",
              "      <td>0.932803</td>\n",
              "      <td>0.971388</td>\n",
              "      <td>1.387395</td>\n",
              "      <td>0.122512</td>\n",
              "    </tr>\n",
              "    <tr>\n",
              "      <th>21</th>\n",
              "      <td></td>\n",
              "      <td>2021-04-06 05:52:45</td>\n",
              "      <td>1 min 26.123 sec</td>\n",
              "      <td>84.0</td>\n",
              "      <td>0.259903</td>\n",
              "      <td>0.233844</td>\n",
              "      <td>0.963745</td>\n",
              "      <td>0.985227</td>\n",
              "      <td>1.371305</td>\n",
              "      <td>0.085224</td>\n",
              "      <td>0.298843</td>\n",
              "      <td>0.290636</td>\n",
              "      <td>0.933368</td>\n",
              "      <td>0.971660</td>\n",
              "      <td>1.387395</td>\n",
              "      <td>0.122512</td>\n",
              "    </tr>\n",
              "    <tr>\n",
              "      <th>22</th>\n",
              "      <td></td>\n",
              "      <td>2021-04-06 05:52:49</td>\n",
              "      <td>1 min 30.167 sec</td>\n",
              "      <td>88.0</td>\n",
              "      <td>0.257817</td>\n",
              "      <td>0.230459</td>\n",
              "      <td>0.964874</td>\n",
              "      <td>0.985706</td>\n",
              "      <td>1.371305</td>\n",
              "      <td>0.084104</td>\n",
              "      <td>0.298303</td>\n",
              "      <td>0.289363</td>\n",
              "      <td>0.933679</td>\n",
              "      <td>0.971810</td>\n",
              "      <td>1.387395</td>\n",
              "      <td>0.121470</td>\n",
              "    </tr>\n",
              "    <tr>\n",
              "      <th>23</th>\n",
              "      <td></td>\n",
              "      <td>2021-04-06 05:52:54</td>\n",
              "      <td>1 min 35.137 sec</td>\n",
              "      <td>93.0</td>\n",
              "      <td>0.255244</td>\n",
              "      <td>0.226387</td>\n",
              "      <td>0.966238</td>\n",
              "      <td>0.986285</td>\n",
              "      <td>1.371305</td>\n",
              "      <td>0.082168</td>\n",
              "      <td>0.297557</td>\n",
              "      <td>0.287726</td>\n",
              "      <td>0.934210</td>\n",
              "      <td>0.972034</td>\n",
              "      <td>1.387395</td>\n",
              "      <td>0.122222</td>\n",
              "    </tr>\n",
              "    <tr>\n",
              "      <th>24</th>\n",
              "      <td></td>\n",
              "      <td>2021-04-06 05:52:59</td>\n",
              "      <td>1 min 40.079 sec</td>\n",
              "      <td>98.0</td>\n",
              "      <td>0.252810</td>\n",
              "      <td>0.222542</td>\n",
              "      <td>0.967520</td>\n",
              "      <td>0.986820</td>\n",
              "      <td>1.371305</td>\n",
              "      <td>0.079839</td>\n",
              "      <td>0.296989</td>\n",
              "      <td>0.286458</td>\n",
              "      <td>0.934650</td>\n",
              "      <td>0.972245</td>\n",
              "      <td>1.387395</td>\n",
              "      <td>0.120428</td>\n",
              "    </tr>\n",
              "    <tr>\n",
              "      <th>25</th>\n",
              "      <td></td>\n",
              "      <td>2021-04-06 05:53:01</td>\n",
              "      <td>1 min 42.199 sec</td>\n",
              "      <td>100.0</td>\n",
              "      <td>0.251690</td>\n",
              "      <td>0.220882</td>\n",
              "      <td>0.968071</td>\n",
              "      <td>0.987045</td>\n",
              "      <td>1.371305</td>\n",
              "      <td>0.079198</td>\n",
              "      <td>0.296733</td>\n",
              "      <td>0.285978</td>\n",
              "      <td>0.934733</td>\n",
              "      <td>0.972255</td>\n",
              "      <td>1.387395</td>\n",
              "      <td>0.120023</td>\n",
              "    </tr>\n",
              "  </tbody>\n",
              "</table>\n",
              "</div>"
            ],
            "text/plain": [
              "                timestamp  ... validation_lift  validation_classification_error\n",
              "0     2021-04-06 05:51:19  ...        1.000000                         0.279225\n",
              "1     2021-04-06 05:51:20  ...        1.377775                         0.199074\n",
              "2     2021-04-06 05:51:22  ...        1.384562                         0.185127\n",
              "3     2021-04-06 05:51:26  ...        1.385354                         0.168519\n",
              "4     2021-04-06 05:51:30  ...        1.385351                         0.159317\n",
              "5     2021-04-06 05:51:35  ...        1.387395                         0.150926\n",
              "6     2021-04-06 05:51:39  ...        1.387395                         0.145660\n",
              "7     2021-04-06 05:51:43  ...        1.387395                         0.140856\n",
              "8     2021-04-06 05:51:47  ...        1.387395                         0.135995\n",
              "9     2021-04-06 05:51:51  ...        1.387395                         0.134144\n",
              "10    2021-04-06 05:51:56  ...        1.387395                         0.132928\n",
              "11    2021-04-06 05:52:00  ...        1.387395                         0.130382\n",
              "12    2021-04-06 05:52:05  ...        1.387395                         0.129572\n",
              "13    2021-04-06 05:52:09  ...        1.387395                         0.128588\n",
              "14    2021-04-06 05:52:14  ...        1.387395                         0.125926\n",
              "15    2021-04-06 05:52:18  ...        1.387395                         0.124306\n",
              "16    2021-04-06 05:52:22  ...        1.387395                         0.125058\n",
              "17    2021-04-06 05:52:27  ...        1.387395                         0.123322\n",
              "18    2021-04-06 05:52:31  ...        1.387395                         0.122801\n",
              "19    2021-04-06 05:52:36  ...        1.387395                         0.122569\n",
              "20    2021-04-06 05:52:41  ...        1.387395                         0.122512\n",
              "21    2021-04-06 05:52:45  ...        1.387395                         0.122512\n",
              "22    2021-04-06 05:52:49  ...        1.387395                         0.121470\n",
              "23    2021-04-06 05:52:54  ...        1.387395                         0.122222\n",
              "24    2021-04-06 05:52:59  ...        1.387395                         0.120428\n",
              "25    2021-04-06 05:53:01  ...        1.387395                         0.120023\n",
              "\n",
              "[26 rows x 16 columns]"
            ]
          },
          "metadata": {
            "tags": []
          },
          "execution_count": 63
        }
      ]
    },
    {
      "cell_type": "code",
      "metadata": {
        "id": "n1wL9utxO4Gu"
      },
      "source": [
        "xgb_all_feat = H2OXGBoostEstimator(ntrees = 100,learn_rate = 0.1, max_leaves = 6, tree_method=\"hist\",  grow_policy=\"lossguide\")"
      ],
      "execution_count": null,
      "outputs": []
    },
    {
      "cell_type": "code",
      "metadata": {
        "id": "SOVhdFLoO396",
        "colab": {
          "base_uri": "https://localhost:8080/"
        },
        "outputId": "53ca6322-896d-4e94-f17e-211a5719d8a7"
      },
      "source": [
        "xgb_all_feat.train(x=headline_vecs.names+review_vecs.names, y='target', training_frame = h2o_train, validation_frame=h2o_valid)"
      ],
      "execution_count": null,
      "outputs": [
        {
          "output_type": "stream",
          "text": [
            "xgboost Model Build progress: |███████████████████████████████████████████| 100%\n"
          ],
          "name": "stdout"
        }
      ]
    },
    {
      "cell_type": "code",
      "metadata": {
        "id": "1apd9M0dO33_",
        "colab": {
          "base_uri": "https://localhost:8080/"
        },
        "outputId": "896a7919-602c-4b6d-b8dd-fb998b813401"
      },
      "source": [
        "print(\" XGBoost AUC: \" + str(round(xgb_all_feat.auc(valid = True), 3)))"
      ],
      "execution_count": null,
      "outputs": [
        {
          "output_type": "stream",
          "text": [
            " XGBoost AUC: 0.922\n"
          ],
          "name": "stdout"
        }
      ]
    },
    {
      "cell_type": "code",
      "metadata": {
        "id": "T9Y14Ep6O3xd",
        "colab": {
          "base_uri": "https://localhost:8080/",
          "height": 176
        },
        "outputId": "42ad2e03-037a-4eb8-a3ce-bc7fc8bb1fc6"
      },
      "source": [
        "xgb_all_feat.confusion_matrix(valid=True)"
      ],
      "execution_count": null,
      "outputs": [
        {
          "output_type": "stream",
          "text": [
            "\n",
            "Confusion Matrix (Act/Pred) for max f1 @ threshold = 0.53751779479139: \n"
          ],
          "name": "stdout"
        },
        {
          "output_type": "display_data",
          "data": {
            "text/html": [
              "<div>\n",
              "<style scoped>\n",
              "    .dataframe tbody tr th:only-of-type {\n",
              "        vertical-align: middle;\n",
              "    }\n",
              "\n",
              "    .dataframe tbody tr th {\n",
              "        vertical-align: top;\n",
              "    }\n",
              "\n",
              "    .dataframe thead th {\n",
              "        text-align: right;\n",
              "    }\n",
              "</style>\n",
              "<table border=\"1\" class=\"dataframe\">\n",
              "  <thead>\n",
              "    <tr style=\"text-align: right;\">\n",
              "      <th></th>\n",
              "      <th></th>\n",
              "      <th>0</th>\n",
              "      <th>1</th>\n",
              "      <th>Error</th>\n",
              "      <th>Rate</th>\n",
              "    </tr>\n",
              "  </thead>\n",
              "  <tbody>\n",
              "    <tr>\n",
              "      <th>0</th>\n",
              "      <td>0</td>\n",
              "      <td>3131.0</td>\n",
              "      <td>1694.0</td>\n",
              "      <td>0.3511</td>\n",
              "      <td>(1694.0/4825.0)</td>\n",
              "    </tr>\n",
              "    <tr>\n",
              "      <th>1</th>\n",
              "      <td>1</td>\n",
              "      <td>641.0</td>\n",
              "      <td>11814.0</td>\n",
              "      <td>0.0515</td>\n",
              "      <td>(641.0/12455.0)</td>\n",
              "    </tr>\n",
              "    <tr>\n",
              "      <th>2</th>\n",
              "      <td>Total</td>\n",
              "      <td>3772.0</td>\n",
              "      <td>13508.0</td>\n",
              "      <td>0.1351</td>\n",
              "      <td>(2335.0/17280.0)</td>\n",
              "    </tr>\n",
              "  </tbody>\n",
              "</table>\n",
              "</div>"
            ],
            "text/plain": [
              "               0        1   Error               Rate\n",
              "0      0  3131.0   1694.0  0.3511    (1694.0/4825.0)\n",
              "1      1   641.0  11814.0  0.0515    (641.0/12455.0)\n",
              "2  Total  3772.0  13508.0  0.1351   (2335.0/17280.0)"
            ]
          },
          "metadata": {
            "tags": []
          }
        },
        {
          "output_type": "execute_result",
          "data": {
            "text/plain": [
              ""
            ]
          },
          "metadata": {
            "tags": []
          },
          "execution_count": 67
        }
      ]
    },
    {
      "cell_type": "code",
      "metadata": {
        "id": "dq3onQF-voa0"
      },
      "source": [
        ""
      ],
      "execution_count": null,
      "outputs": []
    },
    {
      "cell_type": "code",
      "metadata": {
        "id": "RxcQK6fuvn9R"
      },
      "source": [
        ""
      ],
      "execution_count": null,
      "outputs": []
    },
    {
      "cell_type": "code",
      "metadata": {
        "id": "6vyvwnMIf8Fq"
      },
      "source": [
        "h2o_train, h2o_valid, h2o_test = h2o_df_ext.split_frame(ratios=[.7,.15])"
      ],
      "execution_count": null,
      "outputs": []
    },
    {
      "cell_type": "code",
      "metadata": {
        "id": "U9xscI9hO3Zr"
      },
      "source": [
        "gbm_final = H2OGradientBoostingEstimator(ntrees=200,\n",
        "                                              max_depth = 6,  learn_rate=0.1\n",
        "                                             )"
      ],
      "execution_count": null,
      "outputs": []
    },
    {
      "cell_type": "code",
      "metadata": {
        "id": "RZxMIfBN1gVn",
        "colab": {
          "base_uri": "https://localhost:8080/"
        },
        "outputId": "27e04de8-66b4-49fd-a39b-6b2335f3e141"
      },
      "source": [
        "gbm_final.train(x=headline_vecs.names+review_vecs.names, y='target', training_frame = h2o_train, validation_frame=h2o_valid)"
      ],
      "execution_count": null,
      "outputs": [
        {
          "output_type": "stream",
          "text": [
            "gbm Model Build progress: |███████████████████████████████████████████████| 100%\n"
          ],
          "name": "stdout"
        }
      ]
    },
    {
      "cell_type": "code",
      "metadata": {
        "id": "WSUvupTRf8T5",
        "colab": {
          "base_uri": "https://localhost:8080/"
        },
        "outputId": "e73793ac-ff1c-42a6-c790-f9ac4bb6d0e6"
      },
      "source": [
        "print(\" GBM Final AUC: \" + str(round(gbm_final.auc(valid = True), 3)))"
      ],
      "execution_count": null,
      "outputs": [
        {
          "output_type": "stream",
          "text": [
            " GBM Final AUC: 0.938\n"
          ],
          "name": "stdout"
        }
      ]
    },
    {
      "cell_type": "code",
      "metadata": {
        "id": "quLViXAKf8Qo",
        "colab": {
          "base_uri": "https://localhost:8080/",
          "height": 176
        },
        "outputId": "5fac50c0-a8c3-466b-eab2-74ac226d41ec"
      },
      "source": [
        "gbm_final.confusion_matrix(valid=True)"
      ],
      "execution_count": null,
      "outputs": [
        {
          "output_type": "stream",
          "text": [
            "\n",
            "Confusion Matrix (Act/Pred) for max f1 @ threshold = 0.45214147818615835: \n"
          ],
          "name": "stdout"
        },
        {
          "output_type": "display_data",
          "data": {
            "text/html": [
              "<div>\n",
              "<style scoped>\n",
              "    .dataframe tbody tr th:only-of-type {\n",
              "        vertical-align: middle;\n",
              "    }\n",
              "\n",
              "    .dataframe tbody tr th {\n",
              "        vertical-align: top;\n",
              "    }\n",
              "\n",
              "    .dataframe thead th {\n",
              "        text-align: right;\n",
              "    }\n",
              "</style>\n",
              "<table border=\"1\" class=\"dataframe\">\n",
              "  <thead>\n",
              "    <tr style=\"text-align: right;\">\n",
              "      <th></th>\n",
              "      <th></th>\n",
              "      <th>0</th>\n",
              "      <th>1</th>\n",
              "      <th>Error</th>\n",
              "      <th>Rate</th>\n",
              "    </tr>\n",
              "  </thead>\n",
              "  <tbody>\n",
              "    <tr>\n",
              "      <th>0</th>\n",
              "      <td>0</td>\n",
              "      <td>2443.0</td>\n",
              "      <td>1128.0</td>\n",
              "      <td>0.3159</td>\n",
              "      <td>(1128.0/3571.0)</td>\n",
              "    </tr>\n",
              "    <tr>\n",
              "      <th>1</th>\n",
              "      <td>1</td>\n",
              "      <td>376.0</td>\n",
              "      <td>8925.0</td>\n",
              "      <td>0.0404</td>\n",
              "      <td>(376.0/9301.0)</td>\n",
              "    </tr>\n",
              "    <tr>\n",
              "      <th>2</th>\n",
              "      <td>Total</td>\n",
              "      <td>2819.0</td>\n",
              "      <td>10053.0</td>\n",
              "      <td>0.1168</td>\n",
              "      <td>(1504.0/12872.0)</td>\n",
              "    </tr>\n",
              "  </tbody>\n",
              "</table>\n",
              "</div>"
            ],
            "text/plain": [
              "               0        1   Error               Rate\n",
              "0      0  2443.0   1128.0  0.3159    (1128.0/3571.0)\n",
              "1      1   376.0   8925.0  0.0404     (376.0/9301.0)\n",
              "2  Total  2819.0  10053.0  0.1168   (1504.0/12872.0)"
            ]
          },
          "metadata": {
            "tags": []
          }
        },
        {
          "output_type": "execute_result",
          "data": {
            "text/plain": [
              ""
            ]
          },
          "metadata": {
            "tags": []
          },
          "execution_count": 72
        }
      ]
    },
    {
      "cell_type": "code",
      "metadata": {
        "id": "MaAT6gO5f8NG",
        "colab": {
          "base_uri": "https://localhost:8080/",
          "height": 1000
        },
        "outputId": "1462f67e-cb06-473f-c77d-152d6fa199b5"
      },
      "source": [
        "gbm_final.model_performance(h2o_test)"
      ],
      "execution_count": null,
      "outputs": [
        {
          "output_type": "stream",
          "text": [
            "\n",
            "ModelMetricsBinomial: gbm\n",
            "** Reported on test data. **\n",
            "\n",
            "MSE: 0.0827335968109709\n",
            "RMSE: 0.2876344847388277\n",
            "LogLoss: 0.2687850813172426\n",
            "Mean Per-Class Error: 0.13859595016803727\n",
            "AUC: 0.9402484563561234\n",
            "AUCPR: 0.9757586383837352\n",
            "Gini: 0.8804969127122468\n",
            "\n",
            "Confusion Matrix (Act/Pred) for max f1 @ threshold = 0.48368973068773946: \n"
          ],
          "name": "stdout"
        },
        {
          "output_type": "display_data",
          "data": {
            "text/html": [
              "<div>\n",
              "<style scoped>\n",
              "    .dataframe tbody tr th:only-of-type {\n",
              "        vertical-align: middle;\n",
              "    }\n",
              "\n",
              "    .dataframe tbody tr th {\n",
              "        vertical-align: top;\n",
              "    }\n",
              "\n",
              "    .dataframe thead th {\n",
              "        text-align: right;\n",
              "    }\n",
              "</style>\n",
              "<table border=\"1\" class=\"dataframe\">\n",
              "  <thead>\n",
              "    <tr style=\"text-align: right;\">\n",
              "      <th></th>\n",
              "      <th></th>\n",
              "      <th>0</th>\n",
              "      <th>1</th>\n",
              "      <th>Error</th>\n",
              "      <th>Rate</th>\n",
              "    </tr>\n",
              "  </thead>\n",
              "  <tbody>\n",
              "    <tr>\n",
              "      <th>0</th>\n",
              "      <td>0</td>\n",
              "      <td>2457.0</td>\n",
              "      <td>1038.0</td>\n",
              "      <td>0.297</td>\n",
              "      <td>(1038.0/3495.0)</td>\n",
              "    </tr>\n",
              "    <tr>\n",
              "      <th>1</th>\n",
              "      <td>1</td>\n",
              "      <td>458.0</td>\n",
              "      <td>9019.0</td>\n",
              "      <td>0.0483</td>\n",
              "      <td>(458.0/9477.0)</td>\n",
              "    </tr>\n",
              "    <tr>\n",
              "      <th>2</th>\n",
              "      <td>Total</td>\n",
              "      <td>2915.0</td>\n",
              "      <td>10057.0</td>\n",
              "      <td>0.1153</td>\n",
              "      <td>(1496.0/12972.0)</td>\n",
              "    </tr>\n",
              "  </tbody>\n",
              "</table>\n",
              "</div>"
            ],
            "text/plain": [
              "               0        1   Error               Rate\n",
              "0      0  2457.0   1038.0   0.297    (1038.0/3495.0)\n",
              "1      1   458.0   9019.0  0.0483     (458.0/9477.0)\n",
              "2  Total  2915.0  10057.0  0.1153   (1496.0/12972.0)"
            ]
          },
          "metadata": {
            "tags": []
          }
        },
        {
          "output_type": "stream",
          "text": [
            "\n",
            "Maximum Metrics: Maximum metrics at their respective thresholds\n"
          ],
          "name": "stdout"
        },
        {
          "output_type": "display_data",
          "data": {
            "text/html": [
              "<div>\n",
              "<style scoped>\n",
              "    .dataframe tbody tr th:only-of-type {\n",
              "        vertical-align: middle;\n",
              "    }\n",
              "\n",
              "    .dataframe tbody tr th {\n",
              "        vertical-align: top;\n",
              "    }\n",
              "\n",
              "    .dataframe thead th {\n",
              "        text-align: right;\n",
              "    }\n",
              "</style>\n",
              "<table border=\"1\" class=\"dataframe\">\n",
              "  <thead>\n",
              "    <tr style=\"text-align: right;\">\n",
              "      <th></th>\n",
              "      <th>metric</th>\n",
              "      <th>threshold</th>\n",
              "      <th>value</th>\n",
              "      <th>idx</th>\n",
              "    </tr>\n",
              "  </thead>\n",
              "  <tbody>\n",
              "    <tr>\n",
              "      <th>0</th>\n",
              "      <td>max f1</td>\n",
              "      <td>0.483690</td>\n",
              "      <td>0.923416</td>\n",
              "      <td>242.0</td>\n",
              "    </tr>\n",
              "    <tr>\n",
              "      <th>1</th>\n",
              "      <td>max f2</td>\n",
              "      <td>0.186140</td>\n",
              "      <td>0.955360</td>\n",
              "      <td>330.0</td>\n",
              "    </tr>\n",
              "    <tr>\n",
              "      <th>2</th>\n",
              "      <td>max f0point5</td>\n",
              "      <td>0.760522</td>\n",
              "      <td>0.926219</td>\n",
              "      <td>147.0</td>\n",
              "    </tr>\n",
              "    <tr>\n",
              "      <th>3</th>\n",
              "      <td>max accuracy</td>\n",
              "      <td>0.588160</td>\n",
              "      <td>0.885677</td>\n",
              "      <td>210.0</td>\n",
              "    </tr>\n",
              "    <tr>\n",
              "      <th>4</th>\n",
              "      <td>max precision</td>\n",
              "      <td>0.998372</td>\n",
              "      <td>1.000000</td>\n",
              "      <td>0.0</td>\n",
              "    </tr>\n",
              "    <tr>\n",
              "      <th>5</th>\n",
              "      <td>max recall</td>\n",
              "      <td>0.007648</td>\n",
              "      <td>1.000000</td>\n",
              "      <td>395.0</td>\n",
              "    </tr>\n",
              "    <tr>\n",
              "      <th>6</th>\n",
              "      <td>max specificity</td>\n",
              "      <td>0.998372</td>\n",
              "      <td>1.000000</td>\n",
              "      <td>0.0</td>\n",
              "    </tr>\n",
              "    <tr>\n",
              "      <th>7</th>\n",
              "      <td>max absolute_mcc</td>\n",
              "      <td>0.612913</td>\n",
              "      <td>0.707169</td>\n",
              "      <td>201.0</td>\n",
              "    </tr>\n",
              "    <tr>\n",
              "      <th>8</th>\n",
              "      <td>max min_per_class_accuracy</td>\n",
              "      <td>0.746204</td>\n",
              "      <td>0.860372</td>\n",
              "      <td>153.0</td>\n",
              "    </tr>\n",
              "    <tr>\n",
              "      <th>9</th>\n",
              "      <td>max mean_per_class_accuracy</td>\n",
              "      <td>0.740170</td>\n",
              "      <td>0.861404</td>\n",
              "      <td>155.0</td>\n",
              "    </tr>\n",
              "    <tr>\n",
              "      <th>10</th>\n",
              "      <td>max tns</td>\n",
              "      <td>0.998372</td>\n",
              "      <td>3495.000000</td>\n",
              "      <td>0.0</td>\n",
              "    </tr>\n",
              "    <tr>\n",
              "      <th>11</th>\n",
              "      <td>max fns</td>\n",
              "      <td>0.998372</td>\n",
              "      <td>9206.000000</td>\n",
              "      <td>0.0</td>\n",
              "    </tr>\n",
              "    <tr>\n",
              "      <th>12</th>\n",
              "      <td>max fps</td>\n",
              "      <td>0.001919</td>\n",
              "      <td>3495.000000</td>\n",
              "      <td>399.0</td>\n",
              "    </tr>\n",
              "    <tr>\n",
              "      <th>13</th>\n",
              "      <td>max tps</td>\n",
              "      <td>0.007648</td>\n",
              "      <td>9477.000000</td>\n",
              "      <td>395.0</td>\n",
              "    </tr>\n",
              "    <tr>\n",
              "      <th>14</th>\n",
              "      <td>max tnr</td>\n",
              "      <td>0.998372</td>\n",
              "      <td>1.000000</td>\n",
              "      <td>0.0</td>\n",
              "    </tr>\n",
              "    <tr>\n",
              "      <th>15</th>\n",
              "      <td>max fnr</td>\n",
              "      <td>0.998372</td>\n",
              "      <td>0.971404</td>\n",
              "      <td>0.0</td>\n",
              "    </tr>\n",
              "    <tr>\n",
              "      <th>16</th>\n",
              "      <td>max fpr</td>\n",
              "      <td>0.001919</td>\n",
              "      <td>1.000000</td>\n",
              "      <td>399.0</td>\n",
              "    </tr>\n",
              "    <tr>\n",
              "      <th>17</th>\n",
              "      <td>max tpr</td>\n",
              "      <td>0.007648</td>\n",
              "      <td>1.000000</td>\n",
              "      <td>395.0</td>\n",
              "    </tr>\n",
              "  </tbody>\n",
              "</table>\n",
              "</div>"
            ],
            "text/plain": [
              "                         metric  threshold        value    idx\n",
              "0                        max f1   0.483690     0.923416  242.0\n",
              "1                        max f2   0.186140     0.955360  330.0\n",
              "2                  max f0point5   0.760522     0.926219  147.0\n",
              "3                  max accuracy   0.588160     0.885677  210.0\n",
              "4                 max precision   0.998372     1.000000    0.0\n",
              "5                    max recall   0.007648     1.000000  395.0\n",
              "6               max specificity   0.998372     1.000000    0.0\n",
              "7              max absolute_mcc   0.612913     0.707169  201.0\n",
              "8    max min_per_class_accuracy   0.746204     0.860372  153.0\n",
              "9   max mean_per_class_accuracy   0.740170     0.861404  155.0\n",
              "10                      max tns   0.998372  3495.000000    0.0\n",
              "11                      max fns   0.998372  9206.000000    0.0\n",
              "12                      max fps   0.001919  3495.000000  399.0\n",
              "13                      max tps   0.007648  9477.000000  395.0\n",
              "14                      max tnr   0.998372     1.000000    0.0\n",
              "15                      max fnr   0.998372     0.971404    0.0\n",
              "16                      max fpr   0.001919     1.000000  399.0\n",
              "17                      max tpr   0.007648     1.000000  395.0"
            ]
          },
          "metadata": {
            "tags": []
          }
        },
        {
          "output_type": "stream",
          "text": [
            "\n",
            "Gains/Lift Table: Avg response rate: 73.06 %, avg score: 73.47 %\n"
          ],
          "name": "stdout"
        },
        {
          "output_type": "display_data",
          "data": {
            "text/html": [
              "<div>\n",
              "<style scoped>\n",
              "    .dataframe tbody tr th:only-of-type {\n",
              "        vertical-align: middle;\n",
              "    }\n",
              "\n",
              "    .dataframe tbody tr th {\n",
              "        vertical-align: top;\n",
              "    }\n",
              "\n",
              "    .dataframe thead th {\n",
              "        text-align: right;\n",
              "    }\n",
              "</style>\n",
              "<table border=\"1\" class=\"dataframe\">\n",
              "  <thead>\n",
              "    <tr style=\"text-align: right;\">\n",
              "      <th></th>\n",
              "      <th></th>\n",
              "      <th>group</th>\n",
              "      <th>cumulative_data_fraction</th>\n",
              "      <th>lower_threshold</th>\n",
              "      <th>lift</th>\n",
              "      <th>cumulative_lift</th>\n",
              "      <th>response_rate</th>\n",
              "      <th>score</th>\n",
              "      <th>cumulative_response_rate</th>\n",
              "      <th>cumulative_score</th>\n",
              "      <th>capture_rate</th>\n",
              "      <th>cumulative_capture_rate</th>\n",
              "      <th>gain</th>\n",
              "      <th>cumulative_gain</th>\n",
              "    </tr>\n",
              "  </thead>\n",
              "  <tbody>\n",
              "    <tr>\n",
              "      <th>0</th>\n",
              "      <td></td>\n",
              "      <td>1</td>\n",
              "      <td>0.010022</td>\n",
              "      <td>0.998452</td>\n",
              "      <td>1.368788</td>\n",
              "      <td>1.368788</td>\n",
              "      <td>1.000000</td>\n",
              "      <td>0.998603</td>\n",
              "      <td>1.000000</td>\n",
              "      <td>0.998603</td>\n",
              "      <td>0.013717</td>\n",
              "      <td>0.013717</td>\n",
              "      <td>36.878759</td>\n",
              "      <td>36.878759</td>\n",
              "    </tr>\n",
              "    <tr>\n",
              "      <th>1</th>\n",
              "      <td></td>\n",
              "      <td>2</td>\n",
              "      <td>0.020043</td>\n",
              "      <td>0.998107</td>\n",
              "      <td>1.368788</td>\n",
              "      <td>1.368788</td>\n",
              "      <td>1.000000</td>\n",
              "      <td>0.998264</td>\n",
              "      <td>1.000000</td>\n",
              "      <td>0.998433</td>\n",
              "      <td>0.013717</td>\n",
              "      <td>0.027435</td>\n",
              "      <td>36.878759</td>\n",
              "      <td>36.878759</td>\n",
              "    </tr>\n",
              "    <tr>\n",
              "      <th>2</th>\n",
              "      <td></td>\n",
              "      <td>3</td>\n",
              "      <td>0.030065</td>\n",
              "      <td>0.997822</td>\n",
              "      <td>1.368788</td>\n",
              "      <td>1.368788</td>\n",
              "      <td>1.000000</td>\n",
              "      <td>0.997976</td>\n",
              "      <td>1.000000</td>\n",
              "      <td>0.998281</td>\n",
              "      <td>0.013717</td>\n",
              "      <td>0.041152</td>\n",
              "      <td>36.878759</td>\n",
              "      <td>36.878759</td>\n",
              "    </tr>\n",
              "    <tr>\n",
              "      <th>3</th>\n",
              "      <td></td>\n",
              "      <td>4</td>\n",
              "      <td>0.040009</td>\n",
              "      <td>0.997405</td>\n",
              "      <td>1.368788</td>\n",
              "      <td>1.368788</td>\n",
              "      <td>1.000000</td>\n",
              "      <td>0.997610</td>\n",
              "      <td>1.000000</td>\n",
              "      <td>0.998114</td>\n",
              "      <td>0.013612</td>\n",
              "      <td>0.054764</td>\n",
              "      <td>36.878759</td>\n",
              "      <td>36.878759</td>\n",
              "    </tr>\n",
              "    <tr>\n",
              "      <th>4</th>\n",
              "      <td></td>\n",
              "      <td>5</td>\n",
              "      <td>0.050031</td>\n",
              "      <td>0.996990</td>\n",
              "      <td>1.368788</td>\n",
              "      <td>1.368788</td>\n",
              "      <td>1.000000</td>\n",
              "      <td>0.997207</td>\n",
              "      <td>1.000000</td>\n",
              "      <td>0.997933</td>\n",
              "      <td>0.013717</td>\n",
              "      <td>0.068482</td>\n",
              "      <td>36.878759</td>\n",
              "      <td>36.878759</td>\n",
              "    </tr>\n",
              "    <tr>\n",
              "      <th>5</th>\n",
              "      <td></td>\n",
              "      <td>6</td>\n",
              "      <td>0.100062</td>\n",
              "      <td>0.994573</td>\n",
              "      <td>1.366679</td>\n",
              "      <td>1.367733</td>\n",
              "      <td>0.998459</td>\n",
              "      <td>0.995894</td>\n",
              "      <td>0.999230</td>\n",
              "      <td>0.996913</td>\n",
              "      <td>0.068376</td>\n",
              "      <td>0.136858</td>\n",
              "      <td>36.667852</td>\n",
              "      <td>36.773306</td>\n",
              "    </tr>\n",
              "    <tr>\n",
              "      <th>6</th>\n",
              "      <td></td>\n",
              "      <td>7</td>\n",
              "      <td>0.150015</td>\n",
              "      <td>0.991100</td>\n",
              "      <td>1.364563</td>\n",
              "      <td>1.366677</td>\n",
              "      <td>0.996914</td>\n",
              "      <td>0.992854</td>\n",
              "      <td>0.998458</td>\n",
              "      <td>0.995562</td>\n",
              "      <td>0.068165</td>\n",
              "      <td>0.205023</td>\n",
              "      <td>36.456294</td>\n",
              "      <td>36.667744</td>\n",
              "    </tr>\n",
              "    <tr>\n",
              "      <th>7</th>\n",
              "      <td></td>\n",
              "      <td>8</td>\n",
              "      <td>0.200046</td>\n",
              "      <td>0.986515</td>\n",
              "      <td>1.362460</td>\n",
              "      <td>1.365623</td>\n",
              "      <td>0.995378</td>\n",
              "      <td>0.988954</td>\n",
              "      <td>0.997688</td>\n",
              "      <td>0.993909</td>\n",
              "      <td>0.068165</td>\n",
              "      <td>0.273188</td>\n",
              "      <td>36.246038</td>\n",
              "      <td>36.562276</td>\n",
              "    </tr>\n",
              "    <tr>\n",
              "      <th>8</th>\n",
              "      <td></td>\n",
              "      <td>9</td>\n",
              "      <td>0.300031</td>\n",
              "      <td>0.974095</td>\n",
              "      <td>1.350847</td>\n",
              "      <td>1.360699</td>\n",
              "      <td>0.986893</td>\n",
              "      <td>0.980755</td>\n",
              "      <td>0.994090</td>\n",
              "      <td>0.989525</td>\n",
              "      <td>0.135064</td>\n",
              "      <td>0.408252</td>\n",
              "      <td>35.084666</td>\n",
              "      <td>36.069866</td>\n",
              "    </tr>\n",
              "    <tr>\n",
              "      <th>9</th>\n",
              "      <td></td>\n",
              "      <td>10</td>\n",
              "      <td>0.400015</td>\n",
              "      <td>0.951623</td>\n",
              "      <td>1.331850</td>\n",
              "      <td>1.353488</td>\n",
              "      <td>0.973015</td>\n",
              "      <td>0.964237</td>\n",
              "      <td>0.988823</td>\n",
              "      <td>0.983205</td>\n",
              "      <td>0.133165</td>\n",
              "      <td>0.541416</td>\n",
              "      <td>33.185038</td>\n",
              "      <td>35.348798</td>\n",
              "    </tr>\n",
              "    <tr>\n",
              "      <th>10</th>\n",
              "      <td></td>\n",
              "      <td>11</td>\n",
              "      <td>0.500000</td>\n",
              "      <td>0.912339</td>\n",
              "      <td>1.290692</td>\n",
              "      <td>1.340931</td>\n",
              "      <td>0.942945</td>\n",
              "      <td>0.933710</td>\n",
              "      <td>0.979648</td>\n",
              "      <td>0.973307</td>\n",
              "      <td>0.129049</td>\n",
              "      <td>0.670465</td>\n",
              "      <td>29.069177</td>\n",
              "      <td>34.093067</td>\n",
              "    </tr>\n",
              "    <tr>\n",
              "      <th>11</th>\n",
              "      <td></td>\n",
              "      <td>12</td>\n",
              "      <td>0.599985</td>\n",
              "      <td>0.837598</td>\n",
              "      <td>1.200987</td>\n",
              "      <td>1.317610</td>\n",
              "      <td>0.877409</td>\n",
              "      <td>0.878684</td>\n",
              "      <td>0.962611</td>\n",
              "      <td>0.957539</td>\n",
              "      <td>0.120080</td>\n",
              "      <td>0.790546</td>\n",
              "      <td>20.098711</td>\n",
              "      <td>31.760974</td>\n",
              "    </tr>\n",
              "    <tr>\n",
              "      <th>12</th>\n",
              "      <td></td>\n",
              "      <td>13</td>\n",
              "      <td>0.699969</td>\n",
              "      <td>0.687909</td>\n",
              "      <td>1.017356</td>\n",
              "      <td>1.274721</td>\n",
              "      <td>0.743254</td>\n",
              "      <td>0.769496</td>\n",
              "      <td>0.931278</td>\n",
              "      <td>0.930678</td>\n",
              "      <td>0.101720</td>\n",
              "      <td>0.892265</td>\n",
              "      <td>1.735639</td>\n",
              "      <td>27.472113</td>\n",
              "    </tr>\n",
              "    <tr>\n",
              "      <th>13</th>\n",
              "      <td></td>\n",
              "      <td>14</td>\n",
              "      <td>0.799954</td>\n",
              "      <td>0.400875</td>\n",
              "      <td>0.721859</td>\n",
              "      <td>1.205620</td>\n",
              "      <td>0.527371</td>\n",
              "      <td>0.554551</td>\n",
              "      <td>0.880794</td>\n",
              "      <td>0.883667</td>\n",
              "      <td>0.072175</td>\n",
              "      <td>0.964440</td>\n",
              "      <td>-27.814132</td>\n",
              "      <td>20.561998</td>\n",
              "    </tr>\n",
              "    <tr>\n",
              "      <th>14</th>\n",
              "      <td></td>\n",
              "      <td>15</td>\n",
              "      <td>0.899938</td>\n",
              "      <td>0.103159</td>\n",
              "      <td>0.316605</td>\n",
              "      <td>1.106849</td>\n",
              "      <td>0.231303</td>\n",
              "      <td>0.243309</td>\n",
              "      <td>0.808635</td>\n",
              "      <td>0.812522</td>\n",
              "      <td>0.031656</td>\n",
              "      <td>0.996096</td>\n",
              "      <td>-68.339531</td>\n",
              "      <td>10.684897</td>\n",
              "    </tr>\n",
              "    <tr>\n",
              "      <th>15</th>\n",
              "      <td></td>\n",
              "      <td>16</td>\n",
              "      <td>1.000000</td>\n",
              "      <td>0.000477</td>\n",
              "      <td>0.039018</td>\n",
              "      <td>1.000000</td>\n",
              "      <td>0.028505</td>\n",
              "      <td>0.034850</td>\n",
              "      <td>0.730574</td>\n",
              "      <td>0.734707</td>\n",
              "      <td>0.003904</td>\n",
              "      <td>1.000000</td>\n",
              "      <td>-96.098217</td>\n",
              "      <td>0.000000</td>\n",
              "    </tr>\n",
              "  </tbody>\n",
              "</table>\n",
              "</div>"
            ],
            "text/plain": [
              "      group  ...       gain  cumulative_gain\n",
              "0         1  ...  36.878759        36.878759\n",
              "1         2  ...  36.878759        36.878759\n",
              "2         3  ...  36.878759        36.878759\n",
              "3         4  ...  36.878759        36.878759\n",
              "4         5  ...  36.878759        36.878759\n",
              "5         6  ...  36.667852        36.773306\n",
              "6         7  ...  36.456294        36.667744\n",
              "7         8  ...  36.246038        36.562276\n",
              "8         9  ...  35.084666        36.069866\n",
              "9        10  ...  33.185038        35.348798\n",
              "10       11  ...  29.069177        34.093067\n",
              "11       12  ...  20.098711        31.760974\n",
              "12       13  ...   1.735639        27.472113\n",
              "13       14  ... -27.814132        20.561998\n",
              "14       15  ... -68.339531        10.684897\n",
              "15       16  ... -96.098217         0.000000\n",
              "\n",
              "[16 rows x 14 columns]"
            ]
          },
          "metadata": {
            "tags": []
          }
        },
        {
          "output_type": "stream",
          "text": [
            "\n"
          ],
          "name": "stdout"
        },
        {
          "output_type": "execute_result",
          "data": {
            "text/plain": [
              ""
            ]
          },
          "metadata": {
            "tags": []
          },
          "execution_count": 73
        }
      ]
    },
    {
      "cell_type": "code",
      "metadata": {
        "id": "v0hgU0dtf8Ci",
        "colab": {
          "base_uri": "https://localhost:8080/",
          "height": 612
        },
        "outputId": "361d1b54-fd8f-4ff6-a9a1-440734616c24"
      },
      "source": [
        "gbm_final.varimp_plot()"
      ],
      "execution_count": null,
      "outputs": [
        {
          "output_type": "display_data",
          "data": {
            "image/png": "[encoded data removed]",
            "text/plain": [
              "<Figure size 1008x720 with 1 Axes>"
            ]
          },
          "metadata": {
            "tags": [],
            "needs_background": "light"
          }
        }
      ]
    },
    {
      "cell_type": "code",
      "metadata": {
        "id": "kxfVvO0Ovzbo"
      },
      "source": [
        ""
      ],
      "execution_count": null,
      "outputs": []
    },
    {
      "cell_type": "code",
      "metadata": {
        "id": "mkHzz2w2vyPr"
      },
      "source": [
        ""
      ],
      "execution_count": null,
      "outputs": []
    },
    {
      "cell_type": "code",
      "metadata": {
        "id": "02Y91gNI9cA1"
      },
      "source": [
        "ntrees_opt = [100, 200, 250, 300]\n",
        "max_depth_opt = [6, 7, 8]\n",
        "learn_rate_opt = [0.01, 0.1]"
      ],
      "execution_count": null,
      "outputs": []
    },
    {
      "cell_type": "code",
      "metadata": {
        "id": "Gle5Obvc9bzv"
      },
      "source": [
        "hyper_parameters = {\"ntrees\": ntrees_opt,\"max_depth\":max_depth_opt, \"learn_rate\":learn_rate_opt}\n",
        "search_criteria = {\"strategy\":\"RandomDiscrete\",\"max_models\":4}\n"
      ],
      "execution_count": null,
      "outputs": []
    },
    {
      "cell_type": "code",
      "metadata": {
        "id": "JYmuKWrGAlAp"
      },
      "source": [
        "from h2o.grid.grid_search import H2OGridSearch\n",
        "gs = H2OGridSearch(H2OGradientBoostingEstimator,hyper_params=hyper_parameters, search_criteria=search_criteria)"
      ],
      "execution_count": null,
      "outputs": []
    },
    {
      "cell_type": "code",
      "metadata": {
        "id": "pfRxVwdUAk64",
        "colab": {
          "base_uri": "https://localhost:8080/"
        },
        "outputId": "2f2e1f2c-ee2f-4b54-9969-8355b6c34a1f"
      },
      "source": [
        "gs.train(x=headline_vecs.names+review_vecs.names, y='target', training_frame = h2o_train, validation_frame=h2o_valid)"
      ],
      "execution_count": null,
      "outputs": [
        {
          "output_type": "stream",
          "text": [
            "gbm Grid Build progress: |████████████████████████████████████████████████| 100%\n"
          ],
          "name": "stdout"
        }
      ]
    },
    {
      "cell_type": "code",
      "metadata": {
        "id": "lfXDMWJOAkt8",
        "colab": {
          "base_uri": "https://localhost:8080/"
        },
        "outputId": "a0cdfc37-770c-448a-ec1f-f2afb77d8826"
      },
      "source": [
        "print(gs.get_grid(sort_by='auc', decreasing=True))"
      ],
      "execution_count": null,
      "outputs": [
        {
          "output_type": "stream",
          "text": [
            "     ...                 auc\n",
            "0    ...  0.9367139560456534\n",
            "1    ...  0.9266035416347586\n",
            "2    ...  0.9264176554428118\n",
            "3    ...  0.9239652914892094\n",
            "\n",
            "[4 rows x 6 columns]\n",
            "\n"
          ],
          "name": "stdout"
        }
      ]
    },
    {
      "cell_type": "code",
      "metadata": {
        "id": "xQ7E4zptDHLn",
        "colab": {
          "base_uri": "https://localhost:8080/",
          "height": 1000
        },
        "outputId": "85bfe68a-4f75-4130-c1c5-8bfc47c5810e"
      },
      "source": [
        "gs.models[0]"
      ],
      "execution_count": null,
      "outputs": [
        {
          "output_type": "stream",
          "text": [
            "Model Details\n",
            "=============\n",
            "H2OGradientBoostingEstimator :  Gradient Boosting Machine\n",
            "Model Key:  Grid_GBM_py_390_sid_a27b_model_python_1617687621379_209_model_1\n",
            "\n",
            "\n",
            "Model Summary: \n"
          ],
          "name": "stdout"
        },
        {
          "output_type": "display_data",
          "data": {
            "text/html": [
              "<div>\n",
              "<style scoped>\n",
              "    .dataframe tbody tr th:only-of-type {\n",
              "        vertical-align: middle;\n",
              "    }\n",
              "\n",
              "    .dataframe tbody tr th {\n",
              "        vertical-align: top;\n",
              "    }\n",
              "\n",
              "    .dataframe thead th {\n",
              "        text-align: right;\n",
              "    }\n",
              "</style>\n",
              "<table border=\"1\" class=\"dataframe\">\n",
              "  <thead>\n",
              "    <tr style=\"text-align: right;\">\n",
              "      <th></th>\n",
              "      <th></th>\n",
              "      <th>number_of_trees</th>\n",
              "      <th>number_of_internal_trees</th>\n",
              "      <th>model_size_in_bytes</th>\n",
              "      <th>min_depth</th>\n",
              "      <th>max_depth</th>\n",
              "      <th>mean_depth</th>\n",
              "      <th>min_leaves</th>\n",
              "      <th>max_leaves</th>\n",
              "      <th>mean_leaves</th>\n",
              "    </tr>\n",
              "  </thead>\n",
              "  <tbody>\n",
              "    <tr>\n",
              "      <th>0</th>\n",
              "      <td></td>\n",
              "      <td>100.0</td>\n",
              "      <td>100.0</td>\n",
              "      <td>259803.0</td>\n",
              "      <td>8.0</td>\n",
              "      <td>8.0</td>\n",
              "      <td>8.0</td>\n",
              "      <td>137.0</td>\n",
              "      <td>242.0</td>\n",
              "      <td>202.52</td>\n",
              "    </tr>\n",
              "  </tbody>\n",
              "</table>\n",
              "</div>"
            ],
            "text/plain": [
              "     number_of_trees  ...  max_leaves  mean_leaves\n",
              "0              100.0  ...       242.0       202.52\n",
              "\n",
              "[1 rows x 10 columns]"
            ]
          },
          "metadata": {
            "tags": []
          }
        },
        {
          "output_type": "stream",
          "text": [
            "\n",
            "\n",
            "ModelMetricsBinomial: gbm\n",
            "** Reported on train data. **\n",
            "\n",
            "MSE: 0.029773259173544984\n",
            "RMSE: 0.1725492949088607\n",
            "LogLoss: 0.12676772263477837\n",
            "Mean Per-Class Error: 0.030916623679823063\n",
            "AUC: 0.9953619634926928\n",
            "AUCPR: 0.998171050928972\n",
            "Gini: 0.9907239269853856\n",
            "\n",
            "Confusion Matrix (Act/Pred) for max f1 @ threshold = 0.5603816551590719: \n"
          ],
          "name": "stdout"
        },
        {
          "output_type": "display_data",
          "data": {
            "text/html": [
              "<div>\n",
              "<style scoped>\n",
              "    .dataframe tbody tr th:only-of-type {\n",
              "        vertical-align: middle;\n",
              "    }\n",
              "\n",
              "    .dataframe tbody tr th {\n",
              "        vertical-align: top;\n",
              "    }\n",
              "\n",
              "    .dataframe thead th {\n",
              "        text-align: right;\n",
              "    }\n",
              "</style>\n",
              "<table border=\"1\" class=\"dataframe\">\n",
              "  <thead>\n",
              "    <tr style=\"text-align: right;\">\n",
              "      <th></th>\n",
              "      <th></th>\n",
              "      <th>0</th>\n",
              "      <th>1</th>\n",
              "      <th>Error</th>\n",
              "      <th>Rate</th>\n",
              "    </tr>\n",
              "  </thead>\n",
              "  <tbody>\n",
              "    <tr>\n",
              "      <th>0</th>\n",
              "      <td>0</td>\n",
              "      <td>15350.0</td>\n",
              "      <td>1011.0</td>\n",
              "      <td>0.0618</td>\n",
              "      <td>(1011.0/16361.0)</td>\n",
              "    </tr>\n",
              "    <tr>\n",
              "      <th>1</th>\n",
              "      <td>1</td>\n",
              "      <td>561.0</td>\n",
              "      <td>43215.0</td>\n",
              "      <td>0.0128</td>\n",
              "      <td>(561.0/43776.0)</td>\n",
              "    </tr>\n",
              "    <tr>\n",
              "      <th>2</th>\n",
              "      <td>Total</td>\n",
              "      <td>15911.0</td>\n",
              "      <td>44226.0</td>\n",
              "      <td>0.0261</td>\n",
              "      <td>(1572.0/60137.0)</td>\n",
              "    </tr>\n",
              "  </tbody>\n",
              "</table>\n",
              "</div>"
            ],
            "text/plain": [
              "                0        1   Error               Rate\n",
              "0      0  15350.0   1011.0  0.0618   (1011.0/16361.0)\n",
              "1      1    561.0  43215.0  0.0128    (561.0/43776.0)\n",
              "2  Total  15911.0  44226.0  0.0261   (1572.0/60137.0)"
            ]
          },
          "metadata": {
            "tags": []
          }
        },
        {
          "output_type": "stream",
          "text": [
            "\n",
            "Maximum Metrics: Maximum metrics at their respective thresholds\n"
          ],
          "name": "stdout"
        },
        {
          "output_type": "display_data",
          "data": {
            "text/html": [
              "<div>\n",
              "<style scoped>\n",
              "    .dataframe tbody tr th:only-of-type {\n",
              "        vertical-align: middle;\n",
              "    }\n",
              "\n",
              "    .dataframe tbody tr th {\n",
              "        vertical-align: top;\n",
              "    }\n",
              "\n",
              "    .dataframe thead th {\n",
              "        text-align: right;\n",
              "    }\n",
              "</style>\n",
              "<table border=\"1\" class=\"dataframe\">\n",
              "  <thead>\n",
              "    <tr style=\"text-align: right;\">\n",
              "      <th></th>\n",
              "      <th>metric</th>\n",
              "      <th>threshold</th>\n",
              "      <th>value</th>\n",
              "      <th>idx</th>\n",
              "    </tr>\n",
              "  </thead>\n",
              "  <tbody>\n",
              "    <tr>\n",
              "      <th>0</th>\n",
              "      <td>max f1</td>\n",
              "      <td>0.560382</td>\n",
              "      <td>0.982137</td>\n",
              "      <td>205.0</td>\n",
              "    </tr>\n",
              "    <tr>\n",
              "      <th>1</th>\n",
              "      <td>max f2</td>\n",
              "      <td>0.456621</td>\n",
              "      <td>0.987355</td>\n",
              "      <td>233.0</td>\n",
              "    </tr>\n",
              "    <tr>\n",
              "      <th>2</th>\n",
              "      <td>max f0point5</td>\n",
              "      <td>0.696552</td>\n",
              "      <td>0.984333</td>\n",
              "      <td>170.0</td>\n",
              "    </tr>\n",
              "    <tr>\n",
              "      <th>3</th>\n",
              "      <td>max accuracy</td>\n",
              "      <td>0.573298</td>\n",
              "      <td>0.973860</td>\n",
              "      <td>202.0</td>\n",
              "    </tr>\n",
              "    <tr>\n",
              "      <th>4</th>\n",
              "      <td>max precision</td>\n",
              "      <td>0.997011</td>\n",
              "      <td>1.000000</td>\n",
              "      <td>0.0</td>\n",
              "    </tr>\n",
              "    <tr>\n",
              "      <th>5</th>\n",
              "      <td>max recall</td>\n",
              "      <td>0.034833</td>\n",
              "      <td>1.000000</td>\n",
              "      <td>379.0</td>\n",
              "    </tr>\n",
              "    <tr>\n",
              "      <th>6</th>\n",
              "      <td>max specificity</td>\n",
              "      <td>0.997011</td>\n",
              "      <td>1.000000</td>\n",
              "      <td>0.0</td>\n",
              "    </tr>\n",
              "    <tr>\n",
              "      <th>7</th>\n",
              "      <td>max absolute_mcc</td>\n",
              "      <td>0.573298</td>\n",
              "      <td>0.933678</td>\n",
              "      <td>202.0</td>\n",
              "    </tr>\n",
              "    <tr>\n",
              "      <th>8</th>\n",
              "      <td>max min_per_class_accuracy</td>\n",
              "      <td>0.679496</td>\n",
              "      <td>0.968750</td>\n",
              "      <td>174.0</td>\n",
              "    </tr>\n",
              "    <tr>\n",
              "      <th>9</th>\n",
              "      <td>max mean_per_class_accuracy</td>\n",
              "      <td>0.659726</td>\n",
              "      <td>0.969083</td>\n",
              "      <td>180.0</td>\n",
              "    </tr>\n",
              "    <tr>\n",
              "      <th>10</th>\n",
              "      <td>max tns</td>\n",
              "      <td>0.997011</td>\n",
              "      <td>16361.000000</td>\n",
              "      <td>0.0</td>\n",
              "    </tr>\n",
              "    <tr>\n",
              "      <th>11</th>\n",
              "      <td>max fns</td>\n",
              "      <td>0.997011</td>\n",
              "      <td>42734.000000</td>\n",
              "      <td>0.0</td>\n",
              "    </tr>\n",
              "    <tr>\n",
              "      <th>12</th>\n",
              "      <td>max fps</td>\n",
              "      <td>0.004532</td>\n",
              "      <td>16361.000000</td>\n",
              "      <td>399.0</td>\n",
              "    </tr>\n",
              "    <tr>\n",
              "      <th>13</th>\n",
              "      <td>max tps</td>\n",
              "      <td>0.034833</td>\n",
              "      <td>43776.000000</td>\n",
              "      <td>379.0</td>\n",
              "    </tr>\n",
              "    <tr>\n",
              "      <th>14</th>\n",
              "      <td>max tnr</td>\n",
              "      <td>0.997011</td>\n",
              "      <td>1.000000</td>\n",
              "      <td>0.0</td>\n",
              "    </tr>\n",
              "    <tr>\n",
              "      <th>15</th>\n",
              "      <td>max fnr</td>\n",
              "      <td>0.997011</td>\n",
              "      <td>0.976197</td>\n",
              "      <td>0.0</td>\n",
              "    </tr>\n",
              "    <tr>\n",
              "      <th>16</th>\n",
              "      <td>max fpr</td>\n",
              "      <td>0.004532</td>\n",
              "      <td>1.000000</td>\n",
              "      <td>399.0</td>\n",
              "    </tr>\n",
              "    <tr>\n",
              "      <th>17</th>\n",
              "      <td>max tpr</td>\n",
              "      <td>0.034833</td>\n",
              "      <td>1.000000</td>\n",
              "      <td>379.0</td>\n",
              "    </tr>\n",
              "  </tbody>\n",
              "</table>\n",
              "</div>"
            ],
            "text/plain": [
              "                         metric  threshold         value    idx\n",
              "0                        max f1   0.560382      0.982137  205.0\n",
              "1                        max f2   0.456621      0.987355  233.0\n",
              "2                  max f0point5   0.696552      0.984333  170.0\n",
              "3                  max accuracy   0.573298      0.973860  202.0\n",
              "4                 max precision   0.997011      1.000000    0.0\n",
              "5                    max recall   0.034833      1.000000  379.0\n",
              "6               max specificity   0.997011      1.000000    0.0\n",
              "7              max absolute_mcc   0.573298      0.933678  202.0\n",
              "8    max min_per_class_accuracy   0.679496      0.968750  174.0\n",
              "9   max mean_per_class_accuracy   0.659726      0.969083  180.0\n",
              "10                      max tns   0.997011  16361.000000    0.0\n",
              "11                      max fns   0.997011  42734.000000    0.0\n",
              "12                      max fps   0.004532  16361.000000  399.0\n",
              "13                      max tps   0.034833  43776.000000  379.0\n",
              "14                      max tnr   0.997011      1.000000    0.0\n",
              "15                      max fnr   0.997011      0.976197    0.0\n",
              "16                      max fpr   0.004532      1.000000  399.0\n",
              "17                      max tpr   0.034833      1.000000  379.0"
            ]
          },
          "metadata": {
            "tags": []
          }
        },
        {
          "output_type": "stream",
          "text": [
            "\n",
            "Gains/Lift Table: Avg response rate: 72.79 %, avg score: 72.79 %\n"
          ],
          "name": "stdout"
        },
        {
          "output_type": "display_data",
          "data": {
            "text/html": [
              "<div>\n",
              "<style scoped>\n",
              "    .dataframe tbody tr th:only-of-type {\n",
              "        vertical-align: middle;\n",
              "    }\n",
              "\n",
              "    .dataframe tbody tr th {\n",
              "        vertical-align: top;\n",
              "    }\n",
              "\n",
              "    .dataframe thead th {\n",
              "        text-align: right;\n",
              "    }\n",
              "</style>\n",
              "<table border=\"1\" class=\"dataframe\">\n",
              "  <thead>\n",
              "    <tr style=\"text-align: right;\">\n",
              "      <th></th>\n",
              "      <th></th>\n",
              "      <th>group</th>\n",
              "      <th>cumulative_data_fraction</th>\n",
              "      <th>lower_threshold</th>\n",
              "      <th>lift</th>\n",
              "      <th>cumulative_lift</th>\n",
              "      <th>response_rate</th>\n",
              "      <th>score</th>\n",
              "      <th>cumulative_response_rate</th>\n",
              "      <th>cumulative_score</th>\n",
              "      <th>capture_rate</th>\n",
              "      <th>cumulative_capture_rate</th>\n",
              "      <th>gain</th>\n",
              "      <th>cumulative_gain</th>\n",
              "    </tr>\n",
              "  </thead>\n",
              "  <tbody>\n",
              "    <tr>\n",
              "      <th>0</th>\n",
              "      <td></td>\n",
              "      <td>1</td>\n",
              "      <td>0.010260</td>\n",
              "      <td>0.996908</td>\n",
              "      <td>1.373744</td>\n",
              "      <td>1.373744</td>\n",
              "      <td>1.000000</td>\n",
              "      <td>0.997239</td>\n",
              "      <td>1.000000</td>\n",
              "      <td>0.997239</td>\n",
              "      <td>0.014094</td>\n",
              "      <td>0.014094</td>\n",
              "      <td>37.374360</td>\n",
              "      <td>37.374360</td>\n",
              "    </tr>\n",
              "    <tr>\n",
              "      <th>1</th>\n",
              "      <td></td>\n",
              "      <td>2</td>\n",
              "      <td>0.020004</td>\n",
              "      <td>0.996561</td>\n",
              "      <td>1.373744</td>\n",
              "      <td>1.373744</td>\n",
              "      <td>1.000000</td>\n",
              "      <td>0.996767</td>\n",
              "      <td>1.000000</td>\n",
              "      <td>0.997009</td>\n",
              "      <td>0.013386</td>\n",
              "      <td>0.027481</td>\n",
              "      <td>37.374360</td>\n",
              "      <td>37.374360</td>\n",
              "    </tr>\n",
              "    <tr>\n",
              "      <th>2</th>\n",
              "      <td></td>\n",
              "      <td>3</td>\n",
              "      <td>0.030015</td>\n",
              "      <td>0.996093</td>\n",
              "      <td>1.373744</td>\n",
              "      <td>1.373744</td>\n",
              "      <td>1.000000</td>\n",
              "      <td>0.996330</td>\n",
              "      <td>1.000000</td>\n",
              "      <td>0.996783</td>\n",
              "      <td>0.013752</td>\n",
              "      <td>0.041233</td>\n",
              "      <td>37.374360</td>\n",
              "      <td>37.374360</td>\n",
              "    </tr>\n",
              "    <tr>\n",
              "      <th>3</th>\n",
              "      <td></td>\n",
              "      <td>4</td>\n",
              "      <td>0.040025</td>\n",
              "      <td>0.995593</td>\n",
              "      <td>1.373744</td>\n",
              "      <td>1.373744</td>\n",
              "      <td>1.000000</td>\n",
              "      <td>0.995828</td>\n",
              "      <td>1.000000</td>\n",
              "      <td>0.996544</td>\n",
              "      <td>0.013752</td>\n",
              "      <td>0.054984</td>\n",
              "      <td>37.374360</td>\n",
              "      <td>37.374360</td>\n",
              "    </tr>\n",
              "    <tr>\n",
              "      <th>4</th>\n",
              "      <td></td>\n",
              "      <td>5</td>\n",
              "      <td>0.050002</td>\n",
              "      <td>0.995115</td>\n",
              "      <td>1.373744</td>\n",
              "      <td>1.373744</td>\n",
              "      <td>1.000000</td>\n",
              "      <td>0.995354</td>\n",
              "      <td>1.000000</td>\n",
              "      <td>0.996306</td>\n",
              "      <td>0.013706</td>\n",
              "      <td>0.068691</td>\n",
              "      <td>37.374360</td>\n",
              "      <td>37.374360</td>\n",
              "    </tr>\n",
              "    <tr>\n",
              "      <th>5</th>\n",
              "      <td></td>\n",
              "      <td>6</td>\n",
              "      <td>0.100005</td>\n",
              "      <td>0.992521</td>\n",
              "      <td>1.373744</td>\n",
              "      <td>1.373744</td>\n",
              "      <td>1.000000</td>\n",
              "      <td>0.993859</td>\n",
              "      <td>1.000000</td>\n",
              "      <td>0.995083</td>\n",
              "      <td>0.068691</td>\n",
              "      <td>0.137381</td>\n",
              "      <td>37.374360</td>\n",
              "      <td>37.374360</td>\n",
              "    </tr>\n",
              "    <tr>\n",
              "      <th>6</th>\n",
              "      <td></td>\n",
              "      <td>7</td>\n",
              "      <td>0.150007</td>\n",
              "      <td>0.989399</td>\n",
              "      <td>1.373744</td>\n",
              "      <td>1.373744</td>\n",
              "      <td>1.000000</td>\n",
              "      <td>0.990993</td>\n",
              "      <td>1.000000</td>\n",
              "      <td>0.993719</td>\n",
              "      <td>0.068691</td>\n",
              "      <td>0.206072</td>\n",
              "      <td>37.374360</td>\n",
              "      <td>37.374360</td>\n",
              "    </tr>\n",
              "    <tr>\n",
              "      <th>7</th>\n",
              "      <td></td>\n",
              "      <td>8</td>\n",
              "      <td>0.200010</td>\n",
              "      <td>0.985586</td>\n",
              "      <td>1.373744</td>\n",
              "      <td>1.373744</td>\n",
              "      <td>1.000000</td>\n",
              "      <td>0.987585</td>\n",
              "      <td>1.000000</td>\n",
              "      <td>0.992186</td>\n",
              "      <td>0.068691</td>\n",
              "      <td>0.274762</td>\n",
              "      <td>37.374360</td>\n",
              "      <td>37.374360</td>\n",
              "    </tr>\n",
              "    <tr>\n",
              "      <th>8</th>\n",
              "      <td></td>\n",
              "      <td>9</td>\n",
              "      <td>0.299998</td>\n",
              "      <td>0.974807</td>\n",
              "      <td>1.373287</td>\n",
              "      <td>1.373591</td>\n",
              "      <td>0.999667</td>\n",
              "      <td>0.980548</td>\n",
              "      <td>0.999889</td>\n",
              "      <td>0.988307</td>\n",
              "      <td>0.137313</td>\n",
              "      <td>0.412075</td>\n",
              "      <td>37.328668</td>\n",
              "      <td>37.359131</td>\n",
              "    </tr>\n",
              "    <tr>\n",
              "      <th>9</th>\n",
              "      <td></td>\n",
              "      <td>10</td>\n",
              "      <td>0.400003</td>\n",
              "      <td>0.958741</td>\n",
              "      <td>1.371916</td>\n",
              "      <td>1.373173</td>\n",
              "      <td>0.998670</td>\n",
              "      <td>0.967246</td>\n",
              "      <td>0.999584</td>\n",
              "      <td>0.983041</td>\n",
              "      <td>0.137198</td>\n",
              "      <td>0.549274</td>\n",
              "      <td>37.191621</td>\n",
              "      <td>37.317252</td>\n",
              "    </tr>\n",
              "    <tr>\n",
              "      <th>10</th>\n",
              "      <td></td>\n",
              "      <td>11</td>\n",
              "      <td>0.500008</td>\n",
              "      <td>0.932996</td>\n",
              "      <td>1.369632</td>\n",
              "      <td>1.372464</td>\n",
              "      <td>0.997007</td>\n",
              "      <td>0.947122</td>\n",
              "      <td>0.999069</td>\n",
              "      <td>0.975857</td>\n",
              "      <td>0.136970</td>\n",
              "      <td>0.686244</td>\n",
              "      <td>36.963197</td>\n",
              "      <td>37.246439</td>\n",
              "    </tr>\n",
              "    <tr>\n",
              "      <th>11</th>\n",
              "      <td></td>\n",
              "      <td>12</td>\n",
              "      <td>0.599997</td>\n",
              "      <td>0.881921</td>\n",
              "      <td>1.365747</td>\n",
              "      <td>1.371345</td>\n",
              "      <td>0.994179</td>\n",
              "      <td>0.910347</td>\n",
              "      <td>0.998254</td>\n",
              "      <td>0.964940</td>\n",
              "      <td>0.136559</td>\n",
              "      <td>0.822802</td>\n",
              "      <td>36.574742</td>\n",
              "      <td>37.134502</td>\n",
              "    </tr>\n",
              "    <tr>\n",
              "      <th>12</th>\n",
              "      <td></td>\n",
              "      <td>13</td>\n",
              "      <td>0.700002</td>\n",
              "      <td>0.728926</td>\n",
              "      <td>1.307501</td>\n",
              "      <td>1.362224</td>\n",
              "      <td>0.951779</td>\n",
              "      <td>0.824411</td>\n",
              "      <td>0.991614</td>\n",
              "      <td>0.944863</td>\n",
              "      <td>0.130757</td>\n",
              "      <td>0.953559</td>\n",
              "      <td>30.750056</td>\n",
              "      <td>36.222395</td>\n",
              "    </tr>\n",
              "    <tr>\n",
              "      <th>13</th>\n",
              "      <td></td>\n",
              "      <td>14</td>\n",
              "      <td>0.799990</td>\n",
              "      <td>0.258747</td>\n",
              "      <td>0.451898</td>\n",
              "      <td>1.248445</td>\n",
              "      <td>0.328954</td>\n",
              "      <td>0.483264</td>\n",
              "      <td>0.908790</td>\n",
              "      <td>0.887170</td>\n",
              "      <td>0.045185</td>\n",
              "      <td>0.998744</td>\n",
              "      <td>-54.810164</td>\n",
              "      <td>24.844507</td>\n",
              "    </tr>\n",
              "    <tr>\n",
              "      <th>14</th>\n",
              "      <td></td>\n",
              "      <td>15</td>\n",
              "      <td>0.899995</td>\n",
              "      <td>0.070783</td>\n",
              "      <td>0.011878</td>\n",
              "      <td>1.111041</td>\n",
              "      <td>0.008646</td>\n",
              "      <td>0.150725</td>\n",
              "      <td>0.808769</td>\n",
              "      <td>0.805338</td>\n",
              "      <td>0.001188</td>\n",
              "      <td>0.999931</td>\n",
              "      <td>-98.812194</td>\n",
              "      <td>11.104112</td>\n",
              "    </tr>\n",
              "    <tr>\n",
              "      <th>15</th>\n",
              "      <td></td>\n",
              "      <td>16</td>\n",
              "      <td>1.000000</td>\n",
              "      <td>0.002313</td>\n",
              "      <td>0.000685</td>\n",
              "      <td>1.000000</td>\n",
              "      <td>0.000499</td>\n",
              "      <td>0.030518</td>\n",
              "      <td>0.727938</td>\n",
              "      <td>0.727852</td>\n",
              "      <td>0.000069</td>\n",
              "      <td>1.000000</td>\n",
              "      <td>-99.931473</td>\n",
              "      <td>0.000000</td>\n",
              "    </tr>\n",
              "  </tbody>\n",
              "</table>\n",
              "</div>"
            ],
            "text/plain": [
              "      group  ...       gain  cumulative_gain\n",
              "0         1  ...  37.374360        37.374360\n",
              "1         2  ...  37.374360        37.374360\n",
              "2         3  ...  37.374360        37.374360\n",
              "3         4  ...  37.374360        37.374360\n",
              "4         5  ...  37.374360        37.374360\n",
              "5         6  ...  37.374360        37.374360\n",
              "6         7  ...  37.374360        37.374360\n",
              "7         8  ...  37.374360        37.374360\n",
              "8         9  ...  37.328668        37.359131\n",
              "9        10  ...  37.191621        37.317252\n",
              "10       11  ...  36.963197        37.246439\n",
              "11       12  ...  36.574742        37.134502\n",
              "12       13  ...  30.750056        36.222395\n",
              "13       14  ... -54.810164        24.844507\n",
              "14       15  ... -98.812194        11.104112\n",
              "15       16  ... -99.931473         0.000000\n",
              "\n",
              "[16 rows x 14 columns]"
            ]
          },
          "metadata": {
            "tags": []
          }
        },
        {
          "output_type": "stream",
          "text": [
            "\n",
            "\n",
            "ModelMetricsBinomial: gbm\n",
            "** Reported on validation data. **\n",
            "\n",
            "MSE: 0.08567366737789597\n",
            "RMSE: 0.2927006446489245\n",
            "LogLoss: 0.27854862490189664\n",
            "Mean Per-Class Error: 0.14017970082439346\n",
            "AUC: 0.9367139560456534\n",
            "AUCPR: 0.9725167495475628\n",
            "Gini: 0.8734279120913069\n",
            "\n",
            "Confusion Matrix (Act/Pred) for max f1 @ threshold = 0.4546457191141013: \n"
          ],
          "name": "stdout"
        },
        {
          "output_type": "display_data",
          "data": {
            "text/html": [
              "<div>\n",
              "<style scoped>\n",
              "    .dataframe tbody tr th:only-of-type {\n",
              "        vertical-align: middle;\n",
              "    }\n",
              "\n",
              "    .dataframe tbody tr th {\n",
              "        vertical-align: top;\n",
              "    }\n",
              "\n",
              "    .dataframe thead th {\n",
              "        text-align: right;\n",
              "    }\n",
              "</style>\n",
              "<table border=\"1\" class=\"dataframe\">\n",
              "  <thead>\n",
              "    <tr style=\"text-align: right;\">\n",
              "      <th></th>\n",
              "      <th></th>\n",
              "      <th>0</th>\n",
              "      <th>1</th>\n",
              "      <th>Error</th>\n",
              "      <th>Rate</th>\n",
              "    </tr>\n",
              "  </thead>\n",
              "  <tbody>\n",
              "    <tr>\n",
              "      <th>0</th>\n",
              "      <td>0</td>\n",
              "      <td>2369.0</td>\n",
              "      <td>1202.0</td>\n",
              "      <td>0.3366</td>\n",
              "      <td>(1202.0/3571.0)</td>\n",
              "    </tr>\n",
              "    <tr>\n",
              "      <th>1</th>\n",
              "      <td>1</td>\n",
              "      <td>340.0</td>\n",
              "      <td>8961.0</td>\n",
              "      <td>0.0366</td>\n",
              "      <td>(340.0/9301.0)</td>\n",
              "    </tr>\n",
              "    <tr>\n",
              "      <th>2</th>\n",
              "      <td>Total</td>\n",
              "      <td>2709.0</td>\n",
              "      <td>10163.0</td>\n",
              "      <td>0.1198</td>\n",
              "      <td>(1542.0/12872.0)</td>\n",
              "    </tr>\n",
              "  </tbody>\n",
              "</table>\n",
              "</div>"
            ],
            "text/plain": [
              "               0        1   Error               Rate\n",
              "0      0  2369.0   1202.0  0.3366    (1202.0/3571.0)\n",
              "1      1   340.0   8961.0  0.0366     (340.0/9301.0)\n",
              "2  Total  2709.0  10163.0  0.1198   (1542.0/12872.0)"
            ]
          },
          "metadata": {
            "tags": []
          }
        },
        {
          "output_type": "stream",
          "text": [
            "\n",
            "Maximum Metrics: Maximum metrics at their respective thresholds\n"
          ],
          "name": "stdout"
        },
        {
          "output_type": "display_data",
          "data": {
            "text/html": [
              "<div>\n",
              "<style scoped>\n",
              "    .dataframe tbody tr th:only-of-type {\n",
              "        vertical-align: middle;\n",
              "    }\n",
              "\n",
              "    .dataframe tbody tr th {\n",
              "        vertical-align: top;\n",
              "    }\n",
              "\n",
              "    .dataframe thead th {\n",
              "        text-align: right;\n",
              "    }\n",
              "</style>\n",
              "<table border=\"1\" class=\"dataframe\">\n",
              "  <thead>\n",
              "    <tr style=\"text-align: right;\">\n",
              "      <th></th>\n",
              "      <th>metric</th>\n",
              "      <th>threshold</th>\n",
              "      <th>value</th>\n",
              "      <th>idx</th>\n",
              "    </tr>\n",
              "  </thead>\n",
              "  <tbody>\n",
              "    <tr>\n",
              "      <th>0</th>\n",
              "      <td>max f1</td>\n",
              "      <td>0.454646</td>\n",
              "      <td>0.920777</td>\n",
              "      <td>249.0</td>\n",
              "    </tr>\n",
              "    <tr>\n",
              "      <th>1</th>\n",
              "      <td>max f2</td>\n",
              "      <td>0.182173</td>\n",
              "      <td>0.953986</td>\n",
              "      <td>331.0</td>\n",
              "    </tr>\n",
              "    <tr>\n",
              "      <th>2</th>\n",
              "      <td>max f0point5</td>\n",
              "      <td>0.774831</td>\n",
              "      <td>0.923745</td>\n",
              "      <td>142.0</td>\n",
              "    </tr>\n",
              "    <tr>\n",
              "      <th>3</th>\n",
              "      <td>max accuracy</td>\n",
              "      <td>0.594086</td>\n",
              "      <td>0.881293</td>\n",
              "      <td>204.0</td>\n",
              "    </tr>\n",
              "    <tr>\n",
              "      <th>4</th>\n",
              "      <td>max precision</td>\n",
              "      <td>0.996985</td>\n",
              "      <td>1.000000</td>\n",
              "      <td>0.0</td>\n",
              "    </tr>\n",
              "    <tr>\n",
              "      <th>5</th>\n",
              "      <td>max recall</td>\n",
              "      <td>0.009510</td>\n",
              "      <td>1.000000</td>\n",
              "      <td>396.0</td>\n",
              "    </tr>\n",
              "    <tr>\n",
              "      <th>6</th>\n",
              "      <td>max specificity</td>\n",
              "      <td>0.996985</td>\n",
              "      <td>1.000000</td>\n",
              "      <td>0.0</td>\n",
              "    </tr>\n",
              "    <tr>\n",
              "      <th>7</th>\n",
              "      <td>max absolute_mcc</td>\n",
              "      <td>0.629972</td>\n",
              "      <td>0.698561</td>\n",
              "      <td>192.0</td>\n",
              "    </tr>\n",
              "    <tr>\n",
              "      <th>8</th>\n",
              "      <td>max min_per_class_accuracy</td>\n",
              "      <td>0.768243</td>\n",
              "      <td>0.858863</td>\n",
              "      <td>145.0</td>\n",
              "    </tr>\n",
              "    <tr>\n",
              "      <th>9</th>\n",
              "      <td>max mean_per_class_accuracy</td>\n",
              "      <td>0.774831</td>\n",
              "      <td>0.859820</td>\n",
              "      <td>142.0</td>\n",
              "    </tr>\n",
              "    <tr>\n",
              "      <th>10</th>\n",
              "      <td>max tns</td>\n",
              "      <td>0.996985</td>\n",
              "      <td>3571.000000</td>\n",
              "      <td>0.0</td>\n",
              "    </tr>\n",
              "    <tr>\n",
              "      <th>11</th>\n",
              "      <td>max fns</td>\n",
              "      <td>0.996985</td>\n",
              "      <td>9038.000000</td>\n",
              "      <td>0.0</td>\n",
              "    </tr>\n",
              "    <tr>\n",
              "      <th>12</th>\n",
              "      <td>max fps</td>\n",
              "      <td>0.004624</td>\n",
              "      <td>3571.000000</td>\n",
              "      <td>399.0</td>\n",
              "    </tr>\n",
              "    <tr>\n",
              "      <th>13</th>\n",
              "      <td>max tps</td>\n",
              "      <td>0.009510</td>\n",
              "      <td>9301.000000</td>\n",
              "      <td>396.0</td>\n",
              "    </tr>\n",
              "    <tr>\n",
              "      <th>14</th>\n",
              "      <td>max tnr</td>\n",
              "      <td>0.996985</td>\n",
              "      <td>1.000000</td>\n",
              "      <td>0.0</td>\n",
              "    </tr>\n",
              "    <tr>\n",
              "      <th>15</th>\n",
              "      <td>max fnr</td>\n",
              "      <td>0.996985</td>\n",
              "      <td>0.971723</td>\n",
              "      <td>0.0</td>\n",
              "    </tr>\n",
              "    <tr>\n",
              "      <th>16</th>\n",
              "      <td>max fpr</td>\n",
              "      <td>0.004624</td>\n",
              "      <td>1.000000</td>\n",
              "      <td>399.0</td>\n",
              "    </tr>\n",
              "    <tr>\n",
              "      <th>17</th>\n",
              "      <td>max tpr</td>\n",
              "      <td>0.009510</td>\n",
              "      <td>1.000000</td>\n",
              "      <td>396.0</td>\n",
              "    </tr>\n",
              "  </tbody>\n",
              "</table>\n",
              "</div>"
            ],
            "text/plain": [
              "                         metric  threshold        value    idx\n",
              "0                        max f1   0.454646     0.920777  249.0\n",
              "1                        max f2   0.182173     0.953986  331.0\n",
              "2                  max f0point5   0.774831     0.923745  142.0\n",
              "3                  max accuracy   0.594086     0.881293  204.0\n",
              "4                 max precision   0.996985     1.000000    0.0\n",
              "5                    max recall   0.009510     1.000000  396.0\n",
              "6               max specificity   0.996985     1.000000    0.0\n",
              "7              max absolute_mcc   0.629972     0.698561  192.0\n",
              "8    max min_per_class_accuracy   0.768243     0.858863  145.0\n",
              "9   max mean_per_class_accuracy   0.774831     0.859820  142.0\n",
              "10                      max tns   0.996985  3571.000000    0.0\n",
              "11                      max fns   0.996985  9038.000000    0.0\n",
              "12                      max fps   0.004624  3571.000000  399.0\n",
              "13                      max tps   0.009510  9301.000000  396.0\n",
              "14                      max tnr   0.996985     1.000000    0.0\n",
              "15                      max fnr   0.996985     0.971723    0.0\n",
              "16                      max fpr   0.004624     1.000000  399.0\n",
              "17                      max tpr   0.009510     1.000000  396.0"
            ]
          },
          "metadata": {
            "tags": []
          }
        },
        {
          "output_type": "stream",
          "text": [
            "\n",
            "Gains/Lift Table: Avg response rate: 72.26 %, avg score: 73.57 %\n"
          ],
          "name": "stdout"
        },
        {
          "output_type": "display_data",
          "data": {
            "text/html": [
              "<div>\n",
              "<style scoped>\n",
              "    .dataframe tbody tr th:only-of-type {\n",
              "        vertical-align: middle;\n",
              "    }\n",
              "\n",
              "    .dataframe tbody tr th {\n",
              "        vertical-align: top;\n",
              "    }\n",
              "\n",
              "    .dataframe thead th {\n",
              "        text-align: right;\n",
              "    }\n",
              "</style>\n",
              "<table border=\"1\" class=\"dataframe\">\n",
              "  <thead>\n",
              "    <tr style=\"text-align: right;\">\n",
              "      <th></th>\n",
              "      <th></th>\n",
              "      <th>group</th>\n",
              "      <th>cumulative_data_fraction</th>\n",
              "      <th>lower_threshold</th>\n",
              "      <th>lift</th>\n",
              "      <th>cumulative_lift</th>\n",
              "      <th>response_rate</th>\n",
              "      <th>score</th>\n",
              "      <th>cumulative_response_rate</th>\n",
              "      <th>cumulative_score</th>\n",
              "      <th>capture_rate</th>\n",
              "      <th>cumulative_capture_rate</th>\n",
              "      <th>gain</th>\n",
              "      <th>cumulative_gain</th>\n",
              "    </tr>\n",
              "  </thead>\n",
              "  <tbody>\n",
              "    <tr>\n",
              "      <th>0</th>\n",
              "      <td></td>\n",
              "      <td>1</td>\n",
              "      <td>0.010099</td>\n",
              "      <td>0.996908</td>\n",
              "      <td>1.383937</td>\n",
              "      <td>1.383937</td>\n",
              "      <td>1.000000</td>\n",
              "      <td>0.997236</td>\n",
              "      <td>1.000000</td>\n",
              "      <td>0.997236</td>\n",
              "      <td>0.013977</td>\n",
              "      <td>0.013977</td>\n",
              "      <td>38.393721</td>\n",
              "      <td>38.393721</td>\n",
              "    </tr>\n",
              "    <tr>\n",
              "      <th>1</th>\n",
              "      <td></td>\n",
              "      <td>2</td>\n",
              "      <td>0.020277</td>\n",
              "      <td>0.996548</td>\n",
              "      <td>1.383937</td>\n",
              "      <td>1.383937</td>\n",
              "      <td>1.000000</td>\n",
              "      <td>0.996768</td>\n",
              "      <td>1.000000</td>\n",
              "      <td>0.997001</td>\n",
              "      <td>0.014085</td>\n",
              "      <td>0.028061</td>\n",
              "      <td>38.393721</td>\n",
              "      <td>38.393721</td>\n",
              "    </tr>\n",
              "    <tr>\n",
              "      <th>2</th>\n",
              "      <td></td>\n",
              "      <td>3</td>\n",
              "      <td>0.030065</td>\n",
              "      <td>0.996123</td>\n",
              "      <td>1.383937</td>\n",
              "      <td>1.383937</td>\n",
              "      <td>1.000000</td>\n",
              "      <td>0.996327</td>\n",
              "      <td>1.000000</td>\n",
              "      <td>0.996782</td>\n",
              "      <td>0.013547</td>\n",
              "      <td>0.041608</td>\n",
              "      <td>38.393721</td>\n",
              "      <td>38.393721</td>\n",
              "    </tr>\n",
              "    <tr>\n",
              "      <th>3</th>\n",
              "      <td></td>\n",
              "      <td>4</td>\n",
              "      <td>0.040009</td>\n",
              "      <td>0.995515</td>\n",
              "      <td>1.383937</td>\n",
              "      <td>1.383937</td>\n",
              "      <td>1.000000</td>\n",
              "      <td>0.995803</td>\n",
              "      <td>1.000000</td>\n",
              "      <td>0.996539</td>\n",
              "      <td>0.013762</td>\n",
              "      <td>0.055370</td>\n",
              "      <td>38.393721</td>\n",
              "      <td>38.393721</td>\n",
              "    </tr>\n",
              "    <tr>\n",
              "      <th>4</th>\n",
              "      <td></td>\n",
              "      <td>5</td>\n",
              "      <td>0.050031</td>\n",
              "      <td>0.994954</td>\n",
              "      <td>1.383937</td>\n",
              "      <td>1.383937</td>\n",
              "      <td>1.000000</td>\n",
              "      <td>0.995238</td>\n",
              "      <td>1.000000</td>\n",
              "      <td>0.996278</td>\n",
              "      <td>0.013869</td>\n",
              "      <td>0.069240</td>\n",
              "      <td>38.393721</td>\n",
              "      <td>38.393721</td>\n",
              "    </tr>\n",
              "    <tr>\n",
              "      <th>5</th>\n",
              "      <td></td>\n",
              "      <td>6</td>\n",
              "      <td>0.100062</td>\n",
              "      <td>0.992116</td>\n",
              "      <td>1.377490</td>\n",
              "      <td>1.380714</td>\n",
              "      <td>0.995342</td>\n",
              "      <td>0.993600</td>\n",
              "      <td>0.997671</td>\n",
              "      <td>0.994939</td>\n",
              "      <td>0.068917</td>\n",
              "      <td>0.138157</td>\n",
              "      <td>37.749030</td>\n",
              "      <td>38.071375</td>\n",
              "    </tr>\n",
              "    <tr>\n",
              "      <th>6</th>\n",
              "      <td></td>\n",
              "      <td>7</td>\n",
              "      <td>0.150016</td>\n",
              "      <td>0.988740</td>\n",
              "      <td>1.373176</td>\n",
              "      <td>1.378204</td>\n",
              "      <td>0.992224</td>\n",
              "      <td>0.990491</td>\n",
              "      <td>0.995857</td>\n",
              "      <td>0.993458</td>\n",
              "      <td>0.068595</td>\n",
              "      <td>0.206752</td>\n",
              "      <td>37.317565</td>\n",
              "      <td>37.820365</td>\n",
              "    </tr>\n",
              "    <tr>\n",
              "      <th>7</th>\n",
              "      <td></td>\n",
              "      <td>8</td>\n",
              "      <td>0.200047</td>\n",
              "      <td>0.984401</td>\n",
              "      <td>1.375341</td>\n",
              "      <td>1.377488</td>\n",
              "      <td>0.993789</td>\n",
              "      <td>0.986719</td>\n",
              "      <td>0.995340</td>\n",
              "      <td>0.991772</td>\n",
              "      <td>0.068810</td>\n",
              "      <td>0.275562</td>\n",
              "      <td>37.534133</td>\n",
              "      <td>37.748779</td>\n",
              "    </tr>\n",
              "    <tr>\n",
              "      <th>8</th>\n",
              "      <td></td>\n",
              "      <td>9</td>\n",
              "      <td>0.300031</td>\n",
              "      <td>0.971279</td>\n",
              "      <td>1.358130</td>\n",
              "      <td>1.371037</td>\n",
              "      <td>0.981352</td>\n",
              "      <td>0.978297</td>\n",
              "      <td>0.990678</td>\n",
              "      <td>0.987282</td>\n",
              "      <td>0.135792</td>\n",
              "      <td>0.411354</td>\n",
              "      <td>35.812952</td>\n",
              "      <td>37.103671</td>\n",
              "    </tr>\n",
              "    <tr>\n",
              "      <th>9</th>\n",
              "      <td></td>\n",
              "      <td>10</td>\n",
              "      <td>0.400016</td>\n",
              "      <td>0.950039</td>\n",
              "      <td>1.337698</td>\n",
              "      <td>1.362704</td>\n",
              "      <td>0.966589</td>\n",
              "      <td>0.961240</td>\n",
              "      <td>0.984657</td>\n",
              "      <td>0.980773</td>\n",
              "      <td>0.133749</td>\n",
              "      <td>0.545103</td>\n",
              "      <td>33.769844</td>\n",
              "      <td>36.270376</td>\n",
              "    </tr>\n",
              "    <tr>\n",
              "      <th>10</th>\n",
              "      <td></td>\n",
              "      <td>11</td>\n",
              "      <td>0.500000</td>\n",
              "      <td>0.912418</td>\n",
              "      <td>1.294686</td>\n",
              "      <td>1.349102</td>\n",
              "      <td>0.935509</td>\n",
              "      <td>0.932764</td>\n",
              "      <td>0.974829</td>\n",
              "      <td>0.971172</td>\n",
              "      <td>0.129448</td>\n",
              "      <td>0.674551</td>\n",
              "      <td>29.468563</td>\n",
              "      <td>34.910225</td>\n",
              "    </tr>\n",
              "    <tr>\n",
              "      <th>11</th>\n",
              "      <td></td>\n",
              "      <td>12</td>\n",
              "      <td>0.599984</td>\n",
              "      <td>0.841488</td>\n",
              "      <td>1.196831</td>\n",
              "      <td>1.323727</td>\n",
              "      <td>0.864802</td>\n",
              "      <td>0.880535</td>\n",
              "      <td>0.956494</td>\n",
              "      <td>0.956068</td>\n",
              "      <td>0.119665</td>\n",
              "      <td>0.794216</td>\n",
              "      <td>19.683148</td>\n",
              "      <td>32.372707</td>\n",
              "    </tr>\n",
              "    <tr>\n",
              "      <th>12</th>\n",
              "      <td></td>\n",
              "      <td>13</td>\n",
              "      <td>0.699969</td>\n",
              "      <td>0.694999</td>\n",
              "      <td>1.018328</td>\n",
              "      <td>1.280104</td>\n",
              "      <td>0.735820</td>\n",
              "      <td>0.777264</td>\n",
              "      <td>0.924972</td>\n",
              "      <td>0.930527</td>\n",
              "      <td>0.101817</td>\n",
              "      <td>0.896033</td>\n",
              "      <td>1.832831</td>\n",
              "      <td>28.010352</td>\n",
              "    </tr>\n",
              "    <tr>\n",
              "      <th>13</th>\n",
              "      <td></td>\n",
              "      <td>14</td>\n",
              "      <td>0.799953</td>\n",
              "      <td>0.412256</td>\n",
              "      <td>0.725841</td>\n",
              "      <td>1.210827</td>\n",
              "      <td>0.524476</td>\n",
              "      <td>0.567968</td>\n",
              "      <td>0.874915</td>\n",
              "      <td>0.885212</td>\n",
              "      <td>0.072573</td>\n",
              "      <td>0.968606</td>\n",
              "      <td>-27.415881</td>\n",
              "      <td>21.082746</td>\n",
              "    </tr>\n",
              "    <tr>\n",
              "      <th>14</th>\n",
              "      <td></td>\n",
              "      <td>15</td>\n",
              "      <td>0.899938</td>\n",
              "      <td>0.097393</td>\n",
              "      <td>0.282809</td>\n",
              "      <td>1.107723</td>\n",
              "      <td>0.204351</td>\n",
              "      <td>0.239578</td>\n",
              "      <td>0.800414</td>\n",
              "      <td>0.813481</td>\n",
              "      <td>0.028277</td>\n",
              "      <td>0.996882</td>\n",
              "      <td>-71.719076</td>\n",
              "      <td>10.772322</td>\n",
              "    </tr>\n",
              "    <tr>\n",
              "      <th>15</th>\n",
              "      <td></td>\n",
              "      <td>16</td>\n",
              "      <td>1.000000</td>\n",
              "      <td>0.002950</td>\n",
              "      <td>0.031160</td>\n",
              "      <td>1.000000</td>\n",
              "      <td>0.022516</td>\n",
              "      <td>0.035733</td>\n",
              "      <td>0.722576</td>\n",
              "      <td>0.735658</td>\n",
              "      <td>0.003118</td>\n",
              "      <td>1.000000</td>\n",
              "      <td>-96.883992</td>\n",
              "      <td>0.000000</td>\n",
              "    </tr>\n",
              "  </tbody>\n",
              "</table>\n",
              "</div>"
            ],
            "text/plain": [
              "      group  ...       gain  cumulative_gain\n",
              "0         1  ...  38.393721        38.393721\n",
              "1         2  ...  38.393721        38.393721\n",
              "2         3  ...  38.393721        38.393721\n",
              "3         4  ...  38.393721        38.393721\n",
              "4         5  ...  38.393721        38.393721\n",
              "5         6  ...  37.749030        38.071375\n",
              "6         7  ...  37.317565        37.820365\n",
              "7         8  ...  37.534133        37.748779\n",
              "8         9  ...  35.812952        37.103671\n",
              "9        10  ...  33.769844        36.270376\n",
              "10       11  ...  29.468563        34.910225\n",
              "11       12  ...  19.683148        32.372707\n",
              "12       13  ...   1.832831        28.010352\n",
              "13       14  ... -27.415881        21.082746\n",
              "14       15  ... -71.719076        10.772322\n",
              "15       16  ... -96.883992         0.000000\n",
              "\n",
              "[16 rows x 14 columns]"
            ]
          },
          "metadata": {
            "tags": []
          }
        },
        {
          "output_type": "stream",
          "text": [
            "\n",
            "\n",
            "Scoring History: \n"
          ],
          "name": "stdout"
        },
        {
          "output_type": "display_data",
          "data": {
            "text/html": [
              "<div>\n",
              "<style scoped>\n",
              "    .dataframe tbody tr th:only-of-type {\n",
              "        vertical-align: middle;\n",
              "    }\n",
              "\n",
              "    .dataframe tbody tr th {\n",
              "        vertical-align: top;\n",
              "    }\n",
              "\n",
              "    .dataframe thead th {\n",
              "        text-align: right;\n",
              "    }\n",
              "</style>\n",
              "<table border=\"1\" class=\"dataframe\">\n",
              "  <thead>\n",
              "    <tr style=\"text-align: right;\">\n",
              "      <th></th>\n",
              "      <th></th>\n",
              "      <th>timestamp</th>\n",
              "      <th>duration</th>\n",
              "      <th>number_of_trees</th>\n",
              "      <th>training_rmse</th>\n",
              "      <th>training_logloss</th>\n",
              "      <th>training_auc</th>\n",
              "      <th>training_pr_auc</th>\n",
              "      <th>training_lift</th>\n",
              "      <th>training_classification_error</th>\n",
              "      <th>validation_rmse</th>\n",
              "      <th>validation_logloss</th>\n",
              "      <th>validation_auc</th>\n",
              "      <th>validation_pr_auc</th>\n",
              "      <th>validation_lift</th>\n",
              "      <th>validation_classification_error</th>\n",
              "    </tr>\n",
              "  </thead>\n",
              "  <tbody>\n",
              "    <tr>\n",
              "      <th>0</th>\n",
              "      <td></td>\n",
              "      <td>2021-04-06 05:56:25</td>\n",
              "      <td>0.027 sec</td>\n",
              "      <td>0.0</td>\n",
              "      <td>0.445022</td>\n",
              "      <td>0.585299</td>\n",
              "      <td>0.500000</td>\n",
              "      <td>0.727938</td>\n",
              "      <td>1.000000</td>\n",
              "      <td>0.272062</td>\n",
              "      <td>0.447760</td>\n",
              "      <td>0.590576</td>\n",
              "      <td>0.500000</td>\n",
              "      <td>0.722576</td>\n",
              "      <td>1.000000</td>\n",
              "      <td>0.277424</td>\n",
              "    </tr>\n",
              "    <tr>\n",
              "      <th>1</th>\n",
              "      <td></td>\n",
              "      <td>2021-04-06 05:56:27</td>\n",
              "      <td>1.943 sec</td>\n",
              "      <td>1.0</td>\n",
              "      <td>0.427578</td>\n",
              "      <td>0.548180</td>\n",
              "      <td>0.870067</td>\n",
              "      <td>0.943842</td>\n",
              "      <td>1.368586</td>\n",
              "      <td>0.172440</td>\n",
              "      <td>0.431208</td>\n",
              "      <td>0.555123</td>\n",
              "      <td>0.850741</td>\n",
              "      <td>0.932105</td>\n",
              "      <td>1.376615</td>\n",
              "      <td>0.189170</td>\n",
              "    </tr>\n",
              "    <tr>\n",
              "      <th>2</th>\n",
              "      <td></td>\n",
              "      <td>2021-04-06 05:56:28</td>\n",
              "      <td>3.237 sec</td>\n",
              "      <td>2.0</td>\n",
              "      <td>0.411953</td>\n",
              "      <td>0.517217</td>\n",
              "      <td>0.900315</td>\n",
              "      <td>0.957114</td>\n",
              "      <td>1.369789</td>\n",
              "      <td>0.149110</td>\n",
              "      <td>0.417026</td>\n",
              "      <td>0.526798</td>\n",
              "      <td>0.875320</td>\n",
              "      <td>0.944714</td>\n",
              "      <td>1.379382</td>\n",
              "      <td>0.174177</td>\n",
              "    </tr>\n",
              "    <tr>\n",
              "      <th>3</th>\n",
              "      <td></td>\n",
              "      <td>2021-04-06 05:56:33</td>\n",
              "      <td>8.206 sec</td>\n",
              "      <td>6.0</td>\n",
              "      <td>0.366268</td>\n",
              "      <td>0.432931</td>\n",
              "      <td>0.927165</td>\n",
              "      <td>0.968780</td>\n",
              "      <td>1.370173</td>\n",
              "      <td>0.124183</td>\n",
              "      <td>0.376840</td>\n",
              "      <td>0.451053</td>\n",
              "      <td>0.898867</td>\n",
              "      <td>0.954668</td>\n",
              "      <td>1.379243</td>\n",
              "      <td>0.154910</td>\n",
              "    </tr>\n",
              "    <tr>\n",
              "      <th>4</th>\n",
              "      <td></td>\n",
              "      <td>2021-04-06 05:56:38</td>\n",
              "      <td>13.209 sec</td>\n",
              "      <td>10.0</td>\n",
              "      <td>0.336600</td>\n",
              "      <td>0.379516</td>\n",
              "      <td>0.939679</td>\n",
              "      <td>0.974337</td>\n",
              "      <td>1.371016</td>\n",
              "      <td>0.110498</td>\n",
              "      <td>0.353046</td>\n",
              "      <td>0.406156</td>\n",
              "      <td>0.906808</td>\n",
              "      <td>0.958637</td>\n",
              "      <td>1.380271</td>\n",
              "      <td>0.144500</td>\n",
              "    </tr>\n",
              "    <tr>\n",
              "      <th>5</th>\n",
              "      <td></td>\n",
              "      <td>2021-04-06 05:56:43</td>\n",
              "      <td>18.101 sec</td>\n",
              "      <td>14.0</td>\n",
              "      <td>0.315317</td>\n",
              "      <td>0.341250</td>\n",
              "      <td>0.948303</td>\n",
              "      <td>0.978205</td>\n",
              "      <td>1.372304</td>\n",
              "      <td>0.101668</td>\n",
              "      <td>0.337882</td>\n",
              "      <td>0.376259</td>\n",
              "      <td>0.912844</td>\n",
              "      <td>0.961677</td>\n",
              "      <td>1.383937</td>\n",
              "      <td>0.141159</td>\n",
              "    </tr>\n",
              "    <tr>\n",
              "      <th>6</th>\n",
              "      <td></td>\n",
              "      <td>2021-04-06 05:56:48</td>\n",
              "      <td>23.020 sec</td>\n",
              "      <td>18.0</td>\n",
              "      <td>0.298630</td>\n",
              "      <td>0.311589</td>\n",
              "      <td>0.955553</td>\n",
              "      <td>0.981369</td>\n",
              "      <td>1.371539</td>\n",
              "      <td>0.093985</td>\n",
              "      <td>0.327561</td>\n",
              "      <td>0.355362</td>\n",
              "      <td>0.917114</td>\n",
              "      <td>0.963142</td>\n",
              "      <td>1.373209</td>\n",
              "      <td>0.137197</td>\n",
              "    </tr>\n",
              "    <tr>\n",
              "      <th>7</th>\n",
              "      <td></td>\n",
              "      <td>2021-04-06 05:56:52</td>\n",
              "      <td>27.902 sec</td>\n",
              "      <td>22.0</td>\n",
              "      <td>0.285515</td>\n",
              "      <td>0.288737</td>\n",
              "      <td>0.961048</td>\n",
              "      <td>0.983742</td>\n",
              "      <td>1.373744</td>\n",
              "      <td>0.087351</td>\n",
              "      <td>0.320530</td>\n",
              "      <td>0.340632</td>\n",
              "      <td>0.920144</td>\n",
              "      <td>0.964711</td>\n",
              "      <td>1.375178</td>\n",
              "      <td>0.132070</td>\n",
              "    </tr>\n",
              "    <tr>\n",
              "      <th>8</th>\n",
              "      <td></td>\n",
              "      <td>2021-04-06 05:56:57</td>\n",
              "      <td>32.784 sec</td>\n",
              "      <td>26.0</td>\n",
              "      <td>0.274854</td>\n",
              "      <td>0.270108</td>\n",
              "      <td>0.965312</td>\n",
              "      <td>0.985653</td>\n",
              "      <td>1.373744</td>\n",
              "      <td>0.081431</td>\n",
              "      <td>0.315112</td>\n",
              "      <td>0.329026</td>\n",
              "      <td>0.922746</td>\n",
              "      <td>0.966162</td>\n",
              "      <td>1.383937</td>\n",
              "      <td>0.129506</td>\n",
              "    </tr>\n",
              "    <tr>\n",
              "      <th>9</th>\n",
              "      <td></td>\n",
              "      <td>2021-04-06 05:57:02</td>\n",
              "      <td>37.628 sec</td>\n",
              "      <td>30.0</td>\n",
              "      <td>0.265511</td>\n",
              "      <td>0.254323</td>\n",
              "      <td>0.969028</td>\n",
              "      <td>0.987217</td>\n",
              "      <td>1.373744</td>\n",
              "      <td>0.076658</td>\n",
              "      <td>0.311241</td>\n",
              "      <td>0.320294</td>\n",
              "      <td>0.924837</td>\n",
              "      <td>0.967155</td>\n",
              "      <td>1.383937</td>\n",
              "      <td>0.127253</td>\n",
              "    </tr>\n",
              "    <tr>\n",
              "      <th>10</th>\n",
              "      <td></td>\n",
              "      <td>2021-04-06 05:57:07</td>\n",
              "      <td>42.520 sec</td>\n",
              "      <td>34.0</td>\n",
              "      <td>0.256686</td>\n",
              "      <td>0.239945</td>\n",
              "      <td>0.972645</td>\n",
              "      <td>0.988771</td>\n",
              "      <td>1.373744</td>\n",
              "      <td>0.071237</td>\n",
              "      <td>0.308085</td>\n",
              "      <td>0.313366</td>\n",
              "      <td>0.926189</td>\n",
              "      <td>0.967833</td>\n",
              "      <td>1.383937</td>\n",
              "      <td>0.125777</td>\n",
              "    </tr>\n",
              "    <tr>\n",
              "      <th>11</th>\n",
              "      <td></td>\n",
              "      <td>2021-04-06 05:57:12</td>\n",
              "      <td>47.352 sec</td>\n",
              "      <td>38.0</td>\n",
              "      <td>0.249298</td>\n",
              "      <td>0.228105</td>\n",
              "      <td>0.975415</td>\n",
              "      <td>0.989917</td>\n",
              "      <td>1.373744</td>\n",
              "      <td>0.067429</td>\n",
              "      <td>0.305575</td>\n",
              "      <td>0.307775</td>\n",
              "      <td>0.927531</td>\n",
              "      <td>0.968402</td>\n",
              "      <td>1.383937</td>\n",
              "      <td>0.124145</td>\n",
              "    </tr>\n",
              "    <tr>\n",
              "      <th>12</th>\n",
              "      <td></td>\n",
              "      <td>2021-04-06 05:57:17</td>\n",
              "      <td>52.204 sec</td>\n",
              "      <td>42.0</td>\n",
              "      <td>0.242340</td>\n",
              "      <td>0.217376</td>\n",
              "      <td>0.977892</td>\n",
              "      <td>0.990970</td>\n",
              "      <td>1.373744</td>\n",
              "      <td>0.063572</td>\n",
              "      <td>0.303623</td>\n",
              "      <td>0.303327</td>\n",
              "      <td>0.928677</td>\n",
              "      <td>0.968916</td>\n",
              "      <td>1.383937</td>\n",
              "      <td>0.123213</td>\n",
              "    </tr>\n",
              "    <tr>\n",
              "      <th>13</th>\n",
              "      <td></td>\n",
              "      <td>2021-04-06 05:57:22</td>\n",
              "      <td>57.080 sec</td>\n",
              "      <td>46.0</td>\n",
              "      <td>0.235978</td>\n",
              "      <td>0.207687</td>\n",
              "      <td>0.980133</td>\n",
              "      <td>0.991915</td>\n",
              "      <td>1.373744</td>\n",
              "      <td>0.059464</td>\n",
              "      <td>0.301676</td>\n",
              "      <td>0.299108</td>\n",
              "      <td>0.929921</td>\n",
              "      <td>0.969443</td>\n",
              "      <td>1.383937</td>\n",
              "      <td>0.122436</td>\n",
              "    </tr>\n",
              "    <tr>\n",
              "      <th>14</th>\n",
              "      <td></td>\n",
              "      <td>2021-04-06 05:57:27</td>\n",
              "      <td>1 min  2.005 sec</td>\n",
              "      <td>50.0</td>\n",
              "      <td>0.229468</td>\n",
              "      <td>0.198289</td>\n",
              "      <td>0.982286</td>\n",
              "      <td>0.992799</td>\n",
              "      <td>1.373744</td>\n",
              "      <td>0.055523</td>\n",
              "      <td>0.300139</td>\n",
              "      <td>0.295775</td>\n",
              "      <td>0.930794</td>\n",
              "      <td>0.969759</td>\n",
              "      <td>1.383937</td>\n",
              "      <td>0.121892</td>\n",
              "    </tr>\n",
              "    <tr>\n",
              "      <th>15</th>\n",
              "      <td></td>\n",
              "      <td>2021-04-06 05:57:31</td>\n",
              "      <td>1 min  6.823 sec</td>\n",
              "      <td>54.0</td>\n",
              "      <td>0.224121</td>\n",
              "      <td>0.190515</td>\n",
              "      <td>0.983982</td>\n",
              "      <td>0.993524</td>\n",
              "      <td>1.373744</td>\n",
              "      <td>0.052513</td>\n",
              "      <td>0.299030</td>\n",
              "      <td>0.293113</td>\n",
              "      <td>0.931656</td>\n",
              "      <td>0.970145</td>\n",
              "      <td>1.383937</td>\n",
              "      <td>0.120883</td>\n",
              "    </tr>\n",
              "    <tr>\n",
              "      <th>16</th>\n",
              "      <td></td>\n",
              "      <td>2021-04-06 05:57:36</td>\n",
              "      <td>1 min 11.592 sec</td>\n",
              "      <td>58.0</td>\n",
              "      <td>0.219327</td>\n",
              "      <td>0.183792</td>\n",
              "      <td>0.985364</td>\n",
              "      <td>0.994089</td>\n",
              "      <td>1.373744</td>\n",
              "      <td>0.049919</td>\n",
              "      <td>0.298108</td>\n",
              "      <td>0.290957</td>\n",
              "      <td>0.932300</td>\n",
              "      <td>0.970452</td>\n",
              "      <td>1.383937</td>\n",
              "      <td>0.120727</td>\n",
              "    </tr>\n",
              "    <tr>\n",
              "      <th>17</th>\n",
              "      <td></td>\n",
              "      <td>2021-04-06 05:57:41</td>\n",
              "      <td>1 min 16.467 sec</td>\n",
              "      <td>62.0</td>\n",
              "      <td>0.213989</td>\n",
              "      <td>0.176662</td>\n",
              "      <td>0.986907</td>\n",
              "      <td>0.994727</td>\n",
              "      <td>1.373744</td>\n",
              "      <td>0.047076</td>\n",
              "      <td>0.297350</td>\n",
              "      <td>0.289107</td>\n",
              "      <td>0.932918</td>\n",
              "      <td>0.970777</td>\n",
              "      <td>1.383937</td>\n",
              "      <td>0.120494</td>\n",
              "    </tr>\n",
              "    <tr>\n",
              "      <th>18</th>\n",
              "      <td></td>\n",
              "      <td>2021-04-06 05:57:46</td>\n",
              "      <td>1 min 21.305 sec</td>\n",
              "      <td>66.0</td>\n",
              "      <td>0.209338</td>\n",
              "      <td>0.170538</td>\n",
              "      <td>0.988078</td>\n",
              "      <td>0.995203</td>\n",
              "      <td>1.373744</td>\n",
              "      <td>0.044349</td>\n",
              "      <td>0.296617</td>\n",
              "      <td>0.287520</td>\n",
              "      <td>0.933367</td>\n",
              "      <td>0.970923</td>\n",
              "      <td>1.383937</td>\n",
              "      <td>0.120183</td>\n",
              "    </tr>\n",
              "    <tr>\n",
              "      <th>19</th>\n",
              "      <td></td>\n",
              "      <td>2021-04-06 05:57:51</td>\n",
              "      <td>1 min 26.162 sec</td>\n",
              "      <td>70.0</td>\n",
              "      <td>0.204278</td>\n",
              "      <td>0.164107</td>\n",
              "      <td>0.989358</td>\n",
              "      <td>0.995733</td>\n",
              "      <td>1.373744</td>\n",
              "      <td>0.041389</td>\n",
              "      <td>0.295646</td>\n",
              "      <td>0.285599</td>\n",
              "      <td>0.934095</td>\n",
              "      <td>0.971197</td>\n",
              "      <td>1.383937</td>\n",
              "      <td>0.119018</td>\n",
              "    </tr>\n",
              "  </tbody>\n",
              "</table>\n",
              "</div>"
            ],
            "text/plain": [
              "                timestamp  ... validation_lift  validation_classification_error\n",
              "0     2021-04-06 05:56:25  ...        1.000000                         0.277424\n",
              "1     2021-04-06 05:56:27  ...        1.376615                         0.189170\n",
              "2     2021-04-06 05:56:28  ...        1.379382                         0.174177\n",
              "3     2021-04-06 05:56:33  ...        1.379243                         0.154910\n",
              "4     2021-04-06 05:56:38  ...        1.380271                         0.144500\n",
              "5     2021-04-06 05:56:43  ...        1.383937                         0.141159\n",
              "6     2021-04-06 05:56:48  ...        1.373209                         0.137197\n",
              "7     2021-04-06 05:56:52  ...        1.375178                         0.132070\n",
              "8     2021-04-06 05:56:57  ...        1.383937                         0.129506\n",
              "9     2021-04-06 05:57:02  ...        1.383937                         0.127253\n",
              "10    2021-04-06 05:57:07  ...        1.383937                         0.125777\n",
              "11    2021-04-06 05:57:12  ...        1.383937                         0.124145\n",
              "12    2021-04-06 05:57:17  ...        1.383937                         0.123213\n",
              "13    2021-04-06 05:57:22  ...        1.383937                         0.122436\n",
              "14    2021-04-06 05:57:27  ...        1.383937                         0.121892\n",
              "15    2021-04-06 05:57:31  ...        1.383937                         0.120883\n",
              "16    2021-04-06 05:57:36  ...        1.383937                         0.120727\n",
              "17    2021-04-06 05:57:41  ...        1.383937                         0.120494\n",
              "18    2021-04-06 05:57:46  ...        1.383937                         0.120183\n",
              "19    2021-04-06 05:57:51  ...        1.383937                         0.119018\n",
              "\n",
              "[20 rows x 16 columns]"
            ]
          },
          "metadata": {
            "tags": []
          }
        },
        {
          "output_type": "stream",
          "text": [
            "\n",
            "See the whole table with table.as_data_frame()\n",
            "\n",
            "Variable Importances: \n"
          ],
          "name": "stdout"
        },
        {
          "output_type": "display_data",
          "data": {
            "text/html": [
              "<div>\n",
              "<style scoped>\n",
              "    .dataframe tbody tr th:only-of-type {\n",
              "        vertical-align: middle;\n",
              "    }\n",
              "\n",
              "    .dataframe tbody tr th {\n",
              "        vertical-align: top;\n",
              "    }\n",
              "\n",
              "    .dataframe thead th {\n",
              "        text-align: right;\n",
              "    }\n",
              "</style>\n",
              "<table border=\"1\" class=\"dataframe\">\n",
              "  <thead>\n",
              "    <tr style=\"text-align: right;\">\n",
              "      <th></th>\n",
              "      <th>variable</th>\n",
              "      <th>relative_importance</th>\n",
              "      <th>scaled_importance</th>\n",
              "      <th>percentage</th>\n",
              "    </tr>\n",
              "  </thead>\n",
              "  <tbody>\n",
              "    <tr>\n",
              "      <th>0</th>\n",
              "      <td>headline_C55</td>\n",
              "      <td>2706.875732</td>\n",
              "      <td>1.000000</td>\n",
              "      <td>0.055433</td>\n",
              "    </tr>\n",
              "    <tr>\n",
              "      <th>1</th>\n",
              "      <td>headline_C95</td>\n",
              "      <td>2559.586182</td>\n",
              "      <td>0.945587</td>\n",
              "      <td>0.052417</td>\n",
              "    </tr>\n",
              "    <tr>\n",
              "      <th>2</th>\n",
              "      <td>headline_C97</td>\n",
              "      <td>1946.637085</td>\n",
              "      <td>0.719145</td>\n",
              "      <td>0.039865</td>\n",
              "    </tr>\n",
              "    <tr>\n",
              "      <th>3</th>\n",
              "      <td>headline_C45</td>\n",
              "      <td>1880.089233</td>\n",
              "      <td>0.694561</td>\n",
              "      <td>0.038502</td>\n",
              "    </tr>\n",
              "    <tr>\n",
              "      <th>4</th>\n",
              "      <td>headline_C47</td>\n",
              "      <td>1469.651367</td>\n",
              "      <td>0.542933</td>\n",
              "      <td>0.030097</td>\n",
              "    </tr>\n",
              "    <tr>\n",
              "      <th>5</th>\n",
              "      <td>C45</td>\n",
              "      <td>1390.554565</td>\n",
              "      <td>0.513712</td>\n",
              "      <td>0.028477</td>\n",
              "    </tr>\n",
              "    <tr>\n",
              "      <th>6</th>\n",
              "      <td>C49</td>\n",
              "      <td>1376.899658</td>\n",
              "      <td>0.508667</td>\n",
              "      <td>0.028197</td>\n",
              "    </tr>\n",
              "    <tr>\n",
              "      <th>7</th>\n",
              "      <td>headline_C96</td>\n",
              "      <td>1376.288208</td>\n",
              "      <td>0.508442</td>\n",
              "      <td>0.028185</td>\n",
              "    </tr>\n",
              "    <tr>\n",
              "      <th>8</th>\n",
              "      <td>C47</td>\n",
              "      <td>1306.172607</td>\n",
              "      <td>0.482539</td>\n",
              "      <td>0.026749</td>\n",
              "    </tr>\n",
              "    <tr>\n",
              "      <th>9</th>\n",
              "      <td>headline_C60</td>\n",
              "      <td>1278.208008</td>\n",
              "      <td>0.472208</td>\n",
              "      <td>0.026176</td>\n",
              "    </tr>\n",
              "    <tr>\n",
              "      <th>10</th>\n",
              "      <td>C60</td>\n",
              "      <td>1228.951172</td>\n",
              "      <td>0.454011</td>\n",
              "      <td>0.025167</td>\n",
              "    </tr>\n",
              "    <tr>\n",
              "      <th>11</th>\n",
              "      <td>headline_C32</td>\n",
              "      <td>1191.381470</td>\n",
              "      <td>0.440132</td>\n",
              "      <td>0.024398</td>\n",
              "    </tr>\n",
              "    <tr>\n",
              "      <th>12</th>\n",
              "      <td>C14</td>\n",
              "      <td>1140.173706</td>\n",
              "      <td>0.421214</td>\n",
              "      <td>0.023349</td>\n",
              "    </tr>\n",
              "    <tr>\n",
              "      <th>13</th>\n",
              "      <td>C55</td>\n",
              "      <td>1009.582703</td>\n",
              "      <td>0.372970</td>\n",
              "      <td>0.020675</td>\n",
              "    </tr>\n",
              "    <tr>\n",
              "      <th>14</th>\n",
              "      <td>headline_C80</td>\n",
              "      <td>914.194458</td>\n",
              "      <td>0.337730</td>\n",
              "      <td>0.018722</td>\n",
              "    </tr>\n",
              "    <tr>\n",
              "      <th>15</th>\n",
              "      <td>C51</td>\n",
              "      <td>857.602844</td>\n",
              "      <td>0.316824</td>\n",
              "      <td>0.017563</td>\n",
              "    </tr>\n",
              "    <tr>\n",
              "      <th>16</th>\n",
              "      <td>C80</td>\n",
              "      <td>785.395142</td>\n",
              "      <td>0.290148</td>\n",
              "      <td>0.016084</td>\n",
              "    </tr>\n",
              "    <tr>\n",
              "      <th>17</th>\n",
              "      <td>C50</td>\n",
              "      <td>650.694031</td>\n",
              "      <td>0.240386</td>\n",
              "      <td>0.013325</td>\n",
              "    </tr>\n",
              "    <tr>\n",
              "      <th>18</th>\n",
              "      <td>C35</td>\n",
              "      <td>590.195618</td>\n",
              "      <td>0.218036</td>\n",
              "      <td>0.012086</td>\n",
              "    </tr>\n",
              "    <tr>\n",
              "      <th>19</th>\n",
              "      <td>C48</td>\n",
              "      <td>587.640381</td>\n",
              "      <td>0.217092</td>\n",
              "      <td>0.012034</td>\n",
              "    </tr>\n",
              "  </tbody>\n",
              "</table>\n",
              "</div>"
            ],
            "text/plain": [
              "        variable  relative_importance  scaled_importance  percentage\n",
              "0   headline_C55          2706.875732           1.000000    0.055433\n",
              "1   headline_C95          2559.586182           0.945587    0.052417\n",
              "2   headline_C97          1946.637085           0.719145    0.039865\n",
              "3   headline_C45          1880.089233           0.694561    0.038502\n",
              "4   headline_C47          1469.651367           0.542933    0.030097\n",
              "5            C45          1390.554565           0.513712    0.028477\n",
              "6            C49          1376.899658           0.508667    0.028197\n",
              "7   headline_C96          1376.288208           0.508442    0.028185\n",
              "8            C47          1306.172607           0.482539    0.026749\n",
              "9   headline_C60          1278.208008           0.472208    0.026176\n",
              "10           C60          1228.951172           0.454011    0.025167\n",
              "11  headline_C32          1191.381470           0.440132    0.024398\n",
              "12           C14          1140.173706           0.421214    0.023349\n",
              "13           C55          1009.582703           0.372970    0.020675\n",
              "14  headline_C80           914.194458           0.337730    0.018722\n",
              "15           C51           857.602844           0.316824    0.017563\n",
              "16           C80           785.395142           0.290148    0.016084\n",
              "17           C50           650.694031           0.240386    0.013325\n",
              "18           C35           590.195618           0.218036    0.012086\n",
              "19           C48           587.640381           0.217092    0.012034"
            ]
          },
          "metadata": {
            "tags": []
          }
        },
        {
          "output_type": "stream",
          "text": [
            "\n",
            "See the whole table with table.as_data_frame()\n"
          ],
          "name": "stdout"
        },
        {
          "output_type": "execute_result",
          "data": {
            "text/plain": [
              ""
            ]
          },
          "metadata": {
            "tags": []
          },
          "execution_count": 0
        }
      ]
    }
  ]
}
