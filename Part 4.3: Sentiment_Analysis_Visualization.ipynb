{
  "nbformat": 4,
  "nbformat_minor": 0,
  "metadata": {
    "colab": {
      "name": "Part 4.3: Sentiment_Analysis_Visualization.ipynb",
      "provenance": [],
      "collapsed_sections": []
    },
    "kernelspec": {
      "name": "python3",
      "display_name": "Python 3"
    }
  },
  "cells": [
    {
      "cell_type": "code",
      "metadata": {
        "id": "KqTyL2VUqv-M"
      },
      "source": [
        "!apt-get install default-jre\n",
        "!java -version"
      ],
      "execution_count": null,
      "outputs": []
    },
    {
      "cell_type": "code",
      "metadata": {
        "id": "KcdldMCPq1eC"
      },
      "source": [
        "!pip install h2o==3.30.0.1"
      ],
      "execution_count": null,
      "outputs": []
    },
    {
      "cell_type": "code",
      "metadata": {
        "id": "fUbFvR7LDB3U"
      },
      "source": [
        "import h2o\n",
        "import numpy as np\n",
        "import pandas as pd"
      ],
      "execution_count": null,
      "outputs": []
    },
    {
      "cell_type": "code",
      "metadata": {
        "id": "sLHRRkcdrAnX",
        "colab": {
          "base_uri": "https://localhost:8080/",
          "height": 545
        },
        "outputId": "ca916ca7-b4d5-412f-d386-fc3de89ff669"
      },
      "source": [
        "h2o.init()"
      ],
      "execution_count": null,
      "outputs": [
        {
          "output_type": "stream",
          "text": [
            "Checking whether there is an H2O instance running at http://localhost:54321 ..... not found.\n",
            "Attempting to start a local H2O server...\n",
            "  Java Version: openjdk version \"11.0.7\" 2020-04-14; OpenJDK Runtime Environment (build 11.0.7+10-post-Ubuntu-2ubuntu218.04); OpenJDK 64-Bit Server VM (build 11.0.7+10-post-Ubuntu-2ubuntu218.04, mixed mode, sharing)\n",
            "  Starting server from /usr/local/lib/python3.6/dist-packages/h2o/backend/bin/h2o.jar\n",
            "  Ice root: /tmp/tmpqcwl4g04\n",
            "  JVM stdout: /tmp/tmpqcwl4g04/h2o_unknownUser_started_from_python.out\n",
            "  JVM stderr: /tmp/tmpqcwl4g04/h2o_unknownUser_started_from_python.err\n",
            "  Server is running at http://127.0.0.1:54321\n",
            "Connecting to H2O server at http://127.0.0.1:54321 ... successful.\n"
          ],
          "name": "stdout"
        },
        {
          "output_type": "display_data",
          "data": {
            "text/html": [
              "<div style=\"overflow:auto\"><table style=\"width:50%\"><tr><td>H2O_cluster_uptime:</td>\n",
              "<td>02 secs</td></tr>\n",
              "<tr><td>H2O_cluster_timezone:</td>\n",
              "<td>Etc/UTC</td></tr>\n",
              "<tr><td>H2O_data_parsing_timezone:</td>\n",
              "<td>UTC</td></tr>\n",
              "<tr><td>H2O_cluster_version:</td>\n",
              "<td>3.30.0.1</td></tr>\n",
              "<tr><td>H2O_cluster_version_age:</td>\n",
              "<td>1 month and 4 days </td></tr>\n",
              "<tr><td>H2O_cluster_name:</td>\n",
              "<td>H2O_from_python_unknownUser_qgsvpf</td></tr>\n",
              "<tr><td>H2O_cluster_total_nodes:</td>\n",
              "<td>1</td></tr>\n",
              "<tr><td>H2O_cluster_free_memory:</td>\n",
              "<td>3.180 Gb</td></tr>\n",
              "<tr><td>H2O_cluster_total_cores:</td>\n",
              "<td>2</td></tr>\n",
              "<tr><td>H2O_cluster_allowed_cores:</td>\n",
              "<td>2</td></tr>\n",
              "<tr><td>H2O_cluster_status:</td>\n",
              "<td>accepting new members, healthy</td></tr>\n",
              "<tr><td>H2O_connection_url:</td>\n",
              "<td>http://127.0.0.1:54321</td></tr>\n",
              "<tr><td>H2O_connection_proxy:</td>\n",
              "<td>{\"http\": null, \"https\": null}</td></tr>\n",
              "<tr><td>H2O_internal_security:</td>\n",
              "<td>False</td></tr>\n",
              "<tr><td>H2O_API_Extensions:</td>\n",
              "<td>Amazon S3, XGBoost, Algos, AutoML, Core V3, TargetEncoder, Core V4</td></tr>\n",
              "<tr><td>Python_version:</td>\n",
              "<td>3.6.9 final</td></tr></table></div>"
            ],
            "text/plain": [
              "--------------------------  ------------------------------------------------------------------\n",
              "H2O_cluster_uptime:         02 secs\n",
              "H2O_cluster_timezone:       Etc/UTC\n",
              "H2O_data_parsing_timezone:  UTC\n",
              "H2O_cluster_version:        3.30.0.1\n",
              "H2O_cluster_version_age:    1 month and 4 days\n",
              "H2O_cluster_name:           H2O_from_python_unknownUser_qgsvpf\n",
              "H2O_cluster_total_nodes:    1\n",
              "H2O_cluster_free_memory:    3.180 Gb\n",
              "H2O_cluster_total_cores:    2\n",
              "H2O_cluster_allowed_cores:  2\n",
              "H2O_cluster_status:         accepting new members, healthy\n",
              "H2O_connection_url:         http://127.0.0.1:54321\n",
              "H2O_connection_proxy:       {\"http\": null, \"https\": null}\n",
              "H2O_internal_security:      False\n",
              "H2O_API_Extensions:         Amazon S3, XGBoost, Algos, AutoML, Core V3, TargetEncoder, Core V4\n",
              "Python_version:             3.6.9 final\n",
              "--------------------------  ------------------------------------------------------------------"
            ]
          },
          "metadata": {
            "tags": []
          }
        }
      ]
    },
    {
      "cell_type": "code",
      "metadata": {
        "id": "hE3aDD2mmxjW",
        "colab": {
          "base_uri": "https://localhost:8080/",
          "height": 71
        },
        "outputId": "62e0eb3a-c538-42e3-e612-bf73c3e84abd"
      },
      "source": [
        "reviews_df=pd.read_csv('reviews.txt',sep='~~',names=['headline','reviews','target'])"
      ],
      "execution_count": null,
      "outputs": [
        {
          "output_type": "stream",
          "text": [
            "/usr/local/lib/python3.6/dist-packages/ipykernel_launcher.py:1: ParserWarning: Falling back to the 'python' engine because the 'c' engine does not support regex separators (separators > 1 char and different from '\\s+' are interpreted as regex); you can avoid this warning by specifying engine='python'.\n",
            "  \"\"\"Entry point for launching an IPython kernel.\n"
          ],
          "name": "stderr"
        }
      ]
    },
    {
      "cell_type": "code",
      "metadata": {
        "id": "DmS7qQuCoLGF",
        "colab": {
          "base_uri": "https://localhost:8080/",
          "height": 34
        },
        "outputId": "b0b13910-7133-4c5e-dc68-f583e4b49b0e"
      },
      "source": [
        "h2o_df=h2o.H2OFrame(reviews_df,column_names=['headline','reviews','target'],column_types=['string','string','numeric'])"
      ],
      "execution_count": null,
      "outputs": [
        {
          "output_type": "stream",
          "text": [
            "Parse progress: |█████████████████████████████████████████████████████████| 100%\n"
          ],
          "name": "stdout"
        }
      ]
    },
    {
      "cell_type": "code",
      "metadata": {
        "id": "nZOZarx4GGX3",
        "colab": {
          "base_uri": "https://localhost:8080/",
          "height": 522
        },
        "outputId": "9e2d24c8-42a7-4df4-9a33-0432a3d4406e"
      },
      "source": [
        "h2o_df"
      ],
      "execution_count": null,
      "outputs": [
        {
          "output_type": "display_data",
          "data": {
            "text/html": [
              "<table>\n",
              "<thead>\n",
              "<tr><th>headline                                         </th><th>reviews                                                                                                                                                                                                                                                                                                                                                                                                                                                                                                                                                                                                                                                                                                                                                                                      </th><th style=\"text-align: right;\">  target</th></tr>\n",
              "</thead>\n",
              "<tbody>\n",
              "<tr><td>b&#x27;Not what I wanted :(&#x27;                          </td><td>b&quot;Well this isn&#x27;t what I wanted. I did not want a four section pad (as its stiched into compartments for rice)&lt;br /&gt;&lt;br /&gt;I like to be able to push it all to one side or the other to have more or less heat/pressure&lt;br /&gt;&lt;br /&gt;The smell of the Lavander is WAYYYYY too much it almost smells like OLD spoiled lavander! Wish I would have read reviews first&lt;br /&gt;&lt;br /&gt;I could have dealt with the stitching the smell is so bad I have to throw it away WHAT A WASTE OF MONEY!!&quot;                                                                                                                                                                                                                                                                                                       </td><td style=\"text-align: right;\">       0</td></tr>\n",
              "<tr><td>b&#x27;Great Shaver!&#x27;                                 </td><td>b&#x27;Have used this brand most of my shaving life and this model for almost 20yrs. Reliable and reasonable price. Thanks Remington!&#x27;                                                                                                                                                                                                                                                                                                                                                                                                                                                                                                                                                                                                                                                            </td><td style=\"text-align: right;\">       1</td></tr>\n",
              "<tr><td>b&#x27;A must buy!&#x27;                                   </td><td>b&quot;All I have to say is WOW!!! This thing is AMAZING!!! It&#x27;s much bigger and thicker than I thought it would be. But it feels amazing!!! The &amp;#34;veins&amp;#34; on this thing feel great and the curve hits just the right spots. If ur thinking about getting this do it!! U won&#x27;t be disappointed. And for the price u can&#x27;t beat it, no pun intended ;-)&quot;                                                                                                                                                                                                                                                                                                                                                                                                                                     </td><td style=\"text-align: right;\">       1</td></tr>\n",
              "<tr><td>b&#x27;Do Not Recommend&#x27;                              </td><td>b&#x27;I bought this scale from Brookstone. It has a poor readout, one of the numbers flickers and you can not tell what it is. Thus you never know what you weigh! I contacted Brookstone about how to return it and they never got back to me. Not a good buying experience. $20.00 wasted on a piece of junk.&#x27;                                                                                                                                                                                                                                                                                                                                                                                                                                                                                 </td><td style=\"text-align: right;\">       0</td></tr>\n",
              "<tr><td>b&#x27;towel warmer does not seal&#x27;                    </td><td>b&#x27;I purchased the One Touch massage Spa Hot Towel Warmer Cabinet,and when i recived it and started to use it,I noticed the door did not seal in the upper right corner.so I notified the company i purchased it from and they informed me that there is no return policy and they  had tested it befor they mailed it and it worked fine.so Im stuck with it.because it dosent seal it looses alot of heat.i will try to fix it my self,but would advise anyone not to buy from bella Rosa massage on amazon Marketplace!!!!!!!!!!!!&#x27;                                                                                                                                                                                                                                                        </td><td style=\"text-align: right;\">       0</td></tr>\n",
              "<tr><td>b&#x27;absolute best&#x27;                                 </td><td>b&#x27;By far my favorite for tight muscle and stiff neck.  Helps with pain in my jaw as well.&#x27;                                                                                                                                                                                                                                                                                                                                                                                                                                                                                                                                                                                                                                                                                                   </td><td style=\"text-align: right;\">       1</td></tr>\n",
              "<tr><td>b&#x27;High product failure rate-Buy it with  caution&#x27;</td><td>b&#x27;I had bought an earlier model preceding w4100,the 4000 .It broke down two years into use requiring refurbishment and again it failed.When I spoke to productline[Tim] manager,he told me the failure rate is about 3 percent in 4000 and about 2 percent in 4100 and increases to above 3 percent in 3 years. When I told him about poor  hardware reliability,he told me iphone does not last more than  years,which is not a reply expected from him.He is defending the product high failure rate.The stethescope works well only  when it works.For a premium product and for a biomedical product ,the hardware reliabilty and quality control  is very poor.Annual life cycle  cost of this product is 162.5 Dollars excluding batteries.I recommend people to buy at their own risk&#x27;</td><td style=\"text-align: right;\">       0</td></tr>\n",
              "<tr><td>b&quot;I want to feel like i&#x27;m 24 again.&quot;             </td><td>b&quot;I have been looking for something  to give me an edge. I&#x27;m trying to lose weight build muscle etc. So I hope this works out.&quot;                                                                                                                                                                                                                                                                                                                                                                                                                                                                                                                                                                                                                                                              </td><td style=\"text-align: right;\">       1</td></tr>\n",
              "<tr><td>b&#x27;Not Worth It&#x27;                                  </td><td>b&#x27;I am not just downing this product, but all products like this. Please do not buy these things. They only make you big while you are pumping, but the minute you stop...all of the bigness leaves. Seriously they suck.&#x27;                                                                                                                                                                                                                                                                                                                                                                                                                                                                                                                                                                   </td><td style=\"text-align: right;\">       0</td></tr>\n",
              "<tr><td>b&#x27;works very well&#x27;                               </td><td>b&quot;I&#x27;m able to finally get it up thanks to this, used to be a struggle to get an erection and it was hard for me even on a good day. With this its rare that I can&#x27;t get it up.&quot;                                                                                                                                                                                                                                                                                                                                                                                                                                                                                                                                                                                                              </td><td style=\"text-align: right;\">       1</td></tr>\n",
              "</tbody>\n",
              "</table>"
            ]
          },
          "metadata": {
            "tags": []
          }
        },
        {
          "output_type": "execute_result",
          "data": {
            "text/plain": [
              ""
            ]
          },
          "metadata": {
            "tags": []
          },
          "execution_count": 5
        }
      ]
    },
    {
      "cell_type": "code",
      "metadata": {
        "id": "SbU4KHtEyJdM",
        "colab": {
          "base_uri": "https://localhost:8080/",
          "height": 34
        },
        "outputId": "c016c491-4fa5-446e-a95d-bafb9c1c3a08"
      },
      "source": [
        "h2o_df.shape[0]"
      ],
      "execution_count": null,
      "outputs": [
        {
          "output_type": "execute_result",
          "data": {
            "text/plain": [
              "400"
            ]
          },
          "metadata": {
            "tags": []
          },
          "execution_count": 6
        }
      ]
    },
    {
      "cell_type": "code",
      "metadata": {
        "id": "f1p0u2X8yJaX",
        "colab": {
          "base_uri": "https://localhost:8080/",
          "height": 82
        },
        "outputId": "8978787c-f215-4d04-9c59-803dd1d0fc2a"
      },
      "source": [
        "h2o_df[\"target\"].table()"
      ],
      "execution_count": null,
      "outputs": [
        {
          "output_type": "display_data",
          "data": {
            "text/html": [
              "<table>\n",
              "<thead>\n",
              "<tr><th style=\"text-align: right;\">  target</th><th style=\"text-align: right;\">  Count</th></tr>\n",
              "</thead>\n",
              "<tbody>\n",
              "<tr><td style=\"text-align: right;\">       0</td><td style=\"text-align: right;\">    105</td></tr>\n",
              "<tr><td style=\"text-align: right;\">       1</td><td style=\"text-align: right;\">    295</td></tr>\n",
              "</tbody>\n",
              "</table>"
            ]
          },
          "metadata": {
            "tags": []
          }
        },
        {
          "output_type": "execute_result",
          "data": {
            "text/plain": [
              ""
            ]
          },
          "metadata": {
            "tags": []
          },
          "execution_count": 7
        }
      ]
    },
    {
      "cell_type": "code",
      "metadata": {
        "id": "eqGNG1soyJVD",
        "colab": {
          "base_uri": "https://localhost:8080/",
          "height": 51
        },
        "outputId": "2e4fc077-1ece-48fb-853e-fc41d94b3985"
      },
      "source": [
        "import nltk\n",
        "from nltk.corpus import stopwords\n",
        "nltk.download('stopwords')\n",
        "stop_words = set(stopwords.words('english'))"
      ],
      "execution_count": null,
      "outputs": [
        {
          "output_type": "stream",
          "text": [
            "[nltk_data] Downloading package stopwords to /root/nltk_data...\n",
            "[nltk_data]   Package stopwords is already up-to-date!\n"
          ],
          "name": "stdout"
        }
      ]
    },
    {
      "cell_type": "code",
      "metadata": {
        "id": "r4F49W-pyJI7"
      },
      "source": [
        "def tokenize(line):\n",
        "  tokenized = line.tokenize(\"\\\\W+\")\n",
        "  tokenized = tokenized.tolower()\n",
        "  tokenized = tokenized[(tokenized.nchar() >= 2) | (tokenized.isna()),:]\n",
        "  tokenized_filter = tokenized[(tokenized.isna()) | (~ tokenized.isin(stop_words)),:]\n",
        "  return tokenized_filter"
      ],
      "execution_count": null,
      "outputs": []
    },
    {
      "cell_type": "code",
      "metadata": {
        "id": "ZzZdLLdiG9j6"
      },
      "source": [
        "words_reviews = tokenize(h2o_df[\"reviews\"])"
      ],
      "execution_count": null,
      "outputs": []
    },
    {
      "cell_type": "code",
      "metadata": {
        "id": "bZA2YY0NWgb5"
      },
      "source": [
        "words_headline = tokenize(h2o_df[\"headline\"])"
      ],
      "execution_count": null,
      "outputs": []
    },
    {
      "cell_type": "code",
      "metadata": {
        "id": "iz_3SU51h2Et",
        "colab": {
          "base_uri": "https://localhost:8080/",
          "height": 250
        },
        "outputId": "ad646962-703b-4240-c116-9222c5f13781"
      },
      "source": [
        "words_reviews.head()"
      ],
      "execution_count": null,
      "outputs": [
        {
          "output_type": "display_data",
          "data": {
            "text/html": [
              "<table>\n",
              "<thead>\n",
              "<tr><th>C1          </th></tr>\n",
              "</thead>\n",
              "<tbody>\n",
              "<tr><td>well        </td></tr>\n",
              "<tr><td>wanted      </td></tr>\n",
              "<tr><td>want        </td></tr>\n",
              "<tr><td>four        </td></tr>\n",
              "<tr><td>section     </td></tr>\n",
              "<tr><td>pad         </td></tr>\n",
              "<tr><td>stiched     </td></tr>\n",
              "<tr><td>compartments</td></tr>\n",
              "<tr><td>rice        </td></tr>\n",
              "<tr><td>br          </td></tr>\n",
              "</tbody>\n",
              "</table>"
            ]
          },
          "metadata": {
            "tags": []
          }
        },
        {
          "output_type": "execute_result",
          "data": {
            "text/plain": [
              ""
            ]
          },
          "metadata": {
            "tags": []
          },
          "execution_count": 14
        }
      ]
    },
    {
      "cell_type": "code",
      "metadata": {
        "id": "0N2rKpvfWS7h",
        "colab": {
          "base_uri": "https://localhost:8080/",
          "height": 182
        },
        "outputId": "7c527a85-72e6-4b8c-9994-6136867ea7f8"
      },
      "source": [
        "words_headline.head()"
      ],
      "execution_count": null,
      "outputs": [
        {
          "output_type": "display_data",
          "data": {
            "text/html": [
              "<table>\n",
              "<thead>\n",
              "<tr><th>C1       </th></tr>\n",
              "</thead>\n",
              "<tbody>\n",
              "<tr><td>wanted   </td></tr>\n",
              "<tr><td>         </td></tr>\n",
              "<tr><td>great    </td></tr>\n",
              "<tr><td>shaver   </td></tr>\n",
              "<tr><td>         </td></tr>\n",
              "<tr><td>must     </td></tr>\n",
              "<tr><td>buy      </td></tr>\n",
              "<tr><td>         </td></tr>\n",
              "<tr><td>recommend</td></tr>\n",
              "<tr><td>         </td></tr>\n",
              "</tbody>\n",
              "</table>"
            ]
          },
          "metadata": {
            "tags": []
          }
        },
        {
          "output_type": "execute_result",
          "data": {
            "text/plain": [
              ""
            ]
          },
          "metadata": {
            "tags": []
          },
          "execution_count": 15
        }
      ]
    },
    {
      "cell_type": "code",
      "metadata": {
        "id": "kUhlPUyzZJjj",
        "colab": {
          "base_uri": "https://localhost:8080/",
          "height": 34
        },
        "outputId": "6066995c-6b03-4e03-c6cf-2ab74613c688"
      },
      "source": [
        "words_reviews.shape"
      ],
      "execution_count": null,
      "outputs": [
        {
          "output_type": "execute_result",
          "data": {
            "text/plain": [
              "(12078, 1)"
            ]
          },
          "metadata": {
            "tags": []
          },
          "execution_count": 16
        }
      ]
    },
    {
      "cell_type": "code",
      "metadata": {
        "id": "WR_X8k8JG5B-"
      },
      "source": [
        "from h2o.estimators.word2vec import H2OWord2vecEstimator\n",
        "from h2o.estimators import H2OGradientBoostingEstimator"
      ],
      "execution_count": null,
      "outputs": []
    },
    {
      "cell_type": "code",
      "metadata": {
        "id": "AAgPN7hdZ3ME"
      },
      "source": [
        "vec_model=h2o.load_model(\"w2v_amazon.model\")"
      ],
      "execution_count": null,
      "outputs": []
    },
    {
      "cell_type": "code",
      "metadata": {
        "id": "sgZyEeLvG47p",
        "colab": {
          "base_uri": "https://localhost:8080/",
          "height": 102
        },
        "outputId": "f9ca67dc-c413-4873-f321-a276a64fe91f"
      },
      "source": [
        "vec_model.find_synonyms(\"shaver\", count = 5)"
      ],
      "execution_count": null,
      "outputs": [
        {
          "output_type": "execute_result",
          "data": {
            "text/plain": [
              "OrderedDict([('norelco', 0.8568194508552551),\n",
              "             ('shavers', 0.8384937047958374),\n",
              "             ('panasonic', 0.8198525309562683),\n",
              "             ('remington', 0.8093435168266296),\n",
              "             ('braun', 0.7870724201202393)])"
            ]
          },
          "metadata": {
            "tags": []
          },
          "execution_count": 19
        }
      ]
    },
    {
      "cell_type": "code",
      "metadata": {
        "id": "PX2yFFJ1xzxo",
        "colab": {
          "base_uri": "https://localhost:8080/",
          "height": 102
        },
        "outputId": "16b541ce-6ab3-4219-bdae-218796588411"
      },
      "source": [
        "vec_model.find_synonyms(\"glasses\", count = 5)"
      ],
      "execution_count": null,
      "outputs": [
        {
          "output_type": "execute_result",
          "data": {
            "text/plain": [
              "OrderedDict([('sunglasses', 0.9062491059303284),\n",
              "             ('readers', 0.8475663661956787),\n",
              "             ('bifocals', 0.8233612775802612),\n",
              "             ('bifocal', 0.8028598427772522),\n",
              "             ('lenses', 0.7912957072257996)])"
            ]
          },
          "metadata": {
            "tags": []
          },
          "execution_count": 20
        }
      ]
    },
    {
      "cell_type": "code",
      "metadata": {
        "id": "GYgnJp7BG40n"
      },
      "source": [
        "review_vecs = vec_model.transform(words_reviews, aggregate_method = \"AVERAGE\")"
      ],
      "execution_count": null,
      "outputs": []
    },
    {
      "cell_type": "code",
      "metadata": {
        "id": "Wj46_hvsfToN"
      },
      "source": [
        "headline_vecs = vec_model.transform(words_headline, aggregate_method = \"AVERAGE\")\n",
        "headline_vecs.names = [\"headline_\" + s for s in headline_vecs.names]"
      ],
      "execution_count": null,
      "outputs": []
    },
    {
      "cell_type": "code",
      "metadata": {
        "id": "t3mnSozFcM5e",
        "colab": {
          "base_uri": "https://localhost:8080/",
          "height": 34
        },
        "outputId": "545a688f-f903-4890-cc45-5d26d7199f5a"
      },
      "source": [
        "review_vecs.shape"
      ],
      "execution_count": null,
      "outputs": [
        {
          "output_type": "execute_result",
          "data": {
            "text/plain": [
              "(400, 100)"
            ]
          },
          "metadata": {
            "tags": []
          },
          "execution_count": 23
        }
      ]
    },
    {
      "cell_type": "code",
      "metadata": {
        "id": "Ma2yfQe6OGFJ",
        "colab": {
          "base_uri": "https://localhost:8080/",
          "height": 270
        },
        "outputId": "a2926397-bad9-4f98-ca6d-db6aa6b79401"
      },
      "source": [
        "review_vecs.head()"
      ],
      "execution_count": null,
      "outputs": [
        {
          "output_type": "display_data",
          "data": {
            "text/html": [
              "<table>\n",
              "<thead>\n",
              "<tr><th style=\"text-align: right;\">        C1</th><th style=\"text-align: right;\">         C2</th><th style=\"text-align: right;\">       C3</th><th style=\"text-align: right;\">        C4</th><th style=\"text-align: right;\">        C5</th><th style=\"text-align: right;\">         C6</th><th style=\"text-align: right;\">       C7</th><th style=\"text-align: right;\">          C8</th><th style=\"text-align: right;\">         C9</th><th style=\"text-align: right;\">       C10</th><th style=\"text-align: right;\">       C11</th><th style=\"text-align: right;\">         C12</th><th style=\"text-align: right;\">      C13</th><th style=\"text-align: right;\">      C14</th><th style=\"text-align: right;\">        C15</th><th style=\"text-align: right;\">       C16</th><th style=\"text-align: right;\">        C17</th><th style=\"text-align: right;\">       C18</th><th style=\"text-align: right;\">        C19</th><th style=\"text-align: right;\">       C20</th><th style=\"text-align: right;\">       C21</th><th style=\"text-align: right;\">       C22</th><th style=\"text-align: right;\">       C23</th><th style=\"text-align: right;\">        C24</th><th style=\"text-align: right;\">        C25</th><th style=\"text-align: right;\">       C26</th><th style=\"text-align: right;\">       C27</th><th style=\"text-align: right;\">       C28</th><th style=\"text-align: right;\">       C29</th><th style=\"text-align: right;\">        C30</th><th style=\"text-align: right;\">        C31</th><th style=\"text-align: right;\">       C32</th><th style=\"text-align: right;\">       C33</th><th style=\"text-align: right;\">        C34</th><th style=\"text-align: right;\">       C35</th><th style=\"text-align: right;\">       C36</th><th style=\"text-align: right;\">        C37</th><th style=\"text-align: right;\">        C38</th><th style=\"text-align: right;\">        C39</th><th style=\"text-align: right;\">        C40</th><th style=\"text-align: right;\">       C41</th><th style=\"text-align: right;\">       C42</th><th style=\"text-align: right;\">       C43</th><th style=\"text-align: right;\">       C44</th><th style=\"text-align: right;\">        C45</th><th style=\"text-align: right;\">      C46</th><th style=\"text-align: right;\">       C47</th><th style=\"text-align: right;\">       C48</th><th style=\"text-align: right;\">        C49</th><th style=\"text-align: right;\">       C50</th><th style=\"text-align: right;\">       C51</th><th style=\"text-align: right;\">        C52</th><th style=\"text-align: right;\">         C53</th><th style=\"text-align: right;\">        C54</th><th style=\"text-align: right;\">       C55</th><th style=\"text-align: right;\">         C56</th><th style=\"text-align: right;\">         C57</th><th style=\"text-align: right;\">        C58</th><th style=\"text-align: right;\">       C59</th><th style=\"text-align: right;\">         C60</th><th style=\"text-align: right;\">        C61</th><th style=\"text-align: right;\">       C62</th><th style=\"text-align: right;\">        C63</th><th style=\"text-align: right;\">        C64</th><th style=\"text-align: right;\">       C65</th><th style=\"text-align: right;\">      C66</th><th style=\"text-align: right;\">         C67</th><th style=\"text-align: right;\">       C68</th><th style=\"text-align: right;\">        C69</th><th style=\"text-align: right;\">       C70</th><th style=\"text-align: right;\">        C71</th><th style=\"text-align: right;\">       C72</th><th style=\"text-align: right;\">        C73</th><th style=\"text-align: right;\">        C74</th><th style=\"text-align: right;\">       C75</th><th style=\"text-align: right;\">      C76</th><th style=\"text-align: right;\">       C77</th><th style=\"text-align: right;\">         C78</th><th style=\"text-align: right;\">        C79</th><th style=\"text-align: right;\">        C80</th><th style=\"text-align: right;\">        C81</th><th style=\"text-align: right;\">       C82</th><th style=\"text-align: right;\">       C83</th><th style=\"text-align: right;\">        C84</th><th style=\"text-align: right;\">        C85</th><th style=\"text-align: right;\">        C86</th><th style=\"text-align: right;\">       C87</th><th style=\"text-align: right;\">       C88</th><th style=\"text-align: right;\">        C89</th><th style=\"text-align: right;\">       C90</th><th style=\"text-align: right;\">        C91</th><th style=\"text-align: right;\">      C92</th><th style=\"text-align: right;\">       C93</th><th style=\"text-align: right;\">       C94</th><th style=\"text-align: right;\">        C95</th><th style=\"text-align: right;\">       C96</th><th style=\"text-align: right;\">       C97</th><th style=\"text-align: right;\">        C98</th><th style=\"text-align: right;\">       C99</th><th style=\"text-align: right;\">       C100</th></tr>\n",
              "</thead>\n",
              "<tbody>\n",
              "<tr><td style=\"text-align: right;\">-0.0235897</td><td style=\"text-align: right;\">-0.0943362 </td><td style=\"text-align: right;\">0.046669 </td><td style=\"text-align: right;\"> 0.053549 </td><td style=\"text-align: right;\"> 0.0380422</td><td style=\"text-align: right;\">-0.139937  </td><td style=\"text-align: right;\">0.021288 </td><td style=\"text-align: right;\">-0.0018613  </td><td style=\"text-align: right;\">-0.0265983 </td><td style=\"text-align: right;\">-0.119492 </td><td style=\"text-align: right;\"> 0.08729  </td><td style=\"text-align: right;\"> 0.00114263 </td><td style=\"text-align: right;\">0.0373686</td><td style=\"text-align: right;\">0.202205 </td><td style=\"text-align: right;\"> 0.00305405</td><td style=\"text-align: right;\">-0.0196112</td><td style=\"text-align: right;\">-0.0140258 </td><td style=\"text-align: right;\"> 0.10855  </td><td style=\"text-align: right;\"> 0.0102075 </td><td style=\"text-align: right;\">-0.0167493</td><td style=\"text-align: right;\"> 0.0502948</td><td style=\"text-align: right;\">-0.0363399</td><td style=\"text-align: right;\">0.103093  </td><td style=\"text-align: right;\">-0.0207926 </td><td style=\"text-align: right;\"> 0.0712902 </td><td style=\"text-align: right;\">-0.0813541</td><td style=\"text-align: right;\"> 0.0219161</td><td style=\"text-align: right;\">-0.113916 </td><td style=\"text-align: right;\">-0.0647198</td><td style=\"text-align: right;\"> 0.0662271 </td><td style=\"text-align: right;\"> 0.0812541 </td><td style=\"text-align: right;\">-0.078073 </td><td style=\"text-align: right;\">0.202079  </td><td style=\"text-align: right;\">-0.0432785 </td><td style=\"text-align: right;\">-0.0472013</td><td style=\"text-align: right;\">-0.13713  </td><td style=\"text-align: right;\"> 0.00165899</td><td style=\"text-align: right;\">-0.0465097 </td><td style=\"text-align: right;\"> 0.0421817 </td><td style=\"text-align: right;\"> 0.0299021 </td><td style=\"text-align: right;\">-0.0364854</td><td style=\"text-align: right;\"> 0.0178728</td><td style=\"text-align: right;\">-0.0931637</td><td style=\"text-align: right;\">0.111829  </td><td style=\"text-align: right;\"> 0.0183157 </td><td style=\"text-align: right;\">-0.232664</td><td style=\"text-align: right;\">-0.160935 </td><td style=\"text-align: right;\">-0.102866 </td><td style=\"text-align: right;\"> 0.031698  </td><td style=\"text-align: right;\">-0.109986 </td><td style=\"text-align: right;\"> 0.0228324</td><td style=\"text-align: right;\"> 0.0353094 </td><td style=\"text-align: right;\">-0.0362298  </td><td style=\"text-align: right;\"> 0.0649579 </td><td style=\"text-align: right;\">-0.0673274</td><td style=\"text-align: right;\"> 0.150522   </td><td style=\"text-align: right;\"> 0.00601622 </td><td style=\"text-align: right;\">-0.103511  </td><td style=\"text-align: right;\"> 0.0119496</td><td style=\"text-align: right;\">-0.0264344  </td><td style=\"text-align: right;\">-0.117245  </td><td style=\"text-align: right;\">-0.0678809</td><td style=\"text-align: right;\"> 0.0203602 </td><td style=\"text-align: right;\">-0.05011   </td><td style=\"text-align: right;\">-0.142943 </td><td style=\"text-align: right;\">0.147465 </td><td style=\"text-align: right;\"> 0.0303812  </td><td style=\"text-align: right;\">-0.039363 </td><td style=\"text-align: right;\">-0.137258  </td><td style=\"text-align: right;\"> 0.0301541</td><td style=\"text-align: right;\">-0.00701128</td><td style=\"text-align: right;\">-0.111155 </td><td style=\"text-align: right;\"> 0.0679442 </td><td style=\"text-align: right;\">-0.00322878</td><td style=\"text-align: right;\">-0.0928846</td><td style=\"text-align: right;\">0.109909 </td><td style=\"text-align: right;\">0.063639  </td><td style=\"text-align: right;\">-0.0634107  </td><td style=\"text-align: right;\">-0.0474844 </td><td style=\"text-align: right;\">-0.0303846 </td><td style=\"text-align: right;\">-0.111998  </td><td style=\"text-align: right;\"> 0.0186737</td><td style=\"text-align: right;\">-0.0497739</td><td style=\"text-align: right;\"> 0.0133188 </td><td style=\"text-align: right;\"> 0.00282824</td><td style=\"text-align: right;\">-0.00119162</td><td style=\"text-align: right;\">-0.065574 </td><td style=\"text-align: right;\">0.167358  </td><td style=\"text-align: right;\">-0.0356407 </td><td style=\"text-align: right;\"> 0.088806 </td><td style=\"text-align: right;\"> 0.0459011 </td><td style=\"text-align: right;\">0.0439339</td><td style=\"text-align: right;\"> 0.089777 </td><td style=\"text-align: right;\">-0.112762 </td><td style=\"text-align: right;\"> 0.0301583 </td><td style=\"text-align: right;\"> 0.114347 </td><td style=\"text-align: right;\">-0.0300916</td><td style=\"text-align: right;\"> 0.0200099 </td><td style=\"text-align: right;\"> 0.075398 </td><td style=\"text-align: right;\">-0.0575511 </td></tr>\n",
              "<tr><td style=\"text-align: right;\">-0.0267184</td><td style=\"text-align: right;\">-0.0746991 </td><td style=\"text-align: right;\">0.123901 </td><td style=\"text-align: right;\"> 0.0717693</td><td style=\"text-align: right;\"> 0.0697752</td><td style=\"text-align: right;\"> 0.00646052</td><td style=\"text-align: right;\">0.150302 </td><td style=\"text-align: right;\">-0.0303922  </td><td style=\"text-align: right;\">-0.164465  </td><td style=\"text-align: right;\">-0.0387784</td><td style=\"text-align: right;\"> 0.107687 </td><td style=\"text-align: right;\"> 0.0480452  </td><td style=\"text-align: right;\">0.102025 </td><td style=\"text-align: right;\">0.0594183</td><td style=\"text-align: right;\">-0.0909733 </td><td style=\"text-align: right;\">-0.115757 </td><td style=\"text-align: right;\"> 0.00452405</td><td style=\"text-align: right;\">-0.168552 </td><td style=\"text-align: right;\">-0.00297653</td><td style=\"text-align: right;\">-0.0746426</td><td style=\"text-align: right;\"> 0.0991129</td><td style=\"text-align: right;\">-0.104631 </td><td style=\"text-align: right;\">0.0818821 </td><td style=\"text-align: right;\">-0.0696691 </td><td style=\"text-align: right;\">-0.124786  </td><td style=\"text-align: right;\">-0.010951 </td><td style=\"text-align: right;\">-0.161381 </td><td style=\"text-align: right;\">-0.134014 </td><td style=\"text-align: right;\">-0.0769209</td><td style=\"text-align: right;\">-0.0534062 </td><td style=\"text-align: right;\"> 0.0368544 </td><td style=\"text-align: right;\">-0.0829076</td><td style=\"text-align: right;\">0.098256  </td><td style=\"text-align: right;\">-0.114007  </td><td style=\"text-align: right;\"> 0.01839  </td><td style=\"text-align: right;\">-0.145667 </td><td style=\"text-align: right;\"> 0.024858  </td><td style=\"text-align: right;\"> 0.0173954 </td><td style=\"text-align: right;\"> 0.151485  </td><td style=\"text-align: right;\">-0.0672344 </td><td style=\"text-align: right;\"> 0.0757432</td><td style=\"text-align: right;\">-0.0689638</td><td style=\"text-align: right;\">-0.0894622</td><td style=\"text-align: right;\">0.05965   </td><td style=\"text-align: right;\">-0.00148573</td><td style=\"text-align: right;\">-0.104524</td><td style=\"text-align: right;\">-0.127871 </td><td style=\"text-align: right;\">-0.24149  </td><td style=\"text-align: right;\">-0.335191  </td><td style=\"text-align: right;\">-0.0740244</td><td style=\"text-align: right;\">-0.0192959</td><td style=\"text-align: right;\"> 0.117943  </td><td style=\"text-align: right;\"> 0.171084   </td><td style=\"text-align: right;\">-0.0296111 </td><td style=\"text-align: right;\">-0.0630847</td><td style=\"text-align: right;\"> 0.208567   </td><td style=\"text-align: right;\">-0.176606   </td><td style=\"text-align: right;\">-0.0302485 </td><td style=\"text-align: right;\"> 0.102223 </td><td style=\"text-align: right;\">-0.0132167  </td><td style=\"text-align: right;\"> 0.00518075</td><td style=\"text-align: right;\">-0.0292731</td><td style=\"text-align: right;\"> 0.032837  </td><td style=\"text-align: right;\"> 0.0925331 </td><td style=\"text-align: right;\">-0.043527 </td><td style=\"text-align: right;\">0.027017 </td><td style=\"text-align: right;\"> 0.0959667  </td><td style=\"text-align: right;\">-0.0885036</td><td style=\"text-align: right;\">-0.0572373 </td><td style=\"text-align: right;\"> 0.0267574</td><td style=\"text-align: right;\">-0.0549759 </td><td style=\"text-align: right;\">-0.251392 </td><td style=\"text-align: right;\">-0.00339734</td><td style=\"text-align: right;\">-0.107033  </td><td style=\"text-align: right;\">-0.0918514</td><td style=\"text-align: right;\">0.0799821</td><td style=\"text-align: right;\">0.203383  </td><td style=\"text-align: right;\"> 0.000393762</td><td style=\"text-align: right;\">-0.169063  </td><td style=\"text-align: right;\"> 0.0293275 </td><td style=\"text-align: right;\">-0.079522  </td><td style=\"text-align: right;\">-0.0141269</td><td style=\"text-align: right;\"> 0.015404 </td><td style=\"text-align: right;\"> 0.0106642 </td><td style=\"text-align: right;\">-0.148993  </td><td style=\"text-align: right;\"> 0.0331611 </td><td style=\"text-align: right;\">-0.164383 </td><td style=\"text-align: right;\">0.185302  </td><td style=\"text-align: right;\">-0.127495  </td><td style=\"text-align: right;\"> 0.103625 </td><td style=\"text-align: right;\">-0.0154834 </td><td style=\"text-align: right;\">0.111045 </td><td style=\"text-align: right;\"> 0.108701 </td><td style=\"text-align: right;\">-0.0866813</td><td style=\"text-align: right;\"> 0.0778119 </td><td style=\"text-align: right;\"> 0.160836 </td><td style=\"text-align: right;\">-0.131799 </td><td style=\"text-align: right;\">-0.0409803 </td><td style=\"text-align: right;\">-0.056843 </td><td style=\"text-align: right;\">-0.0596652 </td></tr>\n",
              "<tr><td style=\"text-align: right;\">-0.0768413</td><td style=\"text-align: right;\"> 0.00284802</td><td style=\"text-align: right;\">0.0312026</td><td style=\"text-align: right;\"> 0.0605578</td><td style=\"text-align: right;\">-0.043233 </td><td style=\"text-align: right;\">-0.168788  </td><td style=\"text-align: right;\">0.0493164</td><td style=\"text-align: right;\"> 0.0826733  </td><td style=\"text-align: right;\">-0.00901266</td><td style=\"text-align: right;\">-0.201767 </td><td style=\"text-align: right;\"> 0.194894 </td><td style=\"text-align: right;\"> 0.070415   </td><td style=\"text-align: right;\">0.0657498</td><td style=\"text-align: right;\">0.234974 </td><td style=\"text-align: right;\">-0.0139757 </td><td style=\"text-align: right;\"> 0.025135 </td><td style=\"text-align: right;\">-0.0869464 </td><td style=\"text-align: right;\"> 0.0346383</td><td style=\"text-align: right;\">-0.0196762 </td><td style=\"text-align: right;\">-0.0311462</td><td style=\"text-align: right;\"> 0.15999  </td><td style=\"text-align: right;\">-0.054409 </td><td style=\"text-align: right;\">0.00983038</td><td style=\"text-align: right;\"> 0.0695471 </td><td style=\"text-align: right;\">-0.0921221 </td><td style=\"text-align: right;\">-0.0651336</td><td style=\"text-align: right;\">-0.0232098</td><td style=\"text-align: right;\">-0.106115 </td><td style=\"text-align: right;\">-0.1366   </td><td style=\"text-align: right;\"> 0.00889823</td><td style=\"text-align: right;\"> 0.139722  </td><td style=\"text-align: right;\"> 0.0146413</td><td style=\"text-align: right;\">0.102205  </td><td style=\"text-align: right;\"> 0.0998881 </td><td style=\"text-align: right;\">-0.0615694</td><td style=\"text-align: right;\">-0.118317 </td><td style=\"text-align: right;\"> 0.0503215 </td><td style=\"text-align: right;\"> 0.0422135 </td><td style=\"text-align: right;\">-0.0250392 </td><td style=\"text-align: right;\"> 0.0173458 </td><td style=\"text-align: right;\">-0.129195 </td><td style=\"text-align: right;\"> 0.0661831</td><td style=\"text-align: right;\">-0.086687 </td><td style=\"text-align: right;\">0.104407  </td><td style=\"text-align: right;\"> 0.055491  </td><td style=\"text-align: right;\">-0.235714</td><td style=\"text-align: right;\">-0.0673975</td><td style=\"text-align: right;\">-0.262413 </td><td style=\"text-align: right;\">-0.0131427 </td><td style=\"text-align: right;\">-0.135862 </td><td style=\"text-align: right;\"> 0.0158965</td><td style=\"text-align: right;\"> 0.0440822 </td><td style=\"text-align: right;\">-0.00436063 </td><td style=\"text-align: right;\"> 0.00899403</td><td style=\"text-align: right;\">-0.11207  </td><td style=\"text-align: right;\">-0.0665095  </td><td style=\"text-align: right;\">-0.0245686  </td><td style=\"text-align: right;\">-0.00584532</td><td style=\"text-align: right;\"> 0.0740078</td><td style=\"text-align: right;\"> 0.0112049  </td><td style=\"text-align: right;\">-0.027098  </td><td style=\"text-align: right;\">-0.0382971</td><td style=\"text-align: right;\"> 0.0756364 </td><td style=\"text-align: right;\">-0.0313333 </td><td style=\"text-align: right;\">-0.0642194</td><td style=\"text-align: right;\">0.0831356</td><td style=\"text-align: right;\"> 0.107589   </td><td style=\"text-align: right;\">-0.143102 </td><td style=\"text-align: right;\">-0.0749767 </td><td style=\"text-align: right;\">-0.0768106</td><td style=\"text-align: right;\"> 0.0116806 </td><td style=\"text-align: right;\">-0.165305 </td><td style=\"text-align: right;\"> 0.0219486 </td><td style=\"text-align: right;\">-0.0579853 </td><td style=\"text-align: right;\">-0.0958086</td><td style=\"text-align: right;\">0.187299 </td><td style=\"text-align: right;\">0.0510425 </td><td style=\"text-align: right;\">-0.0922195  </td><td style=\"text-align: right;\">-0.104481  </td><td style=\"text-align: right;\"> 0.0974122 </td><td style=\"text-align: right;\"> 0.0176744 </td><td style=\"text-align: right;\"> 0.0471574</td><td style=\"text-align: right;\">-0.0241736</td><td style=\"text-align: right;\">-0.0495079 </td><td style=\"text-align: right;\">-0.002561  </td><td style=\"text-align: right;\">-0.0175214 </td><td style=\"text-align: right;\">-0.081512 </td><td style=\"text-align: right;\">0.265825  </td><td style=\"text-align: right;\"> 0.125608  </td><td style=\"text-align: right;\"> 0.0686583</td><td style=\"text-align: right;\"> 0.00247917</td><td style=\"text-align: right;\">0.0764167</td><td style=\"text-align: right;\"> 0.031773 </td><td style=\"text-align: right;\">-0.0858762</td><td style=\"text-align: right;\"> 0.0487125 </td><td style=\"text-align: right;\"> 0.123883 </td><td style=\"text-align: right;\"> 0.0259111</td><td style=\"text-align: right;\">-0.120054  </td><td style=\"text-align: right;\">-0.0352084</td><td style=\"text-align: right;\"> 0.00968651</td></tr>\n",
              "<tr><td style=\"text-align: right;\">-0.0508059</td><td style=\"text-align: right;\">-0.179957  </td><td style=\"text-align: right;\">0.0465442</td><td style=\"text-align: right;\">-0.0204945</td><td style=\"text-align: right;\"> 0.0434519</td><td style=\"text-align: right;\">-0.229655  </td><td style=\"text-align: right;\">0.0908586</td><td style=\"text-align: right;\"> 0.000625516</td><td style=\"text-align: right;\">-0.111307  </td><td style=\"text-align: right;\"> 0.0120808</td><td style=\"text-align: right;\"> 0.213965 </td><td style=\"text-align: right;\">-0.0125967  </td><td style=\"text-align: right;\">0.132672 </td><td style=\"text-align: right;\">0.0849266</td><td style=\"text-align: right;\">-0.0172303 </td><td style=\"text-align: right;\">-0.0642169</td><td style=\"text-align: right;\"> 0.0756674 </td><td style=\"text-align: right;\">-0.013245 </td><td style=\"text-align: right;\"> 0.0708525 </td><td style=\"text-align: right;\">-0.0408262</td><td style=\"text-align: right;\">-0.0564054</td><td style=\"text-align: right;\"> 0.0418056</td><td style=\"text-align: right;\">0.149826  </td><td style=\"text-align: right;\">-0.0921761 </td><td style=\"text-align: right;\"> 0.00479216</td><td style=\"text-align: right;\">-0.0748667</td><td style=\"text-align: right;\"> 0.0406384</td><td style=\"text-align: right;\">-0.211613 </td><td style=\"text-align: right;\">-0.0141081</td><td style=\"text-align: right;\"> 0.104555  </td><td style=\"text-align: right;\">-0.0291484 </td><td style=\"text-align: right;\">-0.0345137</td><td style=\"text-align: right;\">0.111775  </td><td style=\"text-align: right;\">-0.125176  </td><td style=\"text-align: right;\">-0.0756227</td><td style=\"text-align: right;\">-0.203498 </td><td style=\"text-align: right;\">-0.0705912 </td><td style=\"text-align: right;\"> 0.123305  </td><td style=\"text-align: right;\"> 0.0564757 </td><td style=\"text-align: right;\">-0.0483029 </td><td style=\"text-align: right;\"> 0.0108887</td><td style=\"text-align: right;\">-0.0209822</td><td style=\"text-align: right;\">-0.113419 </td><td style=\"text-align: right;\">0.00851502</td><td style=\"text-align: right;\"> 0.0738609 </td><td style=\"text-align: right;\">-0.171261</td><td style=\"text-align: right;\">-0.153512 </td><td style=\"text-align: right;\">-0.291633 </td><td style=\"text-align: right;\">-0.172267  </td><td style=\"text-align: right;\">-0.125886 </td><td style=\"text-align: right;\"> 0.155281 </td><td style=\"text-align: right;\"> 0.0643922 </td><td style=\"text-align: right;\">-0.133959   </td><td style=\"text-align: right;\"> 0.113043  </td><td style=\"text-align: right;\">-0.0698285</td><td style=\"text-align: right;\"> 0.0609271  </td><td style=\"text-align: right;\">-0.0581799  </td><td style=\"text-align: right;\">-0.0883949 </td><td style=\"text-align: right;\"> 0.111958 </td><td style=\"text-align: right;\">-0.0640391  </td><td style=\"text-align: right;\"> 0.0373943 </td><td style=\"text-align: right;\">-0.0242321</td><td style=\"text-align: right;\">-0.00300076</td><td style=\"text-align: right;\">-0.00766995</td><td style=\"text-align: right;\">-0.151293 </td><td style=\"text-align: right;\">0.029027 </td><td style=\"text-align: right;\">-0.000241685</td><td style=\"text-align: right;\">-0.0628195</td><td style=\"text-align: right;\">-0.14541   </td><td style=\"text-align: right;\"> 0.101004 </td><td style=\"text-align: right;\"> 0.0484404 </td><td style=\"text-align: right;\">-0.111839 </td><td style=\"text-align: right;\"> 0.0544999 </td><td style=\"text-align: right;\"> 0.0154685 </td><td style=\"text-align: right;\">-0.12121  </td><td style=\"text-align: right;\">0.0861761</td><td style=\"text-align: right;\">0.106714  </td><td style=\"text-align: right;\"> 0.00450785 </td><td style=\"text-align: right;\">-0.173912  </td><td style=\"text-align: right;\">-0.0618817 </td><td style=\"text-align: right;\">-0.0616228 </td><td style=\"text-align: right;\">-0.0570102</td><td style=\"text-align: right;\">-0.0365563</td><td style=\"text-align: right;\"> 0.0251256 </td><td style=\"text-align: right;\">-0.0331181 </td><td style=\"text-align: right;\"> 0.0916705 </td><td style=\"text-align: right;\">-0.0949907</td><td style=\"text-align: right;\">0.116862  </td><td style=\"text-align: right;\">-0.0161621 </td><td style=\"text-align: right;\">-0.0473812</td><td style=\"text-align: right;\"> 0.116796  </td><td style=\"text-align: right;\">0.09486  </td><td style=\"text-align: right;\"> 0.035186 </td><td style=\"text-align: right;\">-0.0858907</td><td style=\"text-align: right;\">-0.0444638 </td><td style=\"text-align: right;\"> 0.11693  </td><td style=\"text-align: right;\"> 0.0359531</td><td style=\"text-align: right;\"> 0.0683535 </td><td style=\"text-align: right;\">-0.0166391</td><td style=\"text-align: right;\"> 0.0382368 </td></tr>\n",
              "<tr><td style=\"text-align: right;\">-0.0228389</td><td style=\"text-align: right;\">-0.131815  </td><td style=\"text-align: right;\">0.141082 </td><td style=\"text-align: right;\"> 0.0789803</td><td style=\"text-align: right;\"> 0.135667 </td><td style=\"text-align: right;\">-0.134897  </td><td style=\"text-align: right;\">0.0318972</td><td style=\"text-align: right;\">-0.0047235  </td><td style=\"text-align: right;\">-0.018692  </td><td style=\"text-align: right;\">-0.0783329</td><td style=\"text-align: right;\"> 0.0995169</td><td style=\"text-align: right;\"> 0.0913751  </td><td style=\"text-align: right;\">0.0548097</td><td style=\"text-align: right;\">0.130549 </td><td style=\"text-align: right;\">-0.0429272 </td><td style=\"text-align: right;\">-0.0504806</td><td style=\"text-align: right;\"> 0.0844741 </td><td style=\"text-align: right;\"> 0.0605212</td><td style=\"text-align: right;\"> 0.0532834 </td><td style=\"text-align: right;\"> 0.0314128</td><td style=\"text-align: right;\"> 0.0408085</td><td style=\"text-align: right;\"> 0.0532355</td><td style=\"text-align: right;\">0.10714   </td><td style=\"text-align: right;\">-0.103257  </td><td style=\"text-align: right;\"> 0.023596  </td><td style=\"text-align: right;\">-0.129119 </td><td style=\"text-align: right;\"> 0.0478407</td><td style=\"text-align: right;\">-0.173091 </td><td style=\"text-align: right;\">-0.0163422</td><td style=\"text-align: right;\">-0.0208869 </td><td style=\"text-align: right;\"> 0.0943067 </td><td style=\"text-align: right;\">-0.0471055</td><td style=\"text-align: right;\">0.0805139 </td><td style=\"text-align: right;\"> 0.0110875 </td><td style=\"text-align: right;\">-0.0641704</td><td style=\"text-align: right;\">-0.103243 </td><td style=\"text-align: right;\">-0.00177847</td><td style=\"text-align: right;\">-0.0520681 </td><td style=\"text-align: right;\"> 0.00739305</td><td style=\"text-align: right;\">-0.067199  </td><td style=\"text-align: right;\"> 0.0158653</td><td style=\"text-align: right;\">-0.0114496</td><td style=\"text-align: right;\">-0.0719928</td><td style=\"text-align: right;\">0.0884342 </td><td style=\"text-align: right;\"> 0.00288069</td><td style=\"text-align: right;\">-0.172062</td><td style=\"text-align: right;\">-0.0967657</td><td style=\"text-align: right;\">-0.208385 </td><td style=\"text-align: right;\"> 0.00214033</td><td style=\"text-align: right;\">-0.193226 </td><td style=\"text-align: right;\"> 0.0793364</td><td style=\"text-align: right;\">-0.0468765 </td><td style=\"text-align: right;\">-0.0400939  </td><td style=\"text-align: right;\"> 0.0607248 </td><td style=\"text-align: right;\">-0.0843594</td><td style=\"text-align: right;\"> 0.11702    </td><td style=\"text-align: right;\">-0.000972823</td><td style=\"text-align: right;\">-0.036446  </td><td style=\"text-align: right;\"> 0.0750574</td><td style=\"text-align: right;\"> 0.0422674  </td><td style=\"text-align: right;\">-0.0533396 </td><td style=\"text-align: right;\"> 0.0632731</td><td style=\"text-align: right;\"> 0.0212689 </td><td style=\"text-align: right;\">-0.00549187</td><td style=\"text-align: right;\">-0.175897 </td><td style=\"text-align: right;\">0.191816 </td><td style=\"text-align: right;\">-0.0287642  </td><td style=\"text-align: right;\">-0.097273 </td><td style=\"text-align: right;\">-0.0554141 </td><td style=\"text-align: right;\"> 0.142077 </td><td style=\"text-align: right;\">-0.0214166 </td><td style=\"text-align: right;\">-0.0914849</td><td style=\"text-align: right;\"> 0.0278929 </td><td style=\"text-align: right;\">-0.00779445</td><td style=\"text-align: right;\">-0.0570429</td><td style=\"text-align: right;\">0.116048 </td><td style=\"text-align: right;\">0.0783062 </td><td style=\"text-align: right;\">-0.0731302  </td><td style=\"text-align: right;\">-0.0610502 </td><td style=\"text-align: right;\">-0.0110549 </td><td style=\"text-align: right;\">-0.032644  </td><td style=\"text-align: right;\">-0.0560562</td><td style=\"text-align: right;\">-0.030481 </td><td style=\"text-align: right;\">-0.0286669 </td><td style=\"text-align: right;\"> 0.0476156 </td><td style=\"text-align: right;\"> 0.0646207 </td><td style=\"text-align: right;\">-0.152272 </td><td style=\"text-align: right;\">0.186734  </td><td style=\"text-align: right;\">-0.0703163 </td><td style=\"text-align: right;\"> 0.0361843</td><td style=\"text-align: right;\"> 0.129239  </td><td style=\"text-align: right;\">0.101768 </td><td style=\"text-align: right;\">-0.0393285</td><td style=\"text-align: right;\">-0.0496577</td><td style=\"text-align: right;\"> 0.0264927 </td><td style=\"text-align: right;\"> 0.128681 </td><td style=\"text-align: right;\"> 0.0646215</td><td style=\"text-align: right;\">-0.0363397 </td><td style=\"text-align: right;\">-0.0266638</td><td style=\"text-align: right;\">-0.0448113 </td></tr>\n",
              "<tr><td style=\"text-align: right;\">-0.103958 </td><td style=\"text-align: right;\"> 0.0246715 </td><td style=\"text-align: right;\">0.104637 </td><td style=\"text-align: right;\"> 0.136728 </td><td style=\"text-align: right;\">-0.0527419</td><td style=\"text-align: right;\">-0.125735  </td><td style=\"text-align: right;\">0.0446257</td><td style=\"text-align: right;\"> 0.0899141  </td><td style=\"text-align: right;\"> 0.0535102 </td><td style=\"text-align: right;\">-0.298211 </td><td style=\"text-align: right;\">-0.0299088</td><td style=\"text-align: right;\"> 0.0655396  </td><td style=\"text-align: right;\">0.053144 </td><td style=\"text-align: right;\">0.233887 </td><td style=\"text-align: right;\"> 0.131791  </td><td style=\"text-align: right;\">-0.038686 </td><td style=\"text-align: right;\">-0.0336645 </td><td style=\"text-align: right;\">-0.0352968</td><td style=\"text-align: right;\">-0.0692699 </td><td style=\"text-align: right;\"> 0.128119 </td><td style=\"text-align: right;\"> 0.186888 </td><td style=\"text-align: right;\">-0.126841 </td><td style=\"text-align: right;\">0.0360562 </td><td style=\"text-align: right;\">-0.0786863 </td><td style=\"text-align: right;\">-0.0100742 </td><td style=\"text-align: right;\">-0.226524 </td><td style=\"text-align: right;\">-0.0319858</td><td style=\"text-align: right;\">-0.0855118</td><td style=\"text-align: right;\">-0.0954031</td><td style=\"text-align: right;\"> 0.0124681 </td><td style=\"text-align: right;\"> 0.200686  </td><td style=\"text-align: right;\"> 0.0129262</td><td style=\"text-align: right;\">0.0530178 </td><td style=\"text-align: right;\">-0.0982679 </td><td style=\"text-align: right;\">-0.0753735</td><td style=\"text-align: right;\"> 0.0322492</td><td style=\"text-align: right;\"> 0.109313  </td><td style=\"text-align: right;\">-0.210429  </td><td style=\"text-align: right;\"> 0.0238655 </td><td style=\"text-align: right;\"> 0.149939  </td><td style=\"text-align: right;\">-0.236132 </td><td style=\"text-align: right;\"> 0.232538 </td><td style=\"text-align: right;\">-0.262881 </td><td style=\"text-align: right;\">0.0055315 </td><td style=\"text-align: right;\"> 0.0899565 </td><td style=\"text-align: right;\">-0.148142</td><td style=\"text-align: right;\">-0.124736 </td><td style=\"text-align: right;\">-0.0299793</td><td style=\"text-align: right;\">-0.0544908 </td><td style=\"text-align: right;\">-0.0136245</td><td style=\"text-align: right;\"> 0.060934 </td><td style=\"text-align: right;\">-0.0445674 </td><td style=\"text-align: right;\">-0.139697   </td><td style=\"text-align: right;\">-0.167066  </td><td style=\"text-align: right;\">-0.157486 </td><td style=\"text-align: right;\">-0.024183   </td><td style=\"text-align: right;\"> 0.0373952  </td><td style=\"text-align: right;\"> 0.0577682 </td><td style=\"text-align: right;\">-0.231225 </td><td style=\"text-align: right;\">-0.030084   </td><td style=\"text-align: right;\">-0.1273    </td><td style=\"text-align: right;\">-0.0666348</td><td style=\"text-align: right;\"> 0.0328089 </td><td style=\"text-align: right;\">-0.0914826 </td><td style=\"text-align: right;\">-0.101506 </td><td style=\"text-align: right;\">0.173033 </td><td style=\"text-align: right;\">-0.0336281  </td><td style=\"text-align: right;\">-0.198465 </td><td style=\"text-align: right;\">-0.132763  </td><td style=\"text-align: right;\"> 0.103198 </td><td style=\"text-align: right;\">-0.0170816 </td><td style=\"text-align: right;\">-0.13847  </td><td style=\"text-align: right;\">-0.0926769 </td><td style=\"text-align: right;\">-0.386108  </td><td style=\"text-align: right;\">-0.131041 </td><td style=\"text-align: right;\">0.123336 </td><td style=\"text-align: right;\">0.00415483</td><td style=\"text-align: right;\">-0.066941   </td><td style=\"text-align: right;\"> 0.0333945 </td><td style=\"text-align: right;\"> 0.127884  </td><td style=\"text-align: right;\"> 0.0106843 </td><td style=\"text-align: right;\"> 0.0610188</td><td style=\"text-align: right;\">-0.0947612</td><td style=\"text-align: right;\">-0.134449  </td><td style=\"text-align: right;\">-0.0260056 </td><td style=\"text-align: right;\">-0.00570768</td><td style=\"text-align: right;\"> 0.0330579</td><td style=\"text-align: right;\">0.270275  </td><td style=\"text-align: right;\"> 0.0969865 </td><td style=\"text-align: right;\">-0.0159688</td><td style=\"text-align: right;\"> 0.167481  </td><td style=\"text-align: right;\">0.262994 </td><td style=\"text-align: right;\">-0.0274624</td><td style=\"text-align: right;\">-0.074717 </td><td style=\"text-align: right;\"> 0.00597972</td><td style=\"text-align: right;\">-0.0571144</td><td style=\"text-align: right;\"> 0.32916  </td><td style=\"text-align: right;\">-0.15369   </td><td style=\"text-align: right;\">-0.06665  </td><td style=\"text-align: right;\">-0.082426  </td></tr>\n",
              "<tr><td style=\"text-align: right;\">-0.0102079</td><td style=\"text-align: right;\">-0.174355  </td><td style=\"text-align: right;\">0.13239  </td><td style=\"text-align: right;\">-0.0765188</td><td style=\"text-align: right;\"> 0.0472735</td><td style=\"text-align: right;\">-0.105487  </td><td style=\"text-align: right;\">0.073599 </td><td style=\"text-align: right;\">-0.0324331  </td><td style=\"text-align: right;\">-0.0593016 </td><td style=\"text-align: right;\">-0.0297455</td><td style=\"text-align: right;\"> 0.189255 </td><td style=\"text-align: right;\">-0.000250766</td><td style=\"text-align: right;\">0.0819123</td><td style=\"text-align: right;\">0.0446504</td><td style=\"text-align: right;\">-0.0409028 </td><td style=\"text-align: right;\"> 0.0207508</td><td style=\"text-align: right;\"> 0.1231    </td><td style=\"text-align: right;\">-0.104522 </td><td style=\"text-align: right;\">-0.015515  </td><td style=\"text-align: right;\">-0.0875818</td><td style=\"text-align: right;\"> 0.0696746</td><td style=\"text-align: right;\">-0.0477263</td><td style=\"text-align: right;\">0.150219  </td><td style=\"text-align: right;\">-0.0381975 </td><td style=\"text-align: right;\">-0.0381783 </td><td style=\"text-align: right;\">-0.101204 </td><td style=\"text-align: right;\">-0.0389325</td><td style=\"text-align: right;\">-0.088232 </td><td style=\"text-align: right;\">-0.076427 </td><td style=\"text-align: right;\"> 0.0574736 </td><td style=\"text-align: right;\"> 0.00851103</td><td style=\"text-align: right;\">-0.0949047</td><td style=\"text-align: right;\">0.147521  </td><td style=\"text-align: right;\">-0.0924664 </td><td style=\"text-align: right;\"> 0.0534031</td><td style=\"text-align: right;\">-0.212397 </td><td style=\"text-align: right;\">-0.0107201 </td><td style=\"text-align: right;\"> 0.00517381</td><td style=\"text-align: right;\"> 0.0812547 </td><td style=\"text-align: right;\">-0.0624409 </td><td style=\"text-align: right;\"> 0.0935044</td><td style=\"text-align: right;\">-0.0570374</td><td style=\"text-align: right;\">-0.172377 </td><td style=\"text-align: right;\">0.0325237 </td><td style=\"text-align: right;\">-0.0308162 </td><td style=\"text-align: right;\">-0.222197</td><td style=\"text-align: right;\">-0.100495 </td><td style=\"text-align: right;\">-0.155599 </td><td style=\"text-align: right;\">-0.131842  </td><td style=\"text-align: right;\">-0.0602083</td><td style=\"text-align: right;\"> 0.109534 </td><td style=\"text-align: right;\">-0.00807711</td><td style=\"text-align: right;\">-0.00844244 </td><td style=\"text-align: right;\"> 0.0914508 </td><td style=\"text-align: right;\">-0.0422752</td><td style=\"text-align: right;\"> 0.147891   </td><td style=\"text-align: right;\">-0.0707731  </td><td style=\"text-align: right;\">-0.0188394 </td><td style=\"text-align: right;\"> 0.0172557</td><td style=\"text-align: right;\">-0.0882344  </td><td style=\"text-align: right;\">-0.00175295</td><td style=\"text-align: right;\">-0.0324494</td><td style=\"text-align: right;\"> 0.0047491 </td><td style=\"text-align: right;\">-0.0558448 </td><td style=\"text-align: right;\">-0.168922 </td><td style=\"text-align: right;\">0.0733581</td><td style=\"text-align: right;\"> 0.0701635  </td><td style=\"text-align: right;\">-0.0627486</td><td style=\"text-align: right;\">-0.0571372 </td><td style=\"text-align: right;\"> 0.0367327</td><td style=\"text-align: right;\"> 0.0198849 </td><td style=\"text-align: right;\">-0.14418  </td><td style=\"text-align: right;\"> 0.051105  </td><td style=\"text-align: right;\">-0.0721892 </td><td style=\"text-align: right;\">-0.0816024</td><td style=\"text-align: right;\">0.131703 </td><td style=\"text-align: right;\">0.130305  </td><td style=\"text-align: right;\"> 0.00459086 </td><td style=\"text-align: right;\">-0.157827  </td><td style=\"text-align: right;\"> 0.00513616</td><td style=\"text-align: right;\"> 0.00110536</td><td style=\"text-align: right;\">-0.0449715</td><td style=\"text-align: right;\">-0.0228327</td><td style=\"text-align: right;\"> 0.0733215 </td><td style=\"text-align: right;\">-0.125277  </td><td style=\"text-align: right;\"> 0.162653  </td><td style=\"text-align: right;\">-0.105208 </td><td style=\"text-align: right;\">0.127965  </td><td style=\"text-align: right;\">-0.152645  </td><td style=\"text-align: right;\">-0.0689344</td><td style=\"text-align: right;\"> 0.0427925 </td><td style=\"text-align: right;\">0.0847344</td><td style=\"text-align: right;\">-0.0374067</td><td style=\"text-align: right;\">-0.0383587</td><td style=\"text-align: right;\"> 0.0879052 </td><td style=\"text-align: right;\"> 0.0973261</td><td style=\"text-align: right;\">-0.0160715</td><td style=\"text-align: right;\"> 0.0746692 </td><td style=\"text-align: right;\">-0.0780203</td><td style=\"text-align: right;\"> 0.0508608 </td></tr>\n",
              "<tr><td style=\"text-align: right;\">-0.126634 </td><td style=\"text-align: right;\">-0.150581  </td><td style=\"text-align: right;\">0.222672 </td><td style=\"text-align: right;\"> 0.0362672</td><td style=\"text-align: right;\">-0.116375 </td><td style=\"text-align: right;\">-0.128524  </td><td style=\"text-align: right;\">0.108848 </td><td style=\"text-align: right;\"> 0.0392369  </td><td style=\"text-align: right;\"> 0.045771  </td><td style=\"text-align: right;\">-0.1061   </td><td style=\"text-align: right;\"> 0.0930756</td><td style=\"text-align: right;\"> 0.0232225  </td><td style=\"text-align: right;\">0.0519789</td><td style=\"text-align: right;\">0.071308 </td><td style=\"text-align: right;\">-0.00394253</td><td style=\"text-align: right;\"> 0.0113706</td><td style=\"text-align: right;\">-0.0424331 </td><td style=\"text-align: right;\"> 0.102538 </td><td style=\"text-align: right;\">-0.0480812 </td><td style=\"text-align: right;\"> 0.0849737</td><td style=\"text-align: right;\"> 0.131133 </td><td style=\"text-align: right;\">-0.142439 </td><td style=\"text-align: right;\">0.0525017 </td><td style=\"text-align: right;\">-0.0251431 </td><td style=\"text-align: right;\">-0.0640669 </td><td style=\"text-align: right;\">-0.166311 </td><td style=\"text-align: right;\"> 0.0147014</td><td style=\"text-align: right;\">-0.18495  </td><td style=\"text-align: right;\"> 0.072335 </td><td style=\"text-align: right;\"> 0.0298344 </td><td style=\"text-align: right;\"> 0.0644482 </td><td style=\"text-align: right;\"> 0.0225908</td><td style=\"text-align: right;\">0.145774  </td><td style=\"text-align: right;\"> 0.00552318</td><td style=\"text-align: right;\">-0.0540286</td><td style=\"text-align: right;\">-0.059772 </td><td style=\"text-align: right;\">-0.0135391 </td><td style=\"text-align: right;\">-0.0176909 </td><td style=\"text-align: right;\">-0.0321189 </td><td style=\"text-align: right;\">-0.00136978</td><td style=\"text-align: right;\">-0.161053 </td><td style=\"text-align: right;\"> 0.15096  </td><td style=\"text-align: right;\">-0.156886 </td><td style=\"text-align: right;\">0.144108  </td><td style=\"text-align: right;\"> 0.0439352 </td><td style=\"text-align: right;\">-0.242178</td><td style=\"text-align: right;\">-0.124743 </td><td style=\"text-align: right;\">-0.0651526</td><td style=\"text-align: right;\">-0.0590303 </td><td style=\"text-align: right;\">-0.085539 </td><td style=\"text-align: right;\"> 0.0670123</td><td style=\"text-align: right;\"> 0.00672219</td><td style=\"text-align: right;\"> 0.000323964</td><td style=\"text-align: right;\">-0.105693  </td><td style=\"text-align: right;\">-0.138233 </td><td style=\"text-align: right;\"> 0.162009   </td><td style=\"text-align: right;\"> 0.0246167  </td><td style=\"text-align: right;\"> 0.0275401 </td><td style=\"text-align: right;\"> 0.123904 </td><td style=\"text-align: right;\">-0.000272649</td><td style=\"text-align: right;\">-0.0197524 </td><td style=\"text-align: right;\">-0.110897 </td><td style=\"text-align: right;\"> 0.0992052 </td><td style=\"text-align: right;\">-0.0155822 </td><td style=\"text-align: right;\">-0.148825 </td><td style=\"text-align: right;\">0.17882  </td><td style=\"text-align: right;\"> 0.0233551  </td><td style=\"text-align: right;\">-0.074399 </td><td style=\"text-align: right;\">-0.0769924 </td><td style=\"text-align: right;\"> 0.0176033</td><td style=\"text-align: right;\"> 0.104732  </td><td style=\"text-align: right;\">-0.0808459</td><td style=\"text-align: right;\"> 0.0068474 </td><td style=\"text-align: right;\">-0.176878  </td><td style=\"text-align: right;\">-0.229628 </td><td style=\"text-align: right;\">0.0206939</td><td style=\"text-align: right;\">0.0417861 </td><td style=\"text-align: right;\">-0.00352644 </td><td style=\"text-align: right;\">-0.0453708 </td><td style=\"text-align: right;\"> 0.0663497 </td><td style=\"text-align: right;\"> 0.0217311 </td><td style=\"text-align: right;\">-0.0897501</td><td style=\"text-align: right;\">-0.0533725</td><td style=\"text-align: right;\"> 0.00104248</td><td style=\"text-align: right;\"> 0.0189143 </td><td style=\"text-align: right;\"> 0.0135699 </td><td style=\"text-align: right;\">-0.0488127</td><td style=\"text-align: right;\">0.0935674 </td><td style=\"text-align: right;\"> 0.0233268 </td><td style=\"text-align: right;\"> 0.0437401</td><td style=\"text-align: right;\"> 0.151067  </td><td style=\"text-align: right;\">0.124871 </td><td style=\"text-align: right;\"> 0.0350663</td><td style=\"text-align: right;\">-0.0318941</td><td style=\"text-align: right;\">-0.0830452 </td><td style=\"text-align: right;\"> 0.15148  </td><td style=\"text-align: right;\"> 0.12053  </td><td style=\"text-align: right;\"> 0.0108945 </td><td style=\"text-align: right;\">-0.0106975</td><td style=\"text-align: right;\"> 0.0286486 </td></tr>\n",
              "<tr><td style=\"text-align: right;\">-0.0566321</td><td style=\"text-align: right;\">-0.090546  </td><td style=\"text-align: right;\">0.0914259</td><td style=\"text-align: right;\"> 0.0199555</td><td style=\"text-align: right;\">-0.0260834</td><td style=\"text-align: right;\">-0.182078  </td><td style=\"text-align: right;\">0.0797223</td><td style=\"text-align: right;\"> 0.0069294  </td><td style=\"text-align: right;\"> 0.0183255 </td><td style=\"text-align: right;\">-0.0460996</td><td style=\"text-align: right;\"> 0.217511 </td><td style=\"text-align: right;\"> 0.0622781  </td><td style=\"text-align: right;\">0.0234803</td><td style=\"text-align: right;\">0.150529 </td><td style=\"text-align: right;\">-0.00262428</td><td style=\"text-align: right;\"> 0.0336981</td><td style=\"text-align: right;\"> 0.0324255 </td><td style=\"text-align: right;\"> 0.176663 </td><td style=\"text-align: right;\">-0.0113669 </td><td style=\"text-align: right;\"> 0.067523 </td><td style=\"text-align: right;\"> 0.127596 </td><td style=\"text-align: right;\"> 0.0205114</td><td style=\"text-align: right;\">0.0781674 </td><td style=\"text-align: right;\"> 0.00964633</td><td style=\"text-align: right;\">-0.0304518 </td><td style=\"text-align: right;\">-0.0860834</td><td style=\"text-align: right;\">-0.0189661</td><td style=\"text-align: right;\">-0.114252 </td><td style=\"text-align: right;\">-0.048565 </td><td style=\"text-align: right;\">-0.0248027 </td><td style=\"text-align: right;\"> 0.115179  </td><td style=\"text-align: right;\">-0.0621558</td><td style=\"text-align: right;\">0.190369  </td><td style=\"text-align: right;\"> 0.0161164 </td><td style=\"text-align: right;\">-0.0334379</td><td style=\"text-align: right;\">-0.105888 </td><td style=\"text-align: right;\"> 0.0535358 </td><td style=\"text-align: right;\">-0.0173838 </td><td style=\"text-align: right;\">-0.0247102 </td><td style=\"text-align: right;\">-0.00195068</td><td style=\"text-align: right;\">-0.0934781</td><td style=\"text-align: right;\">-0.0380178</td><td style=\"text-align: right;\">-0.0217052</td><td style=\"text-align: right;\">0.109127  </td><td style=\"text-align: right;\">-0.0169697 </td><td style=\"text-align: right;\">-0.229993</td><td style=\"text-align: right;\">-0.13357  </td><td style=\"text-align: right;\">-0.157235 </td><td style=\"text-align: right;\">-0.0361424 </td><td style=\"text-align: right;\">-0.0871863</td><td style=\"text-align: right;\"> 0.0635069</td><td style=\"text-align: right;\"> 0.0457169 </td><td style=\"text-align: right;\">-0.0355841  </td><td style=\"text-align: right;\"> 0.100787  </td><td style=\"text-align: right;\">-0.106062 </td><td style=\"text-align: right;\"> 0.051863   </td><td style=\"text-align: right;\">-0.0465297  </td><td style=\"text-align: right;\">-0.055914  </td><td style=\"text-align: right;\"> 0.079005 </td><td style=\"text-align: right;\"> 0.0544026  </td><td style=\"text-align: right;\"> 0.0065703 </td><td style=\"text-align: right;\">-0.0125554</td><td style=\"text-align: right;\"> 0.0261873 </td><td style=\"text-align: right;\">-0.0174502 </td><td style=\"text-align: right;\">-0.181722 </td><td style=\"text-align: right;\">0.069826 </td><td style=\"text-align: right;\">-0.111454   </td><td style=\"text-align: right;\">-0.14516  </td><td style=\"text-align: right;\">-0.110826  </td><td style=\"text-align: right;\"> 0.039091 </td><td style=\"text-align: right;\"> 0.0728421 </td><td style=\"text-align: right;\">-0.104547 </td><td style=\"text-align: right;\"> 0.138125  </td><td style=\"text-align: right;\">-0.0392605 </td><td style=\"text-align: right;\">-0.11734  </td><td style=\"text-align: right;\">0.0268829</td><td style=\"text-align: right;\">0.0134609 </td><td style=\"text-align: right;\">-0.0631735  </td><td style=\"text-align: right;\"> 0.00394354</td><td style=\"text-align: right;\"> 0.0687064 </td><td style=\"text-align: right;\">-0.1479    </td><td style=\"text-align: right;\">-0.0121632</td><td style=\"text-align: right;\"> 0.0176738</td><td style=\"text-align: right;\">-0.0886666 </td><td style=\"text-align: right;\"> 0.0143456 </td><td style=\"text-align: right;\"> 0.0755658 </td><td style=\"text-align: right;\">-0.106631 </td><td style=\"text-align: right;\">0.118705  </td><td style=\"text-align: right;\">-0.00904431</td><td style=\"text-align: right;\"> 0.0262396</td><td style=\"text-align: right;\"> 0.0196873 </td><td style=\"text-align: right;\">0.145105 </td><td style=\"text-align: right;\"> 0.0436352</td><td style=\"text-align: right;\">-0.116981 </td><td style=\"text-align: right;\"> 0.113653  </td><td style=\"text-align: right;\"> 0.165536 </td><td style=\"text-align: right;\">-0.103057 </td><td style=\"text-align: right;\">-0.00171762</td><td style=\"text-align: right;\"> 0.0846104</td><td style=\"text-align: right;\"> 0.0367119 </td></tr>\n",
              "<tr><td style=\"text-align: right;\">-0.143759 </td><td style=\"text-align: right;\"> 0.0529768 </td><td style=\"text-align: right;\">0.102906 </td><td style=\"text-align: right;\"> 0.0464705</td><td style=\"text-align: right;\">-0.0312126</td><td style=\"text-align: right;\">-0.0926688 </td><td style=\"text-align: right;\">0.135934 </td><td style=\"text-align: right;\"> 0.010102   </td><td style=\"text-align: right;\"> 0.0603713 </td><td style=\"text-align: right;\">-0.149053 </td><td style=\"text-align: right;\"> 0.230424 </td><td style=\"text-align: right;\"> 0.104357   </td><td style=\"text-align: right;\">0.0747042</td><td style=\"text-align: right;\">0.166791 </td><td style=\"text-align: right;\">-0.0504079 </td><td style=\"text-align: right;\">-0.0534689</td><td style=\"text-align: right;\"> 0.0453338 </td><td style=\"text-align: right;\"> 0.0888527</td><td style=\"text-align: right;\">-0.00491774</td><td style=\"text-align: right;\"> 0.0151597</td><td style=\"text-align: right;\"> 0.130208 </td><td style=\"text-align: right;\">-0.117552 </td><td style=\"text-align: right;\">0.0224191 </td><td style=\"text-align: right;\">-0.0606318 </td><td style=\"text-align: right;\">-0.0817811 </td><td style=\"text-align: right;\">-0.0467043</td><td style=\"text-align: right;\"> 0.0683077</td><td style=\"text-align: right;\">-0.151013 </td><td style=\"text-align: right;\">-0.0927713</td><td style=\"text-align: right;\">-0.0167607 </td><td style=\"text-align: right;\"> 0.145369  </td><td style=\"text-align: right;\"> 0.0208631</td><td style=\"text-align: right;\">0.00865727</td><td style=\"text-align: right;\">-0.00702747</td><td style=\"text-align: right;\">-0.0532124</td><td style=\"text-align: right;\">-0.142322 </td><td style=\"text-align: right;\">-0.0257578 </td><td style=\"text-align: right;\">-0.08849   </td><td style=\"text-align: right;\">-0.0482725 </td><td style=\"text-align: right;\"> 0.0370923 </td><td style=\"text-align: right;\"> 0.021449 </td><td style=\"text-align: right;\">-0.0336243</td><td style=\"text-align: right;\">-0.134754 </td><td style=\"text-align: right;\">0.0571996 </td><td style=\"text-align: right;\"> 0.0346701 </td><td style=\"text-align: right;\">-0.184499</td><td style=\"text-align: right;\">-0.0689742</td><td style=\"text-align: right;\">-0.0836962</td><td style=\"text-align: right;\">-0.0679726 </td><td style=\"text-align: right;\">-0.171366 </td><td style=\"text-align: right;\"> 0.0140479</td><td style=\"text-align: right;\"> 0.169478  </td><td style=\"text-align: right;\"> 0.0700952  </td><td style=\"text-align: right;\">-0.0459432 </td><td style=\"text-align: right;\">-0.114227 </td><td style=\"text-align: right;\">-0.000221548</td><td style=\"text-align: right;\"> 3.6481e-05 </td><td style=\"text-align: right;\">-0.0512563 </td><td style=\"text-align: right;\">-0.11114  </td><td style=\"text-align: right;\">-0.0360579  </td><td style=\"text-align: right;\">-0.0552281 </td><td style=\"text-align: right;\">-0.139165 </td><td style=\"text-align: right;\"> 0.00945819</td><td style=\"text-align: right;\">-0.0970031 </td><td style=\"text-align: right;\">-0.0901995</td><td style=\"text-align: right;\">0.152301 </td><td style=\"text-align: right;\"> 0.04826    </td><td style=\"text-align: right;\">-0.0714238</td><td style=\"text-align: right;\">-0.00700867</td><td style=\"text-align: right;\">-0.006204 </td><td style=\"text-align: right;\"> 0.0371097 </td><td style=\"text-align: right;\">-0.10302  </td><td style=\"text-align: right;\"> 0.136376  </td><td style=\"text-align: right;\">-0.071989  </td><td style=\"text-align: right;\">-0.135399 </td><td style=\"text-align: right;\">0.190457 </td><td style=\"text-align: right;\">0.142756  </td><td style=\"text-align: right;\">-0.0237353  </td><td style=\"text-align: right;\">-0.105542  </td><td style=\"text-align: right;\"> 0.0943919 </td><td style=\"text-align: right;\">-0.0353354 </td><td style=\"text-align: right;\"> 0.0137056</td><td style=\"text-align: right;\">-0.0190823</td><td style=\"text-align: right;\">-0.0151532 </td><td style=\"text-align: right;\">-0.0493085 </td><td style=\"text-align: right;\"> 0.0979995 </td><td style=\"text-align: right;\">-0.130571 </td><td style=\"text-align: right;\">0.00208519</td><td style=\"text-align: right;\"> 0.0481964 </td><td style=\"text-align: right;\"> 0.0548373</td><td style=\"text-align: right;\"> 0.158927  </td><td style=\"text-align: right;\">0.121337 </td><td style=\"text-align: right;\"> 0.0589428</td><td style=\"text-align: right;\">-0.0179856</td><td style=\"text-align: right;\"> 0.0967121 </td><td style=\"text-align: right;\"> 0.112197 </td><td style=\"text-align: right;\">-0.0235303</td><td style=\"text-align: right;\">-0.110939  </td><td style=\"text-align: right;\">-0.0805611</td><td style=\"text-align: right;\"> 0.0693611 </td></tr>\n",
              "</tbody>\n",
              "</table>"
            ]
          },
          "metadata": {
            "tags": []
          }
        },
        {
          "output_type": "execute_result",
          "data": {
            "text/plain": [
              ""
            ]
          },
          "metadata": {
            "tags": []
          },
          "execution_count": 24
        }
      ]
    },
    {
      "cell_type": "code",
      "metadata": {
        "id": "nfm5ZwG-fYvJ",
        "colab": {
          "base_uri": "https://localhost:8080/",
          "height": 270
        },
        "outputId": "e9a45f42-ab36-43ac-a901-278691a4e3b6"
      },
      "source": [
        "headline_vecs.head()"
      ],
      "execution_count": null,
      "outputs": [
        {
          "output_type": "display_data",
          "data": {
            "text/html": [
              "<table>\n",
              "<thead>\n",
              "<tr><th style=\"text-align: right;\">  headline_C1</th><th style=\"text-align: right;\">  headline_C2</th><th style=\"text-align: right;\">  headline_C3</th><th style=\"text-align: right;\">  headline_C4</th><th style=\"text-align: right;\">  headline_C5</th><th style=\"text-align: right;\">  headline_C6</th><th style=\"text-align: right;\">  headline_C7</th><th style=\"text-align: right;\">  headline_C8</th><th style=\"text-align: right;\">  headline_C9</th><th style=\"text-align: right;\">  headline_C10</th><th style=\"text-align: right;\">  headline_C11</th><th style=\"text-align: right;\">  headline_C12</th><th style=\"text-align: right;\">  headline_C13</th><th style=\"text-align: right;\">  headline_C14</th><th style=\"text-align: right;\">  headline_C15</th><th style=\"text-align: right;\">  headline_C16</th><th style=\"text-align: right;\">  headline_C17</th><th style=\"text-align: right;\">  headline_C18</th><th style=\"text-align: right;\">  headline_C19</th><th style=\"text-align: right;\">  headline_C20</th><th style=\"text-align: right;\">  headline_C21</th><th style=\"text-align: right;\">  headline_C22</th><th style=\"text-align: right;\">  headline_C23</th><th style=\"text-align: right;\">  headline_C24</th><th style=\"text-align: right;\">  headline_C25</th><th style=\"text-align: right;\">  headline_C26</th><th style=\"text-align: right;\">  headline_C27</th><th style=\"text-align: right;\">  headline_C28</th><th style=\"text-align: right;\">  headline_C29</th><th style=\"text-align: right;\">  headline_C30</th><th style=\"text-align: right;\">  headline_C31</th><th style=\"text-align: right;\">  headline_C32</th><th style=\"text-align: right;\">  headline_C33</th><th style=\"text-align: right;\">  headline_C34</th><th style=\"text-align: right;\">  headline_C35</th><th style=\"text-align: right;\">  headline_C36</th><th style=\"text-align: right;\">  headline_C37</th><th style=\"text-align: right;\">  headline_C38</th><th style=\"text-align: right;\">  headline_C39</th><th style=\"text-align: right;\">  headline_C40</th><th style=\"text-align: right;\">  headline_C41</th><th style=\"text-align: right;\">  headline_C42</th><th style=\"text-align: right;\">  headline_C43</th><th style=\"text-align: right;\">  headline_C44</th><th style=\"text-align: right;\">  headline_C45</th><th style=\"text-align: right;\">  headline_C46</th><th style=\"text-align: right;\">  headline_C47</th><th style=\"text-align: right;\">  headline_C48</th><th style=\"text-align: right;\">  headline_C49</th><th style=\"text-align: right;\">  headline_C50</th><th style=\"text-align: right;\">  headline_C51</th><th style=\"text-align: right;\">  headline_C52</th><th style=\"text-align: right;\">  headline_C53</th><th style=\"text-align: right;\">  headline_C54</th><th style=\"text-align: right;\">  headline_C55</th><th style=\"text-align: right;\">  headline_C56</th><th style=\"text-align: right;\">  headline_C57</th><th style=\"text-align: right;\">  headline_C58</th><th style=\"text-align: right;\">  headline_C59</th><th style=\"text-align: right;\">  headline_C60</th><th style=\"text-align: right;\">  headline_C61</th><th style=\"text-align: right;\">  headline_C62</th><th style=\"text-align: right;\">  headline_C63</th><th style=\"text-align: right;\">  headline_C64</th><th style=\"text-align: right;\">  headline_C65</th><th style=\"text-align: right;\">  headline_C66</th><th style=\"text-align: right;\">  headline_C67</th><th style=\"text-align: right;\">  headline_C68</th><th style=\"text-align: right;\">  headline_C69</th><th style=\"text-align: right;\">  headline_C70</th><th style=\"text-align: right;\">  headline_C71</th><th style=\"text-align: right;\">  headline_C72</th><th style=\"text-align: right;\">  headline_C73</th><th style=\"text-align: right;\">  headline_C74</th><th style=\"text-align: right;\">  headline_C75</th><th style=\"text-align: right;\">  headline_C76</th><th style=\"text-align: right;\">  headline_C77</th><th style=\"text-align: right;\">  headline_C78</th><th style=\"text-align: right;\">  headline_C79</th><th style=\"text-align: right;\">  headline_C80</th><th style=\"text-align: right;\">  headline_C81</th><th style=\"text-align: right;\">  headline_C82</th><th style=\"text-align: right;\">  headline_C83</th><th style=\"text-align: right;\">  headline_C84</th><th style=\"text-align: right;\">  headline_C85</th><th style=\"text-align: right;\">  headline_C86</th><th style=\"text-align: right;\">  headline_C87</th><th style=\"text-align: right;\">  headline_C88</th><th style=\"text-align: right;\">  headline_C89</th><th style=\"text-align: right;\">  headline_C90</th><th style=\"text-align: right;\">  headline_C91</th><th style=\"text-align: right;\">  headline_C92</th><th style=\"text-align: right;\">  headline_C93</th><th style=\"text-align: right;\">  headline_C94</th><th style=\"text-align: right;\">  headline_C95</th><th style=\"text-align: right;\">  headline_C96</th><th style=\"text-align: right;\">  headline_C97</th><th style=\"text-align: right;\">  headline_C98</th><th style=\"text-align: right;\">  headline_C99</th><th style=\"text-align: right;\">  headline_C100</th></tr>\n",
              "</thead>\n",
              "<tbody>\n",
              "<tr><td style=\"text-align: right;\">    0.0726135</td><td style=\"text-align: right;\">    0.056742 </td><td style=\"text-align: right;\">   0.282203  </td><td style=\"text-align: right;\">    0.0819901</td><td style=\"text-align: right;\">  -0.111938  </td><td style=\"text-align: right;\"> -0.180313   </td><td style=\"text-align: right;\">    0.22109  </td><td style=\"text-align: right;\">   -0.107876 </td><td style=\"text-align: right;\">   -0.068493 </td><td style=\"text-align: right;\">   -0.204538  </td><td style=\"text-align: right;\">      0.215011</td><td style=\"text-align: right;\">    0.00804753</td><td style=\"text-align: right;\">     0.0978605</td><td style=\"text-align: right;\">      0.04644 </td><td style=\"text-align: right;\">    -0.196952 </td><td style=\"text-align: right;\">    0.0841733 </td><td style=\"text-align: right;\">    0.106753  </td><td style=\"text-align: right;\">    0.157678  </td><td style=\"text-align: right;\">     0.160982 </td><td style=\"text-align: right;\">     0.0258853</td><td style=\"text-align: right;\">   -0.0262195 </td><td style=\"text-align: right;\">     0.119951 </td><td style=\"text-align: right;\">     0.0616987</td><td style=\"text-align: right;\">    -0.0881329</td><td style=\"text-align: right;\">   -0.0475629 </td><td style=\"text-align: right;\">    -0.220645 </td><td style=\"text-align: right;\">   0.109434   </td><td style=\"text-align: right;\">   -0.187359  </td><td style=\"text-align: right;\">    -0.133566 </td><td style=\"text-align: right;\">    -0.0468173</td><td style=\"text-align: right;\">   -0.434771  </td><td style=\"text-align: right;\">   -0.199745  </td><td style=\"text-align: right;\">     0.0825976</td><td style=\"text-align: right;\">    -0.122619 </td><td style=\"text-align: right;\">  -0.120492   </td><td style=\"text-align: right;\">    -0.36106  </td><td style=\"text-align: right;\">     0.145381 </td><td style=\"text-align: right;\">   -0.138524  </td><td style=\"text-align: right;\">     0.0326654</td><td style=\"text-align: right;\">   -0.194585  </td><td style=\"text-align: right;\">    -0.0845406</td><td style=\"text-align: right;\">    0.154027  </td><td style=\"text-align: right;\">   -0.118049  </td><td style=\"text-align: right;\">     0.322915 </td><td style=\"text-align: right;\">    -0.314898 </td><td style=\"text-align: right;\">    -0.156482 </td><td style=\"text-align: right;\">    -0.202879 </td><td style=\"text-align: right;\">    -0.223518 </td><td style=\"text-align: right;\">   -0.0209619 </td><td style=\"text-align: right;\">    -0.351745 </td><td style=\"text-align: right;\">    -0.0591792</td><td style=\"text-align: right;\">   -0.110311  </td><td style=\"text-align: right;\">   0.18009    </td><td style=\"text-align: right;\">    -0.0769079</td><td style=\"text-align: right;\">     0.0337221</td><td style=\"text-align: right;\">     0.239004 </td><td style=\"text-align: right;\">    0.0514296 </td><td style=\"text-align: right;\">     0.184325 </td><td style=\"text-align: right;\">     0.163954 </td><td style=\"text-align: right;\">     0.0971651</td><td style=\"text-align: right;\">    -0.190798 </td><td style=\"text-align: right;\">    0.0529597 </td><td style=\"text-align: right;\">    0.0219213 </td><td style=\"text-align: right;\">   -0.0317424 </td><td style=\"text-align: right;\">    -0.047158 </td><td style=\"text-align: right;\">     0.208096 </td><td style=\"text-align: right;\">     0.111037 </td><td style=\"text-align: right;\">    0.138568  </td><td style=\"text-align: right;\">     0.104363 </td><td style=\"text-align: right;\">   -0.0436805 </td><td style=\"text-align: right;\">    0.0888569 </td><td style=\"text-align: right;\">    -0.0963954</td><td style=\"text-align: right;\">     0.0636771</td><td style=\"text-align: right;\">   -0.064947  </td><td style=\"text-align: right;\">    -0.224414 </td><td style=\"text-align: right;\">     0.203691 </td><td style=\"text-align: right;\">     0.152897 </td><td style=\"text-align: right;\">     0.0749412</td><td style=\"text-align: right;\">    -0.148309 </td><td style=\"text-align: right;\">   -0.00872165</td><td style=\"text-align: right;\">     0.0916642</td><td style=\"text-align: right;\">     0.0440057</td><td style=\"text-align: right;\">   0.0100677  </td><td style=\"text-align: right;\">    -0.022729 </td><td style=\"text-align: right;\">    -0.0461798</td><td style=\"text-align: right;\">    0.0204408 </td><td style=\"text-align: right;\">   -0.168099  </td><td style=\"text-align: right;\">    -0.045887 </td><td style=\"text-align: right;\">     0.106997 </td><td style=\"text-align: right;\">    0.00278854</td><td style=\"text-align: right;\">     0.150904 </td><td style=\"text-align: right;\">   -0.00649837</td><td style=\"text-align: right;\">    0.169957  </td><td style=\"text-align: right;\">    0.051302  </td><td style=\"text-align: right;\">     0.109997 </td><td style=\"text-align: right;\">   0.0890683  </td><td style=\"text-align: right;\">     0.0250953</td><td style=\"text-align: right;\">   -0.0218414 </td><td style=\"text-align: right;\">    -0.113402 </td><td style=\"text-align: right;\">     0.175541  </td></tr>\n",
              "<tr><td style=\"text-align: right;\">    0.0985717</td><td style=\"text-align: right;\">    0.0194392</td><td style=\"text-align: right;\">   0.18109   </td><td style=\"text-align: right;\">    0.173646 </td><td style=\"text-align: right;\">   0.0331039 </td><td style=\"text-align: right;\">  0.0877985  </td><td style=\"text-align: right;\">    0.0554573</td><td style=\"text-align: right;\">   -0.070928 </td><td style=\"text-align: right;\">   -0.0748239</td><td style=\"text-align: right;\">   -0.241862  </td><td style=\"text-align: right;\">      0.141667</td><td style=\"text-align: right;\">    0.144358  </td><td style=\"text-align: right;\">     0.170589 </td><td style=\"text-align: right;\">      0.186124</td><td style=\"text-align: right;\">    -0.18822  </td><td style=\"text-align: right;\">   -0.128433  </td><td style=\"text-align: right;\">   -0.153397  </td><td style=\"text-align: right;\">   -0.161563  </td><td style=\"text-align: right;\">     0.0677961</td><td style=\"text-align: right;\">     0.0946356</td><td style=\"text-align: right;\">    0.0876714 </td><td style=\"text-align: right;\">    -0.179229 </td><td style=\"text-align: right;\">     0.119269 </td><td style=\"text-align: right;\">    -0.0532511</td><td style=\"text-align: right;\">   -0.233716  </td><td style=\"text-align: right;\">     0.149478 </td><td style=\"text-align: right;\">  -0.0920871  </td><td style=\"text-align: right;\">   -0.231393  </td><td style=\"text-align: right;\">    -0.0934427</td><td style=\"text-align: right;\">     0.127727 </td><td style=\"text-align: right;\">    0.215613  </td><td style=\"text-align: right;\">    0.0383523 </td><td style=\"text-align: right;\">    -0.0225205</td><td style=\"text-align: right;\">    -0.0896057</td><td style=\"text-align: right;\">  -0.000653461</td><td style=\"text-align: right;\">    -0.0712041</td><td style=\"text-align: right;\">     0.214335 </td><td style=\"text-align: right;\">    0.0788042 </td><td style=\"text-align: right;\">     0.0236887</td><td style=\"text-align: right;\">   -0.0370189 </td><td style=\"text-align: right;\">     0.141233 </td><td style=\"text-align: right;\">   -0.186139  </td><td style=\"text-align: right;\">   -0.167688  </td><td style=\"text-align: right;\">    -0.0891657</td><td style=\"text-align: right;\">     0.0536717</td><td style=\"text-align: right;\">     0.0486113</td><td style=\"text-align: right;\">    -0.194752 </td><td style=\"text-align: right;\">    -0.122356 </td><td style=\"text-align: right;\">   -0.277635  </td><td style=\"text-align: right;\">     0.0259294</td><td style=\"text-align: right;\">    -0.0437909</td><td style=\"text-align: right;\">   -0.0673151 </td><td style=\"text-align: right;\">   0.170054   </td><td style=\"text-align: right;\">     0.0579058</td><td style=\"text-align: right;\">     0.0692458</td><td style=\"text-align: right;\">     0.176816 </td><td style=\"text-align: right;\">   -0.147954  </td><td style=\"text-align: right;\">    -0.0855075</td><td style=\"text-align: right;\">     0.0863328</td><td style=\"text-align: right;\">     0.076117 </td><td style=\"text-align: right;\">     0.154213 </td><td style=\"text-align: right;\">   -0.177812  </td><td style=\"text-align: right;\">    0.113501  </td><td style=\"text-align: right;\">    0.282847  </td><td style=\"text-align: right;\">    -0.0213371</td><td style=\"text-align: right;\">    -0.0433421</td><td style=\"text-align: right;\">     0.0894588</td><td style=\"text-align: right;\">   -0.134439  </td><td style=\"text-align: right;\">    -0.0800255</td><td style=\"text-align: right;\">   -0.0128096 </td><td style=\"text-align: right;\">   -0.0863859 </td><td style=\"text-align: right;\">    -0.312848 </td><td style=\"text-align: right;\">    -0.0339835</td><td style=\"text-align: right;\">   -0.286208  </td><td style=\"text-align: right;\">    -0.17276  </td><td style=\"text-align: right;\">    -0.0217406</td><td style=\"text-align: right;\">     0.324704 </td><td style=\"text-align: right;\">     0.0031025</td><td style=\"text-align: right;\">    -0.165292 </td><td style=\"text-align: right;\">   -0.160458  </td><td style=\"text-align: right;\">    -0.0758443</td><td style=\"text-align: right;\">     0.274847 </td><td style=\"text-align: right;\">  -0.0109385  </td><td style=\"text-align: right;\">     0.0556924</td><td style=\"text-align: right;\">    -0.1577   </td><td style=\"text-align: right;\">    0.0873062 </td><td style=\"text-align: right;\">   -0.0861794 </td><td style=\"text-align: right;\">     0.43034  </td><td style=\"text-align: right;\">    -0.139996 </td><td style=\"text-align: right;\">    0.197337  </td><td style=\"text-align: right;\">    -0.0108087</td><td style=\"text-align: right;\">    0.0695055 </td><td style=\"text-align: right;\">    0.136743  </td><td style=\"text-align: right;\">   -0.130014  </td><td style=\"text-align: right;\">     0.16545  </td><td style=\"text-align: right;\">   0.254047   </td><td style=\"text-align: right;\">    -0.0142715</td><td style=\"text-align: right;\">    0.040495  </td><td style=\"text-align: right;\">     0.209377 </td><td style=\"text-align: right;\">    -0.0214036 </td></tr>\n",
              "<tr><td style=\"text-align: right;\">   -0.0732273</td><td style=\"text-align: right;\">   -0.168929 </td><td style=\"text-align: right;\">   0.0784872 </td><td style=\"text-align: right;\">    0.123316 </td><td style=\"text-align: right;\">   0.00825487</td><td style=\"text-align: right;\"> -0.0622432  </td><td style=\"text-align: right;\">    0.0411583</td><td style=\"text-align: right;\">   -0.0170163</td><td style=\"text-align: right;\">    0.0198493</td><td style=\"text-align: right;\">    0.0547626 </td><td style=\"text-align: right;\">      0.258449</td><td style=\"text-align: right;\">    0.0321688 </td><td style=\"text-align: right;\">     0.192467 </td><td style=\"text-align: right;\">      0.2926  </td><td style=\"text-align: right;\">     0.0533199</td><td style=\"text-align: right;\">    0.05431   </td><td style=\"text-align: right;\">   -0.0522813 </td><td style=\"text-align: right;\">    0.117766  </td><td style=\"text-align: right;\">     0.0441459</td><td style=\"text-align: right;\">    -0.109188 </td><td style=\"text-align: right;\">   -0.0433731 </td><td style=\"text-align: right;\">    -0.0584169</td><td style=\"text-align: right;\">     0.285935 </td><td style=\"text-align: right;\">     0.0644105</td><td style=\"text-align: right;\">   -0.10516   </td><td style=\"text-align: right;\">    -0.185374 </td><td style=\"text-align: right;\">  -0.0240614  </td><td style=\"text-align: right;\">   -0.144476  </td><td style=\"text-align: right;\">    -0.0851688</td><td style=\"text-align: right;\">    -0.0269362</td><td style=\"text-align: right;\">    0.0557834 </td><td style=\"text-align: right;\">   -0.134122  </td><td style=\"text-align: right;\">     0.0892278</td><td style=\"text-align: right;\">    -0.201837 </td><td style=\"text-align: right;\">  -0.00468347 </td><td style=\"text-align: right;\">    -0.116059 </td><td style=\"text-align: right;\">     0.0688749</td><td style=\"text-align: right;\">   -0.0182053 </td><td style=\"text-align: right;\">    -0.0627969</td><td style=\"text-align: right;\">   -0.145292  </td><td style=\"text-align: right;\">     0.138103 </td><td style=\"text-align: right;\">   -0.0417901 </td><td style=\"text-align: right;\">   -0.176478  </td><td style=\"text-align: right;\">     0.212516 </td><td style=\"text-align: right;\">     0.0296519</td><td style=\"text-align: right;\">    -0.260593 </td><td style=\"text-align: right;\">    -0.0863586</td><td style=\"text-align: right;\">    -0.289359 </td><td style=\"text-align: right;\">   -0.0503976 </td><td style=\"text-align: right;\">    -0.145964 </td><td style=\"text-align: right;\">    -0.0780565</td><td style=\"text-align: right;\">   -0.011473  </td><td style=\"text-align: right;\">   0.03401    </td><td style=\"text-align: right;\">     0.167505 </td><td style=\"text-align: right;\">    -0.0810149</td><td style=\"text-align: right;\">     0.137137 </td><td style=\"text-align: right;\">   -0.087645  </td><td style=\"text-align: right;\">     0.0299988</td><td style=\"text-align: right;\">     0.206914 </td><td style=\"text-align: right;\">     0.0784216</td><td style=\"text-align: right;\">     0.0728091</td><td style=\"text-align: right;\">    0.0552621 </td><td style=\"text-align: right;\">   -0.0676242 </td><td style=\"text-align: right;\">    0.0277975 </td><td style=\"text-align: right;\">    -0.100728 </td><td style=\"text-align: right;\">     0.142782 </td><td style=\"text-align: right;\">    -0.143918 </td><td style=\"text-align: right;\">   -0.0883297 </td><td style=\"text-align: right;\">    -0.160391 </td><td style=\"text-align: right;\">   -0.0606443 </td><td style=\"text-align: right;\">    0.00339844</td><td style=\"text-align: right;\">    -0.11654  </td><td style=\"text-align: right;\">     0.0838448</td><td style=\"text-align: right;\">    0.00661432</td><td style=\"text-align: right;\">    -0.158279 </td><td style=\"text-align: right;\">    -0.10147  </td><td style=\"text-align: right;\">     0.0757688</td><td style=\"text-align: right;\">    -0.041946 </td><td style=\"text-align: right;\">     0.0290898</td><td style=\"text-align: right;\">    0.120324  </td><td style=\"text-align: right;\">    -0.17229  </td><td style=\"text-align: right;\">     0.0416798</td><td style=\"text-align: right;\">   7.05011e-05</td><td style=\"text-align: right;\">     0.0254558</td><td style=\"text-align: right;\">     0.0951058</td><td style=\"text-align: right;\">   -0.0714884 </td><td style=\"text-align: right;\">   -0.214528  </td><td style=\"text-align: right;\">     0.0842751</td><td style=\"text-align: right;\">    -0.0496892</td><td style=\"text-align: right;\">    0.0361254 </td><td style=\"text-align: right;\">     0.0746554</td><td style=\"text-align: right;\">    0.272578  </td><td style=\"text-align: right;\">    0.0448493 </td><td style=\"text-align: right;\">   -0.134769  </td><td style=\"text-align: right;\">    -0.012986 </td><td style=\"text-align: right;\">   0.0107888  </td><td style=\"text-align: right;\">    -0.125767 </td><td style=\"text-align: right;\">    0.0198234 </td><td style=\"text-align: right;\">    -0.0515687</td><td style=\"text-align: right;\">    -0.0624919 </td></tr>\n",
              "<tr><td style=\"text-align: right;\">    0.147579 </td><td style=\"text-align: right;\">   -0.479175 </td><td style=\"text-align: right;\">   0.153228  </td><td style=\"text-align: right;\">   -0.0799735</td><td style=\"text-align: right;\">   0.0703244 </td><td style=\"text-align: right;\">  0.0523059  </td><td style=\"text-align: right;\">    0.293919 </td><td style=\"text-align: right;\">    0.104108 </td><td style=\"text-align: right;\">    0.140133 </td><td style=\"text-align: right;\">   -0.231774  </td><td style=\"text-align: right;\">      0.467391</td><td style=\"text-align: right;\">    0.110263  </td><td style=\"text-align: right;\">     0.35402  </td><td style=\"text-align: right;\">      0.23327 </td><td style=\"text-align: right;\">     0.183242 </td><td style=\"text-align: right;\">    0.147269  </td><td style=\"text-align: right;\">    0.00425655</td><td style=\"text-align: right;\">    0.0878035 </td><td style=\"text-align: right;\">    -0.43228  </td><td style=\"text-align: right;\">     0.114302 </td><td style=\"text-align: right;\">    0.165939  </td><td style=\"text-align: right;\">     0.206719 </td><td style=\"text-align: right;\">     0.189305 </td><td style=\"text-align: right;\">     0.259141 </td><td style=\"text-align: right;\">   -0.247434  </td><td style=\"text-align: right;\">    -0.421463 </td><td style=\"text-align: right;\">   0.21093    </td><td style=\"text-align: right;\">   -0.00965216</td><td style=\"text-align: right;\">     0.295848 </td><td style=\"text-align: right;\">     0.246257 </td><td style=\"text-align: right;\">    0.316173  </td><td style=\"text-align: right;\">   -0.467142  </td><td style=\"text-align: right;\">     0.0451885</td><td style=\"text-align: right;\">    -0.190269 </td><td style=\"text-align: right;\">   0.458829   </td><td style=\"text-align: right;\">     0.178653 </td><td style=\"text-align: right;\">     0.102908 </td><td style=\"text-align: right;\">   -0.00332112</td><td style=\"text-align: right;\">    -0.330548 </td><td style=\"text-align: right;\">   -0.0477524 </td><td style=\"text-align: right;\">     0.357694 </td><td style=\"text-align: right;\">   -0.0311664 </td><td style=\"text-align: right;\">   -0.126181  </td><td style=\"text-align: right;\">     0.0748839</td><td style=\"text-align: right;\">     0.108795 </td><td style=\"text-align: right;\">    -0.219955 </td><td style=\"text-align: right;\">     0.0745467</td><td style=\"text-align: right;\">    -0.0697908</td><td style=\"text-align: right;\">    0.123752  </td><td style=\"text-align: right;\">    -0.199377 </td><td style=\"text-align: right;\">    -0.103171 </td><td style=\"text-align: right;\">   -0.0378398 </td><td style=\"text-align: right;\">   0.0628833  </td><td style=\"text-align: right;\">    -0.0629042</td><td style=\"text-align: right;\">    -0.270252 </td><td style=\"text-align: right;\">     0.170535 </td><td style=\"text-align: right;\">   -0.261031  </td><td style=\"text-align: right;\">     0.0952996</td><td style=\"text-align: right;\">     0.65108  </td><td style=\"text-align: right;\">    -0.044125 </td><td style=\"text-align: right;\">    -0.205274 </td><td style=\"text-align: right;\">   -0.239943  </td><td style=\"text-align: right;\">   -0.666883  </td><td style=\"text-align: right;\">   -0.0129735 </td><td style=\"text-align: right;\">     0.0116428</td><td style=\"text-align: right;\">     0.0815754</td><td style=\"text-align: right;\">     0.102414 </td><td style=\"text-align: right;\">    0.0874816 </td><td style=\"text-align: right;\">     0.089791 </td><td style=\"text-align: right;\">   -0.101337  </td><td style=\"text-align: right;\">    0.0926056 </td><td style=\"text-align: right;\">    -0.23481  </td><td style=\"text-align: right;\">    -0.280006 </td><td style=\"text-align: right;\">   -0.243552  </td><td style=\"text-align: right;\">     0.15114  </td><td style=\"text-align: right;\">     0.0407007</td><td style=\"text-align: right;\">    -0.0132306</td><td style=\"text-align: right;\">     0.074499 </td><td style=\"text-align: right;\">     0.0504063</td><td style=\"text-align: right;\">    0.308877  </td><td style=\"text-align: right;\">    -0.167295 </td><td style=\"text-align: right;\">    -0.0886771</td><td style=\"text-align: right;\">  -0.394855   </td><td style=\"text-align: right;\">    -0.101384 </td><td style=\"text-align: right;\">     0.233747 </td><td style=\"text-align: right;\">   -0.108572  </td><td style=\"text-align: right;\">   -0.283643  </td><td style=\"text-align: right;\">     0.711037 </td><td style=\"text-align: right;\">    -0.0939792</td><td style=\"text-align: right;\">    0.2501    </td><td style=\"text-align: right;\">     0.127752 </td><td style=\"text-align: right;\">   -0.00438493</td><td style=\"text-align: right;\">   -0.290368  </td><td style=\"text-align: right;\">    0.145897  </td><td style=\"text-align: right;\">    -0.0510955</td><td style=\"text-align: right;\">  -0.0287465  </td><td style=\"text-align: right;\">     0.0506063</td><td style=\"text-align: right;\">   -0.120057  </td><td style=\"text-align: right;\">     0.0166316</td><td style=\"text-align: right;\">    -0.329217  </td></tr>\n",
              "<tr><td style=\"text-align: right;\">    0.0317996</td><td style=\"text-align: right;\">   -0.184445 </td><td style=\"text-align: right;\">   0.00263442</td><td style=\"text-align: right;\">    0.205546 </td><td style=\"text-align: right;\">   0.150493  </td><td style=\"text-align: right;\"> -0.000264291</td><td style=\"text-align: right;\">   -0.253036 </td><td style=\"text-align: right;\">    0.225682 </td><td style=\"text-align: right;\">   -0.191874 </td><td style=\"text-align: right;\">   -0.175764  </td><td style=\"text-align: right;\">     -0.061835</td><td style=\"text-align: right;\">    0.159218  </td><td style=\"text-align: right;\">     0.0912093</td><td style=\"text-align: right;\">      0.248625</td><td style=\"text-align: right;\">     0.130754 </td><td style=\"text-align: right;\">   -0.156519  </td><td style=\"text-align: right;\">    0.0107372 </td><td style=\"text-align: right;\">    0.180975  </td><td style=\"text-align: right;\">     0.16684  </td><td style=\"text-align: right;\">     0.0242355</td><td style=\"text-align: right;\">    0.13018   </td><td style=\"text-align: right;\">     0.200833 </td><td style=\"text-align: right;\">    -0.311304 </td><td style=\"text-align: right;\">     0.0575114</td><td style=\"text-align: right;\">   -0.0444339 </td><td style=\"text-align: right;\">    -0.0266293</td><td style=\"text-align: right;\">   0.077752   </td><td style=\"text-align: right;\">   -0.375383  </td><td style=\"text-align: right;\">     0.101893 </td><td style=\"text-align: right;\">    -0.162915 </td><td style=\"text-align: right;\">    0.307934  </td><td style=\"text-align: right;\">    0.0818133 </td><td style=\"text-align: right;\">     0.21457  </td><td style=\"text-align: right;\">     0.297097 </td><td style=\"text-align: right;\">  -0.0532055  </td><td style=\"text-align: right;\">     0.222903 </td><td style=\"text-align: right;\">     0.0526903</td><td style=\"text-align: right;\">   -0.265684  </td><td style=\"text-align: right;\">    -0.126056 </td><td style=\"text-align: right;\">    0.102258  </td><td style=\"text-align: right;\">    -0.0116627</td><td style=\"text-align: right;\">    0.123628  </td><td style=\"text-align: right;\">    0.166025  </td><td style=\"text-align: right;\">    -0.0500578</td><td style=\"text-align: right;\">    -0.168806 </td><td style=\"text-align: right;\">    -0.447239 </td><td style=\"text-align: right;\">    -0.298504 </td><td style=\"text-align: right;\">    -0.138741 </td><td style=\"text-align: right;\">    0.243176  </td><td style=\"text-align: right;\">    -0.266157 </td><td style=\"text-align: right;\">     0.224604 </td><td style=\"text-align: right;\">   -0.0212466 </td><td style=\"text-align: right;\">  -0.165455   </td><td style=\"text-align: right;\">     0.11047  </td><td style=\"text-align: right;\">     0.112706 </td><td style=\"text-align: right;\">     0.571865 </td><td style=\"text-align: right;\">    0.145614  </td><td style=\"text-align: right;\">    -0.206501 </td><td style=\"text-align: right;\">    -0.0122222</td><td style=\"text-align: right;\">     0.137008 </td><td style=\"text-align: right;\">    -0.0216038</td><td style=\"text-align: right;\">    0.12967   </td><td style=\"text-align: right;\">    0.0281848 </td><td style=\"text-align: right;\">    0.21957   </td><td style=\"text-align: right;\">    -0.373005 </td><td style=\"text-align: right;\">     0.118779 </td><td style=\"text-align: right;\">     0.109014 </td><td style=\"text-align: right;\">    0.00361587</td><td style=\"text-align: right;\">    -0.0505246</td><td style=\"text-align: right;\">    0.265594  </td><td style=\"text-align: right;\">   -0.249587  </td><td style=\"text-align: right;\">    -0.150246 </td><td style=\"text-align: right;\">    -0.0766568</td><td style=\"text-align: right;\">   -0.0110207 </td><td style=\"text-align: right;\">    -0.0762888</td><td style=\"text-align: right;\">     0.0525057</td><td style=\"text-align: right;\">    -0.0911724</td><td style=\"text-align: right;\">    -0.226445 </td><td style=\"text-align: right;\">    -0.0246509</td><td style=\"text-align: right;\">   -0.048027  </td><td style=\"text-align: right;\">    -0.190844 </td><td style=\"text-align: right;\">    -0.17284  </td><td style=\"text-align: right;\">   0.237949   </td><td style=\"text-align: right;\">    -0.233329 </td><td style=\"text-align: right;\">     0.162223 </td><td style=\"text-align: right;\">   -0.00734265</td><td style=\"text-align: right;\">   -0.0512962 </td><td style=\"text-align: right;\">     0.249343 </td><td style=\"text-align: right;\">    -0.196324 </td><td style=\"text-align: right;\">    0.167901  </td><td style=\"text-align: right;\">     0.0315835</td><td style=\"text-align: right;\">   -0.0893747 </td><td style=\"text-align: right;\">   -0.00682029</td><td style=\"text-align: right;\">   -0.0614747 </td><td style=\"text-align: right;\">     0.1836   </td><td style=\"text-align: right;\">   0.117378   </td><td style=\"text-align: right;\">     0.248518 </td><td style=\"text-align: right;\">   -0.00583219</td><td style=\"text-align: right;\">     0.0965202</td><td style=\"text-align: right;\">    -0.130706  </td></tr>\n",
              "<tr><td style=\"text-align: right;\">   -0.14543  </td><td style=\"text-align: right;\">    0.0478399</td><td style=\"text-align: right;\">  -0.149121  </td><td style=\"text-align: right;\">    0.238275 </td><td style=\"text-align: right;\">  -0.238387  </td><td style=\"text-align: right;\"> -0.0347952  </td><td style=\"text-align: right;\">    0.180253 </td><td style=\"text-align: right;\">   -0.314043 </td><td style=\"text-align: right;\">   -0.247291 </td><td style=\"text-align: right;\">    0.254344  </td><td style=\"text-align: right;\">      0.415948</td><td style=\"text-align: right;\">   -0.172352  </td><td style=\"text-align: right;\">     0.134283 </td><td style=\"text-align: right;\">      0.179222</td><td style=\"text-align: right;\">    -0.123907 </td><td style=\"text-align: right;\">   -0.0455006 </td><td style=\"text-align: right;\">   -0.247723  </td><td style=\"text-align: right;\">    0.236248  </td><td style=\"text-align: right;\">     0.0322286</td><td style=\"text-align: right;\">    -0.184137 </td><td style=\"text-align: right;\">   -0.101811  </td><td style=\"text-align: right;\">    -0.228576 </td><td style=\"text-align: right;\">    -0.0502706</td><td style=\"text-align: right;\">     0.111534 </td><td style=\"text-align: right;\">   -0.00781605</td><td style=\"text-align: right;\">     0.0487363</td><td style=\"text-align: right;\">  -0.0089985  </td><td style=\"text-align: right;\">    0.0927955 </td><td style=\"text-align: right;\">    -0.126065 </td><td style=\"text-align: right;\">     0.143551 </td><td style=\"text-align: right;\">    0.0655552 </td><td style=\"text-align: right;\">    0.107125  </td><td style=\"text-align: right;\">     0.0594361</td><td style=\"text-align: right;\">    -0.20738  </td><td style=\"text-align: right;\">   0.0193299  </td><td style=\"text-align: right;\">     0.12481  </td><td style=\"text-align: right;\">    -0.146764 </td><td style=\"text-align: right;\">    0.117836  </td><td style=\"text-align: right;\">     0.39339  </td><td style=\"text-align: right;\">   -0.0309991 </td><td style=\"text-align: right;\">    -0.173659 </td><td style=\"text-align: right;\">   -0.0683364 </td><td style=\"text-align: right;\">   -0.0973029 </td><td style=\"text-align: right;\">    -0.103434 </td><td style=\"text-align: right;\">    -0.127975 </td><td style=\"text-align: right;\">    -0.29213  </td><td style=\"text-align: right;\">    -0.0579712</td><td style=\"text-align: right;\">    -0.523245 </td><td style=\"text-align: right;\">   -0.278161  </td><td style=\"text-align: right;\">    -0.0974871</td><td style=\"text-align: right;\">    -0.121893 </td><td style=\"text-align: right;\">    0.139345  </td><td style=\"text-align: right;\">   0.00678129 </td><td style=\"text-align: right;\">     0.188773 </td><td style=\"text-align: right;\">    -0.166206 </td><td style=\"text-align: right;\">     0.0141407</td><td style=\"text-align: right;\">   -0.0830334 </td><td style=\"text-align: right;\">    -0.227603 </td><td style=\"text-align: right;\">     0.204521 </td><td style=\"text-align: right;\">    -0.0162317</td><td style=\"text-align: right;\">    -0.0189206</td><td style=\"text-align: right;\">   -0.00732312</td><td style=\"text-align: right;\">   -0.2006    </td><td style=\"text-align: right;\">    0.00844035</td><td style=\"text-align: right;\">     0.0158404</td><td style=\"text-align: right;\">     0.279681 </td><td style=\"text-align: right;\">    -0.0461342</td><td style=\"text-align: right;\">   -0.479197  </td><td style=\"text-align: right;\">    -0.0224718</td><td style=\"text-align: right;\">    0.20829   </td><td style=\"text-align: right;\">   -0.169786  </td><td style=\"text-align: right;\">    -0.342787 </td><td style=\"text-align: right;\">     0.0127967</td><td style=\"text-align: right;\">   -0.247428  </td><td style=\"text-align: right;\">    -0.145157 </td><td style=\"text-align: right;\">    -0.0907245</td><td style=\"text-align: right;\">    -0.0818378</td><td style=\"text-align: right;\">    -0.146576 </td><td style=\"text-align: right;\">    -0.0511112</td><td style=\"text-align: right;\">    0.0163786 </td><td style=\"text-align: right;\">    -0.0132748</td><td style=\"text-align: right;\">     0.0340008</td><td style=\"text-align: right;\">  -0.0331604  </td><td style=\"text-align: right;\">    -0.138261 </td><td style=\"text-align: right;\">    -0.154523 </td><td style=\"text-align: right;\">   -0.0221576 </td><td style=\"text-align: right;\">   -0.0742259 </td><td style=\"text-align: right;\">     0.36067  </td><td style=\"text-align: right;\">    -0.0119792</td><td style=\"text-align: right;\">    0.090432  </td><td style=\"text-align: right;\">     0.127042 </td><td style=\"text-align: right;\">    0.350005  </td><td style=\"text-align: right;\">   -0.111523  </td><td style=\"text-align: right;\">    0.26351   </td><td style=\"text-align: right;\">     0.292376 </td><td style=\"text-align: right;\">   0.120512   </td><td style=\"text-align: right;\">    -0.0506201</td><td style=\"text-align: right;\">   -0.216525  </td><td style=\"text-align: right;\">    -0.291683 </td><td style=\"text-align: right;\">    -0.0712355 </td></tr>\n",
              "<tr><td style=\"text-align: right;\">   -0.168716 </td><td style=\"text-align: right;\">   -0.137571 </td><td style=\"text-align: right;\">   0.133045  </td><td style=\"text-align: right;\">   -0.123331 </td><td style=\"text-align: right;\">   0.0171531 </td><td style=\"text-align: right;\"> -0.0550509  </td><td style=\"text-align: right;\">    0.0580279</td><td style=\"text-align: right;\">   -0.023433 </td><td style=\"text-align: right;\">    0.0406608</td><td style=\"text-align: right;\">    0.00185192</td><td style=\"text-align: right;\">      0.24769 </td><td style=\"text-align: right;\">    0.0394647 </td><td style=\"text-align: right;\">     0.0267399</td><td style=\"text-align: right;\">      0.133952</td><td style=\"text-align: right;\">     0.0541887</td><td style=\"text-align: right;\">    0.118514  </td><td style=\"text-align: right;\">    0.0647802 </td><td style=\"text-align: right;\">   -0.0265152 </td><td style=\"text-align: right;\">    -0.100765 </td><td style=\"text-align: right;\">    -0.045316 </td><td style=\"text-align: right;\">    0.103375  </td><td style=\"text-align: right;\">    -0.0632591</td><td style=\"text-align: right;\">     0.137757 </td><td style=\"text-align: right;\">    -0.0753729</td><td style=\"text-align: right;\">   -0.0950518 </td><td style=\"text-align: right;\">    -0.312023 </td><td style=\"text-align: right;\">  -0.0560351  </td><td style=\"text-align: right;\">   -0.0849415 </td><td style=\"text-align: right;\">    -0.0703956</td><td style=\"text-align: right;\">     0.0852769</td><td style=\"text-align: right;\">    0.00933676</td><td style=\"text-align: right;\">    0.00311385</td><td style=\"text-align: right;\">     0.24159  </td><td style=\"text-align: right;\">    -0.0348363</td><td style=\"text-align: right;\">   0.163448   </td><td style=\"text-align: right;\">    -0.148011 </td><td style=\"text-align: right;\">     0.172828 </td><td style=\"text-align: right;\">    0.131243  </td><td style=\"text-align: right;\">     0.0615703</td><td style=\"text-align: right;\">   -0.0454606 </td><td style=\"text-align: right;\">    -0.0184252</td><td style=\"text-align: right;\">   -0.0896854 </td><td style=\"text-align: right;\">   -0.180711  </td><td style=\"text-align: right;\">     0.0357081</td><td style=\"text-align: right;\">    -0.0490818</td><td style=\"text-align: right;\">    -0.273633 </td><td style=\"text-align: right;\">     0.0131018</td><td style=\"text-align: right;\">    -0.155587 </td><td style=\"text-align: right;\">   -0.0871505 </td><td style=\"text-align: right;\">    -0.0218347</td><td style=\"text-align: right;\">     0.123406 </td><td style=\"text-align: right;\">   -0.106627  </td><td style=\"text-align: right;\">  -0.0245949  </td><td style=\"text-align: right;\">     0.139494 </td><td style=\"text-align: right;\">    -0.0918495</td><td style=\"text-align: right;\">     0.29286  </td><td style=\"text-align: right;\">    0.151521  </td><td style=\"text-align: right;\">     0.0513784</td><td style=\"text-align: right;\">     0.140158 </td><td style=\"text-align: right;\">    -0.038058 </td><td style=\"text-align: right;\">     0.0481254</td><td style=\"text-align: right;\">   -0.01225   </td><td style=\"text-align: right;\">   -0.00851509</td><td style=\"text-align: right;\">   -0.0339805 </td><td style=\"text-align: right;\">    -0.180618 </td><td style=\"text-align: right;\">     0.090795 </td><td style=\"text-align: right;\">     0.0760897</td><td style=\"text-align: right;\">   -0.171376  </td><td style=\"text-align: right;\">    -0.0790326</td><td style=\"text-align: right;\">    0.00465791</td><td style=\"text-align: right;\">    0.076373  </td><td style=\"text-align: right;\">    -0.0929204</td><td style=\"text-align: right;\">     0.0384389</td><td style=\"text-align: right;\">   -0.0381668 </td><td style=\"text-align: right;\">    -0.178829 </td><td style=\"text-align: right;\">     0.214663 </td><td style=\"text-align: right;\">    -0.0281586</td><td style=\"text-align: right;\">    -0.0688253</td><td style=\"text-align: right;\">    -0.152667 </td><td style=\"text-align: right;\">    0.0537422 </td><td style=\"text-align: right;\">     0.0449946</td><td style=\"text-align: right;\">     0.100133 </td><td style=\"text-align: right;\">   0.0188998  </td><td style=\"text-align: right;\">     0.127132 </td><td style=\"text-align: right;\">    -0.126878 </td><td style=\"text-align: right;\">    0.134073  </td><td style=\"text-align: right;\">   -0.115107  </td><td style=\"text-align: right;\">     0.130416 </td><td style=\"text-align: right;\">    -0.138702 </td><td style=\"text-align: right;\">   -0.0978746 </td><td style=\"text-align: right;\">     0.0393453</td><td style=\"text-align: right;\">    0.102865  </td><td style=\"text-align: right;\">    0.0161978 </td><td style=\"text-align: right;\">   -0.00416121</td><td style=\"text-align: right;\">     0.0869079</td><td style=\"text-align: right;\">   0.137351   </td><td style=\"text-align: right;\">    -0.176978 </td><td style=\"text-align: right;\">    0.177987  </td><td style=\"text-align: right;\">     0.0230349</td><td style=\"text-align: right;\">     0.00352883</td></tr>\n",
              "<tr><td style=\"text-align: right;\">   -0.0166022</td><td style=\"text-align: right;\">   -0.250088 </td><td style=\"text-align: right;\">   0.177865  </td><td style=\"text-align: right;\">   -0.0521034</td><td style=\"text-align: right;\">   0.0569993 </td><td style=\"text-align: right;\"> -0.0902729  </td><td style=\"text-align: right;\">    0.207361 </td><td style=\"text-align: right;\">   -0.0125237</td><td style=\"text-align: right;\">   -0.0264345</td><td style=\"text-align: right;\">   -0.302169  </td><td style=\"text-align: right;\">      0.153898</td><td style=\"text-align: right;\">    0.0723594 </td><td style=\"text-align: right;\">     0.0144949</td><td style=\"text-align: right;\">      0.129623</td><td style=\"text-align: right;\">    -0.0365751</td><td style=\"text-align: right;\">    0.0658033 </td><td style=\"text-align: right;\">    0.0114376 </td><td style=\"text-align: right;\">    0.132909  </td><td style=\"text-align: right;\">    -0.0190647</td><td style=\"text-align: right;\">    -0.0717488</td><td style=\"text-align: right;\">    0.00191307</td><td style=\"text-align: right;\">     0.0415916</td><td style=\"text-align: right;\">    -0.0110548</td><td style=\"text-align: right;\">     0.108494 </td><td style=\"text-align: right;\">   -0.0413515 </td><td style=\"text-align: right;\">     0.0132741</td><td style=\"text-align: right;\">  -0.0715943  </td><td style=\"text-align: right;\">   -0.0707739 </td><td style=\"text-align: right;\">    -0.151032 </td><td style=\"text-align: right;\">     0.198451 </td><td style=\"text-align: right;\">    0.153596  </td><td style=\"text-align: right;\">   -0.123717  </td><td style=\"text-align: right;\">     0.190219 </td><td style=\"text-align: right;\">     0.0751164</td><td style=\"text-align: right;\">  -0.148386   </td><td style=\"text-align: right;\">    -0.0697236</td><td style=\"text-align: right;\">     0.0393904</td><td style=\"text-align: right;\">   -0.205253  </td><td style=\"text-align: right;\">     0.0270952</td><td style=\"text-align: right;\">    0.00703415</td><td style=\"text-align: right;\">    -0.089213 </td><td style=\"text-align: right;\">   -0.0196213 </td><td style=\"text-align: right;\">    0.0106684 </td><td style=\"text-align: right;\">     0.110033 </td><td style=\"text-align: right;\">     0.0546978</td><td style=\"text-align: right;\">    -0.212573 </td><td style=\"text-align: right;\">     0.0583911</td><td style=\"text-align: right;\">    -0.16455  </td><td style=\"text-align: right;\">   -0.0183868 </td><td style=\"text-align: right;\">    -0.221212 </td><td style=\"text-align: right;\">     0.0794981</td><td style=\"text-align: right;\">   -0.00320802</td><td style=\"text-align: right;\">   0.0354257  </td><td style=\"text-align: right;\">     0.0145843</td><td style=\"text-align: right;\">    -0.0672897</td><td style=\"text-align: right;\">     0.0221107</td><td style=\"text-align: right;\">    0.0309322 </td><td style=\"text-align: right;\">     0.017761 </td><td style=\"text-align: right;\">     0.0634724</td><td style=\"text-align: right;\">    -0.0103006</td><td style=\"text-align: right;\">    -0.0389649</td><td style=\"text-align: right;\">   -0.172425  </td><td style=\"text-align: right;\">    0.125452  </td><td style=\"text-align: right;\">   -0.180872  </td><td style=\"text-align: right;\">    -0.134609 </td><td style=\"text-align: right;\">    -0.0340258</td><td style=\"text-align: right;\">    -0.0849315</td><td style=\"text-align: right;\">   -0.0577143 </td><td style=\"text-align: right;\">    -0.0392636</td><td style=\"text-align: right;\">   -0.0403036 </td><td style=\"text-align: right;\">    0.125897  </td><td style=\"text-align: right;\">    -0.0393903</td><td style=\"text-align: right;\">     0.0473521</td><td style=\"text-align: right;\">   -0.138717  </td><td style=\"text-align: right;\">    -0.105384 </td><td style=\"text-align: right;\">     0.103764 </td><td style=\"text-align: right;\">     0.194257 </td><td style=\"text-align: right;\">    -0.0285864</td><td style=\"text-align: right;\">    -0.0188523</td><td style=\"text-align: right;\">    0.0641346 </td><td style=\"text-align: right;\">    -0.207946 </td><td style=\"text-align: right;\">    -0.0966057</td><td style=\"text-align: right;\">   0.0272279  </td><td style=\"text-align: right;\">    -0.125477 </td><td style=\"text-align: right;\">    -0.0903   </td><td style=\"text-align: right;\">    0.0339368 </td><td style=\"text-align: right;\">   -0.055753  </td><td style=\"text-align: right;\">     0.109354 </td><td style=\"text-align: right;\">     0.0472336</td><td style=\"text-align: right;\">    0.114606  </td><td style=\"text-align: right;\">     0.164298 </td><td style=\"text-align: right;\">    0.162115  </td><td style=\"text-align: right;\">    0.00896547</td><td style=\"text-align: right;\">   -0.00196796</td><td style=\"text-align: right;\">     0.14807  </td><td style=\"text-align: right;\">   0.000403292</td><td style=\"text-align: right;\">    -0.0616049</td><td style=\"text-align: right;\">   -0.0171505 </td><td style=\"text-align: right;\">     0.0872893</td><td style=\"text-align: right;\">    -0.00284989</td></tr>\n",
              "<tr><td style=\"text-align: right;\">   -0.0173044</td><td style=\"text-align: right;\">   -0.266337 </td><td style=\"text-align: right;\">  -0.235474  </td><td style=\"text-align: right;\">    0.249122 </td><td style=\"text-align: right;\">   0.0544914 </td><td style=\"text-align: right;\"> -0.0360152  </td><td style=\"text-align: right;\">    0.100207 </td><td style=\"text-align: right;\">    0.126881 </td><td style=\"text-align: right;\">   -0.101621 </td><td style=\"text-align: right;\">    0.0992401 </td><td style=\"text-align: right;\">      0.452171</td><td style=\"text-align: right;\">   -0.065793  </td><td style=\"text-align: right;\">     0.149895 </td><td style=\"text-align: right;\">      0.221644</td><td style=\"text-align: right;\">     0.0444044</td><td style=\"text-align: right;\">   -0.539837  </td><td style=\"text-align: right;\">   -0.0258534 </td><td style=\"text-align: right;\">   -0.0194442 </td><td style=\"text-align: right;\">    -0.0875981</td><td style=\"text-align: right;\">    -0.135475 </td><td style=\"text-align: right;\">    0.249109  </td><td style=\"text-align: right;\">     0.0150665</td><td style=\"text-align: right;\">     0.0282863</td><td style=\"text-align: right;\">    -0.19255  </td><td style=\"text-align: right;\">   -0.226931  </td><td style=\"text-align: right;\">    -0.277345 </td><td style=\"text-align: right;\">   0.0678511  </td><td style=\"text-align: right;\">    0.0514661 </td><td style=\"text-align: right;\">    -0.20436  </td><td style=\"text-align: right;\">     0.0793265</td><td style=\"text-align: right;\">   -0.232108  </td><td style=\"text-align: right;\">    0.0960985 </td><td style=\"text-align: right;\">     0.325835 </td><td style=\"text-align: right;\">     0.448873 </td><td style=\"text-align: right;\">   0.0364005  </td><td style=\"text-align: right;\">    -0.289466 </td><td style=\"text-align: right;\">     0.115363 </td><td style=\"text-align: right;\">    0.138402  </td><td style=\"text-align: right;\">    -0.0593032</td><td style=\"text-align: right;\">   -0.0379586 </td><td style=\"text-align: right;\">     0.355571 </td><td style=\"text-align: right;\">    0.160459  </td><td style=\"text-align: right;\">   -0.00766458</td><td style=\"text-align: right;\">     0.311325 </td><td style=\"text-align: right;\">     0.142805 </td><td style=\"text-align: right;\">    -0.384082 </td><td style=\"text-align: right;\">    -0.272861 </td><td style=\"text-align: right;\">    -0.387474 </td><td style=\"text-align: right;\">   -0.352172  </td><td style=\"text-align: right;\">    -0.383367 </td><td style=\"text-align: right;\">    -0.185767 </td><td style=\"text-align: right;\">   -0.0523014 </td><td style=\"text-align: right;\">  -0.000457573</td><td style=\"text-align: right;\">     0.260121 </td><td style=\"text-align: right;\">    -0.186028 </td><td style=\"text-align: right;\">    -0.222443 </td><td style=\"text-align: right;\">   -0.00579943</td><td style=\"text-align: right;\">     0.234272 </td><td style=\"text-align: right;\">     0.0090406</td><td style=\"text-align: right;\">    -0.443452 </td><td style=\"text-align: right;\">    -0.0215702</td><td style=\"text-align: right;\">   -0.107807  </td><td style=\"text-align: right;\">    0.0493834 </td><td style=\"text-align: right;\">    0.179113  </td><td style=\"text-align: right;\">    -0.048528 </td><td style=\"text-align: right;\">     0.262742 </td><td style=\"text-align: right;\">     0.221448 </td><td style=\"text-align: right;\">   -0.682711  </td><td style=\"text-align: right;\">    -0.200763 </td><td style=\"text-align: right;\">   -0.219426  </td><td style=\"text-align: right;\">    0.148733  </td><td style=\"text-align: right;\">    -0.433299 </td><td style=\"text-align: right;\">    -0.0291524</td><td style=\"text-align: right;\">   -0.217581  </td><td style=\"text-align: right;\">    -0.148299 </td><td style=\"text-align: right;\">    -0.395481 </td><td style=\"text-align: right;\">     0.18919  </td><td style=\"text-align: right;\">     0.161345 </td><td style=\"text-align: right;\">    -0.110449 </td><td style=\"text-align: right;\">    0.367231  </td><td style=\"text-align: right;\">    -0.142274 </td><td style=\"text-align: right;\">     0.101553 </td><td style=\"text-align: right;\">  -0.235253   </td><td style=\"text-align: right;\">     0.165604 </td><td style=\"text-align: right;\">    -0.126342 </td><td style=\"text-align: right;\">   -0.0586528 </td><td style=\"text-align: right;\">   -0.0550033 </td><td style=\"text-align: right;\">     0.145539 </td><td style=\"text-align: right;\">     0.0810691</td><td style=\"text-align: right;\">    0.26496   </td><td style=\"text-align: right;\">     0.116987 </td><td style=\"text-align: right;\">   -0.0812062 </td><td style=\"text-align: right;\">   -0.0969601 </td><td style=\"text-align: right;\">   -0.117242  </td><td style=\"text-align: right;\">    -0.167667 </td><td style=\"text-align: right;\">  -0.303377   </td><td style=\"text-align: right;\">    -0.141411 </td><td style=\"text-align: right;\">   -0.0753125 </td><td style=\"text-align: right;\">    -0.04577  </td><td style=\"text-align: right;\">    -0.147836  </td></tr>\n",
              "<tr><td style=\"text-align: right;\">    0.160737 </td><td style=\"text-align: right;\">   -0.0993431</td><td style=\"text-align: right;\">   0.177068  </td><td style=\"text-align: right;\">    0.0947745</td><td style=\"text-align: right;\">   0.0465705 </td><td style=\"text-align: right;\">  0.0665528  </td><td style=\"text-align: right;\">    0.0124722</td><td style=\"text-align: right;\">    0.0844889</td><td style=\"text-align: right;\">    0.0223573</td><td style=\"text-align: right;\">   -0.121079  </td><td style=\"text-align: right;\">      0.236312</td><td style=\"text-align: right;\">   -0.0100977 </td><td style=\"text-align: right;\">     0.0719278</td><td style=\"text-align: right;\">      0.345374</td><td style=\"text-align: right;\">    -0.0697328</td><td style=\"text-align: right;\">    0.00839705</td><td style=\"text-align: right;\">   -0.064785  </td><td style=\"text-align: right;\">   -0.00215043</td><td style=\"text-align: right;\">    -0.0192079</td><td style=\"text-align: right;\">    -0.0467847</td><td style=\"text-align: right;\">    0.312209  </td><td style=\"text-align: right;\">     0.0926483</td><td style=\"text-align: right;\">     0.108103 </td><td style=\"text-align: right;\">     0.0877665</td><td style=\"text-align: right;\">   -0.0875259 </td><td style=\"text-align: right;\">     0.0343422</td><td style=\"text-align: right;\">  -0.000619546</td><td style=\"text-align: right;\">   -0.112005  </td><td style=\"text-align: right;\">    -0.0324877</td><td style=\"text-align: right;\">     0.0324849</td><td style=\"text-align: right;\">    0.0633223 </td><td style=\"text-align: right;\">   -0.119955  </td><td style=\"text-align: right;\">     0.0635125</td><td style=\"text-align: right;\">    -0.0307638</td><td style=\"text-align: right;\">   0.0217585  </td><td style=\"text-align: right;\">    -0.0369095</td><td style=\"text-align: right;\">     0.0936899</td><td style=\"text-align: right;\">   -0.261824  </td><td style=\"text-align: right;\">     0.0035481</td><td style=\"text-align: right;\">    0.071858  </td><td style=\"text-align: right;\">    -0.178413 </td><td style=\"text-align: right;\">    0.00774636</td><td style=\"text-align: right;\">    0.00220324</td><td style=\"text-align: right;\">     0.0721135</td><td style=\"text-align: right;\">    -0.1327   </td><td style=\"text-align: right;\">    -0.32696  </td><td style=\"text-align: right;\">    -0.0612199</td><td style=\"text-align: right;\">    -0.0312001</td><td style=\"text-align: right;\">    0.00933745</td><td style=\"text-align: right;\">     0.150667 </td><td style=\"text-align: right;\">    -0.0382516</td><td style=\"text-align: right;\">   -0.0635642 </td><td style=\"text-align: right;\">   0.099754   </td><td style=\"text-align: right;\">     0.0361064</td><td style=\"text-align: right;\">    -0.0360759</td><td style=\"text-align: right;\">     0.0142579</td><td style=\"text-align: right;\">   -0.0160191 </td><td style=\"text-align: right;\">     0.0740216</td><td style=\"text-align: right;\">     0.057073 </td><td style=\"text-align: right;\">    -0.254977 </td><td style=\"text-align: right;\">    -0.0449832</td><td style=\"text-align: right;\">    0.0115292 </td><td style=\"text-align: right;\">    0.0627649 </td><td style=\"text-align: right;\">    0.164004  </td><td style=\"text-align: right;\">    -0.112709 </td><td style=\"text-align: right;\">     0.117624 </td><td style=\"text-align: right;\">     0.301085 </td><td style=\"text-align: right;\">   -0.00740612</td><td style=\"text-align: right;\">    -0.0905101</td><td style=\"text-align: right;\">   -0.0606207 </td><td style=\"text-align: right;\">   -0.0524036 </td><td style=\"text-align: right;\">    -0.335301 </td><td style=\"text-align: right;\">    -0.040667 </td><td style=\"text-align: right;\">   -0.17281   </td><td style=\"text-align: right;\">    -0.264733 </td><td style=\"text-align: right;\">    -0.0708221</td><td style=\"text-align: right;\">     0.232857 </td><td style=\"text-align: right;\">     0.116658 </td><td style=\"text-align: right;\">    -0.032428 </td><td style=\"text-align: right;\">    0.104787  </td><td style=\"text-align: right;\">     0.0479743</td><td style=\"text-align: right;\">     0.130313 </td><td style=\"text-align: right;\">  -0.0180242  </td><td style=\"text-align: right;\">     0.0667464</td><td style=\"text-align: right;\">    -0.0246758</td><td style=\"text-align: right;\">   -0.0488961 </td><td style=\"text-align: right;\">   -0.00797202</td><td style=\"text-align: right;\">     0.402491 </td><td style=\"text-align: right;\">    -0.0221817</td><td style=\"text-align: right;\">   -0.0274031 </td><td style=\"text-align: right;\">     0.179187 </td><td style=\"text-align: right;\">    0.164099  </td><td style=\"text-align: right;\">    0.0847815 </td><td style=\"text-align: right;\">   -0.0395898 </td><td style=\"text-align: right;\">     0.0578208</td><td style=\"text-align: right;\">   0.0540046  </td><td style=\"text-align: right;\">     0.13899  </td><td style=\"text-align: right;\">   -0.182428  </td><td style=\"text-align: right;\">     0.104125 </td><td style=\"text-align: right;\">     0.190712  </td></tr>\n",
              "</tbody>\n",
              "</table>"
            ]
          },
          "metadata": {
            "tags": []
          }
        },
        {
          "output_type": "execute_result",
          "data": {
            "text/plain": [
              ""
            ]
          },
          "metadata": {
            "tags": []
          },
          "execution_count": 25
        }
      ]
    },
    {
      "cell_type": "code",
      "metadata": {
        "id": "zSVxptYSNmh_"
      },
      "source": [
        "h2o_df_ext=h2o_df.cbind(review_vecs)\n",
        "h2o_df_ext=h2o_df_ext.cbind(headline_vecs)"
      ],
      "execution_count": null,
      "outputs": []
    },
    {
      "cell_type": "code",
      "metadata": {
        "id": "wSvT8UeXoLC9",
        "colab": {
          "base_uri": "https://localhost:8080/",
          "height": 1000
        },
        "outputId": "01232ba6-c4c9-4774-d7b3-a4aec4f509a5"
      },
      "source": [
        "h2o_df_ext.head()"
      ],
      "execution_count": null,
      "outputs": [
        {
          "output_type": "display_data",
          "data": {
            "text/html": [
              "<table>\n",
              "<thead>\n",
              "<tr><th>headline                                         </th><th>reviews                                                                                                                                                                                                                                                                                                                                                                                                                                                                                                                                                                                                                                                                                                                                                                                      </th><th style=\"text-align: right;\">  target</th><th style=\"text-align: right;\">        C1</th><th style=\"text-align: right;\">         C2</th><th style=\"text-align: right;\">       C3</th><th style=\"text-align: right;\">        C4</th><th style=\"text-align: right;\">        C5</th><th style=\"text-align: right;\">         C6</th><th style=\"text-align: right;\">       C7</th><th style=\"text-align: right;\">          C8</th><th style=\"text-align: right;\">         C9</th><th style=\"text-align: right;\">       C10</th><th style=\"text-align: right;\">       C11</th><th style=\"text-align: right;\">         C12</th><th style=\"text-align: right;\">      C13</th><th style=\"text-align: right;\">      C14</th><th style=\"text-align: right;\">        C15</th><th style=\"text-align: right;\">       C16</th><th style=\"text-align: right;\">        C17</th><th style=\"text-align: right;\">       C18</th><th style=\"text-align: right;\">        C19</th><th style=\"text-align: right;\">       C20</th><th style=\"text-align: right;\">       C21</th><th style=\"text-align: right;\">       C22</th><th style=\"text-align: right;\">       C23</th><th style=\"text-align: right;\">        C24</th><th style=\"text-align: right;\">        C25</th><th style=\"text-align: right;\">       C26</th><th style=\"text-align: right;\">       C27</th><th style=\"text-align: right;\">       C28</th><th style=\"text-align: right;\">       C29</th><th style=\"text-align: right;\">        C30</th><th style=\"text-align: right;\">        C31</th><th style=\"text-align: right;\">       C32</th><th style=\"text-align: right;\">       C33</th><th style=\"text-align: right;\">        C34</th><th style=\"text-align: right;\">       C35</th><th style=\"text-align: right;\">       C36</th><th style=\"text-align: right;\">        C37</th><th style=\"text-align: right;\">        C38</th><th style=\"text-align: right;\">        C39</th><th style=\"text-align: right;\">        C40</th><th style=\"text-align: right;\">       C41</th><th style=\"text-align: right;\">       C42</th><th style=\"text-align: right;\">       C43</th><th style=\"text-align: right;\">       C44</th><th style=\"text-align: right;\">        C45</th><th style=\"text-align: right;\">      C46</th><th style=\"text-align: right;\">       C47</th><th style=\"text-align: right;\">       C48</th><th style=\"text-align: right;\">        C49</th><th style=\"text-align: right;\">       C50</th><th style=\"text-align: right;\">       C51</th><th style=\"text-align: right;\">        C52</th><th style=\"text-align: right;\">         C53</th><th style=\"text-align: right;\">        C54</th><th style=\"text-align: right;\">       C55</th><th style=\"text-align: right;\">         C56</th><th style=\"text-align: right;\">         C57</th><th style=\"text-align: right;\">        C58</th><th style=\"text-align: right;\">       C59</th><th style=\"text-align: right;\">         C60</th><th style=\"text-align: right;\">        C61</th><th style=\"text-align: right;\">       C62</th><th style=\"text-align: right;\">        C63</th><th style=\"text-align: right;\">        C64</th><th style=\"text-align: right;\">       C65</th><th style=\"text-align: right;\">      C66</th><th style=\"text-align: right;\">         C67</th><th style=\"text-align: right;\">       C68</th><th style=\"text-align: right;\">        C69</th><th style=\"text-align: right;\">       C70</th><th style=\"text-align: right;\">        C71</th><th style=\"text-align: right;\">       C72</th><th style=\"text-align: right;\">        C73</th><th style=\"text-align: right;\">        C74</th><th style=\"text-align: right;\">       C75</th><th style=\"text-align: right;\">      C76</th><th style=\"text-align: right;\">       C77</th><th style=\"text-align: right;\">         C78</th><th style=\"text-align: right;\">        C79</th><th style=\"text-align: right;\">        C80</th><th style=\"text-align: right;\">        C81</th><th style=\"text-align: right;\">       C82</th><th style=\"text-align: right;\">       C83</th><th style=\"text-align: right;\">        C84</th><th style=\"text-align: right;\">        C85</th><th style=\"text-align: right;\">        C86</th><th style=\"text-align: right;\">       C87</th><th style=\"text-align: right;\">       C88</th><th style=\"text-align: right;\">        C89</th><th style=\"text-align: right;\">       C90</th><th style=\"text-align: right;\">        C91</th><th style=\"text-align: right;\">      C92</th><th style=\"text-align: right;\">       C93</th><th style=\"text-align: right;\">       C94</th><th style=\"text-align: right;\">        C95</th><th style=\"text-align: right;\">       C96</th><th style=\"text-align: right;\">       C97</th><th style=\"text-align: right;\">        C98</th><th style=\"text-align: right;\">       C99</th><th style=\"text-align: right;\">       C100</th><th style=\"text-align: right;\">  headline_C1</th><th style=\"text-align: right;\">  headline_C2</th><th style=\"text-align: right;\">  headline_C3</th><th style=\"text-align: right;\">  headline_C4</th><th style=\"text-align: right;\">  headline_C5</th><th style=\"text-align: right;\">  headline_C6</th><th style=\"text-align: right;\">  headline_C7</th><th style=\"text-align: right;\">  headline_C8</th><th style=\"text-align: right;\">  headline_C9</th><th style=\"text-align: right;\">  headline_C10</th><th style=\"text-align: right;\">  headline_C11</th><th style=\"text-align: right;\">  headline_C12</th><th style=\"text-align: right;\">  headline_C13</th><th style=\"text-align: right;\">  headline_C14</th><th style=\"text-align: right;\">  headline_C15</th><th style=\"text-align: right;\">  headline_C16</th><th style=\"text-align: right;\">  headline_C17</th><th style=\"text-align: right;\">  headline_C18</th><th style=\"text-align: right;\">  headline_C19</th><th style=\"text-align: right;\">  headline_C20</th><th style=\"text-align: right;\">  headline_C21</th><th style=\"text-align: right;\">  headline_C22</th><th style=\"text-align: right;\">  headline_C23</th><th style=\"text-align: right;\">  headline_C24</th><th style=\"text-align: right;\">  headline_C25</th><th style=\"text-align: right;\">  headline_C26</th><th style=\"text-align: right;\">  headline_C27</th><th style=\"text-align: right;\">  headline_C28</th><th style=\"text-align: right;\">  headline_C29</th><th style=\"text-align: right;\">  headline_C30</th><th style=\"text-align: right;\">  headline_C31</th><th style=\"text-align: right;\">  headline_C32</th><th style=\"text-align: right;\">  headline_C33</th><th style=\"text-align: right;\">  headline_C34</th><th style=\"text-align: right;\">  headline_C35</th><th style=\"text-align: right;\">  headline_C36</th><th style=\"text-align: right;\">  headline_C37</th><th style=\"text-align: right;\">  headline_C38</th><th style=\"text-align: right;\">  headline_C39</th><th style=\"text-align: right;\">  headline_C40</th><th style=\"text-align: right;\">  headline_C41</th><th style=\"text-align: right;\">  headline_C42</th><th style=\"text-align: right;\">  headline_C43</th><th style=\"text-align: right;\">  headline_C44</th><th style=\"text-align: right;\">  headline_C45</th><th style=\"text-align: right;\">  headline_C46</th><th style=\"text-align: right;\">  headline_C47</th><th style=\"text-align: right;\">  headline_C48</th><th style=\"text-align: right;\">  headline_C49</th><th style=\"text-align: right;\">  headline_C50</th><th style=\"text-align: right;\">  headline_C51</th><th style=\"text-align: right;\">  headline_C52</th><th style=\"text-align: right;\">  headline_C53</th><th style=\"text-align: right;\">  headline_C54</th><th style=\"text-align: right;\">  headline_C55</th><th style=\"text-align: right;\">  headline_C56</th><th style=\"text-align: right;\">  headline_C57</th><th style=\"text-align: right;\">  headline_C58</th><th style=\"text-align: right;\">  headline_C59</th><th style=\"text-align: right;\">  headline_C60</th><th style=\"text-align: right;\">  headline_C61</th><th style=\"text-align: right;\">  headline_C62</th><th style=\"text-align: right;\">  headline_C63</th><th style=\"text-align: right;\">  headline_C64</th><th style=\"text-align: right;\">  headline_C65</th><th style=\"text-align: right;\">  headline_C66</th><th style=\"text-align: right;\">  headline_C67</th><th style=\"text-align: right;\">  headline_C68</th><th style=\"text-align: right;\">  headline_C69</th><th style=\"text-align: right;\">  headline_C70</th><th style=\"text-align: right;\">  headline_C71</th><th style=\"text-align: right;\">  headline_C72</th><th style=\"text-align: right;\">  headline_C73</th><th style=\"text-align: right;\">  headline_C74</th><th style=\"text-align: right;\">  headline_C75</th><th style=\"text-align: right;\">  headline_C76</th><th style=\"text-align: right;\">  headline_C77</th><th style=\"text-align: right;\">  headline_C78</th><th style=\"text-align: right;\">  headline_C79</th><th style=\"text-align: right;\">  headline_C80</th><th style=\"text-align: right;\">  headline_C81</th><th style=\"text-align: right;\">  headline_C82</th><th style=\"text-align: right;\">  headline_C83</th><th style=\"text-align: right;\">  headline_C84</th><th style=\"text-align: right;\">  headline_C85</th><th style=\"text-align: right;\">  headline_C86</th><th style=\"text-align: right;\">  headline_C87</th><th style=\"text-align: right;\">  headline_C88</th><th style=\"text-align: right;\">  headline_C89</th><th style=\"text-align: right;\">  headline_C90</th><th style=\"text-align: right;\">  headline_C91</th><th style=\"text-align: right;\">  headline_C92</th><th style=\"text-align: right;\">  headline_C93</th><th style=\"text-align: right;\">  headline_C94</th><th style=\"text-align: right;\">  headline_C95</th><th style=\"text-align: right;\">  headline_C96</th><th style=\"text-align: right;\">  headline_C97</th></tr>\n",
              "</thead>\n",
              "<tbody>\n",
              "<tr><td>b&#x27;Not what I wanted :(&#x27;                          </td><td>b&quot;Well this isn&#x27;t what I wanted. I did not want a four section pad (as its stiched into compartments for rice)&lt;br /&gt;&lt;br /&gt;I like to be able to push it all to one side or the other to have more or less heat/pressure&lt;br /&gt;&lt;br /&gt;The smell of the Lavander is WAYYYYY too much it almost smells like OLD spoiled lavander! Wish I would have read reviews first&lt;br /&gt;&lt;br /&gt;I could have dealt with the stitching the smell is so bad I have to throw it away WHAT A WASTE OF MONEY!!&quot;                                                                                                                                                                                                                                                                                                       </td><td style=\"text-align: right;\">       0</td><td style=\"text-align: right;\">-0.0235897</td><td style=\"text-align: right;\">-0.0943362 </td><td style=\"text-align: right;\">0.046669 </td><td style=\"text-align: right;\"> 0.053549 </td><td style=\"text-align: right;\"> 0.0380422</td><td style=\"text-align: right;\">-0.139937  </td><td style=\"text-align: right;\">0.021288 </td><td style=\"text-align: right;\">-0.0018613  </td><td style=\"text-align: right;\">-0.0265983 </td><td style=\"text-align: right;\">-0.119492 </td><td style=\"text-align: right;\"> 0.08729  </td><td style=\"text-align: right;\"> 0.00114263 </td><td style=\"text-align: right;\">0.0373686</td><td style=\"text-align: right;\">0.202205 </td><td style=\"text-align: right;\"> 0.00305405</td><td style=\"text-align: right;\">-0.0196112</td><td style=\"text-align: right;\">-0.0140258 </td><td style=\"text-align: right;\"> 0.10855  </td><td style=\"text-align: right;\"> 0.0102075 </td><td style=\"text-align: right;\">-0.0167493</td><td style=\"text-align: right;\"> 0.0502948</td><td style=\"text-align: right;\">-0.0363399</td><td style=\"text-align: right;\">0.103093  </td><td style=\"text-align: right;\">-0.0207926 </td><td style=\"text-align: right;\"> 0.0712902 </td><td style=\"text-align: right;\">-0.0813541</td><td style=\"text-align: right;\"> 0.0219161</td><td style=\"text-align: right;\">-0.113916 </td><td style=\"text-align: right;\">-0.0647198</td><td style=\"text-align: right;\"> 0.0662271 </td><td style=\"text-align: right;\"> 0.0812541 </td><td style=\"text-align: right;\">-0.078073 </td><td style=\"text-align: right;\">0.202079  </td><td style=\"text-align: right;\">-0.0432785 </td><td style=\"text-align: right;\">-0.0472013</td><td style=\"text-align: right;\">-0.13713  </td><td style=\"text-align: right;\"> 0.00165899</td><td style=\"text-align: right;\">-0.0465097 </td><td style=\"text-align: right;\"> 0.0421817 </td><td style=\"text-align: right;\"> 0.0299021 </td><td style=\"text-align: right;\">-0.0364854</td><td style=\"text-align: right;\"> 0.0178728</td><td style=\"text-align: right;\">-0.0931637</td><td style=\"text-align: right;\">0.111829  </td><td style=\"text-align: right;\"> 0.0183157 </td><td style=\"text-align: right;\">-0.232664</td><td style=\"text-align: right;\">-0.160935 </td><td style=\"text-align: right;\">-0.102866 </td><td style=\"text-align: right;\"> 0.031698  </td><td style=\"text-align: right;\">-0.109986 </td><td style=\"text-align: right;\"> 0.0228324</td><td style=\"text-align: right;\"> 0.0353094 </td><td style=\"text-align: right;\">-0.0362298  </td><td style=\"text-align: right;\"> 0.0649579 </td><td style=\"text-align: right;\">-0.0673274</td><td style=\"text-align: right;\"> 0.150522   </td><td style=\"text-align: right;\"> 0.00601622 </td><td style=\"text-align: right;\">-0.103511  </td><td style=\"text-align: right;\"> 0.0119496</td><td style=\"text-align: right;\">-0.0264344  </td><td style=\"text-align: right;\">-0.117245  </td><td style=\"text-align: right;\">-0.0678809</td><td style=\"text-align: right;\"> 0.0203602 </td><td style=\"text-align: right;\">-0.05011   </td><td style=\"text-align: right;\">-0.142943 </td><td style=\"text-align: right;\">0.147465 </td><td style=\"text-align: right;\"> 0.0303812  </td><td style=\"text-align: right;\">-0.039363 </td><td style=\"text-align: right;\">-0.137258  </td><td style=\"text-align: right;\"> 0.0301541</td><td style=\"text-align: right;\">-0.00701128</td><td style=\"text-align: right;\">-0.111155 </td><td style=\"text-align: right;\"> 0.0679442 </td><td style=\"text-align: right;\">-0.00322878</td><td style=\"text-align: right;\">-0.0928846</td><td style=\"text-align: right;\">0.109909 </td><td style=\"text-align: right;\">0.063639  </td><td style=\"text-align: right;\">-0.0634107  </td><td style=\"text-align: right;\">-0.0474844 </td><td style=\"text-align: right;\">-0.0303846 </td><td style=\"text-align: right;\">-0.111998  </td><td style=\"text-align: right;\"> 0.0186737</td><td style=\"text-align: right;\">-0.0497739</td><td style=\"text-align: right;\"> 0.0133188 </td><td style=\"text-align: right;\"> 0.00282824</td><td style=\"text-align: right;\">-0.00119162</td><td style=\"text-align: right;\">-0.065574 </td><td style=\"text-align: right;\">0.167358  </td><td style=\"text-align: right;\">-0.0356407 </td><td style=\"text-align: right;\"> 0.088806 </td><td style=\"text-align: right;\"> 0.0459011 </td><td style=\"text-align: right;\">0.0439339</td><td style=\"text-align: right;\"> 0.089777 </td><td style=\"text-align: right;\">-0.112762 </td><td style=\"text-align: right;\"> 0.0301583 </td><td style=\"text-align: right;\"> 0.114347 </td><td style=\"text-align: right;\">-0.0300916</td><td style=\"text-align: right;\"> 0.0200099 </td><td style=\"text-align: right;\"> 0.075398 </td><td style=\"text-align: right;\">-0.0575511 </td><td style=\"text-align: right;\">    0.0726135</td><td style=\"text-align: right;\">    0.056742 </td><td style=\"text-align: right;\">   0.282203  </td><td style=\"text-align: right;\">    0.0819901</td><td style=\"text-align: right;\">  -0.111938  </td><td style=\"text-align: right;\"> -0.180313   </td><td style=\"text-align: right;\">    0.22109  </td><td style=\"text-align: right;\">   -0.107876 </td><td style=\"text-align: right;\">   -0.068493 </td><td style=\"text-align: right;\">   -0.204538  </td><td style=\"text-align: right;\">      0.215011</td><td style=\"text-align: right;\">    0.00804753</td><td style=\"text-align: right;\">     0.0978605</td><td style=\"text-align: right;\">      0.04644 </td><td style=\"text-align: right;\">    -0.196952 </td><td style=\"text-align: right;\">    0.0841733 </td><td style=\"text-align: right;\">    0.106753  </td><td style=\"text-align: right;\">    0.157678  </td><td style=\"text-align: right;\">     0.160982 </td><td style=\"text-align: right;\">     0.0258853</td><td style=\"text-align: right;\">   -0.0262195 </td><td style=\"text-align: right;\">     0.119951 </td><td style=\"text-align: right;\">     0.0616987</td><td style=\"text-align: right;\">    -0.0881329</td><td style=\"text-align: right;\">   -0.0475629 </td><td style=\"text-align: right;\">    -0.220645 </td><td style=\"text-align: right;\">   0.109434   </td><td style=\"text-align: right;\">   -0.187359  </td><td style=\"text-align: right;\">    -0.133566 </td><td style=\"text-align: right;\">    -0.0468173</td><td style=\"text-align: right;\">   -0.434771  </td><td style=\"text-align: right;\">   -0.199745  </td><td style=\"text-align: right;\">     0.0825976</td><td style=\"text-align: right;\">    -0.122619 </td><td style=\"text-align: right;\">  -0.120492   </td><td style=\"text-align: right;\">    -0.36106  </td><td style=\"text-align: right;\">     0.145381 </td><td style=\"text-align: right;\">   -0.138524  </td><td style=\"text-align: right;\">     0.0326654</td><td style=\"text-align: right;\">   -0.194585  </td><td style=\"text-align: right;\">    -0.0845406</td><td style=\"text-align: right;\">    0.154027  </td><td style=\"text-align: right;\">   -0.118049  </td><td style=\"text-align: right;\">     0.322915 </td><td style=\"text-align: right;\">    -0.314898 </td><td style=\"text-align: right;\">    -0.156482 </td><td style=\"text-align: right;\">    -0.202879 </td><td style=\"text-align: right;\">    -0.223518 </td><td style=\"text-align: right;\">   -0.0209619 </td><td style=\"text-align: right;\">    -0.351745 </td><td style=\"text-align: right;\">    -0.0591792</td><td style=\"text-align: right;\">   -0.110311  </td><td style=\"text-align: right;\">   0.18009    </td><td style=\"text-align: right;\">    -0.0769079</td><td style=\"text-align: right;\">     0.0337221</td><td style=\"text-align: right;\">     0.239004 </td><td style=\"text-align: right;\">    0.0514296 </td><td style=\"text-align: right;\">     0.184325 </td><td style=\"text-align: right;\">     0.163954 </td><td style=\"text-align: right;\">     0.0971651</td><td style=\"text-align: right;\">    -0.190798 </td><td style=\"text-align: right;\">    0.0529597 </td><td style=\"text-align: right;\">    0.0219213 </td><td style=\"text-align: right;\">   -0.0317424 </td><td style=\"text-align: right;\">    -0.047158 </td><td style=\"text-align: right;\">     0.208096 </td><td style=\"text-align: right;\">     0.111037 </td><td style=\"text-align: right;\">    0.138568  </td><td style=\"text-align: right;\">     0.104363 </td><td style=\"text-align: right;\">   -0.0436805 </td><td style=\"text-align: right;\">    0.0888569 </td><td style=\"text-align: right;\">    -0.0963954</td><td style=\"text-align: right;\">     0.0636771</td><td style=\"text-align: right;\">   -0.064947  </td><td style=\"text-align: right;\">    -0.224414 </td><td style=\"text-align: right;\">     0.203691 </td><td style=\"text-align: right;\">     0.152897 </td><td style=\"text-align: right;\">     0.0749412</td><td style=\"text-align: right;\">    -0.148309 </td><td style=\"text-align: right;\">   -0.00872165</td><td style=\"text-align: right;\">     0.0916642</td><td style=\"text-align: right;\">     0.0440057</td><td style=\"text-align: right;\">   0.0100677  </td><td style=\"text-align: right;\">    -0.022729 </td><td style=\"text-align: right;\">    -0.0461798</td><td style=\"text-align: right;\">    0.0204408 </td><td style=\"text-align: right;\">   -0.168099  </td><td style=\"text-align: right;\">    -0.045887 </td><td style=\"text-align: right;\">     0.106997 </td><td style=\"text-align: right;\">    0.00278854</td><td style=\"text-align: right;\">     0.150904 </td><td style=\"text-align: right;\">   -0.00649837</td><td style=\"text-align: right;\">    0.169957  </td><td style=\"text-align: right;\">    0.051302  </td><td style=\"text-align: right;\">     0.109997 </td><td style=\"text-align: right;\">   0.0890683  </td><td style=\"text-align: right;\">     0.0250953</td></tr>\n",
              "<tr><td>b&#x27;Great Shaver!&#x27;                                 </td><td>b&#x27;Have used this brand most of my shaving life and this model for almost 20yrs. Reliable and reasonable price. Thanks Remington!&#x27;                                                                                                                                                                                                                                                                                                                                                                                                                                                                                                                                                                                                                                                            </td><td style=\"text-align: right;\">       1</td><td style=\"text-align: right;\">-0.0267184</td><td style=\"text-align: right;\">-0.0746991 </td><td style=\"text-align: right;\">0.123901 </td><td style=\"text-align: right;\"> 0.0717693</td><td style=\"text-align: right;\"> 0.0697752</td><td style=\"text-align: right;\"> 0.00646052</td><td style=\"text-align: right;\">0.150302 </td><td style=\"text-align: right;\">-0.0303922  </td><td style=\"text-align: right;\">-0.164465  </td><td style=\"text-align: right;\">-0.0387784</td><td style=\"text-align: right;\"> 0.107687 </td><td style=\"text-align: right;\"> 0.0480452  </td><td style=\"text-align: right;\">0.102025 </td><td style=\"text-align: right;\">0.0594183</td><td style=\"text-align: right;\">-0.0909733 </td><td style=\"text-align: right;\">-0.115757 </td><td style=\"text-align: right;\"> 0.00452405</td><td style=\"text-align: right;\">-0.168552 </td><td style=\"text-align: right;\">-0.00297653</td><td style=\"text-align: right;\">-0.0746426</td><td style=\"text-align: right;\"> 0.0991129</td><td style=\"text-align: right;\">-0.104631 </td><td style=\"text-align: right;\">0.0818821 </td><td style=\"text-align: right;\">-0.0696691 </td><td style=\"text-align: right;\">-0.124786  </td><td style=\"text-align: right;\">-0.010951 </td><td style=\"text-align: right;\">-0.161381 </td><td style=\"text-align: right;\">-0.134014 </td><td style=\"text-align: right;\">-0.0769209</td><td style=\"text-align: right;\">-0.0534062 </td><td style=\"text-align: right;\"> 0.0368544 </td><td style=\"text-align: right;\">-0.0829076</td><td style=\"text-align: right;\">0.098256  </td><td style=\"text-align: right;\">-0.114007  </td><td style=\"text-align: right;\"> 0.01839  </td><td style=\"text-align: right;\">-0.145667 </td><td style=\"text-align: right;\"> 0.024858  </td><td style=\"text-align: right;\"> 0.0173954 </td><td style=\"text-align: right;\"> 0.151485  </td><td style=\"text-align: right;\">-0.0672344 </td><td style=\"text-align: right;\"> 0.0757432</td><td style=\"text-align: right;\">-0.0689638</td><td style=\"text-align: right;\">-0.0894622</td><td style=\"text-align: right;\">0.05965   </td><td style=\"text-align: right;\">-0.00148573</td><td style=\"text-align: right;\">-0.104524</td><td style=\"text-align: right;\">-0.127871 </td><td style=\"text-align: right;\">-0.24149  </td><td style=\"text-align: right;\">-0.335191  </td><td style=\"text-align: right;\">-0.0740244</td><td style=\"text-align: right;\">-0.0192959</td><td style=\"text-align: right;\"> 0.117943  </td><td style=\"text-align: right;\"> 0.171084   </td><td style=\"text-align: right;\">-0.0296111 </td><td style=\"text-align: right;\">-0.0630847</td><td style=\"text-align: right;\"> 0.208567   </td><td style=\"text-align: right;\">-0.176606   </td><td style=\"text-align: right;\">-0.0302485 </td><td style=\"text-align: right;\"> 0.102223 </td><td style=\"text-align: right;\">-0.0132167  </td><td style=\"text-align: right;\"> 0.00518075</td><td style=\"text-align: right;\">-0.0292731</td><td style=\"text-align: right;\"> 0.032837  </td><td style=\"text-align: right;\"> 0.0925331 </td><td style=\"text-align: right;\">-0.043527 </td><td style=\"text-align: right;\">0.027017 </td><td style=\"text-align: right;\"> 0.0959667  </td><td style=\"text-align: right;\">-0.0885036</td><td style=\"text-align: right;\">-0.0572373 </td><td style=\"text-align: right;\"> 0.0267574</td><td style=\"text-align: right;\">-0.0549759 </td><td style=\"text-align: right;\">-0.251392 </td><td style=\"text-align: right;\">-0.00339734</td><td style=\"text-align: right;\">-0.107033  </td><td style=\"text-align: right;\">-0.0918514</td><td style=\"text-align: right;\">0.0799821</td><td style=\"text-align: right;\">0.203383  </td><td style=\"text-align: right;\"> 0.000393762</td><td style=\"text-align: right;\">-0.169063  </td><td style=\"text-align: right;\"> 0.0293275 </td><td style=\"text-align: right;\">-0.079522  </td><td style=\"text-align: right;\">-0.0141269</td><td style=\"text-align: right;\"> 0.015404 </td><td style=\"text-align: right;\"> 0.0106642 </td><td style=\"text-align: right;\">-0.148993  </td><td style=\"text-align: right;\"> 0.0331611 </td><td style=\"text-align: right;\">-0.164383 </td><td style=\"text-align: right;\">0.185302  </td><td style=\"text-align: right;\">-0.127495  </td><td style=\"text-align: right;\"> 0.103625 </td><td style=\"text-align: right;\">-0.0154834 </td><td style=\"text-align: right;\">0.111045 </td><td style=\"text-align: right;\"> 0.108701 </td><td style=\"text-align: right;\">-0.0866813</td><td style=\"text-align: right;\"> 0.0778119 </td><td style=\"text-align: right;\"> 0.160836 </td><td style=\"text-align: right;\">-0.131799 </td><td style=\"text-align: right;\">-0.0409803 </td><td style=\"text-align: right;\">-0.056843 </td><td style=\"text-align: right;\">-0.0596652 </td><td style=\"text-align: right;\">    0.0985717</td><td style=\"text-align: right;\">    0.0194392</td><td style=\"text-align: right;\">   0.18109   </td><td style=\"text-align: right;\">    0.173646 </td><td style=\"text-align: right;\">   0.0331039 </td><td style=\"text-align: right;\">  0.0877985  </td><td style=\"text-align: right;\">    0.0554573</td><td style=\"text-align: right;\">   -0.070928 </td><td style=\"text-align: right;\">   -0.0748239</td><td style=\"text-align: right;\">   -0.241862  </td><td style=\"text-align: right;\">      0.141667</td><td style=\"text-align: right;\">    0.144358  </td><td style=\"text-align: right;\">     0.170589 </td><td style=\"text-align: right;\">      0.186124</td><td style=\"text-align: right;\">    -0.18822  </td><td style=\"text-align: right;\">   -0.128433  </td><td style=\"text-align: right;\">   -0.153397  </td><td style=\"text-align: right;\">   -0.161563  </td><td style=\"text-align: right;\">     0.0677961</td><td style=\"text-align: right;\">     0.0946356</td><td style=\"text-align: right;\">    0.0876714 </td><td style=\"text-align: right;\">    -0.179229 </td><td style=\"text-align: right;\">     0.119269 </td><td style=\"text-align: right;\">    -0.0532511</td><td style=\"text-align: right;\">   -0.233716  </td><td style=\"text-align: right;\">     0.149478 </td><td style=\"text-align: right;\">  -0.0920871  </td><td style=\"text-align: right;\">   -0.231393  </td><td style=\"text-align: right;\">    -0.0934427</td><td style=\"text-align: right;\">     0.127727 </td><td style=\"text-align: right;\">    0.215613  </td><td style=\"text-align: right;\">    0.0383523 </td><td style=\"text-align: right;\">    -0.0225205</td><td style=\"text-align: right;\">    -0.0896057</td><td style=\"text-align: right;\">  -0.000653461</td><td style=\"text-align: right;\">    -0.0712041</td><td style=\"text-align: right;\">     0.214335 </td><td style=\"text-align: right;\">    0.0788042 </td><td style=\"text-align: right;\">     0.0236887</td><td style=\"text-align: right;\">   -0.0370189 </td><td style=\"text-align: right;\">     0.141233 </td><td style=\"text-align: right;\">   -0.186139  </td><td style=\"text-align: right;\">   -0.167688  </td><td style=\"text-align: right;\">    -0.0891657</td><td style=\"text-align: right;\">     0.0536717</td><td style=\"text-align: right;\">     0.0486113</td><td style=\"text-align: right;\">    -0.194752 </td><td style=\"text-align: right;\">    -0.122356 </td><td style=\"text-align: right;\">   -0.277635  </td><td style=\"text-align: right;\">     0.0259294</td><td style=\"text-align: right;\">    -0.0437909</td><td style=\"text-align: right;\">   -0.0673151 </td><td style=\"text-align: right;\">   0.170054   </td><td style=\"text-align: right;\">     0.0579058</td><td style=\"text-align: right;\">     0.0692458</td><td style=\"text-align: right;\">     0.176816 </td><td style=\"text-align: right;\">   -0.147954  </td><td style=\"text-align: right;\">    -0.0855075</td><td style=\"text-align: right;\">     0.0863328</td><td style=\"text-align: right;\">     0.076117 </td><td style=\"text-align: right;\">     0.154213 </td><td style=\"text-align: right;\">   -0.177812  </td><td style=\"text-align: right;\">    0.113501  </td><td style=\"text-align: right;\">    0.282847  </td><td style=\"text-align: right;\">    -0.0213371</td><td style=\"text-align: right;\">    -0.0433421</td><td style=\"text-align: right;\">     0.0894588</td><td style=\"text-align: right;\">   -0.134439  </td><td style=\"text-align: right;\">    -0.0800255</td><td style=\"text-align: right;\">   -0.0128096 </td><td style=\"text-align: right;\">   -0.0863859 </td><td style=\"text-align: right;\">    -0.312848 </td><td style=\"text-align: right;\">    -0.0339835</td><td style=\"text-align: right;\">   -0.286208  </td><td style=\"text-align: right;\">    -0.17276  </td><td style=\"text-align: right;\">    -0.0217406</td><td style=\"text-align: right;\">     0.324704 </td><td style=\"text-align: right;\">     0.0031025</td><td style=\"text-align: right;\">    -0.165292 </td><td style=\"text-align: right;\">   -0.160458  </td><td style=\"text-align: right;\">    -0.0758443</td><td style=\"text-align: right;\">     0.274847 </td><td style=\"text-align: right;\">  -0.0109385  </td><td style=\"text-align: right;\">     0.0556924</td><td style=\"text-align: right;\">    -0.1577   </td><td style=\"text-align: right;\">    0.0873062 </td><td style=\"text-align: right;\">   -0.0861794 </td><td style=\"text-align: right;\">     0.43034  </td><td style=\"text-align: right;\">    -0.139996 </td><td style=\"text-align: right;\">    0.197337  </td><td style=\"text-align: right;\">    -0.0108087</td><td style=\"text-align: right;\">    0.0695055 </td><td style=\"text-align: right;\">    0.136743  </td><td style=\"text-align: right;\">   -0.130014  </td><td style=\"text-align: right;\">     0.16545  </td><td style=\"text-align: right;\">   0.254047   </td><td style=\"text-align: right;\">    -0.0142715</td></tr>\n",
              "<tr><td>b&#x27;A must buy!&#x27;                                   </td><td>b&quot;All I have to say is WOW!!! This thing is AMAZING!!! It&#x27;s much bigger and thicker than I thought it would be. But it feels amazing!!! The &amp;#34;veins&amp;#34; on this thing feel great and the curve hits just the right spots. If ur thinking about getting this do it!! U won&#x27;t be disappointed. And for the price u can&#x27;t beat it, no pun intended ;-)&quot;                                                                                                                                                                                                                                                                                                                                                                                                                                     </td><td style=\"text-align: right;\">       1</td><td style=\"text-align: right;\">-0.0768413</td><td style=\"text-align: right;\"> 0.00284802</td><td style=\"text-align: right;\">0.0312026</td><td style=\"text-align: right;\"> 0.0605578</td><td style=\"text-align: right;\">-0.043233 </td><td style=\"text-align: right;\">-0.168788  </td><td style=\"text-align: right;\">0.0493164</td><td style=\"text-align: right;\"> 0.0826733  </td><td style=\"text-align: right;\">-0.00901266</td><td style=\"text-align: right;\">-0.201767 </td><td style=\"text-align: right;\"> 0.194894 </td><td style=\"text-align: right;\"> 0.070415   </td><td style=\"text-align: right;\">0.0657498</td><td style=\"text-align: right;\">0.234974 </td><td style=\"text-align: right;\">-0.0139757 </td><td style=\"text-align: right;\"> 0.025135 </td><td style=\"text-align: right;\">-0.0869464 </td><td style=\"text-align: right;\"> 0.0346383</td><td style=\"text-align: right;\">-0.0196762 </td><td style=\"text-align: right;\">-0.0311462</td><td style=\"text-align: right;\"> 0.15999  </td><td style=\"text-align: right;\">-0.054409 </td><td style=\"text-align: right;\">0.00983038</td><td style=\"text-align: right;\"> 0.0695471 </td><td style=\"text-align: right;\">-0.0921221 </td><td style=\"text-align: right;\">-0.0651336</td><td style=\"text-align: right;\">-0.0232098</td><td style=\"text-align: right;\">-0.106115 </td><td style=\"text-align: right;\">-0.1366   </td><td style=\"text-align: right;\"> 0.00889823</td><td style=\"text-align: right;\"> 0.139722  </td><td style=\"text-align: right;\"> 0.0146413</td><td style=\"text-align: right;\">0.102205  </td><td style=\"text-align: right;\"> 0.0998881 </td><td style=\"text-align: right;\">-0.0615694</td><td style=\"text-align: right;\">-0.118317 </td><td style=\"text-align: right;\"> 0.0503215 </td><td style=\"text-align: right;\"> 0.0422135 </td><td style=\"text-align: right;\">-0.0250392 </td><td style=\"text-align: right;\"> 0.0173458 </td><td style=\"text-align: right;\">-0.129195 </td><td style=\"text-align: right;\"> 0.0661831</td><td style=\"text-align: right;\">-0.086687 </td><td style=\"text-align: right;\">0.104407  </td><td style=\"text-align: right;\"> 0.055491  </td><td style=\"text-align: right;\">-0.235714</td><td style=\"text-align: right;\">-0.0673975</td><td style=\"text-align: right;\">-0.262413 </td><td style=\"text-align: right;\">-0.0131427 </td><td style=\"text-align: right;\">-0.135862 </td><td style=\"text-align: right;\"> 0.0158965</td><td style=\"text-align: right;\"> 0.0440822 </td><td style=\"text-align: right;\">-0.00436063 </td><td style=\"text-align: right;\"> 0.00899403</td><td style=\"text-align: right;\">-0.11207  </td><td style=\"text-align: right;\">-0.0665095  </td><td style=\"text-align: right;\">-0.0245686  </td><td style=\"text-align: right;\">-0.00584532</td><td style=\"text-align: right;\"> 0.0740078</td><td style=\"text-align: right;\"> 0.0112049  </td><td style=\"text-align: right;\">-0.027098  </td><td style=\"text-align: right;\">-0.0382971</td><td style=\"text-align: right;\"> 0.0756364 </td><td style=\"text-align: right;\">-0.0313333 </td><td style=\"text-align: right;\">-0.0642194</td><td style=\"text-align: right;\">0.0831356</td><td style=\"text-align: right;\"> 0.107589   </td><td style=\"text-align: right;\">-0.143102 </td><td style=\"text-align: right;\">-0.0749767 </td><td style=\"text-align: right;\">-0.0768106</td><td style=\"text-align: right;\"> 0.0116806 </td><td style=\"text-align: right;\">-0.165305 </td><td style=\"text-align: right;\"> 0.0219486 </td><td style=\"text-align: right;\">-0.0579853 </td><td style=\"text-align: right;\">-0.0958086</td><td style=\"text-align: right;\">0.187299 </td><td style=\"text-align: right;\">0.0510425 </td><td style=\"text-align: right;\">-0.0922195  </td><td style=\"text-align: right;\">-0.104481  </td><td style=\"text-align: right;\"> 0.0974122 </td><td style=\"text-align: right;\"> 0.0176744 </td><td style=\"text-align: right;\"> 0.0471574</td><td style=\"text-align: right;\">-0.0241736</td><td style=\"text-align: right;\">-0.0495079 </td><td style=\"text-align: right;\">-0.002561  </td><td style=\"text-align: right;\">-0.0175214 </td><td style=\"text-align: right;\">-0.081512 </td><td style=\"text-align: right;\">0.265825  </td><td style=\"text-align: right;\"> 0.125608  </td><td style=\"text-align: right;\"> 0.0686583</td><td style=\"text-align: right;\"> 0.00247917</td><td style=\"text-align: right;\">0.0764167</td><td style=\"text-align: right;\"> 0.031773 </td><td style=\"text-align: right;\">-0.0858762</td><td style=\"text-align: right;\"> 0.0487125 </td><td style=\"text-align: right;\"> 0.123883 </td><td style=\"text-align: right;\"> 0.0259111</td><td style=\"text-align: right;\">-0.120054  </td><td style=\"text-align: right;\">-0.0352084</td><td style=\"text-align: right;\"> 0.00968651</td><td style=\"text-align: right;\">   -0.0732273</td><td style=\"text-align: right;\">   -0.168929 </td><td style=\"text-align: right;\">   0.0784872 </td><td style=\"text-align: right;\">    0.123316 </td><td style=\"text-align: right;\">   0.00825487</td><td style=\"text-align: right;\"> -0.0622432  </td><td style=\"text-align: right;\">    0.0411583</td><td style=\"text-align: right;\">   -0.0170163</td><td style=\"text-align: right;\">    0.0198493</td><td style=\"text-align: right;\">    0.0547626 </td><td style=\"text-align: right;\">      0.258449</td><td style=\"text-align: right;\">    0.0321688 </td><td style=\"text-align: right;\">     0.192467 </td><td style=\"text-align: right;\">      0.2926  </td><td style=\"text-align: right;\">     0.0533199</td><td style=\"text-align: right;\">    0.05431   </td><td style=\"text-align: right;\">   -0.0522813 </td><td style=\"text-align: right;\">    0.117766  </td><td style=\"text-align: right;\">     0.0441459</td><td style=\"text-align: right;\">    -0.109188 </td><td style=\"text-align: right;\">   -0.0433731 </td><td style=\"text-align: right;\">    -0.0584169</td><td style=\"text-align: right;\">     0.285935 </td><td style=\"text-align: right;\">     0.0644105</td><td style=\"text-align: right;\">   -0.10516   </td><td style=\"text-align: right;\">    -0.185374 </td><td style=\"text-align: right;\">  -0.0240614  </td><td style=\"text-align: right;\">   -0.144476  </td><td style=\"text-align: right;\">    -0.0851688</td><td style=\"text-align: right;\">    -0.0269362</td><td style=\"text-align: right;\">    0.0557834 </td><td style=\"text-align: right;\">   -0.134122  </td><td style=\"text-align: right;\">     0.0892278</td><td style=\"text-align: right;\">    -0.201837 </td><td style=\"text-align: right;\">  -0.00468347 </td><td style=\"text-align: right;\">    -0.116059 </td><td style=\"text-align: right;\">     0.0688749</td><td style=\"text-align: right;\">   -0.0182053 </td><td style=\"text-align: right;\">    -0.0627969</td><td style=\"text-align: right;\">   -0.145292  </td><td style=\"text-align: right;\">     0.138103 </td><td style=\"text-align: right;\">   -0.0417901 </td><td style=\"text-align: right;\">   -0.176478  </td><td style=\"text-align: right;\">     0.212516 </td><td style=\"text-align: right;\">     0.0296519</td><td style=\"text-align: right;\">    -0.260593 </td><td style=\"text-align: right;\">    -0.0863586</td><td style=\"text-align: right;\">    -0.289359 </td><td style=\"text-align: right;\">   -0.0503976 </td><td style=\"text-align: right;\">    -0.145964 </td><td style=\"text-align: right;\">    -0.0780565</td><td style=\"text-align: right;\">   -0.011473  </td><td style=\"text-align: right;\">   0.03401    </td><td style=\"text-align: right;\">     0.167505 </td><td style=\"text-align: right;\">    -0.0810149</td><td style=\"text-align: right;\">     0.137137 </td><td style=\"text-align: right;\">   -0.087645  </td><td style=\"text-align: right;\">     0.0299988</td><td style=\"text-align: right;\">     0.206914 </td><td style=\"text-align: right;\">     0.0784216</td><td style=\"text-align: right;\">     0.0728091</td><td style=\"text-align: right;\">    0.0552621 </td><td style=\"text-align: right;\">   -0.0676242 </td><td style=\"text-align: right;\">    0.0277975 </td><td style=\"text-align: right;\">    -0.100728 </td><td style=\"text-align: right;\">     0.142782 </td><td style=\"text-align: right;\">    -0.143918 </td><td style=\"text-align: right;\">   -0.0883297 </td><td style=\"text-align: right;\">    -0.160391 </td><td style=\"text-align: right;\">   -0.0606443 </td><td style=\"text-align: right;\">    0.00339844</td><td style=\"text-align: right;\">    -0.11654  </td><td style=\"text-align: right;\">     0.0838448</td><td style=\"text-align: right;\">    0.00661432</td><td style=\"text-align: right;\">    -0.158279 </td><td style=\"text-align: right;\">    -0.10147  </td><td style=\"text-align: right;\">     0.0757688</td><td style=\"text-align: right;\">    -0.041946 </td><td style=\"text-align: right;\">     0.0290898</td><td style=\"text-align: right;\">    0.120324  </td><td style=\"text-align: right;\">    -0.17229  </td><td style=\"text-align: right;\">     0.0416798</td><td style=\"text-align: right;\">   7.05011e-05</td><td style=\"text-align: right;\">     0.0254558</td><td style=\"text-align: right;\">     0.0951058</td><td style=\"text-align: right;\">   -0.0714884 </td><td style=\"text-align: right;\">   -0.214528  </td><td style=\"text-align: right;\">     0.0842751</td><td style=\"text-align: right;\">    -0.0496892</td><td style=\"text-align: right;\">    0.0361254 </td><td style=\"text-align: right;\">     0.0746554</td><td style=\"text-align: right;\">    0.272578  </td><td style=\"text-align: right;\">    0.0448493 </td><td style=\"text-align: right;\">   -0.134769  </td><td style=\"text-align: right;\">    -0.012986 </td><td style=\"text-align: right;\">   0.0107888  </td><td style=\"text-align: right;\">    -0.125767 </td></tr>\n",
              "<tr><td>b&#x27;Do Not Recommend&#x27;                              </td><td>b&#x27;I bought this scale from Brookstone. It has a poor readout, one of the numbers flickers and you can not tell what it is. Thus you never know what you weigh! I contacted Brookstone about how to return it and they never got back to me. Not a good buying experience. $20.00 wasted on a piece of junk.&#x27;                                                                                                                                                                                                                                                                                                                                                                                                                                                                                 </td><td style=\"text-align: right;\">       0</td><td style=\"text-align: right;\">-0.0508059</td><td style=\"text-align: right;\">-0.179957  </td><td style=\"text-align: right;\">0.0465442</td><td style=\"text-align: right;\">-0.0204945</td><td style=\"text-align: right;\"> 0.0434519</td><td style=\"text-align: right;\">-0.229655  </td><td style=\"text-align: right;\">0.0908586</td><td style=\"text-align: right;\"> 0.000625516</td><td style=\"text-align: right;\">-0.111307  </td><td style=\"text-align: right;\"> 0.0120808</td><td style=\"text-align: right;\"> 0.213965 </td><td style=\"text-align: right;\">-0.0125967  </td><td style=\"text-align: right;\">0.132672 </td><td style=\"text-align: right;\">0.0849266</td><td style=\"text-align: right;\">-0.0172303 </td><td style=\"text-align: right;\">-0.0642169</td><td style=\"text-align: right;\"> 0.0756674 </td><td style=\"text-align: right;\">-0.013245 </td><td style=\"text-align: right;\"> 0.0708525 </td><td style=\"text-align: right;\">-0.0408262</td><td style=\"text-align: right;\">-0.0564054</td><td style=\"text-align: right;\"> 0.0418056</td><td style=\"text-align: right;\">0.149826  </td><td style=\"text-align: right;\">-0.0921761 </td><td style=\"text-align: right;\"> 0.00479216</td><td style=\"text-align: right;\">-0.0748667</td><td style=\"text-align: right;\"> 0.0406384</td><td style=\"text-align: right;\">-0.211613 </td><td style=\"text-align: right;\">-0.0141081</td><td style=\"text-align: right;\"> 0.104555  </td><td style=\"text-align: right;\">-0.0291484 </td><td style=\"text-align: right;\">-0.0345137</td><td style=\"text-align: right;\">0.111775  </td><td style=\"text-align: right;\">-0.125176  </td><td style=\"text-align: right;\">-0.0756227</td><td style=\"text-align: right;\">-0.203498 </td><td style=\"text-align: right;\">-0.0705912 </td><td style=\"text-align: right;\"> 0.123305  </td><td style=\"text-align: right;\"> 0.0564757 </td><td style=\"text-align: right;\">-0.0483029 </td><td style=\"text-align: right;\"> 0.0108887</td><td style=\"text-align: right;\">-0.0209822</td><td style=\"text-align: right;\">-0.113419 </td><td style=\"text-align: right;\">0.00851502</td><td style=\"text-align: right;\"> 0.0738609 </td><td style=\"text-align: right;\">-0.171261</td><td style=\"text-align: right;\">-0.153512 </td><td style=\"text-align: right;\">-0.291633 </td><td style=\"text-align: right;\">-0.172267  </td><td style=\"text-align: right;\">-0.125886 </td><td style=\"text-align: right;\"> 0.155281 </td><td style=\"text-align: right;\"> 0.0643922 </td><td style=\"text-align: right;\">-0.133959   </td><td style=\"text-align: right;\"> 0.113043  </td><td style=\"text-align: right;\">-0.0698285</td><td style=\"text-align: right;\"> 0.0609271  </td><td style=\"text-align: right;\">-0.0581799  </td><td style=\"text-align: right;\">-0.0883949 </td><td style=\"text-align: right;\"> 0.111958 </td><td style=\"text-align: right;\">-0.0640391  </td><td style=\"text-align: right;\"> 0.0373943 </td><td style=\"text-align: right;\">-0.0242321</td><td style=\"text-align: right;\">-0.00300076</td><td style=\"text-align: right;\">-0.00766995</td><td style=\"text-align: right;\">-0.151293 </td><td style=\"text-align: right;\">0.029027 </td><td style=\"text-align: right;\">-0.000241685</td><td style=\"text-align: right;\">-0.0628195</td><td style=\"text-align: right;\">-0.14541   </td><td style=\"text-align: right;\"> 0.101004 </td><td style=\"text-align: right;\"> 0.0484404 </td><td style=\"text-align: right;\">-0.111839 </td><td style=\"text-align: right;\"> 0.0544999 </td><td style=\"text-align: right;\"> 0.0154685 </td><td style=\"text-align: right;\">-0.12121  </td><td style=\"text-align: right;\">0.0861761</td><td style=\"text-align: right;\">0.106714  </td><td style=\"text-align: right;\"> 0.00450785 </td><td style=\"text-align: right;\">-0.173912  </td><td style=\"text-align: right;\">-0.0618817 </td><td style=\"text-align: right;\">-0.0616228 </td><td style=\"text-align: right;\">-0.0570102</td><td style=\"text-align: right;\">-0.0365563</td><td style=\"text-align: right;\"> 0.0251256 </td><td style=\"text-align: right;\">-0.0331181 </td><td style=\"text-align: right;\"> 0.0916705 </td><td style=\"text-align: right;\">-0.0949907</td><td style=\"text-align: right;\">0.116862  </td><td style=\"text-align: right;\">-0.0161621 </td><td style=\"text-align: right;\">-0.0473812</td><td style=\"text-align: right;\"> 0.116796  </td><td style=\"text-align: right;\">0.09486  </td><td style=\"text-align: right;\"> 0.035186 </td><td style=\"text-align: right;\">-0.0858907</td><td style=\"text-align: right;\">-0.0444638 </td><td style=\"text-align: right;\"> 0.11693  </td><td style=\"text-align: right;\"> 0.0359531</td><td style=\"text-align: right;\"> 0.0683535 </td><td style=\"text-align: right;\">-0.0166391</td><td style=\"text-align: right;\"> 0.0382368 </td><td style=\"text-align: right;\">    0.147579 </td><td style=\"text-align: right;\">   -0.479175 </td><td style=\"text-align: right;\">   0.153228  </td><td style=\"text-align: right;\">   -0.0799735</td><td style=\"text-align: right;\">   0.0703244 </td><td style=\"text-align: right;\">  0.0523059  </td><td style=\"text-align: right;\">    0.293919 </td><td style=\"text-align: right;\">    0.104108 </td><td style=\"text-align: right;\">    0.140133 </td><td style=\"text-align: right;\">   -0.231774  </td><td style=\"text-align: right;\">      0.467391</td><td style=\"text-align: right;\">    0.110263  </td><td style=\"text-align: right;\">     0.35402  </td><td style=\"text-align: right;\">      0.23327 </td><td style=\"text-align: right;\">     0.183242 </td><td style=\"text-align: right;\">    0.147269  </td><td style=\"text-align: right;\">    0.00425655</td><td style=\"text-align: right;\">    0.0878035 </td><td style=\"text-align: right;\">    -0.43228  </td><td style=\"text-align: right;\">     0.114302 </td><td style=\"text-align: right;\">    0.165939  </td><td style=\"text-align: right;\">     0.206719 </td><td style=\"text-align: right;\">     0.189305 </td><td style=\"text-align: right;\">     0.259141 </td><td style=\"text-align: right;\">   -0.247434  </td><td style=\"text-align: right;\">    -0.421463 </td><td style=\"text-align: right;\">   0.21093    </td><td style=\"text-align: right;\">   -0.00965216</td><td style=\"text-align: right;\">     0.295848 </td><td style=\"text-align: right;\">     0.246257 </td><td style=\"text-align: right;\">    0.316173  </td><td style=\"text-align: right;\">   -0.467142  </td><td style=\"text-align: right;\">     0.0451885</td><td style=\"text-align: right;\">    -0.190269 </td><td style=\"text-align: right;\">   0.458829   </td><td style=\"text-align: right;\">     0.178653 </td><td style=\"text-align: right;\">     0.102908 </td><td style=\"text-align: right;\">   -0.00332112</td><td style=\"text-align: right;\">    -0.330548 </td><td style=\"text-align: right;\">   -0.0477524 </td><td style=\"text-align: right;\">     0.357694 </td><td style=\"text-align: right;\">   -0.0311664 </td><td style=\"text-align: right;\">   -0.126181  </td><td style=\"text-align: right;\">     0.0748839</td><td style=\"text-align: right;\">     0.108795 </td><td style=\"text-align: right;\">    -0.219955 </td><td style=\"text-align: right;\">     0.0745467</td><td style=\"text-align: right;\">    -0.0697908</td><td style=\"text-align: right;\">    0.123752  </td><td style=\"text-align: right;\">    -0.199377 </td><td style=\"text-align: right;\">    -0.103171 </td><td style=\"text-align: right;\">   -0.0378398 </td><td style=\"text-align: right;\">   0.0628833  </td><td style=\"text-align: right;\">    -0.0629042</td><td style=\"text-align: right;\">    -0.270252 </td><td style=\"text-align: right;\">     0.170535 </td><td style=\"text-align: right;\">   -0.261031  </td><td style=\"text-align: right;\">     0.0952996</td><td style=\"text-align: right;\">     0.65108  </td><td style=\"text-align: right;\">    -0.044125 </td><td style=\"text-align: right;\">    -0.205274 </td><td style=\"text-align: right;\">   -0.239943  </td><td style=\"text-align: right;\">   -0.666883  </td><td style=\"text-align: right;\">   -0.0129735 </td><td style=\"text-align: right;\">     0.0116428</td><td style=\"text-align: right;\">     0.0815754</td><td style=\"text-align: right;\">     0.102414 </td><td style=\"text-align: right;\">    0.0874816 </td><td style=\"text-align: right;\">     0.089791 </td><td style=\"text-align: right;\">   -0.101337  </td><td style=\"text-align: right;\">    0.0926056 </td><td style=\"text-align: right;\">    -0.23481  </td><td style=\"text-align: right;\">    -0.280006 </td><td style=\"text-align: right;\">   -0.243552  </td><td style=\"text-align: right;\">     0.15114  </td><td style=\"text-align: right;\">     0.0407007</td><td style=\"text-align: right;\">    -0.0132306</td><td style=\"text-align: right;\">     0.074499 </td><td style=\"text-align: right;\">     0.0504063</td><td style=\"text-align: right;\">    0.308877  </td><td style=\"text-align: right;\">    -0.167295 </td><td style=\"text-align: right;\">    -0.0886771</td><td style=\"text-align: right;\">  -0.394855   </td><td style=\"text-align: right;\">    -0.101384 </td><td style=\"text-align: right;\">     0.233747 </td><td style=\"text-align: right;\">   -0.108572  </td><td style=\"text-align: right;\">   -0.283643  </td><td style=\"text-align: right;\">     0.711037 </td><td style=\"text-align: right;\">    -0.0939792</td><td style=\"text-align: right;\">    0.2501    </td><td style=\"text-align: right;\">     0.127752 </td><td style=\"text-align: right;\">   -0.00438493</td><td style=\"text-align: right;\">   -0.290368  </td><td style=\"text-align: right;\">    0.145897  </td><td style=\"text-align: right;\">    -0.0510955</td><td style=\"text-align: right;\">  -0.0287465  </td><td style=\"text-align: right;\">     0.0506063</td></tr>\n",
              "<tr><td>b&#x27;towel warmer does not seal&#x27;                    </td><td>b&#x27;I purchased the One Touch massage Spa Hot Towel Warmer Cabinet,and when i recived it and started to use it,I noticed the door did not seal in the upper right corner.so I notified the company i purchased it from and they informed me that there is no return policy and they  had tested it befor they mailed it and it worked fine.so Im stuck with it.because it dosent seal it looses alot of heat.i will try to fix it my self,but would advise anyone not to buy from bella Rosa massage on amazon Marketplace!!!!!!!!!!!!&#x27;                                                                                                                                                                                                                                                        </td><td style=\"text-align: right;\">       0</td><td style=\"text-align: right;\">-0.0228389</td><td style=\"text-align: right;\">-0.131815  </td><td style=\"text-align: right;\">0.141082 </td><td style=\"text-align: right;\"> 0.0789803</td><td style=\"text-align: right;\"> 0.135667 </td><td style=\"text-align: right;\">-0.134897  </td><td style=\"text-align: right;\">0.0318972</td><td style=\"text-align: right;\">-0.0047235  </td><td style=\"text-align: right;\">-0.018692  </td><td style=\"text-align: right;\">-0.0783329</td><td style=\"text-align: right;\"> 0.0995169</td><td style=\"text-align: right;\"> 0.0913751  </td><td style=\"text-align: right;\">0.0548097</td><td style=\"text-align: right;\">0.130549 </td><td style=\"text-align: right;\">-0.0429272 </td><td style=\"text-align: right;\">-0.0504806</td><td style=\"text-align: right;\"> 0.0844741 </td><td style=\"text-align: right;\"> 0.0605212</td><td style=\"text-align: right;\"> 0.0532834 </td><td style=\"text-align: right;\"> 0.0314128</td><td style=\"text-align: right;\"> 0.0408085</td><td style=\"text-align: right;\"> 0.0532355</td><td style=\"text-align: right;\">0.10714   </td><td style=\"text-align: right;\">-0.103257  </td><td style=\"text-align: right;\"> 0.023596  </td><td style=\"text-align: right;\">-0.129119 </td><td style=\"text-align: right;\"> 0.0478407</td><td style=\"text-align: right;\">-0.173091 </td><td style=\"text-align: right;\">-0.0163422</td><td style=\"text-align: right;\">-0.0208869 </td><td style=\"text-align: right;\"> 0.0943067 </td><td style=\"text-align: right;\">-0.0471055</td><td style=\"text-align: right;\">0.0805139 </td><td style=\"text-align: right;\"> 0.0110875 </td><td style=\"text-align: right;\">-0.0641704</td><td style=\"text-align: right;\">-0.103243 </td><td style=\"text-align: right;\">-0.00177847</td><td style=\"text-align: right;\">-0.0520681 </td><td style=\"text-align: right;\"> 0.00739305</td><td style=\"text-align: right;\">-0.067199  </td><td style=\"text-align: right;\"> 0.0158653</td><td style=\"text-align: right;\">-0.0114496</td><td style=\"text-align: right;\">-0.0719928</td><td style=\"text-align: right;\">0.0884342 </td><td style=\"text-align: right;\"> 0.00288069</td><td style=\"text-align: right;\">-0.172062</td><td style=\"text-align: right;\">-0.0967657</td><td style=\"text-align: right;\">-0.208385 </td><td style=\"text-align: right;\"> 0.00214033</td><td style=\"text-align: right;\">-0.193226 </td><td style=\"text-align: right;\"> 0.0793364</td><td style=\"text-align: right;\">-0.0468765 </td><td style=\"text-align: right;\">-0.0400939  </td><td style=\"text-align: right;\"> 0.0607248 </td><td style=\"text-align: right;\">-0.0843594</td><td style=\"text-align: right;\"> 0.11702    </td><td style=\"text-align: right;\">-0.000972823</td><td style=\"text-align: right;\">-0.036446  </td><td style=\"text-align: right;\"> 0.0750574</td><td style=\"text-align: right;\"> 0.0422674  </td><td style=\"text-align: right;\">-0.0533396 </td><td style=\"text-align: right;\"> 0.0632731</td><td style=\"text-align: right;\"> 0.0212689 </td><td style=\"text-align: right;\">-0.00549187</td><td style=\"text-align: right;\">-0.175897 </td><td style=\"text-align: right;\">0.191816 </td><td style=\"text-align: right;\">-0.0287642  </td><td style=\"text-align: right;\">-0.097273 </td><td style=\"text-align: right;\">-0.0554141 </td><td style=\"text-align: right;\"> 0.142077 </td><td style=\"text-align: right;\">-0.0214166 </td><td style=\"text-align: right;\">-0.0914849</td><td style=\"text-align: right;\"> 0.0278929 </td><td style=\"text-align: right;\">-0.00779445</td><td style=\"text-align: right;\">-0.0570429</td><td style=\"text-align: right;\">0.116048 </td><td style=\"text-align: right;\">0.0783062 </td><td style=\"text-align: right;\">-0.0731302  </td><td style=\"text-align: right;\">-0.0610502 </td><td style=\"text-align: right;\">-0.0110549 </td><td style=\"text-align: right;\">-0.032644  </td><td style=\"text-align: right;\">-0.0560562</td><td style=\"text-align: right;\">-0.030481 </td><td style=\"text-align: right;\">-0.0286669 </td><td style=\"text-align: right;\"> 0.0476156 </td><td style=\"text-align: right;\"> 0.0646207 </td><td style=\"text-align: right;\">-0.152272 </td><td style=\"text-align: right;\">0.186734  </td><td style=\"text-align: right;\">-0.0703163 </td><td style=\"text-align: right;\"> 0.0361843</td><td style=\"text-align: right;\"> 0.129239  </td><td style=\"text-align: right;\">0.101768 </td><td style=\"text-align: right;\">-0.0393285</td><td style=\"text-align: right;\">-0.0496577</td><td style=\"text-align: right;\"> 0.0264927 </td><td style=\"text-align: right;\"> 0.128681 </td><td style=\"text-align: right;\"> 0.0646215</td><td style=\"text-align: right;\">-0.0363397 </td><td style=\"text-align: right;\">-0.0266638</td><td style=\"text-align: right;\">-0.0448113 </td><td style=\"text-align: right;\">    0.0317996</td><td style=\"text-align: right;\">   -0.184445 </td><td style=\"text-align: right;\">   0.00263442</td><td style=\"text-align: right;\">    0.205546 </td><td style=\"text-align: right;\">   0.150493  </td><td style=\"text-align: right;\"> -0.000264291</td><td style=\"text-align: right;\">   -0.253036 </td><td style=\"text-align: right;\">    0.225682 </td><td style=\"text-align: right;\">   -0.191874 </td><td style=\"text-align: right;\">   -0.175764  </td><td style=\"text-align: right;\">     -0.061835</td><td style=\"text-align: right;\">    0.159218  </td><td style=\"text-align: right;\">     0.0912093</td><td style=\"text-align: right;\">      0.248625</td><td style=\"text-align: right;\">     0.130754 </td><td style=\"text-align: right;\">   -0.156519  </td><td style=\"text-align: right;\">    0.0107372 </td><td style=\"text-align: right;\">    0.180975  </td><td style=\"text-align: right;\">     0.16684  </td><td style=\"text-align: right;\">     0.0242355</td><td style=\"text-align: right;\">    0.13018   </td><td style=\"text-align: right;\">     0.200833 </td><td style=\"text-align: right;\">    -0.311304 </td><td style=\"text-align: right;\">     0.0575114</td><td style=\"text-align: right;\">   -0.0444339 </td><td style=\"text-align: right;\">    -0.0266293</td><td style=\"text-align: right;\">   0.077752   </td><td style=\"text-align: right;\">   -0.375383  </td><td style=\"text-align: right;\">     0.101893 </td><td style=\"text-align: right;\">    -0.162915 </td><td style=\"text-align: right;\">    0.307934  </td><td style=\"text-align: right;\">    0.0818133 </td><td style=\"text-align: right;\">     0.21457  </td><td style=\"text-align: right;\">     0.297097 </td><td style=\"text-align: right;\">  -0.0532055  </td><td style=\"text-align: right;\">     0.222903 </td><td style=\"text-align: right;\">     0.0526903</td><td style=\"text-align: right;\">   -0.265684  </td><td style=\"text-align: right;\">    -0.126056 </td><td style=\"text-align: right;\">    0.102258  </td><td style=\"text-align: right;\">    -0.0116627</td><td style=\"text-align: right;\">    0.123628  </td><td style=\"text-align: right;\">    0.166025  </td><td style=\"text-align: right;\">    -0.0500578</td><td style=\"text-align: right;\">    -0.168806 </td><td style=\"text-align: right;\">    -0.447239 </td><td style=\"text-align: right;\">    -0.298504 </td><td style=\"text-align: right;\">    -0.138741 </td><td style=\"text-align: right;\">    0.243176  </td><td style=\"text-align: right;\">    -0.266157 </td><td style=\"text-align: right;\">     0.224604 </td><td style=\"text-align: right;\">   -0.0212466 </td><td style=\"text-align: right;\">  -0.165455   </td><td style=\"text-align: right;\">     0.11047  </td><td style=\"text-align: right;\">     0.112706 </td><td style=\"text-align: right;\">     0.571865 </td><td style=\"text-align: right;\">    0.145614  </td><td style=\"text-align: right;\">    -0.206501 </td><td style=\"text-align: right;\">    -0.0122222</td><td style=\"text-align: right;\">     0.137008 </td><td style=\"text-align: right;\">    -0.0216038</td><td style=\"text-align: right;\">    0.12967   </td><td style=\"text-align: right;\">    0.0281848 </td><td style=\"text-align: right;\">    0.21957   </td><td style=\"text-align: right;\">    -0.373005 </td><td style=\"text-align: right;\">     0.118779 </td><td style=\"text-align: right;\">     0.109014 </td><td style=\"text-align: right;\">    0.00361587</td><td style=\"text-align: right;\">    -0.0505246</td><td style=\"text-align: right;\">    0.265594  </td><td style=\"text-align: right;\">   -0.249587  </td><td style=\"text-align: right;\">    -0.150246 </td><td style=\"text-align: right;\">    -0.0766568</td><td style=\"text-align: right;\">   -0.0110207 </td><td style=\"text-align: right;\">    -0.0762888</td><td style=\"text-align: right;\">     0.0525057</td><td style=\"text-align: right;\">    -0.0911724</td><td style=\"text-align: right;\">    -0.226445 </td><td style=\"text-align: right;\">    -0.0246509</td><td style=\"text-align: right;\">   -0.048027  </td><td style=\"text-align: right;\">    -0.190844 </td><td style=\"text-align: right;\">    -0.17284  </td><td style=\"text-align: right;\">   0.237949   </td><td style=\"text-align: right;\">    -0.233329 </td><td style=\"text-align: right;\">     0.162223 </td><td style=\"text-align: right;\">   -0.00734265</td><td style=\"text-align: right;\">   -0.0512962 </td><td style=\"text-align: right;\">     0.249343 </td><td style=\"text-align: right;\">    -0.196324 </td><td style=\"text-align: right;\">    0.167901  </td><td style=\"text-align: right;\">     0.0315835</td><td style=\"text-align: right;\">   -0.0893747 </td><td style=\"text-align: right;\">   -0.00682029</td><td style=\"text-align: right;\">   -0.0614747 </td><td style=\"text-align: right;\">     0.1836   </td><td style=\"text-align: right;\">   0.117378   </td><td style=\"text-align: right;\">     0.248518 </td></tr>\n",
              "<tr><td>b&#x27;absolute best&#x27;                                 </td><td>b&#x27;By far my favorite for tight muscle and stiff neck.  Helps with pain in my jaw as well.&#x27;                                                                                                                                                                                                                                                                                                                                                                                                                                                                                                                                                                                                                                                                                                   </td><td style=\"text-align: right;\">       1</td><td style=\"text-align: right;\">-0.103958 </td><td style=\"text-align: right;\"> 0.0246715 </td><td style=\"text-align: right;\">0.104637 </td><td style=\"text-align: right;\"> 0.136728 </td><td style=\"text-align: right;\">-0.0527419</td><td style=\"text-align: right;\">-0.125735  </td><td style=\"text-align: right;\">0.0446257</td><td style=\"text-align: right;\"> 0.0899141  </td><td style=\"text-align: right;\"> 0.0535102 </td><td style=\"text-align: right;\">-0.298211 </td><td style=\"text-align: right;\">-0.0299088</td><td style=\"text-align: right;\"> 0.0655396  </td><td style=\"text-align: right;\">0.053144 </td><td style=\"text-align: right;\">0.233887 </td><td style=\"text-align: right;\"> 0.131791  </td><td style=\"text-align: right;\">-0.038686 </td><td style=\"text-align: right;\">-0.0336645 </td><td style=\"text-align: right;\">-0.0352968</td><td style=\"text-align: right;\">-0.0692699 </td><td style=\"text-align: right;\"> 0.128119 </td><td style=\"text-align: right;\"> 0.186888 </td><td style=\"text-align: right;\">-0.126841 </td><td style=\"text-align: right;\">0.0360562 </td><td style=\"text-align: right;\">-0.0786863 </td><td style=\"text-align: right;\">-0.0100742 </td><td style=\"text-align: right;\">-0.226524 </td><td style=\"text-align: right;\">-0.0319858</td><td style=\"text-align: right;\">-0.0855118</td><td style=\"text-align: right;\">-0.0954031</td><td style=\"text-align: right;\"> 0.0124681 </td><td style=\"text-align: right;\"> 0.200686  </td><td style=\"text-align: right;\"> 0.0129262</td><td style=\"text-align: right;\">0.0530178 </td><td style=\"text-align: right;\">-0.0982679 </td><td style=\"text-align: right;\">-0.0753735</td><td style=\"text-align: right;\"> 0.0322492</td><td style=\"text-align: right;\"> 0.109313  </td><td style=\"text-align: right;\">-0.210429  </td><td style=\"text-align: right;\"> 0.0238655 </td><td style=\"text-align: right;\"> 0.149939  </td><td style=\"text-align: right;\">-0.236132 </td><td style=\"text-align: right;\"> 0.232538 </td><td style=\"text-align: right;\">-0.262881 </td><td style=\"text-align: right;\">0.0055315 </td><td style=\"text-align: right;\"> 0.0899565 </td><td style=\"text-align: right;\">-0.148142</td><td style=\"text-align: right;\">-0.124736 </td><td style=\"text-align: right;\">-0.0299793</td><td style=\"text-align: right;\">-0.0544908 </td><td style=\"text-align: right;\">-0.0136245</td><td style=\"text-align: right;\"> 0.060934 </td><td style=\"text-align: right;\">-0.0445674 </td><td style=\"text-align: right;\">-0.139697   </td><td style=\"text-align: right;\">-0.167066  </td><td style=\"text-align: right;\">-0.157486 </td><td style=\"text-align: right;\">-0.024183   </td><td style=\"text-align: right;\"> 0.0373952  </td><td style=\"text-align: right;\"> 0.0577682 </td><td style=\"text-align: right;\">-0.231225 </td><td style=\"text-align: right;\">-0.030084   </td><td style=\"text-align: right;\">-0.1273    </td><td style=\"text-align: right;\">-0.0666348</td><td style=\"text-align: right;\"> 0.0328089 </td><td style=\"text-align: right;\">-0.0914826 </td><td style=\"text-align: right;\">-0.101506 </td><td style=\"text-align: right;\">0.173033 </td><td style=\"text-align: right;\">-0.0336281  </td><td style=\"text-align: right;\">-0.198465 </td><td style=\"text-align: right;\">-0.132763  </td><td style=\"text-align: right;\"> 0.103198 </td><td style=\"text-align: right;\">-0.0170816 </td><td style=\"text-align: right;\">-0.13847  </td><td style=\"text-align: right;\">-0.0926769 </td><td style=\"text-align: right;\">-0.386108  </td><td style=\"text-align: right;\">-0.131041 </td><td style=\"text-align: right;\">0.123336 </td><td style=\"text-align: right;\">0.00415483</td><td style=\"text-align: right;\">-0.066941   </td><td style=\"text-align: right;\"> 0.0333945 </td><td style=\"text-align: right;\"> 0.127884  </td><td style=\"text-align: right;\"> 0.0106843 </td><td style=\"text-align: right;\"> 0.0610188</td><td style=\"text-align: right;\">-0.0947612</td><td style=\"text-align: right;\">-0.134449  </td><td style=\"text-align: right;\">-0.0260056 </td><td style=\"text-align: right;\">-0.00570768</td><td style=\"text-align: right;\"> 0.0330579</td><td style=\"text-align: right;\">0.270275  </td><td style=\"text-align: right;\"> 0.0969865 </td><td style=\"text-align: right;\">-0.0159688</td><td style=\"text-align: right;\"> 0.167481  </td><td style=\"text-align: right;\">0.262994 </td><td style=\"text-align: right;\">-0.0274624</td><td style=\"text-align: right;\">-0.074717 </td><td style=\"text-align: right;\"> 0.00597972</td><td style=\"text-align: right;\">-0.0571144</td><td style=\"text-align: right;\"> 0.32916  </td><td style=\"text-align: right;\">-0.15369   </td><td style=\"text-align: right;\">-0.06665  </td><td style=\"text-align: right;\">-0.082426  </td><td style=\"text-align: right;\">   -0.14543  </td><td style=\"text-align: right;\">    0.0478399</td><td style=\"text-align: right;\">  -0.149121  </td><td style=\"text-align: right;\">    0.238275 </td><td style=\"text-align: right;\">  -0.238387  </td><td style=\"text-align: right;\"> -0.0347952  </td><td style=\"text-align: right;\">    0.180253 </td><td style=\"text-align: right;\">   -0.314043 </td><td style=\"text-align: right;\">   -0.247291 </td><td style=\"text-align: right;\">    0.254344  </td><td style=\"text-align: right;\">      0.415948</td><td style=\"text-align: right;\">   -0.172352  </td><td style=\"text-align: right;\">     0.134283 </td><td style=\"text-align: right;\">      0.179222</td><td style=\"text-align: right;\">    -0.123907 </td><td style=\"text-align: right;\">   -0.0455006 </td><td style=\"text-align: right;\">   -0.247723  </td><td style=\"text-align: right;\">    0.236248  </td><td style=\"text-align: right;\">     0.0322286</td><td style=\"text-align: right;\">    -0.184137 </td><td style=\"text-align: right;\">   -0.101811  </td><td style=\"text-align: right;\">    -0.228576 </td><td style=\"text-align: right;\">    -0.0502706</td><td style=\"text-align: right;\">     0.111534 </td><td style=\"text-align: right;\">   -0.00781605</td><td style=\"text-align: right;\">     0.0487363</td><td style=\"text-align: right;\">  -0.0089985  </td><td style=\"text-align: right;\">    0.0927955 </td><td style=\"text-align: right;\">    -0.126065 </td><td style=\"text-align: right;\">     0.143551 </td><td style=\"text-align: right;\">    0.0655552 </td><td style=\"text-align: right;\">    0.107125  </td><td style=\"text-align: right;\">     0.0594361</td><td style=\"text-align: right;\">    -0.20738  </td><td style=\"text-align: right;\">   0.0193299  </td><td style=\"text-align: right;\">     0.12481  </td><td style=\"text-align: right;\">    -0.146764 </td><td style=\"text-align: right;\">    0.117836  </td><td style=\"text-align: right;\">     0.39339  </td><td style=\"text-align: right;\">   -0.0309991 </td><td style=\"text-align: right;\">    -0.173659 </td><td style=\"text-align: right;\">   -0.0683364 </td><td style=\"text-align: right;\">   -0.0973029 </td><td style=\"text-align: right;\">    -0.103434 </td><td style=\"text-align: right;\">    -0.127975 </td><td style=\"text-align: right;\">    -0.29213  </td><td style=\"text-align: right;\">    -0.0579712</td><td style=\"text-align: right;\">    -0.523245 </td><td style=\"text-align: right;\">   -0.278161  </td><td style=\"text-align: right;\">    -0.0974871</td><td style=\"text-align: right;\">    -0.121893 </td><td style=\"text-align: right;\">    0.139345  </td><td style=\"text-align: right;\">   0.00678129 </td><td style=\"text-align: right;\">     0.188773 </td><td style=\"text-align: right;\">    -0.166206 </td><td style=\"text-align: right;\">     0.0141407</td><td style=\"text-align: right;\">   -0.0830334 </td><td style=\"text-align: right;\">    -0.227603 </td><td style=\"text-align: right;\">     0.204521 </td><td style=\"text-align: right;\">    -0.0162317</td><td style=\"text-align: right;\">    -0.0189206</td><td style=\"text-align: right;\">   -0.00732312</td><td style=\"text-align: right;\">   -0.2006    </td><td style=\"text-align: right;\">    0.00844035</td><td style=\"text-align: right;\">     0.0158404</td><td style=\"text-align: right;\">     0.279681 </td><td style=\"text-align: right;\">    -0.0461342</td><td style=\"text-align: right;\">   -0.479197  </td><td style=\"text-align: right;\">    -0.0224718</td><td style=\"text-align: right;\">    0.20829   </td><td style=\"text-align: right;\">   -0.169786  </td><td style=\"text-align: right;\">    -0.342787 </td><td style=\"text-align: right;\">     0.0127967</td><td style=\"text-align: right;\">   -0.247428  </td><td style=\"text-align: right;\">    -0.145157 </td><td style=\"text-align: right;\">    -0.0907245</td><td style=\"text-align: right;\">    -0.0818378</td><td style=\"text-align: right;\">    -0.146576 </td><td style=\"text-align: right;\">    -0.0511112</td><td style=\"text-align: right;\">    0.0163786 </td><td style=\"text-align: right;\">    -0.0132748</td><td style=\"text-align: right;\">     0.0340008</td><td style=\"text-align: right;\">  -0.0331604  </td><td style=\"text-align: right;\">    -0.138261 </td><td style=\"text-align: right;\">    -0.154523 </td><td style=\"text-align: right;\">   -0.0221576 </td><td style=\"text-align: right;\">   -0.0742259 </td><td style=\"text-align: right;\">     0.36067  </td><td style=\"text-align: right;\">    -0.0119792</td><td style=\"text-align: right;\">    0.090432  </td><td style=\"text-align: right;\">     0.127042 </td><td style=\"text-align: right;\">    0.350005  </td><td style=\"text-align: right;\">   -0.111523  </td><td style=\"text-align: right;\">    0.26351   </td><td style=\"text-align: right;\">     0.292376 </td><td style=\"text-align: right;\">   0.120512   </td><td style=\"text-align: right;\">    -0.0506201</td></tr>\n",
              "<tr><td>b&#x27;High product failure rate-Buy it with  caution&#x27;</td><td>b&#x27;I had bought an earlier model preceding w4100,the 4000 .It broke down two years into use requiring refurbishment and again it failed.When I spoke to productline[Tim] manager,he told me the failure rate is about 3 percent in 4000 and about 2 percent in 4100 and increases to above 3 percent in 3 years. When I told him about poor  hardware reliability,he told me iphone does not last more than  years,which is not a reply expected from him.He is defending the product high failure rate.The stethescope works well only  when it works.For a premium product and for a biomedical product ,the hardware reliabilty and quality control  is very poor.Annual life cycle  cost of this product is 162.5 Dollars excluding batteries.I recommend people to buy at their own risk&#x27;</td><td style=\"text-align: right;\">       0</td><td style=\"text-align: right;\">-0.0102079</td><td style=\"text-align: right;\">-0.174355  </td><td style=\"text-align: right;\">0.13239  </td><td style=\"text-align: right;\">-0.0765188</td><td style=\"text-align: right;\"> 0.0472735</td><td style=\"text-align: right;\">-0.105487  </td><td style=\"text-align: right;\">0.073599 </td><td style=\"text-align: right;\">-0.0324331  </td><td style=\"text-align: right;\">-0.0593016 </td><td style=\"text-align: right;\">-0.0297455</td><td style=\"text-align: right;\"> 0.189255 </td><td style=\"text-align: right;\">-0.000250766</td><td style=\"text-align: right;\">0.0819123</td><td style=\"text-align: right;\">0.0446504</td><td style=\"text-align: right;\">-0.0409028 </td><td style=\"text-align: right;\"> 0.0207508</td><td style=\"text-align: right;\"> 0.1231    </td><td style=\"text-align: right;\">-0.104522 </td><td style=\"text-align: right;\">-0.015515  </td><td style=\"text-align: right;\">-0.0875818</td><td style=\"text-align: right;\"> 0.0696746</td><td style=\"text-align: right;\">-0.0477263</td><td style=\"text-align: right;\">0.150219  </td><td style=\"text-align: right;\">-0.0381975 </td><td style=\"text-align: right;\">-0.0381783 </td><td style=\"text-align: right;\">-0.101204 </td><td style=\"text-align: right;\">-0.0389325</td><td style=\"text-align: right;\">-0.088232 </td><td style=\"text-align: right;\">-0.076427 </td><td style=\"text-align: right;\"> 0.0574736 </td><td style=\"text-align: right;\"> 0.00851103</td><td style=\"text-align: right;\">-0.0949047</td><td style=\"text-align: right;\">0.147521  </td><td style=\"text-align: right;\">-0.0924664 </td><td style=\"text-align: right;\"> 0.0534031</td><td style=\"text-align: right;\">-0.212397 </td><td style=\"text-align: right;\">-0.0107201 </td><td style=\"text-align: right;\"> 0.00517381</td><td style=\"text-align: right;\"> 0.0812547 </td><td style=\"text-align: right;\">-0.0624409 </td><td style=\"text-align: right;\"> 0.0935044</td><td style=\"text-align: right;\">-0.0570374</td><td style=\"text-align: right;\">-0.172377 </td><td style=\"text-align: right;\">0.0325237 </td><td style=\"text-align: right;\">-0.0308162 </td><td style=\"text-align: right;\">-0.222197</td><td style=\"text-align: right;\">-0.100495 </td><td style=\"text-align: right;\">-0.155599 </td><td style=\"text-align: right;\">-0.131842  </td><td style=\"text-align: right;\">-0.0602083</td><td style=\"text-align: right;\"> 0.109534 </td><td style=\"text-align: right;\">-0.00807711</td><td style=\"text-align: right;\">-0.00844244 </td><td style=\"text-align: right;\"> 0.0914508 </td><td style=\"text-align: right;\">-0.0422752</td><td style=\"text-align: right;\"> 0.147891   </td><td style=\"text-align: right;\">-0.0707731  </td><td style=\"text-align: right;\">-0.0188394 </td><td style=\"text-align: right;\"> 0.0172557</td><td style=\"text-align: right;\">-0.0882344  </td><td style=\"text-align: right;\">-0.00175295</td><td style=\"text-align: right;\">-0.0324494</td><td style=\"text-align: right;\"> 0.0047491 </td><td style=\"text-align: right;\">-0.0558448 </td><td style=\"text-align: right;\">-0.168922 </td><td style=\"text-align: right;\">0.0733581</td><td style=\"text-align: right;\"> 0.0701635  </td><td style=\"text-align: right;\">-0.0627486</td><td style=\"text-align: right;\">-0.0571372 </td><td style=\"text-align: right;\"> 0.0367327</td><td style=\"text-align: right;\"> 0.0198849 </td><td style=\"text-align: right;\">-0.14418  </td><td style=\"text-align: right;\"> 0.051105  </td><td style=\"text-align: right;\">-0.0721892 </td><td style=\"text-align: right;\">-0.0816024</td><td style=\"text-align: right;\">0.131703 </td><td style=\"text-align: right;\">0.130305  </td><td style=\"text-align: right;\"> 0.00459086 </td><td style=\"text-align: right;\">-0.157827  </td><td style=\"text-align: right;\"> 0.00513616</td><td style=\"text-align: right;\"> 0.00110536</td><td style=\"text-align: right;\">-0.0449715</td><td style=\"text-align: right;\">-0.0228327</td><td style=\"text-align: right;\"> 0.0733215 </td><td style=\"text-align: right;\">-0.125277  </td><td style=\"text-align: right;\"> 0.162653  </td><td style=\"text-align: right;\">-0.105208 </td><td style=\"text-align: right;\">0.127965  </td><td style=\"text-align: right;\">-0.152645  </td><td style=\"text-align: right;\">-0.0689344</td><td style=\"text-align: right;\"> 0.0427925 </td><td style=\"text-align: right;\">0.0847344</td><td style=\"text-align: right;\">-0.0374067</td><td style=\"text-align: right;\">-0.0383587</td><td style=\"text-align: right;\"> 0.0879052 </td><td style=\"text-align: right;\"> 0.0973261</td><td style=\"text-align: right;\">-0.0160715</td><td style=\"text-align: right;\"> 0.0746692 </td><td style=\"text-align: right;\">-0.0780203</td><td style=\"text-align: right;\"> 0.0508608 </td><td style=\"text-align: right;\">   -0.168716 </td><td style=\"text-align: right;\">   -0.137571 </td><td style=\"text-align: right;\">   0.133045  </td><td style=\"text-align: right;\">   -0.123331 </td><td style=\"text-align: right;\">   0.0171531 </td><td style=\"text-align: right;\"> -0.0550509  </td><td style=\"text-align: right;\">    0.0580279</td><td style=\"text-align: right;\">   -0.023433 </td><td style=\"text-align: right;\">    0.0406608</td><td style=\"text-align: right;\">    0.00185192</td><td style=\"text-align: right;\">      0.24769 </td><td style=\"text-align: right;\">    0.0394647 </td><td style=\"text-align: right;\">     0.0267399</td><td style=\"text-align: right;\">      0.133952</td><td style=\"text-align: right;\">     0.0541887</td><td style=\"text-align: right;\">    0.118514  </td><td style=\"text-align: right;\">    0.0647802 </td><td style=\"text-align: right;\">   -0.0265152 </td><td style=\"text-align: right;\">    -0.100765 </td><td style=\"text-align: right;\">    -0.045316 </td><td style=\"text-align: right;\">    0.103375  </td><td style=\"text-align: right;\">    -0.0632591</td><td style=\"text-align: right;\">     0.137757 </td><td style=\"text-align: right;\">    -0.0753729</td><td style=\"text-align: right;\">   -0.0950518 </td><td style=\"text-align: right;\">    -0.312023 </td><td style=\"text-align: right;\">  -0.0560351  </td><td style=\"text-align: right;\">   -0.0849415 </td><td style=\"text-align: right;\">    -0.0703956</td><td style=\"text-align: right;\">     0.0852769</td><td style=\"text-align: right;\">    0.00933676</td><td style=\"text-align: right;\">    0.00311385</td><td style=\"text-align: right;\">     0.24159  </td><td style=\"text-align: right;\">    -0.0348363</td><td style=\"text-align: right;\">   0.163448   </td><td style=\"text-align: right;\">    -0.148011 </td><td style=\"text-align: right;\">     0.172828 </td><td style=\"text-align: right;\">    0.131243  </td><td style=\"text-align: right;\">     0.0615703</td><td style=\"text-align: right;\">   -0.0454606 </td><td style=\"text-align: right;\">    -0.0184252</td><td style=\"text-align: right;\">   -0.0896854 </td><td style=\"text-align: right;\">   -0.180711  </td><td style=\"text-align: right;\">     0.0357081</td><td style=\"text-align: right;\">    -0.0490818</td><td style=\"text-align: right;\">    -0.273633 </td><td style=\"text-align: right;\">     0.0131018</td><td style=\"text-align: right;\">    -0.155587 </td><td style=\"text-align: right;\">   -0.0871505 </td><td style=\"text-align: right;\">    -0.0218347</td><td style=\"text-align: right;\">     0.123406 </td><td style=\"text-align: right;\">   -0.106627  </td><td style=\"text-align: right;\">  -0.0245949  </td><td style=\"text-align: right;\">     0.139494 </td><td style=\"text-align: right;\">    -0.0918495</td><td style=\"text-align: right;\">     0.29286  </td><td style=\"text-align: right;\">    0.151521  </td><td style=\"text-align: right;\">     0.0513784</td><td style=\"text-align: right;\">     0.140158 </td><td style=\"text-align: right;\">    -0.038058 </td><td style=\"text-align: right;\">     0.0481254</td><td style=\"text-align: right;\">   -0.01225   </td><td style=\"text-align: right;\">   -0.00851509</td><td style=\"text-align: right;\">   -0.0339805 </td><td style=\"text-align: right;\">    -0.180618 </td><td style=\"text-align: right;\">     0.090795 </td><td style=\"text-align: right;\">     0.0760897</td><td style=\"text-align: right;\">   -0.171376  </td><td style=\"text-align: right;\">    -0.0790326</td><td style=\"text-align: right;\">    0.00465791</td><td style=\"text-align: right;\">    0.076373  </td><td style=\"text-align: right;\">    -0.0929204</td><td style=\"text-align: right;\">     0.0384389</td><td style=\"text-align: right;\">   -0.0381668 </td><td style=\"text-align: right;\">    -0.178829 </td><td style=\"text-align: right;\">     0.214663 </td><td style=\"text-align: right;\">    -0.0281586</td><td style=\"text-align: right;\">    -0.0688253</td><td style=\"text-align: right;\">    -0.152667 </td><td style=\"text-align: right;\">    0.0537422 </td><td style=\"text-align: right;\">     0.0449946</td><td style=\"text-align: right;\">     0.100133 </td><td style=\"text-align: right;\">   0.0188998  </td><td style=\"text-align: right;\">     0.127132 </td><td style=\"text-align: right;\">    -0.126878 </td><td style=\"text-align: right;\">    0.134073  </td><td style=\"text-align: right;\">   -0.115107  </td><td style=\"text-align: right;\">     0.130416 </td><td style=\"text-align: right;\">    -0.138702 </td><td style=\"text-align: right;\">   -0.0978746 </td><td style=\"text-align: right;\">     0.0393453</td><td style=\"text-align: right;\">    0.102865  </td><td style=\"text-align: right;\">    0.0161978 </td><td style=\"text-align: right;\">   -0.00416121</td><td style=\"text-align: right;\">     0.0869079</td><td style=\"text-align: right;\">   0.137351   </td><td style=\"text-align: right;\">    -0.176978 </td></tr>\n",
              "<tr><td>b&quot;I want to feel like i&#x27;m 24 again.&quot;             </td><td>b&quot;I have been looking for something  to give me an edge. I&#x27;m trying to lose weight build muscle etc. So I hope this works out.&quot;                                                                                                                                                                                                                                                                                                                                                                                                                                                                                                                                                                                                                                                              </td><td style=\"text-align: right;\">       1</td><td style=\"text-align: right;\">-0.126634 </td><td style=\"text-align: right;\">-0.150581  </td><td style=\"text-align: right;\">0.222672 </td><td style=\"text-align: right;\"> 0.0362672</td><td style=\"text-align: right;\">-0.116375 </td><td style=\"text-align: right;\">-0.128524  </td><td style=\"text-align: right;\">0.108848 </td><td style=\"text-align: right;\"> 0.0392369  </td><td style=\"text-align: right;\"> 0.045771  </td><td style=\"text-align: right;\">-0.1061   </td><td style=\"text-align: right;\"> 0.0930756</td><td style=\"text-align: right;\"> 0.0232225  </td><td style=\"text-align: right;\">0.0519789</td><td style=\"text-align: right;\">0.071308 </td><td style=\"text-align: right;\">-0.00394253</td><td style=\"text-align: right;\"> 0.0113706</td><td style=\"text-align: right;\">-0.0424331 </td><td style=\"text-align: right;\"> 0.102538 </td><td style=\"text-align: right;\">-0.0480812 </td><td style=\"text-align: right;\"> 0.0849737</td><td style=\"text-align: right;\"> 0.131133 </td><td style=\"text-align: right;\">-0.142439 </td><td style=\"text-align: right;\">0.0525017 </td><td style=\"text-align: right;\">-0.0251431 </td><td style=\"text-align: right;\">-0.0640669 </td><td style=\"text-align: right;\">-0.166311 </td><td style=\"text-align: right;\"> 0.0147014</td><td style=\"text-align: right;\">-0.18495  </td><td style=\"text-align: right;\"> 0.072335 </td><td style=\"text-align: right;\"> 0.0298344 </td><td style=\"text-align: right;\"> 0.0644482 </td><td style=\"text-align: right;\"> 0.0225908</td><td style=\"text-align: right;\">0.145774  </td><td style=\"text-align: right;\"> 0.00552318</td><td style=\"text-align: right;\">-0.0540286</td><td style=\"text-align: right;\">-0.059772 </td><td style=\"text-align: right;\">-0.0135391 </td><td style=\"text-align: right;\">-0.0176909 </td><td style=\"text-align: right;\">-0.0321189 </td><td style=\"text-align: right;\">-0.00136978</td><td style=\"text-align: right;\">-0.161053 </td><td style=\"text-align: right;\"> 0.15096  </td><td style=\"text-align: right;\">-0.156886 </td><td style=\"text-align: right;\">0.144108  </td><td style=\"text-align: right;\"> 0.0439352 </td><td style=\"text-align: right;\">-0.242178</td><td style=\"text-align: right;\">-0.124743 </td><td style=\"text-align: right;\">-0.0651526</td><td style=\"text-align: right;\">-0.0590303 </td><td style=\"text-align: right;\">-0.085539 </td><td style=\"text-align: right;\"> 0.0670123</td><td style=\"text-align: right;\"> 0.00672219</td><td style=\"text-align: right;\"> 0.000323964</td><td style=\"text-align: right;\">-0.105693  </td><td style=\"text-align: right;\">-0.138233 </td><td style=\"text-align: right;\"> 0.162009   </td><td style=\"text-align: right;\"> 0.0246167  </td><td style=\"text-align: right;\"> 0.0275401 </td><td style=\"text-align: right;\"> 0.123904 </td><td style=\"text-align: right;\">-0.000272649</td><td style=\"text-align: right;\">-0.0197524 </td><td style=\"text-align: right;\">-0.110897 </td><td style=\"text-align: right;\"> 0.0992052 </td><td style=\"text-align: right;\">-0.0155822 </td><td style=\"text-align: right;\">-0.148825 </td><td style=\"text-align: right;\">0.17882  </td><td style=\"text-align: right;\"> 0.0233551  </td><td style=\"text-align: right;\">-0.074399 </td><td style=\"text-align: right;\">-0.0769924 </td><td style=\"text-align: right;\"> 0.0176033</td><td style=\"text-align: right;\"> 0.104732  </td><td style=\"text-align: right;\">-0.0808459</td><td style=\"text-align: right;\"> 0.0068474 </td><td style=\"text-align: right;\">-0.176878  </td><td style=\"text-align: right;\">-0.229628 </td><td style=\"text-align: right;\">0.0206939</td><td style=\"text-align: right;\">0.0417861 </td><td style=\"text-align: right;\">-0.00352644 </td><td style=\"text-align: right;\">-0.0453708 </td><td style=\"text-align: right;\"> 0.0663497 </td><td style=\"text-align: right;\"> 0.0217311 </td><td style=\"text-align: right;\">-0.0897501</td><td style=\"text-align: right;\">-0.0533725</td><td style=\"text-align: right;\"> 0.00104248</td><td style=\"text-align: right;\"> 0.0189143 </td><td style=\"text-align: right;\"> 0.0135699 </td><td style=\"text-align: right;\">-0.0488127</td><td style=\"text-align: right;\">0.0935674 </td><td style=\"text-align: right;\"> 0.0233268 </td><td style=\"text-align: right;\"> 0.0437401</td><td style=\"text-align: right;\"> 0.151067  </td><td style=\"text-align: right;\">0.124871 </td><td style=\"text-align: right;\"> 0.0350663</td><td style=\"text-align: right;\">-0.0318941</td><td style=\"text-align: right;\">-0.0830452 </td><td style=\"text-align: right;\"> 0.15148  </td><td style=\"text-align: right;\"> 0.12053  </td><td style=\"text-align: right;\"> 0.0108945 </td><td style=\"text-align: right;\">-0.0106975</td><td style=\"text-align: right;\"> 0.0286486 </td><td style=\"text-align: right;\">   -0.0166022</td><td style=\"text-align: right;\">   -0.250088 </td><td style=\"text-align: right;\">   0.177865  </td><td style=\"text-align: right;\">   -0.0521034</td><td style=\"text-align: right;\">   0.0569993 </td><td style=\"text-align: right;\"> -0.0902729  </td><td style=\"text-align: right;\">    0.207361 </td><td style=\"text-align: right;\">   -0.0125237</td><td style=\"text-align: right;\">   -0.0264345</td><td style=\"text-align: right;\">   -0.302169  </td><td style=\"text-align: right;\">      0.153898</td><td style=\"text-align: right;\">    0.0723594 </td><td style=\"text-align: right;\">     0.0144949</td><td style=\"text-align: right;\">      0.129623</td><td style=\"text-align: right;\">    -0.0365751</td><td style=\"text-align: right;\">    0.0658033 </td><td style=\"text-align: right;\">    0.0114376 </td><td style=\"text-align: right;\">    0.132909  </td><td style=\"text-align: right;\">    -0.0190647</td><td style=\"text-align: right;\">    -0.0717488</td><td style=\"text-align: right;\">    0.00191307</td><td style=\"text-align: right;\">     0.0415916</td><td style=\"text-align: right;\">    -0.0110548</td><td style=\"text-align: right;\">     0.108494 </td><td style=\"text-align: right;\">   -0.0413515 </td><td style=\"text-align: right;\">     0.0132741</td><td style=\"text-align: right;\">  -0.0715943  </td><td style=\"text-align: right;\">   -0.0707739 </td><td style=\"text-align: right;\">    -0.151032 </td><td style=\"text-align: right;\">     0.198451 </td><td style=\"text-align: right;\">    0.153596  </td><td style=\"text-align: right;\">   -0.123717  </td><td style=\"text-align: right;\">     0.190219 </td><td style=\"text-align: right;\">     0.0751164</td><td style=\"text-align: right;\">  -0.148386   </td><td style=\"text-align: right;\">    -0.0697236</td><td style=\"text-align: right;\">     0.0393904</td><td style=\"text-align: right;\">   -0.205253  </td><td style=\"text-align: right;\">     0.0270952</td><td style=\"text-align: right;\">    0.00703415</td><td style=\"text-align: right;\">    -0.089213 </td><td style=\"text-align: right;\">   -0.0196213 </td><td style=\"text-align: right;\">    0.0106684 </td><td style=\"text-align: right;\">     0.110033 </td><td style=\"text-align: right;\">     0.0546978</td><td style=\"text-align: right;\">    -0.212573 </td><td style=\"text-align: right;\">     0.0583911</td><td style=\"text-align: right;\">    -0.16455  </td><td style=\"text-align: right;\">   -0.0183868 </td><td style=\"text-align: right;\">    -0.221212 </td><td style=\"text-align: right;\">     0.0794981</td><td style=\"text-align: right;\">   -0.00320802</td><td style=\"text-align: right;\">   0.0354257  </td><td style=\"text-align: right;\">     0.0145843</td><td style=\"text-align: right;\">    -0.0672897</td><td style=\"text-align: right;\">     0.0221107</td><td style=\"text-align: right;\">    0.0309322 </td><td style=\"text-align: right;\">     0.017761 </td><td style=\"text-align: right;\">     0.0634724</td><td style=\"text-align: right;\">    -0.0103006</td><td style=\"text-align: right;\">    -0.0389649</td><td style=\"text-align: right;\">   -0.172425  </td><td style=\"text-align: right;\">    0.125452  </td><td style=\"text-align: right;\">   -0.180872  </td><td style=\"text-align: right;\">    -0.134609 </td><td style=\"text-align: right;\">    -0.0340258</td><td style=\"text-align: right;\">    -0.0849315</td><td style=\"text-align: right;\">   -0.0577143 </td><td style=\"text-align: right;\">    -0.0392636</td><td style=\"text-align: right;\">   -0.0403036 </td><td style=\"text-align: right;\">    0.125897  </td><td style=\"text-align: right;\">    -0.0393903</td><td style=\"text-align: right;\">     0.0473521</td><td style=\"text-align: right;\">   -0.138717  </td><td style=\"text-align: right;\">    -0.105384 </td><td style=\"text-align: right;\">     0.103764 </td><td style=\"text-align: right;\">     0.194257 </td><td style=\"text-align: right;\">    -0.0285864</td><td style=\"text-align: right;\">    -0.0188523</td><td style=\"text-align: right;\">    0.0641346 </td><td style=\"text-align: right;\">    -0.207946 </td><td style=\"text-align: right;\">    -0.0966057</td><td style=\"text-align: right;\">   0.0272279  </td><td style=\"text-align: right;\">    -0.125477 </td><td style=\"text-align: right;\">    -0.0903   </td><td style=\"text-align: right;\">    0.0339368 </td><td style=\"text-align: right;\">   -0.055753  </td><td style=\"text-align: right;\">     0.109354 </td><td style=\"text-align: right;\">     0.0472336</td><td style=\"text-align: right;\">    0.114606  </td><td style=\"text-align: right;\">     0.164298 </td><td style=\"text-align: right;\">    0.162115  </td><td style=\"text-align: right;\">    0.00896547</td><td style=\"text-align: right;\">   -0.00196796</td><td style=\"text-align: right;\">     0.14807  </td><td style=\"text-align: right;\">   0.000403292</td><td style=\"text-align: right;\">    -0.0616049</td></tr>\n",
              "<tr><td>b&#x27;Not Worth It&#x27;                                  </td><td>b&#x27;I am not just downing this product, but all products like this. Please do not buy these things. They only make you big while you are pumping, but the minute you stop...all of the bigness leaves. Seriously they suck.&#x27;                                                                                                                                                                                                                                                                                                                                                                                                                                                                                                                                                                   </td><td style=\"text-align: right;\">       0</td><td style=\"text-align: right;\">-0.0566321</td><td style=\"text-align: right;\">-0.090546  </td><td style=\"text-align: right;\">0.0914259</td><td style=\"text-align: right;\"> 0.0199555</td><td style=\"text-align: right;\">-0.0260834</td><td style=\"text-align: right;\">-0.182078  </td><td style=\"text-align: right;\">0.0797223</td><td style=\"text-align: right;\"> 0.0069294  </td><td style=\"text-align: right;\"> 0.0183255 </td><td style=\"text-align: right;\">-0.0460996</td><td style=\"text-align: right;\"> 0.217511 </td><td style=\"text-align: right;\"> 0.0622781  </td><td style=\"text-align: right;\">0.0234803</td><td style=\"text-align: right;\">0.150529 </td><td style=\"text-align: right;\">-0.00262428</td><td style=\"text-align: right;\"> 0.0336981</td><td style=\"text-align: right;\"> 0.0324255 </td><td style=\"text-align: right;\"> 0.176663 </td><td style=\"text-align: right;\">-0.0113669 </td><td style=\"text-align: right;\"> 0.067523 </td><td style=\"text-align: right;\"> 0.127596 </td><td style=\"text-align: right;\"> 0.0205114</td><td style=\"text-align: right;\">0.0781674 </td><td style=\"text-align: right;\"> 0.00964633</td><td style=\"text-align: right;\">-0.0304518 </td><td style=\"text-align: right;\">-0.0860834</td><td style=\"text-align: right;\">-0.0189661</td><td style=\"text-align: right;\">-0.114252 </td><td style=\"text-align: right;\">-0.048565 </td><td style=\"text-align: right;\">-0.0248027 </td><td style=\"text-align: right;\"> 0.115179  </td><td style=\"text-align: right;\">-0.0621558</td><td style=\"text-align: right;\">0.190369  </td><td style=\"text-align: right;\"> 0.0161164 </td><td style=\"text-align: right;\">-0.0334379</td><td style=\"text-align: right;\">-0.105888 </td><td style=\"text-align: right;\"> 0.0535358 </td><td style=\"text-align: right;\">-0.0173838 </td><td style=\"text-align: right;\">-0.0247102 </td><td style=\"text-align: right;\">-0.00195068</td><td style=\"text-align: right;\">-0.0934781</td><td style=\"text-align: right;\">-0.0380178</td><td style=\"text-align: right;\">-0.0217052</td><td style=\"text-align: right;\">0.109127  </td><td style=\"text-align: right;\">-0.0169697 </td><td style=\"text-align: right;\">-0.229993</td><td style=\"text-align: right;\">-0.13357  </td><td style=\"text-align: right;\">-0.157235 </td><td style=\"text-align: right;\">-0.0361424 </td><td style=\"text-align: right;\">-0.0871863</td><td style=\"text-align: right;\"> 0.0635069</td><td style=\"text-align: right;\"> 0.0457169 </td><td style=\"text-align: right;\">-0.0355841  </td><td style=\"text-align: right;\"> 0.100787  </td><td style=\"text-align: right;\">-0.106062 </td><td style=\"text-align: right;\"> 0.051863   </td><td style=\"text-align: right;\">-0.0465297  </td><td style=\"text-align: right;\">-0.055914  </td><td style=\"text-align: right;\"> 0.079005 </td><td style=\"text-align: right;\"> 0.0544026  </td><td style=\"text-align: right;\"> 0.0065703 </td><td style=\"text-align: right;\">-0.0125554</td><td style=\"text-align: right;\"> 0.0261873 </td><td style=\"text-align: right;\">-0.0174502 </td><td style=\"text-align: right;\">-0.181722 </td><td style=\"text-align: right;\">0.069826 </td><td style=\"text-align: right;\">-0.111454   </td><td style=\"text-align: right;\">-0.14516  </td><td style=\"text-align: right;\">-0.110826  </td><td style=\"text-align: right;\"> 0.039091 </td><td style=\"text-align: right;\"> 0.0728421 </td><td style=\"text-align: right;\">-0.104547 </td><td style=\"text-align: right;\"> 0.138125  </td><td style=\"text-align: right;\">-0.0392605 </td><td style=\"text-align: right;\">-0.11734  </td><td style=\"text-align: right;\">0.0268829</td><td style=\"text-align: right;\">0.0134609 </td><td style=\"text-align: right;\">-0.0631735  </td><td style=\"text-align: right;\"> 0.00394354</td><td style=\"text-align: right;\"> 0.0687064 </td><td style=\"text-align: right;\">-0.1479    </td><td style=\"text-align: right;\">-0.0121632</td><td style=\"text-align: right;\"> 0.0176738</td><td style=\"text-align: right;\">-0.0886666 </td><td style=\"text-align: right;\"> 0.0143456 </td><td style=\"text-align: right;\"> 0.0755658 </td><td style=\"text-align: right;\">-0.106631 </td><td style=\"text-align: right;\">0.118705  </td><td style=\"text-align: right;\">-0.00904431</td><td style=\"text-align: right;\"> 0.0262396</td><td style=\"text-align: right;\"> 0.0196873 </td><td style=\"text-align: right;\">0.145105 </td><td style=\"text-align: right;\"> 0.0436352</td><td style=\"text-align: right;\">-0.116981 </td><td style=\"text-align: right;\"> 0.113653  </td><td style=\"text-align: right;\"> 0.165536 </td><td style=\"text-align: right;\">-0.103057 </td><td style=\"text-align: right;\">-0.00171762</td><td style=\"text-align: right;\"> 0.0846104</td><td style=\"text-align: right;\"> 0.0367119 </td><td style=\"text-align: right;\">   -0.0173044</td><td style=\"text-align: right;\">   -0.266337 </td><td style=\"text-align: right;\">  -0.235474  </td><td style=\"text-align: right;\">    0.249122 </td><td style=\"text-align: right;\">   0.0544914 </td><td style=\"text-align: right;\"> -0.0360152  </td><td style=\"text-align: right;\">    0.100207 </td><td style=\"text-align: right;\">    0.126881 </td><td style=\"text-align: right;\">   -0.101621 </td><td style=\"text-align: right;\">    0.0992401 </td><td style=\"text-align: right;\">      0.452171</td><td style=\"text-align: right;\">   -0.065793  </td><td style=\"text-align: right;\">     0.149895 </td><td style=\"text-align: right;\">      0.221644</td><td style=\"text-align: right;\">     0.0444044</td><td style=\"text-align: right;\">   -0.539837  </td><td style=\"text-align: right;\">   -0.0258534 </td><td style=\"text-align: right;\">   -0.0194442 </td><td style=\"text-align: right;\">    -0.0875981</td><td style=\"text-align: right;\">    -0.135475 </td><td style=\"text-align: right;\">    0.249109  </td><td style=\"text-align: right;\">     0.0150665</td><td style=\"text-align: right;\">     0.0282863</td><td style=\"text-align: right;\">    -0.19255  </td><td style=\"text-align: right;\">   -0.226931  </td><td style=\"text-align: right;\">    -0.277345 </td><td style=\"text-align: right;\">   0.0678511  </td><td style=\"text-align: right;\">    0.0514661 </td><td style=\"text-align: right;\">    -0.20436  </td><td style=\"text-align: right;\">     0.0793265</td><td style=\"text-align: right;\">   -0.232108  </td><td style=\"text-align: right;\">    0.0960985 </td><td style=\"text-align: right;\">     0.325835 </td><td style=\"text-align: right;\">     0.448873 </td><td style=\"text-align: right;\">   0.0364005  </td><td style=\"text-align: right;\">    -0.289466 </td><td style=\"text-align: right;\">     0.115363 </td><td style=\"text-align: right;\">    0.138402  </td><td style=\"text-align: right;\">    -0.0593032</td><td style=\"text-align: right;\">   -0.0379586 </td><td style=\"text-align: right;\">     0.355571 </td><td style=\"text-align: right;\">    0.160459  </td><td style=\"text-align: right;\">   -0.00766458</td><td style=\"text-align: right;\">     0.311325 </td><td style=\"text-align: right;\">     0.142805 </td><td style=\"text-align: right;\">    -0.384082 </td><td style=\"text-align: right;\">    -0.272861 </td><td style=\"text-align: right;\">    -0.387474 </td><td style=\"text-align: right;\">   -0.352172  </td><td style=\"text-align: right;\">    -0.383367 </td><td style=\"text-align: right;\">    -0.185767 </td><td style=\"text-align: right;\">   -0.0523014 </td><td style=\"text-align: right;\">  -0.000457573</td><td style=\"text-align: right;\">     0.260121 </td><td style=\"text-align: right;\">    -0.186028 </td><td style=\"text-align: right;\">    -0.222443 </td><td style=\"text-align: right;\">   -0.00579943</td><td style=\"text-align: right;\">     0.234272 </td><td style=\"text-align: right;\">     0.0090406</td><td style=\"text-align: right;\">    -0.443452 </td><td style=\"text-align: right;\">    -0.0215702</td><td style=\"text-align: right;\">   -0.107807  </td><td style=\"text-align: right;\">    0.0493834 </td><td style=\"text-align: right;\">    0.179113  </td><td style=\"text-align: right;\">    -0.048528 </td><td style=\"text-align: right;\">     0.262742 </td><td style=\"text-align: right;\">     0.221448 </td><td style=\"text-align: right;\">   -0.682711  </td><td style=\"text-align: right;\">    -0.200763 </td><td style=\"text-align: right;\">   -0.219426  </td><td style=\"text-align: right;\">    0.148733  </td><td style=\"text-align: right;\">    -0.433299 </td><td style=\"text-align: right;\">    -0.0291524</td><td style=\"text-align: right;\">   -0.217581  </td><td style=\"text-align: right;\">    -0.148299 </td><td style=\"text-align: right;\">    -0.395481 </td><td style=\"text-align: right;\">     0.18919  </td><td style=\"text-align: right;\">     0.161345 </td><td style=\"text-align: right;\">    -0.110449 </td><td style=\"text-align: right;\">    0.367231  </td><td style=\"text-align: right;\">    -0.142274 </td><td style=\"text-align: right;\">     0.101553 </td><td style=\"text-align: right;\">  -0.235253   </td><td style=\"text-align: right;\">     0.165604 </td><td style=\"text-align: right;\">    -0.126342 </td><td style=\"text-align: right;\">   -0.0586528 </td><td style=\"text-align: right;\">   -0.0550033 </td><td style=\"text-align: right;\">     0.145539 </td><td style=\"text-align: right;\">     0.0810691</td><td style=\"text-align: right;\">    0.26496   </td><td style=\"text-align: right;\">     0.116987 </td><td style=\"text-align: right;\">   -0.0812062 </td><td style=\"text-align: right;\">   -0.0969601 </td><td style=\"text-align: right;\">   -0.117242  </td><td style=\"text-align: right;\">    -0.167667 </td><td style=\"text-align: right;\">  -0.303377   </td><td style=\"text-align: right;\">    -0.141411 </td></tr>\n",
              "<tr><td>b&#x27;works very well&#x27;                               </td><td>b&quot;I&#x27;m able to finally get it up thanks to this, used to be a struggle to get an erection and it was hard for me even on a good day. With this its rare that I can&#x27;t get it up.&quot;                                                                                                                                                                                                                                                                                                                                                                                                                                                                                                                                                                                                              </td><td style=\"text-align: right;\">       1</td><td style=\"text-align: right;\">-0.143759 </td><td style=\"text-align: right;\"> 0.0529768 </td><td style=\"text-align: right;\">0.102906 </td><td style=\"text-align: right;\"> 0.0464705</td><td style=\"text-align: right;\">-0.0312126</td><td style=\"text-align: right;\">-0.0926688 </td><td style=\"text-align: right;\">0.135934 </td><td style=\"text-align: right;\"> 0.010102   </td><td style=\"text-align: right;\"> 0.0603713 </td><td style=\"text-align: right;\">-0.149053 </td><td style=\"text-align: right;\"> 0.230424 </td><td style=\"text-align: right;\"> 0.104357   </td><td style=\"text-align: right;\">0.0747042</td><td style=\"text-align: right;\">0.166791 </td><td style=\"text-align: right;\">-0.0504079 </td><td style=\"text-align: right;\">-0.0534689</td><td style=\"text-align: right;\"> 0.0453338 </td><td style=\"text-align: right;\"> 0.0888527</td><td style=\"text-align: right;\">-0.00491774</td><td style=\"text-align: right;\"> 0.0151597</td><td style=\"text-align: right;\"> 0.130208 </td><td style=\"text-align: right;\">-0.117552 </td><td style=\"text-align: right;\">0.0224191 </td><td style=\"text-align: right;\">-0.0606318 </td><td style=\"text-align: right;\">-0.0817811 </td><td style=\"text-align: right;\">-0.0467043</td><td style=\"text-align: right;\"> 0.0683077</td><td style=\"text-align: right;\">-0.151013 </td><td style=\"text-align: right;\">-0.0927713</td><td style=\"text-align: right;\">-0.0167607 </td><td style=\"text-align: right;\"> 0.145369  </td><td style=\"text-align: right;\"> 0.0208631</td><td style=\"text-align: right;\">0.00865727</td><td style=\"text-align: right;\">-0.00702747</td><td style=\"text-align: right;\">-0.0532124</td><td style=\"text-align: right;\">-0.142322 </td><td style=\"text-align: right;\">-0.0257578 </td><td style=\"text-align: right;\">-0.08849   </td><td style=\"text-align: right;\">-0.0482725 </td><td style=\"text-align: right;\"> 0.0370923 </td><td style=\"text-align: right;\"> 0.021449 </td><td style=\"text-align: right;\">-0.0336243</td><td style=\"text-align: right;\">-0.134754 </td><td style=\"text-align: right;\">0.0571996 </td><td style=\"text-align: right;\"> 0.0346701 </td><td style=\"text-align: right;\">-0.184499</td><td style=\"text-align: right;\">-0.0689742</td><td style=\"text-align: right;\">-0.0836962</td><td style=\"text-align: right;\">-0.0679726 </td><td style=\"text-align: right;\">-0.171366 </td><td style=\"text-align: right;\"> 0.0140479</td><td style=\"text-align: right;\"> 0.169478  </td><td style=\"text-align: right;\"> 0.0700952  </td><td style=\"text-align: right;\">-0.0459432 </td><td style=\"text-align: right;\">-0.114227 </td><td style=\"text-align: right;\">-0.000221548</td><td style=\"text-align: right;\"> 3.6481e-05 </td><td style=\"text-align: right;\">-0.0512563 </td><td style=\"text-align: right;\">-0.11114  </td><td style=\"text-align: right;\">-0.0360579  </td><td style=\"text-align: right;\">-0.0552281 </td><td style=\"text-align: right;\">-0.139165 </td><td style=\"text-align: right;\"> 0.00945819</td><td style=\"text-align: right;\">-0.0970031 </td><td style=\"text-align: right;\">-0.0901995</td><td style=\"text-align: right;\">0.152301 </td><td style=\"text-align: right;\"> 0.04826    </td><td style=\"text-align: right;\">-0.0714238</td><td style=\"text-align: right;\">-0.00700867</td><td style=\"text-align: right;\">-0.006204 </td><td style=\"text-align: right;\"> 0.0371097 </td><td style=\"text-align: right;\">-0.10302  </td><td style=\"text-align: right;\"> 0.136376  </td><td style=\"text-align: right;\">-0.071989  </td><td style=\"text-align: right;\">-0.135399 </td><td style=\"text-align: right;\">0.190457 </td><td style=\"text-align: right;\">0.142756  </td><td style=\"text-align: right;\">-0.0237353  </td><td style=\"text-align: right;\">-0.105542  </td><td style=\"text-align: right;\"> 0.0943919 </td><td style=\"text-align: right;\">-0.0353354 </td><td style=\"text-align: right;\"> 0.0137056</td><td style=\"text-align: right;\">-0.0190823</td><td style=\"text-align: right;\">-0.0151532 </td><td style=\"text-align: right;\">-0.0493085 </td><td style=\"text-align: right;\"> 0.0979995 </td><td style=\"text-align: right;\">-0.130571 </td><td style=\"text-align: right;\">0.00208519</td><td style=\"text-align: right;\"> 0.0481964 </td><td style=\"text-align: right;\"> 0.0548373</td><td style=\"text-align: right;\"> 0.158927  </td><td style=\"text-align: right;\">0.121337 </td><td style=\"text-align: right;\"> 0.0589428</td><td style=\"text-align: right;\">-0.0179856</td><td style=\"text-align: right;\"> 0.0967121 </td><td style=\"text-align: right;\"> 0.112197 </td><td style=\"text-align: right;\">-0.0235303</td><td style=\"text-align: right;\">-0.110939  </td><td style=\"text-align: right;\">-0.0805611</td><td style=\"text-align: right;\"> 0.0693611 </td><td style=\"text-align: right;\">    0.160737 </td><td style=\"text-align: right;\">   -0.0993431</td><td style=\"text-align: right;\">   0.177068  </td><td style=\"text-align: right;\">    0.0947745</td><td style=\"text-align: right;\">   0.0465705 </td><td style=\"text-align: right;\">  0.0665528  </td><td style=\"text-align: right;\">    0.0124722</td><td style=\"text-align: right;\">    0.0844889</td><td style=\"text-align: right;\">    0.0223573</td><td style=\"text-align: right;\">   -0.121079  </td><td style=\"text-align: right;\">      0.236312</td><td style=\"text-align: right;\">   -0.0100977 </td><td style=\"text-align: right;\">     0.0719278</td><td style=\"text-align: right;\">      0.345374</td><td style=\"text-align: right;\">    -0.0697328</td><td style=\"text-align: right;\">    0.00839705</td><td style=\"text-align: right;\">   -0.064785  </td><td style=\"text-align: right;\">   -0.00215043</td><td style=\"text-align: right;\">    -0.0192079</td><td style=\"text-align: right;\">    -0.0467847</td><td style=\"text-align: right;\">    0.312209  </td><td style=\"text-align: right;\">     0.0926483</td><td style=\"text-align: right;\">     0.108103 </td><td style=\"text-align: right;\">     0.0877665</td><td style=\"text-align: right;\">   -0.0875259 </td><td style=\"text-align: right;\">     0.0343422</td><td style=\"text-align: right;\">  -0.000619546</td><td style=\"text-align: right;\">   -0.112005  </td><td style=\"text-align: right;\">    -0.0324877</td><td style=\"text-align: right;\">     0.0324849</td><td style=\"text-align: right;\">    0.0633223 </td><td style=\"text-align: right;\">   -0.119955  </td><td style=\"text-align: right;\">     0.0635125</td><td style=\"text-align: right;\">    -0.0307638</td><td style=\"text-align: right;\">   0.0217585  </td><td style=\"text-align: right;\">    -0.0369095</td><td style=\"text-align: right;\">     0.0936899</td><td style=\"text-align: right;\">   -0.261824  </td><td style=\"text-align: right;\">     0.0035481</td><td style=\"text-align: right;\">    0.071858  </td><td style=\"text-align: right;\">    -0.178413 </td><td style=\"text-align: right;\">    0.00774636</td><td style=\"text-align: right;\">    0.00220324</td><td style=\"text-align: right;\">     0.0721135</td><td style=\"text-align: right;\">    -0.1327   </td><td style=\"text-align: right;\">    -0.32696  </td><td style=\"text-align: right;\">    -0.0612199</td><td style=\"text-align: right;\">    -0.0312001</td><td style=\"text-align: right;\">    0.00933745</td><td style=\"text-align: right;\">     0.150667 </td><td style=\"text-align: right;\">    -0.0382516</td><td style=\"text-align: right;\">   -0.0635642 </td><td style=\"text-align: right;\">   0.099754   </td><td style=\"text-align: right;\">     0.0361064</td><td style=\"text-align: right;\">    -0.0360759</td><td style=\"text-align: right;\">     0.0142579</td><td style=\"text-align: right;\">   -0.0160191 </td><td style=\"text-align: right;\">     0.0740216</td><td style=\"text-align: right;\">     0.057073 </td><td style=\"text-align: right;\">    -0.254977 </td><td style=\"text-align: right;\">    -0.0449832</td><td style=\"text-align: right;\">    0.0115292 </td><td style=\"text-align: right;\">    0.0627649 </td><td style=\"text-align: right;\">    0.164004  </td><td style=\"text-align: right;\">    -0.112709 </td><td style=\"text-align: right;\">     0.117624 </td><td style=\"text-align: right;\">     0.301085 </td><td style=\"text-align: right;\">   -0.00740612</td><td style=\"text-align: right;\">    -0.0905101</td><td style=\"text-align: right;\">   -0.0606207 </td><td style=\"text-align: right;\">   -0.0524036 </td><td style=\"text-align: right;\">    -0.335301 </td><td style=\"text-align: right;\">    -0.040667 </td><td style=\"text-align: right;\">   -0.17281   </td><td style=\"text-align: right;\">    -0.264733 </td><td style=\"text-align: right;\">    -0.0708221</td><td style=\"text-align: right;\">     0.232857 </td><td style=\"text-align: right;\">     0.116658 </td><td style=\"text-align: right;\">    -0.032428 </td><td style=\"text-align: right;\">    0.104787  </td><td style=\"text-align: right;\">     0.0479743</td><td style=\"text-align: right;\">     0.130313 </td><td style=\"text-align: right;\">  -0.0180242  </td><td style=\"text-align: right;\">     0.0667464</td><td style=\"text-align: right;\">    -0.0246758</td><td style=\"text-align: right;\">   -0.0488961 </td><td style=\"text-align: right;\">   -0.00797202</td><td style=\"text-align: right;\">     0.402491 </td><td style=\"text-align: right;\">    -0.0221817</td><td style=\"text-align: right;\">   -0.0274031 </td><td style=\"text-align: right;\">     0.179187 </td><td style=\"text-align: right;\">    0.164099  </td><td style=\"text-align: right;\">    0.0847815 </td><td style=\"text-align: right;\">   -0.0395898 </td><td style=\"text-align: right;\">     0.0578208</td><td style=\"text-align: right;\">   0.0540046  </td><td style=\"text-align: right;\">     0.13899  </td></tr>\n",
              "</tbody>\n",
              "</table>"
            ]
          },
          "metadata": {
            "tags": []
          }
        },
        {
          "output_type": "execute_result",
          "data": {
            "text/plain": [
              ""
            ]
          },
          "metadata": {
            "tags": []
          },
          "execution_count": 27
        }
      ]
    },
    {
      "cell_type": "code",
      "metadata": {
        "id": "pKG0EMO0qhnd"
      },
      "source": [
        "gbm_final=h2o.load_model('GBM_model_python_1588628225929_1')"
      ],
      "execution_count": null,
      "outputs": []
    },
    {
      "cell_type": "code",
      "metadata": {
        "id": "MaAT6gO5f8NG",
        "colab": {
          "base_uri": "https://localhost:8080/",
          "height": 1000
        },
        "outputId": "3c4a21e8-4fb7-47e1-a078-129eb8056907"
      },
      "source": [
        "gbm_final.model_performance(h2o_df_ext[headline_vecs.names+review_vecs.names+['target']])"
      ],
      "execution_count": null,
      "outputs": [
        {
          "output_type": "stream",
          "text": [
            "\n",
            "ModelMetricsBinomial: gbm\n",
            "** Reported on test data. **\n",
            "\n",
            "MSE: 0.05229671331851229\n",
            "RMSE: 0.22868474658033555\n",
            "LogLoss: 0.1847204534599848\n",
            "Mean Per-Class Error: 0.07506053268765134\n",
            "AUC: 0.974043583535109\n",
            "AUCPR: 0.9893413214277573\n",
            "Gini: 0.948087167070218\n",
            "\n",
            "Confusion Matrix (Act/Pred) for max f1 @ threshold = 0.5507084448871522: \n"
          ],
          "name": "stdout"
        },
        {
          "output_type": "display_data",
          "data": {
            "text/html": [
              "<div>\n",
              "<style scoped>\n",
              "    .dataframe tbody tr th:only-of-type {\n",
              "        vertical-align: middle;\n",
              "    }\n",
              "\n",
              "    .dataframe tbody tr th {\n",
              "        vertical-align: top;\n",
              "    }\n",
              "\n",
              "    .dataframe thead th {\n",
              "        text-align: right;\n",
              "    }\n",
              "</style>\n",
              "<table border=\"1\" class=\"dataframe\">\n",
              "  <thead>\n",
              "    <tr style=\"text-align: right;\">\n",
              "      <th></th>\n",
              "      <th></th>\n",
              "      <th>0</th>\n",
              "      <th>1</th>\n",
              "      <th>Error</th>\n",
              "      <th>Rate</th>\n",
              "    </tr>\n",
              "  </thead>\n",
              "  <tbody>\n",
              "    <tr>\n",
              "      <th>0</th>\n",
              "      <td>0</td>\n",
              "      <td>93.0</td>\n",
              "      <td>12.0</td>\n",
              "      <td>0.1143</td>\n",
              "      <td>(12.0/105.0)</td>\n",
              "    </tr>\n",
              "    <tr>\n",
              "      <th>1</th>\n",
              "      <td>1</td>\n",
              "      <td>12.0</td>\n",
              "      <td>283.0</td>\n",
              "      <td>0.0407</td>\n",
              "      <td>(12.0/295.0)</td>\n",
              "    </tr>\n",
              "    <tr>\n",
              "      <th>2</th>\n",
              "      <td>Total</td>\n",
              "      <td>105.0</td>\n",
              "      <td>295.0</td>\n",
              "      <td>0.06</td>\n",
              "      <td>(24.0/400.0)</td>\n",
              "    </tr>\n",
              "  </tbody>\n",
              "</table>\n",
              "</div>"
            ],
            "text/plain": [
              "              0      1   Error           Rate\n",
              "0      0   93.0   12.0  0.1143   (12.0/105.0)\n",
              "1      1   12.0  283.0  0.0407   (12.0/295.0)\n",
              "2  Total  105.0  295.0    0.06   (24.0/400.0)"
            ]
          },
          "metadata": {
            "tags": []
          }
        },
        {
          "output_type": "stream",
          "text": [
            "\n",
            "Maximum Metrics: Maximum metrics at their respective thresholds\n"
          ],
          "name": "stdout"
        },
        {
          "output_type": "display_data",
          "data": {
            "text/html": [
              "<div>\n",
              "<style scoped>\n",
              "    .dataframe tbody tr th:only-of-type {\n",
              "        vertical-align: middle;\n",
              "    }\n",
              "\n",
              "    .dataframe tbody tr th {\n",
              "        vertical-align: top;\n",
              "    }\n",
              "\n",
              "    .dataframe thead th {\n",
              "        text-align: right;\n",
              "    }\n",
              "</style>\n",
              "<table border=\"1\" class=\"dataframe\">\n",
              "  <thead>\n",
              "    <tr style=\"text-align: right;\">\n",
              "      <th></th>\n",
              "      <th>metric</th>\n",
              "      <th>threshold</th>\n",
              "      <th>value</th>\n",
              "      <th>idx</th>\n",
              "    </tr>\n",
              "  </thead>\n",
              "  <tbody>\n",
              "    <tr>\n",
              "      <th>0</th>\n",
              "      <td>max f1</td>\n",
              "      <td>0.550708</td>\n",
              "      <td>0.959322</td>\n",
              "      <td>294.0</td>\n",
              "    </tr>\n",
              "    <tr>\n",
              "      <th>1</th>\n",
              "      <td>max f2</td>\n",
              "      <td>0.207616</td>\n",
              "      <td>0.972955</td>\n",
              "      <td>335.0</td>\n",
              "    </tr>\n",
              "    <tr>\n",
              "      <th>2</th>\n",
              "      <td>max f0point5</td>\n",
              "      <td>0.670836</td>\n",
              "      <td>0.961672</td>\n",
              "      <td>284.0</td>\n",
              "    </tr>\n",
              "    <tr>\n",
              "      <th>3</th>\n",
              "      <td>max accuracy</td>\n",
              "      <td>0.550708</td>\n",
              "      <td>0.940000</td>\n",
              "      <td>294.0</td>\n",
              "    </tr>\n",
              "    <tr>\n",
              "      <th>4</th>\n",
              "      <td>max precision</td>\n",
              "      <td>0.998896</td>\n",
              "      <td>1.000000</td>\n",
              "      <td>0.0</td>\n",
              "    </tr>\n",
              "    <tr>\n",
              "      <th>5</th>\n",
              "      <td>max recall</td>\n",
              "      <td>0.207616</td>\n",
              "      <td>1.000000</td>\n",
              "      <td>335.0</td>\n",
              "    </tr>\n",
              "    <tr>\n",
              "      <th>6</th>\n",
              "      <td>max specificity</td>\n",
              "      <td>0.998896</td>\n",
              "      <td>1.000000</td>\n",
              "      <td>0.0</td>\n",
              "    </tr>\n",
              "    <tr>\n",
              "      <th>7</th>\n",
              "      <td>max absolute_mcc</td>\n",
              "      <td>0.550708</td>\n",
              "      <td>0.845036</td>\n",
              "      <td>294.0</td>\n",
              "    </tr>\n",
              "    <tr>\n",
              "      <th>8</th>\n",
              "      <td>max min_per_class_accuracy</td>\n",
              "      <td>0.705619</td>\n",
              "      <td>0.914286</td>\n",
              "      <td>278.0</td>\n",
              "    </tr>\n",
              "    <tr>\n",
              "      <th>9</th>\n",
              "      <td>max mean_per_class_accuracy</td>\n",
              "      <td>0.670836</td>\n",
              "      <td>0.924939</td>\n",
              "      <td>284.0</td>\n",
              "    </tr>\n",
              "    <tr>\n",
              "      <th>10</th>\n",
              "      <td>max tns</td>\n",
              "      <td>0.998896</td>\n",
              "      <td>105.000000</td>\n",
              "      <td>0.0</td>\n",
              "    </tr>\n",
              "    <tr>\n",
              "      <th>11</th>\n",
              "      <td>max fns</td>\n",
              "      <td>0.998896</td>\n",
              "      <td>294.000000</td>\n",
              "      <td>0.0</td>\n",
              "    </tr>\n",
              "    <tr>\n",
              "      <th>12</th>\n",
              "      <td>max fps</td>\n",
              "      <td>0.001263</td>\n",
              "      <td>105.000000</td>\n",
              "      <td>399.0</td>\n",
              "    </tr>\n",
              "    <tr>\n",
              "      <th>13</th>\n",
              "      <td>max tps</td>\n",
              "      <td>0.207616</td>\n",
              "      <td>295.000000</td>\n",
              "      <td>335.0</td>\n",
              "    </tr>\n",
              "    <tr>\n",
              "      <th>14</th>\n",
              "      <td>max tnr</td>\n",
              "      <td>0.998896</td>\n",
              "      <td>1.000000</td>\n",
              "      <td>0.0</td>\n",
              "    </tr>\n",
              "    <tr>\n",
              "      <th>15</th>\n",
              "      <td>max fnr</td>\n",
              "      <td>0.998896</td>\n",
              "      <td>0.996610</td>\n",
              "      <td>0.0</td>\n",
              "    </tr>\n",
              "    <tr>\n",
              "      <th>16</th>\n",
              "      <td>max fpr</td>\n",
              "      <td>0.001263</td>\n",
              "      <td>1.000000</td>\n",
              "      <td>399.0</td>\n",
              "    </tr>\n",
              "    <tr>\n",
              "      <th>17</th>\n",
              "      <td>max tpr</td>\n",
              "      <td>0.207616</td>\n",
              "      <td>1.000000</td>\n",
              "      <td>335.0</td>\n",
              "    </tr>\n",
              "  </tbody>\n",
              "</table>\n",
              "</div>"
            ],
            "text/plain": [
              "                         metric  threshold       value    idx\n",
              "0                        max f1   0.550708    0.959322  294.0\n",
              "1                        max f2   0.207616    0.972955  335.0\n",
              "2                  max f0point5   0.670836    0.961672  284.0\n",
              "3                  max accuracy   0.550708    0.940000  294.0\n",
              "4                 max precision   0.998896    1.000000    0.0\n",
              "5                    max recall   0.207616    1.000000  335.0\n",
              "6               max specificity   0.998896    1.000000    0.0\n",
              "7              max absolute_mcc   0.550708    0.845036  294.0\n",
              "8    max min_per_class_accuracy   0.705619    0.914286  278.0\n",
              "9   max mean_per_class_accuracy   0.670836    0.924939  284.0\n",
              "10                      max tns   0.998896  105.000000    0.0\n",
              "11                      max fns   0.998896  294.000000    0.0\n",
              "12                      max fps   0.001263  105.000000  399.0\n",
              "13                      max tps   0.207616  295.000000  335.0\n",
              "14                      max tnr   0.998896    1.000000    0.0\n",
              "15                      max fnr   0.998896    0.996610    0.0\n",
              "16                      max fpr   0.001263    1.000000  399.0\n",
              "17                      max tpr   0.207616    1.000000  335.0"
            ]
          },
          "metadata": {
            "tags": []
          }
        },
        {
          "output_type": "stream",
          "text": [
            "\n",
            "Gains/Lift Table: Avg response rate: 73.75 %, avg score: 72.86 %\n"
          ],
          "name": "stdout"
        },
        {
          "output_type": "display_data",
          "data": {
            "text/html": [
              "<div>\n",
              "<style scoped>\n",
              "    .dataframe tbody tr th:only-of-type {\n",
              "        vertical-align: middle;\n",
              "    }\n",
              "\n",
              "    .dataframe tbody tr th {\n",
              "        vertical-align: top;\n",
              "    }\n",
              "\n",
              "    .dataframe thead th {\n",
              "        text-align: right;\n",
              "    }\n",
              "</style>\n",
              "<table border=\"1\" class=\"dataframe\">\n",
              "  <thead>\n",
              "    <tr style=\"text-align: right;\">\n",
              "      <th></th>\n",
              "      <th></th>\n",
              "      <th>group</th>\n",
              "      <th>cumulative_data_fraction</th>\n",
              "      <th>lower_threshold</th>\n",
              "      <th>lift</th>\n",
              "      <th>cumulative_lift</th>\n",
              "      <th>response_rate</th>\n",
              "      <th>score</th>\n",
              "      <th>cumulative_response_rate</th>\n",
              "      <th>cumulative_score</th>\n",
              "      <th>capture_rate</th>\n",
              "      <th>cumulative_capture_rate</th>\n",
              "      <th>gain</th>\n",
              "      <th>cumulative_gain</th>\n",
              "    </tr>\n",
              "  </thead>\n",
              "  <tbody>\n",
              "    <tr>\n",
              "      <th>0</th>\n",
              "      <td></td>\n",
              "      <td>1</td>\n",
              "      <td>0.01</td>\n",
              "      <td>0.998388</td>\n",
              "      <td>1.355932</td>\n",
              "      <td>1.355932</td>\n",
              "      <td>1.000</td>\n",
              "      <td>0.998775</td>\n",
              "      <td>1.000000</td>\n",
              "      <td>0.998775</td>\n",
              "      <td>0.013559</td>\n",
              "      <td>0.013559</td>\n",
              "      <td>35.593220</td>\n",
              "      <td>35.593220</td>\n",
              "    </tr>\n",
              "    <tr>\n",
              "      <th>1</th>\n",
              "      <td></td>\n",
              "      <td>2</td>\n",
              "      <td>0.02</td>\n",
              "      <td>0.997845</td>\n",
              "      <td>1.355932</td>\n",
              "      <td>1.355932</td>\n",
              "      <td>1.000</td>\n",
              "      <td>0.998123</td>\n",
              "      <td>1.000000</td>\n",
              "      <td>0.998449</td>\n",
              "      <td>0.013559</td>\n",
              "      <td>0.027119</td>\n",
              "      <td>35.593220</td>\n",
              "      <td>35.593220</td>\n",
              "    </tr>\n",
              "    <tr>\n",
              "      <th>2</th>\n",
              "      <td></td>\n",
              "      <td>3</td>\n",
              "      <td>0.03</td>\n",
              "      <td>0.997618</td>\n",
              "      <td>1.355932</td>\n",
              "      <td>1.355932</td>\n",
              "      <td>1.000</td>\n",
              "      <td>0.997762</td>\n",
              "      <td>1.000000</td>\n",
              "      <td>0.998220</td>\n",
              "      <td>0.013559</td>\n",
              "      <td>0.040678</td>\n",
              "      <td>35.593220</td>\n",
              "      <td>35.593220</td>\n",
              "    </tr>\n",
              "    <tr>\n",
              "      <th>3</th>\n",
              "      <td></td>\n",
              "      <td>4</td>\n",
              "      <td>0.04</td>\n",
              "      <td>0.997269</td>\n",
              "      <td>1.355932</td>\n",
              "      <td>1.355932</td>\n",
              "      <td>1.000</td>\n",
              "      <td>0.997417</td>\n",
              "      <td>1.000000</td>\n",
              "      <td>0.998019</td>\n",
              "      <td>0.013559</td>\n",
              "      <td>0.054237</td>\n",
              "      <td>35.593220</td>\n",
              "      <td>35.593220</td>\n",
              "    </tr>\n",
              "    <tr>\n",
              "      <th>4</th>\n",
              "      <td></td>\n",
              "      <td>5</td>\n",
              "      <td>0.05</td>\n",
              "      <td>0.997158</td>\n",
              "      <td>1.355932</td>\n",
              "      <td>1.355932</td>\n",
              "      <td>1.000</td>\n",
              "      <td>0.997219</td>\n",
              "      <td>1.000000</td>\n",
              "      <td>0.997859</td>\n",
              "      <td>0.013559</td>\n",
              "      <td>0.067797</td>\n",
              "      <td>35.593220</td>\n",
              "      <td>35.593220</td>\n",
              "    </tr>\n",
              "    <tr>\n",
              "      <th>5</th>\n",
              "      <td></td>\n",
              "      <td>6</td>\n",
              "      <td>0.10</td>\n",
              "      <td>0.995714</td>\n",
              "      <td>1.355932</td>\n",
              "      <td>1.355932</td>\n",
              "      <td>1.000</td>\n",
              "      <td>0.996571</td>\n",
              "      <td>1.000000</td>\n",
              "      <td>0.997215</td>\n",
              "      <td>0.067797</td>\n",
              "      <td>0.135593</td>\n",
              "      <td>35.593220</td>\n",
              "      <td>35.593220</td>\n",
              "    </tr>\n",
              "    <tr>\n",
              "      <th>6</th>\n",
              "      <td></td>\n",
              "      <td>7</td>\n",
              "      <td>0.15</td>\n",
              "      <td>0.992979</td>\n",
              "      <td>1.355932</td>\n",
              "      <td>1.355932</td>\n",
              "      <td>1.000</td>\n",
              "      <td>0.994604</td>\n",
              "      <td>1.000000</td>\n",
              "      <td>0.996345</td>\n",
              "      <td>0.067797</td>\n",
              "      <td>0.203390</td>\n",
              "      <td>35.593220</td>\n",
              "      <td>35.593220</td>\n",
              "    </tr>\n",
              "    <tr>\n",
              "      <th>7</th>\n",
              "      <td></td>\n",
              "      <td>8</td>\n",
              "      <td>0.20</td>\n",
              "      <td>0.989874</td>\n",
              "      <td>1.355932</td>\n",
              "      <td>1.355932</td>\n",
              "      <td>1.000</td>\n",
              "      <td>0.991689</td>\n",
              "      <td>1.000000</td>\n",
              "      <td>0.995181</td>\n",
              "      <td>0.067797</td>\n",
              "      <td>0.271186</td>\n",
              "      <td>35.593220</td>\n",
              "      <td>35.593220</td>\n",
              "    </tr>\n",
              "    <tr>\n",
              "      <th>8</th>\n",
              "      <td></td>\n",
              "      <td>9</td>\n",
              "      <td>0.30</td>\n",
              "      <td>0.976273</td>\n",
              "      <td>1.322034</td>\n",
              "      <td>1.344633</td>\n",
              "      <td>0.975</td>\n",
              "      <td>0.983758</td>\n",
              "      <td>0.991667</td>\n",
              "      <td>0.991373</td>\n",
              "      <td>0.132203</td>\n",
              "      <td>0.403390</td>\n",
              "      <td>32.203390</td>\n",
              "      <td>34.463277</td>\n",
              "    </tr>\n",
              "    <tr>\n",
              "      <th>9</th>\n",
              "      <td></td>\n",
              "      <td>10</td>\n",
              "      <td>0.40</td>\n",
              "      <td>0.958773</td>\n",
              "      <td>1.355932</td>\n",
              "      <td>1.347458</td>\n",
              "      <td>1.000</td>\n",
              "      <td>0.968291</td>\n",
              "      <td>0.993750</td>\n",
              "      <td>0.985603</td>\n",
              "      <td>0.135593</td>\n",
              "      <td>0.538983</td>\n",
              "      <td>35.593220</td>\n",
              "      <td>34.745763</td>\n",
              "    </tr>\n",
              "    <tr>\n",
              "      <th>10</th>\n",
              "      <td></td>\n",
              "      <td>11</td>\n",
              "      <td>0.50</td>\n",
              "      <td>0.932305</td>\n",
              "      <td>1.322034</td>\n",
              "      <td>1.342373</td>\n",
              "      <td>0.975</td>\n",
              "      <td>0.948940</td>\n",
              "      <td>0.990000</td>\n",
              "      <td>0.978270</td>\n",
              "      <td>0.132203</td>\n",
              "      <td>0.671186</td>\n",
              "      <td>32.203390</td>\n",
              "      <td>34.237288</td>\n",
              "    </tr>\n",
              "    <tr>\n",
              "      <th>11</th>\n",
              "      <td></td>\n",
              "      <td>12</td>\n",
              "      <td>0.60</td>\n",
              "      <td>0.849611</td>\n",
              "      <td>1.355932</td>\n",
              "      <td>1.344633</td>\n",
              "      <td>1.000</td>\n",
              "      <td>0.900370</td>\n",
              "      <td>0.991667</td>\n",
              "      <td>0.965287</td>\n",
              "      <td>0.135593</td>\n",
              "      <td>0.806780</td>\n",
              "      <td>35.593220</td>\n",
              "      <td>34.463277</td>\n",
              "    </tr>\n",
              "    <tr>\n",
              "      <th>12</th>\n",
              "      <td></td>\n",
              "      <td>13</td>\n",
              "      <td>0.70</td>\n",
              "      <td>0.692210</td>\n",
              "      <td>1.118644</td>\n",
              "      <td>1.312349</td>\n",
              "      <td>0.825</td>\n",
              "      <td>0.777425</td>\n",
              "      <td>0.967857</td>\n",
              "      <td>0.938449</td>\n",
              "      <td>0.111864</td>\n",
              "      <td>0.918644</td>\n",
              "      <td>11.864407</td>\n",
              "      <td>31.234867</td>\n",
              "    </tr>\n",
              "    <tr>\n",
              "      <th>13</th>\n",
              "      <td></td>\n",
              "      <td>14</td>\n",
              "      <td>0.80</td>\n",
              "      <td>0.295077</td>\n",
              "      <td>0.677966</td>\n",
              "      <td>1.233051</td>\n",
              "      <td>0.500</td>\n",
              "      <td>0.503339</td>\n",
              "      <td>0.909375</td>\n",
              "      <td>0.884061</td>\n",
              "      <td>0.067797</td>\n",
              "      <td>0.986441</td>\n",
              "      <td>-32.203390</td>\n",
              "      <td>23.305085</td>\n",
              "    </tr>\n",
              "    <tr>\n",
              "      <th>14</th>\n",
              "      <td></td>\n",
              "      <td>15</td>\n",
              "      <td>0.90</td>\n",
              "      <td>0.072576</td>\n",
              "      <td>0.135593</td>\n",
              "      <td>1.111111</td>\n",
              "      <td>0.100</td>\n",
              "      <td>0.183781</td>\n",
              "      <td>0.819444</td>\n",
              "      <td>0.806252</td>\n",
              "      <td>0.013559</td>\n",
              "      <td>1.000000</td>\n",
              "      <td>-86.440678</td>\n",
              "      <td>11.111111</td>\n",
              "    </tr>\n",
              "    <tr>\n",
              "      <th>15</th>\n",
              "      <td></td>\n",
              "      <td>16</td>\n",
              "      <td>1.00</td>\n",
              "      <td>0.001263</td>\n",
              "      <td>0.000000</td>\n",
              "      <td>1.000000</td>\n",
              "      <td>0.000</td>\n",
              "      <td>0.029376</td>\n",
              "      <td>0.737500</td>\n",
              "      <td>0.728564</td>\n",
              "      <td>0.000000</td>\n",
              "      <td>1.000000</td>\n",
              "      <td>-100.000000</td>\n",
              "      <td>0.000000</td>\n",
              "    </tr>\n",
              "  </tbody>\n",
              "</table>\n",
              "</div>"
            ],
            "text/plain": [
              "      group  ...        gain  cumulative_gain\n",
              "0         1  ...   35.593220        35.593220\n",
              "1         2  ...   35.593220        35.593220\n",
              "2         3  ...   35.593220        35.593220\n",
              "3         4  ...   35.593220        35.593220\n",
              "4         5  ...   35.593220        35.593220\n",
              "5         6  ...   35.593220        35.593220\n",
              "6         7  ...   35.593220        35.593220\n",
              "7         8  ...   35.593220        35.593220\n",
              "8         9  ...   32.203390        34.463277\n",
              "9        10  ...   35.593220        34.745763\n",
              "10       11  ...   32.203390        34.237288\n",
              "11       12  ...   35.593220        34.463277\n",
              "12       13  ...   11.864407        31.234867\n",
              "13       14  ...  -32.203390        23.305085\n",
              "14       15  ...  -86.440678        11.111111\n",
              "15       16  ... -100.000000         0.000000\n",
              "\n",
              "[16 rows x 14 columns]"
            ]
          },
          "metadata": {
            "tags": []
          }
        },
        {
          "output_type": "stream",
          "text": [
            "\n"
          ],
          "name": "stdout"
        },
        {
          "output_type": "execute_result",
          "data": {
            "text/plain": [
              ""
            ]
          },
          "metadata": {
            "tags": []
          },
          "execution_count": 29
        }
      ]
    },
    {
      "cell_type": "code",
      "metadata": {
        "id": "v0hgU0dtf8Ci",
        "colab": {
          "base_uri": "https://localhost:8080/",
          "height": 612
        },
        "outputId": "d42291df-578a-4ec8-b0ee-047926666d98"
      },
      "source": [
        "gbm_final.varimp_plot()"
      ],
      "execution_count": null,
      "outputs": [
        {
          "output_type": "display_data",
          "data": {
            "image/png": "[encoded data removed]",
            "text/plain": [
              "<Figure size 1008x720 with 1 Axes>"
            ]
          },
          "metadata": {
            "tags": [],
            "needs_background": "light"
          }
        }
      ]
    },
    {
      "cell_type": "code",
      "metadata": {
        "id": "E0x55HjkrRv9",
        "colab": {
          "base_uri": "https://localhost:8080/",
          "height": 1000
        },
        "outputId": "2f89d1fd-bf62-4686-fb29-6f8388fa1c89"
      },
      "source": [
        "gbm_final.partial_plot(data = h2o_df_ext, cols = [\"headline_C98\"])"
      ],
      "execution_count": null,
      "outputs": [
        {
          "output_type": "stream",
          "text": [
            "PartialDependencePlot progress: |█████████████████████████████████████████| 100%\n",
            "\n",
            "PartialDependence: Partial Dependence Plot of model GBM_model_python_1588628225929_1 on column 'headline_C98'\n"
          ],
          "name": "stdout"
        },
        {
          "output_type": "display_data",
          "data": {
            "text/html": [
              "<div>\n",
              "<style scoped>\n",
              "    .dataframe tbody tr th:only-of-type {\n",
              "        vertical-align: middle;\n",
              "    }\n",
              "\n",
              "    .dataframe tbody tr th {\n",
              "        vertical-align: top;\n",
              "    }\n",
              "\n",
              "    .dataframe thead th {\n",
              "        text-align: right;\n",
              "    }\n",
              "</style>\n",
              "<table border=\"1\" class=\"dataframe\">\n",
              "  <thead>\n",
              "    <tr style=\"text-align: right;\">\n",
              "      <th></th>\n",
              "      <th>headline_c98</th>\n",
              "      <th>mean_response</th>\n",
              "      <th>stddev_response</th>\n",
              "      <th>std_error_mean_response</th>\n",
              "    </tr>\n",
              "  </thead>\n",
              "  <tbody>\n",
              "    <tr>\n",
              "      <th>0</th>\n",
              "      <td>-0.833813</td>\n",
              "      <td>0.750872</td>\n",
              "      <td>0.328294</td>\n",
              "      <td>0.016415</td>\n",
              "    </tr>\n",
              "    <tr>\n",
              "      <th>1</th>\n",
              "      <td>-0.766609</td>\n",
              "      <td>0.750872</td>\n",
              "      <td>0.328294</td>\n",
              "      <td>0.016415</td>\n",
              "    </tr>\n",
              "    <tr>\n",
              "      <th>2</th>\n",
              "      <td>-0.699406</td>\n",
              "      <td>0.750872</td>\n",
              "      <td>0.328294</td>\n",
              "      <td>0.016415</td>\n",
              "    </tr>\n",
              "    <tr>\n",
              "      <th>3</th>\n",
              "      <td>-0.632202</td>\n",
              "      <td>0.750872</td>\n",
              "      <td>0.328294</td>\n",
              "      <td>0.016415</td>\n",
              "    </tr>\n",
              "    <tr>\n",
              "      <th>4</th>\n",
              "      <td>-0.564999</td>\n",
              "      <td>0.750872</td>\n",
              "      <td>0.328294</td>\n",
              "      <td>0.016415</td>\n",
              "    </tr>\n",
              "    <tr>\n",
              "      <th>5</th>\n",
              "      <td>-0.497795</td>\n",
              "      <td>0.750872</td>\n",
              "      <td>0.328294</td>\n",
              "      <td>0.016415</td>\n",
              "    </tr>\n",
              "    <tr>\n",
              "      <th>6</th>\n",
              "      <td>-0.430592</td>\n",
              "      <td>0.750872</td>\n",
              "      <td>0.328294</td>\n",
              "      <td>0.016415</td>\n",
              "    </tr>\n",
              "    <tr>\n",
              "      <th>7</th>\n",
              "      <td>-0.363389</td>\n",
              "      <td>0.751097</td>\n",
              "      <td>0.328674</td>\n",
              "      <td>0.016434</td>\n",
              "    </tr>\n",
              "    <tr>\n",
              "      <th>8</th>\n",
              "      <td>-0.296185</td>\n",
              "      <td>0.751097</td>\n",
              "      <td>0.328674</td>\n",
              "      <td>0.016434</td>\n",
              "    </tr>\n",
              "    <tr>\n",
              "      <th>9</th>\n",
              "      <td>-0.228982</td>\n",
              "      <td>0.751098</td>\n",
              "      <td>0.328588</td>\n",
              "      <td>0.016429</td>\n",
              "    </tr>\n",
              "    <tr>\n",
              "      <th>10</th>\n",
              "      <td>-0.161778</td>\n",
              "      <td>0.749618</td>\n",
              "      <td>0.330248</td>\n",
              "      <td>0.016512</td>\n",
              "    </tr>\n",
              "    <tr>\n",
              "      <th>11</th>\n",
              "      <td>-0.094575</td>\n",
              "      <td>0.741597</td>\n",
              "      <td>0.333989</td>\n",
              "      <td>0.016699</td>\n",
              "    </tr>\n",
              "    <tr>\n",
              "      <th>12</th>\n",
              "      <td>-0.027371</td>\n",
              "      <td>0.738745</td>\n",
              "      <td>0.335399</td>\n",
              "      <td>0.016770</td>\n",
              "    </tr>\n",
              "    <tr>\n",
              "      <th>13</th>\n",
              "      <td>0.039832</td>\n",
              "      <td>0.732825</td>\n",
              "      <td>0.337941</td>\n",
              "      <td>0.016897</td>\n",
              "    </tr>\n",
              "    <tr>\n",
              "      <th>14</th>\n",
              "      <td>0.107036</td>\n",
              "      <td>0.699877</td>\n",
              "      <td>0.351618</td>\n",
              "      <td>0.017581</td>\n",
              "    </tr>\n",
              "    <tr>\n",
              "      <th>15</th>\n",
              "      <td>0.174239</td>\n",
              "      <td>0.698868</td>\n",
              "      <td>0.351734</td>\n",
              "      <td>0.017587</td>\n",
              "    </tr>\n",
              "    <tr>\n",
              "      <th>16</th>\n",
              "      <td>0.241442</td>\n",
              "      <td>0.699140</td>\n",
              "      <td>0.351688</td>\n",
              "      <td>0.017584</td>\n",
              "    </tr>\n",
              "    <tr>\n",
              "      <th>17</th>\n",
              "      <td>0.308646</td>\n",
              "      <td>0.698931</td>\n",
              "      <td>0.351763</td>\n",
              "      <td>0.017588</td>\n",
              "    </tr>\n",
              "    <tr>\n",
              "      <th>18</th>\n",
              "      <td>0.375849</td>\n",
              "      <td>0.694438</td>\n",
              "      <td>0.351768</td>\n",
              "      <td>0.017588</td>\n",
              "    </tr>\n",
              "    <tr>\n",
              "      <th>19</th>\n",
              "      <td>0.443053</td>\n",
              "      <td>0.694438</td>\n",
              "      <td>0.351768</td>\n",
              "      <td>0.017588</td>\n",
              "    </tr>\n",
              "  </tbody>\n",
              "</table>\n",
              "</div>"
            ],
            "text/plain": [
              "    headline_c98  mean_response  stddev_response  std_error_mean_response\n",
              "0      -0.833813       0.750872         0.328294                 0.016415\n",
              "1      -0.766609       0.750872         0.328294                 0.016415\n",
              "2      -0.699406       0.750872         0.328294                 0.016415\n",
              "3      -0.632202       0.750872         0.328294                 0.016415\n",
              "4      -0.564999       0.750872         0.328294                 0.016415\n",
              "5      -0.497795       0.750872         0.328294                 0.016415\n",
              "6      -0.430592       0.750872         0.328294                 0.016415\n",
              "7      -0.363389       0.751097         0.328674                 0.016434\n",
              "8      -0.296185       0.751097         0.328674                 0.016434\n",
              "9      -0.228982       0.751098         0.328588                 0.016429\n",
              "10     -0.161778       0.749618         0.330248                 0.016512\n",
              "11     -0.094575       0.741597         0.333989                 0.016699\n",
              "12     -0.027371       0.738745         0.335399                 0.016770\n",
              "13      0.039832       0.732825         0.337941                 0.016897\n",
              "14      0.107036       0.699877         0.351618                 0.017581\n",
              "15      0.174239       0.698868         0.351734                 0.017587\n",
              "16      0.241442       0.699140         0.351688                 0.017584\n",
              "17      0.308646       0.698931         0.351763                 0.017588\n",
              "18      0.375849       0.694438         0.351768                 0.017588\n",
              "19      0.443053       0.694438         0.351768                 0.017588"
            ]
          },
          "metadata": {
            "tags": []
          }
        },
        {
          "output_type": "execute_result",
          "data": {
            "text/plain": [
              "[]"
            ]
          },
          "metadata": {
            "tags": []
          },
          "execution_count": 31
        },
        {
          "output_type": "display_data",
          "data": {
            "image/png": "[encoded data removed]",
            "text/plain": [
              "<Figure size 504x720 with 1 Axes>"
            ]
          },
          "metadata": {
            "tags": [],
            "needs_background": "light"
          }
        }
      ]
    },
    {
      "cell_type": "code",
      "metadata": {
        "id": "A1bejAhqr6e-"
      },
      "source": [
        "unique_words = words_headline.asfactor().unique().ascharacter()"
      ],
      "execution_count": null,
      "outputs": []
    },
    {
      "cell_type": "code",
      "metadata": {
        "id": "PsdfMu6wf7ut"
      },
      "source": [
        "unique_words.col_names = [\"Word\"]\n",
        "word_embeddings = vec_model.transform(unique_words, aggregate_method=\"NONE\")\n",
        "word_embeddings = unique_words.cbind(word_embeddings)\n",
        "word_embeddings = word_embeddings[~(word_embeddings[\"C1\"].isna())]"
      ],
      "execution_count": null,
      "outputs": []
    },
    {
      "cell_type": "code",
      "metadata": {
        "id": "nXnAriwDBy-Z",
        "colab": {
          "base_uri": "https://localhost:8080/",
          "height": 270
        },
        "outputId": "8fad0c88-dfc6-4932-c4f5-3703025c34a6"
      },
      "source": [
        "word_embeddings"
      ],
      "execution_count": null,
      "outputs": [
        {
          "output_type": "display_data",
          "data": {
            "text/html": [
              "<table>\n",
              "<thead>\n",
              "<tr><th>Word    </th><th style=\"text-align: right;\">        C1</th><th style=\"text-align: right;\">        C2</th><th style=\"text-align: right;\">        C3</th><th style=\"text-align: right;\">        C4</th><th style=\"text-align: right;\">        C5</th><th style=\"text-align: right;\">         C6</th><th style=\"text-align: right;\">        C7</th><th style=\"text-align: right;\">        C8</th><th style=\"text-align: right;\">        C9</th><th style=\"text-align: right;\">       C10</th><th style=\"text-align: right;\">       C11</th><th style=\"text-align: right;\">       C12</th><th style=\"text-align: right;\">        C13</th><th style=\"text-align: right;\">        C14</th><th style=\"text-align: right;\">       C15</th><th style=\"text-align: right;\">       C16</th><th style=\"text-align: right;\">         C17</th><th style=\"text-align: right;\">       C18</th><th style=\"text-align: right;\">        C19</th><th style=\"text-align: right;\">       C20</th><th style=\"text-align: right;\">       C21</th><th style=\"text-align: right;\">       C22</th><th style=\"text-align: right;\">       C23</th><th style=\"text-align: right;\">       C24</th><th style=\"text-align: right;\">        C25</th><th style=\"text-align: right;\">       C26</th><th style=\"text-align: right;\">       C27</th><th style=\"text-align: right;\">       C28</th><th style=\"text-align: right;\">       C29</th><th style=\"text-align: right;\">       C30</th><th style=\"text-align: right;\">       C31</th><th style=\"text-align: right;\">       C32</th><th style=\"text-align: right;\">        C33</th><th style=\"text-align: right;\">       C34</th><th style=\"text-align: right;\">       C35</th><th style=\"text-align: right;\">       C36</th><th style=\"text-align: right;\">        C37</th><th style=\"text-align: right;\">        C38</th><th style=\"text-align: right;\">      C39</th><th style=\"text-align: right;\">        C40</th><th style=\"text-align: right;\">       C41</th><th style=\"text-align: right;\">       C42</th><th style=\"text-align: right;\">       C43</th><th style=\"text-align: right;\">       C44</th><th style=\"text-align: right;\">       C45</th><th style=\"text-align: right;\">       C46</th><th style=\"text-align: right;\">       C47</th><th style=\"text-align: right;\">      C48</th><th style=\"text-align: right;\">       C49</th><th style=\"text-align: right;\">       C50</th><th style=\"text-align: right;\">        C51</th><th style=\"text-align: right;\">       C52</th><th style=\"text-align: right;\">       C53</th><th style=\"text-align: right;\">        C54</th><th style=\"text-align: right;\">       C55</th><th style=\"text-align: right;\">        C56</th><th style=\"text-align: right;\">       C57</th><th style=\"text-align: right;\">       C58</th><th style=\"text-align: right;\">        C59</th><th style=\"text-align: right;\">        C60</th><th style=\"text-align: right;\">        C61</th><th style=\"text-align: right;\">        C62</th><th style=\"text-align: right;\">      C63</th><th style=\"text-align: right;\">       C64</th><th style=\"text-align: right;\">        C65</th><th style=\"text-align: right;\">       C66</th><th style=\"text-align: right;\">        C67</th><th style=\"text-align: right;\">       C68</th><th style=\"text-align: right;\">         C69</th><th style=\"text-align: right;\">       C70</th><th style=\"text-align: right;\">       C71</th><th style=\"text-align: right;\">       C72</th><th style=\"text-align: right;\">       C73</th><th style=\"text-align: right;\">       C74</th><th style=\"text-align: right;\">       C75</th><th style=\"text-align: right;\">       C76</th><th style=\"text-align: right;\">       C77</th><th style=\"text-align: right;\">        C78</th><th style=\"text-align: right;\">       C79</th><th style=\"text-align: right;\">        C80</th><th style=\"text-align: right;\">       C81</th><th style=\"text-align: right;\">      C82</th><th style=\"text-align: right;\">       C83</th><th style=\"text-align: right;\">        C84</th><th style=\"text-align: right;\">       C85</th><th style=\"text-align: right;\">        C86</th><th style=\"text-align: right;\">       C87</th><th style=\"text-align: right;\">       C88</th><th style=\"text-align: right;\">       C89</th><th style=\"text-align: right;\">        C90</th><th style=\"text-align: right;\">       C91</th><th style=\"text-align: right;\">       C92</th><th style=\"text-align: right;\">       C93</th><th style=\"text-align: right;\">       C94</th><th style=\"text-align: right;\">        C95</th><th style=\"text-align: right;\">       C96</th><th style=\"text-align: right;\">       C97</th><th style=\"text-align: right;\">       C98</th><th style=\"text-align: right;\">       C99</th><th style=\"text-align: right;\">      C100</th></tr>\n",
              "</thead>\n",
              "<tbody>\n",
              "<tr><td>10      </td><td style=\"text-align: right;\"> 0.199773 </td><td style=\"text-align: right;\">-0.16939  </td><td style=\"text-align: right;\"> 0.376599 </td><td style=\"text-align: right;\">-0.360822 </td><td style=\"text-align: right;\"> 0.196466 </td><td style=\"text-align: right;\">-0.263614  </td><td style=\"text-align: right;\"> 0.241081 </td><td style=\"text-align: right;\">-0.204358 </td><td style=\"text-align: right;\">-0.311734 </td><td style=\"text-align: right;\"> 0.0611571</td><td style=\"text-align: right;\"> 0.262496 </td><td style=\"text-align: right;\"> 0.13959  </td><td style=\"text-align: right;\">-0.144652  </td><td style=\"text-align: right;\"> 0.00957113</td><td style=\"text-align: right;\"> 0.139296 </td><td style=\"text-align: right;\">-0.391759 </td><td style=\"text-align: right;\"> 0.0784919  </td><td style=\"text-align: right;\">-0.119117 </td><td style=\"text-align: right;\">-0.106906  </td><td style=\"text-align: right;\">-0.239084 </td><td style=\"text-align: right;\">-0.160914 </td><td style=\"text-align: right;\"> 0.0336082</td><td style=\"text-align: right;\"> 0.173595 </td><td style=\"text-align: right;\"> 0.211522 </td><td style=\"text-align: right;\"> 0.0538342 </td><td style=\"text-align: right;\">-0.219073 </td><td style=\"text-align: right;\"> 0.179426 </td><td style=\"text-align: right;\"> 0.215728 </td><td style=\"text-align: right;\">-0.257573 </td><td style=\"text-align: right;\"> 0.142056 </td><td style=\"text-align: right;\"> 0.0242326</td><td style=\"text-align: right;\"> 0.121006 </td><td style=\"text-align: right;\"> 0.0503526 </td><td style=\"text-align: right;\">-0.0742129</td><td style=\"text-align: right;\">-0.0083994</td><td style=\"text-align: right;\">-0.0527383</td><td style=\"text-align: right;\">-0.345637  </td><td style=\"text-align: right;\">-0.318552  </td><td style=\"text-align: right;\">0.159418 </td><td style=\"text-align: right;\"> 0.00295908</td><td style=\"text-align: right;\"> 0.122509 </td><td style=\"text-align: right;\"> 0.168058 </td><td style=\"text-align: right;\">-0.137041 </td><td style=\"text-align: right;\"> 0.019846 </td><td style=\"text-align: right;\"> 0.257065 </td><td style=\"text-align: right;\">-0.283685 </td><td style=\"text-align: right;\">-0.185816 </td><td style=\"text-align: right;\">-0.329677</td><td style=\"text-align: right;\">-0.167769 </td><td style=\"text-align: right;\">-0.184999 </td><td style=\"text-align: right;\"> 0.0417556 </td><td style=\"text-align: right;\">-0.0198872</td><td style=\"text-align: right;\">-0.135088 </td><td style=\"text-align: right;\">-0.074212  </td><td style=\"text-align: right;\"> 0.226742 </td><td style=\"text-align: right;\"> 0.00601057</td><td style=\"text-align: right;\">-0.149066 </td><td style=\"text-align: right;\">-0.286348 </td><td style=\"text-align: right;\"> 0.0369019 </td><td style=\"text-align: right;\">-0.152739  </td><td style=\"text-align: right;\">-0.0451942 </td><td style=\"text-align: right;\">-0.10083   </td><td style=\"text-align: right;\"> 0.223987</td><td style=\"text-align: right;\">-0.0992648</td><td style=\"text-align: right;\">-0.242245  </td><td style=\"text-align: right;\">-0.0782048</td><td style=\"text-align: right;\"> 0.090927  </td><td style=\"text-align: right;\">-0.289629 </td><td style=\"text-align: right;\"> 0.268641   </td><td style=\"text-align: right;\">-0.157775 </td><td style=\"text-align: right;\">-0.0287454</td><td style=\"text-align: right;\">-0.158575 </td><td style=\"text-align: right;\"> 0.0653237</td><td style=\"text-align: right;\"> 0.0765034</td><td style=\"text-align: right;\">-0.469495 </td><td style=\"text-align: right;\"> 0.202876 </td><td style=\"text-align: right;\"> 0.0421104</td><td style=\"text-align: right;\"> 0.199155  </td><td style=\"text-align: right;\">-0.226179 </td><td style=\"text-align: right;\"> 0.0284228 </td><td style=\"text-align: right;\">-0.596143 </td><td style=\"text-align: right;\">-0.183498</td><td style=\"text-align: right;\">-0.0114327</td><td style=\"text-align: right;\">-0.122014  </td><td style=\"text-align: right;\">-0.0646081</td><td style=\"text-align: right;\"> 0.418229  </td><td style=\"text-align: right;\"> 0.295982 </td><td style=\"text-align: right;\"> 0.183438 </td><td style=\"text-align: right;\"> 0.0332404</td><td style=\"text-align: right;\">-0.00639095</td><td style=\"text-align: right;\">-0.0478193</td><td style=\"text-align: right;\"> 0.206869 </td><td style=\"text-align: right;\"> 0.159    </td><td style=\"text-align: right;\">-0.186928 </td><td style=\"text-align: right;\"> 0.16598   </td><td style=\"text-align: right;\">-0.128483 </td><td style=\"text-align: right;\">-0.220541 </td><td style=\"text-align: right;\">-0.0248918</td><td style=\"text-align: right;\"> 0.178152 </td><td style=\"text-align: right;\">-0.145419 </td></tr>\n",
              "<tr><td>12      </td><td style=\"text-align: right;\"> 0.267083 </td><td style=\"text-align: right;\">-0.245688 </td><td style=\"text-align: right;\"> 0.302302 </td><td style=\"text-align: right;\">-0.0181869</td><td style=\"text-align: right;\"> 0.0764535</td><td style=\"text-align: right;\"> 0.0155064 </td><td style=\"text-align: right;\"> 0.194669 </td><td style=\"text-align: right;\">-0.0764542</td><td style=\"text-align: right;\">-0.21203  </td><td style=\"text-align: right;\">-0.0541727</td><td style=\"text-align: right;\"> 0.232105 </td><td style=\"text-align: right;\"> 0.0609139</td><td style=\"text-align: right;\"> 0.0544825 </td><td style=\"text-align: right;\">-0.114615  </td><td style=\"text-align: right;\">-0.0290393</td><td style=\"text-align: right;\">-0.0134372</td><td style=\"text-align: right;\"> 0.0492783  </td><td style=\"text-align: right;\">-0.264073 </td><td style=\"text-align: right;\"> 0.0629394 </td><td style=\"text-align: right;\">-0.1569   </td><td style=\"text-align: right;\">-0.313128 </td><td style=\"text-align: right;\">-0.0271289</td><td style=\"text-align: right;\"> 0.118418 </td><td style=\"text-align: right;\"> 0.131672 </td><td style=\"text-align: right;\"> 0.21221   </td><td style=\"text-align: right;\"> 0.0119158</td><td style=\"text-align: right;\">-0.132625 </td><td style=\"text-align: right;\"> 0.075865 </td><td style=\"text-align: right;\">-0.491099 </td><td style=\"text-align: right;\"> 0.25285  </td><td style=\"text-align: right;\"> 0.0676437</td><td style=\"text-align: right;\">-0.232315 </td><td style=\"text-align: right;\">-0.101526  </td><td style=\"text-align: right;\">-0.0849736</td><td style=\"text-align: right;\">-0.167304 </td><td style=\"text-align: right;\">-0.105724 </td><td style=\"text-align: right;\">-0.507004  </td><td style=\"text-align: right;\">-0.316684  </td><td style=\"text-align: right;\">0.29957  </td><td style=\"text-align: right;\">-0.0799104 </td><td style=\"text-align: right;\"> 0.192142 </td><td style=\"text-align: right;\"> 0.168787 </td><td style=\"text-align: right;\"> 0.0535136</td><td style=\"text-align: right;\">-0.0432239</td><td style=\"text-align: right;\"> 0.393358 </td><td style=\"text-align: right;\">-0.157539 </td><td style=\"text-align: right;\">-0.21854  </td><td style=\"text-align: right;\">-0.442137</td><td style=\"text-align: right;\">-0.0545592</td><td style=\"text-align: right;\">-0.379819 </td><td style=\"text-align: right;\">-0.0885464 </td><td style=\"text-align: right;\">-0.263605 </td><td style=\"text-align: right;\"> 0.0529386</td><td style=\"text-align: right;\">-0.00583933</td><td style=\"text-align: right;\"> 0.127335 </td><td style=\"text-align: right;\">-0.0942542 </td><td style=\"text-align: right;\"> 0.201667 </td><td style=\"text-align: right;\">-0.239694 </td><td style=\"text-align: right;\">-0.00551068</td><td style=\"text-align: right;\">-0.242538  </td><td style=\"text-align: right;\">-0.0427935 </td><td style=\"text-align: right;\">-0.381949  </td><td style=\"text-align: right;\"> 0.552154</td><td style=\"text-align: right;\">-0.110754 </td><td style=\"text-align: right;\">-0.460794  </td><td style=\"text-align: right;\"> 0.0380117</td><td style=\"text-align: right;\"> 0.107192  </td><td style=\"text-align: right;\">-0.041619 </td><td style=\"text-align: right;\"> 0.202322   </td><td style=\"text-align: right;\">-0.218699 </td><td style=\"text-align: right;\">-0.130231 </td><td style=\"text-align: right;\"> 0.0182394</td><td style=\"text-align: right;\">-0.172894 </td><td style=\"text-align: right;\">-0.0938436</td><td style=\"text-align: right;\">-0.230095 </td><td style=\"text-align: right;\"> 0.0292674</td><td style=\"text-align: right;\"> 0.17741  </td><td style=\"text-align: right;\"> 0.17745   </td><td style=\"text-align: right;\">-0.0950754</td><td style=\"text-align: right;\"> 0.139002  </td><td style=\"text-align: right;\">-0.427763 </td><td style=\"text-align: right;\">-0.222518</td><td style=\"text-align: right;\"> 0.198511 </td><td style=\"text-align: right;\">-0.114188  </td><td style=\"text-align: right;\">-0.0799137</td><td style=\"text-align: right;\"> 0.205717  </td><td style=\"text-align: right;\"> 0.28415  </td><td style=\"text-align: right;\">-0.0670746</td><td style=\"text-align: right;\">-0.363932 </td><td style=\"text-align: right;\"> 0.00935144</td><td style=\"text-align: right;\"> 0.222023 </td><td style=\"text-align: right;\"> 0.325269 </td><td style=\"text-align: right;\">-0.0562397</td><td style=\"text-align: right;\">-0.113611 </td><td style=\"text-align: right;\"> 0.203704  </td><td style=\"text-align: right;\">-0.0542336</td><td style=\"text-align: right;\">-0.0773834</td><td style=\"text-align: right;\">-0.0981021</td><td style=\"text-align: right;\"> 0.26824  </td><td style=\"text-align: right;\">-0.217215 </td></tr>\n",
              "<tr><td>24      </td><td style=\"text-align: right;\"> 0.147525 </td><td style=\"text-align: right;\">-0.672621 </td><td style=\"text-align: right;\"> 0.322205 </td><td style=\"text-align: right;\">-0.176679 </td><td style=\"text-align: right;\"> 0.207103 </td><td style=\"text-align: right;\"> 0.131892  </td><td style=\"text-align: right;\"> 0.0743528</td><td style=\"text-align: right;\"> 0.141751 </td><td style=\"text-align: right;\">-0.295387 </td><td style=\"text-align: right;\">-0.423763 </td><td style=\"text-align: right;\"> 0.162178 </td><td style=\"text-align: right;\"> 0.295476 </td><td style=\"text-align: right;\"> 0.0702891 </td><td style=\"text-align: right;\">-0.360262  </td><td style=\"text-align: right;\">-0.0847913</td><td style=\"text-align: right;\"> 0.0278446</td><td style=\"text-align: right;\"> 0.0607127  </td><td style=\"text-align: right;\">-0.0824511</td><td style=\"text-align: right;\"> 0.0197352 </td><td style=\"text-align: right;\">-0.408419 </td><td style=\"text-align: right;\">-0.284968 </td><td style=\"text-align: right;\"> 0.179423 </td><td style=\"text-align: right;\"> 0.0870789</td><td style=\"text-align: right;\"> 0.153293 </td><td style=\"text-align: right;\"> 0.0587984 </td><td style=\"text-align: right;\"> 0.105018 </td><td style=\"text-align: right;\">-0.274672 </td><td style=\"text-align: right;\"> 0.0711659</td><td style=\"text-align: right;\">-0.550873 </td><td style=\"text-align: right;\"> 0.486693 </td><td style=\"text-align: right;\"> 0.150605 </td><td style=\"text-align: right;\">-0.268988 </td><td style=\"text-align: right;\"> 0.197527  </td><td style=\"text-align: right;\"> 0.159584 </td><td style=\"text-align: right;\">-0.267503 </td><td style=\"text-align: right;\"> 0.0710506</td><td style=\"text-align: right;\">-0.33041   </td><td style=\"text-align: right;\">-0.411314  </td><td style=\"text-align: right;\">0.386258 </td><td style=\"text-align: right;\"> 0.0091673 </td><td style=\"text-align: right;\"> 0.351293 </td><td style=\"text-align: right;\">-0.0698834</td><td style=\"text-align: right;\"> 0.195725 </td><td style=\"text-align: right;\">-0.0345578</td><td style=\"text-align: right;\"> 0.368962 </td><td style=\"text-align: right;\">-0.493933 </td><td style=\"text-align: right;\"> 0.37744  </td><td style=\"text-align: right;\">-0.296211</td><td style=\"text-align: right;\">-0.0498806</td><td style=\"text-align: right;\">-0.325452 </td><td style=\"text-align: right;\"> 0.222219  </td><td style=\"text-align: right;\">-0.476912 </td><td style=\"text-align: right;\">-0.0731025</td><td style=\"text-align: right;\">-0.0263375 </td><td style=\"text-align: right;\">-0.0625411</td><td style=\"text-align: right;\">-0.193495  </td><td style=\"text-align: right;\"> 0.168333 </td><td style=\"text-align: right;\">-0.45434  </td><td style=\"text-align: right;\"> 0.120234  </td><td style=\"text-align: right;\">-0.109177  </td><td style=\"text-align: right;\"> 0.0484769 </td><td style=\"text-align: right;\">-0.286834  </td><td style=\"text-align: right;\"> 0.467127</td><td style=\"text-align: right;\">-0.181053 </td><td style=\"text-align: right;\">-0.185639  </td><td style=\"text-align: right;\">-0.338195 </td><td style=\"text-align: right;\">-0.316831  </td><td style=\"text-align: right;\">-0.133778 </td><td style=\"text-align: right;\"> 0.0758232  </td><td style=\"text-align: right;\"> 0.0459209</td><td style=\"text-align: right;\"> 0.170173 </td><td style=\"text-align: right;\"> 0.0977676</td><td style=\"text-align: right;\">-0.0955015</td><td style=\"text-align: right;\"> 0.013061 </td><td style=\"text-align: right;\">-0.272649 </td><td style=\"text-align: right;\"> 0.346495 </td><td style=\"text-align: right;\"> 0.328649 </td><td style=\"text-align: right;\">-0.124567  </td><td style=\"text-align: right;\"> 0.058152 </td><td style=\"text-align: right;\">-0.0825174 </td><td style=\"text-align: right;\">-0.219863 </td><td style=\"text-align: right;\">-0.173108</td><td style=\"text-align: right;\"> 0.355427 </td><td style=\"text-align: right;\">-0.166394  </td><td style=\"text-align: right;\">-0.287709 </td><td style=\"text-align: right;\"> 0.227129  </td><td style=\"text-align: right;\"> 0.0587061</td><td style=\"text-align: right;\"> 0.0732987</td><td style=\"text-align: right;\">-0.255038 </td><td style=\"text-align: right;\"> 0.010996  </td><td style=\"text-align: right;\"> 0.394454 </td><td style=\"text-align: right;\"> 0.318626 </td><td style=\"text-align: right;\">-0.223094 </td><td style=\"text-align: right;\"> 0.141483 </td><td style=\"text-align: right;\"> 0.407022  </td><td style=\"text-align: right;\">-0.463898 </td><td style=\"text-align: right;\">-0.139017 </td><td style=\"text-align: right;\">-0.0616978</td><td style=\"text-align: right;\">-0.0451878</td><td style=\"text-align: right;\">-0.0591835</td></tr>\n",
              "<tr><td>2nd     </td><td style=\"text-align: right;\">-0.0506222</td><td style=\"text-align: right;\">-0.134821 </td><td style=\"text-align: right;\"> 0.58113  </td><td style=\"text-align: right;\">-0.0965655</td><td style=\"text-align: right;\"> 0.313648 </td><td style=\"text-align: right;\">-0.311234  </td><td style=\"text-align: right;\">-0.324864 </td><td style=\"text-align: right;\">-0.0969331</td><td style=\"text-align: right;\"> 0.0731583</td><td style=\"text-align: right;\">-0.0116287</td><td style=\"text-align: right;\"> 0.105456 </td><td style=\"text-align: right;\"> 0.112077 </td><td style=\"text-align: right;\"> 0.406399  </td><td style=\"text-align: right;\"> 0.144717  </td><td style=\"text-align: right;\"> 0.0982833</td><td style=\"text-align: right;\">-0.313485 </td><td style=\"text-align: right;\"> 0.350948   </td><td style=\"text-align: right;\"> 0.210535 </td><td style=\"text-align: right;\"> 0.0968623 </td><td style=\"text-align: right;\">-0.0952014</td><td style=\"text-align: right;\">-0.257161 </td><td style=\"text-align: right;\"> 0.279056 </td><td style=\"text-align: right;\"> 0.145866 </td><td style=\"text-align: right;\">-0.189442 </td><td style=\"text-align: right;\"> 0.398316  </td><td style=\"text-align: right;\"> 0.131903 </td><td style=\"text-align: right;\"> 0.139701 </td><td style=\"text-align: right;\">-0.162556 </td><td style=\"text-align: right;\">-0.137838 </td><td style=\"text-align: right;\"> 0.236844 </td><td style=\"text-align: right;\">-0.250151 </td><td style=\"text-align: right;\">-0.0908479</td><td style=\"text-align: right;\">-0.00739848</td><td style=\"text-align: right;\"> 0.0119959</td><td style=\"text-align: right;\"> 0.0592785</td><td style=\"text-align: right;\"> 0.0928751</td><td style=\"text-align: right;\"> 0.0110699 </td><td style=\"text-align: right;\">-0.0973976 </td><td style=\"text-align: right;\">0.268511 </td><td style=\"text-align: right;\">-0.142364  </td><td style=\"text-align: right;\">-0.228831 </td><td style=\"text-align: right;\"> 0.0672776</td><td style=\"text-align: right;\">-0.224709 </td><td style=\"text-align: right;\"> 0.369001 </td><td style=\"text-align: right;\"> 0.27736  </td><td style=\"text-align: right;\">-0.0719345</td><td style=\"text-align: right;\">-0.192535 </td><td style=\"text-align: right;\">-0.172817</td><td style=\"text-align: right;\"> 0.0262648</td><td style=\"text-align: right;\"> 0.211042 </td><td style=\"text-align: right;\">-0.0782831 </td><td style=\"text-align: right;\">-0.212154 </td><td style=\"text-align: right;\">-0.0194476</td><td style=\"text-align: right;\"> 0.183186  </td><td style=\"text-align: right;\">-0.423884 </td><td style=\"text-align: right;\"> 0.0488504 </td><td style=\"text-align: right;\">-0.259117 </td><td style=\"text-align: right;\"> 0.0470666</td><td style=\"text-align: right;\">-0.0723401 </td><td style=\"text-align: right;\"> 0.122716  </td><td style=\"text-align: right;\">-0.0709915 </td><td style=\"text-align: right;\">-0.0987464 </td><td style=\"text-align: right;\"> 0.306295</td><td style=\"text-align: right;\"> 0.210522 </td><td style=\"text-align: right;\"> 0.00716018</td><td style=\"text-align: right;\"> 0.143806 </td><td style=\"text-align: right;\"> 0.00206528</td><td style=\"text-align: right;\"> 0.0137722</td><td style=\"text-align: right;\"> 0.000795509</td><td style=\"text-align: right;\"> 0.109233 </td><td style=\"text-align: right;\">-0.410634 </td><td style=\"text-align: right;\">-0.0866756</td><td style=\"text-align: right;\">-0.0883183</td><td style=\"text-align: right;\"> 0.0730819</td><td style=\"text-align: right;\">-0.0227895</td><td style=\"text-align: right;\"> 0.389296 </td><td style=\"text-align: right;\">-0.108388 </td><td style=\"text-align: right;\">-0.00235615</td><td style=\"text-align: right;\">-0.183417 </td><td style=\"text-align: right;\"> 0.294162  </td><td style=\"text-align: right;\"> 0.170942 </td><td style=\"text-align: right;\"> 0.130574</td><td style=\"text-align: right;\">-0.0464308</td><td style=\"text-align: right;\">-0.137872  </td><td style=\"text-align: right;\">-0.083196 </td><td style=\"text-align: right;\">-0.123023  </td><td style=\"text-align: right;\">-0.498705 </td><td style=\"text-align: right;\"> 0.307275 </td><td style=\"text-align: right;\">-0.161319 </td><td style=\"text-align: right;\"> 0.0773376 </td><td style=\"text-align: right;\"> 0.070756 </td><td style=\"text-align: right;\"> 0.0334161</td><td style=\"text-align: right;\">-0.139363 </td><td style=\"text-align: right;\"> 0.010879 </td><td style=\"text-align: right;\"> 0.0499378 </td><td style=\"text-align: right;\"> 0.227903 </td><td style=\"text-align: right;\">-0.289914 </td><td style=\"text-align: right;\">-0.129883 </td><td style=\"text-align: right;\">-0.256133 </td><td style=\"text-align: right;\">-0.118199 </td></tr>\n",
              "<tr><td>30      </td><td style=\"text-align: right;\"> 0.112211 </td><td style=\"text-align: right;\">-0.139217 </td><td style=\"text-align: right;\"> 0.43147  </td><td style=\"text-align: right;\">-0.355423 </td><td style=\"text-align: right;\"> 0.309944 </td><td style=\"text-align: right;\">-0.543741  </td><td style=\"text-align: right;\"> 0.0584402</td><td style=\"text-align: right;\">-0.177095 </td><td style=\"text-align: right;\">-0.310409 </td><td style=\"text-align: right;\"> 0.19938  </td><td style=\"text-align: right;\"> 0.296495 </td><td style=\"text-align: right;\"> 0.133008 </td><td style=\"text-align: right;\">-0.166796  </td><td style=\"text-align: right;\">-0.194375  </td><td style=\"text-align: right;\"> 0.230925 </td><td style=\"text-align: right;\">-0.548111 </td><td style=\"text-align: right;\"> 0.000371989</td><td style=\"text-align: right;\"> 0.0876756</td><td style=\"text-align: right;\">-0.061294  </td><td style=\"text-align: right;\">-0.212111 </td><td style=\"text-align: right;\"> 0.150533 </td><td style=\"text-align: right;\"> 0.0757142</td><td style=\"text-align: right;\"> 0.100325 </td><td style=\"text-align: right;\"> 0.0238742</td><td style=\"text-align: right;\">-0.0313247 </td><td style=\"text-align: right;\">-0.131487 </td><td style=\"text-align: right;\"> 0.175814 </td><td style=\"text-align: right;\"> 0.161427 </td><td style=\"text-align: right;\">-0.110553 </td><td style=\"text-align: right;\"> 0.137594 </td><td style=\"text-align: right;\">-0.0735913</td><td style=\"text-align: right;\">-0.0452394</td><td style=\"text-align: right;\"> 0.103215  </td><td style=\"text-align: right;\">-0.0515666</td><td style=\"text-align: right;\"> 0.0209299</td><td style=\"text-align: right;\">-0.0918835</td><td style=\"text-align: right;\">-0.00407546</td><td style=\"text-align: right;\">-0.37663   </td><td style=\"text-align: right;\">0.0674121</td><td style=\"text-align: right;\"> 0.0860837 </td><td style=\"text-align: right;\"> 0.181749 </td><td style=\"text-align: right;\"> 0.0859876</td><td style=\"text-align: right;\">-0.0961958</td><td style=\"text-align: right;\">-0.0234868</td><td style=\"text-align: right;\"> 0.217639 </td><td style=\"text-align: right;\"> 0.063955 </td><td style=\"text-align: right;\">-0.26935  </td><td style=\"text-align: right;\">-0.513182</td><td style=\"text-align: right;\">-0.0575478</td><td style=\"text-align: right;\">-0.267092 </td><td style=\"text-align: right;\"> 0.321182  </td><td style=\"text-align: right;\">-0.0504236</td><td style=\"text-align: right;\">-0.0765785</td><td style=\"text-align: right;\"> 0.133876  </td><td style=\"text-align: right;\"> 0.13744  </td><td style=\"text-align: right;\">-0.132034  </td><td style=\"text-align: right;\">-0.289184 </td><td style=\"text-align: right;\">-0.315272 </td><td style=\"text-align: right;\">-0.159768  </td><td style=\"text-align: right;\">-0.284513  </td><td style=\"text-align: right;\">-0.0689845 </td><td style=\"text-align: right;\"> 0.0598554 </td><td style=\"text-align: right;\"> 0.272344</td><td style=\"text-align: right;\">-0.117456 </td><td style=\"text-align: right;\">-0.341997  </td><td style=\"text-align: right;\">-0.129847 </td><td style=\"text-align: right;\">-0.021978  </td><td style=\"text-align: right;\">-0.279934 </td><td style=\"text-align: right;\"> 0.221307   </td><td style=\"text-align: right;\"> 0.181312 </td><td style=\"text-align: right;\"> 0.276552 </td><td style=\"text-align: right;\">-0.0259654</td><td style=\"text-align: right;\"> 0.0660718</td><td style=\"text-align: right;\"> 0.257861 </td><td style=\"text-align: right;\">-0.429218 </td><td style=\"text-align: right;\"> 0.084083 </td><td style=\"text-align: right;\"> 0.10118  </td><td style=\"text-align: right;\"> 0.162392  </td><td style=\"text-align: right;\">-0.308275 </td><td style=\"text-align: right;\"> 0.0221888 </td><td style=\"text-align: right;\">-0.659497 </td><td style=\"text-align: right;\">-0.105567</td><td style=\"text-align: right;\"> 0.122131 </td><td style=\"text-align: right;\">-0.143581  </td><td style=\"text-align: right;\">-0.242162 </td><td style=\"text-align: right;\"> 0.428717  </td><td style=\"text-align: right;\"> 0.150032 </td><td style=\"text-align: right;\"> 0.248565 </td><td style=\"text-align: right;\"> 0.17902  </td><td style=\"text-align: right;\">-0.149021  </td><td style=\"text-align: right;\"> 0.0199546</td><td style=\"text-align: right;\"> 0.207997 </td><td style=\"text-align: right;\"> 0.324583 </td><td style=\"text-align: right;\">-0.0536429</td><td style=\"text-align: right;\"> 0.156585  </td><td style=\"text-align: right;\">-0.0430453</td><td style=\"text-align: right;\">-0.134519 </td><td style=\"text-align: right;\"> 0.0686088</td><td style=\"text-align: right;\"> 0.0414829</td><td style=\"text-align: right;\">-0.0551537</td></tr>\n",
              "<tr><td>32      </td><td style=\"text-align: right;\">-0.223164 </td><td style=\"text-align: right;\"> 0.0046862</td><td style=\"text-align: right;\"> 0.3142   </td><td style=\"text-align: right;\"> 0.0665788</td><td style=\"text-align: right;\">-0.156486 </td><td style=\"text-align: right;\">-0.259128  </td><td style=\"text-align: right;\">-0.0878467</td><td style=\"text-align: right;\"> 0.0540438</td><td style=\"text-align: right;\">-0.553784 </td><td style=\"text-align: right;\">-0.221086 </td><td style=\"text-align: right;\"> 0.169099 </td><td style=\"text-align: right;\"> 0.0705952</td><td style=\"text-align: right;\">-0.00636219</td><td style=\"text-align: right;\">-0.0386438 </td><td style=\"text-align: right;\"> 0.215    </td><td style=\"text-align: right;\"> 0.0392604</td><td style=\"text-align: right;\"> 0.140534   </td><td style=\"text-align: right;\">-0.0770545</td><td style=\"text-align: right;\">-0.134318  </td><td style=\"text-align: right;\">-0.232326 </td><td style=\"text-align: right;\">-0.329017 </td><td style=\"text-align: right;\">-0.365766 </td><td style=\"text-align: right;\"> 0.339996 </td><td style=\"text-align: right;\"> 0.319781 </td><td style=\"text-align: right;\"> 0.0615194 </td><td style=\"text-align: right;\">-0.0605588</td><td style=\"text-align: right;\">-0.052539 </td><td style=\"text-align: right;\">-0.0188013</td><td style=\"text-align: right;\">-0.427864 </td><td style=\"text-align: right;\"> 0.509    </td><td style=\"text-align: right;\"> 0.133363 </td><td style=\"text-align: right;\">-0.0162828</td><td style=\"text-align: right;\"> 0.036096  </td><td style=\"text-align: right;\">-0.0672538</td><td style=\"text-align: right;\"> 0.140627 </td><td style=\"text-align: right;\"> 0.210397 </td><td style=\"text-align: right;\">-0.527511  </td><td style=\"text-align: right;\">-0.00116463</td><td style=\"text-align: right;\">0.168266 </td><td style=\"text-align: right;\">-0.17488   </td><td style=\"text-align: right;\">-0.391332 </td><td style=\"text-align: right;\"> 0.32654  </td><td style=\"text-align: right;\"> 0.350072 </td><td style=\"text-align: right;\">-0.0852304</td><td style=\"text-align: right;\"> 0.376339 </td><td style=\"text-align: right;\">-0.459333 </td><td style=\"text-align: right;\">-0.0991389</td><td style=\"text-align: right;\">-0.526767</td><td style=\"text-align: right;\">-0.135228 </td><td style=\"text-align: right;\">-0.512179 </td><td style=\"text-align: right;\">-0.118455  </td><td style=\"text-align: right;\">-0.293764 </td><td style=\"text-align: right;\">-0.0101101</td><td style=\"text-align: right;\"> 0.251759  </td><td style=\"text-align: right;\"> 0.318107 </td><td style=\"text-align: right;\">-0.328827  </td><td style=\"text-align: right;\">-0.243285 </td><td style=\"text-align: right;\">-0.139504 </td><td style=\"text-align: right;\"> 0.323167  </td><td style=\"text-align: right;\"> 0.0119819 </td><td style=\"text-align: right;\"> 0.0688684 </td><td style=\"text-align: right;\"> 0.0652039 </td><td style=\"text-align: right;\"> 0.436839</td><td style=\"text-align: right;\">-0.153439 </td><td style=\"text-align: right;\">-0.441225  </td><td style=\"text-align: right;\"> 0.102938 </td><td style=\"text-align: right;\"> 0.0733502 </td><td style=\"text-align: right;\"> 0.135014 </td><td style=\"text-align: right;\"> 0.126893   </td><td style=\"text-align: right;\">-0.0879757</td><td style=\"text-align: right;\">-0.180365 </td><td style=\"text-align: right;\">-0.107    </td><td style=\"text-align: right;\">-0.0915641</td><td style=\"text-align: right;\"> 0.329395 </td><td style=\"text-align: right;\">-0.162246 </td><td style=\"text-align: right;\"> 0.017191 </td><td style=\"text-align: right;\">-0.283238 </td><td style=\"text-align: right;\"> 0.132012  </td><td style=\"text-align: right;\">-0.276863 </td><td style=\"text-align: right;\"> 0.00348921</td><td style=\"text-align: right;\">-0.109444 </td><td style=\"text-align: right;\">-0.514216</td><td style=\"text-align: right;\"> 0.463757 </td><td style=\"text-align: right;\">-0.192373  </td><td style=\"text-align: right;\">-0.18433  </td><td style=\"text-align: right;\"> 0.0919363 </td><td style=\"text-align: right;\"> 0.202207 </td><td style=\"text-align: right;\"> 0.124599 </td><td style=\"text-align: right;\">-0.367349 </td><td style=\"text-align: right;\"> 0.104675  </td><td style=\"text-align: right;\">-0.0661213</td><td style=\"text-align: right;\"> 0.0677861</td><td style=\"text-align: right;\"> 0.194933 </td><td style=\"text-align: right;\">-0.284252 </td><td style=\"text-align: right;\">-0.0579224 </td><td style=\"text-align: right;\"> 0.0973476</td><td style=\"text-align: right;\">-0.0127808</td><td style=\"text-align: right;\"> 0.191471 </td><td style=\"text-align: right;\"> 0.339162 </td><td style=\"text-align: right;\"> 0.13424  </td></tr>\n",
              "<tr><td>35      </td><td style=\"text-align: right;\"> 0.110393 </td><td style=\"text-align: right;\">-0.0893256</td><td style=\"text-align: right;\"> 0.242194 </td><td style=\"text-align: right;\"> 0.010561 </td><td style=\"text-align: right;\">-0.0687018</td><td style=\"text-align: right;\">-0.373113  </td><td style=\"text-align: right;\"> 0.102584 </td><td style=\"text-align: right;\">-0.0516643</td><td style=\"text-align: right;\">-0.617809 </td><td style=\"text-align: right;\"> 0.26098  </td><td style=\"text-align: right;\"> 0.144881 </td><td style=\"text-align: right;\">-0.159058 </td><td style=\"text-align: right;\"> 0.247856  </td><td style=\"text-align: right;\">-0.127464  </td><td style=\"text-align: right;\"> 0.260306 </td><td style=\"text-align: right;\">-0.0351659</td><td style=\"text-align: right;\"> 0.0465406  </td><td style=\"text-align: right;\">-0.0695008</td><td style=\"text-align: right;\">-0.233375  </td><td style=\"text-align: right;\">-0.247403 </td><td style=\"text-align: right;\"> 0.0696382</td><td style=\"text-align: right;\">-0.156654 </td><td style=\"text-align: right;\"> 0.291524 </td><td style=\"text-align: right;\"> 0.197987 </td><td style=\"text-align: right;\">-0.00114267</td><td style=\"text-align: right;\">-0.18147  </td><td style=\"text-align: right;\"> 0.22453  </td><td style=\"text-align: right;\">-0.135453 </td><td style=\"text-align: right;\">-0.349511 </td><td style=\"text-align: right;\"> 0.306893 </td><td style=\"text-align: right;\"> 0.143536 </td><td style=\"text-align: right;\">-0.263258 </td><td style=\"text-align: right;\">-0.0127653 </td><td style=\"text-align: right;\"> 0.0892166</td><td style=\"text-align: right;\">-0.224911 </td><td style=\"text-align: right;\">-0.187038 </td><td style=\"text-align: right;\">-0.00485956</td><td style=\"text-align: right;\">-0.0999302 </td><td style=\"text-align: right;\">0.25531  </td><td style=\"text-align: right;\">-0.292415  </td><td style=\"text-align: right;\"> 0.0604498</td><td style=\"text-align: right;\"> 0.239837 </td><td style=\"text-align: right;\"> 0.183446 </td><td style=\"text-align: right;\">-0.243605 </td><td style=\"text-align: right;\"> 0.395863 </td><td style=\"text-align: right;\">-0.138734 </td><td style=\"text-align: right;\">-0.173799 </td><td style=\"text-align: right;\">-0.613942</td><td style=\"text-align: right;\">-0.265114 </td><td style=\"text-align: right;\">-0.168219 </td><td style=\"text-align: right;\">-0.225689  </td><td style=\"text-align: right;\"> 0.110535 </td><td style=\"text-align: right;\">-0.051733 </td><td style=\"text-align: right;\"> 0.225622  </td><td style=\"text-align: right;\"> 0.309746 </td><td style=\"text-align: right;\">-0.180651  </td><td style=\"text-align: right;\">-0.132714 </td><td style=\"text-align: right;\">-0.243782 </td><td style=\"text-align: right;\"> 0.0390508 </td><td style=\"text-align: right;\">-0.10049   </td><td style=\"text-align: right;\"> 0.00239838</td><td style=\"text-align: right;\"> 0.0252815 </td><td style=\"text-align: right;\"> 0.438256</td><td style=\"text-align: right;\"> 0.0251404</td><td style=\"text-align: right;\">-0.328849  </td><td style=\"text-align: right;\"> 0.0410651</td><td style=\"text-align: right;\">-0.0103931 </td><td style=\"text-align: right;\">-0.369532 </td><td style=\"text-align: right;\"> 0.143374   </td><td style=\"text-align: right;\"> 0.0812368</td><td style=\"text-align: right;\"> 0.0612984</td><td style=\"text-align: right;\">-0.244902 </td><td style=\"text-align: right;\">-0.0602987</td><td style=\"text-align: right;\">-0.0285992</td><td style=\"text-align: right;\">-0.364004 </td><td style=\"text-align: right;\"> 0.0794917</td><td style=\"text-align: right;\"> 0.0541884</td><td style=\"text-align: right;\">-0.166652  </td><td style=\"text-align: right;\">-0.257259 </td><td style=\"text-align: right;\">-0.0328934 </td><td style=\"text-align: right;\">-0.344515 </td><td style=\"text-align: right;\">-0.218837</td><td style=\"text-align: right;\"> 0.152908 </td><td style=\"text-align: right;\">-0.00491869</td><td style=\"text-align: right;\">-0.289101 </td><td style=\"text-align: right;\"> 0.268038  </td><td style=\"text-align: right;\"> 0.130123 </td><td style=\"text-align: right;\">-0.0222809</td><td style=\"text-align: right;\">-0.0698844</td><td style=\"text-align: right;\"> 0.0484492 </td><td style=\"text-align: right;\"> 0.213105 </td><td style=\"text-align: right;\"> 0.028243 </td><td style=\"text-align: right;\"> 0.0306803</td><td style=\"text-align: right;\">-0.10655  </td><td style=\"text-align: right;\">-0.0743844 </td><td style=\"text-align: right;\"> 0.0910196</td><td style=\"text-align: right;\">-0.290857 </td><td style=\"text-align: right;\"> 0.300283 </td><td style=\"text-align: right;\">-0.28689  </td><td style=\"text-align: right;\">-0.0679457</td></tr>\n",
              "<tr><td>3rd     </td><td style=\"text-align: right;\"> 0.0256227</td><td style=\"text-align: right;\">-0.157453 </td><td style=\"text-align: right;\"> 0.578925 </td><td style=\"text-align: right;\">-0.0590149</td><td style=\"text-align: right;\"> 0.418577 </td><td style=\"text-align: right;\">-0.464315  </td><td style=\"text-align: right;\">-0.223418 </td><td style=\"text-align: right;\">-0.168322 </td><td style=\"text-align: right;\"> 0.380236 </td><td style=\"text-align: right;\"> 0.0315602</td><td style=\"text-align: right;\"> 0.295512 </td><td style=\"text-align: right;\"> 0.107897 </td><td style=\"text-align: right;\"> 0.372702  </td><td style=\"text-align: right;\"> 0.203162  </td><td style=\"text-align: right;\">-0.116836 </td><td style=\"text-align: right;\">-0.113145 </td><td style=\"text-align: right;\"> 0.402308   </td><td style=\"text-align: right;\"> 0.111067 </td><td style=\"text-align: right;\"> 0.16711   </td><td style=\"text-align: right;\">-0.0398238</td><td style=\"text-align: right;\">-0.289412 </td><td style=\"text-align: right;\"> 0.166259 </td><td style=\"text-align: right;\"> 0.352802 </td><td style=\"text-align: right;\">-0.0736302</td><td style=\"text-align: right;\"> 0.0729774 </td><td style=\"text-align: right;\"> 0.102211 </td><td style=\"text-align: right;\">-0.12768  </td><td style=\"text-align: right;\">-0.0648606</td><td style=\"text-align: right;\">-0.0477746</td><td style=\"text-align: right;\"> 0.298927 </td><td style=\"text-align: right;\">-0.121884 </td><td style=\"text-align: right;\">-0.024377 </td><td style=\"text-align: right;\">-0.402575  </td><td style=\"text-align: right;\">-0.0136617</td><td style=\"text-align: right;\"> 0.134392 </td><td style=\"text-align: right;\">-0.0787755</td><td style=\"text-align: right;\"> 0.114376  </td><td style=\"text-align: right;\">-0.0997674 </td><td style=\"text-align: right;\">0.289408 </td><td style=\"text-align: right;\">-0.164685  </td><td style=\"text-align: right;\"> 0.162775 </td><td style=\"text-align: right;\"> 0.0568441</td><td style=\"text-align: right;\">-0.0796976</td><td style=\"text-align: right;\"> 0.134644 </td><td style=\"text-align: right;\"> 0.0813551</td><td style=\"text-align: right;\"> 0.142632 </td><td style=\"text-align: right;\">-0.198469 </td><td style=\"text-align: right;\">-0.197482</td><td style=\"text-align: right;\"> 0.111903 </td><td style=\"text-align: right;\">-0.189156 </td><td style=\"text-align: right;\">-0.00260489</td><td style=\"text-align: right;\">-0.0419455</td><td style=\"text-align: right;\"> 0.0665153</td><td style=\"text-align: right;\"> 0.0500706 </td><td style=\"text-align: right;\">-0.149124 </td><td style=\"text-align: right;\">-0.00895296</td><td style=\"text-align: right;\">-0.415533 </td><td style=\"text-align: right;\"> 0.221579 </td><td style=\"text-align: right;\">-0.174923  </td><td style=\"text-align: right;\"> 0.0106219 </td><td style=\"text-align: right;\"> 0.00229893</td><td style=\"text-align: right;\"> 0.00301344</td><td style=\"text-align: right;\"> 0.355311</td><td style=\"text-align: right;\">-0.0507404</td><td style=\"text-align: right;\">-0.169288  </td><td style=\"text-align: right;\"> 0.570373 </td><td style=\"text-align: right;\">-0.0271107 </td><td style=\"text-align: right;\"> 0.086894 </td><td style=\"text-align: right;\">-0.0804996  </td><td style=\"text-align: right;\">-0.139946 </td><td style=\"text-align: right;\">-0.356052 </td><td style=\"text-align: right;\">-0.393968 </td><td style=\"text-align: right;\"> 0.0389726</td><td style=\"text-align: right;\"> 0.0310205</td><td style=\"text-align: right;\">-0.169215 </td><td style=\"text-align: right;\"> 0.0267793</td><td style=\"text-align: right;\"> 0.128434 </td><td style=\"text-align: right;\">-0.0581919 </td><td style=\"text-align: right;\">-0.365808 </td><td style=\"text-align: right;\"> 0.546469  </td><td style=\"text-align: right;\"> 0.0421927</td><td style=\"text-align: right;\"> 0.216217</td><td style=\"text-align: right;\">-0.13771  </td><td style=\"text-align: right;\">-0.263387  </td><td style=\"text-align: right;\">-0.324519 </td><td style=\"text-align: right;\">-0.0800703 </td><td style=\"text-align: right;\">-0.475218 </td><td style=\"text-align: right;\"> 0.0407576</td><td style=\"text-align: right;\">-0.249437 </td><td style=\"text-align: right;\"> 0.0515192 </td><td style=\"text-align: right;\"> 0.0346886</td><td style=\"text-align: right;\">-0.012179 </td><td style=\"text-align: right;\"> 0.153459 </td><td style=\"text-align: right;\"> 0.0402985</td><td style=\"text-align: right;\"> 0.176536  </td><td style=\"text-align: right;\"> 0.212833 </td><td style=\"text-align: right;\">-0.0863997</td><td style=\"text-align: right;\">-0.197852 </td><td style=\"text-align: right;\">-0.0871055</td><td style=\"text-align: right;\">-0.133194 </td></tr>\n",
              "<tr><td>7000    </td><td style=\"text-align: right;\">-0.460452 </td><td style=\"text-align: right;\"> 0.0289765</td><td style=\"text-align: right;\"> 0.0501242</td><td style=\"text-align: right;\"> 0.189056 </td><td style=\"text-align: right;\"> 0.067382 </td><td style=\"text-align: right;\">-0.00460714</td><td style=\"text-align: right;\">-0.0147581</td><td style=\"text-align: right;\"> 0.28053  </td><td style=\"text-align: right;\"> 0.279265 </td><td style=\"text-align: right;\">-0.0794888</td><td style=\"text-align: right;\">-0.0751729</td><td style=\"text-align: right;\"> 0.148407 </td><td style=\"text-align: right;\">-0.195699  </td><td style=\"text-align: right;\"> 0.392696  </td><td style=\"text-align: right;\">-0.179065 </td><td style=\"text-align: right;\">-0.449086 </td><td style=\"text-align: right;\"> 0.0952831  </td><td style=\"text-align: right;\">-0.476748 </td><td style=\"text-align: right;\">-0.275028  </td><td style=\"text-align: right;\">-0.45428  </td><td style=\"text-align: right;\">-0.178897 </td><td style=\"text-align: right;\">-0.0080634</td><td style=\"text-align: right;\"> 0.287985 </td><td style=\"text-align: right;\"> 0.231419 </td><td style=\"text-align: right;\">-0.307921  </td><td style=\"text-align: right;\">-0.0331243</td><td style=\"text-align: right;\">-0.295688 </td><td style=\"text-align: right;\"> 0.066326 </td><td style=\"text-align: right;\"> 0.0686327</td><td style=\"text-align: right;\">-0.0425289</td><td style=\"text-align: right;\"> 0.270756 </td><td style=\"text-align: right;\">-0.313556 </td><td style=\"text-align: right;\">-0.0768666 </td><td style=\"text-align: right;\">-0.365052 </td><td style=\"text-align: right;\"> 0.190396 </td><td style=\"text-align: right;\">-0.289628 </td><td style=\"text-align: right;\"> 0.870726  </td><td style=\"text-align: right;\"> 0.0687832 </td><td style=\"text-align: right;\">0.17224  </td><td style=\"text-align: right;\">-0.329428  </td><td style=\"text-align: right;\"> 0.130129 </td><td style=\"text-align: right;\">-0.10361  </td><td style=\"text-align: right;\">-0.290926 </td><td style=\"text-align: right;\">-0.179135 </td><td style=\"text-align: right;\">-0.23412  </td><td style=\"text-align: right;\"> 0.0854323</td><td style=\"text-align: right;\">-0.352076 </td><td style=\"text-align: right;\">-0.232929</td><td style=\"text-align: right;\">-0.497511 </td><td style=\"text-align: right;\"> 0.0689797</td><td style=\"text-align: right;\"> 0.125274  </td><td style=\"text-align: right;\">-0.480763 </td><td style=\"text-align: right;\">-0.04356  </td><td style=\"text-align: right;\"> 0.183749  </td><td style=\"text-align: right;\">-0.186345 </td><td style=\"text-align: right;\"> 0.291983  </td><td style=\"text-align: right;\">-0.0212684</td><td style=\"text-align: right;\"> 0.0955492</td><td style=\"text-align: right;\"> 0.033587  </td><td style=\"text-align: right;\"> 0.0291351 </td><td style=\"text-align: right;\">-0.102905  </td><td style=\"text-align: right;\"> 0.647724  </td><td style=\"text-align: right;\"> 0.675531</td><td style=\"text-align: right;\"> 0.0648168</td><td style=\"text-align: right;\">-0.0253221 </td><td style=\"text-align: right;\">-0.250605 </td><td style=\"text-align: right;\"> 0.288007  </td><td style=\"text-align: right;\"> 0.239188 </td><td style=\"text-align: right;\">-0.0641135  </td><td style=\"text-align: right;\"> 0.0414475</td><td style=\"text-align: right;\">-0.0550912</td><td style=\"text-align: right;\">-0.414057 </td><td style=\"text-align: right;\">-0.285103 </td><td style=\"text-align: right;\">-0.205884 </td><td style=\"text-align: right;\"> 0.147777 </td><td style=\"text-align: right;\">-0.0524885</td><td style=\"text-align: right;\"> 0.555622 </td><td style=\"text-align: right;\">-0.191098  </td><td style=\"text-align: right;\">-0.0463938</td><td style=\"text-align: right;\">-0.486802  </td><td style=\"text-align: right;\">-0.233613 </td><td style=\"text-align: right;\">-0.411624</td><td style=\"text-align: right;\">-0.428992 </td><td style=\"text-align: right;\"> 0.254388  </td><td style=\"text-align: right;\">-0.671017 </td><td style=\"text-align: right;\"> 0.0677666 </td><td style=\"text-align: right;\">-0.277045 </td><td style=\"text-align: right;\"> 0.552632 </td><td style=\"text-align: right;\">-0.894646 </td><td style=\"text-align: right;\">-0.441351  </td><td style=\"text-align: right;\">-0.37309  </td><td style=\"text-align: right;\"> 0.157486 </td><td style=\"text-align: right;\">-0.165962 </td><td style=\"text-align: right;\">-0.0933673</td><td style=\"text-align: right;\">-0.00678341</td><td style=\"text-align: right;\"> 0.121285 </td><td style=\"text-align: right;\"> 0.10866  </td><td style=\"text-align: right;\">-0.214841 </td><td style=\"text-align: right;\"> 0.49481  </td><td style=\"text-align: right;\"> 0.192105 </td></tr>\n",
              "<tr><td>absolute</td><td style=\"text-align: right;\">-0.125127 </td><td style=\"text-align: right;\">-0.0547784</td><td style=\"text-align: right;\">-0.170348 </td><td style=\"text-align: right;\"> 0.258421 </td><td style=\"text-align: right;\">-0.258635 </td><td style=\"text-align: right;\">-0.0543593 </td><td style=\"text-align: right;\"> 0.0916553</td><td style=\"text-align: right;\">-0.373809 </td><td style=\"text-align: right;\">-0.288172 </td><td style=\"text-align: right;\"> 0.387917 </td><td style=\"text-align: right;\"> 0.426828 </td><td style=\"text-align: right;\">-0.0599409</td><td style=\"text-align: right;\"> 0.203012  </td><td style=\"text-align: right;\"> 0.0667375 </td><td style=\"text-align: right;\">-0.18992  </td><td style=\"text-align: right;\">-0.0564125</td><td style=\"text-align: right;\">-0.51289    </td><td style=\"text-align: right;\"> 0.300566 </td><td style=\"text-align: right;\">-0.00266449</td><td style=\"text-align: right;\">-0.182466 </td><td style=\"text-align: right;\">-0.164114 </td><td style=\"text-align: right;\">-0.185266 </td><td style=\"text-align: right;\">-0.104888 </td><td style=\"text-align: right;\"> 0.137612 </td><td style=\"text-align: right;\">-0.244032  </td><td style=\"text-align: right;\"> 0.0562889</td><td style=\"text-align: right;\">-0.0441599</td><td style=\"text-align: right;\"> 0.241478 </td><td style=\"text-align: right;\">-0.273684 </td><td style=\"text-align: right;\"> 0.238699 </td><td style=\"text-align: right;\">-0.0262464</td><td style=\"text-align: right;\"> 0.242996 </td><td style=\"text-align: right;\"> 0.363414  </td><td style=\"text-align: right;\">-0.356966 </td><td style=\"text-align: right;\"> 0.0992919</td><td style=\"text-align: right;\"> 0.0869234</td><td style=\"text-align: right;\">-0.226239  </td><td style=\"text-align: right;\"> 0.255833  </td><td style=\"text-align: right;\">0.546089 </td><td style=\"text-align: right;\"> 0.00676451</td><td style=\"text-align: right;\">-0.280634 </td><td style=\"text-align: right;\">-0.130047 </td><td style=\"text-align: right;\">-0.120557 </td><td style=\"text-align: right;\">-0.0428994</td><td style=\"text-align: right;\">-0.116271 </td><td style=\"text-align: right;\">-0.418432 </td><td style=\"text-align: right;\"> 0.11196  </td><td style=\"text-align: right;\">-0.701569</td><td style=\"text-align: right;\">-0.132608 </td><td style=\"text-align: right;\">-0.0467078</td><td style=\"text-align: right;\"> 0.0566968 </td><td style=\"text-align: right;\"> 0.188648 </td><td style=\"text-align: right;\">-0.331737 </td><td style=\"text-align: right;\"> 0.289967  </td><td style=\"text-align: right;\">-0.263815 </td><td style=\"text-align: right;\"> 0.0780111 </td><td style=\"text-align: right;\">-0.078518 </td><td style=\"text-align: right;\">-0.224816 </td><td style=\"text-align: right;\"> 0.311903  </td><td style=\"text-align: right;\">-0.00575102</td><td style=\"text-align: right;\">-0.0369448 </td><td style=\"text-align: right;\">-0.037892  </td><td style=\"text-align: right;\">-0.287765</td><td style=\"text-align: right;\"> 0.0715952</td><td style=\"text-align: right;\">-0.139064  </td><td style=\"text-align: right;\"> 0.128514 </td><td style=\"text-align: right;\">-0.162928  </td><td style=\"text-align: right;\">-0.62586  </td><td style=\"text-align: right;\"> 0.00472028 </td><td style=\"text-align: right;\"> 0.214546 </td><td style=\"text-align: right;\">-0.117079 </td><td style=\"text-align: right;\">-0.325501 </td><td style=\"text-align: right;\">-0.0432345</td><td style=\"text-align: right;\">-0.11581  </td><td style=\"text-align: right;\">-0.0953678</td><td style=\"text-align: right;\">-0.0825225</td><td style=\"text-align: right;\">-0.195575 </td><td style=\"text-align: right;\">-0.0864226 </td><td style=\"text-align: right;\">-0.122334 </td><td style=\"text-align: right;\">-0.0557615 </td><td style=\"text-align: right;\"> 0.030468 </td><td style=\"text-align: right;\">-0.073748</td><td style=\"text-align: right;\">-0.0715074</td><td style=\"text-align: right;\">-0.143096  </td><td style=\"text-align: right;\">-0.109754 </td><td style=\"text-align: right;\"> 0.00113921</td><td style=\"text-align: right;\"> 0.0482809</td><td style=\"text-align: right;\"> 0.28734  </td><td style=\"text-align: right;\">-0.129013 </td><td style=\"text-align: right;\"> 0.144592  </td><td style=\"text-align: right;\"> 0.315499 </td><td style=\"text-align: right;\"> 0.403239 </td><td style=\"text-align: right;\">-0.196085 </td><td style=\"text-align: right;\"> 0.22064  </td><td style=\"text-align: right;\"> 0.170363  </td><td style=\"text-align: right;\"> 0.0994189</td><td style=\"text-align: right;\"> 0.122335 </td><td style=\"text-align: right;\">-0.249361 </td><td style=\"text-align: right;\">-0.305852 </td><td style=\"text-align: right;\"> 0.0391295</td></tr>\n",
              "</tbody>\n",
              "</table>"
            ]
          },
          "metadata": {
            "tags": []
          }
        },
        {
          "output_type": "execute_result",
          "data": {
            "text/plain": [
              ""
            ]
          },
          "metadata": {
            "tags": []
          },
          "execution_count": 34
        }
      ]
    },
    {
      "cell_type": "code",
      "metadata": {
        "id": "RV3dogZTCCEr",
        "colab": {
          "base_uri": "https://localhost:8080/",
          "height": 295
        },
        "outputId": "1301a235-d6ff-4cca-c33c-a4a53016a961"
      },
      "source": [
        "word_embeddings[\"C98\"].hist()"
      ],
      "execution_count": null,
      "outputs": [
        {
          "output_type": "display_data",
          "data": {
            "image/png": "[encoded data removed]",
            "text/plain": [
              "<Figure size 432x288 with 1 Axes>"
            ]
          },
          "metadata": {
            "tags": [],
            "needs_background": "light"
          }
        }
      ]
    },
    {
      "cell_type": "code",
      "metadata": {
        "id": "T6IdbvhICK4_",
        "colab": {
          "base_uri": "https://localhost:8080/",
          "height": 355
        },
        "outputId": "54cec9fb-7449-491c-c0c1-bb09cb2db91b"
      },
      "source": [
        "low_c98_words = word_embeddings[word_embeddings[\"C98\"] < -.2]\n",
        "low_c98_words[[\"Word\", \"C98\"]].head(15)"
      ],
      "execution_count": null,
      "outputs": [
        {
          "output_type": "display_data",
          "data": {
            "text/html": [
              "<table>\n",
              "<thead>\n",
              "<tr><th>Word     </th><th style=\"text-align: right;\">      C98</th></tr>\n",
              "</thead>\n",
              "<tbody>\n",
              "<tr><td>7000     </td><td style=\"text-align: right;\">-0.214841</td></tr>\n",
              "<tr><td>absolute </td><td style=\"text-align: right;\">-0.249361</td></tr>\n",
              "<tr><td>accurate </td><td style=\"text-align: right;\">-0.27566 </td></tr>\n",
              "<tr><td>amazing  </td><td style=\"text-align: right;\">-0.220155</td></tr>\n",
              "<tr><td>arm      </td><td style=\"text-align: right;\">-0.284592</td></tr>\n",
              "<tr><td>arthritis</td><td style=\"text-align: right;\">-0.486511</td></tr>\n",
              "<tr><td>awesome  </td><td style=\"text-align: right;\">-0.267042</td></tr>\n",
              "<tr><td>balm     </td><td style=\"text-align: right;\">-0.276012</td></tr>\n",
              "<tr><td>bayer    </td><td style=\"text-align: right;\">-0.320179</td></tr>\n",
              "<tr><td>bigger   </td><td style=\"text-align: right;\">-0.456172</td></tr>\n",
              "<tr><td>built    </td><td style=\"text-align: right;\">-0.232074</td></tr>\n",
              "<tr><td>callus   </td><td style=\"text-align: right;\">-0.342465</td></tr>\n",
              "<tr><td>care     </td><td style=\"text-align: right;\">-0.544313</td></tr>\n",
              "<tr><td>certain  </td><td style=\"text-align: right;\">-0.307353</td></tr>\n",
              "<tr><td>compact  </td><td style=\"text-align: right;\">-0.280518</td></tr>\n",
              "</tbody>\n",
              "</table>"
            ]
          },
          "metadata": {
            "tags": []
          }
        },
        {
          "output_type": "execute_result",
          "data": {
            "text/plain": [
              ""
            ]
          },
          "metadata": {
            "tags": []
          },
          "execution_count": 36
        }
      ]
    },
    {
      "cell_type": "code",
      "metadata": {
        "id": "I5UYvB0KOjET",
        "colab": {
          "base_uri": "https://localhost:8080/",
          "height": 355
        },
        "outputId": "ab4dc483-b262-41f9-bca7-aa7925b91d34"
      },
      "source": [
        "high_c98_words = word_embeddings[word_embeddings[\"C98\"] > 0.2]\n",
        "high_c98_words[[\"Word\", \"C98\"]].head(15)"
      ],
      "execution_count": null,
      "outputs": [
        {
          "output_type": "display_data",
          "data": {
            "text/html": [
              "<table>\n",
              "<thead>\n",
              "<tr><th>Word       </th><th style=\"text-align: right;\">     C98</th></tr>\n",
              "</thead>\n",
              "<tbody>\n",
              "<tr><td>35         </td><td style=\"text-align: right;\">0.300283</td></tr>\n",
              "<tr><td>adjustable </td><td style=\"text-align: right;\">0.348073</td></tr>\n",
              "<tr><td>aftershave </td><td style=\"text-align: right;\">0.258376</td></tr>\n",
              "<tr><td>aware      </td><td style=\"text-align: right;\">0.308144</td></tr>\n",
              "<tr><td>basket     </td><td style=\"text-align: right;\">0.301728</td></tr>\n",
              "<tr><td>beards     </td><td style=\"text-align: right;\">0.395413</td></tr>\n",
              "<tr><td>beware     </td><td style=\"text-align: right;\">0.383535</td></tr>\n",
              "<tr><td>broke      </td><td style=\"text-align: right;\">0.234378</td></tr>\n",
              "<tr><td>buying     </td><td style=\"text-align: right;\">0.216686</td></tr>\n",
              "<tr><td>cheaply    </td><td style=\"text-align: right;\">0.483946</td></tr>\n",
              "<tr><td>collar     </td><td style=\"text-align: right;\">0.269379</td></tr>\n",
              "<tr><td>comb       </td><td style=\"text-align: right;\">0.350403</td></tr>\n",
              "<tr><td>components </td><td style=\"text-align: right;\">0.274347</td></tr>\n",
              "<tr><td>defective  </td><td style=\"text-align: right;\">0.290534</td></tr>\n",
              "<tr><td>description</td><td style=\"text-align: right;\">0.237779</td></tr>\n",
              "</tbody>\n",
              "</table>"
            ]
          },
          "metadata": {
            "tags": []
          }
        },
        {
          "output_type": "execute_result",
          "data": {
            "text/plain": [
              ""
            ]
          },
          "metadata": {
            "tags": []
          },
          "execution_count": 37
        }
      ]
    },
    {
      "cell_type": "code",
      "metadata": {
        "id": "S9NURCdWRAbB",
        "colab": {
          "base_uri": "https://localhost:8080/",
          "height": 1000
        },
        "outputId": "1d3e8924-2c0d-424a-f88e-fde2dbbc2ceb"
      },
      "source": [
        "gbm_final.partial_plot(data = h2o_df_ext, cols = [\"headline_C53\"])"
      ],
      "execution_count": null,
      "outputs": [
        {
          "output_type": "stream",
          "text": [
            "PartialDependencePlot progress: |█████████████████████████████████████████| 100%\n",
            "\n",
            "PartialDependence: Partial Dependence Plot of model GBM_model_python_1588628225929_1 on column 'headline_C53'\n"
          ],
          "name": "stdout"
        },
        {
          "output_type": "display_data",
          "data": {
            "text/html": [
              "<div>\n",
              "<style scoped>\n",
              "    .dataframe tbody tr th:only-of-type {\n",
              "        vertical-align: middle;\n",
              "    }\n",
              "\n",
              "    .dataframe tbody tr th {\n",
              "        vertical-align: top;\n",
              "    }\n",
              "\n",
              "    .dataframe thead th {\n",
              "        text-align: right;\n",
              "    }\n",
              "</style>\n",
              "<table border=\"1\" class=\"dataframe\">\n",
              "  <thead>\n",
              "    <tr style=\"text-align: right;\">\n",
              "      <th></th>\n",
              "      <th>headline_c53</th>\n",
              "      <th>mean_response</th>\n",
              "      <th>stddev_response</th>\n",
              "      <th>std_error_mean_response</th>\n",
              "    </tr>\n",
              "  </thead>\n",
              "  <tbody>\n",
              "    <tr>\n",
              "      <th>0</th>\n",
              "      <td>-0.625123</td>\n",
              "      <td>0.697395</td>\n",
              "      <td>0.349370</td>\n",
              "      <td>0.017468</td>\n",
              "    </tr>\n",
              "    <tr>\n",
              "      <th>1</th>\n",
              "      <td>-0.554137</td>\n",
              "      <td>0.697395</td>\n",
              "      <td>0.349370</td>\n",
              "      <td>0.017468</td>\n",
              "    </tr>\n",
              "    <tr>\n",
              "      <th>2</th>\n",
              "      <td>-0.483151</td>\n",
              "      <td>0.697395</td>\n",
              "      <td>0.349370</td>\n",
              "      <td>0.017468</td>\n",
              "    </tr>\n",
              "    <tr>\n",
              "      <th>3</th>\n",
              "      <td>-0.412165</td>\n",
              "      <td>0.697395</td>\n",
              "      <td>0.349370</td>\n",
              "      <td>0.017468</td>\n",
              "    </tr>\n",
              "    <tr>\n",
              "      <th>4</th>\n",
              "      <td>-0.341178</td>\n",
              "      <td>0.697900</td>\n",
              "      <td>0.349225</td>\n",
              "      <td>0.017461</td>\n",
              "    </tr>\n",
              "    <tr>\n",
              "      <th>5</th>\n",
              "      <td>-0.270192</td>\n",
              "      <td>0.697900</td>\n",
              "      <td>0.349225</td>\n",
              "      <td>0.017461</td>\n",
              "    </tr>\n",
              "    <tr>\n",
              "      <th>6</th>\n",
              "      <td>-0.199206</td>\n",
              "      <td>0.699135</td>\n",
              "      <td>0.349172</td>\n",
              "      <td>0.017459</td>\n",
              "    </tr>\n",
              "    <tr>\n",
              "      <th>7</th>\n",
              "      <td>-0.128220</td>\n",
              "      <td>0.701214</td>\n",
              "      <td>0.349198</td>\n",
              "      <td>0.017460</td>\n",
              "    </tr>\n",
              "    <tr>\n",
              "      <th>8</th>\n",
              "      <td>-0.057233</td>\n",
              "      <td>0.706291</td>\n",
              "      <td>0.348019</td>\n",
              "      <td>0.017401</td>\n",
              "    </tr>\n",
              "    <tr>\n",
              "      <th>9</th>\n",
              "      <td>0.013753</td>\n",
              "      <td>0.718367</td>\n",
              "      <td>0.347236</td>\n",
              "      <td>0.017362</td>\n",
              "    </tr>\n",
              "    <tr>\n",
              "      <th>10</th>\n",
              "      <td>0.084739</td>\n",
              "      <td>0.734427</td>\n",
              "      <td>0.339501</td>\n",
              "      <td>0.016975</td>\n",
              "    </tr>\n",
              "    <tr>\n",
              "      <th>11</th>\n",
              "      <td>0.155725</td>\n",
              "      <td>0.740586</td>\n",
              "      <td>0.335888</td>\n",
              "      <td>0.016794</td>\n",
              "    </tr>\n",
              "    <tr>\n",
              "      <th>12</th>\n",
              "      <td>0.226712</td>\n",
              "      <td>0.740643</td>\n",
              "      <td>0.335921</td>\n",
              "      <td>0.016796</td>\n",
              "    </tr>\n",
              "    <tr>\n",
              "      <th>13</th>\n",
              "      <td>0.297698</td>\n",
              "      <td>0.740423</td>\n",
              "      <td>0.335958</td>\n",
              "      <td>0.016798</td>\n",
              "    </tr>\n",
              "    <tr>\n",
              "      <th>14</th>\n",
              "      <td>0.368684</td>\n",
              "      <td>0.740423</td>\n",
              "      <td>0.335958</td>\n",
              "      <td>0.016798</td>\n",
              "    </tr>\n",
              "    <tr>\n",
              "      <th>15</th>\n",
              "      <td>0.439670</td>\n",
              "      <td>0.740423</td>\n",
              "      <td>0.335958</td>\n",
              "      <td>0.016798</td>\n",
              "    </tr>\n",
              "    <tr>\n",
              "      <th>16</th>\n",
              "      <td>0.510657</td>\n",
              "      <td>0.740423</td>\n",
              "      <td>0.335958</td>\n",
              "      <td>0.016798</td>\n",
              "    </tr>\n",
              "    <tr>\n",
              "      <th>17</th>\n",
              "      <td>0.581643</td>\n",
              "      <td>0.740423</td>\n",
              "      <td>0.335958</td>\n",
              "      <td>0.016798</td>\n",
              "    </tr>\n",
              "    <tr>\n",
              "      <th>18</th>\n",
              "      <td>0.652629</td>\n",
              "      <td>0.740423</td>\n",
              "      <td>0.335958</td>\n",
              "      <td>0.016798</td>\n",
              "    </tr>\n",
              "    <tr>\n",
              "      <th>19</th>\n",
              "      <td>0.723615</td>\n",
              "      <td>0.740423</td>\n",
              "      <td>0.335958</td>\n",
              "      <td>0.016798</td>\n",
              "    </tr>\n",
              "  </tbody>\n",
              "</table>\n",
              "</div>"
            ],
            "text/plain": [
              "    headline_c53  mean_response  stddev_response  std_error_mean_response\n",
              "0      -0.625123       0.697395         0.349370                 0.017468\n",
              "1      -0.554137       0.697395         0.349370                 0.017468\n",
              "2      -0.483151       0.697395         0.349370                 0.017468\n",
              "3      -0.412165       0.697395         0.349370                 0.017468\n",
              "4      -0.341178       0.697900         0.349225                 0.017461\n",
              "5      -0.270192       0.697900         0.349225                 0.017461\n",
              "6      -0.199206       0.699135         0.349172                 0.017459\n",
              "7      -0.128220       0.701214         0.349198                 0.017460\n",
              "8      -0.057233       0.706291         0.348019                 0.017401\n",
              "9       0.013753       0.718367         0.347236                 0.017362\n",
              "10      0.084739       0.734427         0.339501                 0.016975\n",
              "11      0.155725       0.740586         0.335888                 0.016794\n",
              "12      0.226712       0.740643         0.335921                 0.016796\n",
              "13      0.297698       0.740423         0.335958                 0.016798\n",
              "14      0.368684       0.740423         0.335958                 0.016798\n",
              "15      0.439670       0.740423         0.335958                 0.016798\n",
              "16      0.510657       0.740423         0.335958                 0.016798\n",
              "17      0.581643       0.740423         0.335958                 0.016798\n",
              "18      0.652629       0.740423         0.335958                 0.016798\n",
              "19      0.723615       0.740423         0.335958                 0.016798"
            ]
          },
          "metadata": {
            "tags": []
          }
        },
        {
          "output_type": "execute_result",
          "data": {
            "text/plain": [
              "[]"
            ]
          },
          "metadata": {
            "tags": []
          },
          "execution_count": 38
        },
        {
          "output_type": "display_data",
          "data": {
            "image/png": "[encoded data removed]",
            "text/plain": [
              "<Figure size 504x720 with 1 Axes>"
            ]
          },
          "metadata": {
            "tags": [],
            "needs_background": "light"
          }
        }
      ]
    },
    {
      "cell_type": "code",
      "metadata": {
        "id": "mu00EgLTNLoM",
        "colab": {
          "base_uri": "https://localhost:8080/",
          "height": 295
        },
        "outputId": "bf902750-947b-4299-9043-bc608675a03e"
      },
      "source": [
        "word_embeddings[\"C53\"].hist()"
      ],
      "execution_count": null,
      "outputs": [
        {
          "output_type": "display_data",
          "data": {
            "image/png": "[encoded data removed]",
            "text/plain": [
              "<Figure size 432x288 with 1 Axes>"
            ]
          },
          "metadata": {
            "tags": [],
            "needs_background": "light"
          }
        }
      ]
    },
    {
      "cell_type": "code",
      "metadata": {
        "id": "51WJDtpmCc35",
        "colab": {
          "base_uri": "https://localhost:8080/",
          "height": 355
        },
        "outputId": "426a59f6-f22f-4712-ea8b-0a6a8d0d9a61"
      },
      "source": [
        "low_c53_words = word_embeddings[word_embeddings[\"C53\"] < -.2]\n",
        "low_c53_words[[\"Word\", \"C53\"]].head(15)"
      ],
      "execution_count": null,
      "outputs": [
        {
          "output_type": "display_data",
          "data": {
            "text/html": [
              "<table>\n",
              "<thead>\n",
              "<tr><th>Word      </th><th style=\"text-align: right;\">      C53</th></tr>\n",
              "</thead>\n",
              "<tbody>\n",
              "<tr><td>absolute  </td><td style=\"text-align: right;\">-0.331737</td></tr>\n",
              "<tr><td>alarm     </td><td style=\"text-align: right;\">-0.360701</td></tr>\n",
              "<tr><td>arrival   </td><td style=\"text-align: right;\">-0.431152</td></tr>\n",
              "<tr><td>baking    </td><td style=\"text-align: right;\">-0.212621</td></tr>\n",
              "<tr><td>bang      </td><td style=\"text-align: right;\">-0.249266</td></tr>\n",
              "<tr><td>cacao     </td><td style=\"text-align: right;\">-0.38883 </td></tr>\n",
              "<tr><td>callus    </td><td style=\"text-align: right;\">-0.254295</td></tr>\n",
              "<tr><td>cheaply   </td><td style=\"text-align: right;\">-0.34693 </td></tr>\n",
              "<tr><td>come      </td><td style=\"text-align: right;\">-0.203229</td></tr>\n",
              "<tr><td>components</td><td style=\"text-align: right;\">-0.212798</td></tr>\n",
              "<tr><td>constantly</td><td style=\"text-align: right;\">-0.203859</td></tr>\n",
              "<tr><td>dead      </td><td style=\"text-align: right;\">-0.212602</td></tr>\n",
              "<tr><td>device    </td><td style=\"text-align: right;\">-0.242909</td></tr>\n",
              "<tr><td>digital   </td><td style=\"text-align: right;\">-0.219763</td></tr>\n",
              "<tr><td>disaster  </td><td style=\"text-align: right;\">-0.239119</td></tr>\n",
              "</tbody>\n",
              "</table>"
            ]
          },
          "metadata": {
            "tags": []
          }
        },
        {
          "output_type": "execute_result",
          "data": {
            "text/plain": [
              ""
            ]
          },
          "metadata": {
            "tags": []
          },
          "execution_count": 40
        }
      ]
    },
    {
      "cell_type": "code",
      "metadata": {
        "id": "QgHkHjExNRVR",
        "colab": {
          "base_uri": "https://localhost:8080/",
          "height": 355
        },
        "outputId": "ff1770c0-44c4-40a3-e30c-8441a1e0280c"
      },
      "source": [
        "high_c53_words = word_embeddings[word_embeddings[\"C53\"] > 0.3]\n",
        "high_c53_words[[\"Word\", \"C53\"]].head(15)"
      ],
      "execution_count": null,
      "outputs": [
        {
          "output_type": "display_data",
          "data": {
            "text/html": [
              "<table>\n",
              "<thead>\n",
              "<tr><th>Word     </th><th style=\"text-align: right;\">     C53</th></tr>\n",
              "</thead>\n",
              "<tbody>\n",
              "<tr><td>aloe     </td><td style=\"text-align: right;\">0.530727</td></tr>\n",
              "<tr><td>arthritis</td><td style=\"text-align: right;\">0.485595</td></tr>\n",
              "<tr><td>balm     </td><td style=\"text-align: right;\">0.656114</td></tr>\n",
              "<tr><td>bandages </td><td style=\"text-align: right;\">0.319607</td></tr>\n",
              "<tr><td>best     </td><td style=\"text-align: right;\">0.345299</td></tr>\n",
              "<tr><td>converted</td><td style=\"text-align: right;\">0.343158</td></tr>\n",
              "<tr><td>cordless </td><td style=\"text-align: right;\">0.442391</td></tr>\n",
              "<tr><td>crutch   </td><td style=\"text-align: right;\">0.301784</td></tr>\n",
              "<tr><td>decent   </td><td style=\"text-align: right;\">0.407255</td></tr>\n",
              "<tr><td>deluxe   </td><td style=\"text-align: right;\">0.327715</td></tr>\n",
              "<tr><td>done     </td><td style=\"text-align: right;\">0.333212</td></tr>\n",
              "<tr><td>easy     </td><td style=\"text-align: right;\">0.447786</td></tr>\n",
              "<tr><td>elegant  </td><td style=\"text-align: right;\">0.387464</td></tr>\n",
              "<tr><td>essential</td><td style=\"text-align: right;\">0.422646</td></tr>\n",
              "<tr><td>exactly  </td><td style=\"text-align: right;\">0.354654</td></tr>\n",
              "</tbody>\n",
              "</table>"
            ]
          },
          "metadata": {
            "tags": []
          }
        },
        {
          "output_type": "execute_result",
          "data": {
            "text/plain": [
              ""
            ]
          },
          "metadata": {
            "tags": []
          },
          "execution_count": 41
        }
      ]
    },
    {
      "cell_type": "code",
      "metadata": {
        "id": "CmKSTWSQPZ7T"
      },
      "source": [
        ""
      ],
      "execution_count": null,
      "outputs": []
    }
  ]
}