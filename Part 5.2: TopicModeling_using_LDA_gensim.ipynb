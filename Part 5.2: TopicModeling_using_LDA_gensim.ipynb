{
  "nbformat": 4,
  "nbformat_minor": 0,
  "metadata": {
    "colab": {
      "name": "TopicModeling_LDA_gensim.ipynb",
      "provenance": [],
      "collapsed_sections": []
    },
    "kernelspec": {
      "display_name": "Python 3",
      "language": "python",
      "name": "python3"
    },
    "language_info": {
      "codemirror_mode": {
        "name": "ipython",
        "version": 3
      },
      "file_extension": ".py",
      "mimetype": "text/x-python",
      "name": "python",
      "nbconvert_exporter": "python",
      "pygments_lexer": "ipython3",
      "version": "3.6.10"
    }
  },
  "cells": [
    {
      "cell_type": "code",
      "metadata": {
        "id": "uzjpVab7zJfR"
      },
      "source": [
        "#Installing the libraray for Data Visualisation for LDA\n",
        "\n",
        "!pip install pyLDAvis "
      ],
      "execution_count": null,
      "outputs": []
    },
    {
      "cell_type": "code",
      "metadata": {
        "id": "Jr997TmIzJfj"
      },
      "source": [
        "#For english letter parsing, follow the same step as above. Open commnad prompt with admin rights and run the below command\n",
        "##      python -m spacy download en "
      ],
      "execution_count": null,
      "outputs": []
    },
    {
      "cell_type": "code",
      "metadata": {
        "id": "AajM9dM2zJft"
      },
      "source": [
        "#Loading English language\n",
        "\n",
        "from spacy.lang.en import English"
      ],
      "execution_count": null,
      "outputs": []
    },
    {
      "cell_type": "code",
      "metadata": {
        "id": "8SXFnMeQzJf0"
      },
      "source": [
        "#Creeating an object of English class to parse the data\n",
        "\n",
        "parser = English()"
      ],
      "execution_count": null,
      "outputs": []
    },
    {
      "cell_type": "code",
      "metadata": {
        "id": "JmVq6hoLzJf_"
      },
      "source": [
        "#Writing functions for data cleaning\n",
        "# Starting from tokenization\n",
        "\n",
        "def tokenize(text):\n",
        "    lda_tokens = []\n",
        "    #tokens = text\n",
        "    tokens = parser(text)\n",
        "    for token in tokens:\n",
        "        if token.orth_.isspace():\n",
        "            continue\n",
        "        elif token.like_url: #Does the token resemples URL\n",
        "            lda_tokens.append('URL')\n",
        "        elif token.orth_.startswith('@'): #Does token starts with @\n",
        "            lda_tokens.append('SCREEN_NAME')\n",
        "        else:\n",
        "            lda_tokens.append(token.lower_)\n",
        "    return lda_tokens"
      ],
      "execution_count": null,
      "outputs": []
    },
    {
      "cell_type": "code",
      "metadata": {
        "colab": {
          "base_uri": "https://localhost:8080/"
        },
        "id": "-DiDAfBGzJgJ",
        "outputId": "8431b8b9-82dc-477b-d571-97c911a1dee9"
      },
      "source": [
        "#Importing nltk. Its a heavy library so might take time. We need only wordnet part of NLTK not complete package\n",
        "import nltk\n",
        "nltk.download('wordnet')"
      ],
      "execution_count": null,
      "outputs": [
        {
          "output_type": "stream",
          "text": [
            "[nltk_data] Downloading package wordnet to /root/nltk_data...\n",
            "[nltk_data]   Package wordnet is already up-to-date!\n"
          ],
          "name": "stdout"
        },
        {
          "output_type": "execute_result",
          "data": {
            "text/plain": [
              "True"
            ]
          },
          "metadata": {
            "tags": []
          },
          "execution_count": 6
        }
      ]
    },
    {
      "cell_type": "code",
      "metadata": {
        "id": "xoUKrUEwzJgh"
      },
      "source": [
        "#Functions for Lemmma\n",
        "\n",
        "from nltk.corpus import wordnet as wn\n",
        "def get_lemma(word):\n",
        "    lemma = wn.morphy(word)\n",
        "    if lemma is None:\n",
        "        return word\n",
        "    else:\n",
        "        return lemma\n",
        "    \n",
        "from nltk.stem.wordnet import WordNetLemmatizer\n",
        "def get_lemma2(word):\n",
        "    return WordNetLemmatizer().lemmatize(word)"
      ],
      "execution_count": null,
      "outputs": []
    },
    {
      "cell_type": "code",
      "metadata": {
        "colab": {
          "base_uri": "https://localhost:8080/",
          "height": 35
        },
        "id": "b_Aa3iU-PQG2",
        "outputId": "9658c2e7-29c9-4478-cfb1-ec072199c43f"
      },
      "source": [
        "word = 'Happpyness'\n",
        "def get_lemma(word):\n",
        "    lemma = wn.morphy(word, 'n')\n",
        "    if lemma is None:\n",
        "        return word\n",
        "    else:\n",
        "        return lemma\n",
        "get_lemma(word)"
      ],
      "execution_count": null,
      "outputs": [
        {
          "output_type": "execute_result",
          "data": {
            "application/vnd.google.colaboratory.intrinsic+json": {
              "type": "string"
            },
            "text/plain": [
              "'Happpyness'"
            ]
          },
          "metadata": {
            "tags": []
          },
          "execution_count": 8
        }
      ]
    },
    {
      "cell_type": "code",
      "metadata": {
        "colab": {
          "base_uri": "https://localhost:8080/",
          "height": 35
        },
        "id": "StbOaptzPm-W",
        "outputId": "3ae9fadf-6dd7-40a4-d3a0-a8b718efc9f5"
      },
      "source": [
        "from nltk.stem.wordnet import WordNetLemmatizer\n",
        "def get_lemma2(word):\n",
        "    return WordNetLemmatizer().lemmatize(word)\n",
        "get_lemma(word)"
      ],
      "execution_count": null,
      "outputs": [
        {
          "output_type": "execute_result",
          "data": {
            "application/vnd.google.colaboratory.intrinsic+json": {
              "type": "string"
            },
            "text/plain": [
              "'Happpyness'"
            ]
          },
          "metadata": {
            "tags": []
          },
          "execution_count": 9
        }
      ]
    },
    {
      "cell_type": "code",
      "metadata": {
        "colab": {
          "base_uri": "https://localhost:8080/"
        },
        "id": "M66i64hszJgz",
        "outputId": "a824a1ce-15bc-4a59-c9a9-b7104fcd921f"
      },
      "source": [
        "#Accessing only the stop words and creating an object of it\n",
        "\n",
        "nltk.download('stopwords')\n",
        "en_stop = set(nltk.corpus.stopwords.words('english'))"
      ],
      "execution_count": null,
      "outputs": [
        {
          "output_type": "stream",
          "text": [
            "[nltk_data] Downloading package stopwords to /root/nltk_data...\n",
            "[nltk_data]   Package stopwords is already up-to-date!\n"
          ],
          "name": "stdout"
        }
      ]
    },
    {
      "cell_type": "code",
      "metadata": {
        "id": "mhH9XdqgzJhE"
      },
      "source": [
        "#Prepraring data for LDA\n",
        "\n",
        "def prepare_text_for_lda(text):\n",
        "    tokens = tokenize(text)\n",
        "    tokens = [token for token in tokens if len(token) > 4]\n",
        "    tokens = [token for token in tokens if token not in en_stop]\n",
        "    tokens = [get_lemma(token) for token in tokens]\n",
        "    return tokens"
      ],
      "execution_count": null,
      "outputs": []
    },
    {
      "cell_type": "code",
      "metadata": {
        "colab": {
          "background_save": true
        },
        "id": "PS8_cW5GzJhO"
      },
      "source": [
        "#Accessing dataset. \n",
        "text_data = []\n",
        "with open('/content/drive/MyDrive/NLP IMS/Day5/day 5/dataset.csv') as f:\n",
        "    for line in f:\n",
        "        tokens = prepare_text_for_lda(line)\n",
        "        print(tokens)\n",
        "        text_data.append(tokens)\n",
        "        "
      ],
      "execution_count": null,
      "outputs": []
    },
    {
      "cell_type": "markdown",
      "metadata": {
        "id": "HMsBzOtHzJhV"
      },
      "source": [
        "#LDA with Gensim"
      ]
    },
    {
      "cell_type": "code",
      "metadata": {
        "colab": {
          "background_save": true
        },
        "id": "TiIWeR3uzJhW"
      },
      "source": [
        "#Importing gensim. If this gives error, download gensim using pip command \n",
        "# !pip install gensim \n",
        "\n",
        "from gensim import corpora"
      ],
      "execution_count": null,
      "outputs": []
    },
    {
      "cell_type": "code",
      "metadata": {
        "colab": {
          "background_save": true
        },
        "id": "s0CysuULzJhd"
      },
      "source": [
        "#Accessing dictionary object and making corpus\n",
        "#bag of words, keeps a count of the total occurrences of most frequently used words.\n",
        "\n",
        "#In order to work on text documents, Gensim requires the words (aka tokens) \n",
        "#be converted to unique ids. In order to achieve that, \n",
        "#Gensim lets you create a Dictionary object that maps each word to a unique id.\n",
        "\n",
        "# Corpus is typically a ‘collection of documents as a bag of words’.\n",
        "dictionary = corpora.Dictionary(text_data)\n",
        "\n",
        "corpus = [dictionary.doc2bow(text) for text in text_data]\n",
        "\n",
        "import pickle #Python object hierarchy is converted into a byte stream, \n",
        "pickle.dump(corpus, open('corpus.pkl', 'wb'))\n",
        "dictionary.save('dictionary.gensim')"
      ],
      "execution_count": null,
      "outputs": []
    },
    {
      "cell_type": "code",
      "metadata": {
        "colab": {
          "background_save": true
        },
        "id": "7zwdbqqizJhl",
        "outputId": "d221cefe-ad71-4778-f6ca-9ca44c0682e3"
      },
      "source": [
        "#Applying LDA\n",
        "\n",
        "import gensim\n",
        "NUM_TOPICS = 5\n",
        "ldamodel = gensim.models.ldamodel.LdaModel(corpus, num_topics = NUM_TOPICS, id2word=dictionary, passes=15)\n",
        "ldamodel.save('model5.gensim')\n",
        "topics = ldamodel.print_topics(num_words=4)\n",
        "for topic in topics:\n",
        "    print(topic)"
      ],
      "execution_count": null,
      "outputs": [
        {
          "output_type": "stream",
          "text": [
            "(0, '0.015*\"based\" + 0.013*\"large\" + 0.012*\"video\" + 0.012*\"image\"')\n",
            "(1, '0.020*\"network\" + 0.018*\"wireless\" + 0.016*\"sensor\" + 0.015*\"based\"')\n",
            "(2, '0.022*\"system\" + 0.020*\"design\" + 0.017*\"based\" + 0.011*\"services\"')\n",
            "(3, '0.038*\"network\" + 0.012*\"wireless\" + 0.010*\"mobile\" + 0.009*\"system\"')\n",
            "(4, '0.025*\"network\" + 0.024*\"based\" + 0.018*\"query\" + 0.016*\"using\"')\n"
          ],
          "name": "stdout"
        }
      ]
    },
    {
      "cell_type": "code",
      "metadata": {
        "colab": {
          "background_save": true
        },
        "id": "T2N0p46WzJhr",
        "outputId": "06e2fb28-1257-4ae3-f244-5ed462c31ccf"
      },
      "source": [
        "#Testing LDA model by giving input string\n",
        "\n",
        "new_doc = 'Influence of external input on Oscillatory Cellular Nonlinear Networks dynamics.'\n",
        "\n",
        "\n",
        "new_doc = prepare_text_for_lda(new_doc)\n",
        "new_doc_bow = dictionary.doc2bow(new_doc)\n",
        "print(new_doc_bow)\n",
        "print(ldamodel.get_document_topics(new_doc_bow))"
      ],
      "execution_count": null,
      "outputs": [
        {
          "output_type": "stream",
          "text": [
            "[(24, 1), (82, 1), (201, 1), (357, 1), (721, 1), (722, 1), (723, 1), (724, 1)]\n",
            "[(0, 0.022228414), (1, 0.023094289), (2, 0.022377672), (3, 0.022619208), (4, 0.90968037)]\n"
          ],
          "name": "stdout"
        }
      ]
    },
    {
      "cell_type": "code",
      "metadata": {
        "colab": {
          "background_save": true
        },
        "id": "7faJ0YHizJh4",
        "outputId": "70da8ddf-c51c-4470-fa76-7688f0ab01de"
      },
      "source": [
        "#Creating visualisation of the LDA model\n",
        "\n",
        "dictionary = gensim.corpora.Dictionary.load('dictionary.gensim')\n",
        "corpus = pickle.load(open('corpus.pkl', 'rb'))\n",
        "lda = gensim.models.ldamodel.LdaModel.load('model5.gensim')\n",
        "import pyLDAvis.gensim_models\n",
        "lda_display = pyLDAvis.gensim_models.prepare(lda, corpus, dictionary, sort_topics=False)\n",
        "pyLDAvis.display(lda_display)"
      ],
      "execution_count": null,
      "outputs": [
        {
          "output_type": "stream",
          "text": [
            "/usr/local/lib/python3.7/dist-packages/past/types/oldstr.py:5: DeprecationWarning: Using or importing the ABCs from 'collections' instead of from 'collections.abc' is deprecated since Python 3.3,and in 3.9 it will stop working\n",
            "  from collections import Iterable\n",
            "/usr/local/lib/python3.7/dist-packages/sklearn/decomposition/_lda.py:29: DeprecationWarning: `np.float` is a deprecated alias for the builtin `float`. To silence this warning, use `float` by itself. Doing this will not modify any behavior and is safe. If you specifically wanted the numpy scalar type, use `np.float64` here.\n",
            "Deprecated in NumPy 1.20; for more details and guidance: https://numpy.org/devdocs/release/1.20.0-notes.html#deprecations\n",
            "  EPS = np.finfo(np.float).eps\n"
          ],
          "name": "stderr"
        },
        {
          "output_type": "execute_result",
          "data": {
            "text/html": [
              "\n",
              "<link rel=\"stylesheet\" type=\"text/css\" href=\"https://cdn.jsdelivr.net/gh/bmabey/pyLDAvis@3.3.1/pyLDAvis/js/ldavis.v1.0.0.css\">\n",
              "\n",
              "\n",
              "<div id=\"ldavis_el724139823052651728891209806\"></div>\n",
              "<script type=\"text/javascript\">\n",
              "\n",
              "var ldavis_el724139823052651728891209806_data = {\"mdsDat\": {\"x\": [0.18623020288497077, -0.1268278339347213, 0.037507753533331245, -0.12815750004336676, 0.03124737755978604], \"y\": [0.0603717294410449, -0.03754155295094361, -0.1853527631672523, 0.08864592067947791, 0.07387666599767297], \"topics\": [1, 2, 3, 4, 5], \"cluster\": [1, 1, 1, 1, 1], \"Freq\": [18.700987896032554, 22.765668040202648, 18.55486910693896, 16.930400289842684, 23.048074666983155]}, \"tinfo\": {\"Term\": [\"network\", \"wireless\", \"design\", \"model\", \"query\", \"large\", \"sensor\", \"search\", \"services\", \"image\", \"video\", \"converter\", \"based\", \"database\", \"scale\", \"delta\", \"sigma\", \"mobile\", \"processing\", \"channel\", \"digital\", \"method\", \"continuous\", \"protocol\", \"power\", \"implementation\", \"social\", \"adaptive\", \"surface\", \"management\", \"scale\", \"light\", \"feature\", \"graphics\", \"result\", \"recommendation\", \"h.264\", \"mechanism\", \"indexing\", \"schema\", \"frame\", \"session\", \"translation\", \"segmentation\", \"price\", \"wikipedia\", \"resolution\", \"editing\", \"write\", \"deformation\", \"tree\", \"querying\", \"recognition\", \"fields\", \"target\", \"specific\", \"rule\", \"importance\", \"simulating\", \"detect\", \"extraction\", \"surface\", \"large\", \"video\", \"processing\", \"object\", \"sampling\", \"image\", \"panel\", \"mining\", \"interactive\", \"computer\", \"motion\", \"search\", \"scheme\", \"engine\", \"cloud\", \"database\", \"animation\", \"based\", \"using\", \"measurement\", \"system\", \"approach\", \"internet\", \"adaptive\", \"algorithm\", \"efficient\", \"model\", \"multi\", \"query\", \"converter\", \"delta\", \"sigma\", \"continuous\", \"channel\", \"range\", \"switching\", \"latency\", \"smart\", \"ratio\", \"variation\", \"processor\", \"blind\", \"matrix\", \"joint\", \"operation\", \"pulse\", \"resistor\", \"generating\", \"aggregation\", \"tuning\", \"operating\", \"identification\", \"generalized\", \"office\", \"feedback\", \"early\", \"fixed\", \"iterative\", \"maximum\", \"short\", \"pattern\", \"sensor\", \"wireless\", \"linear\", \"voltage\", \"power\", \"multi\", \"method\", \"signal\", \"adaptive\", \"reduction\", \"robust\", \"network\", \"current\", \"algorithm\", \"system\", \"based\", \"level\", \"noise\", \"efficient\", \"routing\", \"application\", \"using\", \"analysis\", \"image\", \"design\", \"services\", \"understanding\", \"automated\", \"generated\", \"index\", \"challenge\", \"characteristic\", \"localization\", \"state\", \"strategy\", \"engineering\", \"distortion\", \"direct\", \"reality\", \"protection\", \"biomedical\", \"development\", \"personalized\", \"recursive\", \"annotation\", \"polynomial\", \"square\", \"metadata\", \"lifetime\", \"exploratory\", \"missing\", \"augmented\", \"flash\", \"uniform\", \"decomposition\", \"location\", \"evaluation\", \"towards\", \"generation\", \"automatic\", \"implementation\", \"design\", \"digital\", \"interaction\", \"system\", \"search\", \"semantic\", \"based\", \"application\", \"internet\", \"modeling\", \"management\", \"approach\", \"frequency\", \"filter\", \"classification\", \"analysis\", \"using\", \"algorithm\", \"framework\", \"information\", \"mobile\", \"radio\", \"collection\", \"integration\", \"update\", \"caching\", \"oscillator\", \"second\", \"storage\", \"support\", \"lossless\", \"varying\", \"solution\", \"cognitive\", \"uncertainty\", \"locking\", \"dimensional\", \"maintenance\", \"medium\", \"comparator\", \"opportunity\", \"broadband\", \"propagation\", \"operational\", \"three\", \"composition\", \"vehicular\", \"shared\", \"fourier\", \"without\", \"consumption\", \"protocol\", \"social\", \"network\", \"mobile\", \"response\", \"order\", \"bandwidth\", \"architecture\", \"impact\", \"delay\", \"tolerant\", \"management\", \"wireless\", \"speed\", \"information\", \"energy\", \"amplifier\", \"aware\", \"routing\", \"efficient\", \"control\", \"optimal\", \"system\", \"service\", \"sensor\", \"analysis\", \"distributed\", \"dynamic\", \"power\", \"using\", \"database\", \"technology\", \"neural\", \"layer\", \"hierarchical\", \"toward\", \"multipath\", \"issue\", \"global\", \"abstract\", \"program\", \"congestion\", \"site\", \"fpgas\", \"machine\", \"conversion\", \"paper\", \"connected\", \"wavelength\", \"admission\", \"searching\", \"dynamics\", \"representation\", \"capacity\", \"browsing\", \"partial\", \"base\", \"dependent\", \"deployment\", \"binary\", \"sequence\", \"table\", \"structured\", \"recovery\", \"model\", \"query\", \"buffer\", \"packet\", \"mapping\", \"optical\", \"optimization\", \"based\", \"network\", \"using\", \"database\", \"reconfigurable\", \"graph\", \"coding\", \"estimation\", \"structure\", \"control\", \"design\", \"dynamic\", \"power\", \"algorithm\", \"method\", \"application\", \"hardware\", \"analysis\", \"semantic\", \"system\", \"wireless\", \"efficient\", \"modeling\", \"detection\"], \"Freq\": [252.0, 108.0, 108.0, 66.0, 81.0, 49.0, 84.0, 54.0, 30.0, 48.0, 46.0, 33.0, 223.0, 78.0, 27.0, 26.0, 26.0, 45.0, 29.0, 24.0, 33.0, 53.0, 22.0, 21.0, 89.0, 36.0, 27.0, 44.0, 24.0, 34.0, 27.077661243063783, 14.535361423035653, 13.968504521122778, 13.54513886564811, 12.976215492580138, 10.407879657976915, 9.844858053099985, 9.842230382925614, 12.369666872180039, 8.986799831571155, 8.56161945777247, 8.560145654740536, 7.840924530306633, 7.706512120339157, 7.418308232868219, 7.416184723962333, 6.282098535740612, 5.997868933847776, 5.994428311823051, 5.993578646018164, 5.8555676129002086, 5.855386665552872, 5.85277276311145, 5.56917385450897, 5.568712307651995, 5.56687136507474, 5.427863482530604, 5.427848731388159, 5.141398918655625, 5.1300316882867785, 14.90078459098264, 19.568788207247085, 37.149096188527196, 33.25839779519181, 22.57992121336744, 13.670038427753775, 9.363234563452458, 32.9334452060532, 13.042574654184314, 13.160518233118802, 18.36888307703788, 10.325077889592992, 16.361803299462387, 28.424882427045848, 23.42996989235129, 14.483405932522032, 11.49432358973621, 30.507657200377974, 13.497569381488418, 41.71089157918082, 28.372887600152374, 12.82696933376902, 28.01318525304909, 16.893190587659234, 13.780540874832196, 14.738280760947433, 17.645388710538967, 15.515908542191317, 14.225968994555355, 14.197383247314102, 13.377438699833943, 32.45217385914466, 26.333227659983994, 25.87386666091213, 21.586828815055213, 23.686599717488846, 14.24674818615772, 13.329366203090357, 12.707982297137999, 12.706388485281241, 11.788464590220517, 11.787814136207869, 11.638225675360566, 11.185121006356365, 10.872159248212125, 9.653664145370787, 9.342208407744172, 9.18686402746225, 8.888501170912305, 8.881942359776184, 8.276669760760413, 8.125244066616034, 7.966004943289056, 7.818995951606018, 7.809642981576302, 7.946906336512787, 7.208722438672148, 7.198839528195318, 6.895868424444113, 6.87568439747496, 6.288570239803679, 6.413730760537961, 20.218690182253845, 55.65009346270443, 62.75634585034362, 20.19752289228643, 19.81069030898557, 44.25409765975694, 37.39885826895927, 29.592331081819015, 14.013749972105744, 25.300894091768583, 13.871354016242467, 14.64326974088624, 70.17315610964104, 16.9990449768425, 31.894456232329635, 45.494487124474304, 49.99822432322211, 16.623890237852148, 17.125903461885873, 22.219264852501, 17.56351934435823, 20.984554689322284, 22.371983473639844, 17.526587922295334, 14.94203803380235, 15.710515530364543, 29.716511943095515, 14.145033009873826, 10.437392441304072, 10.135772210370842, 9.29275561429986, 9.013992083104238, 8.7256872555414, 8.15374742361045, 7.72604521883862, 7.723642982168037, 7.300464241736104, 7.29571571000167, 7.408121261961304, 6.729984745934442, 6.440952027000258, 6.013122977887576, 6.012622755845963, 5.988982223130275, 5.585422724567144, 5.583782854909266, 5.572334340042687, 5.559014383285701, 5.553430630353047, 5.55271054478729, 5.147007376863772, 5.143972544698429, 5.016888825809002, 5.014042959187338, 5.013340111442262, 5.0116186060675805, 16.565522255864433, 15.539800372198824, 17.507775359379487, 18.782684576856987, 14.84468167562527, 23.423671824762636, 56.27425374161227, 20.99067507628029, 10.62912124016172, 61.10038559135968, 25.036015610191782, 16.851087245664882, 48.719488062434664, 25.739394150048053, 14.85366485689274, 17.03024089171567, 14.651925112364827, 18.686909944192458, 13.118254740518257, 15.409034915005712, 10.754107148798605, 16.411583963807285, 20.43025986582043, 16.35971308468849, 11.72744492162782, 12.71592920972228, 10.264871128070308, 14.903871621387609, 11.776381555409213, 11.06062668170106, 10.359762396316832, 9.939577510065398, 8.943055987683492, 8.659981677681477, 10.24283257953815, 8.51179515800441, 7.79990300547021, 7.6698442101469935, 8.015930494751265, 7.105183580613631, 6.8135386354315495, 6.394972317195077, 6.251726970500979, 5.969218892213769, 7.120456405021766, 5.968630106195858, 5.960034542575518, 5.959250483775458, 5.829947257606274, 5.544677464257232, 5.543273162121772, 5.399685346141047, 5.1173351479755755, 5.1162293935891165, 5.115266087432797, 4.975544850598924, 5.09553641402417, 18.50173049156133, 19.710323003632162, 95.93622396539715, 25.199578609816413, 9.383274436901186, 11.191216096681545, 14.587408633309455, 23.338962562201885, 10.68291807707438, 16.501075963033724, 10.63343156192388, 16.16457644431785, 31.201537447124892, 15.246896456112461, 19.557331230325055, 12.51638942736722, 14.931888814118901, 15.081579349692523, 16.00143404754471, 20.525372603227716, 18.135817787458794, 11.588635975153792, 23.431166927434084, 12.194979924497465, 16.39225263761857, 15.19640093266514, 11.904365354846728, 11.948156314928813, 12.609404560442629, 12.159739419429512, 11.083768583755823, 13.656298237071866, 12.503332187268233, 11.77951780423499, 11.067550368514036, 10.630005969392485, 10.205291857842331, 9.635208220657972, 9.63324800416775, 9.20251830656249, 8.774160099228785, 8.197584961928007, 8.327201651332476, 7.90395649014474, 7.769361691178749, 7.767722252077901, 7.894974723242311, 7.481592052771653, 7.468977502134668, 7.464435714462974, 7.333039801352211, 6.761738502893834, 6.886349610617795, 6.757229843365627, 6.47701059366128, 6.475841816598995, 6.475769096284023, 6.473918768269759, 6.472399317688613, 6.465552700034085, 6.336106095366297, 7.237227554363802, 6.718698580476445, 8.629176799267425, 50.98335957453529, 60.731475780227875, 12.368453779073855, 14.012362755282311, 13.736612168932936, 12.952113491059817, 20.51772013172107, 83.31726147729277, 86.32216185231816, 55.79337855201104, 36.33258517412179, 13.454308674201167, 17.840449015745435, 18.63655062387394, 19.328319588109924, 18.941198647385825, 26.49527992612766, 33.19618384553068, 20.021730415457256, 26.391582372985887, 26.36378382058294, 19.787571001250345, 20.254260894608812, 12.271779392351288, 18.27637336785013, 14.542013897342745, 19.896056783131215, 13.795093846232687, 13.191954785876469, 12.730243002079524, 12.590418804463612], \"Total\": [252.0, 108.0, 108.0, 66.0, 81.0, 49.0, 84.0, 54.0, 30.0, 48.0, 46.0, 33.0, 223.0, 78.0, 27.0, 26.0, 26.0, 45.0, 29.0, 24.0, 33.0, 53.0, 22.0, 21.0, 89.0, 36.0, 27.0, 44.0, 24.0, 34.0, 27.7360536204734, 15.195794889885551, 14.62894024115044, 14.20102666599611, 13.633952247719083, 11.068334012810388, 10.501167508422302, 10.501251117384184, 13.213526239702913, 9.645952234491205, 9.218364023875306, 9.21836483098769, 8.502571366159478, 8.363129146995474, 8.074935867228817, 8.074973468211057, 6.940926131121519, 6.652635239553915, 6.6527119813076245, 6.652642903030843, 6.513160086466393, 6.5131726111013695, 6.513317437791226, 6.225014859050114, 6.224996571783063, 6.22511250572417, 6.085556075590729, 6.085688419478799, 5.797460307583911, 5.797772122856991, 17.924758042469247, 24.437517775683165, 49.19273420916066, 46.075784385472495, 29.985060922171332, 17.062572444533853, 11.305114626634847, 48.41751836209504, 16.93293423344899, 17.13511217554319, 26.22464036121598, 13.057440952812614, 25.38559881032497, 54.011210272634095, 42.17236173935305, 22.640718977200635, 15.894446757565786, 78.25915643276149, 20.624239112668892, 223.99341294096018, 139.1282489110532, 23.54332176234115, 177.9352816794484, 60.67609716766932, 32.734478310388035, 44.43976476212591, 92.426513847436, 78.72094561099894, 66.61097088213896, 73.04976740857228, 81.2329445595853, 33.09817618945056, 26.977101627651432, 26.51776305317208, 22.23370070848288, 24.525210923347135, 14.894113408590568, 13.975530026066028, 13.356355232692602, 13.356222207701792, 12.43759578357719, 12.437568847172228, 12.287739899579368, 11.828836712330984, 11.519080422576437, 10.300749636387998, 9.991125329226554, 9.840897504296592, 9.532156179244726, 9.531735557574917, 8.922802266512102, 8.772888697136286, 8.613211502494798, 8.463586611437298, 8.46291490840813, 8.611896283054858, 7.854359446244262, 7.8537119366406944, 7.544631471482447, 7.543404610797165, 6.935583464300975, 7.083872029560194, 24.99545629761036, 84.56239149886376, 108.0810740819927, 29.883170659317862, 29.834438190219927, 89.49500937806121, 73.04976740857228, 53.15199995155085, 18.847700049535057, 44.43976476212591, 18.846992935768345, 20.471286606755903, 252.77448132070458, 27.189733611235127, 92.426513847436, 177.9352816794484, 223.99341294096018, 30.357294518225025, 34.772496915849274, 78.72094561099894, 43.18225236506414, 82.37500967427727, 139.1282489110532, 67.80778596896769, 48.41751836209504, 108.56823118439765, 30.375570747241433, 14.807501975885755, 11.097173079022127, 10.808130397450952, 9.959772708762257, 9.67085877519071, 9.381897108868838, 8.813280563733574, 8.38444700364635, 8.384387198503946, 7.955562580181711, 7.955786799256888, 8.095303646550427, 7.386955943263549, 7.097927154602742, 6.669089218623326, 6.669176123713713, 6.669003741993049, 6.240313616643452, 6.240247222320672, 6.241108477905662, 6.240384456532713, 6.240169663121306, 6.241514797740267, 5.811404819521494, 5.8114178694561, 5.671568215656188, 5.671786571068515, 5.6717174478213135, 5.671767608539244, 20.072260411561547, 19.760663193000656, 22.653497098447815, 24.68997525504387, 20.79602340687581, 36.44499796471719, 108.56823118439765, 33.91206697204428, 14.686295946049643, 177.9352816794484, 54.011210272634095, 34.860649814232595, 223.99341294096018, 82.37500967427727, 32.734478310388035, 41.84102144961811, 34.71346001986346, 60.67609716766932, 29.416505537130597, 45.80010907492805, 20.10270317308964, 67.80778596896769, 139.1282489110532, 92.426513847436, 34.556880248704886, 52.25035847048298, 45.17051949846232, 15.565646984000379, 12.43796998149036, 11.735478482530556, 11.021981785158113, 10.596153976438302, 9.606124432817591, 9.319188210839377, 11.031215814996992, 9.180409545880048, 8.46784992331224, 8.329018421676066, 8.755650280017171, 7.764466433259345, 7.477676576401188, 7.051894411987518, 6.913198800276935, 6.626204784714732, 7.904218669022577, 6.6262993178274545, 6.626248573611241, 6.62711352895488, 6.487388703377365, 6.2005135562286, 6.200529188657419, 6.06175351604239, 5.774849830085122, 5.774871561615879, 5.774852554042247, 5.636168598544543, 5.776742955294488, 21.851923352504684, 27.6943859843905, 252.77448132070458, 45.17051949846232, 12.884345081993802, 16.768082227564463, 24.596106739633253, 49.496083523051034, 16.47316355485559, 32.99615472128404, 16.99817069330753, 34.71346001986346, 108.0810740819927, 32.26388755717809, 52.25035847048298, 24.382863707269497, 34.81412504060408, 36.3871819472432, 43.18225236506414, 78.72094561099894, 63.046302935910774, 23.239339243516024, 177.9352816794484, 27.314297130426528, 84.56239149886376, 67.80778596896769, 31.814683827751296, 44.93940193081214, 89.49500937806121, 139.1282489110532, 78.25915643276149, 14.312862314965216, 13.169220637307538, 12.447496624228702, 11.725717744857732, 11.294472978347356, 10.863325188286971, 10.29153182935249, 10.291526844741774, 9.860310605690783, 9.42915685430433, 8.857352810271788, 8.997884710184266, 8.566813524022718, 8.42612401378668, 8.426315402928454, 8.567746169994006, 8.135634709428206, 8.135637102053238, 8.135382729580037, 7.99525087574612, 7.423106716016071, 7.5648167801087105, 7.423126586113771, 7.132626220167195, 7.132557888904847, 7.132560829963508, 7.132756570426781, 7.13262109669, 7.13320644490218, 6.991965260100645, 7.993657795531693, 7.422560551870271, 9.714223049042578, 66.61097088213896, 81.2329445595853, 15.023600011940964, 18.009894657095682, 18.162229586708722, 17.114961533120862, 31.61146488492627, 223.99341294096018, 252.77448132070458, 139.1282489110532, 78.25915643276149, 18.99296143262368, 28.591650444221532, 31.45807459311765, 33.72931429281057, 35.01046811775891, 63.046302935910774, 108.56823118439765, 44.93940193081214, 89.49500937806121, 92.426513847436, 53.15199995155085, 82.37500967427727, 20.587379716503023, 67.80778596896769, 34.860649814232595, 177.9352816794484, 108.0810740819927, 78.72094561099894, 41.84102144961811, 37.543530317831156], \"Category\": [\"Default\", \"Default\", \"Default\", \"Default\", \"Default\", \"Default\", \"Default\", \"Default\", \"Default\", \"Default\", \"Default\", \"Default\", \"Default\", \"Default\", \"Default\", \"Default\", \"Default\", \"Default\", \"Default\", \"Default\", \"Default\", \"Default\", \"Default\", \"Default\", \"Default\", \"Default\", \"Default\", \"Default\", \"Default\", \"Default\", \"Topic1\", \"Topic1\", \"Topic1\", \"Topic1\", \"Topic1\", \"Topic1\", \"Topic1\", \"Topic1\", \"Topic1\", \"Topic1\", \"Topic1\", \"Topic1\", \"Topic1\", \"Topic1\", \"Topic1\", \"Topic1\", \"Topic1\", \"Topic1\", \"Topic1\", \"Topic1\", \"Topic1\", \"Topic1\", \"Topic1\", \"Topic1\", \"Topic1\", \"Topic1\", \"Topic1\", \"Topic1\", \"Topic1\", \"Topic1\", \"Topic1\", \"Topic1\", \"Topic1\", \"Topic1\", \"Topic1\", \"Topic1\", \"Topic1\", \"Topic1\", \"Topic1\", \"Topic1\", \"Topic1\", \"Topic1\", \"Topic1\", \"Topic1\", \"Topic1\", \"Topic1\", \"Topic1\", \"Topic1\", \"Topic1\", \"Topic1\", \"Topic1\", \"Topic1\", \"Topic1\", \"Topic1\", \"Topic1\", \"Topic1\", \"Topic1\", \"Topic1\", \"Topic1\", \"Topic1\", \"Topic1\", \"Topic2\", \"Topic2\", \"Topic2\", \"Topic2\", \"Topic2\", \"Topic2\", \"Topic2\", \"Topic2\", \"Topic2\", \"Topic2\", \"Topic2\", \"Topic2\", \"Topic2\", \"Topic2\", \"Topic2\", \"Topic2\", \"Topic2\", \"Topic2\", \"Topic2\", \"Topic2\", \"Topic2\", \"Topic2\", \"Topic2\", \"Topic2\", \"Topic2\", \"Topic2\", \"Topic2\", \"Topic2\", \"Topic2\", \"Topic2\", \"Topic2\", \"Topic2\", \"Topic2\", \"Topic2\", \"Topic2\", \"Topic2\", \"Topic2\", \"Topic2\", \"Topic2\", \"Topic2\", \"Topic2\", \"Topic2\", \"Topic2\", \"Topic2\", \"Topic2\", \"Topic2\", \"Topic2\", \"Topic2\", \"Topic2\", \"Topic2\", \"Topic2\", \"Topic2\", \"Topic2\", \"Topic2\", \"Topic2\", \"Topic2\", \"Topic2\", \"Topic3\", \"Topic3\", \"Topic3\", \"Topic3\", \"Topic3\", \"Topic3\", \"Topic3\", \"Topic3\", \"Topic3\", \"Topic3\", \"Topic3\", \"Topic3\", \"Topic3\", \"Topic3\", \"Topic3\", \"Topic3\", \"Topic3\", \"Topic3\", \"Topic3\", \"Topic3\", \"Topic3\", \"Topic3\", \"Topic3\", \"Topic3\", \"Topic3\", \"Topic3\", \"Topic3\", \"Topic3\", \"Topic3\", \"Topic3\", \"Topic3\", \"Topic3\", \"Topic3\", \"Topic3\", \"Topic3\", \"Topic3\", \"Topic3\", \"Topic3\", \"Topic3\", \"Topic3\", \"Topic3\", \"Topic3\", \"Topic3\", \"Topic3\", \"Topic3\", \"Topic3\", \"Topic3\", \"Topic3\", \"Topic3\", \"Topic3\", \"Topic3\", \"Topic3\", \"Topic3\", \"Topic3\", \"Topic3\", \"Topic3\", \"Topic3\", \"Topic4\", \"Topic4\", \"Topic4\", \"Topic4\", \"Topic4\", \"Topic4\", \"Topic4\", \"Topic4\", \"Topic4\", \"Topic4\", \"Topic4\", \"Topic4\", \"Topic4\", \"Topic4\", \"Topic4\", \"Topic4\", \"Topic4\", \"Topic4\", \"Topic4\", \"Topic4\", \"Topic4\", \"Topic4\", \"Topic4\", \"Topic4\", \"Topic4\", \"Topic4\", \"Topic4\", \"Topic4\", \"Topic4\", \"Topic4\", \"Topic4\", \"Topic4\", \"Topic4\", \"Topic4\", \"Topic4\", \"Topic4\", \"Topic4\", \"Topic4\", \"Topic4\", \"Topic4\", \"Topic4\", \"Topic4\", \"Topic4\", \"Topic4\", \"Topic4\", \"Topic4\", \"Topic4\", \"Topic4\", \"Topic4\", \"Topic4\", \"Topic4\", \"Topic4\", \"Topic4\", \"Topic4\", \"Topic4\", \"Topic4\", \"Topic4\", \"Topic4\", \"Topic4\", \"Topic4\", \"Topic4\", \"Topic5\", \"Topic5\", \"Topic5\", \"Topic5\", \"Topic5\", \"Topic5\", \"Topic5\", \"Topic5\", \"Topic5\", \"Topic5\", \"Topic5\", \"Topic5\", \"Topic5\", \"Topic5\", \"Topic5\", \"Topic5\", \"Topic5\", \"Topic5\", \"Topic5\", \"Topic5\", \"Topic5\", \"Topic5\", \"Topic5\", \"Topic5\", \"Topic5\", \"Topic5\", \"Topic5\", \"Topic5\", \"Topic5\", \"Topic5\", \"Topic5\", \"Topic5\", \"Topic5\", \"Topic5\", \"Topic5\", \"Topic5\", \"Topic5\", \"Topic5\", \"Topic5\", \"Topic5\", \"Topic5\", \"Topic5\", \"Topic5\", \"Topic5\", \"Topic5\", \"Topic5\", \"Topic5\", \"Topic5\", \"Topic5\", \"Topic5\", \"Topic5\", \"Topic5\", \"Topic5\", \"Topic5\", \"Topic5\", \"Topic5\", \"Topic5\", \"Topic5\", \"Topic5\", \"Topic5\", \"Topic5\", \"Topic5\", \"Topic5\", \"Topic5\"], \"logprob\": [30.0, 29.0, 28.0, 27.0, 26.0, 25.0, 24.0, 23.0, 22.0, 21.0, 20.0, 19.0, 18.0, 17.0, 16.0, 15.0, 14.0, 13.0, 12.0, 11.0, 10.0, 9.0, 8.0, 7.0, 6.0, 5.0, 4.0, 3.0, 2.0, 1.0, -4.6443, -5.2664, -5.3062, -5.337, -5.3799, -5.6004, -5.6561, -5.6563, -5.4278, -5.7472, -5.7957, -5.7959, -5.8836, -5.9009, -5.9391, -5.9393, -6.1053, -6.1516, -6.1522, -6.1523, -6.1756, -6.1756, -6.1761, -6.2258, -6.2258, -6.2262, -6.2515, -6.2515, -6.3057, -6.3079, -5.2416, -4.9691, -4.3281, -4.4387, -4.8259, -5.3278, -5.7062, -4.4485, -5.3748, -5.3658, -5.0323, -5.6084, -5.1481, -4.5957, -4.789, -5.27, -5.5012, -4.525, -5.3405, -4.2122, -4.5976, -5.3915, -4.6103, -5.1161, -5.3197, -5.2526, -5.0725, -5.2011, -5.2879, -5.2899, -5.3494, -4.6599, -4.8689, -4.8864, -5.0676, -4.9748, -5.4832, -5.5497, -5.5975, -5.5976, -5.6726, -5.6726, -5.6854, -5.7251, -5.7535, -5.8723, -5.9051, -5.9219, -5.9549, -5.9557, -6.0262, -6.0447, -6.0645, -6.0831, -6.0843, -6.0669, -6.1644, -6.1658, -6.2088, -6.2117, -6.3009, -6.2812, -5.1331, -4.1206, -4.0004, -5.1341, -5.1535, -4.3497, -4.518, -4.7522, -5.4996, -4.9088, -5.5099, -5.4557, -3.8887, -5.3065, -4.6772, -4.3221, -4.2277, -5.3288, -5.2991, -5.0387, -5.2739, -5.0959, -5.0319, -5.276, -5.4355, -5.3854, -4.5435, -5.2858, -5.5898, -5.6191, -5.7059, -5.7364, -5.7689, -5.8367, -5.8906, -5.8909, -5.9472, -5.9479, -5.9326, -6.0286, -6.0725, -6.1412, -6.1413, -6.1452, -6.215, -6.2153, -6.2173, -6.2197, -6.2207, -6.2209, -6.2967, -6.2973, -6.3224, -6.3229, -6.3231, -6.3234, -5.1278, -5.1918, -5.0725, -5.0022, -5.2375, -4.7814, -3.9049, -4.8911, -5.5716, -3.8226, -4.7148, -5.1107, -4.0491, -4.6871, -5.2369, -5.1002, -5.2506, -5.0073, -5.3612, -5.2002, -5.5599, -5.1372, -4.9181, -5.1403, -5.4732, -5.3923, -5.6064, -5.1419, -5.3774, -5.4401, -5.5056, -5.547, -5.6527, -5.6848, -5.517, -5.7021, -5.7894, -5.8062, -5.7621, -5.8827, -5.9246, -5.988, -6.0107, -6.0569, -5.8806, -6.057, -6.0585, -6.0586, -6.0805, -6.1307, -6.131, -6.1572, -6.2109, -6.2111, -6.2113, -6.239, -6.2152, -4.9257, -4.8624, -3.2799, -4.6167, -5.6046, -5.4284, -5.1634, -4.6934, -5.4749, -5.0401, -5.4795, -5.0607, -4.4031, -5.1192, -4.8702, -5.3165, -5.14, -5.1301, -5.0709, -4.8219, -4.9457, -5.3935, -4.6895, -5.3425, -5.0467, -5.1225, -5.3666, -5.363, -5.3091, -5.3454, -5.4381, -5.5378, -5.626, -5.6856, -5.748, -5.7883, -5.8291, -5.8866, -5.8868, -5.9325, -5.9802, -6.0482, -6.0325, -6.0846, -6.1018, -6.102, -6.0858, -6.1396, -6.1413, -6.1419, -6.1596, -6.2407, -6.2225, -6.2414, -6.2838, -6.2839, -6.2839, -6.2842, -6.2845, -6.2855, -6.3057, -6.1728, -6.2471, -5.9969, -4.2205, -4.0455, -5.6369, -5.5121, -5.5319, -5.5908, -5.1307, -3.7294, -3.6939, -4.1304, -4.5593, -5.5527, -5.2705, -5.2269, -5.1904, -5.2107, -4.875, -4.6496, -5.1552, -4.879, -4.88, -5.167, -5.1436, -5.6447, -5.2464, -5.475, -5.1615, -5.5277, -5.5724, -5.608, -5.6191], \"loglift\": [30.0, 29.0, 28.0, 27.0, 26.0, 25.0, 24.0, 23.0, 22.0, 21.0, 20.0, 19.0, 18.0, 17.0, 16.0, 15.0, 14.0, 13.0, 12.0, 11.0, 10.0, 9.0, 8.0, 7.0, 6.0, 5.0, 4.0, 3.0, 2.0, 1.0, 1.6526, 1.6322, 1.6304, 1.6293, 1.6271, 1.6151, 1.6121, 1.6118, 1.6106, 1.6058, 1.6027, 1.6025, 1.5956, 1.5948, 1.5918, 1.5915, 1.5769, 1.573, 1.5724, 1.5723, 1.5702, 1.5701, 1.5697, 1.5653, 1.5652, 1.5648, 1.5622, 1.5622, 1.5565, 1.5542, 1.4918, 1.4544, 1.3958, 1.3506, 1.393, 1.4549, 1.4881, 1.2912, 1.4156, 1.4127, 1.3206, 1.4418, 1.2374, 1.0347, 1.0888, 1.2298, 1.3525, 0.7345, 1.2526, -0.0043, 0.0866, 1.0693, -0.1722, 0.398, 0.8114, 0.5729, 0.0207, 0.0526, 0.1328, 0.0385, -0.1272, 1.4602, 1.4558, 1.4553, 1.4504, 1.4451, 1.4355, 1.4326, 1.4302, 1.43, 1.4263, 1.4263, 1.4256, 1.424, 1.4221, 1.415, 1.4128, 1.4111, 1.41, 1.4093, 1.4047, 1.4032, 1.4018, 1.4007, 1.3996, 1.3996, 1.3941, 1.3929, 1.39, 1.3872, 1.382, 1.3805, 1.2678, 1.0615, 0.9363, 1.0882, 1.0705, 0.7757, 0.8104, 0.8943, 1.1836, 0.9166, 1.1734, 1.1449, 0.1984, 1.0102, 0.4159, 0.1161, -0.0197, 0.8777, 0.7717, 0.215, 0.5803, 0.1124, -0.3477, 0.127, 0.3042, -0.4531, 1.6625, 1.6387, 1.6231, 1.6202, 1.6151, 1.6141, 1.6119, 1.6067, 1.6027, 1.6024, 1.5985, 1.5978, 1.5957, 1.5913, 1.5873, 1.5809, 1.5808, 1.5769, 1.5736, 1.5733, 1.5711, 1.5688, 1.5678, 1.5675, 1.563, 1.5624, 1.5618, 1.5612, 1.561, 1.5607, 1.4924, 1.4441, 1.4268, 1.411, 1.3473, 1.2424, 1.0273, 1.2047, 1.3611, 0.6155, 0.9156, 0.9575, 0.1589, 0.5212, 0.8943, 0.7856, 0.8219, 0.5067, 0.8769, 0.5951, 1.0589, 0.2657, -0.2339, -0.0472, 0.6038, 0.2712, 0.2027, 1.7326, 1.7214, 1.7168, 1.7141, 1.7121, 1.7045, 1.7027, 1.7019, 1.7004, 1.6939, 1.6936, 1.6878, 1.6873, 1.683, 1.6783, 1.6755, 1.6716, 1.6716, 1.6715, 1.6701, 1.6698, 1.6692, 1.6643, 1.664, 1.6604, 1.6552, 1.655, 1.6548, 1.6514, 1.6506, 1.6096, 1.436, 0.8072, 1.1924, 1.459, 1.3717, 1.2536, 1.0243, 1.343, 1.0831, 1.307, 1.0118, 0.5336, 1.0265, 0.7934, 1.1092, 0.9295, 0.8953, 0.7833, 0.4318, 0.5301, 1.0802, -0.2513, 0.9697, 0.1354, 0.2804, 0.793, 0.4513, -0.1837, -0.6612, -0.1785, 1.4206, 1.4157, 1.4124, 1.4098, 1.407, 1.4051, 1.4017, 1.4015, 1.3985, 1.3956, 1.3902, 1.3901, 1.3871, 1.3864, 1.3862, 1.3858, 1.3838, 1.3821, 1.3815, 1.3811, 1.3743, 1.3736, 1.3736, 1.3712, 1.371, 1.371, 1.3707, 1.3705, 1.3693, 1.3691, 1.3682, 1.368, 1.3491, 1.2002, 1.1767, 1.2731, 1.2166, 1.1883, 1.1889, 1.0354, 0.4786, 0.3932, 0.5538, 0.7003, 1.1228, 0.9959, 0.9441, 0.9108, 0.8533, 0.6007, 0.2826, 0.6591, 0.2465, 0.2132, 0.4795, 0.0647, 0.9502, 0.1565, 0.5933, -0.7233, -0.591, -0.3187, 0.2777, 0.375]}, \"token.table\": {\"Topic\": [5, 1, 2, 3, 5, 2, 1, 2, 3, 5, 1, 2, 3, 4, 5, 2, 3, 4, 5, 1, 3, 3, 1, 2, 3, 4, 5, 1, 2, 3, 4, 5, 1, 2, 3, 4, 3, 3, 1, 3, 1, 2, 3, 4, 2, 4, 5, 5, 1, 2, 3, 5, 5, 3, 2, 4, 5, 3, 5, 4, 5, 3, 2, 3, 2, 3, 4, 1, 4, 1, 5, 4, 4, 4, 4, 1, 4, 5, 5, 4, 2, 1, 2, 3, 4, 5, 5, 2, 2, 3, 4, 1, 4, 5, 3, 1, 2, 4, 5, 2, 5, 5, 2, 3, 4, 5, 1, 1, 2, 3, 5, 3, 2, 3, 4, 3, 3, 1, 2, 4, 5, 2, 4, 5, 5, 2, 1, 1, 2, 3, 4, 5, 2, 4, 5, 1, 3, 5, 3, 2, 4, 5, 2, 3, 3, 1, 2, 1, 2, 1, 1, 2, 3, 4, 5, 2, 3, 4, 5, 1, 1, 3, 5, 2, 3, 4, 2, 3, 2, 3, 5, 5, 1, 3, 5, 1, 1, 1, 3, 5, 5, 2, 1, 2, 4, 5, 1, 2, 3, 1, 3, 1, 1, 3, 4, 5, 4, 3, 5, 1, 5, 1, 3, 4, 5, 2, 2, 1, 5, 2, 5, 1, 2, 5, 3, 1, 2, 3, 5, 3, 3, 4, 4, 4, 5, 4, 3, 4, 5, 1, 5, 2, 2, 1, 5, 1, 4, 3, 2, 3, 5, 1, 2, 3, 1, 3, 4, 1, 4, 5, 1, 3, 5, 1, 5, 1, 2, 3, 4, 5, 5, 2, 4, 5, 5, 1, 2, 4, 5, 1, 3, 2, 2, 2, 4, 4, 2, 5, 2, 3, 4, 1, 3, 4, 5, 2, 4, 4, 4, 5, 1, 5, 5, 5, 2, 3, 3, 3, 2, 3, 4, 5, 1, 1, 4, 2, 5, 4, 3, 2, 4, 2, 1, 3, 4, 5, 1, 4, 2, 2, 3, 1, 1, 4, 5, 4, 5, 3, 1, 2, 5, 2, 1, 3, 4, 1, 1, 2, 2, 4, 5, 1, 1, 2, 1, 1, 1, 2, 4, 5, 1, 3, 5, 4, 1, 3, 4, 5, 2, 4, 5, 5, 2, 3, 4, 5, 3, 1, 4, 2, 2, 2, 4, 1, 5, 2, 3, 4, 5, 4, 1, 2, 3, 4, 3, 3, 4, 3, 2, 3, 5, 5, 4, 1, 4, 2, 1, 2, 3, 4, 5, 5, 1, 5, 4, 1, 4, 5, 1, 3, 1, 1, 2, 4, 3, 3, 4, 1, 2, 3, 4, 5, 2, 4, 4, 1, 5, 2, 3, 5, 1, 2, 4, 5, 4, 1], \"Freq\": [0.912750151583028, 0.3375355400797227, 0.5625592334662045, 0.09000947735459272, 0.8604389286502999, 0.8965793212771908, 0.19474931219099895, 0.34622099945066476, 0.17311049972533238, 0.28130456205366516, 0.08617192006121274, 0.22979178682990067, 0.20106781347616307, 0.43085960030606374, 0.028723973353737584, 0.2654562413855795, 0.23596110345384846, 0.22121353448798292, 0.2654562413855795, 0.630326283989525, 0.3394064606097442, 0.9615003678922632, 0.1456752484454902, 0.25493168477960787, 0.3156297049652288, 0.03641881211137255, 0.24279208074248368, 0.2801762274363666, 0.1648095455508039, 0.3131381365465274, 0.11536668188556273, 0.13184763644064312, 0.1010180936370739, 0.22223980600156257, 0.2020361872741478, 0.46468323073053996, 0.8815903838020771, 0.9011303985970804, 0.2404305814710155, 0.7212917444130464, 0.16489323104765957, 0.1923754362222695, 0.24733984657148936, 0.4122330776191489, 0.28459788673467007, 0.6098526144314359, 0.12197052288628718, 0.8412125943313823, 0.18750551388343858, 0.22322084986123641, 0.21875643286401167, 0.37054661076965245, 0.8411364575446939, 0.8996730742850305, 0.9299308349174384, 0.9053715427968867, 0.8412048822964054, 0.1331238849816537, 0.7987433098899221, 0.9437386453836066, 0.9429988723477649, 0.9306308994076401, 0.9785848560084287, 0.9592942552623152, 0.24872276911958882, 0.5471900920630954, 0.19897821529567106, 0.6920656105733268, 0.25166022202666427, 0.38146009109614554, 0.6039784775688971, 0.9015429534237243, 0.9647876637311291, 0.9054827909535488, 0.824843832196003, 0.7658468482559723, 0.15316936965119446, 0.9032043965463898, 0.8604122788216948, 0.8655396369016923, 0.989488897437856, 0.07930679147170154, 0.12689086635472246, 0.07930679147170154, 0.2855044492981255, 0.412395315652848, 0.9494066644146392, 0.9668206434347103, 0.6252359895492097, 0.22067152572325047, 0.14711435048216698, 0.39611978218337307, 0.1405586323876485, 0.46001006963230423, 0.8815593911979308, 0.9018971989713278, 0.18183937039577897, 0.515211549454707, 0.3030656173262983, 0.9637803333679884, 0.8411895093794006, 0.8412054865474895, 0.1473727611240604, 0.5158046639342114, 0.027632392710761327, 0.30395631981837457, 0.8624002278889378, 0.23972172898523303, 0.15981448599015535, 0.26635747665025894, 0.3462647196453366, 0.8996613507725023, 0.3538563429322167, 0.6192486001313793, 0.8679050282424464, 0.8646988804407407, 0.8798626932352984, 0.22002418876449886, 0.09429608089907093, 0.37718432359628373, 0.3143202696635698, 0.2892784381068212, 0.2670262505601426, 0.44504375093357107, 0.9430013965577003, 0.8912982875450539, 0.9018982379082494, 0.20324959101818094, 0.2794681876499988, 0.08892169607045416, 0.26676508821136247, 0.165140292702272, 0.41012409863155674, 0.5331613282210238, 0.08202481972631134, 0.6183549212415957, 0.2208410433005699, 0.13250462598034193, 0.8798874912300815, 0.32612581164582577, 0.0889434031761343, 0.5633082201155173, 0.20242235601772837, 0.8096894240709135, 0.8603771644343469, 0.8368313795065129, 0.16736627590130257, 0.9570071221303328, 0.891224809344218, 0.9638531209732004, 0.06550202740984876, 0.21834009136616253, 0.32751013704924375, 0.087336036546465, 0.262008109639395, 0.9278120510536438, 0.8815564438733885, 0.8658229717917438, 0.9338361314351851, 0.9763120632565877, 0.3183157715868247, 0.3472535690038088, 0.3472535690038088, 0.4759232867523535, 0.4419287662700426, 0.06798904096462192, 0.9453007724385587, 0.925229399745071, 0.9442141932743461, 0.7695430960838459, 0.20251134107469626, 0.9716731201171842, 0.314777211534458, 0.03497524572605088, 0.629554423068916, 0.9858442160046454, 0.9522750676988679, 0.04857344712005245, 0.34001412984036716, 0.5828813654406294, 0.9381088850466324, 0.9452257497062972, 0.681571487270503, 0.30980522148659223, 0.6677527339159859, 0.30352396996181175, 0.19207025355788956, 0.1646316459067625, 0.6310879759759229, 0.8215997361935626, 0.9036350791501615, 0.9081603034883595, 0.1913862467689892, 0.24880212079968594, 0.3827724935379784, 0.1913862467689892, 0.9373286326905724, 0.748997571641528, 0.272362753324192, 0.686377382189785, 0.2669245375182497, 0.42768361442183755, 0.45823244402339736, 0.12219531840623929, 0.9716726494960632, 0.9279629505728264, 0.970803131130808, 0.7521435958953033, 0.24393846353361187, 0.9733194253608691, 0.9640492672753441, 0.197646071404614, 0.5599972023130729, 0.263528095206152, 0.9613050989116124, 0.9871151926368871, 0.6692730242051409, 0.10039095363077113, 0.20078190726154227, 0.907721017406367, 0.8469399883935376, 0.14945999795180073, 0.850835201077401, 0.9447498565103007, 0.9494282290303985, 0.9054957090732759, 0.4321090433341078, 0.460916312889715, 0.11522907822242875, 0.22023727763728054, 0.7708304717304819, 0.9549373384390057, 0.8651038562052298, 0.5521735688459316, 0.42474889911225505, 0.952267485866099, 0.8856030296117312, 0.9615123184004625, 0.564419025198405, 0.0564419025198405, 0.37627935013227, 0.7586760954243882, 0.17507909894408957, 0.8603752323988291, 0.1992449965138518, 0.22138332945983535, 0.5534583236495884, 0.21017558841427958, 0.015012542029591399, 0.7656396435091614, 0.2867998816532125, 0.406299832342051, 0.3106998717909802, 0.6302786126712281, 0.31513930633561404, 0.1916501653139709, 0.5065040083297802, 0.09582508265698544, 0.1368929752242649, 0.05475719008970597, 0.9205284594428027, 0.27692668830437966, 0.37978517253172067, 0.34022421705966643, 0.9871502921875159, 0.23006688358791993, 0.4888921276243299, 0.11503344179395997, 0.14379180224244997, 0.820509336766803, 0.17582342930717207, 0.9289475554578088, 0.9288057071027245, 0.9007994298372713, 0.9676617824620062, 0.905489725196056, 0.23371364243262846, 0.7595693379060425, 0.2581829000010855, 0.2581829000010855, 0.516365800002171, 0.06326818473235916, 0.18980455419707748, 0.09490227709853874, 0.6643159396897712, 0.2981855606469221, 0.6560082334232287, 0.93690229217239, 0.22210013307457344, 0.777350465761007, 0.7677346300867367, 0.17716953002001615, 0.9337344782712671, 0.8412129411993118, 0.8001454249071684, 0.16002908498143367, 0.8996846053960804, 0.9613676835198078, 0.49164752655790156, 0.06704284453062294, 0.14525949648301636, 0.29051899296603273, 0.8668799498964049, 0.7670486333077119, 0.2334495840501732, 0.9765831713617882, 0.9544861899175616, 0.9248713580051665, 0.845317212942827, 0.13728768637915517, 0.869488680401316, 0.9145507303648421, 0.16003359314969, 0.07386165837678, 0.01231027639613, 0.7509268601639301, 0.9212100397544059, 0.9636605542588884, 0.9399686719133705, 0.9648166903643066, 0.9476163190581325, 0.9211895562140296, 0.9034783363445748, 0.26325541794717905, 0.6844640866626656, 0.10294184053129794, 0.9264765647816815, 0.9614901379311265, 0.21223544857432877, 0.7428240700101507, 0.9253363569103397, 0.9441725283096556, 0.8644379563553309, 0.2328407055933775, 0.6985221167801325, 0.9535019460094455, 0.2442445409537624, 0.7327336228612872, 0.41683791405384385, 0.37052259027008344, 0.20841895702692192, 0.821617603698549, 0.7960998448256335, 0.08845553831395926, 0.9734622080507488, 0.9330338551562114, 0.5453808857600119, 0.11856106212174171, 0.16598548697043838, 0.16598548697043838, 0.518410897638907, 0.46286687289188133, 0.8755197440063764, 0.9657493545984916, 0.9565797513570705, 0.4876558552577351, 0.08605691563371796, 0.4302845781685898, 0.6622329265694011, 0.18920940759125748, 0.1419070556934431, 0.8581278334202757, 0.329497770234568, 0.18305431679698222, 0.43933036031275735, 0.036610863359396444, 0.9876357632794261, 0.976311977775749, 0.8658201219978197, 0.8469944085611204, 0.9804748593562026, 0.7427962012980655, 0.21222748608516157, 0.8624466119171668, 0.8890978555154403, 0.9733291194050082, 0.10832520358786442, 0.7221680239190962, 0.18054200597977405, 0.9136956986802254, 0.9638380020413811, 0.3409384557426873, 0.18596643040510216, 0.46491607601275536, 0.9614792232422367, 0.9541476016868904, 0.9065183899679445, 0.9541544075430423, 0.17137731434549217, 0.28562885724248693, 0.5426948287607252, 0.943070784142839, 0.9803484207345617, 0.818413726941663, 0.1636827453883326, 0.9301972787975448, 0.1573605849032357, 0.2529009400230574, 0.3428212742534778, 0.12926048045622934, 0.11240041778802551, 0.8756942289814896, 0.9638559524991649, 0.9781411776288734, 0.9676593428470194, 0.3529791592434298, 0.6471284586129546, 0.9739276919859926, 0.22071647385262175, 0.7945793058694384, 0.9408918379491963, 0.9212118112170034, 0.9119003188324298, 0.9361196527396373, 0.9454666980831213, 0.881567187716775, 0.9072778557360451, 0.2012531618787269, 0.15812748433328544, 0.14375225848480494, 0.08625135509088297, 0.4025063237574538, 0.9648187798959028, 0.9604973353378828, 0.8658233801945113, 0.7162113557073759, 0.26044049298450034, 0.6703662349021954, 0.3351831174510977, 0.8604120257814067, 0.8668759132840583, 0.5828957616780048, 0.2868217240002881, 0.12953239148400109, 0.887127471894857, 0.9018878341431924], \"Term\": [\"abstract\", \"adaptive\", \"adaptive\", \"adaptive\", \"admission\", \"aggregation\", \"algorithm\", \"algorithm\", \"algorithm\", \"algorithm\", \"amplifier\", \"amplifier\", \"amplifier\", \"amplifier\", \"amplifier\", \"analysis\", \"analysis\", \"analysis\", \"analysis\", \"animation\", \"animation\", \"annotation\", \"application\", \"application\", \"application\", \"application\", \"application\", \"approach\", \"approach\", \"approach\", \"approach\", \"approach\", \"architecture\", \"architecture\", \"architecture\", \"architecture\", \"augmented\", \"automated\", \"automatic\", \"automatic\", \"aware\", \"aware\", \"aware\", \"aware\", \"bandwidth\", \"bandwidth\", \"bandwidth\", \"base\", \"based\", \"based\", \"based\", \"based\", \"binary\", \"biomedical\", \"blind\", \"broadband\", \"browsing\", \"buffer\", \"buffer\", \"caching\", \"capacity\", \"challenge\", \"channel\", \"characteristic\", \"classification\", \"classification\", \"classification\", \"cloud\", \"cloud\", \"coding\", \"coding\", \"cognitive\", \"collection\", \"comparator\", \"composition\", \"computer\", \"computer\", \"congestion\", \"connected\", \"consumption\", \"continuous\", \"control\", \"control\", \"control\", \"control\", \"control\", \"conversion\", \"converter\", \"current\", \"current\", \"current\", \"database\", \"database\", \"database\", \"decomposition\", \"deformation\", \"delay\", \"delay\", \"delay\", \"delta\", \"dependent\", \"deployment\", \"design\", \"design\", \"design\", \"design\", \"detect\", \"detection\", \"detection\", \"detection\", \"detection\", \"development\", \"digital\", \"digital\", \"dimensional\", \"direct\", \"distortion\", \"distributed\", \"distributed\", \"distributed\", \"distributed\", \"dynamic\", \"dynamic\", \"dynamic\", \"dynamics\", \"early\", \"editing\", \"efficient\", \"efficient\", \"efficient\", \"efficient\", \"efficient\", \"energy\", \"energy\", \"energy\", \"engine\", \"engine\", \"engine\", \"engineering\", \"estimation\", \"estimation\", \"estimation\", \"evaluation\", \"evaluation\", \"exploratory\", \"extraction\", \"extraction\", \"feature\", \"feedback\", \"fields\", \"filter\", \"filter\", \"filter\", \"filter\", \"filter\", \"fixed\", \"flash\", \"fourier\", \"fpgas\", \"frame\", \"framework\", \"framework\", \"framework\", \"frequency\", \"frequency\", \"frequency\", \"generalized\", \"generated\", \"generating\", \"generation\", \"generation\", \"global\", \"graph\", \"graph\", \"graph\", \"graphics\", \"h.264\", \"hardware\", \"hardware\", \"hardware\", \"hierarchical\", \"identification\", \"image\", \"image\", \"impact\", \"impact\", \"implementation\", \"implementation\", \"implementation\", \"importance\", \"index\", \"indexing\", \"information\", \"information\", \"information\", \"information\", \"integration\", \"interaction\", \"interaction\", \"interactive\", \"interactive\", \"internet\", \"internet\", \"internet\", \"issue\", \"iterative\", \"joint\", \"large\", \"large\", \"latency\", \"layer\", \"level\", \"level\", \"level\", \"lifetime\", \"light\", \"linear\", \"linear\", \"linear\", \"localization\", \"location\", \"location\", \"locking\", \"lossless\", \"machine\", \"maintenance\", \"management\", \"management\", \"management\", \"mapping\", \"mapping\", \"matrix\", \"maximum\", \"measurement\", \"measurement\", \"mechanism\", \"medium\", \"metadata\", \"method\", \"method\", \"method\", \"mining\", \"mining\", \"missing\", \"mobile\", \"mobile\", \"mobile\", \"model\", \"model\", \"model\", \"modeling\", \"modeling\", \"modeling\", \"motion\", \"motion\", \"multi\", \"multi\", \"multi\", \"multi\", \"multi\", \"multipath\", \"network\", \"network\", \"network\", \"neural\", \"noise\", \"noise\", \"noise\", \"noise\", \"object\", \"object\", \"office\", \"operating\", \"operation\", \"operational\", \"opportunity\", \"optical\", \"optical\", \"optimal\", \"optimal\", \"optimal\", \"optimization\", \"optimization\", \"optimization\", \"optimization\", \"order\", \"order\", \"oscillator\", \"packet\", \"packet\", \"panel\", \"panel\", \"paper\", \"partial\", \"pattern\", \"pattern\", \"personalized\", \"polynomial\", \"power\", \"power\", \"power\", \"power\", \"price\", \"processing\", \"processing\", \"processor\", \"program\", \"propagation\", \"protection\", \"protocol\", \"protocol\", \"pulse\", \"query\", \"query\", \"query\", \"query\", \"querying\", \"radio\", \"range\", \"ratio\", \"reality\", \"recognition\", \"recommendation\", \"reconfigurable\", \"reconfigurable\", \"recovery\", \"recovery\", \"recursive\", \"reduction\", \"reduction\", \"representation\", \"resistor\", \"resolution\", \"response\", \"response\", \"result\", \"robust\", \"robust\", \"routing\", \"routing\", \"routing\", \"rule\", \"sampling\", \"sampling\", \"scale\", \"schema\", \"scheme\", \"scheme\", \"scheme\", \"scheme\", \"search\", \"search\", \"searching\", \"second\", \"segmentation\", \"semantic\", \"semantic\", \"semantic\", \"sensor\", \"sensor\", \"sensor\", \"sequence\", \"service\", \"service\", \"service\", \"service\", \"services\", \"session\", \"shared\", \"short\", \"sigma\", \"signal\", \"signal\", \"simulating\", \"site\", \"smart\", \"social\", \"social\", \"social\", \"solution\", \"specific\", \"speed\", \"speed\", \"speed\", \"square\", \"state\", \"storage\", \"strategy\", \"structure\", \"structure\", \"structure\", \"structured\", \"support\", \"surface\", \"surface\", \"switching\", \"system\", \"system\", \"system\", \"system\", \"system\", \"table\", \"target\", \"technology\", \"three\", \"tolerant\", \"tolerant\", \"toward\", \"towards\", \"towards\", \"translation\", \"tree\", \"tuning\", \"uncertainty\", \"understanding\", \"uniform\", \"update\", \"using\", \"using\", \"using\", \"using\", \"using\", \"variation\", \"varying\", \"vehicular\", \"video\", \"video\", \"voltage\", \"voltage\", \"wavelength\", \"wikipedia\", \"wireless\", \"wireless\", \"wireless\", \"without\", \"write\"]}, \"R\": 30, \"lambda.step\": 0.01, \"plot.opts\": {\"xlab\": \"PC1\", \"ylab\": \"PC2\"}, \"topic.order\": [1, 2, 3, 4, 5]};\n",
              "\n",
              "function LDAvis_load_lib(url, callback){\n",
              "  var s = document.createElement('script');\n",
              "  s.src = url;\n",
              "  s.async = true;\n",
              "  s.onreadystatechange = s.onload = callback;\n",
              "  s.onerror = function(){console.warn(\"failed to load library \" + url);};\n",
              "  document.getElementsByTagName(\"head\")[0].appendChild(s);\n",
              "}\n",
              "\n",
              "if(typeof(LDAvis) !== \"undefined\"){\n",
              "   // already loaded: just create the visualization\n",
              "   !function(LDAvis){\n",
              "       new LDAvis(\"#\" + \"ldavis_el724139823052651728891209806\", ldavis_el724139823052651728891209806_data);\n",
              "   }(LDAvis);\n",
              "}else if(typeof define === \"function\" && define.amd){\n",
              "   // require.js is available: use it to load d3/LDAvis\n",
              "   require.config({paths: {d3: \"https://d3js.org/d3.v5\"}});\n",
              "   require([\"d3\"], function(d3){\n",
              "      window.d3 = d3;\n",
              "      LDAvis_load_lib(\"https://cdn.jsdelivr.net/gh/bmabey/pyLDAvis@3.3.1/pyLDAvis/js/ldavis.v3.0.0.js\", function(){\n",
              "        new LDAvis(\"#\" + \"ldavis_el724139823052651728891209806\", ldavis_el724139823052651728891209806_data);\n",
              "      });\n",
              "    });\n",
              "}else{\n",
              "    // require.js not available: dynamically load d3 & LDAvis\n",
              "    LDAvis_load_lib(\"https://d3js.org/d3.v5.js\", function(){\n",
              "         LDAvis_load_lib(\"https://cdn.jsdelivr.net/gh/bmabey/pyLDAvis@3.3.1/pyLDAvis/js/ldavis.v3.0.0.js\", function(){\n",
              "                 new LDAvis(\"#\" + \"ldavis_el724139823052651728891209806\", ldavis_el724139823052651728891209806_data);\n",
              "            })\n",
              "         });\n",
              "}\n",
              "</script>"
            ],
            "text/plain": [
              "<IPython.core.display.HTML object>"
            ]
          },
          "metadata": {
            "tags": []
          },
          "execution_count": 0
        }
      ]
    },
    {
      "cell_type": "markdown",
      "metadata": {
        "id": "Z8EKJAcX9bQ2"
      },
      "source": [
        "----------------------------------"
      ]
    }
  ]
}
