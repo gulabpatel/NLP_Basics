{
  "nbformat": 4,
  "nbformat_minor": 5,
  "metadata": {
    "kernelspec": {
      "display_name": "Python 3",
      "language": "python",
      "name": "python3"
    },
    "language_info": {
      "codemirror_mode": {
        "name": "ipython",
        "version": 3
      },
      "file_extension": ".py",
      "mimetype": "text/x-python",
      "name": "python",
      "nbconvert_exporter": "python",
      "pygments_lexer": "ipython3",
      "version": "3.8.5"
    },
    "colab": {
      "name": "Part 8.1: TextHero_NLP.ipynb",
      "provenance": [],
      "include_colab_link": true
    }
  },
  "cells": [
    {
      "cell_type": "markdown",
      "metadata": {
        "id": "view-in-github",
        "colab_type": "text"
      },
      "source": [
        "<a href=\"https://colab.research.google.com/github/gulabpatel/NLP_Basics/blob/main/Part%208.1%3A%20TextHero_NLP.ipynb\" target=\"_parent\"><img src=\"https://colab.research.google.com/assets/colab-badge.svg\" alt=\"Open In Colab\"/></a>"
      ]
    },
    {
      "cell_type": "markdown",
      "metadata": {
        "id": "perfect-indie"
      },
      "source": [
        "## TextHero"
      ],
      "id": "perfect-indie"
    },
    {
      "cell_type": "markdown",
      "metadata": {
        "id": "eastern-texture"
      },
      "source": [
        "Under the hoods, Texthero makes use of multiple NLP and machine learning toolkits such as Gensim, NLTK, SpaCy and scikit-learn. You don't need to install them all separately, pip will take care of that."
      ],
      "id": "eastern-texture"
    },
    {
      "cell_type": "markdown",
      "metadata": {
        "id": "inside-anniversary"
      },
      "source": [
        "Texthero include tools for:\n",
        "\n",
        "- Preprocess text data: it offers both out-of-the-box solutions but it's also flexible for custom-solutions.\n",
        "- Natural Language Processing: keyphrases and keywords extraction, and named entity recognition.\n",
        "- Text representation: TF-IDF, term frequency, and custom word-embeddings (wip)\n",
        "- Vector space analysis: clustering (K-means, Meanshift, DBSAN and Hierarchical), topic modelling (wip) and interpretation.\n",
        "- Text visualization: vector space visualization, place localization on maps (wip)."
      ],
      "id": "inside-anniversary"
    },
    {
      "cell_type": "markdown",
      "metadata": {
        "id": "sought-trail"
      },
      "source": [
        "Supported representation algorithms:\n",
        "\n",
        "- Term frequency (count)\n",
        "- Term frequency-inverse document frequency (tfidf)\n",
        "*********************************\n",
        "Supported clustering algorithms:\n",
        "*********************************\n",
        "- K-means (kmeans)\n",
        "- Density-Based Spatial Clustering of Applications with Noise (dbscan)\n",
        "- Meanshift (meanshift)\n",
        "********************************\n",
        "Supported dimensionality reduction algorithms:\n",
        "*******************************\n",
        "\n",
        "- Principal component analysis (pca)\n",
        "- t-distributed stochastic neighbor embedding (tsne)\n",
        "- Non-negative matrix factorization (nmf)"
      ],
      "id": "sought-trail"
    },
    {
      "cell_type": "code",
      "metadata": {
        "id": "helpful-berry",
        "colab": {
          "base_uri": "https://localhost:8080/"
        },
        "outputId": "b71de6a3-869b-4c20-e331-d6ecf910dad1"
      },
      "source": [
        "!pip install texthero"
      ],
      "id": "helpful-berry",
      "execution_count": 1,
      "outputs": [
        {
          "output_type": "stream",
          "text": [
            "Requirement already satisfied: texthero in /usr/local/lib/python3.7/dist-packages (1.0.9)\n",
            "Requirement already satisfied: scikit-learn>=0.22 in /usr/local/lib/python3.7/dist-packages (from texthero) (0.22.2.post1)\n",
            "Requirement already satisfied: tqdm>=4.3 in /usr/local/lib/python3.7/dist-packages (from texthero) (4.41.1)\n",
            "Requirement already satisfied: pandas>=1.0.2 in /usr/local/lib/python3.7/dist-packages (from texthero) (1.1.5)\n",
            "Requirement already satisfied: numpy>=1.17 in /usr/local/lib/python3.7/dist-packages (from texthero) (1.19.5)\n",
            "Requirement already satisfied: unidecode>=1.1.1 in /usr/local/lib/python3.7/dist-packages (from texthero) (1.2.0)\n",
            "Requirement already satisfied: plotly>=4.2.0 in /usr/local/lib/python3.7/dist-packages (from texthero) (4.4.1)\n",
            "Requirement already satisfied: matplotlib>=3.1.0 in /usr/local/lib/python3.7/dist-packages (from texthero) (3.2.2)\n",
            "Requirement already satisfied: spacy>=2.2.2 in /usr/local/lib/python3.7/dist-packages (from texthero) (2.2.4)\n",
            "Requirement already satisfied: wordcloud>=1.5.0 in /usr/local/lib/python3.7/dist-packages (from texthero) (1.5.0)\n",
            "Requirement already satisfied: nltk>=3.3 in /usr/local/lib/python3.7/dist-packages (from texthero) (3.6.2)\n",
            "Requirement already satisfied: gensim>=3.6.0 in /usr/local/lib/python3.7/dist-packages (from texthero) (3.6.0)\n",
            "Requirement already satisfied: joblib>=0.11 in /usr/local/lib/python3.7/dist-packages (from scikit-learn>=0.22->texthero) (1.0.1)\n",
            "Requirement already satisfied: scipy>=0.17.0 in /usr/local/lib/python3.7/dist-packages (from scikit-learn>=0.22->texthero) (1.4.1)\n",
            "Requirement already satisfied: python-dateutil>=2.7.3 in /usr/local/lib/python3.7/dist-packages (from pandas>=1.0.2->texthero) (2.8.1)\n",
            "Requirement already satisfied: pytz>=2017.2 in /usr/local/lib/python3.7/dist-packages (from pandas>=1.0.2->texthero) (2018.9)\n",
            "Requirement already satisfied: retrying>=1.3.3 in /usr/local/lib/python3.7/dist-packages (from plotly>=4.2.0->texthero) (1.3.3)\n",
            "Requirement already satisfied: six in /usr/local/lib/python3.7/dist-packages (from plotly>=4.2.0->texthero) (1.15.0)\n",
            "Requirement already satisfied: cycler>=0.10 in /usr/local/lib/python3.7/dist-packages (from matplotlib>=3.1.0->texthero) (0.10.0)\n",
            "Requirement already satisfied: pyparsing!=2.0.4,!=2.1.2,!=2.1.6,>=2.0.1 in /usr/local/lib/python3.7/dist-packages (from matplotlib>=3.1.0->texthero) (2.4.7)\n",
            "Requirement already satisfied: kiwisolver>=1.0.1 in /usr/local/lib/python3.7/dist-packages (from matplotlib>=3.1.0->texthero) (1.3.1)\n",
            "Requirement already satisfied: cymem<2.1.0,>=2.0.2 in /usr/local/lib/python3.7/dist-packages (from spacy>=2.2.2->texthero) (2.0.5)\n",
            "Requirement already satisfied: wasabi<1.1.0,>=0.4.0 in /usr/local/lib/python3.7/dist-packages (from spacy>=2.2.2->texthero) (0.8.2)\n",
            "Requirement already satisfied: thinc==7.4.0 in /usr/local/lib/python3.7/dist-packages (from spacy>=2.2.2->texthero) (7.4.0)\n",
            "Requirement already satisfied: plac<1.2.0,>=0.9.6 in /usr/local/lib/python3.7/dist-packages (from spacy>=2.2.2->texthero) (1.1.3)\n",
            "Requirement already satisfied: setuptools in /usr/local/lib/python3.7/dist-packages (from spacy>=2.2.2->texthero) (57.0.0)\n",
            "Requirement already satisfied: srsly<1.1.0,>=1.0.2 in /usr/local/lib/python3.7/dist-packages (from spacy>=2.2.2->texthero) (1.0.5)\n",
            "Requirement already satisfied: murmurhash<1.1.0,>=0.28.0 in /usr/local/lib/python3.7/dist-packages (from spacy>=2.2.2->texthero) (1.0.5)\n",
            "Requirement already satisfied: requests<3.0.0,>=2.13.0 in /usr/local/lib/python3.7/dist-packages (from spacy>=2.2.2->texthero) (2.23.0)\n",
            "Requirement already satisfied: preshed<3.1.0,>=3.0.2 in /usr/local/lib/python3.7/dist-packages (from spacy>=2.2.2->texthero) (3.0.5)\n",
            "Requirement already satisfied: catalogue<1.1.0,>=0.0.7 in /usr/local/lib/python3.7/dist-packages (from spacy>=2.2.2->texthero) (1.0.0)\n",
            "Requirement already satisfied: blis<0.5.0,>=0.4.0 in /usr/local/lib/python3.7/dist-packages (from spacy>=2.2.2->texthero) (0.4.1)\n",
            "Requirement already satisfied: pillow in /usr/local/lib/python3.7/dist-packages (from wordcloud>=1.5.0->texthero) (7.1.2)\n",
            "Requirement already satisfied: click in /usr/local/lib/python3.7/dist-packages (from nltk>=3.3->texthero) (7.1.2)\n",
            "Requirement already satisfied: regex in /usr/local/lib/python3.7/dist-packages (from nltk>=3.3->texthero) (2019.12.20)\n",
            "Requirement already satisfied: smart-open>=1.2.1 in /usr/local/lib/python3.7/dist-packages (from gensim>=3.6.0->texthero) (5.1.0)\n",
            "Requirement already satisfied: certifi>=2017.4.17 in /usr/local/lib/python3.7/dist-packages (from requests<3.0.0,>=2.13.0->spacy>=2.2.2->texthero) (2021.5.30)\n",
            "Requirement already satisfied: urllib3!=1.25.0,!=1.25.1,<1.26,>=1.21.1 in /usr/local/lib/python3.7/dist-packages (from requests<3.0.0,>=2.13.0->spacy>=2.2.2->texthero) (1.24.3)\n",
            "Requirement already satisfied: idna<3,>=2.5 in /usr/local/lib/python3.7/dist-packages (from requests<3.0.0,>=2.13.0->spacy>=2.2.2->texthero) (2.10)\n",
            "Requirement already satisfied: chardet<4,>=3.0.2 in /usr/local/lib/python3.7/dist-packages (from requests<3.0.0,>=2.13.0->spacy>=2.2.2->texthero) (3.0.4)\n",
            "Requirement already satisfied: importlib-metadata>=0.20; python_version < \"3.8\" in /usr/local/lib/python3.7/dist-packages (from catalogue<1.1.0,>=0.0.7->spacy>=2.2.2->texthero) (4.5.0)\n",
            "Requirement already satisfied: zipp>=0.5 in /usr/local/lib/python3.7/dist-packages (from importlib-metadata>=0.20; python_version < \"3.8\"->catalogue<1.1.0,>=0.0.7->spacy>=2.2.2->texthero) (3.4.1)\n",
            "Requirement already satisfied: typing-extensions>=3.6.4; python_version < \"3.8\" in /usr/local/lib/python3.7/dist-packages (from importlib-metadata>=0.20; python_version < \"3.8\"->catalogue<1.1.0,>=0.0.7->spacy>=2.2.2->texthero) (3.7.4.3)\n"
          ],
          "name": "stdout"
        }
      ]
    },
    {
      "cell_type": "code",
      "metadata": {
        "id": "subjective-moldova",
        "colab": {
          "base_uri": "https://localhost:8080/"
        },
        "outputId": "5a4188d9-2908-4b64-8bdc-9b7cd7265486"
      },
      "source": [
        "import texthero\n",
        "help(texthero)"
      ],
      "id": "subjective-moldova",
      "execution_count": 2,
      "outputs": [
        {
          "output_type": "stream",
          "text": [
            "Help on package texthero:\n",
            "\n",
            "NAME\n",
            "    texthero - Texthero: python toolkit for text preprocessing, representation and visualization.\n",
            "\n",
            "PACKAGE CONTENTS\n",
            "    extend_pandas\n",
            "    nlp\n",
            "    preprocessing\n",
            "    representation\n",
            "    stop_words\n",
            "    stopwords\n",
            "    visualization\n",
            "\n",
            "DATA\n",
            "    Callable = typing.Callable\n",
            "    List = typing.List\n",
            "    Optional = typing.Optional\n",
            "    Set = typing.Set\n",
            "\n",
            "FILE\n",
            "    /usr/local/lib/python3.7/dist-packages/texthero/__init__.py\n",
            "\n",
            "\n"
          ],
          "name": "stdout"
        }
      ]
    },
    {
      "cell_type": "markdown",
      "metadata": {
        "id": "printable-change"
      },
      "source": [
        "#### Text Preprocessing"
      ],
      "id": "printable-change"
    },
    {
      "cell_type": "code",
      "metadata": {
        "id": "harmful-windows",
        "colab": {
          "base_uri": "https://localhost:8080/"
        },
        "outputId": "eb8509a6-0d24-449a-8029-d23478fc0099"
      },
      "source": [
        "import pandas as pd\n",
        "text=\"It's a pleasant   day at Bangaloré; at / (10:30) am\"\n",
        "series=pd.Series(text)\n",
        "series"
      ],
      "id": "harmful-windows",
      "execution_count": 3,
      "outputs": [
        {
          "output_type": "execute_result",
          "data": {
            "text/plain": [
              "0    It's a pleasant   day at Bangaloré; at / (10:3...\n",
              "dtype: object"
            ]
          },
          "metadata": {
            "tags": []
          },
          "execution_count": 3
        }
      ]
    },
    {
      "cell_type": "code",
      "metadata": {
        "id": "frozen-constitution"
      },
      "source": [
        "import texthero as hero"
      ],
      "id": "frozen-constitution",
      "execution_count": 4,
      "outputs": []
    },
    {
      "cell_type": "code",
      "metadata": {
        "id": "valued-extra",
        "colab": {
          "base_uri": "https://localhost:8080/"
        },
        "outputId": "c891a1ee-e9fa-417b-8f53-03dcb05e4455"
      },
      "source": [
        "#### Remove digits\n",
        "hero.remove_digits(series)"
      ],
      "id": "valued-extra",
      "execution_count": 5,
      "outputs": [
        {
          "output_type": "execute_result",
          "data": {
            "text/plain": [
              "0    It's a pleasant   day at Bangaloré; at / ( : ) am\n",
              "dtype: object"
            ]
          },
          "metadata": {
            "tags": []
          },
          "execution_count": 5
        }
      ]
    },
    {
      "cell_type": "code",
      "metadata": {
        "id": "subject-letters",
        "colab": {
          "base_uri": "https://localhost:8080/"
        },
        "outputId": "58a60027-4832-4c30-f541-d58a4de3b234"
      },
      "source": [
        "#### Remove punctuations\n",
        "hero.remove_punctuation(series)"
      ],
      "id": "subject-letters",
      "execution_count": 6,
      "outputs": [
        {
          "output_type": "execute_result",
          "data": {
            "text/plain": [
              "0    It s a pleasant   day at Bangaloré  at    10 3...\n",
              "dtype: object"
            ]
          },
          "metadata": {
            "tags": []
          },
          "execution_count": 6
        }
      ]
    },
    {
      "cell_type": "code",
      "metadata": {
        "id": "south-reverse",
        "colab": {
          "base_uri": "https://localhost:8080/"
        },
        "outputId": "32cd7c86-46b3-49cf-b750-f4e589629f5f"
      },
      "source": [
        "#### Remove Brackets\n",
        "hero.remove_brackets(series)"
      ],
      "id": "south-reverse",
      "execution_count": 7,
      "outputs": [
        {
          "output_type": "execute_result",
          "data": {
            "text/plain": [
              "0    It's a pleasant   day at Bangaloré; at /  am\n",
              "dtype: object"
            ]
          },
          "metadata": {
            "tags": []
          },
          "execution_count": 7
        }
      ]
    },
    {
      "cell_type": "code",
      "metadata": {
        "id": "comfortable-operation",
        "colab": {
          "base_uri": "https://localhost:8080/"
        },
        "outputId": "315eb25a-bff5-419a-f757-00644d920dac"
      },
      "source": [
        "#### Remove diacritics\n",
        "hero.remove_diacritics(series)"
      ],
      "id": "comfortable-operation",
      "execution_count": 8,
      "outputs": [
        {
          "output_type": "execute_result",
          "data": {
            "text/plain": [
              "0    It's a pleasant   day at Bangalore; at / (10:3...\n",
              "dtype: object"
            ]
          },
          "metadata": {
            "tags": []
          },
          "execution_count": 8
        }
      ]
    },
    {
      "cell_type": "code",
      "metadata": {
        "id": "pleasant-antique",
        "colab": {
          "base_uri": "https://localhost:8080/"
        },
        "outputId": "169d68ce-a89a-4d32-cf96-0998e3e4e089"
      },
      "source": [
        "#### Remove whitespace\n",
        "hero.remove_whitespace(series)"
      ],
      "id": "pleasant-antique",
      "execution_count": 9,
      "outputs": [
        {
          "output_type": "execute_result",
          "data": {
            "text/plain": [
              "0    It's a pleasant day at Bangaloré; at / (10:30) am\n",
              "dtype: object"
            ]
          },
          "metadata": {
            "tags": []
          },
          "execution_count": 9
        }
      ]
    },
    {
      "cell_type": "code",
      "metadata": {
        "id": "baking-aurora",
        "colab": {
          "base_uri": "https://localhost:8080/"
        },
        "outputId": "e90fe474-29c4-4c9e-846a-89521e641b40"
      },
      "source": [
        "#### Remove Stopwords\n",
        "hero.remove_stopwords(series)"
      ],
      "id": "baking-aurora",
      "execution_count": 10,
      "outputs": [
        {
          "output_type": "execute_result",
          "data": {
            "text/plain": [
              "0    It'  pleasant   day  Bangaloré;  / (10:30) \n",
              "dtype: object"
            ]
          },
          "metadata": {
            "tags": []
          },
          "execution_count": 10
        }
      ]
    },
    {
      "cell_type": "code",
      "metadata": {
        "id": "convenient-proportion",
        "colab": {
          "base_uri": "https://localhost:8080/"
        },
        "outputId": "caa0bf3e-5d37-44a2-a872-b09a75a3be09"
      },
      "source": [
        "hero.clean(series)"
      ],
      "id": "convenient-proportion",
      "execution_count": 11,
      "outputs": [
        {
          "output_type": "execute_result",
          "data": {
            "text/plain": [
              "0    pleasant day bangalore\n",
              "dtype: object"
            ]
          },
          "metadata": {
            "tags": []
          },
          "execution_count": 11
        }
      ]
    },
    {
      "cell_type": "code",
      "metadata": {
        "id": "iraqi-variable",
        "colab": {
          "base_uri": "https://localhost:8080/",
          "height": 363
        },
        "outputId": "8f1c5516-186e-42bf-c754-3e026e2928b0"
      },
      "source": [
        "df = pd.read_csv(\n",
        "   \"https://github.com/jbesomi/texthero/raw/master/dataset/bbcsport.csv\"\n",
        ")\n",
        "df.sample(10)"
      ],
      "id": "iraqi-variable",
      "execution_count": 12,
      "outputs": [
        {
          "output_type": "execute_result",
          "data": {
            "text/html": [
              "<div>\n",
              "<style scoped>\n",
              "    .dataframe tbody tr th:only-of-type {\n",
              "        vertical-align: middle;\n",
              "    }\n",
              "\n",
              "    .dataframe tbody tr th {\n",
              "        vertical-align: top;\n",
              "    }\n",
              "\n",
              "    .dataframe thead th {\n",
              "        text-align: right;\n",
              "    }\n",
              "</style>\n",
              "<table border=\"1\" class=\"dataframe\">\n",
              "  <thead>\n",
              "    <tr style=\"text-align: right;\">\n",
              "      <th></th>\n",
              "      <th>text</th>\n",
              "      <th>topic</th>\n",
              "    </tr>\n",
              "  </thead>\n",
              "  <tbody>\n",
              "    <tr>\n",
              "      <th>607</th>\n",
              "      <td>Marshall set for Leeds move\\n\\nAll Blacks scru...</td>\n",
              "      <td>rugby</td>\n",
              "    </tr>\n",
              "    <tr>\n",
              "      <th>306</th>\n",
              "      <td>Keegan hails comeback king Fowler\\n\\nMancheste...</td>\n",
              "      <td>football</td>\n",
              "    </tr>\n",
              "    <tr>\n",
              "      <th>299</th>\n",
              "      <td>FA decides not to punish Mourinho\\n\\nThe Footb...</td>\n",
              "      <td>football</td>\n",
              "    </tr>\n",
              "    <tr>\n",
              "      <th>135</th>\n",
              "      <td>West Indies opener Rae mourned\\n\\nFormer West ...</td>\n",
              "      <td>cricket</td>\n",
              "    </tr>\n",
              "    <tr>\n",
              "      <th>194</th>\n",
              "      <td>Sri Lankans cleared of misconduct\\n\\nTwo Sri L...</td>\n",
              "      <td>cricket</td>\n",
              "    </tr>\n",
              "    <tr>\n",
              "      <th>655</th>\n",
              "      <td>Venus stunned by Farina Elia\\n\\nVenus Williams...</td>\n",
              "      <td>tennis</td>\n",
              "    </tr>\n",
              "    <tr>\n",
              "      <th>391</th>\n",
              "      <td>McClaren eyes Uefa Cup top spot\\n\\nSteve McCla...</td>\n",
              "      <td>football</td>\n",
              "    </tr>\n",
              "    <tr>\n",
              "      <th>149</th>\n",
              "      <td>Wilson back in Kiwi cricket squad\\n\\nFormer Al...</td>\n",
              "      <td>cricket</td>\n",
              "    </tr>\n",
              "    <tr>\n",
              "      <th>477</th>\n",
              "      <td>Chelsea 3-0 Portsmouth\\n\\nDidier Drogba scored...</td>\n",
              "      <td>football</td>\n",
              "    </tr>\n",
              "    <tr>\n",
              "      <th>464</th>\n",
              "      <td>Eriksson warned on Cole comments\\n\\nPremier Le...</td>\n",
              "      <td>football</td>\n",
              "    </tr>\n",
              "  </tbody>\n",
              "</table>\n",
              "</div>"
            ],
            "text/plain": [
              "                                                  text     topic\n",
              "607  Marshall set for Leeds move\\n\\nAll Blacks scru...     rugby\n",
              "306  Keegan hails comeback king Fowler\\n\\nMancheste...  football\n",
              "299  FA decides not to punish Mourinho\\n\\nThe Footb...  football\n",
              "135  West Indies opener Rae mourned\\n\\nFormer West ...   cricket\n",
              "194  Sri Lankans cleared of misconduct\\n\\nTwo Sri L...   cricket\n",
              "655  Venus stunned by Farina Elia\\n\\nVenus Williams...    tennis\n",
              "391  McClaren eyes Uefa Cup top spot\\n\\nSteve McCla...  football\n",
              "149  Wilson back in Kiwi cricket squad\\n\\nFormer Al...   cricket\n",
              "477  Chelsea 3-0 Portsmouth\\n\\nDidier Drogba scored...  football\n",
              "464  Eriksson warned on Cole comments\\n\\nPremier Le...  football"
            ]
          },
          "metadata": {
            "tags": []
          },
          "execution_count": 12
        }
      ]
    },
    {
      "cell_type": "code",
      "metadata": {
        "id": "excellent-longitude",
        "colab": {
          "base_uri": "https://localhost:8080/",
          "height": 542
        },
        "outputId": "57a2333b-c0fc-41bf-aca3-89eff33806e4"
      },
      "source": [
        "###PCA\n",
        "\n",
        "df['pca'] = (\n",
        "   df['text']\n",
        "   .pipe(hero.clean)\n",
        "   .pipe(hero.tfidf)###vectorizing\n",
        "   .pipe(hero.pca)\n",
        ")\n",
        "hero.scatterplot(df, 'pca', color='topic', title=\"PCA BBC Sport news\")"
      ],
      "id": "excellent-longitude",
      "execution_count": 13,
      "outputs": [
        {
          "output_type": "display_data",
          "data": {
            "text/html": [
              "<html>\n",
              "<head><meta charset=\"utf-8\" /></head>\n",
              "<body>\n",
              "    <div>\n",
              "            <script src=\"https://cdnjs.cloudflare.com/ajax/libs/mathjax/2.7.5/MathJax.js?config=TeX-AMS-MML_SVG\"></script><script type=\"text/javascript\">if (window.MathJax) {MathJax.Hub.Config({SVG: {font: \"STIX-Web\"}});}</script>\n",
              "                <script type=\"text/javascript\">window.PlotlyConfig = {MathJaxConfig: 'local'};</script>\n",
              "        <script src=\"https://cdn.plot.ly/plotly-latest.min.js\"></script>    \n",
              "            <div id=\"42426abe-e9e7-4297-a48f-32f631261a69\" class=\"plotly-graph-div\" style=\"height:525px; width:100%;\"></div>\n",
              "            <script type=\"text/javascript\">\n",
              "                \n",
              "                    window.PLOTLYENV=window.PLOTLYENV || {};\n",
              "                    \n",
              "                if (document.getElementById(\"42426abe-e9e7-4297-a48f-32f631261a69\")) {\n",
              "                    Plotly.newPlot(\n",
              "                        '42426abe-e9e7-4297-a48f-32f631261a69',\n",
              "                        [{\"hoverlabel\": {\"namelength\": 0}, \"hovertemplate\": \"topic=athletics<br>x=%{x}<br>y=%{y}\", \"legendgroup\": \"topic=athletics\", \"marker\": {\"color\": \"#636efa\", \"symbol\": \"circle\"}, \"mode\": \"markers\", \"name\": \"topic=athletics\", \"showlegend\": true, \"type\": \"scatter\", \"x\": [-0.09104989057576593, -0.00045037197177923686, -0.11761165386741548, -0.09137916008742447, -0.09130212553792584, -0.11033847999824323, -0.02906430364048094, -0.042965641273926575, -0.12891222571530528, -0.15750839964740704, -0.09585428888234081, -0.10788861821477201, -0.08969933763114173, -0.08056896368820105, -0.07798584714188615, -0.12046148515980813, -0.14084172083484023, -0.1052716568792786, -0.11138414215919777, -0.10788861821477201, -0.09698003618826764, -0.10707988580976541, -0.14566633157883901, -0.07468878583777437, -0.10884753833133706, -0.08596722537005629, -0.09925912388678257, -0.11473100973585167, -0.10914304607950638, -0.07439776036211511, -0.049751231612397175, -0.13233714955409043, -0.15102209729781493, -0.13166454449422407, -0.08935843960480634, -0.05482868919240292, -0.1021161552916018, -0.10203806054854477, -0.058006202377897415, -0.07943450812709987, -0.06950765942712434, -0.09029383415011187, -0.06175779417239492, -0.05648760160493502, -0.09428094605725762, -0.08174231814299789, -0.11256102740444786, -0.12699868648912557, -0.054886361843260165, -0.12116790529787495, -0.12805849589236473, -0.0939014835297112, -0.09629090423628174, -0.14343466340669836, -0.0968307046498946, -0.10456634864229886, -0.12819092697012197, -0.13844563307865446, -0.11371170269855553, -0.10017244282514214, -0.11214582696244146, -0.06183713749895554, -0.12157636962687406, -0.06481561130509379, -0.11018960023589866, -0.16005526191098407, -0.11222455025448493, -0.03023639081286315, -0.1767073864308665, -0.1072231995418531, -0.105817518989504, -0.059239021353247275, -0.10769823897262021, -0.10507959436473882, -0.1048484100415463, -0.06413910703551413, -0.014958002168499577, -0.08101082184497506, -0.13531561231458844, -0.13040742117074677, -0.14638706630793555, -0.12782204265683483, -0.06368774059301595, -0.0939014835297112, -0.07472186275514799, -0.08021607656932586, -0.08367008076171474, -0.054886361843260165, -0.1319633103034874, -0.09231337949346827, -0.0700563971090262, -0.07757092927645909, -0.022617587572869313, -0.08825862910701057, -0.15265231790459508, -0.11294240298485828, -0.044322378526093296, -0.10713209142668711, -0.1379121706108078, -0.06301410272335416, -0.05846920253975553], \"xaxis\": \"x\", \"y\": [0.10347155373429032, 0.02481619299726644, 0.12877483603725004, 0.15409369238921933, 0.1350658747907763, 0.1575623591971146, 0.07035534362552504, 0.034620770529114255, 0.17070511543411482, 0.24036459128512466, 0.1152791456484716, 0.10870176486856575, 0.11709008873261952, 0.04874615976443412, 0.1301771658690103, 0.33129425215115327, 0.333689125992697, 0.17695002935302423, 0.1349675714337734, 0.10870176486856575, 0.15746025028909966, 0.13107584186727664, 0.3343290570578744, 0.11104895542473515, 0.15283483662552044, 0.1803790230984881, 0.15876720671014793, 0.13616870168393505, 0.161227578067919, 0.1038218414940563, 0.07708541163515668, 0.20833849419799216, 0.3364702967613215, 0.15889284345669696, 0.16954160043688363, 0.12967416539417526, 0.1360853917254345, 0.08938312591260279, 0.12335339056845211, 0.08371618414486831, 0.09694906238008928, 0.12538966671933865, 0.12061141861435415, 0.079760946768977, 0.1603570146245152, 0.11350381031263215, 0.25857791051019197, 0.30326582769978716, 0.13526064723473216, 0.32219412107585294, 0.34364993946430616, 0.1532013289786025, 0.11287574853944904, 0.3144185250781864, 0.13836604771468416, 0.13358070563200303, 0.1507059147680444, 0.1640554666643491, 0.08934960072046887, 0.13698426479973258, 0.15004369502184547, 0.08597268588908792, 0.156178856960719, 0.10142223180968168, 0.13154155787447555, 0.2947677197915164, 0.15638007761086886, 0.08146896666959304, 0.24973201680368542, 0.08390024755725728, 0.11818632506675152, 0.06558384581121023, 0.08463270140149116, 0.1282842491345376, 0.1854401282344013, 0.10159468355703219, 0.05023634820500237, 0.11168326949636802, 0.32691970346870336, 0.2778380390596657, 0.34276804488626283, 0.3378853982435748, 0.10754394314808462, 0.1532013289786025, 0.1039249346378449, 0.09749178776957543, 0.12009191934571635, 0.13526064723473216, 0.3081777082350302, 0.09783423392642411, 0.13468365252475467, 0.1035474994958147, 0.01330580851744333, 0.1131136686923151, 0.22103116084955432, 0.12444413248200462, 0.056550581376487295, 0.1520752624874003, 0.17978830663548268, 0.017731570612967085, 0.11552796343281521], \"yaxis\": \"y\"}, {\"hoverlabel\": {\"namelength\": 0}, \"hovertemplate\": \"topic=cricket<br>x=%{x}<br>y=%{y}\", \"legendgroup\": \"topic=cricket\", \"marker\": {\"color\": \"#EF553B\", \"symbol\": \"circle\"}, \"mode\": \"markers\", \"name\": \"topic=cricket\", \"showlegend\": true, \"type\": \"scatter\", \"x\": [0.25344900484715044, 0.21413088272162226, 0.22599967254951922, 0.21741028750581315, 0.11986462556833985, 0.13976914596772372, 0.12120974731074473, 0.10654544130736814, 0.14944111082880432, 0.10174678113927885, 0.12015739664203569, 0.052540338306347266, 0.313314201618257, 0.06329367630749559, 0.20988127006256915, 0.03217666120989257, 0.061710621797619124, 0.1488865037081977, 0.2255598967825765, 0.175977124546405, 0.061710621797619124, 0.18912707071425677, 0.13948439684307837, 0.16202679721085544, 0.07285267661705716, 0.2148053803467364, 0.23009756835345313, 0.21147310559274632, 0.13965968611752133, 0.1052606658881203, 0.2521054071402315, 0.16202679721085544, 0.07285267661705716, 0.1921913328348869, 0.09284674605756008, 0.11193573779612853, 0.08183200425377489, 0.16453624264741967, 0.11113838863858766, 0.18273775734721479, 0.1295699211702918, 0.24578612609554248, 0.25075853245435875, 0.21438747044009257, 0.262824515625683, 0.1664411933312361, 0.06145580479749995, 0.1977068286384438, 0.13315805786916685, 0.18831909639599864, 0.031052091171055278, 0.26561062732706897, 0.26612309060177913, 0.2301629553386556, 0.12801707635056037, 0.22409141161102286, 0.11949432709939245, 0.05632770174028687, 0.2061566884754553, 0.16749095080789508, 0.16736674862029005, 0.22972364432546308, 0.2978737746834373, 0.20877091863983652, 0.15750179887819182, 0.12863659303463548, 0.1926629774329097, 0.3710363539783724, 0.13080335063587276, 0.2574286293510541, 0.3417122682326522, 0.15539673423594233, 0.3049409839379449, 0.24927363562439359, 0.35131483602841823, 0.1959975839370681, 0.16890754507548306, 0.06190004364632055, 0.18966264246958128, 0.24686924668995086, 0.17394599716183987, 0.2754584062192106, 0.32690243147646264, 0.32737252895992097, 0.10485670876900004, 0.2663976762631239, 0.2797434435789642, 0.2830343062631279, 0.2769337787914604, 0.13890465372340122, -0.026190969886483957, 0.08984261147337566, 0.2074214535479687, 0.031152091748832968, 0.14534044653716308, 0.17702797310013818, 0.11107412055821078, 0.17787265044838974, 0.1003341123661335, 0.16847319457350526, 0.08764376802287288, 0.017441079512326145, 0.08970670489456951, 0.0936921843252614, 0.06734453111260945, 0.047148684496636444, 0.20535728223281552, 0.03899626437513801, 0.28609842224853166, 0.20412474101764677, 0.11372581268908889, -0.033506100008461284, 0.16630716993195066, 0.12974871179373842, 0.10120246475569616, 0.02838104148904779, 0.20867729980036775, 0.11370247714173043, 0.23116471366406696, 0.1037388292366752, 0.13491530030655596, 0.08429350831253936, 0.11012234856076358, 0.11957663247423904], \"xaxis\": \"x\", \"y\": [0.11813334959166621, 0.05707247328261452, 0.09690983444756353, 0.17778878632026388, 0.009176169392814272, 0.028450074629525014, 0.10704229273651658, 0.07294547563101833, 0.14699512871741774, 0.059046929859383215, 0.1038545356413323, -0.006222040838751974, 0.07135252759090932, 0.028628609472610103, 0.07474926001677987, 0.002013549830585727, 0.06444898555827698, 0.04731666389416139, 0.06398773223058762, 0.0317752291883098, 0.06444898555827698, 0.17110801237327403, 0.11055744026607627, 0.14035435343851363, 0.11287894630558412, 0.17351992544865671, 0.09089228317972382, 0.1328260544957557, 0.1102801392790231, 0.03184238960433688, 0.07447897945581468, 0.14035435343851363, 0.11287894630558412, 0.17634579281833418, 0.07658040026760018, 0.043741435051459235, 0.09461207067555291, 0.09436899687199819, 0.061227665163203375, 0.04124038791194684, 0.12253740499710519, 0.031010302047148924, 0.06000911343234337, 0.16226319041313178, 0.1751497458001149, 0.09039451117681611, 0.07844189170396276, 0.03544148975478872, 0.06962153718599336, 0.05010266334070648, 0.00863937986089195, 0.11474527753274016, 0.11582354612927467, 0.15610655300473675, 0.11104369927970467, 0.10995431097357948, 0.10238242493720758, 0.0809129154409934, 0.1119277376307762, 0.1621285620184601, 0.16162501778526475, 0.16503451441454264, 0.01760820475729775, 0.05439971406120893, 0.1550628944919841, 0.07708828102007818, 0.02721028830290623, 0.06907244462970451, 0.02897122857920035, 0.20564541606770692, 0.01674672400827138, 0.09788191218211513, 0.07108731231276683, 0.20232065691254006, 0.06681796754151428, -0.0002797931306837449, 0.13888759241088464, 0.0596006633089271, 0.0390363163589079, 0.06025604934600228, 0.12850043879699544, 0.17798303164023252, 0.06324329211760005, 0.06604696183294398, 0.0973817687865208, 0.21361029935333417, 0.2037474075425155, 0.2053473187376975, 0.01901073007287181, 0.11337264161440536, 0.06458164276115602, 0.05082460128804987, 0.06026513302236244, 0.07065026669956175, 0.016204696547351842, 0.02908454844996262, -0.019208084395876162, 0.12832800292474586, 0.05376948690313095, 0.1368401846197779, 0.0765318671524085, 0.06546025771296572, 0.06647150908142216, 0.12356700623923435, 0.06474188727189217, 0.05764553250522738, 0.03125665627759151, 0.012491268136819141, 0.022416571639347235, 0.12206085256014401, 0.10755556265711337, 0.06311579902891376, 0.11764982400886125, 0.12287175080839792, 0.07467551428284394, -0.004128361388325772, 0.027998934422144038, 0.049595893233199385, 0.021459155388512768, 0.07516593041204, 0.10402613345357505, -0.001994899273794836, -0.041407615990975546, 0.08210990676285107], \"yaxis\": \"y\"}, {\"hoverlabel\": {\"namelength\": 0}, \"hovertemplate\": \"topic=football<br>x=%{x}<br>y=%{y}\", \"legendgroup\": \"topic=football\", \"marker\": {\"color\": \"#00cc96\", \"symbol\": \"circle\"}, \"mode\": \"markers\", \"name\": \"topic=football\", \"showlegend\": true, \"type\": \"scatter\", \"x\": [-0.04692046805887342, -0.11360459101190767, -0.0835931080188438, -0.096910426074594, 0.07296358410829441, -0.03376476690149036, -0.07621503623302173, -0.1987269312801121, -0.1002067551752191, -0.12669312158704915, -0.006038049226142582, -0.016371885137659394, -0.011293177145578247, -0.001916949177299544, -0.00504364373445572, -0.054937562948382944, -0.12320740047961296, -0.1712603000779201, -0.0045915070776458376, -0.041413703716712776, -0.03797248959218217, -0.047147797793306634, -0.051741546232194735, -0.1382667622226904, -0.023966791643943972, -0.011066820178139026, -0.17138283635628798, -0.10738717957314514, 0.0049393620751788814, -0.06757579043341849, -0.1375468634030423, -0.06457904499906501, -0.017101484667454748, 0.01643546551467899, 0.006875965298840045, -0.059954606142873984, -0.04321053866722568, 0.0029452891205940237, 0.014945058185992083, 0.021626702406563676, -0.031373067179589854, -0.05997890875244006, -0.07744451519159141, -0.06597428667219718, -0.0637109158987583, -0.10990297684133182, -0.14858076275365206, -0.04868332651687745, -0.05647400325189645, -0.08691961033065985, -0.02423587819704833, -0.02690569513812816, -0.04025228240406305, -0.054020755498091995, -0.04765185774112383, -0.04747412272909562, -0.0551938815270278, -0.10672109999494134, -0.06071669761469443, -0.1269933178124459, -0.0885448584935899, -0.07396864518304169, -0.11310416620495065, -0.09673288935109293, -0.18492731215220579, -0.05511762256522861, -0.0830869579809423, -0.05012826253303818, -0.07076045710132668, -0.05945279686862986, -0.0876413217064824, -0.06603701020828653, -0.10996326556743913, -0.13249535327169065, -0.2021952608217775, -0.08618679909220973, -0.033310435740289, -0.07566609196373052, -0.008578471630804557, -0.12726695807244423, -0.07640265278726362, -0.07529776328339101, -0.18263220669784316, -0.08678242648394181, -0.051865300795844387, -0.07305151715958978, -0.1304367525894224, -0.1304367525894224, -0.1494378359022461, -0.11783601096729206, -0.036052897809547006, -0.07999910949997563, -0.07813238848480418, -0.10675639092828067, -0.0757868124261277, 0.022034667104865725, -0.03842351456548531, -0.09015158992267373, -0.10611248241619077, -0.05027172763131353, -0.07611056090595957, -0.11810769930822784, -0.09969202281320741, -0.1196778137506191, -0.14087228098747057, -0.06870382892604089, -0.12779296816685112, -0.05123854627433031, -0.0709352456656851, -0.04927963837385933, -0.05965240465595167, -0.11692881808013306, -0.04543145819104971, -0.05458114686531599, -0.16300230977198393, -0.04034856413370182, -0.11231477916580171, -0.031921634039193, -0.02548730337843964, -3.83406467644263e-05, -0.014134792557548561, -0.03244021386169614, -0.02188775313283316, -0.1750136000662054, 0.017053533554512702, -0.06173495547563352, -0.05153446574495364, -0.046333863716684305, -0.09485511947842112, -0.02087443267039408, 0.005125038142304115, -0.03895119923217742, -0.1131586336885172, -0.11354762651565874, -0.060494079286936404, -0.05459626356296473, -0.132325798437476, -0.03257897954266523, -0.05765517528280091, -0.06950256444433353, -0.1310894036965938, -0.10564222523488759, -0.1164214628596629, -0.09560978150520204, -0.13100970307499266, -0.017959819539308298, -0.06384106988899156, -0.10089051012021881, -0.1935827973039245, -0.06324773388605714, -0.05289631106355739, -0.1159778737417734, -0.05111826641106666, -0.09780733591671915, -0.07208678780568613, -0.05692044352633605, -0.07896748526117572, -0.14655006041539068, -0.04453494490076206, -0.11375625099443065, -0.14655006041539068, -0.06708710939697878, -0.06849841411597982, -0.06849841411597982, -0.09288953535084021, -0.06936670104272745, -0.06027176452426411, -0.05178845133588526, -0.036154991380511425, -0.0602149417637267, -0.08725851557652585, -0.13341363398763673, -0.07244362098772225, -0.04062346277835631, -0.04003223568117978, -0.06034229681883234, -0.07184268512261012, -0.15658336481845192, -0.0745906841733075, -0.16990484418791546, -0.0902892789684243, -0.05520177294564428, -0.0401402514889404, -0.061687456762541414, -0.08170470252581968, -0.12835225875870926, -0.08671675010946768, -0.09581000469749754, -0.07974692190999534, -0.1611453954744316, -0.1568594327454481, -0.11923347993456922, -0.07905436959308776, -0.07274658469686121, -0.059080556647778525, 0.005113955043414439, -0.03692680513127471, -0.10088035380648736, -0.07662665148312314, -0.06766725296155279, -0.05362348013005111, -0.19566967777226832, -0.05518498199135413, -0.06538026518162991, -0.07680715477409214, -0.04270486799983766, -0.20014220458666768, -0.051957762506725756, -0.1445401792913437, -0.0835931080188438, -0.06635517502579663, -0.07778706123930555, -0.03540542842568344, -0.047377187370404715, -0.12163722941007216, -0.07008786099825073, -0.03021933404520751, -0.059975131823885315, -0.022900260847273275, 0.00248088331594575, -0.13378993965808997, -0.005703142701072109, -0.1006293386749, -0.032609439888599684, -0.04229759903291868, -0.0970961270848822, -0.03232317395052575, -0.08206934413199925, -0.18143614280162954, -0.1259127211165763, -0.06027337308977126, -0.08690796696275603, -0.09171138339065264, -0.060354996147072716, -0.048771500714649405, -0.024521357476109243, -0.08934549927703128, -0.06683836314717888, -0.18566654356767293, -0.11399734716126046, -0.12265492109696773, -0.06405616365151588, -0.17258010558016562, -0.08053327630415044, -0.13002989190178438, -0.07569091784625462, -0.02532670390432223, -0.04545748970857585, -0.057936042069987356, -0.14916344796541098, -0.07934394482828486, -0.12636409964107098, -0.07901562368609504, -0.04086402172295931, -0.039913277063219024, -0.05493402208639876, -0.10151267582994701, -0.009510579465193207, -0.05169356281445067, -0.082990840818874, -0.021673494685831896, -0.09839859718755631, -0.06483241680496324, -0.035672031546500206, -0.002818897648865115], \"xaxis\": \"x\", \"y\": [-0.08560503302893716, -0.11602711818700151, -0.06953145962243724, -0.06795480162864939, -0.06180888124232468, -0.008973878049393785, -0.0949961187460143, -0.2183595042742697, -0.12052255644650528, -0.16688019997356834, -0.056224596593114205, -0.04582129910428312, -0.042815278121043916, -0.02714399177446634, -0.017959066814330602, -0.0584912735757334, -0.19995592102196513, -0.17033464263116743, -0.045430615143248476, -0.04369123961919989, -0.1038933558617296, -0.03355792027333796, -0.015675881932514273, -0.12686395755519295, -0.1283497575112009, -0.0797768735876864, -0.17005897820936766, -0.12191609822671261, -0.0712066445400798, -0.03276171864426462, -0.14221403223639037, -0.07832943761176121, -0.014472636607889194, -0.0424389774614174, -0.04925972210188771, -0.008958323754306885, 0.014975278202385688, -0.020032201715117225, -0.1118917329632532, -0.009731844926043261, -0.020365856705926905, 0.03675464446335127, -0.07402178719414793, -0.058202712625964936, -0.08316413155441305, -0.10123604280832754, -0.17326539990653447, -0.14283550637503573, -0.033828114783637814, -0.08125468063373104, -0.05132978100854933, -0.01888668310609779, -0.03133235932534434, -0.007348620459634589, 0.0064525256557684905, -0.08553627082803635, -0.11070190338538809, -0.11051279905725064, -0.013291746202039741, -0.08889568275101371, -0.11287280857116308, -0.0779586286009126, -0.11344619653400827, -0.06937051419543878, -0.24163031732792054, -0.11227584791122429, -0.05736328002181837, -0.05863516521468804, -0.07266729571841686, -0.028222303822211112, -0.07384871850445664, -0.034823920193757726, -0.09110648880945853, -0.08566271194307204, -0.1830243043594848, -0.005649254291777421, -0.005135729424044313, -0.06804999860223966, 0.013579395677302802, -0.08202477559222018, -0.01909411551338296, -0.07488188558194779, -0.16544856984203896, -0.06486663167360433, -0.06265516425469035, -0.10431201867016311, -0.14188394531369308, -0.14188394531369308, -0.15629324481308002, -0.12304767155751878, -0.03907371386564992, -0.06143703233376658, -0.04772702342633521, -0.08004972743200241, -0.0599600461735595, 0.038126907781894884, -0.005928623744692184, -0.09591605317313688, -0.05624017154807109, -0.013235341841141767, -0.06936111229348052, -0.10492633703857673, -0.06983747151386857, -0.09689872020251569, -0.0009824688382499077, -0.08886752482380542, -0.05055642814289077, -0.020820827205149994, -0.016824650036911748, 0.004668140032964358, -0.06747805823407005, -0.08673618681018401, -0.025370272781274586, -0.07602337876171976, -0.1726042542719572, -0.005477615138366375, -0.06923051002369303, -0.04678855710147228, -0.007889997339616142, 0.01012602497834315, 0.0018551113516621484, -0.07631792174019847, -0.08113592606447192, -0.20024756483860695, -0.006397968335040109, -0.029832637807711837, -0.0417767534314955, -0.0670744954598375, -0.13540720133871031, 0.01100905572845652, 0.00033261138051721373, -0.05589099993508035, -0.12251730976473581, -0.1445236993542121, -0.06891222569901233, -0.026420317235690886, -0.1487760373564777, -0.05588201150894487, -0.03388709219563532, -0.004013622173814971, -0.1496269108362146, -0.15914464258540528, -0.09451203921958765, -0.11964742315969998, -0.13262651771668063, -0.0532950082363178, 0.04323641390519069, -0.08908387806118322, -0.19751721605236108, -0.050577674091523965, -0.03725548666985218, -0.13690941356912076, -0.06682210142956639, -0.1106633154164734, -0.035418450864880296, -0.06471134209894129, -0.039861126230243064, -0.16710924918898945, 0.0018323876227507978, -0.09189821947635884, -0.16710924918898945, -0.05481091768481717, -0.014027486433414987, -0.014027486433414987, -0.09688118605762934, -0.06514981116647854, -0.03243752391314509, -0.001164432073905748, -0.05167958311325607, -0.03352610305152336, -0.029064395814897122, -0.10632981324029386, -0.09200831944414485, -0.08675299930305631, -0.06598949324460814, -0.07174644401810512, 0.018324241706091135, -0.09435046107777886, -0.04762574818663837, -0.1975895550435429, -0.06697161078252782, -0.030732150124834618, -0.020305737552502087, -0.09039869279676929, -0.06384372911380065, -0.13721071609025393, -0.12922480228552616, -0.11127930727362531, -0.11787876497022595, -0.13183333657818752, -0.19425225254095874, -0.16886042377424015, -0.09052523824019264, -0.09281562079084964, -0.03418142098313152, -0.037579439307065504, 0.005621560220479116, -0.1487185246784455, -0.17779609553801404, -0.15001436831061096, -0.06215658788484957, -0.24851039175158998, -0.07273078804047521, -0.06546421468767076, -0.11629700554972033, -0.02668179761333068, -0.21858016199582964, -0.042627155648318045, -0.1728038754826159, -0.06953145962243724, -0.12653835247171671, -0.12771770801418153, -0.029377384978310096, -0.055162985978040494, -0.13722952796454255, -0.09113724432797154, -0.010767660011965207, -0.06164202639733108, -0.010108743732923664, 0.009135629482957415, -0.18633090546401782, -0.053093983886034105, -0.0633039125193378, -0.000232938454649777, -0.008259209261965038, -0.11853322821090183, -0.012376107558996619, -0.058257722668466426, -0.18842796409665233, -0.10193291790666673, 0.05200790874265018, -0.05728532665960471, -0.06477722380074168, -0.03852530713392056, -0.014852820961706972, -0.08391555620533805, -0.09280166745042093, -0.08435918909425867, -0.169011574201484, -0.13186830862447999, -0.10838770961606468, -0.024226615502706467, -0.20387918435340943, -0.03532315335939274, -0.11527955591791066, -0.0647188895099523, -0.07036062406900126, 0.023767230460799867, -0.0967332045266794, -0.15267554682567347, -0.09422132883836634, -0.12243424467211517, -0.09530389029458265, -0.053406808432535376, -0.010766194663654591, 0.023372109957964626, -0.0065650932105321205, 0.03128226374684492, -0.04361384012941412, -0.11090199861979345, -0.02291333282548166, -0.1088319389136727, -0.02826551299320473, -0.02214523879889024, -0.021031112998967396], \"yaxis\": \"y\"}, {\"hoverlabel\": {\"namelength\": 0}, \"hovertemplate\": \"topic=rugby<br>x=%{x}<br>y=%{y}\", \"legendgroup\": \"topic=rugby\", \"marker\": {\"color\": \"#ab63fa\", \"symbol\": \"circle\"}, \"mode\": \"markers\", \"name\": \"topic=rugby\", \"showlegend\": true, \"type\": \"scatter\", \"x\": [0.13163779414100257, 0.19133729034698288, 0.13730175315059162, 0.05712430060095625, 0.06664454192441, 0.15159837305337573, 0.13504046666144087, 0.1287464816293442, 0.10039417328459528, 0.04004572561103206, 0.009730993129417631, 0.06050654065142863, 0.08264294206201596, 0.03047757340549231, 0.03818429312590808, 0.15796994406615125, 0.19676314745797313, 0.08503456335963391, 0.1587431685737931, 0.1524758344728322, 0.16240635016848998, 0.09142721818057037, 0.06233379029652503, 0.093611189421954, 0.1488664212011461, 0.02735343409829846, 0.13542228796496292, 0.18677602469393711, 0.2228565034901885, 0.10962061599838238, 0.15589588665174386, 0.21112332465130565, 0.061994209060734426, -0.008985275599389057, 0.0404966918207444, -0.007436800332568075, 0.2116723604421501, 0.03472068098714477, 0.1823736425736143, 0.2788266527289179, 0.025301061743562992, 0.03649041513459341, 0.1390370654651968, 0.044250641510587364, 0.12268085590814774, 0.12136072517968415, 0.1372990157335363, 0.23960524167608882, 0.10403364397579222, 0.1326958326022283, 0.18319860406405641, 0.09511116096382377, 0.12658169317563425, 0.11124772667923336, 0.13420541104986208, 0.268736945513656, 0.12773448447740685, 0.07008891809627857, 0.20736413019608593, 0.10944139406180262, 0.10403364397579222, 0.1411373024207799, 0.06402583720694612, 0.10096470088610818, 0.10411112908618926, 0.15169343278798458, 0.047070627554001224, 0.21196190267978424, 0.10302127211506915, 0.0450802764606852, 0.03879478686835125, 0.11947478457336964, 0.14639409745191673, 0.06722078024870136, 0.08644180586613093, 0.05884350698349654, 0.05733561741903904, -0.024878797568576735, 0.05333573290030947, 0.004146357303016335, 0.09009536637360985, -0.0020907390211691783, 0.025061543802149016, 0.05773778352396031, 0.17301877888188644, 0.09528087756563403, 0.11912518341692177, 0.17192586074016344, -0.01654064639562403, 0.20455108884626055, 0.021135645174874096, 0.11882652382105119, 0.05127480289257936, 0.17618876033372988, 0.10915768367940847, 0.057735833602477006, 0.06590947470466042, 0.09399009772565253, 0.06374995517382379, 0.16280246076739077, 0.015139958216056952, 0.1321488601215426, 0.044618691996149165, 0.13181818331956138, 0.12990187813693377, 0.11249747535683334, 0.035605283138481506, 0.045113156250850585, 0.0822211150868232, 0.022463125302213106, 0.002103134175238161, -0.05515760212240273, -0.053975735892822896, 0.028849172113372536, 0.027131877895816742, -0.04075019508797257, 0.18432391068083018, 0.06380556421533533, 0.052391927839367726, -0.0021975194069598436, 0.1302627076563103, 0.13864836141427, 0.09668697498705596, -0.031264892892827564, -0.02192715183821353, -0.04804035060913469, 0.11030613859694903, 0.11757391774401796, 0.14380958148812176, 0.18066404299055883, 0.15125044326078596, 0.2626677744340745, 0.15165887838722744, 0.1517300527888015, 0.09511116096382377, 0.11908853106995371, 0.11907417642870072, 0.03636978524592494, 0.12711693415276817, 0.06984078981034304, 0.22532317022356244, 0.14065289378101187, 0.22354543877609273, 0.12418898838933827, 0.1370265415154258, 0.08029020708229692, 0.04598597497634083], \"xaxis\": \"x\", \"y\": [-0.18034005606180747, -0.20569072671951946, -0.16533344635391511, -0.04909970372531047, -0.10272699635034425, -0.20082954664228836, -0.17663304900238155, -0.14527822841958307, -0.12906145270588973, -0.04260259105764278, -0.05579698904173712, -0.03426420041471231, -0.10254712818580107, -0.08597295188702826, -0.03967220783199426, -0.15992697368208542, -0.16190423635093582, -0.1066131732693252, -0.11259180423215773, -0.15772938086675925, -0.14656912537488104, -0.09916164925714929, -0.04830280158963719, -0.08048218470979529, -0.15819519191402112, -0.09756313145004976, -0.09717944624069592, -0.12490275311851529, -0.11714804776810576, -0.1481514347752102, -0.11022602184028645, -0.16176260037495993, -0.12479608571175267, -0.01258895395183307, -0.06449121503467263, 0.0194250702147446, -0.12392153612736012, -0.054301938119073995, -0.08233616630689872, -0.21988475817354963, 0.006552493678828135, 0.008034070637946934, -0.17872308919281266, -0.11649328290985896, -0.07809682147550304, -0.07703997342720137, -0.14957765990936758, -0.1400115568665486, -0.08405592189893671, -0.0898633033282884, -0.15591007997557385, -0.08934334245196511, -0.15025222121727422, -0.09145952724755659, -0.16731896325458578, -0.09794259364215836, -0.12883393206681923, -0.06792091474657325, -0.18750291623808069, -0.10802032031383393, -0.08405592189893671, -0.11740918520396079, -0.10154806723932522, -0.11763107683481676, -0.12690786286153705, -0.15467819700698465, -0.024464331017412355, -0.1610717834136848, -0.11436576916243807, -0.01852743898637278, -0.08732010443221264, -0.09972432146396655, -0.14533493448639725, -0.11423215686409555, -0.14225871402105297, -0.09304482513963498, -0.1267413043673651, -0.026625041389093468, -0.042254783336371164, -0.02579466593498042, -0.10708682426278089, -0.0499778290851234, -0.02750737109071746, -0.057669982430900615, -0.09373294051818344, -0.017834402520841616, -0.08286841487978534, -0.06815906325333564, -0.02506110336276926, -0.15988523089250825, -0.008131094532900502, -0.07685466914764937, -0.09774056557815874, -0.09676903999457406, -0.05538485943268007, -0.021405689834232414, -0.06728100576577284, -0.038670251951715445, -0.018797961183244543, -0.14148586008045766, -0.016151621379464156, -0.09213547302060536, 0.008247220058925303, -0.09177958834122463, -0.08104261938740345, -0.06351844733535324, -0.08684323993030783, -0.09456563436673741, -0.004443219096557853, -0.081274729900542, -0.0724517234713476, -0.030790272529658578, -0.031824554164107406, -0.02576985253344262, -0.01971454681284097, -0.05793837812377287, -0.1885566266178363, -0.013637349063106293, -0.0838094738352936, -0.06557269381464105, -0.11731313765061518, -0.12149365836096897, -0.10924924264540652, -0.05505223989696353, -0.07870600609619283, -0.04056568721059331, -0.04797462901187127, -0.11131981186985146, 0.0046225559387662405, -0.15755151668262887, -0.18823810520734094, -0.2169664887847622, -0.2005883680989986, -0.07570581878600655, -0.08934334245196511, -0.14258875634756676, -0.048717846121747725, -0.06153913442726841, -0.1333365156877167, -0.10615181323938146, -0.1594256274012204, -0.16206056492723012, -0.11705094889010599, -0.08264587531159992, -0.07373161732889784, -0.04410729679831836, -0.04320009835861446], \"yaxis\": \"y\"}, {\"hoverlabel\": {\"namelength\": 0}, \"hovertemplate\": \"topic=tennis<br>x=%{x}<br>y=%{y}\", \"legendgroup\": \"topic=tennis\", \"marker\": {\"color\": \"#FFA15A\", \"symbol\": \"circle\"}, \"mode\": \"markers\", \"name\": \"topic=tennis\", \"showlegend\": true, \"type\": \"scatter\", \"x\": [-0.04262116070131787, -0.0549297394285558, -0.05571499613943314, -0.06919540202611074, -0.03790023269066742, -0.05441404871471321, -0.059768220122738275, -0.04877732806510799, -0.05568898259449381, -0.05148104818340112, -0.027463824120796346, -0.07362255962555378, -0.03801927306275681, -0.040061796445808866, -0.04676899792630172, -0.05148104818340112, -0.06411631819990693, -0.07362255962555378, -0.0406764036008544, -0.04661842493027667, -0.06798063707586292, -0.060437667813298006, -0.0557476282652508, -0.07348797065441529, -0.04487500484535752, -0.041876806740836076, -0.022484829491554312, -0.06064016179723229, -0.05791785832063785, -0.061073499931271986, -0.041449957726718584, -0.05626614619126412, -0.06234029077084978, -0.04825491660832851, -0.033494254832561667, -0.025895045046628134, -0.06894906826147064, -0.07583532018576195, -0.05144263985240937, -0.0558481388399527, -0.051459626208327745, -0.04330995563784235, -0.06590829002842481, -0.06652959110168083, -0.048230068196059586, -0.07034368438447101, -0.0547733569815641, -0.056558420483540046, -0.0756716257650216, -0.0756716257650216, -0.05838153220325463, -0.05612872554328113, -0.04831895533256647, -0.03191705580157154, -0.04937558039103997, -0.08165704777396464, -0.06958247152418402, -0.04113713904637758, -0.04006362857373977, -0.0620551620634401, -0.06271264088940638, -0.03870465241565242, -0.04617046675879128, -0.1000892518009854, -0.053986928371775385, -0.06485695426364882, -0.05463885644074308, -0.025370866425051267, -0.08054553704587127, -0.08063428591786803, -0.051124788802721165, -0.07720427923380707, -0.05785476474184428, -0.04824910990598752, -0.10316883882077521, -0.03596355717784477, -0.02968677131883346, -0.04726301311791104, -0.07999507091102352, -0.07203520314807492, -0.041884551811956404, -0.07215311504723225, -0.06630463662905932, -0.03234753915453315, -0.051000006632393395, -0.027627890821236605, -0.06091955996614128, -0.020821164621618142, -0.062148884087747755, -0.03780116029023218, -0.07888111397943247, 0.017113497094041658, -0.03178220920106471, -0.06332719150513315, -0.04148233462581047, -0.06660872981563734, -0.04809881595650159, -0.04968571631452343, -0.04876101184495055, -0.02912032746871012], \"xaxis\": \"x\", \"y\": [0.07789910456203654, 0.10523758807851881, 0.04817582733484775, 0.06940002911718506, 0.08892622742645342, 0.08598961557893155, 0.078955985268729, 0.09568992430044837, 0.07982312819711719, 0.1162438843246313, 0.03306660419846036, 0.055281716371705696, 0.08694295553800628, 0.09584759762302958, 0.08788620479705529, 0.1162438843246313, 0.05140766793714306, 0.055281716371705696, 0.0894815048935705, 0.10610559247242383, 0.142510406902796, 0.059959951001980476, 0.06550541930864788, 0.11734826856980994, 0.03132748365610119, 0.09660542310350656, 0.07519049480868019, 0.11608564773424289, 0.03895554274093963, 0.10750230897559011, 0.059644668583273566, 0.0714039430893874, 0.09262543831361832, 0.07236278872732074, 0.0359944693520576, 0.04216574164188793, 0.13557293065845144, 0.11934281120238514, 0.10150231427460785, 0.04864146514270002, 0.06804524904184128, 0.06690853113324335, 0.09682102117522685, 0.011785329620396832, 0.10567854682288003, 0.05920942086238079, 0.1390315024941303, 0.07886650499701502, 0.022499468851539802, 0.022499468851539802, 0.14555107426827282, 0.033638355355294726, 0.05288153373262633, 0.04303098871239147, 0.07994597199989487, 0.1512225574581385, 0.11041067073430924, 0.07559889238884891, 0.07341705563528268, 0.0969447495341078, 0.06316733858332976, 0.012708011429167457, 0.09344705169801563, 0.1491284983812356, 0.11398758727570873, 0.08121012820741533, 0.0748612708184107, 0.036654114854106454, 0.04503515842162037, 0.045222660573158956, 0.054358868202730615, 0.1101602148173099, 0.027347236621257473, 0.08249107294367118, 0.13456207072364906, 0.044919044659255815, 0.0382857225430583, 0.07828949172605068, 0.036180937001541076, 0.04731267869258928, 0.06917626836969878, 0.0643515486041283, 0.04596830379054064, 0.028640210688920156, 0.06747014916319755, 0.10592647023504015, 0.070491316352718, 0.06834113388774118, 0.07747031918506557, 0.07605886578879435, 0.07594076193041929, 0.046872433859621504, 0.06729831398098483, 0.07944031411550374, 0.10485983099367238, 0.10853754183923323, 0.05293127675380977, 0.06005516459928611, 0.01392326904637627, 0.07146810955316822], \"yaxis\": \"y\"}],\n",
              "                        {\"legend\": {\"tracegroupgap\": 0}, \"template\": {\"data\": {\"bar\": [{\"error_x\": {\"color\": \"#2a3f5f\"}, \"error_y\": {\"color\": \"#2a3f5f\"}, \"marker\": {\"line\": {\"color\": \"#E5ECF6\", \"width\": 0.5}}, \"type\": \"bar\"}], \"barpolar\": [{\"marker\": {\"line\": {\"color\": \"#E5ECF6\", \"width\": 0.5}}, \"type\": \"barpolar\"}], \"carpet\": [{\"aaxis\": {\"endlinecolor\": \"#2a3f5f\", \"gridcolor\": \"white\", \"linecolor\": \"white\", \"minorgridcolor\": \"white\", \"startlinecolor\": \"#2a3f5f\"}, \"baxis\": {\"endlinecolor\": \"#2a3f5f\", \"gridcolor\": \"white\", \"linecolor\": \"white\", \"minorgridcolor\": \"white\", \"startlinecolor\": \"#2a3f5f\"}, \"type\": \"carpet\"}], \"choropleth\": [{\"colorbar\": {\"outlinewidth\": 0, \"ticks\": \"\"}, \"type\": \"choropleth\"}], \"contour\": [{\"colorbar\": {\"outlinewidth\": 0, \"ticks\": \"\"}, \"colorscale\": [[0.0, \"#0d0887\"], [0.1111111111111111, \"#46039f\"], [0.2222222222222222, \"#7201a8\"], [0.3333333333333333, \"#9c179e\"], [0.4444444444444444, \"#bd3786\"], [0.5555555555555556, \"#d8576b\"], [0.6666666666666666, \"#ed7953\"], [0.7777777777777778, \"#fb9f3a\"], [0.8888888888888888, \"#fdca26\"], [1.0, \"#f0f921\"]], \"type\": \"contour\"}], \"contourcarpet\": [{\"colorbar\": {\"outlinewidth\": 0, \"ticks\": \"\"}, \"type\": \"contourcarpet\"}], \"heatmap\": [{\"colorbar\": {\"outlinewidth\": 0, \"ticks\": \"\"}, \"colorscale\": [[0.0, \"#0d0887\"], [0.1111111111111111, \"#46039f\"], [0.2222222222222222, \"#7201a8\"], [0.3333333333333333, \"#9c179e\"], [0.4444444444444444, \"#bd3786\"], [0.5555555555555556, \"#d8576b\"], [0.6666666666666666, \"#ed7953\"], [0.7777777777777778, \"#fb9f3a\"], [0.8888888888888888, \"#fdca26\"], [1.0, \"#f0f921\"]], \"type\": \"heatmap\"}], \"heatmapgl\": [{\"colorbar\": {\"outlinewidth\": 0, \"ticks\": \"\"}, \"colorscale\": [[0.0, \"#0d0887\"], [0.1111111111111111, \"#46039f\"], [0.2222222222222222, \"#7201a8\"], [0.3333333333333333, \"#9c179e\"], [0.4444444444444444, \"#bd3786\"], [0.5555555555555556, \"#d8576b\"], [0.6666666666666666, \"#ed7953\"], [0.7777777777777778, \"#fb9f3a\"], [0.8888888888888888, \"#fdca26\"], [1.0, \"#f0f921\"]], \"type\": \"heatmapgl\"}], \"histogram\": [{\"marker\": {\"colorbar\": {\"outlinewidth\": 0, \"ticks\": \"\"}}, \"type\": \"histogram\"}], \"histogram2d\": [{\"colorbar\": {\"outlinewidth\": 0, \"ticks\": \"\"}, \"colorscale\": [[0.0, \"#0d0887\"], [0.1111111111111111, \"#46039f\"], [0.2222222222222222, \"#7201a8\"], [0.3333333333333333, \"#9c179e\"], [0.4444444444444444, \"#bd3786\"], [0.5555555555555556, \"#d8576b\"], [0.6666666666666666, \"#ed7953\"], [0.7777777777777778, \"#fb9f3a\"], [0.8888888888888888, \"#fdca26\"], [1.0, \"#f0f921\"]], \"type\": \"histogram2d\"}], \"histogram2dcontour\": [{\"colorbar\": {\"outlinewidth\": 0, \"ticks\": \"\"}, \"colorscale\": [[0.0, \"#0d0887\"], [0.1111111111111111, \"#46039f\"], [0.2222222222222222, \"#7201a8\"], [0.3333333333333333, \"#9c179e\"], [0.4444444444444444, \"#bd3786\"], [0.5555555555555556, \"#d8576b\"], [0.6666666666666666, \"#ed7953\"], [0.7777777777777778, \"#fb9f3a\"], [0.8888888888888888, \"#fdca26\"], [1.0, \"#f0f921\"]], \"type\": \"histogram2dcontour\"}], \"mesh3d\": [{\"colorbar\": {\"outlinewidth\": 0, \"ticks\": \"\"}, \"type\": \"mesh3d\"}], \"parcoords\": [{\"line\": {\"colorbar\": {\"outlinewidth\": 0, \"ticks\": \"\"}}, \"type\": \"parcoords\"}], \"pie\": [{\"automargin\": true, \"type\": \"pie\"}], \"scatter\": [{\"marker\": {\"colorbar\": {\"outlinewidth\": 0, \"ticks\": \"\"}}, \"type\": \"scatter\"}], \"scatter3d\": [{\"line\": {\"colorbar\": {\"outlinewidth\": 0, \"ticks\": \"\"}}, \"marker\": {\"colorbar\": {\"outlinewidth\": 0, \"ticks\": \"\"}}, \"type\": \"scatter3d\"}], \"scattercarpet\": [{\"marker\": {\"colorbar\": {\"outlinewidth\": 0, \"ticks\": \"\"}}, \"type\": \"scattercarpet\"}], \"scattergeo\": [{\"marker\": {\"colorbar\": {\"outlinewidth\": 0, \"ticks\": \"\"}}, \"type\": \"scattergeo\"}], \"scattergl\": [{\"marker\": {\"colorbar\": {\"outlinewidth\": 0, \"ticks\": \"\"}}, \"type\": \"scattergl\"}], \"scattermapbox\": [{\"marker\": {\"colorbar\": {\"outlinewidth\": 0, \"ticks\": \"\"}}, \"type\": \"scattermapbox\"}], \"scatterpolar\": [{\"marker\": {\"colorbar\": {\"outlinewidth\": 0, \"ticks\": \"\"}}, \"type\": \"scatterpolar\"}], \"scatterpolargl\": [{\"marker\": {\"colorbar\": {\"outlinewidth\": 0, \"ticks\": \"\"}}, \"type\": \"scatterpolargl\"}], \"scatterternary\": [{\"marker\": {\"colorbar\": {\"outlinewidth\": 0, \"ticks\": \"\"}}, \"type\": \"scatterternary\"}], \"surface\": [{\"colorbar\": {\"outlinewidth\": 0, \"ticks\": \"\"}, \"colorscale\": [[0.0, \"#0d0887\"], [0.1111111111111111, \"#46039f\"], [0.2222222222222222, \"#7201a8\"], [0.3333333333333333, \"#9c179e\"], [0.4444444444444444, \"#bd3786\"], [0.5555555555555556, \"#d8576b\"], [0.6666666666666666, \"#ed7953\"], [0.7777777777777778, \"#fb9f3a\"], [0.8888888888888888, \"#fdca26\"], [1.0, \"#f0f921\"]], \"type\": \"surface\"}], \"table\": [{\"cells\": {\"fill\": {\"color\": \"#EBF0F8\"}, \"line\": {\"color\": \"white\"}}, \"header\": {\"fill\": {\"color\": \"#C8D4E3\"}, \"line\": {\"color\": \"white\"}}, \"type\": \"table\"}]}, \"layout\": {\"annotationdefaults\": {\"arrowcolor\": \"#2a3f5f\", \"arrowhead\": 0, \"arrowwidth\": 1}, \"coloraxis\": {\"colorbar\": {\"outlinewidth\": 0, \"ticks\": \"\"}}, \"colorscale\": {\"diverging\": [[0, \"#8e0152\"], [0.1, \"#c51b7d\"], [0.2, \"#de77ae\"], [0.3, \"#f1b6da\"], [0.4, \"#fde0ef\"], [0.5, \"#f7f7f7\"], [0.6, \"#e6f5d0\"], [0.7, \"#b8e186\"], [0.8, \"#7fbc41\"], [0.9, \"#4d9221\"], [1, \"#276419\"]], \"sequential\": [[0.0, \"#0d0887\"], [0.1111111111111111, \"#46039f\"], [0.2222222222222222, \"#7201a8\"], [0.3333333333333333, \"#9c179e\"], [0.4444444444444444, \"#bd3786\"], [0.5555555555555556, \"#d8576b\"], [0.6666666666666666, \"#ed7953\"], [0.7777777777777778, \"#fb9f3a\"], [0.8888888888888888, \"#fdca26\"], [1.0, \"#f0f921\"]], \"sequentialminus\": [[0.0, \"#0d0887\"], [0.1111111111111111, \"#46039f\"], [0.2222222222222222, \"#7201a8\"], [0.3333333333333333, \"#9c179e\"], [0.4444444444444444, \"#bd3786\"], [0.5555555555555556, \"#d8576b\"], [0.6666666666666666, \"#ed7953\"], [0.7777777777777778, \"#fb9f3a\"], [0.8888888888888888, \"#fdca26\"], [1.0, \"#f0f921\"]]}, \"colorway\": [\"#636efa\", \"#EF553B\", \"#00cc96\", \"#ab63fa\", \"#FFA15A\", \"#19d3f3\", \"#FF6692\", \"#B6E880\", \"#FF97FF\", \"#FECB52\"], \"font\": {\"color\": \"#2a3f5f\"}, \"geo\": {\"bgcolor\": \"white\", \"lakecolor\": \"white\", \"landcolor\": \"#E5ECF6\", \"showlakes\": true, \"showland\": true, \"subunitcolor\": \"white\"}, \"hoverlabel\": {\"align\": \"left\"}, \"hovermode\": \"closest\", \"mapbox\": {\"style\": \"light\"}, \"paper_bgcolor\": \"white\", \"plot_bgcolor\": \"#E5ECF6\", \"polar\": {\"angularaxis\": {\"gridcolor\": \"white\", \"linecolor\": \"white\", \"ticks\": \"\"}, \"bgcolor\": \"#E5ECF6\", \"radialaxis\": {\"gridcolor\": \"white\", \"linecolor\": \"white\", \"ticks\": \"\"}}, \"scene\": {\"xaxis\": {\"backgroundcolor\": \"#E5ECF6\", \"gridcolor\": \"white\", \"gridwidth\": 2, \"linecolor\": \"white\", \"showbackground\": true, \"ticks\": \"\", \"zerolinecolor\": \"white\"}, \"yaxis\": {\"backgroundcolor\": \"#E5ECF6\", \"gridcolor\": \"white\", \"gridwidth\": 2, \"linecolor\": \"white\", \"showbackground\": true, \"ticks\": \"\", \"zerolinecolor\": \"white\"}, \"zaxis\": {\"backgroundcolor\": \"#E5ECF6\", \"gridcolor\": \"white\", \"gridwidth\": 2, \"linecolor\": \"white\", \"showbackground\": true, \"ticks\": \"\", \"zerolinecolor\": \"white\"}}, \"shapedefaults\": {\"line\": {\"color\": \"#2a3f5f\"}}, \"ternary\": {\"aaxis\": {\"gridcolor\": \"white\", \"linecolor\": \"white\", \"ticks\": \"\"}, \"baxis\": {\"gridcolor\": \"white\", \"linecolor\": \"white\", \"ticks\": \"\"}, \"bgcolor\": \"#E5ECF6\", \"caxis\": {\"gridcolor\": \"white\", \"linecolor\": \"white\", \"ticks\": \"\"}}, \"title\": {\"x\": 0.05}, \"xaxis\": {\"automargin\": true, \"gridcolor\": \"white\", \"linecolor\": \"white\", \"ticks\": \"\", \"title\": {\"standoff\": 15}, \"zerolinecolor\": \"white\", \"zerolinewidth\": 2}, \"yaxis\": {\"automargin\": true, \"gridcolor\": \"white\", \"linecolor\": \"white\", \"ticks\": \"\", \"title\": {\"standoff\": 15}, \"zerolinecolor\": \"white\", \"zerolinewidth\": 2}}}, \"title\": {\"text\": \"PCA BBC Sport news\"}, \"xaxis\": {\"anchor\": \"y\", \"domain\": [0.0, 1.0], \"title\": {\"text\": \"x\"}}, \"yaxis\": {\"anchor\": \"x\", \"domain\": [0.0, 1.0], \"title\": {\"text\": \"y\"}}},\n",
              "                        {\"responsive\": true}\n",
              "                    ).then(function(){\n",
              "                            \n",
              "var gd = document.getElementById('42426abe-e9e7-4297-a48f-32f631261a69');\n",
              "var x = new MutationObserver(function (mutations, observer) {{\n",
              "        var display = window.getComputedStyle(gd).display;\n",
              "        if (!display || display === 'none') {{\n",
              "            console.log([gd, 'removed!']);\n",
              "            Plotly.purge(gd);\n",
              "            observer.disconnect();\n",
              "        }}\n",
              "}});\n",
              "\n",
              "// Listen for the removal of the full notebook cells\n",
              "var notebookContainer = gd.closest('#notebook-container');\n",
              "if (notebookContainer) {{\n",
              "    x.observe(notebookContainer, {childList: true});\n",
              "}}\n",
              "\n",
              "// Listen for the clearing of the current output cell\n",
              "var outputEl = gd.closest('.output');\n",
              "if (outputEl) {{\n",
              "    x.observe(outputEl, {childList: true});\n",
              "}}\n",
              "\n",
              "                        })\n",
              "                };\n",
              "                \n",
              "            </script>\n",
              "        </div>\n",
              "</body>\n",
              "</html>"
            ]
          },
          "metadata": {
            "tags": []
          }
        }
      ]
    },
    {
      "cell_type": "markdown",
      "metadata": {
        "id": "w88gMjNLQHBJ"
      },
      "source": [
        "Also, we can \"visualize\" the most common words for each topic with top_words"
      ],
      "id": "w88gMjNLQHBJ"
    },
    {
      "cell_type": "code",
      "metadata": {
        "colab": {
          "base_uri": "https://localhost:8080/"
        },
        "id": "Qdb2v75yQFJf",
        "outputId": "006d1e2e-9a22-4c8a-a680-358f8dd5cbb4"
      },
      "source": [
        "NUM_TOP_WORDS = 5\n",
        "df.groupby('topic')['text'].apply(lambda x: hero.top_words(x)[:NUM_TOP_WORDS])"
      ],
      "id": "Qdb2v75yQFJf",
      "execution_count": 14,
      "outputs": [
        {
          "output_type": "execute_result",
          "data": {
            "text/plain": [
              "topic         \n",
              "athletics  the    1731\n",
              "           in      885\n",
              "           to      882\n",
              "           and     665\n",
              "           a       613\n",
              "cricket    the    2246\n",
              "           to     1309\n",
              "           a      1045\n",
              "           in     1007\n",
              "           and     988\n",
              "football   the    4516\n",
              "           to     2641\n",
              "           a      2061\n",
              "           and    1904\n",
              "           in     1580\n",
              "rugby      the    2770\n",
              "           to     1393\n",
              "           a      1210\n",
              "           and    1129\n",
              "           in     1093\n",
              "tennis     the    1527\n",
              "           to      826\n",
              "           in      706\n",
              "           a       587\n",
              "           and     573\n",
              "Name: text, dtype: int64"
            ]
          },
          "metadata": {
            "tags": []
          },
          "execution_count": 14
        }
      ]
    },
    {
      "cell_type": "code",
      "metadata": {
        "id": "august-preservation",
        "colab": {
          "base_uri": "https://localhost:8080/",
          "height": 206
        },
        "outputId": "bdb46a0c-de68-4351-b66d-8c3f5e83bae3"
      },
      "source": [
        "df.head()"
      ],
      "id": "august-preservation",
      "execution_count": 15,
      "outputs": [
        {
          "output_type": "execute_result",
          "data": {
            "text/html": [
              "<div>\n",
              "<style scoped>\n",
              "    .dataframe tbody tr th:only-of-type {\n",
              "        vertical-align: middle;\n",
              "    }\n",
              "\n",
              "    .dataframe tbody tr th {\n",
              "        vertical-align: top;\n",
              "    }\n",
              "\n",
              "    .dataframe thead th {\n",
              "        text-align: right;\n",
              "    }\n",
              "</style>\n",
              "<table border=\"1\" class=\"dataframe\">\n",
              "  <thead>\n",
              "    <tr style=\"text-align: right;\">\n",
              "      <th></th>\n",
              "      <th>text</th>\n",
              "      <th>topic</th>\n",
              "      <th>pca</th>\n",
              "    </tr>\n",
              "  </thead>\n",
              "  <tbody>\n",
              "    <tr>\n",
              "      <th>0</th>\n",
              "      <td>Claxton hunting first major medal\\n\\nBritish h...</td>\n",
              "      <td>athletics</td>\n",
              "      <td>[-0.09104989057576593, 0.10347155373429032]</td>\n",
              "    </tr>\n",
              "    <tr>\n",
              "      <th>1</th>\n",
              "      <td>O'Sullivan could run in Worlds\\n\\nSonia O'Sull...</td>\n",
              "      <td>athletics</td>\n",
              "      <td>[-0.00045037197177923686, 0.02481619299726644]</td>\n",
              "    </tr>\n",
              "    <tr>\n",
              "      <th>2</th>\n",
              "      <td>Greene sets sights on world title\\n\\nMaurice G...</td>\n",
              "      <td>athletics</td>\n",
              "      <td>[-0.11761165386741548, 0.12877483603725004]</td>\n",
              "    </tr>\n",
              "    <tr>\n",
              "      <th>3</th>\n",
              "      <td>IAAF launches fight against drugs\\n\\nThe IAAF ...</td>\n",
              "      <td>athletics</td>\n",
              "      <td>[-0.09137916008742447, 0.15409369238921933]</td>\n",
              "    </tr>\n",
              "    <tr>\n",
              "      <th>4</th>\n",
              "      <td>Dibaba breaks 5,000m world record\\n\\nEthiopia'...</td>\n",
              "      <td>athletics</td>\n",
              "      <td>[-0.09130212553792584, 0.1350658747907763]</td>\n",
              "    </tr>\n",
              "  </tbody>\n",
              "</table>\n",
              "</div>"
            ],
            "text/plain": [
              "                                                text  ...                                             pca\n",
              "0  Claxton hunting first major medal\\n\\nBritish h...  ...     [-0.09104989057576593, 0.10347155373429032]\n",
              "1  O'Sullivan could run in Worlds\\n\\nSonia O'Sull...  ...  [-0.00045037197177923686, 0.02481619299726644]\n",
              "2  Greene sets sights on world title\\n\\nMaurice G...  ...     [-0.11761165386741548, 0.12877483603725004]\n",
              "3  IAAF launches fight against drugs\\n\\nThe IAAF ...  ...     [-0.09137916008742447, 0.15409369238921933]\n",
              "4  Dibaba breaks 5,000m world record\\n\\nEthiopia'...  ...      [-0.09130212553792584, 0.1350658747907763]\n",
              "\n",
              "[5 rows x 3 columns]"
            ]
          },
          "metadata": {
            "tags": []
          },
          "execution_count": 15
        }
      ]
    },
    {
      "cell_type": "code",
      "metadata": {
        "id": "talented-console",
        "colab": {
          "base_uri": "https://localhost:8080/",
          "height": 542
        },
        "outputId": "0bd125bc-7ab8-4479-b9d1-df8d2a4bd00b"
      },
      "source": [
        "import texthero as hero\n",
        "import pandas as pd\n",
        "\n",
        "df = pd.read_csv(\n",
        "    \"https://github.com/jbesomi/texthero/raw/master/dataset/bbcsport.csv\"\n",
        ")\n",
        "\n",
        "df['tfidf'] = (\n",
        "    df['text']\n",
        "    .pipe(hero.clean)\n",
        "    .pipe(hero.tfidf)\n",
        ")\n",
        "### Kmeans\n",
        "\n",
        "df['kmeans_labels'] = (\n",
        "    df['tfidf']\n",
        "    .pipe(hero.kmeans, n_clusters=5)\n",
        "    .astype(str)\n",
        ")\n",
        "\n",
        "df['pca'] = df['tfidf'].pipe(hero.pca)\n",
        "\n",
        "hero.scatterplot(df, 'pca', color='kmeans_labels', title=\"K-means BBC Sport news\")"
      ],
      "id": "talented-console",
      "execution_count": 19,
      "outputs": [
        {
          "output_type": "display_data",
          "data": {
            "text/html": [
              "<html>\n",
              "<head><meta charset=\"utf-8\" /></head>\n",
              "<body>\n",
              "    <div>\n",
              "            <script src=\"https://cdnjs.cloudflare.com/ajax/libs/mathjax/2.7.5/MathJax.js?config=TeX-AMS-MML_SVG\"></script><script type=\"text/javascript\">if (window.MathJax) {MathJax.Hub.Config({SVG: {font: \"STIX-Web\"}});}</script>\n",
              "                <script type=\"text/javascript\">window.PlotlyConfig = {MathJaxConfig: 'local'};</script>\n",
              "        <script src=\"https://cdn.plot.ly/plotly-latest.min.js\"></script>    \n",
              "            <div id=\"f49d5235-3829-4508-904a-0e7f5335a20a\" class=\"plotly-graph-div\" style=\"height:525px; width:100%;\"></div>\n",
              "            <script type=\"text/javascript\">\n",
              "                \n",
              "                    window.PLOTLYENV=window.PLOTLYENV || {};\n",
              "                    \n",
              "                if (document.getElementById(\"f49d5235-3829-4508-904a-0e7f5335a20a\")) {\n",
              "                    Plotly.newPlot(\n",
              "                        'f49d5235-3829-4508-904a-0e7f5335a20a',\n",
              "                        [{\"hoverlabel\": {\"namelength\": 0}, \"hovertemplate\": \"kmeans_labels=0<br>x=%{x}<br>y=%{y}\", \"legendgroup\": \"kmeans_labels=0\", \"marker\": {\"color\": \"#636efa\", \"symbol\": \"circle\"}, \"mode\": \"markers\", \"name\": \"kmeans_labels=0\", \"showlegend\": true, \"type\": \"scatter\", \"x\": [-0.09104256374798383, -0.11763950605804911, -0.09136229832526747, -0.09128097154398529, -0.11034829229199547, -0.029029751395516556, -0.12891720421077574, -0.15750592254757811, -0.0959429020651964, -0.10784817288955267, -0.08979238418157327, -0.08056901470521464, -0.07797301283218461, -0.12052492819079216, -0.14092306609183447, -0.10524864825380267, -0.11146461100585923, -0.10784817288955267, -0.09705600679699883, -0.10713694373764152, -0.14573114532307044, -0.0747732801715402, -0.10889273184931925, -0.08583926274145261, -0.09925166597621868, -0.11475013663550195, -0.10914069465463573, -0.07440332619857686, -0.04977230870895153, -0.13233711423314728, -0.15109220155709158, -0.13175896249628952, -0.08922879741505331, -0.10211341437862256, -0.10212339647439274, -0.07953582839216922, -0.0694891864778067, -0.09040843603394622, -0.06171874528054113, -0.09413181064252175, -0.08174271766910167, -0.11261964906911283, -0.1270704922372345, -0.12123042586925012, -0.12814417560907404, -0.09396328243930244, -0.09632253514553868, -0.1434921688618182, -0.09689121999587441, -0.10455102456456755, -0.12825537831502523, -0.13842055116650262, -0.11372262880260448, -0.10014801127001398, -0.11211911938286892, -0.06180453873846214, -0.12161581265854433, -0.06479626980455637, -0.11026746660278576, -0.16012313961140737, -0.11223909911342916, -0.03021630059058029, -0.17673845539680197, -0.10725572983356892, -0.10582559228974896, -0.059294237213866646, -0.10769847186650715, -0.10514269614709189, -0.10484898155206367, -0.06418276777394497, -0.014972083246226476, -0.08104284318916657, -0.1353472556951928, -0.13047340942377075, -0.14644228121312522, -0.12787469150605235, -0.06373235958310983, -0.09396328243930244, -0.07471435361400271, -0.08023304726548518, -0.08369115738821944, -0.13203118918710358, -0.09233434385844706, -0.06990652543695451, -0.07751064349036438, -0.08828798584318477, -0.15267825181883404, -0.11292393662604658, -0.10716994495565701, -0.13793551247852395, -0.058459131557985516], \"xaxis\": \"x\", \"y\": [0.1035789996459509, 0.12859250536974925, 0.15399587389869654, 0.13497675866464925, 0.15749439064829693, 0.070452556558939, 0.17067434455165156, 0.2402346821533486, 0.11504617945955935, 0.10886560219870742, 0.11693740848077673, 0.048810108431564275, 0.13016152612365664, 0.33153749747793637, 0.33399701344418165, 0.17691748435978327, 0.1349166729210471, 0.10886560219870742, 0.15732920915313325, 0.13092125891068987, 0.33457206267142514, 0.11106835296965727, 0.15275301731932706, 0.18004739250774301, 0.15870918776840684, 0.13616427868496495, 0.16113450249376698, 0.10382164482203968, 0.07711460866709702, 0.20818188975713883, 0.3368123189825927, 0.15864593379716743, 0.16921988909876973, 0.13616941982656702, 0.0891976414313103, 0.08356768451626145, 0.0968854584914683, 0.12526374971930665, 0.12049371767579735, 0.15993965408644295, 0.11328175193947092, 0.2588083462832335, 0.30351644469595634, 0.3224897016402852, 0.3440115835565171, 0.1529830938701817, 0.11277059273637807, 0.31470027197749945, 0.13831316631888785, 0.13372254289970834, 0.15052036054846082, 0.16407444779232697, 0.08919693680063362, 0.1370759586306022, 0.1501993684525881, 0.08602316980721884, 0.1560609574886866, 0.1015161888946207, 0.1314124989820363, 0.2945932602076723, 0.15618602302612034, 0.08154528220148004, 0.24972445053222056, 0.08374036080436481, 0.11824503757303073, 0.06542595168221838, 0.08485485988173055, 0.12837765337630816, 0.18543893180326046, 0.10164547448298314, 0.05031751611840226, 0.11165458196734326, 0.32711602918783955, 0.27804865005081925, 0.3430148159048694, 0.3381136202716652, 0.10769745168667293, 0.1529830938701817, 0.10392797139043224, 0.0975537056731737, 0.12013132975789219, 0.30839336582327487, 0.09765504488004391, 0.1342532090069609, 0.10340881017812015, 0.11299574354249439, 0.2207579673734796, 0.12440199426807297, 0.15196928072790658, 0.1796471871389393, 0.11550023543713936], \"yaxis\": \"y\"}, {\"hoverlabel\": {\"namelength\": 0}, \"hovertemplate\": \"kmeans_labels=3<br>x=%{x}<br>y=%{y}\", \"legendgroup\": \"kmeans_labels=3\", \"marker\": {\"color\": \"#EF553B\", \"symbol\": \"circle\"}, \"mode\": \"markers\", \"name\": \"kmeans_labels=3\", \"showlegend\": true, \"type\": \"scatter\", \"x\": [-0.0004128395625848327, 0.11019445358835346, 0.014961959747326739, 0.13154369149999431, 0.19130000987429518, 0.13723085978778632, 0.05708606280622204, 0.06664341089241572, 0.15154956497153152, 0.1351035172385836, 0.12861552385584699, 0.10028084596658543, 0.009764640764832152, 0.06056930035688876, 0.08261081708900042, 0.030394592529827857, 0.038191922138367265, 0.15786998562812038, 0.19671691341960804, 0.08506798409501344, 0.15899023464789763, 0.15236183797959343, 0.16227041598528283, 0.09142104886006937, 0.062295523905432776, 0.09353178129121587, 0.14884201096323402, 0.13534566521064406, 0.18698648762634373, 0.22280785353754093, 0.10957875029375712, 0.15614292835239912, 0.2110724817765543, 0.061905733102142924, 0.04050814473278913, 0.21162126636758807, 0.03479854224654277, 0.18245786451795826, 0.27893487581273385, 0.13892203886096044, 0.044212790348044054, 0.1227496494582897, 0.12142944245698128, 0.13728712806451485, 0.2397288638468675, 0.10398563201710981, 0.13262451341118814, 0.1832164206452812, 0.09511868254231007, 0.12655558289295019, 0.11117966928367609, 0.13414399512508277, 0.2688711559881618, 0.12770024460413737, 0.06997330551023852, 0.20732550462875687, 0.10945446101806372, 0.10398563201710981, 0.14108556501582165, 0.06405416305079595, 0.10094184610321456, 0.10402185151943158, 0.15169926729627636, 0.047145634137648364, 0.2119596356650935, 0.10302338207881377, 0.04506773916455831, 0.0388312532774837, 0.11931778261881965, 0.146293239586213, 0.06716670302376532, 0.08643435355672895, 0.05876581476967048, 0.05733843487078645, 0.053334704626564054, 0.09021004514593814, 0.05774600820391685, 0.1729985921714272, 0.09536285675440749, 0.11911702960351611, 0.17185648190914404, 0.2045545892225128, 0.11885205307881812, 0.05130344840262791, 0.176395346847768, 0.10933655393799975, 0.057879739287381694, 0.06600830458214567, 0.09402700583895525, 0.1627827710774431, 0.13225875893949832, 0.1319283229164558, 0.12987579075867486, 0.11255395580616041, 0.03561718307053294, 0.045089567612414866, 0.08224998190374107, 0.18425993775052688, 0.05235011607641748, 0.1302145846208926, 0.13853134539928033, 0.0965921674443463, 0.11038638691074064, 0.11745196445778674, 0.1438881673747668, 0.180642301079904, 0.15131026736471087, 0.2627887279172147, 0.15160991556093664, 0.1518423978472857, 0.09511868254231007, 0.11913349737431492, 0.11914833379171626, 0.0363045632752894, 0.12705325475800833, 0.06973692569175353, 0.22529493856648772, 0.14060134534502297, 0.22349910500697773, 0.12440240120393459, 0.13723677228676312, 0.0803020817638482, 0.04606135487435226], \"xaxis\": \"x\", \"y\": [0.02476870490301975, -0.041764584682980395, -0.11203761475004254, -0.18067646035331458, -0.20541574217727446, -0.1655448480861425, -0.04921677182908777, -0.10319691816034966, -0.20140855668794805, -0.17696307478662276, -0.14551594080166164, -0.12937557906541, -0.055763102929896814, -0.033824774434675804, -0.10267464744112392, -0.08586823443040942, -0.039896411009968394, -0.16004744539420518, -0.16169759467805497, -0.10700151161784476, -0.11299245730630766, -0.15802579469946532, -0.14683580387804046, -0.09944065111418532, -0.0483433759099552, -0.08055332775008206, -0.1582241092726435, -0.09734362090262198, -0.1250861189007247, -0.1174763440312112, -0.14805654890537603, -0.11061903897078414, -0.1615828457095109, -0.1250036949181636, -0.06465618268434098, -0.12404137854560625, -0.05406843624491595, -0.08239202218032907, -0.21989703101676789, -0.1787411716250348, -0.11671691704722649, -0.07761574756368766, -0.07656089599555009, -0.14972401922851727, -0.13965495011782747, -0.08420659193989641, -0.0899259322005542, -0.15556991290813998, -0.08947475062450261, -0.15032581929367603, -0.09161609994802394, -0.16741872651821252, -0.0974702192465125, -0.12896060904962367, -0.06796291216664772, -0.18729976283124922, -0.10814046689889473, -0.08420659193989641, -0.11705742608715937, -0.10162412532691709, -0.11756512210959569, -0.1269937247166743, -0.1549638201676508, -0.024559073836888993, -0.1605999689289054, -0.1144298730911863, -0.018391536779358945, -0.0873602569664009, -0.09983087860399824, -0.14520225682449403, -0.1139798147664383, -0.14204724028268662, -0.09308780804445838, -0.1266039185680221, -0.04216183604685744, -0.1068344583328988, -0.057141969271299484, -0.09354093652594213, -0.01775276297017164, -0.08261558981110126, -0.06784101916056852, -0.15945986947119664, -0.07646750307336182, -0.09767704049663095, -0.09695685656555049, -0.05545843908348002, -0.021351455293649638, -0.06753406341060918, -0.03849577037056987, -0.1412651479521343, -0.091517436870244, -0.09115907925371752, -0.08064169777947532, -0.0629528099809764, -0.08648218214871535, -0.09448478224888791, -0.003933723395801955, -0.18839648024392655, -0.08361561571997411, -0.11694878632740519, -0.12157437593960643, -0.1094853818164839, -0.047702763677251354, -0.11157323191715775, 0.004986099915172825, -0.15754478761197077, -0.18864485482337118, -0.21720442267938178, -0.20116967306814873, -0.07588425065429598, -0.08947475062450261, -0.14247451592301247, -0.0484867799928749, -0.06145744262304957, -0.13346526441468087, -0.10613617678735505, -0.15951577226167782, -0.1620516399604611, -0.11737861253440882, -0.08280693924536728, -0.0739025780169743, -0.04372405759745796, -0.043188837129654344], \"yaxis\": \"y\"}, {\"hoverlabel\": {\"namelength\": 0}, \"hovertemplate\": \"kmeans_labels=4<br>x=%{x}<br>y=%{y}\", \"legendgroup\": \"kmeans_labels=4\", \"marker\": {\"color\": \"#00cc96\", \"symbol\": \"circle\"}, \"mode\": \"markers\", \"name\": \"kmeans_labels=4\", \"showlegend\": true, \"type\": \"scatter\", \"x\": [-0.04296463296184839, -0.05470064162184847, -0.05788829156923963, -0.05636663406683234, -0.05471469077387568, -0.05471469077387568, -0.022669258063546503, -0.044314994670347205, -0.0629954653022133, 0.05252689081398473, 0.03220293976385919, 0.03105950486763194, -0.026166034930080552, 0.038976953070193374, -0.033493401988159935, 0.02843430585027446, -0.046942834932412546, -0.11358947326681595, -0.08362328854907622, -0.09684608700013493, 0.07301852034649488, -0.033734478357776966, -0.07625362046531939, -0.1987402309733479, -0.1002415625816244, -0.12679103532963207, -0.006122819390658118, -0.01643076998200559, -0.011319967761947275, -0.0019452463940796715, -0.005070894152989428, -0.05495291024114748, -0.12324175182284278, -0.1712313488830608, -0.0045947135138499655, -0.04144087292631325, -0.038003366457777986, -0.047114863640787485, -0.051712506491105405, -0.13824285910180545, -0.02399203815559079, -0.011085048415347784, -0.171353056621314, -0.1073448676289758, 0.004945664989522531, -0.0675049943151538, -0.13754700390810495, -0.06455452679445062, -0.01710012982135134, 0.016482903725777924, 0.006858733852840406, -0.05992124408219896, -0.0431645116505584, 0.0030417917729127, 0.02174242822984426, -0.03131329046517315, -0.05997232249496077, -0.077468661183967, -0.06597259187162972, -0.06376618635196153, -0.10990892905304622, -0.1486269275470814, -0.04870867591769089, -0.05646716309110506, -0.08695263859619806, -0.024284439364909604, -0.026928688225538868, -0.04026269545754627, -0.05398439789264924, -0.04759951293176391, -0.047513979393633, -0.05524071272354535, -0.1067219356513865, -0.060683445130416604, -0.1269776775122041, -0.08862044768839847, -0.07396293185992756, -0.11319745735885184, -0.0967035696266869, -0.1849094641404528, -0.05512100904777489, -0.08302386229432064, -0.05013890289041328, -0.07085678019936002, -0.05940497784885223, -0.08766600284362201, -0.06603766449058747, -0.10995485921849499, -0.13245547857776147, -0.2021741648741023, -0.08615545980081521, -0.03330911684412063, -0.07567856163433395, -0.00856971285115877, -0.12727743317707327, -0.07639886993031896, -0.07532452246604938, -0.18262376835171626, -0.08684998551511396, -0.05186810655233925, -0.0730494547996172, -0.1304022054442766, -0.1304022054442766, -0.14941795596212987, -0.1177569067733982, -0.03602605481409671, -0.07996946319211959, -0.07810862546572832, -0.10675434601173997, -0.07575328425481499, 0.02209181037118088, -0.03836011404250854, -0.09008391414844134, -0.10604873677619102, -0.050303686802790105, -0.07606678817970218, -0.11808963448192955, -0.09968260667859974, -0.11967487865806191, -0.14076774720652627, -0.06873656716871489, -0.12773744397136758, -0.051172090435733515, -0.07084767823936305, -0.04925104263503233, -0.05955921574782039, -0.11689222974701424, -0.04537580892430864, -0.05449993063167233, -0.16301668239834521, -0.0403187798479615, -0.11229540019950385, -0.03185421367444859, -0.025502292480376866, -4.5318450252292605e-05, -0.01413546037557808, -0.032425138536213705, -0.02192809339237204, -0.17504971170437528, 0.017023089205219045, -0.061732860888621593, -0.051559634997552714, -0.0463919134210625, -0.09492932350103266, -0.02088025337220839, 0.005121090160891656, -0.03889207163124401, -0.11324755509570787, -0.11357458543441691, -0.06051123435771178, -0.05455648861616047, -0.13234506664307963, -0.03253837674756823, -0.0576261425086553, -0.06948657523770259, -0.13112269924726705, -0.10570861507381117, -0.11639146553516218, -0.09561842256304805, -0.13096997389478252, -0.017990943777631854, -0.06379326617027366, -0.10094863460232056, -0.19360111923246615, -0.06321518376377418, -0.05286861218432313, -0.1160965465351952, -0.05112585303847638, -0.09783143234655796, -0.07205193882082458, -0.05691849633881371, -0.07890114030609309, -0.1465303149006859, -0.04453692711448017, -0.11367883419756185, -0.1465303149006859, -0.06710049480150714, -0.06844591085547122, -0.06844591085547122, -0.09296061611651535, -0.06936151666883288, -0.06027164783110926, -0.05173538097326896, -0.03617727500352978, -0.06019085130420388, -0.08721655531952027, -0.13340395312328557, -0.07242803204181847, -0.04073739657053035, -0.04010208216527816, -0.06033167041995932, -0.07177522525515881, -0.1565799409186802, -0.07458838175218646, -0.1698959928517181, -0.09025455637422959, -0.055162333233543116, -0.04011907922610403, -0.06177179963856777, -0.0816677169236213, -0.12838770837685057, -0.0867979802672325, -0.09581973137821093, -0.07984767763197914, -0.1611197088888758, -0.15688534145017763, -0.11930341216164955, -0.0790281037601688, -0.07271275659508526, -0.0590531706729215, 0.005144355044650258, -0.03685015536709466, -0.10095854376033568, -0.07665103406525552, -0.06763051207201823, -0.053596738541239954, -0.195716016376477, -0.05513887546780646, -0.06537581045668693, -0.07690909000058843, -0.04274082889489892, -0.20012385220414242, -0.0519590899579985, -0.1445619470242791, -0.08362328854907622, -0.06640424261511096, -0.07780563867091622, -0.03540719818900379, -0.047396107701238414, -0.12169756874812832, -0.07011465982885691, -0.030176016205177333, -0.05996170260399394, -0.0228900970867209, 0.002519811574029293, -0.1338017167001919, -0.005714553406991763, -0.10055111807654023, -0.03258835600915056, -0.04224057234481028, -0.09716667155560854, -0.032312229647003685, -0.08205879725142382, -0.18141162725365212, -0.1258667536851824, -0.06021687056728511, -0.08684838008560206, -0.09168138847277417, -0.06030601256074839, -0.04875636013343193, -0.024573887445969344, -0.08934821214915847, -0.06684013238781282, -0.18562137603613688, -0.11393871279926002, -0.12260543319299293, -0.06406263883625558, -0.1725932842229389, -0.08050979306599498, -0.13005194801023612, -0.07573351680246808, -0.025384583885865272, -0.04539382878288102, -0.057999130523928806, -0.14920818046729717, -0.0792914663725274, -0.12635486389098163, -0.0790897667857306, -0.04088298462245388, -0.03994982277116771, -0.05488235663306414, -0.101390789103262, -0.009420191917497114, -0.05178215061117786, -0.08309037627916656, -0.021699852172856644, -0.09839605493157144, -0.06484696288500505, -0.03565329770595097, -0.0028498489773757674, 0.04002841170833421, 0.02729849509617961, -0.008925710017475016, -0.007418017533936278, 0.02534011455934018, 0.036528606215590204, -0.024855592592000132, 0.004176363743890953, -0.002056843140906961, 0.025048588419687698, -0.016515304140667222, 0.021206868932429332, 0.06375167011395588, 0.01515483941963247, 0.044659882574526175, 0.022404393239314743, 0.002085668820840406, -0.055082892599506376, -0.05390049395719125, 0.028896504616300868, 0.027177992542971593, -0.04069319349999678, 0.06382830023294082, -0.002175284399313984, -0.03124578801723892, -0.02190083214277602, -0.04796682269346763, -0.07346363045001111, -0.07346363045001111, -0.06651603435658161, -0.03867558918924085, -0.057866738716413964, -0.04876507616898141], \"xaxis\": \"x\", \"y\": [0.03473563451660057, 0.1291352155160448, 0.12290424970860296, 0.07944729063720463, 0.1346518648749341, 0.1346518648749341, 0.013150856378485504, 0.056561126081875183, 0.017637854589590173, -0.006175144899261372, 0.001978197583565886, 0.008381096606347699, 0.06441570951797257, 0.011922516314844995, 0.0628536878393631, -0.004255478374076801, -0.08539998124644958, -0.11564918403084569, -0.06971003821573216, -0.06768435739599685, -0.06185687939340309, -0.008971829302267453, -0.09478340906059884, -0.21822572062610687, -0.12052384491532903, -0.16695405020282159, -0.056236287270732814, -0.04590035027148437, -0.04287842554481791, -0.0270805636644517, -0.01798706056377719, -0.05856175682243587, -0.19986545284796559, -0.17036248090477876, -0.04522344129305783, -0.04354145590932383, -0.10376444658310763, -0.03338001441576141, -0.015449368156527766, -0.12684215535955826, -0.12847887223006896, -0.07948549093781093, -0.17008730979791295, -0.12156919520460026, -0.0709005322817501, -0.03271259091208848, -0.14252689400027943, -0.0783127332761879, -0.014386408135972438, -0.04256977464620001, -0.04915066362419985, -0.00890697656777109, 0.014974218002278787, -0.02003598024986491, -0.009525382866512291, -0.02019825825538927, 0.036781300700252914, -0.07423552675340181, -0.05788988956507224, -0.08309028369810485, -0.10147288738321798, -0.1733478087162007, -0.14256101993822506, -0.0338212876866109, -0.08121858059038968, -0.05144709399004056, -0.018672756959240432, -0.03148036815268754, -0.007300281974766026, 0.00648114013242623, -0.08563313944128828, -0.11047597935110921, -0.11039765066084614, -0.013202957625628575, -0.08870220109386537, -0.11310316234487437, -0.07755089551609348, -0.11366660530640206, -0.06923225819306462, -0.2417635254016304, -0.11240146587291619, -0.05721543292088539, -0.05846661384378917, -0.0728433244969107, -0.028153483526648104, -0.07382241828407717, -0.03492847449016234, -0.09096925737514325, -0.08561977805413983, -0.1831248868817497, -0.005790160812456834, -0.005040573527265853, -0.06817774274410227, 0.013718098670344432, -0.08192158261195921, -0.018961451810248612, -0.07472656996593714, -0.16545447985113446, -0.06494152280799519, -0.062431459077887747, -0.10406552210486471, -0.14179200874644574, -0.14179200874644574, -0.15624136370676844, -0.12249290847335316, -0.03891948041588116, -0.06121861520775706, -0.047472260319101636, -0.08004497743635566, -0.0598367638020871, 0.03832763995291266, -0.0057726113656267715, -0.09550429101344463, -0.05584245088038, -0.013170984319419661, -0.06923533799426944, -0.10478985727250288, -0.06991453467307715, -0.09698355583391745, -0.0011906997934497039, -0.08897756677180974, -0.050713722267475975, -0.02078240165469472, -0.016829583419362328, 0.004674091060971347, -0.0670052396880745, -0.08654274918778664, -0.02544689686294221, -0.07593924576798744, -0.17281846474543042, -0.005412262418115828, -0.06919215405737848, -0.04671427867996796, -0.007851818949990609, 0.01016907043178548, 0.0018498156768086333, -0.0762576568471539, -0.0812705676121269, -0.20042432230463916, -0.006423450358506308, -0.029859174209301224, -0.041687470663279144, -0.06721812612629552, -0.13551130133541378, 0.011196767577736109, 0.00033274119399298813, -0.05564377636781162, -0.12262188776171512, -0.1445424510950607, -0.06886760266645606, -0.026210779645041253, -0.14914522209122583, -0.05571381927463508, -0.03376022606471519, -0.003959357598513458, -0.14981928549199047, -0.15923565237367882, -0.09430087242495334, -0.11960685191302647, -0.13228143670674788, -0.05324471294062267, 0.04321922765124031, -0.08901821973616234, -0.1976256764826528, -0.05040418448202631, -0.037110356176198823, -0.13705209761966647, -0.06677383921196488, -0.11091390450457697, -0.03519091964984243, -0.0644787596813162, -0.03970039630749756, -0.1669888939836648, 0.00180546610066917, -0.09170807640193883, -0.1669888939836648, -0.054829608482380825, -0.014146911191216454, -0.014146911191216454, -0.0968808703987254, -0.06497319453002864, -0.03242206299860861, -0.0010905557127749083, -0.05183998341742796, -0.03341453678829566, -0.028908410134858543, -0.10598445255278177, -0.09204542665070752, -0.08686747285146497, -0.06594103725515156, -0.07162777915636398, 0.01827555125268837, -0.09413596329284281, -0.0476131060724943, -0.19746861730345944, -0.06673495855232486, -0.030623073532395413, -0.020310207633002682, -0.09044059450423578, -0.06366518569422346, -0.13737788222717762, -0.12926504799923363, -0.11122105315175201, -0.11848096968005555, -0.13201480058171555, -0.19426556236069678, -0.16904741551340446, -0.09025036009334843, -0.0925021109489764, -0.033832615215947215, -0.03752063275886304, 0.0055597073899691166, -0.14917556208028315, -0.17771690003664722, -0.14977376171581255, -0.06200956206175829, -0.2484444955279239, -0.0729707851698619, -0.06566213138378145, -0.11689536687234822, -0.026880948840770608, -0.2182447285882629, -0.042938142075076964, -0.17266918904214268, -0.06971003821573216, -0.126274694777507, -0.12793002720768173, -0.0294712422196774, -0.05562647027120326, -0.13724567809533844, -0.09130101276940687, -0.01071647183123689, -0.0617584772374076, -0.010112868835908468, 0.009082578389483356, -0.18629405081532618, -0.052941008570505085, -0.06311675166621383, -0.0002351381129978573, -0.008228711528028156, -0.11876105037606186, -0.012697129261046351, -0.05806240600901339, -0.18869841121332567, -0.10191498725334212, 0.051977594127555114, -0.05723246258678507, -0.06455977408566832, -0.038517966293311445, -0.014713992119777966, -0.08404457408287115, -0.09273124495231495, -0.08462725253414032, -0.16932223493030701, -0.13201231281371634, -0.10826202596543022, -0.02427780579326131, -0.2039021881187405, -0.03511680592235673, -0.11524595661730232, -0.06472294092349143, -0.07014947663126317, 0.02361371603495705, -0.09676400578018195, -0.152776257756347, -0.09428900785948285, -0.12228843355589576, -0.09533395153920747, -0.05341363064801874, -0.010787091853845777, 0.023223965191035704, -0.006539726120260624, 0.03107670031677254, -0.043689467996273476, -0.11111686220400227, -0.022913381016637372, -0.1084927800255879, -0.028308492583532734, -0.022180222939015486, -0.021026460793754125, -0.04254032384539836, -0.097969969069481, -0.012395108490424089, 0.019315262463344487, 0.006715845261181285, 0.008037450440082871, -0.026473853088216193, -0.025863691260691973, -0.05010361378889433, -0.02731038874556491, -0.024912365130842287, -0.007967702172361216, -0.018690146711048527, -0.0161318053385956, 0.00852550215046864, -0.08121497924994658, -0.0723777471160596, -0.03045592338449057, -0.031490003274090614, -0.025624356106580735, -0.019553654609763948, -0.057674322800962435, -0.01299174889808704, -0.06523115170783841, -0.0548880638196987, -0.0785091743379702, -0.040488899962212846, 0.05508920148426933, 0.05508920148426933, 0.011703399990130715, 0.012783783300184613, 0.027216726181575605, 0.01385764262641864], \"yaxis\": \"y\"}, {\"hoverlabel\": {\"namelength\": 0}, \"hovertemplate\": \"kmeans_labels=2<br>x=%{x}<br>y=%{y}\", \"legendgroup\": \"kmeans_labels=2\", \"marker\": {\"color\": \"#ab63fa\", \"symbol\": \"circle\"}, \"mode\": \"markers\", \"name\": \"kmeans_labels=2\", \"showlegend\": true, \"type\": \"scatter\", \"x\": [0.2534308046820906, 0.21414506652849694, 0.22600129009882444, 0.21745132804411627, 0.1198685949105018, 0.13984084270885103, 0.12120238340538664, 0.10649780592874179, 0.14945205062794384, 0.10169778082042595, 0.12012522747215566, 0.3133315999589781, 0.06332479042097582, 0.20984629732639018, 0.06167063057233558, 0.14887832620977448, 0.22554615515738438, 0.17597291200900986, 0.06167063057233558, 0.18915772146408089, 0.13946452377749805, 0.16198602715543628, 0.07278343075742928, 0.214834013888174, 0.23012084070467653, 0.21144170253208924, 0.1396386072941951, 0.1052542323008234, 0.25216201793727283, 0.16198602715543628, 0.07278343075742928, 0.19222529216540532, 0.09285371298744907, 0.1119399398002058, 0.08185590873442936, 0.16459323815568724, 0.11107210116783996, 0.1827014411750181, 0.1295315649219752, 0.2457911156329419, 0.25074970710514033, 0.21435739769354156, 0.2628292179434411, 0.16636075749252743, 0.06137215074008035, 0.19766510316877714, 0.13310611002476355, 0.18828013010551928, 0.2656567833253361, 0.2661685989258626, 0.23022891849500604, 0.1279248914326432, 0.2240440231801512, 0.11944886343410901, 0.056314028677915205, 0.2061341380896504, 0.1674529131022484, 0.1673287281884686, 0.22970847322727608, 0.29786738398945833, 0.20875276289215933, 0.1574880046810436, 0.12860315568564443, 0.1926324335029792, 0.3710400051799045, 0.13079955433324503, 0.2574517861320492, 0.34172801122306296, 0.15530186967917237, 0.30495677873551214, 0.24929349832046874, 0.35132569868856256, 0.1959689456344102, 0.16887191300025525, 0.06192376559068086, 0.1896102758162318, 0.24685749857224265, 0.17392180554288897, 0.2755012057357296, 0.3268960370967824, 0.32738818074800324, 0.10474729786047206, 0.2664180939489635, 0.2797552362445788, 0.28304515387261603, 0.27697469162155164, 0.1388663234134428, 0.0898325974512328, 0.2073750543399451, 0.031100044786518115, 0.14530443850205507, 0.17698184445039103, 0.11105053493545508, 0.17787149333023566, 0.1003055234567928, 0.16846001649464545, 0.08760989287325063, 0.01738878634522673, 0.08970656483007727, 0.09369273326601955, 0.06737189502537283, 0.04715031793127104, 0.20532459894738134, 0.28614015127668346, 0.20411876563735776, 0.11371816974442843, 0.16624003320060204, 0.1297105863265757, 0.1011430542203555, 0.2086506882300397, 0.11366557920347255, 0.23114540621588897, 0.103640451803018, 0.13483303255857101, 0.08430073675646808, 0.11959616123985573], \"xaxis\": \"x\", \"y\": [0.11939093855057695, 0.05720157177795716, 0.09701017452602795, 0.1771812839530151, 0.00895378137828024, 0.028703718892371794, 0.1067128695608428, 0.07327618366255849, 0.14624761234632191, 0.05962754963427463, 0.10351848525135285, 0.07163191653141153, 0.028538608855451703, 0.07565572952053441, 0.06381790994952116, 0.04719286887608866, 0.0648252742623284, 0.03179792507539289, 0.06381790994952116, 0.17103779156414242, 0.10979316041635523, 0.13985495747700818, 0.11232782766896872, 0.17287202015119293, 0.09103565306899732, 0.13324924137836608, 0.10951670298771989, 0.031746014931027244, 0.07457943547618497, 0.13985495747700818, 0.11232782766896872, 0.17591394084591824, 0.076265171290905, 0.04347360466895682, 0.09402967308922999, 0.09444925465969786, 0.06098574788039418, 0.0411170803604815, 0.1227415790549283, 0.030854272802987952, 0.05988854555632295, 0.1626240942225843, 0.17569773182174553, 0.09033942985662262, 0.07758929374391631, 0.03504135218721198, 0.06991400186568925, 0.050317546021641034, 0.1145457064984061, 0.11562210018469683, 0.1562550541859883, 0.1106806886628579, 0.11109058521228256, 0.10181739682575179, 0.08044454093812602, 0.11272664893387507, 0.16216164019242243, 0.1616587738523989, 0.16583242333059184, 0.017391355596559986, 0.05455314966146839, 0.15499092820210272, 0.07715034754643461, 0.026911518827425686, 0.06907972565027236, 0.028461916795836678, 0.20632353318598642, 0.016489573134344456, 0.0981235884406034, 0.0711034128600504, 0.2029757742394412, 0.06690162067436829, -0.00032003858054026183, 0.13890003191494765, 0.059500631840254135, 0.038735626412115545, 0.06025079133844703, 0.12918857902352968, 0.17868434962625282, 0.0634648879474351, 0.06613680655347476, 0.09643784782309457, 0.21426380378540874, 0.2044118327386501, 0.20600673107494144, 0.01894356171747012, 0.11351946865104201, 0.05052422605001793, 0.060245571630983326, 0.06994817073119981, 0.015820257096960298, 0.028740424952969523, -0.01935683258537638, 0.1277894134542427, 0.05409888106089471, 0.136332951139238, 0.07627311835728193, 0.0648332151906285, 0.0661868702482839, 0.12287010594107164, 0.0644103080771665, 0.05718715560466368, 0.0313529353426072, 0.02232142865831775, 0.12190326013469475, 0.10749906106123877, 0.11716480455175314, 0.12307861434863696, 0.07417638219600853, 0.027416873378039434, 0.049436554480716356, 0.02144579946541791, 0.0744813774422537, 0.10310721127053007, -0.002141026857584801, 0.08177229050270741], \"yaxis\": \"y\"}, {\"hoverlabel\": {\"namelength\": 0}, \"hovertemplate\": \"kmeans_labels=1<br>x=%{x}<br>y=%{y}\", \"legendgroup\": \"kmeans_labels=1\", \"marker\": {\"color\": \"#FFA15A\", \"symbol\": \"circle\"}, \"mode\": \"markers\", \"name\": \"kmeans_labels=1\", \"showlegend\": true, \"type\": \"scatter\", \"x\": [-0.04270433027627913, -0.05495473571181807, -0.055734239457500605, -0.06923742663778219, -0.038051671419757994, -0.054403463300792494, -0.059804742165025744, -0.04885380848501985, -0.055667618343894464, -0.051380616180696816, -0.027478500061816444, -0.038171501863836325, -0.04016082583793363, -0.046747112507929324, -0.051380616180696816, -0.06414529299969936, -0.04064943695107834, -0.04656981041118122, -0.06790521553064423, -0.060390303574976975, -0.055711417849251474, -0.07348586737107639, -0.04483926365204702, -0.04188092854323574, -0.022445529925340404, -0.06055740457237506, -0.057930697914372414, -0.061027354366252715, -0.04140832253515928, -0.056261312127331875, -0.06231791487880804, -0.04820709475026687, -0.033515732906092006, -0.02590200347115852, -0.06885093922242258, -0.07582225509190947, -0.05151050211016125, -0.055786130918702055, -0.05143424521515728, -0.043266385729291784, -0.06591192653186818, -0.04819990099400293, -0.07032827080743184, -0.05468491933570841, -0.0566550505636023, -0.07568081523356, -0.07568081523356, -0.05828671390507718, -0.05615032657152709, -0.04832808880426998, -0.03191663420254744, -0.04936949302930562, -0.0816047031383113, -0.069589980334718, -0.04107771565263953, -0.040005876158799886, -0.06210269530995109, -0.06269889572290037, -0.046189473024127806, -0.09998637230951242, -0.0539345520013492, -0.06486104007356792, -0.05458790183492509, -0.025378067720876717, -0.08053631007974119, -0.08062416766784654, -0.05115464236213234, -0.07717566670430172, -0.048217097276157174, -0.10311434615185529, -0.035940491778336636, -0.0296788675529358, -0.04724094960584828, -0.07994293601334838, -0.07204478179095644, -0.04186052685413073, -0.07207542595157239, -0.06633070344423458, -0.032340056966482685, -0.05101534535555311, -0.027645029283478267, -0.06095474148367955, -0.020841661650336116, -0.06218389205884014, -0.03777853423904584, -0.07891977113252448, 0.01714296852455024, -0.03178623162179307, -0.06334631389971869, -0.041589507180384934, -0.06665038988186574, -0.04813262195505964, -0.049778555687283586, -0.029122224303161724], \"xaxis\": \"x\", \"y\": [0.07803910325755474, 0.10534038600370942, 0.04827901890342127, 0.06949007236862771, 0.08898528605936498, 0.08613265552832697, 0.07900120802894164, 0.09581318217284306, 0.07998901751563202, 0.11604133133478275, 0.03332839621966016, 0.08699761672901718, 0.09607479184496882, 0.08778588898857355, 0.11604133133478275, 0.0516371095795917, 0.08933003113428774, 0.10614843471603401, 0.14254304784393604, 0.05987849254504129, 0.06558839002643818, 0.11750193308080825, 0.031207390327725966, 0.0966029255477062, 0.07497707981863429, 0.11585284426286335, 0.039085719099890094, 0.10762074468269138, 0.0595954312986006, 0.07154449999886732, 0.09267684137919929, 0.07232027457835248, 0.036025238026717483, 0.04197614572705785, 0.13570047415756423, 0.11945768138518864, 0.10167650468315603, 0.04862264737617829, 0.06798125641205982, 0.06691322158222059, 0.09689366349222575, 0.10564168813867596, 0.05934990861777838, 0.13913243344843435, 0.07898138357450649, 0.022535465650477926, 0.022535465650477926, 0.14565942462491613, 0.03373231171443923, 0.05275369986883211, 0.0428177236449864, 0.08005494931339524, 0.15131451190381262, 0.11059501462031017, 0.07574786227353314, 0.0735619229148315, 0.09701132155012375, 0.06320172368856652, 0.0934633401148497, 0.1492707890580138, 0.11403213458239739, 0.08123938065367554, 0.07491668697900553, 0.036459187332145065, 0.04476100485756244, 0.04494957782871064, 0.054383277175639726, 0.11025344729819603, 0.08266976946331751, 0.13463498439143803, 0.045012312315142175, 0.03842611762262243, 0.07839001328155155, 0.036339769334074824, 0.04754464879748759, 0.06922153510754907, 0.06406921104722904, 0.045862856217187324, 0.028614449382500722, 0.06756992287440862, 0.10610031619167702, 0.07063432528323768, 0.06846390152616025, 0.0775117180595055, 0.07595302781373178, 0.07605057893260751, 0.04702838246542477, 0.06723636602837166, 0.07955364916159655, 0.10509162514516841, 0.10871861319761408, 0.052883045531528804, 0.06007949560127723, 0.07146137762195749], \"yaxis\": \"y\"}],\n",
              "                        {\"legend\": {\"tracegroupgap\": 0}, \"template\": {\"data\": {\"bar\": [{\"error_x\": {\"color\": \"#2a3f5f\"}, \"error_y\": {\"color\": \"#2a3f5f\"}, \"marker\": {\"line\": {\"color\": \"#E5ECF6\", \"width\": 0.5}}, \"type\": \"bar\"}], \"barpolar\": [{\"marker\": {\"line\": {\"color\": \"#E5ECF6\", \"width\": 0.5}}, \"type\": \"barpolar\"}], \"carpet\": [{\"aaxis\": {\"endlinecolor\": \"#2a3f5f\", \"gridcolor\": \"white\", \"linecolor\": \"white\", \"minorgridcolor\": \"white\", \"startlinecolor\": \"#2a3f5f\"}, \"baxis\": {\"endlinecolor\": \"#2a3f5f\", \"gridcolor\": \"white\", \"linecolor\": \"white\", \"minorgridcolor\": \"white\", \"startlinecolor\": \"#2a3f5f\"}, \"type\": \"carpet\"}], \"choropleth\": [{\"colorbar\": {\"outlinewidth\": 0, \"ticks\": \"\"}, \"type\": \"choropleth\"}], \"contour\": [{\"colorbar\": {\"outlinewidth\": 0, \"ticks\": \"\"}, \"colorscale\": [[0.0, \"#0d0887\"], [0.1111111111111111, \"#46039f\"], [0.2222222222222222, \"#7201a8\"], [0.3333333333333333, \"#9c179e\"], [0.4444444444444444, \"#bd3786\"], [0.5555555555555556, \"#d8576b\"], [0.6666666666666666, \"#ed7953\"], [0.7777777777777778, \"#fb9f3a\"], [0.8888888888888888, \"#fdca26\"], [1.0, \"#f0f921\"]], \"type\": \"contour\"}], \"contourcarpet\": [{\"colorbar\": {\"outlinewidth\": 0, \"ticks\": \"\"}, \"type\": \"contourcarpet\"}], \"heatmap\": [{\"colorbar\": {\"outlinewidth\": 0, \"ticks\": \"\"}, \"colorscale\": [[0.0, \"#0d0887\"], [0.1111111111111111, \"#46039f\"], [0.2222222222222222, \"#7201a8\"], [0.3333333333333333, \"#9c179e\"], [0.4444444444444444, \"#bd3786\"], [0.5555555555555556, \"#d8576b\"], [0.6666666666666666, \"#ed7953\"], [0.7777777777777778, \"#fb9f3a\"], [0.8888888888888888, \"#fdca26\"], [1.0, \"#f0f921\"]], \"type\": \"heatmap\"}], \"heatmapgl\": [{\"colorbar\": {\"outlinewidth\": 0, \"ticks\": \"\"}, \"colorscale\": [[0.0, \"#0d0887\"], [0.1111111111111111, \"#46039f\"], [0.2222222222222222, \"#7201a8\"], [0.3333333333333333, \"#9c179e\"], [0.4444444444444444, \"#bd3786\"], [0.5555555555555556, \"#d8576b\"], [0.6666666666666666, \"#ed7953\"], [0.7777777777777778, \"#fb9f3a\"], [0.8888888888888888, \"#fdca26\"], [1.0, \"#f0f921\"]], \"type\": \"heatmapgl\"}], \"histogram\": [{\"marker\": {\"colorbar\": {\"outlinewidth\": 0, \"ticks\": \"\"}}, \"type\": \"histogram\"}], \"histogram2d\": [{\"colorbar\": {\"outlinewidth\": 0, \"ticks\": \"\"}, \"colorscale\": [[0.0, \"#0d0887\"], [0.1111111111111111, \"#46039f\"], [0.2222222222222222, \"#7201a8\"], [0.3333333333333333, \"#9c179e\"], [0.4444444444444444, \"#bd3786\"], [0.5555555555555556, \"#d8576b\"], [0.6666666666666666, \"#ed7953\"], [0.7777777777777778, \"#fb9f3a\"], [0.8888888888888888, \"#fdca26\"], [1.0, \"#f0f921\"]], \"type\": \"histogram2d\"}], \"histogram2dcontour\": [{\"colorbar\": {\"outlinewidth\": 0, \"ticks\": \"\"}, \"colorscale\": [[0.0, \"#0d0887\"], [0.1111111111111111, \"#46039f\"], [0.2222222222222222, \"#7201a8\"], [0.3333333333333333, \"#9c179e\"], [0.4444444444444444, \"#bd3786\"], [0.5555555555555556, \"#d8576b\"], [0.6666666666666666, \"#ed7953\"], [0.7777777777777778, \"#fb9f3a\"], [0.8888888888888888, \"#fdca26\"], [1.0, \"#f0f921\"]], \"type\": \"histogram2dcontour\"}], \"mesh3d\": [{\"colorbar\": {\"outlinewidth\": 0, \"ticks\": \"\"}, \"type\": \"mesh3d\"}], \"parcoords\": [{\"line\": {\"colorbar\": {\"outlinewidth\": 0, \"ticks\": \"\"}}, \"type\": \"parcoords\"}], \"pie\": [{\"automargin\": true, \"type\": \"pie\"}], \"scatter\": [{\"marker\": {\"colorbar\": {\"outlinewidth\": 0, \"ticks\": \"\"}}, \"type\": \"scatter\"}], \"scatter3d\": [{\"line\": {\"colorbar\": {\"outlinewidth\": 0, \"ticks\": \"\"}}, \"marker\": {\"colorbar\": {\"outlinewidth\": 0, \"ticks\": \"\"}}, \"type\": \"scatter3d\"}], \"scattercarpet\": [{\"marker\": {\"colorbar\": {\"outlinewidth\": 0, \"ticks\": \"\"}}, \"type\": \"scattercarpet\"}], \"scattergeo\": [{\"marker\": {\"colorbar\": {\"outlinewidth\": 0, \"ticks\": \"\"}}, \"type\": \"scattergeo\"}], \"scattergl\": [{\"marker\": {\"colorbar\": {\"outlinewidth\": 0, \"ticks\": \"\"}}, \"type\": \"scattergl\"}], \"scattermapbox\": [{\"marker\": {\"colorbar\": {\"outlinewidth\": 0, \"ticks\": \"\"}}, \"type\": \"scattermapbox\"}], \"scatterpolar\": [{\"marker\": {\"colorbar\": {\"outlinewidth\": 0, \"ticks\": \"\"}}, \"type\": \"scatterpolar\"}], \"scatterpolargl\": [{\"marker\": {\"colorbar\": {\"outlinewidth\": 0, \"ticks\": \"\"}}, \"type\": \"scatterpolargl\"}], \"scatterternary\": [{\"marker\": {\"colorbar\": {\"outlinewidth\": 0, \"ticks\": \"\"}}, \"type\": \"scatterternary\"}], \"surface\": [{\"colorbar\": {\"outlinewidth\": 0, \"ticks\": \"\"}, \"colorscale\": [[0.0, \"#0d0887\"], [0.1111111111111111, \"#46039f\"], [0.2222222222222222, \"#7201a8\"], [0.3333333333333333, \"#9c179e\"], [0.4444444444444444, \"#bd3786\"], [0.5555555555555556, \"#d8576b\"], [0.6666666666666666, \"#ed7953\"], [0.7777777777777778, \"#fb9f3a\"], [0.8888888888888888, \"#fdca26\"], [1.0, \"#f0f921\"]], \"type\": \"surface\"}], \"table\": [{\"cells\": {\"fill\": {\"color\": \"#EBF0F8\"}, \"line\": {\"color\": \"white\"}}, \"header\": {\"fill\": {\"color\": \"#C8D4E3\"}, \"line\": {\"color\": \"white\"}}, \"type\": \"table\"}]}, \"layout\": {\"annotationdefaults\": {\"arrowcolor\": \"#2a3f5f\", \"arrowhead\": 0, \"arrowwidth\": 1}, \"coloraxis\": {\"colorbar\": {\"outlinewidth\": 0, \"ticks\": \"\"}}, \"colorscale\": {\"diverging\": [[0, \"#8e0152\"], [0.1, \"#c51b7d\"], [0.2, \"#de77ae\"], [0.3, \"#f1b6da\"], [0.4, \"#fde0ef\"], [0.5, \"#f7f7f7\"], [0.6, \"#e6f5d0\"], [0.7, \"#b8e186\"], [0.8, \"#7fbc41\"], [0.9, \"#4d9221\"], [1, \"#276419\"]], \"sequential\": [[0.0, \"#0d0887\"], [0.1111111111111111, \"#46039f\"], [0.2222222222222222, \"#7201a8\"], [0.3333333333333333, \"#9c179e\"], [0.4444444444444444, \"#bd3786\"], [0.5555555555555556, \"#d8576b\"], [0.6666666666666666, \"#ed7953\"], [0.7777777777777778, \"#fb9f3a\"], [0.8888888888888888, \"#fdca26\"], [1.0, \"#f0f921\"]], \"sequentialminus\": [[0.0, \"#0d0887\"], [0.1111111111111111, \"#46039f\"], [0.2222222222222222, \"#7201a8\"], [0.3333333333333333, \"#9c179e\"], [0.4444444444444444, \"#bd3786\"], [0.5555555555555556, \"#d8576b\"], [0.6666666666666666, \"#ed7953\"], [0.7777777777777778, \"#fb9f3a\"], [0.8888888888888888, \"#fdca26\"], [1.0, \"#f0f921\"]]}, \"colorway\": [\"#636efa\", \"#EF553B\", \"#00cc96\", \"#ab63fa\", \"#FFA15A\", \"#19d3f3\", \"#FF6692\", \"#B6E880\", \"#FF97FF\", \"#FECB52\"], \"font\": {\"color\": \"#2a3f5f\"}, \"geo\": {\"bgcolor\": \"white\", \"lakecolor\": \"white\", \"landcolor\": \"#E5ECF6\", \"showlakes\": true, \"showland\": true, \"subunitcolor\": \"white\"}, \"hoverlabel\": {\"align\": \"left\"}, \"hovermode\": \"closest\", \"mapbox\": {\"style\": \"light\"}, \"paper_bgcolor\": \"white\", \"plot_bgcolor\": \"#E5ECF6\", \"polar\": {\"angularaxis\": {\"gridcolor\": \"white\", \"linecolor\": \"white\", \"ticks\": \"\"}, \"bgcolor\": \"#E5ECF6\", \"radialaxis\": {\"gridcolor\": \"white\", \"linecolor\": \"white\", \"ticks\": \"\"}}, \"scene\": {\"xaxis\": {\"backgroundcolor\": \"#E5ECF6\", \"gridcolor\": \"white\", \"gridwidth\": 2, \"linecolor\": \"white\", \"showbackground\": true, \"ticks\": \"\", \"zerolinecolor\": \"white\"}, \"yaxis\": {\"backgroundcolor\": \"#E5ECF6\", \"gridcolor\": \"white\", \"gridwidth\": 2, \"linecolor\": \"white\", \"showbackground\": true, \"ticks\": \"\", \"zerolinecolor\": \"white\"}, \"zaxis\": {\"backgroundcolor\": \"#E5ECF6\", \"gridcolor\": \"white\", \"gridwidth\": 2, \"linecolor\": \"white\", \"showbackground\": true, \"ticks\": \"\", \"zerolinecolor\": \"white\"}}, \"shapedefaults\": {\"line\": {\"color\": \"#2a3f5f\"}}, \"ternary\": {\"aaxis\": {\"gridcolor\": \"white\", \"linecolor\": \"white\", \"ticks\": \"\"}, \"baxis\": {\"gridcolor\": \"white\", \"linecolor\": \"white\", \"ticks\": \"\"}, \"bgcolor\": \"#E5ECF6\", \"caxis\": {\"gridcolor\": \"white\", \"linecolor\": \"white\", \"ticks\": \"\"}}, \"title\": {\"x\": 0.05}, \"xaxis\": {\"automargin\": true, \"gridcolor\": \"white\", \"linecolor\": \"white\", \"ticks\": \"\", \"title\": {\"standoff\": 15}, \"zerolinecolor\": \"white\", \"zerolinewidth\": 2}, \"yaxis\": {\"automargin\": true, \"gridcolor\": \"white\", \"linecolor\": \"white\", \"ticks\": \"\", \"title\": {\"standoff\": 15}, \"zerolinecolor\": \"white\", \"zerolinewidth\": 2}}}, \"title\": {\"text\": \"K-means BBC Sport news\"}, \"xaxis\": {\"anchor\": \"y\", \"domain\": [0.0, 1.0], \"title\": {\"text\": \"x\"}}, \"yaxis\": {\"anchor\": \"x\", \"domain\": [0.0, 1.0], \"title\": {\"text\": \"y\"}}},\n",
              "                        {\"responsive\": true}\n",
              "                    ).then(function(){\n",
              "                            \n",
              "var gd = document.getElementById('f49d5235-3829-4508-904a-0e7f5335a20a');\n",
              "var x = new MutationObserver(function (mutations, observer) {{\n",
              "        var display = window.getComputedStyle(gd).display;\n",
              "        if (!display || display === 'none') {{\n",
              "            console.log([gd, 'removed!']);\n",
              "            Plotly.purge(gd);\n",
              "            observer.disconnect();\n",
              "        }}\n",
              "}});\n",
              "\n",
              "// Listen for the removal of the full notebook cells\n",
              "var notebookContainer = gd.closest('#notebook-container');\n",
              "if (notebookContainer) {{\n",
              "    x.observe(notebookContainer, {childList: true});\n",
              "}}\n",
              "\n",
              "// Listen for the clearing of the current output cell\n",
              "var outputEl = gd.closest('.output');\n",
              "if (outputEl) {{\n",
              "    x.observe(outputEl, {childList: true});\n",
              "}}\n",
              "\n",
              "                        })\n",
              "                };\n",
              "                \n",
              "            </script>\n",
              "        </div>\n",
              "</body>\n",
              "</html>"
            ]
          },
          "metadata": {
            "tags": []
          }
        }
      ]
    }
  ]
}