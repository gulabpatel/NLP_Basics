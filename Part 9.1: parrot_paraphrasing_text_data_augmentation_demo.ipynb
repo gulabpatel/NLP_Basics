{
  "nbformat": 4,
  "nbformat_minor": 0,
  "metadata": {
    "colab": {
      "name": "Part 9.1: parrot_paraphrasing_text_data_augmentation_demo.ipynb",
      "provenance": [],
      "include_colab_link": true
    },
    "kernelspec": {
      "name": "python3",
      "display_name": "Python 3"
    },
    "language_info": {
      "name": "python"
    },
    "accelerator": "GPU"
  },
  "cells": [
    {
      "cell_type": "markdown",
      "metadata": {
        "id": "view-in-github",
        "colab_type": "text"
      },
      "source": [
        "<a href=\"https://colab.research.google.com/github/gulabpatel/NLP_Basics/blob/main/Part%209.1%3A%20parrot_paraphrasing_text_data_augmentation_demo.ipynb\" target=\"_parent\"><img src=\"https://colab.research.google.com/assets/colab-badge.svg\" alt=\"Open In Colab\"/></a>"
      ]
    },
    {
      "cell_type": "markdown",
      "metadata": {
        "id": "v3L4qLJCgtLK"
      },
      "source": [
        "Original github : https://github.com/PrithivirajDamodaran/Parrot_Paraphraser\n",
        "\n",
        "Video walkthrough the code : https://www.youtube.com/watch?v=EDh-FQ7mxGE\n"
      ]
    },
    {
      "cell_type": "code",
      "metadata": {
        "id": "Sa0t09vNlXc7"
      },
      "source": [
        "!pip install git+https://github.com/PrithivirajDamodaran/Parrot_Paraphraser.git"
      ],
      "execution_count": null,
      "outputs": []
    },
    {
      "cell_type": "code",
      "metadata": {
        "colab": {
          "base_uri": "https://localhost:8080/",
          "height": 53
        },
        "id": "_6DaMYUZl_WE",
        "outputId": "8d40be05-a1c0-4a28-ad0f-a5e54f5e3d6d"
      },
      "source": [
        "from parrot import Parrot\n",
        "import torch\n",
        "import warnings\n",
        "warnings.filterwarnings(\"ignore\")\n",
        "\n",
        "''' \n",
        "uncomment to get reproducable paraphrase generations\n",
        "def random_state(seed):\n",
        "  torch.manual_seed(seed)\n",
        "  if torch.cuda.is_available():\n",
        "    torch.cuda.manual_seed_all(seed)\n",
        "\n",
        "random_state(1234)\n",
        "'''"
      ],
      "execution_count": 2,
      "outputs": [
        {
          "output_type": "execute_result",
          "data": {
            "application/vnd.google.colaboratory.intrinsic+json": {
              "type": "string"
            },
            "text/plain": [
              "' \\nuncomment to get reproducable paraphrase generations\\ndef random_state(seed):\\n  torch.manual_seed(seed)\\n  if torch.cuda.is_available():\\n    torch.cuda.manual_seed_all(seed)\\n\\nrandom_state(1234)\\n'"
            ]
          },
          "metadata": {
            "tags": []
          },
          "execution_count": 2
        }
      ]
    },
    {
      "cell_type": "code",
      "metadata": {
        "id": "haQvby_4mPy5"
      },
      "source": [
        "#Init models (make sure you init ONLY once if you integrate this to your code)\n",
        "parrot = Parrot(model_tag=\"prithivida/parrot_paraphraser_on_T5\")"
      ],
      "execution_count": null,
      "outputs": []
    },
    {
      "cell_type": "code",
      "metadata": {
        "colab": {
          "base_uri": "https://localhost:8080/"
        },
        "id": "pBVQDvHCiSOA",
        "outputId": "16143930-243a-42fd-cb73-2a814868f8d8"
      },
      "source": [
        "phrases = [\"I unable to access my facebook account\",\n",
        "           \"What are the best courses available for learning Data Science? \"\n",
        "]\n",
        "\n",
        "for phrase in phrases:\n",
        "  print(\"-\"*100)\n",
        "  print(\"Input_phrase: \", phrase)\n",
        "  print(\"-\"*100)\n",
        "  para_phrases = parrot.augment(input_phrase=phrase, use_gpu=False)\n",
        "  for para_phrase in para_phrases:\n",
        "   print(para_phrase)"
      ],
      "execution_count": 4,
      "outputs": [
        {
          "output_type": "stream",
          "text": [
            "----------------------------------------------------------------------------------------------------\n",
            "Input_phrase:  I unable to access my facebook account\n",
            "----------------------------------------------------------------------------------------------------\n",
            "(\"i can't view my facebook account\", 24)\n",
            "('i can not open my facebook account', 24)\n",
            "(\"i'm unable to log in to facebook account\", 21)\n",
            "(\"i can't access my facebook account\", 19)\n",
            "('i cannot access my facebook account', 19)\n",
            "('i cant access my facebook account', 19)\n",
            "----------------------------------------------------------------------------------------------------\n",
            "Input_phrase:  What are the best courses available for learning Data Science? \n",
            "----------------------------------------------------------------------------------------------------\n",
            "('list the best data science courses?', 54)\n",
            "('what are best courses for learning data science?', 27)\n"
          ],
          "name": "stdout"
        }
      ]
    },
    {
      "cell_type": "code",
      "metadata": {
        "colab": {
          "base_uri": "https://localhost:8080/"
        },
        "id": "V0eVuVVrnt8M",
        "outputId": "9aca2638-bcf8-406f-8e88-19d8a50828b7"
      },
      "source": [
        "# Text Agumentation using diverse, adequacy, fluency\n",
        "phrases = [\"I unable to access my facebook account\",\n",
        "           \"What are the best courses available for learning Data Science? \"\n",
        "]\n",
        "\n",
        "for phrase in phrases:\n",
        "  print(\"-\"*100)\n",
        "  print(\"Input_phrase: \", phrase)\n",
        "  print(\"-\"*100)\n",
        "  para_phrases =  para_phrases = parrot.augment(input_phrase=phrase,\n",
        "                               use_gpu=False,\n",
        "                               diversity_ranker=\"levenshtein\",\n",
        "                               do_diverse=True, \n",
        "                               max_return_phrases = 10, \n",
        "                               max_length=32, \n",
        "                               adequacy_threshold = 0.99, \n",
        "                               fluency_threshold = 0.90)\n",
        "  for para_phrase in para_phrases:\n",
        "   print(para_phrase)"
      ],
      "execution_count": 5,
      "outputs": [
        {
          "output_type": "stream",
          "text": [
            "----------------------------------------------------------------------------------------------------\n",
            "Input_phrase:  I unable to access my facebook account\n",
            "----------------------------------------------------------------------------------------------------\n",
            "(\"i can't access my facebook account\", 19)\n",
            "('i cant access my facebook account', 19)\n",
            "(\"i'm not able to access my facebook account\", 15)\n",
            "(\"i'm unable to access my facebook account\", 13)\n",
            "----------------------------------------------------------------------------------------------------\n",
            "Input_phrase:  What are the best courses available for learning Data Science? \n",
            "----------------------------------------------------------------------------------------------------\n",
            "('recommend some good data science courses?', 59)\n",
            "('what is a good data science course?', 57)\n",
            "('what is a good course to learn data science from?', 44)\n",
            "('tell me the best course for learning data science?', 29)\n",
            "('can you list the best courses for learning data science?', 28)\n"
          ],
          "name": "stdout"
        }
      ]
    },
    {
      "cell_type": "code",
      "metadata": {
        "colab": {
          "base_uri": "https://localhost:8080/"
        },
        "id": "13l3NSvloNZJ",
        "outputId": "ba9f1252-707a-4d5e-aee3-c2351cb1fd25"
      },
      "source": [
        "## rephrase method\n",
        "\n",
        "\n",
        "phrases = [\"I unable to access my facebook account\",\n",
        "           \"What are the best courses available for learning Data Science? \"\n",
        "]\n",
        "\n",
        "for phrase in phrases:\n",
        "  print(\"-\"*100)\n",
        "  print(\"Input_phrase: \", phrase)\n",
        "  print(\"-\"*100)\n",
        "  para_phrases =  para_phrases = parrot.rephrase(input_phrase=phrase,\n",
        "                               use_gpu=False,\n",
        "                               diversity_ranker=\"levenshtein\",\n",
        "                               do_diverse=True, \n",
        "                               max_length=32, \n",
        "                               adequacy_threshold = 0.99, \n",
        "                               fluency_threshold = 0.90)\n",
        "  for para_phrase in para_phrases:\n",
        "   print(para_phrase)"
      ],
      "execution_count": 6,
      "outputs": [
        {
          "output_type": "stream",
          "text": [
            "----------------------------------------------------------------------------------------------------\n",
            "Input_phrase:  I unable to access my facebook account\n",
            "----------------------------------------------------------------------------------------------------\n",
            "i can't access my facebook account\n",
            "19\n",
            "----------------------------------------------------------------------------------------------------\n",
            "Input_phrase:  What are the best courses available for learning Data Science? \n",
            "----------------------------------------------------------------------------------------------------\n",
            "recommend some good data science courses?\n",
            "59\n"
          ],
          "name": "stdout"
        }
      ]
    },
    {
      "cell_type": "markdown",
      "metadata": {
        "id": "cjnaaWpymzjQ"
      },
      "source": [
        "------------------------------"
      ]
    }
  ]
}