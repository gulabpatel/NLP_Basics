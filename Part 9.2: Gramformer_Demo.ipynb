{
  "nbformat": 4,
  "nbformat_minor": 0,
  "metadata": {
    "colab": {
      "name": "Part 9.2: Gramformer_Demo.ipynb",
      "provenance": [],
      "collapsed_sections": [],
      "include_colab_link": true
    },
    "kernelspec": {
      "display_name": "Python 3",
      "name": "python3"
    },
    "language_info": {
      "name": "python"
    }
  },
  "cells": [
    {
      "cell_type": "markdown",
      "metadata": {
        "id": "view-in-github",
        "colab_type": "text"
      },
      "source": [
        "<a href=\"https://colab.research.google.com/github/gulabpatel/NLP_Basics/blob/main/Part%209.2%3A%20Gramformer_Demo.ipynb\" target=\"_parent\"><img src=\"https://colab.research.google.com/assets/colab-badge.svg\" alt=\"Open In Colab\"/></a>"
      ]
    },
    {
      "cell_type": "markdown",
      "metadata": {
        "id": "xuxui60kppu5"
      },
      "source": [
        "Video walkthrough the code : https://www.youtube.com/watch?v=3rKmeAf2p0A\n",
        "\n",
        "Original github repo : https://github.com/PrithivirajDamodaran/Gramformer"
      ]
    },
    {
      "cell_type": "code",
      "metadata": {
        "id": "_ZjpGQRjivzX"
      },
      "source": [
        "pip install git+https://github.com/PrithivirajDamodaran/Gramformer.git@v0.1"
      ],
      "execution_count": null,
      "outputs": []
    },
    {
      "cell_type": "code",
      "metadata": {
        "id": "kKMlPK0VqWPy"
      },
      "source": [
        "from gramformer import Gramformer\n",
        "import torch"
      ],
      "execution_count": 3,
      "outputs": []
    },
    {
      "cell_type": "code",
      "metadata": {
        "colab": {
          "base_uri": "https://localhost:8080/"
        },
        "id": "iKbgGrqni3JW",
        "outputId": "cce0edcd-fe43-4a2a-d93e-0440fa543059"
      },
      "source": [
        "def set_seed(seed):\n",
        "  torch.manual_seed(seed)\n",
        "  if torch.cuda.is_available():\n",
        "    torch.cuda.manual_seed_all(seed)\n",
        "\n",
        "set_seed(1212)\n",
        "\n",
        "\n",
        "gf = Gramformer(models = 2, use_gpu=False) # 0=detector, 1=highlighter, 2=corrector, 3=all \n",
        "\n",
        "influent_sentences = [\n",
        "    \"My iphone not working\",\n",
        "    \"See you tmrw\",\n",
        "    \"i dunno how is the weather like  tomrrow\",\n",
        "    \"Why price so high\",\n",
        "    \"I done homework\",\n",
        "    \"Car not started\",\n",
        "    \"What bank balance, account not accessible\",\n",
        "    \"It rain today\",\n",
        "    \"He going to school, I staying home\",\n",
        "    \"Bengaluru beautiful city full of gardens\",\n",
        "    \"India huge population\",\n",
        "    \"We enjoys horror movies\",\n",
        "    \"Anna and Mike is going skiing\",\n",
        "    \"I walk to the store and I bought milk\",\n",
        "    \"We all eat the fish and then made dessert\",\n",
        "    \"I will eat fish for dinner and drank milk\",\n",
        "    \"what be the reason for everyone leave the company\",\n",
        "]   \n",
        "\n",
        "for influent_sentence in influent_sentences:\n",
        "    corrected_sentence = gf.correct(influent_sentence)\n",
        "    print(\"[Input] \", influent_sentence)\n",
        "    print(\"[Correction] \",corrected_sentence[0])\n",
        "    print(\"-\" *100)"
      ],
      "execution_count": 4,
      "outputs": [
        {
          "output_type": "stream",
          "text": [
            "[Gramformer] Grammar error correction model loaded..\n",
            "[Input]  My iphone not working\n",
            "[Correction]  My iPhone is not working\n",
            "----------------------------------------------------------------------------------------------------\n",
            "[Input]  See you tmrw\n",
            "[Correction]  See you tomorrow\n",
            "----------------------------------------------------------------------------------------------------\n",
            "[Input]  i dunno how is the weather like  tomrrow\n",
            "[Correction]  I don't know how the weather will be like tomorrow.\n",
            "----------------------------------------------------------------------------------------------------\n",
            "[Input]  Why price so high\n",
            "[Correction]  Why is the price so high?\n",
            "----------------------------------------------------------------------------------------------------\n",
            "[Input]  I done homework\n",
            "[Correction]  I've done my homework\n",
            "----------------------------------------------------------------------------------------------------\n",
            "[Input]  Car not started\n",
            "[Correction]  Car has not started\n",
            "----------------------------------------------------------------------------------------------------\n",
            "[Input]  What bank balance, account not accessible\n",
            "[Correction]  The bank balance, account is not accessible\n",
            "----------------------------------------------------------------------------------------------------\n",
            "[Input]  It rain today\n",
            "[Correction]  It's raining today.\n",
            "----------------------------------------------------------------------------------------------------\n",
            "[Input]  He going to school, I staying home\n",
            "[Correction]  He is going to school, while I am staying home\n",
            "----------------------------------------------------------------------------------------------------\n",
            "[Input]  Bengaluru beautiful city full of gardens\n",
            "[Correction]  Bengaluru is a beautiful city with gardens.\n",
            "----------------------------------------------------------------------------------------------------\n",
            "[Input]  India huge population\n",
            "[Correction]  India's huge population\n",
            "----------------------------------------------------------------------------------------------------\n",
            "[Input]  We enjoys horror movies\n",
            "[Correction]  We enjoy horror movies\n",
            "----------------------------------------------------------------------------------------------------\n",
            "[Input]  Anna and Mike is going skiing\n",
            "[Correction]  Anna and Mike are going skiing\n",
            "----------------------------------------------------------------------------------------------------\n",
            "[Input]  I walk to the store and I bought milk\n",
            "[Correction]  I walked to the store and I bought milk.\n",
            "----------------------------------------------------------------------------------------------------\n",
            "[Input]  We all eat the fish and then made dessert\n",
            "[Correction]  We all ate the fish and then made dessert.\n",
            "----------------------------------------------------------------------------------------------------\n",
            "[Input]  I will eat fish for dinner and drank milk\n",
            "[Correction]  I will eat fish for dinner and drink milk\n",
            "----------------------------------------------------------------------------------------------------\n",
            "[Input]  what be the reason for everyone leave the company\n",
            "[Correction]  What will be the reason for everyone to leave the company\n",
            "----------------------------------------------------------------------------------------------------\n"
          ],
          "name": "stdout"
        }
      ]
    },
    {
      "cell_type": "code",
      "metadata": {
        "id": "u9gz16a-oY2i"
      },
      "source": [
        "!pip install fastapi nest-asyncio pyngrok uvicorn"
      ],
      "execution_count": null,
      "outputs": []
    },
    {
      "cell_type": "code",
      "metadata": {
        "id": "Q0Ouo6TDopwL"
      },
      "source": [
        "from fastapi import FastAPI\n",
        "from pydantic import BaseModel\n",
        "app = FastAPI()\n",
        "\n",
        "class UserRequestIn(BaseModel):\n",
        "    text: str\n",
        "\n",
        "\n",
        "@app.post(\"/correctText\")\n",
        "def correct_text(user_request_in: UserRequestIn):\n",
        "    correct_sentence =  gf.correct(user_request_in.text)\n",
        "    print(correct_sentence)\n",
        "    return {'text': correct_sentence}\n",
        "    "
      ],
      "execution_count": 6,
      "outputs": []
    },
    {
      "cell_type": "code",
      "metadata": {
        "colab": {
          "background_save": true,
          "base_uri": "https://localhost:8080/"
        },
        "id": "752k3bpuo0A6",
        "outputId": "a9d8a3dc-ffa2-41a9-a2ed-79450348eabf"
      },
      "source": [
        "import nest_asyncio\n",
        "from pyngrok import ngrok\n",
        "import uvicorn\n",
        "\n",
        "ngrok_tunnel = ngrok.connect(8000)\n",
        "print('Public URL:', ngrok_tunnel.public_url)\n",
        "nest_asyncio.apply()\n",
        "uvicorn.run(app, port=8000)"
      ],
      "execution_count": null,
      "outputs": [
        {
          "output_type": "stream",
          "text": [
            "Public URL: http://9c660702a94b.ngrok.io\n"
          ],
          "name": "stdout"
        },
        {
          "output_type": "stream",
          "text": [
            "INFO:     Started server process [63]\n",
            "INFO:     Waiting for application startup.\n",
            "INFO:     Application startup complete.\n",
            "INFO:     Uvicorn running on http://127.0.0.1:8000 (Press CTRL+C to quit)\n"
          ],
          "name": "stderr"
        },
        {
          "output_type": "stream",
          "text": [
            "INFO:     2405:204:a711:1110:a9c1:bb04:840:1314:0 - \"GET / HTTP/1.1\" 404 Not Found\n",
            "INFO:     2405:204:a711:1110:a9c1:bb04:840:1314:0 - \"GET /favicon.ico HTTP/1.1\" 404 Not Found\n"
          ],
          "name": "stdout"
        }
      ]
    },
    {
      "cell_type": "markdown",
      "metadata": {
        "id": "elRJ4uWqsHTi"
      },
      "source": [
        "-----------------------------"
      ]
    }
  ]
}