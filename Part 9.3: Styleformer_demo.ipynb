{
  "nbformat": 4,
  "nbformat_minor": 0,
  "metadata": {
    "colab": {
      "name": "Part 9.3: Styleformer_demo.ipynb",
      "provenance": [],
      "authorship_tag": "ABX9TyPArfZzKdBPu7+fsu3MK6GN",
      "include_colab_link": true
    },
    "kernelspec": {
      "name": "python3",
      "display_name": "Python 3"
    },
    "language_info": {
      "name": "python"
    }
  },
  "cells": [
    {
      "cell_type": "markdown",
      "metadata": {
        "id": "view-in-github",
        "colab_type": "text"
      },
      "source": [
        "<a href=\"https://colab.research.google.com/github/gulabpatel/NLP_Basics/blob/main/Part%209.3%3A%20Styleformer_demo.ipynb\" target=\"_parent\"><img src=\"https://colab.research.google.com/assets/colab-badge.svg\" alt=\"Open In Colab\"/></a>"
      ]
    },
    {
      "cell_type": "markdown",
      "metadata": {
        "id": "_O8GZTcxvvj7"
      },
      "source": [
        "A Neural Language Style Transfer framework to transfer natural language text smoothly between fine-grained language styles like formal/casual, active/passive, and many more.For instance, understand What makes text formal or casual/informal.\n",
        "\n",
        "original github repo : https://github.com/PrithivirajDamodaran/Styleformer"
      ]
    },
    {
      "cell_type": "code",
      "metadata": {
        "id": "4izWyy9ovueE"
      },
      "source": [
        "!pip install git+https://github.com/PrithivirajDamodaran/Styleformer.git"
      ],
      "execution_count": null,
      "outputs": []
    },
    {
      "cell_type": "code",
      "metadata": {
        "colab": {
          "base_uri": "https://localhost:8080/",
          "height": 53
        },
        "id": "FpYT5trOwFmi",
        "outputId": "02a30dfc-0791-4ced-aa1a-60bcc932eb8a"
      },
      "source": [
        "from styleformer import Styleformer\n",
        "import torch\n",
        "import warnings\n",
        "warnings.filterwarnings(\"ignore\")\n",
        "\n",
        "'''\n",
        "#uncomment for re-producability\n",
        "def set_seed(seed):\n",
        "  torch.manual_seed(seed)\n",
        "  if torch.cuda.is_available():\n",
        "    torch.cuda.manual_seed_all(seed)\n",
        "\n",
        "set_seed(1234)\n",
        "'''"
      ],
      "execution_count": 2,
      "outputs": [
        {
          "output_type": "execute_result",
          "data": {
            "application/vnd.google.colaboratory.intrinsic+json": {
              "type": "string"
            },
            "text/plain": [
              "'\\n#uncomment for re-producability\\ndef set_seed(seed):\\n  torch.manual_seed(seed)\\n  if torch.cuda.is_available():\\n    torch.cuda.manual_seed_all(seed)\\n\\nset_seed(1234)\\n'"
            ]
          },
          "metadata": {
            "tags": []
          },
          "execution_count": 2
        }
      ]
    },
    {
      "cell_type": "code",
      "metadata": {
        "colab": {
          "base_uri": "https://localhost:8080/"
        },
        "id": "Fv14tqcAwN7v",
        "outputId": "c603ad3a-38cb-417b-bebe-a926121fef67"
      },
      "source": [
        "# style = [0=Casual to Formal, 1=Formal to Casual, 2=Active to Passive, 3=Passive to Active etc..]\n",
        "sf = Styleformer(style = 0) "
      ],
      "execution_count": 3,
      "outputs": [
        {
          "output_type": "stream",
          "text": [
            "Casual to Formal model loaded...\n"
          ],
          "name": "stdout"
        }
      ]
    },
    {
      "cell_type": "code",
      "metadata": {
        "colab": {
          "base_uri": "https://localhost:8080/"
        },
        "id": "XMT3LoZnwN4_",
        "outputId": "1859e559-5cbb-423f-ac57-a3834ce5f4a1"
      },
      "source": [
        "source_sentences = [\n",
        "\"I am quitting my job\",\n",
        "\"Jimmy is on crack and can't trust him\",\n",
        "\"What do guys do to show that they like a gal?\",\n",
        "\"i loooooooooooooooooooooooove going to the movies.\",\n",
        "\"That movie was fucking awesome\",\n",
        "\"My mom is doing fine\",\n",
        "\"That was funny LOL\" , \n",
        "\"It's piece of cake, we can do it\",\n",
        "\"btw - ur avatar looks familiar\",\n",
        "\"who gives a crap?\",\n",
        "\"Howdy Lucy! been ages since we last met.\",\n",
        "\"Dude, this car's dope!\",\n",
        "\"She's my bestie from college\",\n",
        "\"I kinda have a feeling that he has a crush on you.\",\n",
        "\"OMG! It's finger-lickin' good.\",\n",
        "]   \n",
        "\n",
        "for source_sentence in source_sentences:\n",
        "    target_sentence = sf.transfer(source_sentence)\n",
        "    print(\"-\" *100)\n",
        "    print(\"[Informal] \", source_sentence)\n",
        "    print(\"-\" *100)\n",
        "    if target_sentence is not None:\n",
        "        print(\"[Formal] \",target_sentence)\n",
        "        print()\n",
        "    else:\n",
        "        print(\"No good quality transfers available !\")"
      ],
      "execution_count": 4,
      "outputs": [
        {
          "output_type": "stream",
          "text": [
            "----------------------------------------------------------------------------------------------------\n",
            "[Informal]  I am quitting my job\n",
            "----------------------------------------------------------------------------------------------------\n",
            "[Formal]  I am quitting my job.\n",
            "\n",
            "----------------------------------------------------------------------------------------------------\n",
            "[Informal]  Jimmy is on crack and can't trust him\n",
            "----------------------------------------------------------------------------------------------------\n",
            "[Formal]  Jimmy is a drug addict, so I cannot trust him.\n",
            "\n",
            "----------------------------------------------------------------------------------------------------\n",
            "[Informal]  What do guys do to show that they like a gal?\n",
            "----------------------------------------------------------------------------------------------------\n",
            "[Formal]  What can a male do to tell a woman that he is interested in her?\n",
            "\n",
            "----------------------------------------------------------------------------------------------------\n",
            "[Informal]  i loooooooooooooooooooooooove going to the movies.\n",
            "----------------------------------------------------------------------------------------------------\n",
            "[Formal]  I enjoy going to the movies.\n",
            "\n",
            "----------------------------------------------------------------------------------------------------\n",
            "[Informal]  That movie was fucking awesome\n",
            "----------------------------------------------------------------------------------------------------\n",
            "[Formal]  The movie was incredible.\n",
            "\n",
            "----------------------------------------------------------------------------------------------------\n",
            "[Informal]  My mom is doing fine\n",
            "----------------------------------------------------------------------------------------------------\n",
            "[Formal]  My mom is doing well.\n",
            "\n",
            "----------------------------------------------------------------------------------------------------\n",
            "[Informal]  That was funny LOL\n",
            "----------------------------------------------------------------------------------------------------\n",
            "[Formal]  That was funny.\n",
            "\n",
            "----------------------------------------------------------------------------------------------------\n",
            "[Informal]  It's piece of cake, we can do it\n",
            "----------------------------------------------------------------------------------------------------\n",
            "[Formal]  It's very easy. We are able to accomplish it.\n",
            "\n",
            "----------------------------------------------------------------------------------------------------\n",
            "[Informal]  btw - ur avatar looks familiar\n",
            "----------------------------------------------------------------------------------------------------\n",
            "[Formal]  'By the way,' your avatar appears to be familiar.\n",
            "\n",
            "----------------------------------------------------------------------------------------------------\n",
            "[Informal]  who gives a crap?\n",
            "----------------------------------------------------------------------------------------------------\n",
            "[Formal]  Who cares?\n",
            "\n",
            "----------------------------------------------------------------------------------------------------\n",
            "[Informal]  Howdy Lucy! been ages since we last met.\n",
            "----------------------------------------------------------------------------------------------------\n",
            "[Formal]  It has been a long time since we last met.\n",
            "\n",
            "----------------------------------------------------------------------------------------------------\n",
            "[Informal]  Dude, this car's dope!\n",
            "----------------------------------------------------------------------------------------------------\n",
            "[Formal]  This car is very cool.\n",
            "\n",
            "----------------------------------------------------------------------------------------------------\n",
            "[Informal]  She's my bestie from college\n",
            "----------------------------------------------------------------------------------------------------\n",
            "[Formal]  She is my best friend since college.\n",
            "\n",
            "----------------------------------------------------------------------------------------------------\n",
            "[Informal]  I kinda have a feeling that he has a crush on you.\n",
            "----------------------------------------------------------------------------------------------------\n",
            "[Formal]  I feel that he's very fond of you.\n",
            "\n",
            "----------------------------------------------------------------------------------------------------\n",
            "[Informal]  OMG! It's finger-lickin' good.\n",
            "----------------------------------------------------------------------------------------------------\n",
            "[Formal]  It is mouthwatering.\n",
            "\n"
          ],
          "name": "stdout"
        }
      ]
    },
    {
      "cell_type": "code",
      "metadata": {
        "colab": {
          "base_uri": "https://localhost:8080/"
        },
        "id": "pPQamw65xTbX",
        "outputId": "62ef78f5-68c6-4f3f-aa41-f21ef4a53212"
      },
      "source": [
        "!pip install fastapi nest-asyncio pyngrok uvicorn"
      ],
      "execution_count": 5,
      "outputs": [
        {
          "output_type": "stream",
          "text": [
            "Requirement already satisfied: fastapi in /usr/local/lib/python3.7/dist-packages (0.65.2)\n",
            "Requirement already satisfied: nest-asyncio in /usr/local/lib/python3.7/dist-packages (1.5.1)\n",
            "Requirement already satisfied: pyngrok in /usr/local/lib/python3.7/dist-packages (5.0.5)\n",
            "Requirement already satisfied: uvicorn in /usr/local/lib/python3.7/dist-packages (0.14.0)\n",
            "Requirement already satisfied: starlette==0.14.2 in /usr/local/lib/python3.7/dist-packages (from fastapi) (0.14.2)\n",
            "Requirement already satisfied: pydantic!=1.7,!=1.7.1,!=1.7.2,!=1.7.3,!=1.8,!=1.8.1,<2.0.0,>=1.6.2 in /usr/local/lib/python3.7/dist-packages (from fastapi) (1.8.2)\n",
            "Requirement already satisfied: PyYAML in /usr/local/lib/python3.7/dist-packages (from pyngrok) (3.13)\n",
            "Requirement already satisfied: h11>=0.8 in /usr/local/lib/python3.7/dist-packages (from uvicorn) (0.12.0)\n",
            "Requirement already satisfied: asgiref>=3.3.4 in /usr/local/lib/python3.7/dist-packages (from uvicorn) (3.3.4)\n",
            "Requirement already satisfied: click>=7.* in /usr/local/lib/python3.7/dist-packages (from uvicorn) (7.1.2)\n",
            "Requirement already satisfied: typing-extensions; python_version < \"3.8\" in /usr/local/lib/python3.7/dist-packages (from uvicorn) (3.7.4.3)\n"
          ],
          "name": "stdout"
        }
      ]
    },
    {
      "cell_type": "code",
      "metadata": {
        "id": "iOp0sLSMxTYH"
      },
      "source": [
        "from fastapi import FastAPI\n",
        "from pydantic import BaseModel\n",
        "app = FastAPI()\n",
        "\n",
        "class UserRequestIn(BaseModel):\n",
        "    text: str\n",
        "\n",
        "\n",
        "@app.post(\"/correctText\")\n",
        "def correct_text(user_request_in: UserRequestIn):\n",
        "    tranformed_sentence =  sf.transfer(user_request_in.text)\n",
        "    print(tranformed_sentence)\n",
        "    return {'text': tranformed_sentence}"
      ],
      "execution_count": 6,
      "outputs": []
    },
    {
      "cell_type": "code",
      "metadata": {
        "colab": {
          "base_uri": "https://localhost:8080/"
        },
        "id": "c0BBYY8_xTTh",
        "outputId": "040a73e9-12c3-413b-fbd2-beb24a47ba76"
      },
      "source": [
        "import nest_asyncio\n",
        "from pyngrok import ngrok\n",
        "import uvicorn\n",
        "\n",
        "ngrok_tunnel = ngrok.connect(8000)\n",
        "print('Public URL:', ngrok_tunnel.public_url)\n",
        "nest_asyncio.apply()\n",
        "uvicorn.run(app, port=8000)"
      ],
      "execution_count": 7,
      "outputs": [
        {
          "output_type": "stream",
          "text": [
            "Public URL: http://d610cbe62d90.ngrok.io\n"
          ],
          "name": "stdout"
        }
      ]
    }
  ]
}